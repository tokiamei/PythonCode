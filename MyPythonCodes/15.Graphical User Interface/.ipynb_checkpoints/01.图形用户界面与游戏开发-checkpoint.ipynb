{
 "cells": [
  {
   "cell_type": "markdown",
   "id": "9dad218a-313f-4a5c-b759-4b0808be13fe",
   "metadata": {
    "execution": {
     "iopub.execute_input": "2022-09-20T08:08:47.855936Z",
     "iopub.status.busy": "2022-09-20T08:08:47.855522Z",
     "iopub.status.idle": "2022-09-20T08:08:47.861552Z",
     "shell.execute_reply": "2022-09-20T08:08:47.860253Z",
     "shell.execute_reply.started": "2022-09-20T08:08:47.855873Z"
    },
    "tags": []
   },
   "source": [
    "# 基于 tkinter 做一个简单的应用\n"
   ]
  },
  {
   "cell_type": "code",
   "execution_count": 2,
   "id": "60840484-bfed-47c7-a102-6e67206bef8c",
   "metadata": {
    "execution": {
     "iopub.execute_input": "2022-09-20T08:08:57.857730Z",
     "iopub.status.busy": "2022-09-20T08:08:57.857324Z",
     "iopub.status.idle": "2022-09-20T08:08:57.941337Z",
     "shell.execute_reply": "2022-09-20T08:08:57.939454Z",
     "shell.execute_reply.started": "2022-09-20T08:08:57.857673Z"
    },
    "tags": []
   },
   "outputs": [
    {
     "ename": "ModuleNotFoundError",
     "evalue": "No module named 'tkinter'",
     "output_type": "error",
     "traceback": [
      "\u001b[0;31m---------------------------------------------------------------------------\u001b[0m",
      "\u001b[0;31mModuleNotFoundError\u001b[0m                       Traceback (most recent call last)",
      "\u001b[0;32m<ipython-input-2-29b37e014535>\u001b[0m in \u001b[0;36m<module>\u001b[0;34m\u001b[0m\n\u001b[0;32m----> 1\u001b[0;31m \u001b[0;32mimport\u001b[0m \u001b[0mtkinter\u001b[0m\u001b[0;34m\u001b[0m\u001b[0;34m\u001b[0m\u001b[0m\n\u001b[0m",
      "\u001b[0;31mModuleNotFoundError\u001b[0m: No module named 'tkinter'"
     ]
    }
   ],
   "source": [
    "import tkinter"
   ]
  }
 ],
 "metadata": {
  "kernelspec": {
   "display_name": "Python 3",
   "language": "python",
   "name": "python3"
  },
  "language_info": {
   "codemirror_mode": {
    "name": "ipython",
    "version": 3
   },
   "file_extension": ".py",
   "mimetype": "text/x-python",
   "name": "python",
   "nbconvert_exporter": "python",
   "pygments_lexer": "ipython3",
   "version": "3.6.8"
  },
  "widgets": {
   "application/vnd.jupyter.widget-state+json": {
    "state": {},
    "version_major": 2,
    "version_minor": 0
   }
  }
 },
 "nbformat": 4,
 "nbformat_minor": 5
}
