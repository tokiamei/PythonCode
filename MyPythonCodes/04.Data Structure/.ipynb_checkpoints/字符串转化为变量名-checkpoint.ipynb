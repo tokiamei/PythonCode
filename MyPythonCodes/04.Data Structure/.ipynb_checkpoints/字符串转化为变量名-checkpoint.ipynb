{
 "cells": [
  {
   "cell_type": "markdown",
   "id": "d64ae39c-6452-430e-9df7-9a6f6bae4391",
   "metadata": {
    "execution": {
     "iopub.execute_input": "2023-11-02T01:55:35.701018Z",
     "iopub.status.busy": "2023-11-02T01:55:35.698992Z",
     "iopub.status.idle": "2023-11-02T01:55:36.168670Z",
     "shell.execute_reply": "2023-11-02T01:55:36.165364Z",
     "shell.execute_reply.started": "2023-11-02T01:55:35.699990Z"
    }
   },
   "source": [
    "## locals()"
   ]
  },
  {
   "cell_type": "code",
   "execution_count": 8,
   "id": "4c159f30-4f9a-4af8-9e20-8a68f49a9e0b",
   "metadata": {
    "execution": {
     "iopub.execute_input": "2023-11-02T01:58:24.049128Z",
     "iopub.status.busy": "2023-11-02T01:58:24.048105Z",
     "iopub.status.idle": "2023-11-02T01:58:24.061635Z",
     "shell.execute_reply": "2023-11-02T01:58:24.059614Z",
     "shell.execute_reply.started": "2023-11-02T01:58:24.049128Z"
    }
   },
   "outputs": [
    {
     "data": {
      "text/plain": [
       "('hhh', str)"
      ]
     },
     "execution_count": 8,
     "metadata": {},
     "output_type": "execute_result"
    }
   ],
   "source": [
    "str = 'oneVariable'\n",
    "locals()[str] = 'hhh'\n",
    "oneVariable, type(oneVariable)"
   ]
  },
  {
   "cell_type": "code",
   "execution_count": 11,
   "id": "7f924ac2-b966-420d-9fa7-328f432ba32b",
   "metadata": {
    "execution": {
     "iopub.execute_input": "2023-11-02T02:11:16.044750Z",
     "iopub.status.busy": "2023-11-02T02:11:16.044750Z",
     "iopub.status.idle": "2023-11-02T02:11:16.057544Z",
     "shell.execute_reply": "2023-11-02T02:11:16.055382Z",
     "shell.execute_reply.started": "2023-11-02T02:11:16.044750Z"
    }
   },
   "outputs": [
    {
     "data": {
      "text/plain": [
       "'123'"
      ]
     },
     "execution_count": 11,
     "metadata": {},
     "output_type": "execute_result"
    }
   ],
   "source": []
  }
 ],
 "metadata": {
  "kernelspec": {
   "display_name": "Python 3 (ipykernel)",
   "language": "python",
   "name": "python3"
  },
  "language_info": {
   "codemirror_mode": {
    "name": "ipython",
    "version": 3
   },
   "file_extension": ".py",
   "mimetype": "text/x-python",
   "name": "python",
   "nbconvert_exporter": "python",
   "pygments_lexer": "ipython3",
   "version": "3.11.4"
  }
 },
 "nbformat": 4,
 "nbformat_minor": 5
}
