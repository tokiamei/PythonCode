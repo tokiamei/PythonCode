{
 "cells": [
  {
   "cell_type": "code",
   "execution_count": 4,
   "id": "8c00d876-90a8-46d0-b02d-54ca7dfb0e32",
   "metadata": {
    "editable": true,
    "execution": {
     "iopub.execute_input": "2023-12-06T01:15:23.407920Z",
     "iopub.status.busy": "2023-12-06T01:15:23.407920Z",
     "iopub.status.idle": "2023-12-06T01:15:23.415824Z",
     "shell.execute_reply": "2023-12-06T01:15:23.413805Z",
     "shell.execute_reply.started": "2023-12-06T01:15:23.407920Z"
    },
    "slideshow": {
     "slide_type": ""
    },
    "tags": []
   },
   "outputs": [
    {
     "name": "stdout",
     "output_type": "stream",
     "text": [
      "1.35\n"
     ]
    }
   ],
   "source": [
    "from decimal import Decimal \n",
    "a = \"1.347\"\n",
    "#保留几位小数由像第二个括号中的几位小数决定，即保留两位小数，精确到0.01\n",
    "#如果想要四舍五入保留整数，那么第二个括号中就应该为\"1.\"\n",
    "a_t = Decimal(a).quantize(Decimal(\"0.01\"), rounding = \"ROUND_HALF_UP\")\n",
    "print(a_t)\n"
   ]
  }
 ],
 "metadata": {
  "kernelspec": {
   "display_name": "Python 3 (ipykernel)",
   "language": "python",
   "name": "python3"
  },
  "language_info": {
   "codemirror_mode": {
    "name": "ipython",
    "version": 3
   },
   "file_extension": ".py",
   "mimetype": "text/x-python",
   "name": "python",
   "nbconvert_exporter": "python",
   "pygments_lexer": "ipython3",
   "version": "3.11.4"
  }
 },
 "nbformat": 4,
 "nbformat_minor": 5
}
