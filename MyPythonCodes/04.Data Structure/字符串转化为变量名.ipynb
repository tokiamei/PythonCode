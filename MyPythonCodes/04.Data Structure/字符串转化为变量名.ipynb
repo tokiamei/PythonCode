{
 "cells": [
  {
   "metadata": {
    "execution": {
     "iopub.execute_input": "2023-11-02T01:55:35.701018Z",
     "iopub.status.busy": "2023-11-02T01:55:35.698992Z",
     "iopub.status.idle": "2023-11-02T01:55:36.168670Z",
     "shell.execute_reply": "2023-11-02T01:55:36.165364Z",
     "shell.execute_reply.started": "2023-11-02T01:55:35.699990Z"
    },
    "slideshow": {
     "slide_type": ""
    },
    "tags": []
   },
   "id": "d64ae39c-6452-430e-9df7-9a6f6bae4391",
   "cell_type": "markdown",
   "source": "## locals()"
  },
  {
   "metadata": {
    "execution": {
     "iopub.execute_input": "2023-11-02T01:58:24.049128Z",
     "iopub.status.busy": "2023-11-02T01:58:24.048105Z",
     "iopub.status.idle": "2023-11-02T01:58:24.061635Z",
     "shell.execute_reply": "2023-11-02T01:58:24.059614Z",
     "shell.execute_reply.started": "2023-11-02T01:58:24.049128Z"
    },
    "slideshow": {
     "slide_type": ""
    },
    "tags": [],
    "trusted": true
   },
   "id": "4c159f30-4f9a-4af8-9e20-8a68f49a9e0b",
   "cell_type": "code",
   "source": "str = 'oneVariable'\nlocals()[str] = 'hhh'\noneVariable, type(oneVariable)",
   "execution_count": 2,
   "outputs": [
    {
     "output_type": "execute_result",
     "execution_count": 2,
     "data": {
      "text/plain": "('hhh', str)"
     },
     "metadata": {}
    }
   ]
  },
  {
   "metadata": {
    "execution": {
     "iopub.execute_input": "2023-11-02T02:11:16.044750Z",
     "iopub.status.busy": "2023-11-02T02:11:16.044750Z",
     "iopub.status.idle": "2023-11-02T02:11:16.057544Z",
     "shell.execute_reply": "2023-11-02T02:11:16.055382Z",
     "shell.execute_reply.started": "2023-11-02T02:11:16.044750Z"
    },
    "trusted": false
   },
   "id": "7f924ac2-b966-420d-9fa7-328f432ba32b",
   "cell_type": "code",
   "source": "",
   "execution_count": 11,
   "outputs": [
    {
     "data": {
      "text/plain": "'123'"
     },
     "execution_count": 11,
     "metadata": {},
     "output_type": "execute_result"
    }
   ]
  }
 ],
 "metadata": {
  "kernelspec": {
   "name": "python3",
   "display_name": "Python 3",
   "language": "python"
  },
  "language_info": {
   "name": "python",
   "version": "3.10.4",
   "mimetype": "text/x-python",
   "codemirror_mode": {
    "name": "ipython",
    "version": 3
   },
   "pygments_lexer": "ipython3",
   "nbconvert_exporter": "python",
   "file_extension": ".py"
  }
 },
 "nbformat": 4,
 "nbformat_minor": 5
}