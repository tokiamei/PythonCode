{
 "cells": [
  {
   "cell_type": "markdown",
   "id": "c36d135e-12e1-465e-9180-7758e7ebabb1",
   "metadata": {},
   "source": [
    "# Python as Client"
   ]
  },
  {
   "cell_type": "code",
   "execution_count": null,
   "id": "f45e97a4-be54-4b11-b74d-beb60fe4a38d",
   "metadata": {},
   "outputs": [],
   "source": [
    "import socket               # 导入 socket 模块"
   ]
  },
  {
   "cell_type": "code",
   "execution_count": null,
   "id": "6ab3d4b3-2470-4a37-85fa-f92f0337ca10",
   "metadata": {},
   "outputs": [],
   "source": [
    "s = socket.socket(socket.AF_INET, socket.SOCK_STREAM)         # 创建 socket 对象\n",
    "# host = socket.gethostname() # 获取本地主机名\n",
    "IP = \"127.0.0.1\"\n",
    "port = 5000                # 设置端口号\n",
    "a = \"\"\n",
    "b = \"\""
   ]
  },
  {
   "cell_type": "code",
   "execution_count": null,
   "id": "fade19ae-fe18-4822-9f85-86ad51c394de",
   "metadata": {},
   "outputs": [],
   "source": [
    "s.connect((IP, port))"
   ]
  },
  {
   "cell_type": "code",
   "execution_count": null,
   "id": "3fdc50ff-cf79-4fff-ab16-6d47ed944559",
   "metadata": {},
   "outputs": [
    {
     "name": "stdout",
     "output_type": "stream",
     "text": [
      "b'1z'\n",
      "OK\n",
      "OK\n",
      "b'1z'\n",
      "OK\n",
      "OK\n",
      "b'1z'\n",
      "OK\n",
      "OK\n",
      "b'1z'\n",
      "OK\n",
      "OK\n",
      "b'1z'\n",
      "OK\n",
      "OK\n",
      "b'1z'\n",
      "OK\n",
      "OK\n",
      "b'1z'\n",
      "OK\n",
      "OK\n",
      "b'1z'\n",
      "OK\n",
      "OK\n",
      "b'1z'\n",
      "OK\n",
      "OK\n",
      "b'1z'\n",
      "OK\n",
      "OK\n"
     ]
    }
   ],
   "source": [
    "while True:\n",
    "    a = s.recv(1024)\n",
    "    print(a)\n",
    "    if a == b\"1z\": \n",
    "        print(\"OK\")\n",
    "        s.send(b\"1000\")\n",
    "        a = s.recv(1024)\n",
    "        if a == b\"18z\":\n",
    "            print(\"OK\")"
   ]
  },
  {
   "cell_type": "code",
   "execution_count": null,
   "id": "94f66999-ed18-4555-b1f9-40e0cb1897a1",
   "metadata": {},
   "outputs": [],
   "source": [
    "a = s.recv(1024)"
   ]
  },
  {
   "cell_type": "code",
   "execution_count": null,
   "id": "eaa50add-04d6-476b-bcb6-65021efd13e4",
   "metadata": {},
   "outputs": [],
   "source": [
    "print(a)"
   ]
  },
  {
   "cell_type": "code",
   "execution_count": null,
   "id": "bbf2247e-18b7-4e60-b479-bd0089732841",
   "metadata": {},
   "outputs": [],
   "source": [
    "s.close()"
   ]
  },
  {
   "cell_type": "code",
   "execution_count": null,
   "id": "9c3b28ac-c25a-462b-9b9c-f0305b7ff1a7",
   "metadata": {},
   "outputs": [],
   "source": [
    "s.send(b\"1000\")"
   ]
  },
  {
   "cell_type": "code",
   "execution_count": null,
   "id": "062c6cd2-5aeb-4ad4-b134-9681d90f1b00",
   "metadata": {},
   "outputs": [],
   "source": [
    "b = s.recv(1024)\n",
    "print(b)"
   ]
  }
 ],
 "metadata": {
  "kernelspec": {
   "display_name": "Python 3 (ipykernel)",
   "language": "python",
   "name": "python3"
  },
  "language_info": {
   "codemirror_mode": {
    "name": "ipython",
    "version": 3
   },
   "file_extension": ".py",
   "mimetype": "text/x-python",
   "name": "python",
   "nbconvert_exporter": "python",
   "pygments_lexer": "ipython3",
   "version": "3.11.4"
  }
 },
 "nbformat": 4,
 "nbformat_minor": 5
}
