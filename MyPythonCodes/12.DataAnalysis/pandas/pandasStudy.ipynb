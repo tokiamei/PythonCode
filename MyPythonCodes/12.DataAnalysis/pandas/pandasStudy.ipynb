{
 "cells": [
  {
   "cell_type": "code",
   "execution_count": 1,
   "metadata": {
    "execution": {
     "iopub.execute_input": "2024-11-21T15:35:37.227812Z",
     "iopub.status.busy": "2024-11-21T15:35:37.227286Z",
     "iopub.status.idle": "2024-11-21T15:35:37.470515Z",
     "shell.execute_reply": "2024-11-21T15:35:37.470171Z",
     "shell.execute_reply.started": "2024-11-21T15:35:37.227767Z"
    }
   },
   "outputs": [],
   "source": [
    "import pandas as pd\n",
    "import numpy as np\n",
    "import os"
   ]
  },
  {
   "cell_type": "markdown",
   "metadata": {},
   "source": [
    "# 一、系列\n",
    "\n",
    "    `Series`"
   ]
  },
  {
   "cell_type": "markdown",
   "metadata": {},
   "source": [
    "## 1、创建系列"
   ]
  },
  {
   "cell_type": "markdown",
   "metadata": {},
   "source": [
    "### 1.1、pandas创建系列"
   ]
  },
  {
   "cell_type": "code",
   "execution_count": null,
   "metadata": {},
   "outputs": [],
   "source": [
    "a = pd.Series()\n",
    "print(a, type(a))"
   ]
  },
  {
   "cell_type": "markdown",
   "metadata": {},
   "source": [
    "### 1.2、从ndarray创建系列"
   ]
  },
  {
   "cell_type": "code",
   "execution_count": null,
   "metadata": {},
   "outputs": [],
   "source": [
    "x = np.array([1, 2, 3, 4, 5])\n",
    "\n",
    "# 未指定index\n",
    "s = pd.Series(x)\n",
    "print(s)\n",
    "print(type(s))\n",
    "for i in s: print(i)"
   ]
  },
  {
   "cell_type": "code",
   "execution_count": null,
   "metadata": {},
   "outputs": [],
   "source": [
    "x = np.array([1, 2, 3, 4, 5])\n",
    "# 指定index\n",
    "s = pd.Series(x, index = [10, 20, 30, 40, 50])\n",
    "print(s)"
   ]
  },
  {
   "cell_type": "markdown",
   "metadata": {},
   "source": [
    "### 1.3、字典创建系列"
   ]
  },
  {
   "cell_type": "code",
   "execution_count": null,
   "metadata": {},
   "outputs": [],
   "source": [
    "d = {'a': 1, 'b': 2, 'c': 3}\n",
    "s = pd.Series(d)\n",
    "print(s)"
   ]
  },
  {
   "cell_type": "code",
   "execution_count": null,
   "metadata": {},
   "outputs": [],
   "source": [
    "d = {'a': 1, 'b': 2, 'c': 3}\n",
    "s = pd.Series(d, index = ['c', 'a', 'b'])\n",
    "print(s)\n",
    "s['c']\n",
    "# s[1]"
   ]
  },
  {
   "cell_type": "markdown",
   "metadata": {},
   "source": [
    "### 1.4、从标量创建系列"
   ]
  },
  {
   "cell_type": "code",
   "execution_count": null,
   "metadata": {},
   "outputs": [],
   "source": [
    "import pandas as pd\n",
    "import numpy as np\n",
    "\n",
    "s = pd.Series(5, index = ['c', 'a', 'b'])\n",
    "print(s, '===========')\n",
    "\n",
    "t = pd.Series(5, index = [1, 2, 3])\n",
    "print(t, '===========')"
   ]
  },
  {
   "cell_type": "markdown",
   "metadata": {},
   "source": [
    "## 2、访问系列"
   ]
  },
  {
   "cell_type": "code",
   "execution_count": null,
   "metadata": {
    "scrolled": true
   },
   "outputs": [],
   "source": [
    "li = np.array([1, 2, 3, 4, 5])\n",
    "s = pd.Series(li, index = ['c', 'a', 'b', 'e', 'f'])\n",
    "# print(s['a'], '==========')\n",
    "# print(s['a':], '=====')\n",
    "# print(s[-2], '=====')\n",
    "# print(s[-2:], '=====')\n",
    "# print(s[['a', 'e', 'f']], '=====')\n",
    "# print(s['a', 'e', 'f'], '=====') # 格式错误\n",
    "\n",
    "# 如果检索的内容系列中没有，就会报错\n",
    "print(s['h'])\n",
    "# print(s[6])"
   ]
  },
  {
   "cell_type": "markdown",
   "metadata": {},
   "source": [
    "## 3、系列的基本功能"
   ]
  },
  {
   "cell_type": "markdown",
   "metadata": {},
   "source": [
    "### 3.1、系列的属性"
   ]
  },
  {
   "cell_type": "code",
   "execution_count": 43,
   "metadata": {
    "execution": {
     "iopub.execute_input": "2024-11-21T16:11:36.156503Z",
     "iopub.status.busy": "2024-11-21T16:11:36.155862Z",
     "iopub.status.idle": "2024-11-21T16:11:36.165656Z",
     "shell.execute_reply": "2024-11-21T16:11:36.164654Z",
     "shell.execute_reply.started": "2024-11-21T16:11:36.156458Z"
    }
   },
   "outputs": [
    {
     "name": "stdout",
     "output_type": "stream",
     "text": [
      "[-1.35107808  1.15179852 -0.57608542  1.90243684  0.54814734] ====\n",
      "RangeIndex(start=0, stop=5, step=1)\n"
     ]
    }
   ],
   "source": [
    "s = pd.Series(np.random.randn(5))\n",
    "# print(s, '====')\n",
    "# print(s.axes, '====')\n",
    "# print(s.dtype, '====')\n",
    "print(s.values, '====')\n",
    "print(s.index)"
   ]
  },
  {
   "cell_type": "code",
   "execution_count": null,
   "metadata": {},
   "outputs": [],
   "source": [
    "np.random.randn(5)"
   ]
  },
  {
   "cell_type": "markdown",
   "metadata": {},
   "source": [
    "### 3.2、系列的方法"
   ]
  },
  {
   "cell_type": "code",
   "execution_count": null,
   "metadata": {},
   "outputs": [],
   "source": [
    "s = pd.Series(np.random.randn(5))\n",
    "# print(s)\n",
    "# print(s.head(), '=====') # default 5 rows\n",
    "# print(s.head(3), '=====')\n",
    "print(s.tail()) # default 5 rows\n",
    "# print(s.tail(3))"
   ]
  },
  {
   "cell_type": "code",
   "execution_count": null,
   "metadata": {},
   "outputs": [],
   "source": [
    "s = pd.Series(['Tom', 'Jack', 'John', 'Alber@t', np.nan, '1234', 'SteveMinsu'])\n",
    "\n",
    "# print(s.str.len()) # get lenth"
   ]
  },
  {
   "cell_type": "code",
   "execution_count": null,
   "metadata": {},
   "outputs": [],
   "source": [
    "s = pd.Series(['Tom', 'Jack', 'John', '      Albe  r@t', np.nan, '1234', 'SteveMi  nsu'])\n",
    "\n",
    "print(s, '=======')\n",
    "print(s[3], '======')\n",
    "print(s.str.strip()[3], '======')\n",
    "# print(s.str.strip(), '=======')"
   ]
  },
  {
   "cell_type": "code",
   "execution_count": null,
   "metadata": {},
   "outputs": [],
   "source": [
    "s = pd.Series(['Tom', 'Jack', 'John', '      Albe  r@t', np.nan, '1234', 'SteveMi  nsu'])\n",
    "\n",
    "print(s.str.split(' '), '======')\n",
    "print(s.str.cat(sep = '-'), '======')"
   ]
  },
  {
   "cell_type": "code",
   "execution_count": null,
   "metadata": {},
   "outputs": [],
   "source": [
    "s = pd.Series(['Tom', 'Jack', 'John', 'Alber@t', np.nan, '1234', 'SteveMinsu'])\n",
    "\n",
    "print(s.str.get_dummies())"
   ]
  },
  {
   "cell_type": "code",
   "execution_count": null,
   "metadata": {},
   "outputs": [],
   "source": [
    "s = pd.Series(['Tom', 'Jack', 'John', 'Alber@t', np.nan, '1234', 'SteveMinsu'])\n",
    "\n",
    "print(s.str.repeat(3))"
   ]
  },
  {
   "cell_type": "markdown",
   "metadata": {},
   "source": [
    "# 二、数据帧（DataFrame）\n",
    "\n",
    "> 数据帧是二维数据结构，即数据以行和列的表格方式排列。\n",
    "\n",
    "**功能特点：**\n",
    "- 潜在的列是不同的类型\n",
    "- 大小可变\n",
    "- 标记轴（行和列）\n",
    "- 可以对行和列执行算术运算"
   ]
  },
  {
   "cell_type": "code",
   "execution_count": 5,
   "metadata": {
    "execution": {
     "iopub.execute_input": "2024-11-16T19:46:29.423012Z",
     "iopub.status.busy": "2024-11-16T19:46:29.422210Z",
     "iopub.status.idle": "2024-11-16T19:46:29.441552Z",
     "shell.execute_reply": "2024-11-16T19:46:29.440606Z",
     "shell.execute_reply.started": "2024-11-16T19:46:29.422967Z"
    }
   },
   "outputs": [
    {
     "data": {
      "text/plain": [
       "DatetimeIndex(['2024-11-15', '2024-11-16', '2024-11-17', '2024-11-18',\n",
       "               '2024-11-19', '2024-11-20'],\n",
       "              dtype='datetime64[ns]', freq='D')"
      ]
     },
     "execution_count": 5,
     "metadata": {},
     "output_type": "execute_result"
    }
   ],
   "source": [
    "dates = pd.date_range(\"20241115\", periods=6)\n",
    "dates"
   ]
  },
  {
   "cell_type": "code",
   "execution_count": 6,
   "metadata": {
    "execution": {
     "iopub.execute_input": "2024-11-16T19:46:31.449488Z",
     "iopub.status.busy": "2024-11-16T19:46:31.448857Z",
     "iopub.status.idle": "2024-11-16T19:46:31.473652Z",
     "shell.execute_reply": "2024-11-16T19:46:31.472954Z",
     "shell.execute_reply.started": "2024-11-16T19:46:31.449449Z"
    }
   },
   "outputs": [
    {
     "data": {
      "text/html": [
       "<div>\n",
       "<style scoped>\n",
       "    .dataframe tbody tr th:only-of-type {\n",
       "        vertical-align: middle;\n",
       "    }\n",
       "\n",
       "    .dataframe tbody tr th {\n",
       "        vertical-align: top;\n",
       "    }\n",
       "\n",
       "    .dataframe thead th {\n",
       "        text-align: right;\n",
       "    }\n",
       "</style>\n",
       "<table border=\"1\" class=\"dataframe\">\n",
       "  <thead>\n",
       "    <tr style=\"text-align: right;\">\n",
       "      <th></th>\n",
       "      <th>A</th>\n",
       "      <th>B</th>\n",
       "      <th>C</th>\n",
       "      <th>D</th>\n",
       "    </tr>\n",
       "  </thead>\n",
       "  <tbody>\n",
       "    <tr>\n",
       "      <th>2024-11-15</th>\n",
       "      <td>0.773730</td>\n",
       "      <td>0.703181</td>\n",
       "      <td>-0.394578</td>\n",
       "      <td>0.190151</td>\n",
       "    </tr>\n",
       "    <tr>\n",
       "      <th>2024-11-16</th>\n",
       "      <td>0.633404</td>\n",
       "      <td>-0.129420</td>\n",
       "      <td>-1.048438</td>\n",
       "      <td>-2.031381</td>\n",
       "    </tr>\n",
       "    <tr>\n",
       "      <th>2024-11-17</th>\n",
       "      <td>-0.572264</td>\n",
       "      <td>1.435321</td>\n",
       "      <td>0.220051</td>\n",
       "      <td>0.780552</td>\n",
       "    </tr>\n",
       "    <tr>\n",
       "      <th>2024-11-18</th>\n",
       "      <td>-1.600808</td>\n",
       "      <td>0.867467</td>\n",
       "      <td>-1.511753</td>\n",
       "      <td>1.846648</td>\n",
       "    </tr>\n",
       "    <tr>\n",
       "      <th>2024-11-19</th>\n",
       "      <td>-0.231146</td>\n",
       "      <td>-0.130777</td>\n",
       "      <td>0.812991</td>\n",
       "      <td>-0.752609</td>\n",
       "    </tr>\n",
       "    <tr>\n",
       "      <th>2024-11-20</th>\n",
       "      <td>1.439334</td>\n",
       "      <td>0.914145</td>\n",
       "      <td>-0.031304</td>\n",
       "      <td>0.453226</td>\n",
       "    </tr>\n",
       "  </tbody>\n",
       "</table>\n",
       "</div>"
      ],
      "text/plain": [
       "                   A         B         C         D\n",
       "2024-11-15  0.773730  0.703181 -0.394578  0.190151\n",
       "2024-11-16  0.633404 -0.129420 -1.048438 -2.031381\n",
       "2024-11-17 -0.572264  1.435321  0.220051  0.780552\n",
       "2024-11-18 -1.600808  0.867467 -1.511753  1.846648\n",
       "2024-11-19 -0.231146 -0.130777  0.812991 -0.752609\n",
       "2024-11-20  1.439334  0.914145 -0.031304  0.453226"
      ]
     },
     "execution_count": 6,
     "metadata": {},
     "output_type": "execute_result"
    }
   ],
   "source": [
    "df = pd.DataFrame(np.random.randn(6, 4), index = dates, columns = list(\"ABCD\"))\n",
    "df"
   ]
  },
  {
   "cell_type": "code",
   "execution_count": null,
   "metadata": {},
   "outputs": [],
   "source": [
    "\n",
    "# x = [[0, 0.3, 0.6, 0.9], [0.1, 0.2 ,0.4, 0.4]]\n",
    "# pan = pd.DataFrame(x, index = 'Value', columns = ['VR', 'VI'])\n",
    "# pan"
   ]
  },
  {
   "cell_type": "code",
   "execution_count": null,
   "metadata": {},
   "outputs": [],
   "source": [
    "df2 = pd.DataFrame(\n",
    "    {\n",
    "        \"A\": 1.0,\n",
    "        \"B\": pd.Timestamp(\"20130102\"),\n",
    "        \"C\": pd.Series(1, index=list(range(4)), dtype=\"float32\"),\n",
    "        \"D\": np.array([3] * 4, dtype=\"int32\"),\n",
    "        \"E\": pd.Categorical([\"test\", \"train\", \"test\", \"train\"]),\n",
    "        \"F\": \"foo\",\n",
    "    }\n",
    ")\n",
    "df2\n",
    "# df2.head(1)\n",
    "# df2.tail(1)"
   ]
  },
  {
   "cell_type": "markdown",
   "metadata": {},
   "source": [
    "## Dataframe转为ndarray"
   ]
  },
  {
   "cell_type": "code",
   "execution_count": null,
   "metadata": {},
   "outputs": [],
   "source": [
    "# df.to_numpy()\n",
    "df2.to_numpy()"
   ]
  },
  {
   "cell_type": "markdown",
   "metadata": {},
   "source": [
    "## describe"
   ]
  },
  {
   "cell_type": "code",
   "execution_count": 7,
   "metadata": {
    "execution": {
     "iopub.execute_input": "2024-11-16T19:46:36.388235Z",
     "iopub.status.busy": "2024-11-16T19:46:36.386621Z",
     "iopub.status.idle": "2024-11-16T19:46:36.410259Z",
     "shell.execute_reply": "2024-11-16T19:46:36.409812Z",
     "shell.execute_reply.started": "2024-11-16T19:46:36.388153Z"
    }
   },
   "outputs": [
    {
     "data": {
      "text/html": [
       "<div>\n",
       "<style scoped>\n",
       "    .dataframe tbody tr th:only-of-type {\n",
       "        vertical-align: middle;\n",
       "    }\n",
       "\n",
       "    .dataframe tbody tr th {\n",
       "        vertical-align: top;\n",
       "    }\n",
       "\n",
       "    .dataframe thead th {\n",
       "        text-align: right;\n",
       "    }\n",
       "</style>\n",
       "<table border=\"1\" class=\"dataframe\">\n",
       "  <thead>\n",
       "    <tr style=\"text-align: right;\">\n",
       "      <th></th>\n",
       "      <th>A</th>\n",
       "      <th>B</th>\n",
       "      <th>C</th>\n",
       "      <th>D</th>\n",
       "    </tr>\n",
       "  </thead>\n",
       "  <tbody>\n",
       "    <tr>\n",
       "      <th>count</th>\n",
       "      <td>6.000000</td>\n",
       "      <td>6.000000</td>\n",
       "      <td>6.000000</td>\n",
       "      <td>6.000000</td>\n",
       "    </tr>\n",
       "    <tr>\n",
       "      <th>mean</th>\n",
       "      <td>0.073708</td>\n",
       "      <td>0.609986</td>\n",
       "      <td>-0.325505</td>\n",
       "      <td>0.081098</td>\n",
       "    </tr>\n",
       "    <tr>\n",
       "      <th>std</th>\n",
       "      <td>1.093841</td>\n",
       "      <td>0.623558</td>\n",
       "      <td>0.850288</td>\n",
       "      <td>1.335246</td>\n",
       "    </tr>\n",
       "    <tr>\n",
       "      <th>min</th>\n",
       "      <td>-1.600808</td>\n",
       "      <td>-0.130777</td>\n",
       "      <td>-1.511753</td>\n",
       "      <td>-2.031381</td>\n",
       "    </tr>\n",
       "    <tr>\n",
       "      <th>25%</th>\n",
       "      <td>-0.486985</td>\n",
       "      <td>0.078730</td>\n",
       "      <td>-0.884973</td>\n",
       "      <td>-0.516919</td>\n",
       "    </tr>\n",
       "    <tr>\n",
       "      <th>50%</th>\n",
       "      <td>0.201129</td>\n",
       "      <td>0.785324</td>\n",
       "      <td>-0.212941</td>\n",
       "      <td>0.321689</td>\n",
       "    </tr>\n",
       "    <tr>\n",
       "      <th>75%</th>\n",
       "      <td>0.738648</td>\n",
       "      <td>0.902476</td>\n",
       "      <td>0.157212</td>\n",
       "      <td>0.698721</td>\n",
       "    </tr>\n",
       "    <tr>\n",
       "      <th>max</th>\n",
       "      <td>1.439334</td>\n",
       "      <td>1.435321</td>\n",
       "      <td>0.812991</td>\n",
       "      <td>1.846648</td>\n",
       "    </tr>\n",
       "  </tbody>\n",
       "</table>\n",
       "</div>"
      ],
      "text/plain": [
       "              A         B         C         D\n",
       "count  6.000000  6.000000  6.000000  6.000000\n",
       "mean   0.073708  0.609986 -0.325505  0.081098\n",
       "std    1.093841  0.623558  0.850288  1.335246\n",
       "min   -1.600808 -0.130777 -1.511753 -2.031381\n",
       "25%   -0.486985  0.078730 -0.884973 -0.516919\n",
       "50%    0.201129  0.785324 -0.212941  0.321689\n",
       "75%    0.738648  0.902476  0.157212  0.698721\n",
       "max    1.439334  1.435321  0.812991  1.846648"
      ]
     },
     "execution_count": 7,
     "metadata": {},
     "output_type": "execute_result"
    }
   ],
   "source": [
    "df.describe()"
   ]
  },
  {
   "cell_type": "markdown",
   "metadata": {},
   "source": [
    "# 三、pandas文件操作"
   ]
  },
  {
   "cell_type": "markdown",
   "metadata": {},
   "source": [
    "## 1、pandas操作CSV文件\n",
    "\n",
    "`read_csv()`：可选参数： read_csv 函数还支持许多可选参数，例如 sep（分隔符）、header（列头行的索引）、index_col（作为索引的列）、usecols（要读取的列）、dtype（指定数据类型）等等。根据需要进行设置。"
   ]
  },
  {
   "cell_type": "code",
   "execution_count": 35,
   "metadata": {
    "execution": {
     "iopub.execute_input": "2024-11-21T15:55:00.507302Z",
     "iopub.status.busy": "2024-11-21T15:55:00.506590Z",
     "iopub.status.idle": "2024-11-21T15:55:00.527306Z",
     "shell.execute_reply": "2024-11-21T15:55:00.526594Z",
     "shell.execute_reply.started": "2024-11-21T15:55:00.507224Z"
    }
   },
   "outputs": [
    {
     "name": "stdout",
     "output_type": "stream",
     "text": [
      "   Vg   Chf\n",
      "0   1   4.0\n",
      "1   2  24.0\n",
      "2   3   4.5\n",
      "3   4   0.4\n",
      "4   5   2.4\n",
      "3.0\n"
     ]
    }
   ],
   "source": [
    "# os.listdir()\n",
    "path = 'P1(123453)/M-20241114-1.csv'\n",
    "df = pd.read_csv(path)\n",
    "print(df)\n",
    "# print(df.transpose())\n",
    "\n",
    "print(df.loc[2]['Vg'])\n",
    "# print(df['Vg'][2] )\n",
    "# print(type(df.values))\n",
    "# print(df.head)"
   ]
  },
  {
   "cell_type": "code",
   "execution_count": null,
   "metadata": {},
   "outputs": [],
   "source": [
    "df.transform(lambda x: x**2)"
   ]
  },
  {
   "cell_type": "code",
   "execution_count": null,
   "metadata": {},
   "outputs": [],
   "source": [
    "df_trans = df.transpose()\n",
    "# df_trans\n",
    "df_trans.loc['Vg']"
   ]
  },
  {
   "cell_type": "code",
   "execution_count": null,
   "metadata": {},
   "outputs": [],
   "source": [
    "df.transpose().loc['Vg']"
   ]
  },
  {
   "cell_type": "markdown",
   "metadata": {},
   "source": [
    "## 1.2、修改元素值\n",
    "\n",
    "`replace()`"
   ]
  },
  {
   "cell_type": "code",
   "execution_count": 39,
   "metadata": {
    "execution": {
     "iopub.execute_input": "2024-11-21T15:57:42.866342Z",
     "iopub.status.busy": "2024-11-21T15:57:42.865435Z",
     "iopub.status.idle": "2024-11-21T15:57:42.893034Z",
     "shell.execute_reply": "2024-11-21T15:57:42.892510Z",
     "shell.execute_reply.started": "2024-11-21T15:57:42.866264Z"
    }
   },
   "outputs": [
    {
     "name": "stdout",
     "output_type": "stream",
     "text": [
      "      Vg   Chf\n",
      "0      1   4.0\n",
      "1  hello  24.0\n",
      "2     hi   4.5\n",
      "3     hi   0.4\n",
      "4      5   2.4\n",
      "      Vg   Chf\n",
      "0      1   4.0\n",
      "1  hello  24.0\n",
      "2     hi   4.5\n",
      "3     hi   0.4\n",
      "4      5   2.4\n",
      "      Vg   Chf\n",
      "0      1   4.0\n",
      "1  hello  24.0\n",
      "2     hi   4.5\n",
      "3     hi   0.4\n",
      "4      5   2.4\n",
      "      Vg   Chf\n",
      "0      1   4.0\n",
      "1  hello  24.0\n",
      "2     hi   4.5\n",
      "3     hi   0.4\n",
      "4      5   2.4\n",
      "      Vg   Chf\n",
      "0      1   4.0\n",
      "1  hello  24.0\n",
      "2     hi   4.5\n",
      "3     hi   0.4\n",
      "4      5   2.4\n"
     ]
    }
   ],
   "source": [
    "df['Vg'].replace(2, 'hello', inplace=True)\n",
    "print(df)\n",
    "df['Vg'].replace(3, 1000, inplace=True)\n",
    "print(df)\n",
    "df['Vg'].replace(4, 1000, inplace=True)\n",
    "print(df)\n",
    "df['Vg'].replace(1000, 1000000, inplace=True)\n",
    "print(df)\n",
    "\n",
    "df['Vg'].replace(1000000, 'hi', inplace=True)\n",
    "print(df)\n",
    "df.to_excel('test/CV.xlsx')"
   ]
  },
  {
   "cell_type": "code",
   "execution_count": 23,
   "metadata": {
    "execution": {
     "iopub.execute_input": "2024-11-21T15:48:17.252285Z",
     "iopub.status.busy": "2024-11-21T15:48:17.251681Z",
     "iopub.status.idle": "2024-11-21T15:48:17.270496Z",
     "shell.execute_reply": "2024-11-21T15:48:17.269605Z",
     "shell.execute_reply.started": "2024-11-21T15:48:17.252212Z"
    }
   },
   "outputs": [
    {
     "data": {
      "text/html": [
       "<div>\n",
       "<style scoped>\n",
       "    .dataframe tbody tr th:only-of-type {\n",
       "        vertical-align: middle;\n",
       "    }\n",
       "\n",
       "    .dataframe tbody tr th {\n",
       "        vertical-align: top;\n",
       "    }\n",
       "\n",
       "    .dataframe thead th {\n",
       "        text-align: right;\n",
       "    }\n",
       "</style>\n",
       "<table border=\"1\" class=\"dataframe\">\n",
       "  <thead>\n",
       "    <tr style=\"text-align: right;\">\n",
       "      <th></th>\n",
       "      <th>Vg</th>\n",
       "      <th>Chf</th>\n",
       "    </tr>\n",
       "  </thead>\n",
       "  <tbody>\n",
       "    <tr>\n",
       "      <th>0</th>\n",
       "      <td>1</td>\n",
       "      <td>4.0</td>\n",
       "    </tr>\n",
       "    <tr>\n",
       "      <th>1</th>\n",
       "      <td>2</td>\n",
       "      <td>24.0</td>\n",
       "    </tr>\n",
       "    <tr>\n",
       "      <th>2</th>\n",
       "      <td>3</td>\n",
       "      <td>4.5</td>\n",
       "    </tr>\n",
       "    <tr>\n",
       "      <th>3</th>\n",
       "      <td>4</td>\n",
       "      <td>0.4</td>\n",
       "    </tr>\n",
       "    <tr>\n",
       "      <th>4</th>\n",
       "      <td>5</td>\n",
       "      <td>2.4</td>\n",
       "    </tr>\n",
       "  </tbody>\n",
       "</table>\n",
       "</div>"
      ],
      "text/plain": [
       "   Vg   Chf\n",
       "0   1   4.0\n",
       "1   2  24.0\n",
       "2   3   4.5\n",
       "3   4   0.4\n",
       "4   5   2.4"
      ]
     },
     "execution_count": 23,
     "metadata": {},
     "output_type": "execute_result"
    }
   ],
   "source": [
    "df"
   ]
  }
 ],
 "metadata": {
  "kernelspec": {
   "display_name": "Python 3 (ipykernel)",
   "language": "python",
   "name": "python3"
  },
  "language_info": {
   "codemirror_mode": {
    "name": "ipython",
    "version": 3
   },
   "file_extension": ".py",
   "mimetype": "text/x-python",
   "name": "python",
   "nbconvert_exporter": "python",
   "pygments_lexer": "ipython3",
   "version": "3.9.6"
  }
 },
 "nbformat": 4,
 "nbformat_minor": 4
}
