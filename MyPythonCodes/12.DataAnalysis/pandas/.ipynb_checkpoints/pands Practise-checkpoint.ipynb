{
 "cells": [
  {
   "cell_type": "code",
   "execution_count": null,
   "id": "098caf01-06b7-49aa-964c-4d213c01be6f",
   "metadata": {},
   "outputs": [],
   "source": [
    "import pandas as pd"
   ]
  },
  {
   "cell_type": "code",
   "execution_count": null,
   "id": "0ae1b483-554b-43de-8afb-b7ee47bb0f6b",
   "metadata": {},
   "outputs": [],
   "source": [
    "# df = pd.read_excel('江苏省考候选-xqz.xlsx')\n",
    "# df.head\n",
    "# df[df['专　业'] == '计算机(软件)类、电子信息类']\n",
    "# df[df['专　业'].isin(['电子信息类', '计算机类'])]\n",
    "# df[df['专　业'].str.contains(['电子信息类', '计算机类'])] # error\n",
    "# df[df['专　业'].str.contains('电子信息类')] \n",
    "# df[df['专　业'].str.contains('电子信息类|计算机类')]"
   ]
  },
  {
   "cell_type": "code",
   "execution_count": null,
   "id": "4617c316-b181-45ad-b339-c5f9a48f9200",
   "metadata": {
    "scrolled": true
   },
   "outputs": [],
   "source": [
    "# sk = pd.read_excel('副本08-淮安市.xls')[2:10]\n",
    "# sk\n",
    "# sk# print(sk.index)\n",
    "# sk.to_string()\n",
    "# pd.set_option('display.max_rows', None)\n",
    "# sk[( sk['专　业'].str.contains('计算机类|电子信息类') ) & ( ~sk['其　它'].str.contains('女性|应届毕业生|视力|中共党员') )]\n",
    "# sk['专　业']"
   ]
  },
  {
   "cell_type": "code",
   "execution_count": null,
   "id": "c292c3b1-5215-4fbd-87b7-a8722acdffe9",
   "metadata": {},
   "outputs": [],
   "source": [
    "a = pd.Series([1, 2, 3, 4])\n",
    "a.values"
   ]
  },
  {
   "cell_type": "code",
   "execution_count": null,
   "id": "337ab72c-4a97-43c0-a81b-bdb3db48cb2e",
   "metadata": {},
   "outputs": [],
   "source": [
    "b = pd.DataFrame([[1, 2, 3], [3, 6, 9]])\n",
    "b.T.values"
   ]
  },
  {
   "cell_type": "code",
   "execution_count": null,
   "id": "2eb61e7e-30bd-4264-9e9d-caaedcddcfef",
   "metadata": {},
   "outputs": [],
   "source": [
    "obj = {'x': 'yuw'}\n",
    "\n",
    "c = 'P1'\n",
    "d = [1, 2, 3]\n",
    "obj[c] = d\n",
    "obj"
   ]
  },
  {
   "cell_type": "code",
   "execution_count": null,
   "id": "356c6816-916e-4c93-8501-f532b1cf2c3e",
   "metadata": {},
   "outputs": [],
   "source": [
    "class test:\n",
    "    def __init__(self):\n",
    "        self.wafName = 'P1'\n",
    "        self.epsilon = 8.85E-14\n",
    "        \n",
    "        \n",
    "        self.ep_list = {}\n",
    "        print(self.ep_list)\n",
    "        self.calc()\n",
    "    def calc(self):\n",
    "        print('======')\n",
    "        self.ep_value = 0.986262\n",
    "        self.ep_list[self.wafName] = self.ep_value\n",
    "\n",
    "t = test()\n",
    "        "
   ]
  },
  {
   "cell_type": "code",
   "execution_count": 26,
   "id": "43112306-132a-408b-a39e-d29139516c3b",
   "metadata": {
    "execution": {
     "iopub.execute_input": "2024-11-26T13:23:14.342901Z",
     "iopub.status.busy": "2024-11-26T13:23:14.342136Z",
     "iopub.status.idle": "2024-11-26T13:23:14.363732Z",
     "shell.execute_reply": "2024-11-26T13:23:14.362581Z",
     "shell.execute_reply.started": "2024-11-26T13:23:14.342852Z"
    }
   },
   "outputs": [
    {
     "data": {
      "text/html": [
       "<div>\n",
       "<style scoped>\n",
       "    .dataframe tbody tr th:only-of-type {\n",
       "        vertical-align: middle;\n",
       "    }\n",
       "\n",
       "    .dataframe tbody tr th {\n",
       "        vertical-align: top;\n",
       "    }\n",
       "\n",
       "    .dataframe thead th {\n",
       "        text-align: right;\n",
       "    }\n",
       "</style>\n",
       "<table border=\"1\" class=\"dataframe\">\n",
       "  <thead>\n",
       "    <tr style=\"text-align: right;\">\n",
       "      <th></th>\n",
       "      <th>p1</th>\n",
       "      <th>P2</th>\n",
       "      <th>P3</th>\n",
       "    </tr>\n",
       "  </thead>\n",
       "  <tbody>\n",
       "    <tr>\n",
       "      <th>0</th>\n",
       "      <td>0.1</td>\n",
       "      <td>0.2</td>\n",
       "      <td>0.3</td>\n",
       "    </tr>\n",
       "  </tbody>\n",
       "</table>\n",
       "</div>"
      ],
      "text/plain": [
       "    p1   P2   P3\n",
       "0  0.1  0.2  0.3"
      ]
     },
     "execution_count": 26,
     "metadata": {},
     "output_type": "execute_result"
    }
   ],
   "source": [
    "li = [{'p1': 0.1, 'P2': 0.2, 'P3': 0.3}]\n",
    "df = pd.DataFrame(li)\n",
    "df"
   ]
  },
  {
   "cell_type": "code",
   "execution_count": null,
   "id": "d6bac249-20a4-482f-88fd-1aaf27c57df0",
   "metadata": {},
   "outputs": [],
   "source": [
    "li = {'p1': [0.1], 'P2': [0.2], 'P3': [0.3]}\n",
    "df = pd.DataFrame(li)"
   ]
  },
  {
   "cell_type": "code",
   "execution_count": null,
   "id": "65d17fe8-fcbf-479a-a130-fb9608089b12",
   "metadata": {},
   "outputs": [],
   "source": [
    "data = { 'row1' : [1,2,3,4], 'row2' : ['a' , 'b' , 'c' , 'd'] }\n",
    "df = pd.DataFrame(data)\n",
    "df\n"
   ]
  }
 ],
 "metadata": {
  "kernelspec": {
   "display_name": "Python 3 (ipykernel)",
   "language": "python",
   "name": "python3"
  },
  "language_info": {
   "codemirror_mode": {
    "name": "ipython",
    "version": 3
   },
   "file_extension": ".py",
   "mimetype": "text/x-python",
   "name": "python",
   "nbconvert_exporter": "python",
   "pygments_lexer": "ipython3",
   "version": "3.9.6"
  }
 },
 "nbformat": 4,
 "nbformat_minor": 5
}
