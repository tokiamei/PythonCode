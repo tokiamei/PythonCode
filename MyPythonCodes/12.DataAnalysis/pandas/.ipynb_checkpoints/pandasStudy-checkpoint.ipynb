{
 "cells": [
  {
   "cell_type": "code",
   "execution_count": 82,
   "metadata": {
    "execution": {
     "iopub.execute_input": "2024-11-16T01:11:18.784604Z",
     "iopub.status.busy": "2024-11-16T01:11:18.782819Z",
     "iopub.status.idle": "2024-11-16T01:11:18.792519Z",
     "shell.execute_reply": "2024-11-16T01:11:18.791455Z",
     "shell.execute_reply.started": "2024-11-16T01:11:18.784537Z"
    }
   },
   "outputs": [],
   "source": [
    "import pandas as pd\n",
    "import numpy as np\n",
    "import os"
   ]
  },
  {
   "cell_type": "markdown",
   "metadata": {},
   "source": [
    "# 一、系列\n",
    "\n",
    "    `Series`"
   ]
  },
  {
   "cell_type": "markdown",
   "metadata": {},
   "source": [
    "## 1、创建系列"
   ]
  },
  {
   "cell_type": "markdown",
   "metadata": {},
   "source": [
    "### 1.1、pandas创建系列"
   ]
  },
  {
   "cell_type": "code",
   "execution_count": 4,
   "metadata": {
    "execution": {
     "iopub.execute_input": "2024-11-15T14:52:20.084863Z",
     "iopub.status.busy": "2024-11-15T14:52:20.083982Z",
     "iopub.status.idle": "2024-11-15T14:52:20.090644Z",
     "shell.execute_reply": "2024-11-15T14:52:20.089685Z",
     "shell.execute_reply.started": "2024-11-15T14:52:20.084792Z"
    }
   },
   "outputs": [
    {
     "name": "stdout",
     "output_type": "stream",
     "text": [
      "Series([], dtype: object) <class 'pandas.core.series.Series'>\n"
     ]
    }
   ],
   "source": [
    "a = pd.Series()\n",
    "print(a, type(a))"
   ]
  },
  {
   "cell_type": "markdown",
   "metadata": {},
   "source": [
    "### 1.2、从ndarray创建系列"
   ]
  },
  {
   "cell_type": "code",
   "execution_count": 7,
   "metadata": {
    "execution": {
     "iopub.execute_input": "2024-11-15T14:53:33.558132Z",
     "iopub.status.busy": "2024-11-15T14:53:33.557526Z",
     "iopub.status.idle": "2024-11-15T14:53:33.565633Z",
     "shell.execute_reply": "2024-11-15T14:53:33.564624Z",
     "shell.execute_reply.started": "2024-11-15T14:53:33.558089Z"
    }
   },
   "outputs": [
    {
     "name": "stdout",
     "output_type": "stream",
     "text": [
      "0    1\n",
      "1    2\n",
      "2    3\n",
      "3    4\n",
      "4    5\n",
      "dtype: int64\n",
      "<class 'pandas.core.series.Series'>\n",
      "1\n",
      "2\n",
      "3\n",
      "4\n",
      "5\n"
     ]
    }
   ],
   "source": [
    "x = np.array([1, 2, 3, 4, 5])\n",
    "\n",
    "# 未指定index\n",
    "s = pd.Series(x)\n",
    "print(s)\n",
    "print(type(s))\n",
    "for i in s: print(i)"
   ]
  },
  {
   "cell_type": "code",
   "execution_count": 8,
   "metadata": {
    "execution": {
     "iopub.execute_input": "2024-11-15T14:53:57.973892Z",
     "iopub.status.busy": "2024-11-15T14:53:57.973141Z",
     "iopub.status.idle": "2024-11-15T14:53:57.982227Z",
     "shell.execute_reply": "2024-11-15T14:53:57.981029Z",
     "shell.execute_reply.started": "2024-11-15T14:53:57.973825Z"
    }
   },
   "outputs": [
    {
     "name": "stdout",
     "output_type": "stream",
     "text": [
      "10    1\n",
      "20    2\n",
      "30    3\n",
      "40    4\n",
      "50    5\n",
      "dtype: int64\n"
     ]
    }
   ],
   "source": [
    "x = np.array([1, 2, 3, 4, 5])\n",
    "# 指定index\n",
    "s = pd.Series(x, index = [10, 20, 30, 40, 50])\n",
    "print(s)"
   ]
  },
  {
   "cell_type": "markdown",
   "metadata": {},
   "source": [
    "### 1.3、字典创建系列"
   ]
  },
  {
   "cell_type": "code",
   "execution_count": 9,
   "metadata": {
    "execution": {
     "iopub.execute_input": "2024-11-15T14:54:47.208672Z",
     "iopub.status.busy": "2024-11-15T14:54:47.208119Z",
     "iopub.status.idle": "2024-11-15T14:54:47.217584Z",
     "shell.execute_reply": "2024-11-15T14:54:47.217009Z",
     "shell.execute_reply.started": "2024-11-15T14:54:47.208640Z"
    }
   },
   "outputs": [
    {
     "name": "stdout",
     "output_type": "stream",
     "text": [
      "a    1\n",
      "b    2\n",
      "c    3\n",
      "dtype: int64\n"
     ]
    }
   ],
   "source": [
    "d = {'a': 1, 'b': 2, 'c': 3}\n",
    "s = pd.Series(d)\n",
    "print(s)"
   ]
  },
  {
   "cell_type": "code",
   "execution_count": 15,
   "metadata": {
    "execution": {
     "iopub.execute_input": "2024-11-15T14:56:28.874290Z",
     "iopub.status.busy": "2024-11-15T14:56:28.873546Z",
     "iopub.status.idle": "2024-11-15T14:56:28.886748Z",
     "shell.execute_reply": "2024-11-15T14:56:28.886153Z",
     "shell.execute_reply.started": "2024-11-15T14:56:28.874256Z"
    }
   },
   "outputs": [
    {
     "name": "stdout",
     "output_type": "stream",
     "text": [
      "c    3\n",
      "a    1\n",
      "b    2\n",
      "dtype: int64\n"
     ]
    },
    {
     "name": "stderr",
     "output_type": "stream",
     "text": [
      "/var/folders/tm/gsqrg8td65q09g5x_7ydpqvm0000gn/T/ipykernel_3582/248969507.py:5: FutureWarning: Series.__getitem__ treating keys as positions is deprecated. In a future version, integer keys will always be treated as labels (consistent with DataFrame behavior). To access a value by position, use `ser.iloc[pos]`\n",
      "  s[1]\n"
     ]
    },
    {
     "data": {
      "text/plain": [
       "np.int64(1)"
      ]
     },
     "execution_count": 15,
     "metadata": {},
     "output_type": "execute_result"
    }
   ],
   "source": [
    "d = {'a': 1, 'b': 2, 'c': 3}\n",
    "s = pd.Series(d, index = ['c', 'a', 'b'])\n",
    "print(s)\n",
    "s['c']\n",
    "# s[1]"
   ]
  },
  {
   "cell_type": "markdown",
   "metadata": {},
   "source": [
    "### 1.4、从标量创建系列"
   ]
  },
  {
   "cell_type": "code",
   "execution_count": 19,
   "metadata": {
    "execution": {
     "iopub.execute_input": "2024-11-15T14:58:03.959500Z",
     "iopub.status.busy": "2024-11-15T14:58:03.958805Z",
     "iopub.status.idle": "2024-11-15T14:58:03.968058Z",
     "shell.execute_reply": "2024-11-15T14:58:03.966970Z",
     "shell.execute_reply.started": "2024-11-15T14:58:03.959444Z"
    }
   },
   "outputs": [
    {
     "name": "stdout",
     "output_type": "stream",
     "text": [
      "c    5\n",
      "a    5\n",
      "b    5\n",
      "dtype: int64 ===========\n",
      "1    5\n",
      "2    5\n",
      "3    5\n",
      "dtype: int64 ===========\n"
     ]
    }
   ],
   "source": [
    "import pandas as pd\n",
    "import numpy as np\n",
    "\n",
    "s = pd.Series(5, index = ['c', 'a', 'b'])\n",
    "print(s, '===========')\n",
    "\n",
    "t = pd.Series(5, index = [1, 2, 3])\n",
    "print(t, '===========')"
   ]
  },
  {
   "cell_type": "markdown",
   "metadata": {},
   "source": [
    "## 2、访问系列"
   ]
  },
  {
   "cell_type": "code",
   "execution_count": 32,
   "metadata": {
    "execution": {
     "iopub.execute_input": "2024-11-15T15:04:36.566987Z",
     "iopub.status.busy": "2024-11-15T15:04:36.566143Z",
     "iopub.status.idle": "2024-11-15T15:04:36.803771Z",
     "shell.execute_reply": "2024-11-15T15:04:36.803251Z",
     "shell.execute_reply.started": "2024-11-15T15:04:36.566917Z"
    },
    "scrolled": true
   },
   "outputs": [
    {
     "ename": "KeyError",
     "evalue": "'h'",
     "output_type": "error",
     "traceback": [
      "\u001b[0;31m---------------------------------------------------------------------------\u001b[0m",
      "\u001b[0;31mKeyError\u001b[0m                                  Traceback (most recent call last)",
      "File \u001b[0;32m~/Library/Python/3.9/lib/python/site-packages/pandas/core/indexes/base.py:3805\u001b[0m, in \u001b[0;36mIndex.get_loc\u001b[0;34m(self, key)\u001b[0m\n\u001b[1;32m   3804\u001b[0m \u001b[38;5;28;01mtry\u001b[39;00m:\n\u001b[0;32m-> 3805\u001b[0m     \u001b[38;5;28;01mreturn\u001b[39;00m \u001b[38;5;28;43mself\u001b[39;49m\u001b[38;5;241;43m.\u001b[39;49m\u001b[43m_engine\u001b[49m\u001b[38;5;241;43m.\u001b[39;49m\u001b[43mget_loc\u001b[49m\u001b[43m(\u001b[49m\u001b[43mcasted_key\u001b[49m\u001b[43m)\u001b[49m\n\u001b[1;32m   3806\u001b[0m \u001b[38;5;28;01mexcept\u001b[39;00m \u001b[38;5;167;01mKeyError\u001b[39;00m \u001b[38;5;28;01mas\u001b[39;00m err:\n",
      "File \u001b[0;32mindex.pyx:167\u001b[0m, in \u001b[0;36mpandas._libs.index.IndexEngine.get_loc\u001b[0;34m()\u001b[0m\n",
      "File \u001b[0;32mindex.pyx:196\u001b[0m, in \u001b[0;36mpandas._libs.index.IndexEngine.get_loc\u001b[0;34m()\u001b[0m\n",
      "File \u001b[0;32mpandas/_libs/hashtable_class_helper.pxi:7081\u001b[0m, in \u001b[0;36mpandas._libs.hashtable.PyObjectHashTable.get_item\u001b[0;34m()\u001b[0m\n",
      "File \u001b[0;32mpandas/_libs/hashtable_class_helper.pxi:7089\u001b[0m, in \u001b[0;36mpandas._libs.hashtable.PyObjectHashTable.get_item\u001b[0;34m()\u001b[0m\n",
      "\u001b[0;31mKeyError\u001b[0m: 'h'",
      "\nThe above exception was the direct cause of the following exception:\n",
      "\u001b[0;31mKeyError\u001b[0m                                  Traceback (most recent call last)",
      "Cell \u001b[0;32mIn[32], line 11\u001b[0m\n\u001b[1;32m      2\u001b[0m s \u001b[38;5;241m=\u001b[39m pd\u001b[38;5;241m.\u001b[39mSeries(li, index \u001b[38;5;241m=\u001b[39m [\u001b[38;5;124m'\u001b[39m\u001b[38;5;124mc\u001b[39m\u001b[38;5;124m'\u001b[39m, \u001b[38;5;124m'\u001b[39m\u001b[38;5;124ma\u001b[39m\u001b[38;5;124m'\u001b[39m, \u001b[38;5;124m'\u001b[39m\u001b[38;5;124mb\u001b[39m\u001b[38;5;124m'\u001b[39m, \u001b[38;5;124m'\u001b[39m\u001b[38;5;124me\u001b[39m\u001b[38;5;124m'\u001b[39m, \u001b[38;5;124m'\u001b[39m\u001b[38;5;124mf\u001b[39m\u001b[38;5;124m'\u001b[39m])\n\u001b[1;32m      3\u001b[0m \u001b[38;5;66;03m# print(s['a'], '==========')\u001b[39;00m\n\u001b[1;32m      4\u001b[0m \u001b[38;5;66;03m# print(s['a':], '=====')\u001b[39;00m\n\u001b[1;32m      5\u001b[0m \u001b[38;5;66;03m# print(s[-2], '=====')\u001b[39;00m\n\u001b[0;32m   (...)\u001b[0m\n\u001b[1;32m      9\u001b[0m \n\u001b[1;32m     10\u001b[0m \u001b[38;5;66;03m# 如果检索的内容系列中没有，就会报错\u001b[39;00m\n\u001b[0;32m---> 11\u001b[0m \u001b[38;5;28mprint\u001b[39m(\u001b[43ms\u001b[49m\u001b[43m[\u001b[49m\u001b[38;5;124;43m'\u001b[39;49m\u001b[38;5;124;43mh\u001b[39;49m\u001b[38;5;124;43m'\u001b[39;49m\u001b[43m]\u001b[49m)\n\u001b[1;32m     12\u001b[0m \u001b[38;5;66;03m# print(s[6])\u001b[39;00m\n",
      "File \u001b[0;32m~/Library/Python/3.9/lib/python/site-packages/pandas/core/series.py:1121\u001b[0m, in \u001b[0;36mSeries.__getitem__\u001b[0;34m(self, key)\u001b[0m\n\u001b[1;32m   1118\u001b[0m     \u001b[38;5;28;01mreturn\u001b[39;00m \u001b[38;5;28mself\u001b[39m\u001b[38;5;241m.\u001b[39m_values[key]\n\u001b[1;32m   1120\u001b[0m \u001b[38;5;28;01melif\u001b[39;00m key_is_scalar:\n\u001b[0;32m-> 1121\u001b[0m     \u001b[38;5;28;01mreturn\u001b[39;00m \u001b[38;5;28;43mself\u001b[39;49m\u001b[38;5;241;43m.\u001b[39;49m\u001b[43m_get_value\u001b[49m\u001b[43m(\u001b[49m\u001b[43mkey\u001b[49m\u001b[43m)\u001b[49m\n\u001b[1;32m   1123\u001b[0m \u001b[38;5;66;03m# Convert generator to list before going through hashable part\u001b[39;00m\n\u001b[1;32m   1124\u001b[0m \u001b[38;5;66;03m# (We will iterate through the generator there to check for slices)\u001b[39;00m\n\u001b[1;32m   1125\u001b[0m \u001b[38;5;28;01mif\u001b[39;00m is_iterator(key):\n",
      "File \u001b[0;32m~/Library/Python/3.9/lib/python/site-packages/pandas/core/series.py:1237\u001b[0m, in \u001b[0;36mSeries._get_value\u001b[0;34m(self, label, takeable)\u001b[0m\n\u001b[1;32m   1234\u001b[0m     \u001b[38;5;28;01mreturn\u001b[39;00m \u001b[38;5;28mself\u001b[39m\u001b[38;5;241m.\u001b[39m_values[label]\n\u001b[1;32m   1236\u001b[0m \u001b[38;5;66;03m# Similar to Index.get_value, but we do not fall back to positional\u001b[39;00m\n\u001b[0;32m-> 1237\u001b[0m loc \u001b[38;5;241m=\u001b[39m \u001b[38;5;28;43mself\u001b[39;49m\u001b[38;5;241;43m.\u001b[39;49m\u001b[43mindex\u001b[49m\u001b[38;5;241;43m.\u001b[39;49m\u001b[43mget_loc\u001b[49m\u001b[43m(\u001b[49m\u001b[43mlabel\u001b[49m\u001b[43m)\u001b[49m\n\u001b[1;32m   1239\u001b[0m \u001b[38;5;28;01mif\u001b[39;00m is_integer(loc):\n\u001b[1;32m   1240\u001b[0m     \u001b[38;5;28;01mreturn\u001b[39;00m \u001b[38;5;28mself\u001b[39m\u001b[38;5;241m.\u001b[39m_values[loc]\n",
      "File \u001b[0;32m~/Library/Python/3.9/lib/python/site-packages/pandas/core/indexes/base.py:3812\u001b[0m, in \u001b[0;36mIndex.get_loc\u001b[0;34m(self, key)\u001b[0m\n\u001b[1;32m   3807\u001b[0m     \u001b[38;5;28;01mif\u001b[39;00m \u001b[38;5;28misinstance\u001b[39m(casted_key, \u001b[38;5;28mslice\u001b[39m) \u001b[38;5;129;01mor\u001b[39;00m (\n\u001b[1;32m   3808\u001b[0m         \u001b[38;5;28misinstance\u001b[39m(casted_key, abc\u001b[38;5;241m.\u001b[39mIterable)\n\u001b[1;32m   3809\u001b[0m         \u001b[38;5;129;01mand\u001b[39;00m \u001b[38;5;28many\u001b[39m(\u001b[38;5;28misinstance\u001b[39m(x, \u001b[38;5;28mslice\u001b[39m) \u001b[38;5;28;01mfor\u001b[39;00m x \u001b[38;5;129;01min\u001b[39;00m casted_key)\n\u001b[1;32m   3810\u001b[0m     ):\n\u001b[1;32m   3811\u001b[0m         \u001b[38;5;28;01mraise\u001b[39;00m InvalidIndexError(key)\n\u001b[0;32m-> 3812\u001b[0m     \u001b[38;5;28;01mraise\u001b[39;00m \u001b[38;5;167;01mKeyError\u001b[39;00m(key) \u001b[38;5;28;01mfrom\u001b[39;00m \u001b[38;5;21;01merr\u001b[39;00m\n\u001b[1;32m   3813\u001b[0m \u001b[38;5;28;01mexcept\u001b[39;00m \u001b[38;5;167;01mTypeError\u001b[39;00m:\n\u001b[1;32m   3814\u001b[0m     \u001b[38;5;66;03m# If we have a listlike key, _check_indexing_error will raise\u001b[39;00m\n\u001b[1;32m   3815\u001b[0m     \u001b[38;5;66;03m#  InvalidIndexError. Otherwise we fall through and re-raise\u001b[39;00m\n\u001b[1;32m   3816\u001b[0m     \u001b[38;5;66;03m#  the TypeError.\u001b[39;00m\n\u001b[1;32m   3817\u001b[0m     \u001b[38;5;28mself\u001b[39m\u001b[38;5;241m.\u001b[39m_check_indexing_error(key)\n",
      "\u001b[0;31mKeyError\u001b[0m: 'h'"
     ]
    }
   ],
   "source": [
    "li = np.array([1, 2, 3, 4, 5])\n",
    "s = pd.Series(li, index = ['c', 'a', 'b', 'e', 'f'])\n",
    "# print(s['a'], '==========')\n",
    "# print(s['a':], '=====')\n",
    "# print(s[-2], '=====')\n",
    "# print(s[-2:], '=====')\n",
    "# print(s[['a', 'e', 'f']], '=====')\n",
    "# print(s['a', 'e', 'f'], '=====') # 格式错误\n",
    "\n",
    "# 如果检索的内容系列中没有，就会报错\n",
    "print(s['h'])\n",
    "# print(s[6])"
   ]
  },
  {
   "cell_type": "markdown",
   "metadata": {},
   "source": [
    "## 3、系列的基本功能"
   ]
  },
  {
   "cell_type": "markdown",
   "metadata": {},
   "source": [
    "### 3.1、系列的属性"
   ]
  },
  {
   "cell_type": "code",
   "execution_count": 102,
   "metadata": {
    "execution": {
     "iopub.execute_input": "2024-11-16T01:20:02.274369Z",
     "iopub.status.busy": "2024-11-16T01:20:02.273927Z",
     "iopub.status.idle": "2024-11-16T01:20:02.283686Z",
     "shell.execute_reply": "2024-11-16T01:20:02.282447Z",
     "shell.execute_reply.started": "2024-11-16T01:20:02.274337Z"
    }
   },
   "outputs": [
    {
     "name": "stdout",
     "output_type": "stream",
     "text": [
      "[RangeIndex(start=0, stop=5, step=1)] ====\n"
     ]
    }
   ],
   "source": [
    "s = pd.Series(np.random.randn(5))\n",
    "# print(s, '====')\n",
    "print(s.axes, '====')\n",
    "# print(s.dtype, '====')\n",
    "# print(s.values, '====')\n",
    "# print(s.index)"
   ]
  },
  {
   "cell_type": "code",
   "execution_count": 43,
   "metadata": {
    "execution": {
     "iopub.execute_input": "2024-11-15T15:10:37.866455Z",
     "iopub.status.busy": "2024-11-15T15:10:37.865744Z",
     "iopub.status.idle": "2024-11-15T15:10:37.874126Z",
     "shell.execute_reply": "2024-11-15T15:10:37.873063Z",
     "shell.execute_reply.started": "2024-11-15T15:10:37.866397Z"
    }
   },
   "outputs": [
    {
     "data": {
      "text/plain": [
       "array([ 1.15040892,  0.12038426,  1.27116908, -0.97166598, -0.5254565 ])"
      ]
     },
     "execution_count": 43,
     "metadata": {},
     "output_type": "execute_result"
    }
   ],
   "source": [
    "np.random.randn(5)"
   ]
  },
  {
   "cell_type": "code",
   "execution_count": null,
   "metadata": {},
   "outputs": [],
   "source": []
  },
  {
   "cell_type": "markdown",
   "metadata": {},
   "source": [
    "### 3.2、系列的方法"
   ]
  },
  {
   "cell_type": "code",
   "execution_count": 52,
   "metadata": {
    "execution": {
     "iopub.execute_input": "2024-11-15T15:13:20.528991Z",
     "iopub.status.busy": "2024-11-15T15:13:20.528456Z",
     "iopub.status.idle": "2024-11-15T15:13:20.534633Z",
     "shell.execute_reply": "2024-11-15T15:13:20.533944Z",
     "shell.execute_reply.started": "2024-11-15T15:13:20.528958Z"
    }
   },
   "outputs": [
    {
     "name": "stdout",
     "output_type": "stream",
     "text": [
      "0   -1.156516\n",
      "1   -1.485124\n",
      "2    0.461247\n",
      "3    0.356221\n",
      "4    0.378392\n",
      "dtype: float64\n"
     ]
    }
   ],
   "source": [
    "s = pd.Series(np.random.randn(5))\n",
    "# print(s)\n",
    "# print(s.head(), '=====') # default 5 rows\n",
    "# print(s.head(3), '=====')\n",
    "print(s.tail()) # default 5 rows\n",
    "# print(s.tail(3))"
   ]
  },
  {
   "cell_type": "code",
   "execution_count": 21,
   "metadata": {},
   "outputs": [
    {
     "name": "stdout",
     "output_type": "stream",
     "text": [
      "0     3.0\n",
      "1     4.0\n",
      "2     4.0\n",
      "3     7.0\n",
      "4     NaN\n",
      "5     4.0\n",
      "6    10.0\n",
      "dtype: float64\n"
     ]
    }
   ],
   "source": [
    "s = pd.Series(['Tom', 'Jack', 'John', 'Alber@t', np.nan, '1234', 'SteveMinsu'])\n",
    "\n",
    "# print(s.str.len()) # get lenth"
   ]
  },
  {
   "cell_type": "code",
   "execution_count": 14,
   "metadata": {},
   "outputs": [
    {
     "name": "stdout",
     "output_type": "stream",
     "text": [
      "0                Tom\n",
      "1               Jack\n",
      "2               John\n",
      "3          Albe  r@t\n",
      "4                NaN\n",
      "5               1234\n",
      "6       SteveMi  nsu\n",
      "dtype: object =======\n",
      "      Albe  r@t ======\n",
      "Albe  r@t ======\n"
     ]
    }
   ],
   "source": [
    "s = pd.Series(['Tom', 'Jack', 'John', '      Albe  r@t', np.nan, '1234', 'SteveMi  nsu'])\n",
    "\n",
    "print(s, '=======')\n",
    "print(s[3], '======')\n",
    "print(s.str.strip()[3], '======')\n",
    "# print(s.str.strip(), '=======')"
   ]
  },
  {
   "cell_type": "code",
   "execution_count": 17,
   "metadata": {},
   "outputs": [
    {
     "name": "stdout",
     "output_type": "stream",
     "text": [
      "0                        [Tom]\n",
      "1                       [Jack]\n",
      "2                       [John]\n",
      "3    [, , , , , , Albe, , r@t]\n",
      "4                          NaN\n",
      "5                       [1234]\n",
      "6             [SteveMi, , nsu]\n",
      "dtype: object ======\n",
      "Tom-Jack-John-      Albe  r@t-1234-SteveMi  nsu ======\n"
     ]
    }
   ],
   "source": [
    "s = pd.Series(['Tom', 'Jack', 'John', '      Albe  r@t', np.nan, '1234', 'SteveMi  nsu'])\n",
    "\n",
    "print(s.str.split(' '), '======')\n",
    "print(s.str.cat(sep = '-'), '======')"
   ]
  },
  {
   "cell_type": "code",
   "execution_count": 4,
   "metadata": {},
   "outputs": [
    {
     "name": "stdout",
     "output_type": "stream",
     "text": [
      "   1234  Alber@t  Jack  John  SteveMinsu  Tom\n",
      "0     0        0     0     0           0    1\n",
      "1     0        0     1     0           0    0\n",
      "2     0        0     0     1           0    0\n",
      "3     0        1     0     0           0    0\n",
      "4     0        0     0     0           0    0\n",
      "5     1        0     0     0           0    0\n",
      "6     0        0     0     0           1    0\n"
     ]
    }
   ],
   "source": [
    "s = pd.Series(['Tom', 'Jack', 'John', 'Alber@t', np.nan, '1234', 'SteveMinsu'])\n",
    "\n",
    "print(s.str.get_dummies())"
   ]
  },
  {
   "cell_type": "code",
   "execution_count": 74,
   "metadata": {
    "execution": {
     "iopub.execute_input": "2024-11-15T17:01:52.106591Z",
     "iopub.status.busy": "2024-11-15T17:01:52.105664Z",
     "iopub.status.idle": "2024-11-15T17:01:52.114905Z",
     "shell.execute_reply": "2024-11-15T17:01:52.114053Z",
     "shell.execute_reply.started": "2024-11-15T17:01:52.106552Z"
    }
   },
   "outputs": [
    {
     "name": "stdout",
     "output_type": "stream",
     "text": [
      "0                         TomTomTom\n",
      "1                      JackJackJack\n",
      "2                      JohnJohnJohn\n",
      "3             Alber@tAlber@tAlber@t\n",
      "4                               NaN\n",
      "5                      123412341234\n",
      "6    SteveMinsuSteveMinsuSteveMinsu\n",
      "dtype: object\n"
     ]
    }
   ],
   "source": [
    "s = pd.Series(['Tom', 'Jack', 'John', 'Alber@t', np.nan, '1234', 'SteveMinsu'])\n",
    "\n",
    "print(s.str.repeat(3))"
   ]
  },
  {
   "cell_type": "markdown",
   "metadata": {},
   "source": [
    "# 二、数据帧（DataFrame）\n",
    "\n",
    "> 数据帧是二维数据结构，即数据以行和列的表格方式排列。\n",
    "\n",
    "**功能特点：**\n",
    "- 潜在的列是不同的类型\n",
    "- 大小可变\n",
    "- 标记轴（行和列）\n",
    "- 可以对行和列执行算术运算"
   ]
  },
  {
   "cell_type": "code",
   "execution_count": 54,
   "metadata": {
    "execution": {
     "iopub.execute_input": "2024-11-15T15:20:19.037300Z",
     "iopub.status.busy": "2024-11-15T15:20:19.036936Z",
     "iopub.status.idle": "2024-11-15T15:20:19.045359Z",
     "shell.execute_reply": "2024-11-15T15:20:19.044659Z",
     "shell.execute_reply.started": "2024-11-15T15:20:19.037272Z"
    }
   },
   "outputs": [
    {
     "data": {
      "text/plain": [
       "DatetimeIndex(['2024-11-15', '2024-11-16', '2024-11-17', '2024-11-18',\n",
       "               '2024-11-19', '2024-11-20'],\n",
       "              dtype='datetime64[ns]', freq='D')"
      ]
     },
     "execution_count": 54,
     "metadata": {},
     "output_type": "execute_result"
    }
   ],
   "source": [
    "dates = pd.date_range(\"20241115\", periods=6)\n",
    "dates"
   ]
  },
  {
   "cell_type": "code",
   "execution_count": 55,
   "metadata": {
    "execution": {
     "iopub.execute_input": "2024-11-15T15:20:56.462812Z",
     "iopub.status.busy": "2024-11-15T15:20:56.462145Z",
     "iopub.status.idle": "2024-11-15T15:20:56.480128Z",
     "shell.execute_reply": "2024-11-15T15:20:56.479576Z",
     "shell.execute_reply.started": "2024-11-15T15:20:56.462764Z"
    }
   },
   "outputs": [
    {
     "data": {
      "text/html": [
       "<div>\n",
       "<style scoped>\n",
       "    .dataframe tbody tr th:only-of-type {\n",
       "        vertical-align: middle;\n",
       "    }\n",
       "\n",
       "    .dataframe tbody tr th {\n",
       "        vertical-align: top;\n",
       "    }\n",
       "\n",
       "    .dataframe thead th {\n",
       "        text-align: right;\n",
       "    }\n",
       "</style>\n",
       "<table border=\"1\" class=\"dataframe\">\n",
       "  <thead>\n",
       "    <tr style=\"text-align: right;\">\n",
       "      <th></th>\n",
       "      <th>A</th>\n",
       "      <th>B</th>\n",
       "      <th>C</th>\n",
       "      <th>D</th>\n",
       "    </tr>\n",
       "  </thead>\n",
       "  <tbody>\n",
       "    <tr>\n",
       "      <th>2024-11-15</th>\n",
       "      <td>-1.574334</td>\n",
       "      <td>0.630045</td>\n",
       "      <td>0.223378</td>\n",
       "      <td>2.286561</td>\n",
       "    </tr>\n",
       "    <tr>\n",
       "      <th>2024-11-16</th>\n",
       "      <td>-1.483359</td>\n",
       "      <td>-0.745969</td>\n",
       "      <td>-0.050909</td>\n",
       "      <td>-0.727293</td>\n",
       "    </tr>\n",
       "    <tr>\n",
       "      <th>2024-11-17</th>\n",
       "      <td>0.881678</td>\n",
       "      <td>1.125060</td>\n",
       "      <td>-0.134097</td>\n",
       "      <td>-0.550549</td>\n",
       "    </tr>\n",
       "    <tr>\n",
       "      <th>2024-11-18</th>\n",
       "      <td>-0.352857</td>\n",
       "      <td>0.545939</td>\n",
       "      <td>-0.977890</td>\n",
       "      <td>0.161047</td>\n",
       "    </tr>\n",
       "    <tr>\n",
       "      <th>2024-11-19</th>\n",
       "      <td>-2.163207</td>\n",
       "      <td>-0.107210</td>\n",
       "      <td>0.077133</td>\n",
       "      <td>0.710805</td>\n",
       "    </tr>\n",
       "    <tr>\n",
       "      <th>2024-11-20</th>\n",
       "      <td>-0.420754</td>\n",
       "      <td>-2.503652</td>\n",
       "      <td>0.982641</td>\n",
       "      <td>1.516829</td>\n",
       "    </tr>\n",
       "  </tbody>\n",
       "</table>\n",
       "</div>"
      ],
      "text/plain": [
       "                   A         B         C         D\n",
       "2024-11-15 -1.574334  0.630045  0.223378  2.286561\n",
       "2024-11-16 -1.483359 -0.745969 -0.050909 -0.727293\n",
       "2024-11-17  0.881678  1.125060 -0.134097 -0.550549\n",
       "2024-11-18 -0.352857  0.545939 -0.977890  0.161047\n",
       "2024-11-19 -2.163207 -0.107210  0.077133  0.710805\n",
       "2024-11-20 -0.420754 -2.503652  0.982641  1.516829"
      ]
     },
     "execution_count": 55,
     "metadata": {},
     "output_type": "execute_result"
    }
   ],
   "source": [
    "df = pd.DataFrame(np.random.randn(6, 4), index = dates, columns = list(\"ABCD\"))\n",
    "df"
   ]
  },
  {
   "cell_type": "code",
   "execution_count": 63,
   "metadata": {
    "execution": {
     "iopub.execute_input": "2024-11-15T15:37:13.371707Z",
     "iopub.status.busy": "2024-11-15T15:37:13.370814Z",
     "iopub.status.idle": "2024-11-15T15:37:13.377949Z",
     "shell.execute_reply": "2024-11-15T15:37:13.376900Z",
     "shell.execute_reply.started": "2024-11-15T15:37:13.371628Z"
    }
   },
   "outputs": [],
   "source": [
    "\n",
    "# x = [[0, 0.3, 0.6, 0.9], [0.1, 0.2 ,0.4, 0.4]]\n",
    "# pan = pd.DataFrame(x, index = 'Value', columns = ['VR', 'VI'])\n",
    "# pan"
   ]
  },
  {
   "cell_type": "code",
   "execution_count": 79,
   "metadata": {
    "execution": {
     "iopub.execute_input": "2024-11-15T17:05:11.069776Z",
     "iopub.status.busy": "2024-11-15T17:05:11.068956Z",
     "iopub.status.idle": "2024-11-15T17:05:11.087486Z",
     "shell.execute_reply": "2024-11-15T17:05:11.086765Z",
     "shell.execute_reply.started": "2024-11-15T17:05:11.069742Z"
    }
   },
   "outputs": [
    {
     "data": {
      "text/html": [
       "<div>\n",
       "<style scoped>\n",
       "    .dataframe tbody tr th:only-of-type {\n",
       "        vertical-align: middle;\n",
       "    }\n",
       "\n",
       "    .dataframe tbody tr th {\n",
       "        vertical-align: top;\n",
       "    }\n",
       "\n",
       "    .dataframe thead th {\n",
       "        text-align: right;\n",
       "    }\n",
       "</style>\n",
       "<table border=\"1\" class=\"dataframe\">\n",
       "  <thead>\n",
       "    <tr style=\"text-align: right;\">\n",
       "      <th></th>\n",
       "      <th>A</th>\n",
       "      <th>B</th>\n",
       "      <th>C</th>\n",
       "      <th>D</th>\n",
       "      <th>E</th>\n",
       "      <th>F</th>\n",
       "    </tr>\n",
       "  </thead>\n",
       "  <tbody>\n",
       "    <tr>\n",
       "      <th>0</th>\n",
       "      <td>1.0</td>\n",
       "      <td>2013-01-02</td>\n",
       "      <td>1.0</td>\n",
       "      <td>3</td>\n",
       "      <td>test</td>\n",
       "      <td>foo</td>\n",
       "    </tr>\n",
       "    <tr>\n",
       "      <th>1</th>\n",
       "      <td>1.0</td>\n",
       "      <td>2013-01-02</td>\n",
       "      <td>1.0</td>\n",
       "      <td>3</td>\n",
       "      <td>train</td>\n",
       "      <td>foo</td>\n",
       "    </tr>\n",
       "    <tr>\n",
       "      <th>2</th>\n",
       "      <td>1.0</td>\n",
       "      <td>2013-01-02</td>\n",
       "      <td>1.0</td>\n",
       "      <td>3</td>\n",
       "      <td>test</td>\n",
       "      <td>foo</td>\n",
       "    </tr>\n",
       "    <tr>\n",
       "      <th>3</th>\n",
       "      <td>1.0</td>\n",
       "      <td>2013-01-02</td>\n",
       "      <td>1.0</td>\n",
       "      <td>3</td>\n",
       "      <td>train</td>\n",
       "      <td>foo</td>\n",
       "    </tr>\n",
       "  </tbody>\n",
       "</table>\n",
       "</div>"
      ],
      "text/plain": [
       "     A          B    C  D      E    F\n",
       "0  1.0 2013-01-02  1.0  3   test  foo\n",
       "1  1.0 2013-01-02  1.0  3  train  foo\n",
       "2  1.0 2013-01-02  1.0  3   test  foo\n",
       "3  1.0 2013-01-02  1.0  3  train  foo"
      ]
     },
     "execution_count": 79,
     "metadata": {},
     "output_type": "execute_result"
    }
   ],
   "source": [
    "df2 = pd.DataFrame(\n",
    "    {\n",
    "        \"A\": 1.0,\n",
    "        \"B\": pd.Timestamp(\"20130102\"),\n",
    "        \"C\": pd.Series(1, index=list(range(4)), dtype=\"float32\"),\n",
    "        \"D\": np.array([3] * 4, dtype=\"int32\"),\n",
    "        \"E\": pd.Categorical([\"test\", \"train\", \"test\", \"train\"]),\n",
    "        \"F\": \"foo\",\n",
    "    }\n",
    ")\n",
    "df2\n",
    "# df2.head(1)\n",
    "# df2.tail(1)"
   ]
  },
  {
   "cell_type": "markdown",
   "metadata": {},
   "source": [
    "## Dataframe转为ndarray"
   ]
  },
  {
   "cell_type": "code",
   "execution_count": 80,
   "metadata": {
    "execution": {
     "iopub.execute_input": "2024-11-15T17:05:25.971917Z",
     "iopub.status.busy": "2024-11-15T17:05:25.971076Z",
     "iopub.status.idle": "2024-11-15T17:05:25.980872Z",
     "shell.execute_reply": "2024-11-15T17:05:25.980214Z",
     "shell.execute_reply.started": "2024-11-15T17:05:25.971801Z"
    }
   },
   "outputs": [
    {
     "data": {
      "text/plain": [
       "array([[1.0, Timestamp('2013-01-02 00:00:00'), 1.0, 3, 'test', 'foo'],\n",
       "       [1.0, Timestamp('2013-01-02 00:00:00'), 1.0, 3, 'train', 'foo'],\n",
       "       [1.0, Timestamp('2013-01-02 00:00:00'), 1.0, 3, 'test', 'foo'],\n",
       "       [1.0, Timestamp('2013-01-02 00:00:00'), 1.0, 3, 'train', 'foo']],\n",
       "      dtype=object)"
      ]
     },
     "execution_count": 80,
     "metadata": {},
     "output_type": "execute_result"
    }
   ],
   "source": [
    "# df.to_numpy()\n",
    "df2.to_numpy()"
   ]
  },
  {
   "cell_type": "markdown",
   "metadata": {},
   "source": [
    "## describe"
   ]
  },
  {
   "cell_type": "code",
   "execution_count": 81,
   "metadata": {
    "execution": {
     "iopub.execute_input": "2024-11-15T17:07:08.379859Z",
     "iopub.status.busy": "2024-11-15T17:07:08.379095Z",
     "iopub.status.idle": "2024-11-15T17:07:08.401241Z",
     "shell.execute_reply": "2024-11-15T17:07:08.400712Z",
     "shell.execute_reply.started": "2024-11-15T17:07:08.379808Z"
    }
   },
   "outputs": [
    {
     "data": {
      "text/html": [
       "<div>\n",
       "<style scoped>\n",
       "    .dataframe tbody tr th:only-of-type {\n",
       "        vertical-align: middle;\n",
       "    }\n",
       "\n",
       "    .dataframe tbody tr th {\n",
       "        vertical-align: top;\n",
       "    }\n",
       "\n",
       "    .dataframe thead th {\n",
       "        text-align: right;\n",
       "    }\n",
       "</style>\n",
       "<table border=\"1\" class=\"dataframe\">\n",
       "  <thead>\n",
       "    <tr style=\"text-align: right;\">\n",
       "      <th></th>\n",
       "      <th>A</th>\n",
       "      <th>B</th>\n",
       "      <th>C</th>\n",
       "      <th>D</th>\n",
       "    </tr>\n",
       "  </thead>\n",
       "  <tbody>\n",
       "    <tr>\n",
       "      <th>count</th>\n",
       "      <td>6.000000</td>\n",
       "      <td>6.000000</td>\n",
       "      <td>6.000000</td>\n",
       "      <td>6.000000</td>\n",
       "    </tr>\n",
       "    <tr>\n",
       "      <th>mean</th>\n",
       "      <td>-0.852139</td>\n",
       "      <td>-0.175964</td>\n",
       "      <td>0.020043</td>\n",
       "      <td>0.566233</td>\n",
       "    </tr>\n",
       "    <tr>\n",
       "      <th>std</th>\n",
       "      <td>1.102760</td>\n",
       "      <td>1.312343</td>\n",
       "      <td>0.631801</td>\n",
       "      <td>1.180563</td>\n",
       "    </tr>\n",
       "    <tr>\n",
       "      <th>min</th>\n",
       "      <td>-2.163207</td>\n",
       "      <td>-2.503652</td>\n",
       "      <td>-0.977890</td>\n",
       "      <td>-0.727293</td>\n",
       "    </tr>\n",
       "    <tr>\n",
       "      <th>25%</th>\n",
       "      <td>-1.551590</td>\n",
       "      <td>-0.586279</td>\n",
       "      <td>-0.113300</td>\n",
       "      <td>-0.372650</td>\n",
       "    </tr>\n",
       "    <tr>\n",
       "      <th>50%</th>\n",
       "      <td>-0.952057</td>\n",
       "      <td>0.219365</td>\n",
       "      <td>0.013112</td>\n",
       "      <td>0.435926</td>\n",
       "    </tr>\n",
       "    <tr>\n",
       "      <th>75%</th>\n",
       "      <td>-0.369831</td>\n",
       "      <td>0.609019</td>\n",
       "      <td>0.186817</td>\n",
       "      <td>1.315323</td>\n",
       "    </tr>\n",
       "    <tr>\n",
       "      <th>max</th>\n",
       "      <td>0.881678</td>\n",
       "      <td>1.125060</td>\n",
       "      <td>0.982641</td>\n",
       "      <td>2.286561</td>\n",
       "    </tr>\n",
       "  </tbody>\n",
       "</table>\n",
       "</div>"
      ],
      "text/plain": [
       "              A         B         C         D\n",
       "count  6.000000  6.000000  6.000000  6.000000\n",
       "mean  -0.852139 -0.175964  0.020043  0.566233\n",
       "std    1.102760  1.312343  0.631801  1.180563\n",
       "min   -2.163207 -2.503652 -0.977890 -0.727293\n",
       "25%   -1.551590 -0.586279 -0.113300 -0.372650\n",
       "50%   -0.952057  0.219365  0.013112  0.435926\n",
       "75%   -0.369831  0.609019  0.186817  1.315323\n",
       "max    0.881678  1.125060  0.982641  2.286561"
      ]
     },
     "execution_count": 81,
     "metadata": {},
     "output_type": "execute_result"
    }
   ],
   "source": [
    "df.describe()"
   ]
  },
  {
   "cell_type": "markdown",
   "metadata": {},
   "source": [
    "# 三、pandas文件操作"
   ]
  },
  {
   "cell_type": "markdown",
   "metadata": {},
   "source": [
    "## 1、pandas操作CSV文件\n",
    "\n",
    "`read_csv()`：可选参数： read_csv 函数还支持许多可选参数，例如 sep（分隔符）、header（列头行的索引）、index_col（作为索引的列）、usecols（要读取的列）、dtype（指定数据类型）等等。根据需要进行设置。"
   ]
  },
  {
   "cell_type": "code",
   "execution_count": 145,
   "metadata": {
    "execution": {
     "iopub.execute_input": "2024-11-16T01:49:13.023749Z",
     "iopub.status.busy": "2024-11-16T01:49:13.023294Z",
     "iopub.status.idle": "2024-11-16T01:49:13.034696Z",
     "shell.execute_reply": "2024-11-16T01:49:13.033886Z",
     "shell.execute_reply.started": "2024-11-16T01:49:13.023711Z"
    }
   },
   "outputs": [
    {
     "name": "stdout",
     "output_type": "stream",
     "text": [
      "   Vg   Chf\n",
      "0   1   4.0\n",
      "1   2  24.0\n",
      "2   3   4.5\n",
      "3   4   0.4\n",
      "4   5   2.4\n"
     ]
    }
   ],
   "source": [
    "# os.listdir()\n",
    "\n",
    "df = pd.read_csv('P1(123453)/M-20241114-1.csv')\n",
    "print(df)\n",
    "# print(df.transpose())\n",
    "\n",
    "# print(df.loc[2])\n",
    "# print(df['Vg'] )\n",
    "# print(type(df.values))\n",
    "# print(df.head)"
   ]
  },
  {
   "cell_type": "code",
   "execution_count": 115,
   "metadata": {
    "execution": {
     "iopub.execute_input": "2024-11-16T01:26:29.985918Z",
     "iopub.status.busy": "2024-11-16T01:26:29.985442Z",
     "iopub.status.idle": "2024-11-16T01:26:30.003641Z",
     "shell.execute_reply": "2024-11-16T01:26:30.002444Z",
     "shell.execute_reply.started": "2024-11-16T01:26:29.985882Z"
    }
   },
   "outputs": [
    {
     "data": {
      "text/html": [
       "<div>\n",
       "<style scoped>\n",
       "    .dataframe tbody tr th:only-of-type {\n",
       "        vertical-align: middle;\n",
       "    }\n",
       "\n",
       "    .dataframe tbody tr th {\n",
       "        vertical-align: top;\n",
       "    }\n",
       "\n",
       "    .dataframe thead th {\n",
       "        text-align: right;\n",
       "    }\n",
       "</style>\n",
       "<table border=\"1\" class=\"dataframe\">\n",
       "  <thead>\n",
       "    <tr style=\"text-align: right;\">\n",
       "      <th></th>\n",
       "      <th>Vg</th>\n",
       "      <th>Chf</th>\n",
       "    </tr>\n",
       "  </thead>\n",
       "  <tbody>\n",
       "    <tr>\n",
       "      <th>0</th>\n",
       "      <td>1</td>\n",
       "      <td>16.00</td>\n",
       "    </tr>\n",
       "    <tr>\n",
       "      <th>1</th>\n",
       "      <td>4</td>\n",
       "      <td>576.00</td>\n",
       "    </tr>\n",
       "    <tr>\n",
       "      <th>2</th>\n",
       "      <td>9</td>\n",
       "      <td>20.25</td>\n",
       "    </tr>\n",
       "    <tr>\n",
       "      <th>3</th>\n",
       "      <td>16</td>\n",
       "      <td>0.16</td>\n",
       "    </tr>\n",
       "    <tr>\n",
       "      <th>4</th>\n",
       "      <td>25</td>\n",
       "      <td>5.76</td>\n",
       "    </tr>\n",
       "  </tbody>\n",
       "</table>\n",
       "</div>"
      ],
      "text/plain": [
       "   Vg     Chf\n",
       "0   1   16.00\n",
       "1   4  576.00\n",
       "2   9   20.25\n",
       "3  16    0.16\n",
       "4  25    5.76"
      ]
     },
     "execution_count": 115,
     "metadata": {},
     "output_type": "execute_result"
    }
   ],
   "source": [
    "df.transform(lambda x: x**2)"
   ]
  },
  {
   "cell_type": "code",
   "execution_count": 143,
   "metadata": {
    "execution": {
     "iopub.execute_input": "2024-11-16T01:33:13.922430Z",
     "iopub.status.busy": "2024-11-16T01:33:13.921795Z",
     "iopub.status.idle": "2024-11-16T01:33:13.929409Z",
     "shell.execute_reply": "2024-11-16T01:33:13.928745Z",
     "shell.execute_reply.started": "2024-11-16T01:33:13.922400Z"
    }
   },
   "outputs": [
    {
     "data": {
      "text/plain": [
       "0    1.0\n",
       "1    2.0\n",
       "2    3.0\n",
       "3    4.0\n",
       "4    5.0\n",
       "Name: Vg, dtype: float64"
      ]
     },
     "execution_count": 143,
     "metadata": {},
     "output_type": "execute_result"
    }
   ],
   "source": [
    "df_trans = df.transpose()\n",
    "# df_trans\n",
    "df_trans.loc['Vg']"
   ]
  },
  {
   "cell_type": "code",
   "execution_count": 141,
   "metadata": {
    "execution": {
     "iopub.execute_input": "2024-11-16T01:32:45.533116Z",
     "iopub.status.busy": "2024-11-16T01:32:45.532650Z",
     "iopub.status.idle": "2024-11-16T01:32:45.543217Z",
     "shell.execute_reply": "2024-11-16T01:32:45.542091Z",
     "shell.execute_reply.started": "2024-11-16T01:32:45.533081Z"
    }
   },
   "outputs": [
    {
     "data": {
      "text/plain": [
       "0    1.0\n",
       "1    2.0\n",
       "2    3.0\n",
       "3    4.0\n",
       "4    5.0\n",
       "Name: Vg, dtype: float64"
      ]
     },
     "execution_count": 141,
     "metadata": {},
     "output_type": "execute_result"
    }
   ],
   "source": [
    "df.transpose().loc['Vg']"
   ]
  }
 ],
 "metadata": {
  "kernelspec": {
   "display_name": "Python 3 (ipykernel)",
   "language": "python",
   "name": "python3"
  },
  "language_info": {
   "codemirror_mode": {
    "name": "ipython",
    "version": 3
   },
   "file_extension": ".py",
   "mimetype": "text/x-python",
   "name": "python",
   "nbconvert_exporter": "python",
   "pygments_lexer": "ipython3",
   "version": "3.9.6"
  }
 },
 "nbformat": 4,
 "nbformat_minor": 4
}
