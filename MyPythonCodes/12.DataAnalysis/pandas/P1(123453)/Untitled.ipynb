{
 "cells": [
  {
   "cell_type": "code",
   "execution_count": 1,
   "id": "954ea227-2a3a-4415-a94e-99745cc54d5f",
   "metadata": {
    "execution": {
     "iopub.execute_input": "2024-11-22T14:05:16.348126Z",
     "iopub.status.busy": "2024-11-22T14:05:16.347132Z",
     "iopub.status.idle": "2024-11-22T14:05:16.588102Z",
     "shell.execute_reply": "2024-11-22T14:05:16.587813Z",
     "shell.execute_reply.started": "2024-11-22T14:05:16.348048Z"
    }
   },
   "outputs": [],
   "source": [
    "import pandas as pd"
   ]
  },
  {
   "cell_type": "code",
   "execution_count": 41,
   "id": "8ef3e216-29ea-4015-8262-cbe35c802467",
   "metadata": {
    "execution": {
     "iopub.execute_input": "2024-11-22T14:33:32.941215Z",
     "iopub.status.busy": "2024-11-22T14:33:32.940607Z",
     "iopub.status.idle": "2024-11-22T14:33:32.952253Z",
     "shell.execute_reply": "2024-11-22T14:33:32.951556Z",
     "shell.execute_reply.started": "2024-11-22T14:33:32.941178Z"
    }
   },
   "outputs": [
    {
     "data": {
      "text/plain": [
       "pandas.core.frame.DataFrame"
      ]
     },
     "execution_count": 41,
     "metadata": {},
     "output_type": "execute_result"
    }
   ],
   "source": [
    "df = pd.read_csv('M-20241114-1.csv', index_col = False, names = ['Vg', 'Cf'])[3:8]\n",
    "type(df)"
   ]
  }
 ],
 "metadata": {
  "kernelspec": {
   "display_name": "Python 3 (ipykernel)",
   "language": "python",
   "name": "python3"
  },
  "language_info": {
   "codemirror_mode": {
    "name": "ipython",
    "version": 3
   },
   "file_extension": ".py",
   "mimetype": "text/x-python",
   "name": "python",
   "nbconvert_exporter": "python",
   "pygments_lexer": "ipython3",
   "version": "3.9.6"
  }
 },
 "nbformat": 4,
 "nbformat_minor": 5
}
