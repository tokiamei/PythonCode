{
 "cells": [
  {
   "cell_type": "code",
   "execution_count": 2,
   "id": "098caf01-06b7-49aa-964c-4d213c01be6f",
   "metadata": {
    "execution": {
     "iopub.execute_input": "2024-11-22T13:53:48.832775Z",
     "iopub.status.busy": "2024-11-22T13:53:48.832104Z",
     "iopub.status.idle": "2024-11-22T13:53:49.382299Z",
     "shell.execute_reply": "2024-11-22T13:53:49.381938Z",
     "shell.execute_reply.started": "2024-11-22T13:53:48.832728Z"
    }
   },
   "outputs": [],
   "source": [
    "import pandas as pd"
   ]
  },
  {
   "cell_type": "code",
   "execution_count": 4,
   "id": "0ae1b483-554b-43de-8afb-b7ee47bb0f6b",
   "metadata": {
    "execution": {
     "iopub.execute_input": "2024-11-21T15:34:46.408417Z",
     "iopub.status.busy": "2024-11-21T15:34:46.408107Z",
     "iopub.status.idle": "2024-11-21T15:34:46.412268Z",
     "shell.execute_reply": "2024-11-21T15:34:46.411441Z",
     "shell.execute_reply.started": "2024-11-21T15:34:46.408392Z"
    }
   },
   "outputs": [],
   "source": [
    "# df = pd.read_excel('江苏省考候选-xqz.xlsx')\n",
    "# df.head\n",
    "# df[df['专　业'] == '计算机(软件)类、电子信息类']\n",
    "# df[df['专　业'].isin(['电子信息类', '计算机类'])]\n",
    "# df[df['专　业'].str.contains(['电子信息类', '计算机类'])] # error\n",
    "# df[df['专　业'].str.contains('电子信息类')] \n",
    "# df[df['专　业'].str.contains('电子信息类|计算机类')]"
   ]
  },
  {
   "cell_type": "code",
   "execution_count": 13,
   "id": "4617c316-b181-45ad-b339-c5f9a48f9200",
   "metadata": {
    "execution": {
     "iopub.execute_input": "2024-11-22T13:58:34.671325Z",
     "iopub.status.busy": "2024-11-22T13:58:34.670487Z",
     "iopub.status.idle": "2024-11-22T13:58:34.679034Z",
     "shell.execute_reply": "2024-11-22T13:58:34.678105Z",
     "shell.execute_reply.started": "2024-11-22T13:58:34.671252Z"
    },
    "scrolled": true
   },
   "outputs": [],
   "source": [
    "# sk = pd.read_excel('副本08-淮安市.xls')[2:10]\n",
    "# sk\n",
    "# sk# print(sk.index)\n",
    "# sk.to_string()\n",
    "# pd.set_option('display.max_rows', None)\n",
    "# sk[( sk['专　业'].str.contains('计算机类|电子信息类') ) & ( ~sk['其　它'].str.contains('女性|应届毕业生|视力|中共党员') )]\n",
    "# sk['专　业']"
   ]
  },
  {
   "cell_type": "code",
   "execution_count": 17,
   "id": "c292c3b1-5215-4fbd-87b7-a8722acdffe9",
   "metadata": {
    "execution": {
     "iopub.execute_input": "2024-11-22T14:00:18.225497Z",
     "iopub.status.busy": "2024-11-22T14:00:18.224680Z",
     "iopub.status.idle": "2024-11-22T14:00:18.235502Z",
     "shell.execute_reply": "2024-11-22T14:00:18.234599Z",
     "shell.execute_reply.started": "2024-11-22T14:00:18.225336Z"
    }
   },
   "outputs": [
    {
     "data": {
      "text/plain": [
       "array([1, 2, 3, 4])"
      ]
     },
     "execution_count": 17,
     "metadata": {},
     "output_type": "execute_result"
    }
   ],
   "source": [
    "a = pd.Series([1, 2, 3, 4])\n",
    "a.values"
   ]
  },
  {
   "cell_type": "code",
   "execution_count": 23,
   "id": "337ab72c-4a97-43c0-a81b-bdb3db48cb2e",
   "metadata": {
    "execution": {
     "iopub.execute_input": "2024-11-22T14:03:02.921812Z",
     "iopub.status.busy": "2024-11-22T14:03:02.920736Z",
     "iopub.status.idle": "2024-11-22T14:03:02.932748Z",
     "shell.execute_reply": "2024-11-22T14:03:02.931845Z",
     "shell.execute_reply.started": "2024-11-22T14:03:02.921767Z"
    }
   },
   "outputs": [
    {
     "data": {
      "text/plain": [
       "array([[1, 3],\n",
       "       [2, 6],\n",
       "       [3, 9]])"
      ]
     },
     "execution_count": 23,
     "metadata": {},
     "output_type": "execute_result"
    }
   ],
   "source": [
    "b = pd.DataFrame([[1, 2, 3], [3, 6, 9]])\n",
    "b.T.values"
   ]
  },
  {
   "cell_type": "code",
   "execution_count": null,
   "id": "2eb61e7e-30bd-4264-9e9d-caaedcddcfef",
   "metadata": {},
   "outputs": [],
   "source": [
    "\n"
   ]
  },
  {
   "cell_type": "code",
   "execution_count": null,
   "id": "356c6816-916e-4c93-8501-f532b1cf2c3e",
   "metadata": {},
   "outputs": [],
   "source": []
  }
 ],
 "metadata": {
  "kernelspec": {
   "display_name": "Python 3 (ipykernel)",
   "language": "python",
   "name": "python3"
  },
  "language_info": {
   "codemirror_mode": {
    "name": "ipython",
    "version": 3
   },
   "file_extension": ".py",
   "mimetype": "text/x-python",
   "name": "python",
   "nbconvert_exporter": "python",
   "pygments_lexer": "ipython3",
   "version": "3.9.6"
  }
 },
 "nbformat": 4,
 "nbformat_minor": 5
}
