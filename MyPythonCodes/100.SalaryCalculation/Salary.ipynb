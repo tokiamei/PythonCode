{
 "cells": [
  {
   "cell_type": "code",
   "execution_count": 1,
   "id": "bdf64ce7-0efc-45f1-a07c-34265419b11a",
   "metadata": {
    "execution": {
     "iopub.execute_input": "2024-04-20T14:50:51.300927Z",
     "iopub.status.busy": "2024-04-20T14:50:51.299933Z",
     "iopub.status.idle": "2024-04-20T14:50:51.314383Z",
     "shell.execute_reply": "2024-04-20T14:50:51.313333Z",
     "shell.execute_reply.started": "2024-04-20T14:50:51.299933Z"
    }
   },
   "outputs": [],
   "source": [
    "def overtimeSalaryCalculation(weekdayOvertime, weekendOvertime, baseSalary = 10000, monthWorkDays = 21.75):\n",
    "    salaryPerDay = baseSalary/monthWorkDays\n",
    "    salaryPerHour = salaryPerDay/8\n",
    "    weekdayOvertimeSalary = salaryPerHour * 1.5 * weekdayOvertime\n",
    "    weekendOvertimeSalary = salaryPerHour * 2 * weekendOvertime\n",
    "    return weekdayOvertimeSalary + weekendOvertimeSalary"
   ]
  },
  {
   "cell_type": "code",
   "execution_count": 6,
   "id": "ba2a0123-5764-4e80-b3c0-a1fa431f69ae",
   "metadata": {
    "execution": {
     "iopub.execute_input": "2024-04-20T14:53:59.837618Z",
     "iopub.status.busy": "2024-04-20T14:53:59.836618Z",
     "iopub.status.idle": "2024-04-20T14:53:59.844516Z",
     "shell.execute_reply": "2024-04-20T14:53:59.842500Z",
     "shell.execute_reply.started": "2024-04-20T14:53:59.837618Z"
    }
   },
   "outputs": [],
   "source": [
    "weekdayOvertime = 1 + 1 + 2 + 2 + 3 + 3\n",
    "weekendOvertime = 8 + 9"
   ]
  },
  {
   "cell_type": "code",
   "execution_count": 5,
   "id": "5c87009e-5ef2-45da-af34-8e0ba6812546",
   "metadata": {
    "execution": {
     "iopub.execute_input": "2024-04-20T14:53:57.160053Z",
     "iopub.status.busy": "2024-04-20T14:53:57.159054Z",
     "iopub.status.idle": "2024-04-20T14:53:57.171165Z",
     "shell.execute_reply": "2024-04-20T14:53:57.169144Z",
     "shell.execute_reply.started": "2024-04-20T14:53:57.160053Z"
    }
   },
   "outputs": [
    {
     "data": {
      "text/plain": [
       "3247.126436781609"
      ]
     },
     "execution_count": 5,
     "metadata": {},
     "output_type": "execute_result"
    }
   ],
   "source": [
    "overtimeSalaryCalculation(weekdayOvertime, weekendOvertime)"
   ]
  },
  {
   "cell_type": "code",
   "execution_count": 7,
   "id": "2bb6bef2-40c6-46fa-8c99-418008aa4e5d",
   "metadata": {
    "execution": {
     "iopub.execute_input": "2024-04-20T14:54:09.877806Z",
     "iopub.status.busy": "2024-04-20T14:54:09.876773Z",
     "iopub.status.idle": "2024-04-20T14:54:09.890453Z",
     "shell.execute_reply": "2024-04-20T14:54:09.887431Z",
     "shell.execute_reply.started": "2024-04-20T14:54:09.877806Z"
    }
   },
   "outputs": [
    {
     "data": {
      "text/plain": [
       "12"
      ]
     },
     "execution_count": 7,
     "metadata": {},
     "output_type": "execute_result"
    }
   ],
   "source": [
    "1 + 1 + 2 + 2 + 3 + 3"
   ]
  }
 ],
 "metadata": {
  "kernelspec": {
   "display_name": "Python 3 (ipykernel)",
   "language": "python",
   "name": "python3"
  },
  "language_info": {
   "codemirror_mode": {
    "name": "ipython",
    "version": 3
   },
   "file_extension": ".py",
   "mimetype": "text/x-python",
   "name": "python",
   "nbconvert_exporter": "python",
   "pygments_lexer": "ipython3",
   "version": "3.11.4"
  }
 },
 "nbformat": 4,
 "nbformat_minor": 5
}
