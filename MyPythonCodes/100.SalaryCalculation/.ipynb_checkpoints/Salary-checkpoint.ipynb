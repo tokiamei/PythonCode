{
 "cells": [
  {
   "cell_type": "code",
   "execution_count": 5,
   "id": "bdf64ce7-0efc-45f1-a07c-34265419b11a",
   "metadata": {
    "execution": {
     "iopub.execute_input": "2024-01-21T06:43:56.996892Z",
     "iopub.status.busy": "2024-01-21T06:43:56.996892Z",
     "iopub.status.idle": "2024-01-21T06:43:57.004645Z",
     "shell.execute_reply": "2024-01-21T06:43:57.003628Z",
     "shell.execute_reply.started": "2024-01-21T06:43:56.996892Z"
    }
   },
   "outputs": [],
   "source": [
    "def overtimeSalaryCalculation(weekdayOvertime, weekendOvertime, baseSalary = 10000, monthWorkDays = 21.75):\n",
    "    salaryPerDay = baseSalary/monthWorkDays\n",
    "    salaryPerHour = salaryPerDay/8\n",
    "    weekdayOvertimeSalary = salaryPerHour * 1.5 * weekdayOvertime\n",
    "    weekendOvertimeSalary = salaryPerHour * 2 * weekendOvertime\n",
    "    return weekdayOvertimeSalary + weekendOvertimeSalary"
   ]
  },
  {
   "cell_type": "code",
   "execution_count": 6,
   "id": "5c87009e-5ef2-45da-af34-8e0ba6812546",
   "metadata": {
    "execution": {
     "iopub.execute_input": "2024-01-21T06:43:58.523563Z",
     "iopub.status.busy": "2024-01-21T06:43:58.522564Z",
     "iopub.status.idle": "2024-01-21T06:43:58.530620Z",
     "shell.execute_reply": "2024-01-21T06:43:58.529604Z",
     "shell.execute_reply.started": "2024-01-21T06:43:58.523563Z"
    }
   },
   "outputs": [
    {
     "data": {
      "text/plain": [
       "1235.6321839080458"
      ]
     },
     "execution_count": 6,
     "metadata": {},
     "output_type": "execute_result"
    }
   ],
   "source": [
    "overtimeSalaryCalculation(5, 7)"
   ]
  }
 ],
 "metadata": {
  "kernelspec": {
   "display_name": "Python 3 (ipykernel)",
   "language": "python",
   "name": "python3"
  },
  "language_info": {
   "codemirror_mode": {
    "name": "ipython",
    "version": 3
   },
   "file_extension": ".py",
   "mimetype": "text/x-python",
   "name": "python",
   "nbconvert_exporter": "python",
   "pygments_lexer": "ipython3",
   "version": "3.11.4"
  }
 },
 "nbformat": 4,
 "nbformat_minor": 5
}
