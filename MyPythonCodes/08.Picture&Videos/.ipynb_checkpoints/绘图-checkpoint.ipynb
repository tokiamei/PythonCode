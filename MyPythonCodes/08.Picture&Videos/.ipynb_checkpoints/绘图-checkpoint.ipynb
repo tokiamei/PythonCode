{
 "cells": [
  {
   "cell_type": "markdown",
   "metadata": {
    "jp-MarkdownHeadingCollapsed": true,
    "tags": []
   },
   "source": [
    "## 1、简单绘制折线图"
   ]
  },
  {
   "cell_type": "code",
   "execution_count": null,
   "metadata": {},
   "outputs": [],
   "source": [
    "# 查看 python 路径\n",
    "import os\n",
    "os.sys.executable"
   ]
  },
  {
   "cell_type": "code",
   "execution_count": null,
   "metadata": {
    "tags": []
   },
   "outputs": [],
   "source": [
    "from matplotlib import pyplot as plt\n",
    "import matplotlib\n",
    "# 设置显示中文字体\n",
    "# from pylab import mpl\n",
    "matplotlib.rcParams['font.family'] = 'SimHei'\n",
    "# mpl.rcParams[\"font.sans-serif\"] = [\"SimHei\"]\n",
    "\n",
    "\n",
    "x = range(1, 7)\n",
    "y = [13, 15, 14, 16, 15, 17]\n",
    "\n",
    "# '''\n",
    "# figsize：设置图片的宽、高，单位为英寸\n",
    "# dpi：设置分辨率\n",
    "# '''\n",
    "plt.figure(figsize=(4, 2), dpi=500)\n",
    "plt.title('折线图')\n",
    "plt.xlabel('x 轴')\n",
    "plt.ylabel('y 轴')\n",
    "plt.xlabel\n",
    "\n",
    "# '''\n",
    "# color：颜色\n",
    "# linewidth：线的宽度\n",
    "# marker：折点样式\n",
    "# linestyle：线的样式，主要包括：'-'、'--'、'-.'、':'\n",
    "# '''\n",
    "plt.plot(x, y, color='#f6a5c0', marker='*', linewidth='1', linestyle='--')\n",
    "# 保存\n",
    "# plt.savefig('test.png')\n",
    "plt.show()\n"
   ]
  },
  {
   "cell_type": "markdown",
   "metadata": {
    "jp-MarkdownHeadingCollapsed": true,
    "tags": []
   },
   "source": [
    "## 2、多线图"
   ]
  },
  {
   "cell_type": "code",
   "execution_count": null,
   "metadata": {
    "tags": []
   },
   "outputs": [],
   "source": [
    "x = range(15, 25)\n",
    "y1 = [50, 55, 58, 65, 70, 68, 70, 72, 75, 70]\n",
    "y2 = [52, 53, 60, 63, 65, 68, 75, 80, 85, 72]\n",
    "\n",
    "plt.figure(figsize=(8, 5), dpi=500)\n",
    "plt.title('体重年龄折线图')\n",
    "plt.xlabel('年龄（岁）')\n",
    "plt.ylabel('体重（kg）')\n",
    "plt.plot(x, y1, color='red', label='张三')\n",
    "plt.plot(x, y2, color='blue', label='李四')\n",
    "\n",
    "# 添加网格，alpha 为透明度\n",
    "plt.grid(alpha=0.6)\n",
    "# 添加图例\n",
    "plt.legend(loc='upper left')\n",
    "plt.show()\n"
   ]
  },
  {
   "cell_type": "markdown",
   "metadata": {
    "jp-MarkdownHeadingCollapsed": true,
    "tags": []
   },
   "source": [
    "# 3、绘制子图"
   ]
  },
  {
   "cell_type": "code",
   "execution_count": null,
   "metadata": {},
   "outputs": [],
   "source": [
    "from matplotlib import pyplot as plt\n",
    "import numpy as np\n",
    "\n",
    "a = np.arange(1, 30)\n",
    "# 划分子图\n",
    "fig, axs = plt.subplots(2, 2)\n",
    "# 设置分辨率\n",
    "plt.rcParams['figure.figsize'] = (6.0, 6.0) # 设置figure_size尺\n",
    "\n",
    "# plt.rcParams['savefig.dpi'] = 300 #图片像素\n",
    "plt.rcParams['figure.dpi'] = 500 #分辨率\n",
    "\n",
    "plt.rc('axes', unicode_minus=False)\n",
    "# 绘制子图\n",
    "axs1 = axs[0, 0]\n",
    "axs2 = axs[0, 1]\n",
    "axs3 = axs[1, 0]\n",
    "axs4 = axs[1, 1]\n",
    "axs1.plot(a, a)\n",
    "axs2.plot(a, np.sin(a))\n",
    "axs3.plot(a, np.log(a))\n",
    "axs4.plot(a, a ** 2)\n",
    "plt.show()\n"
   ]
  },
  {
   "cell_type": "markdown",
   "metadata": {
    "tags": []
   },
   "source": [
    "# 4、散点图"
   ]
  },
  {
   "cell_type": "code",
   "execution_count": null,
   "metadata": {},
   "outputs": [],
   "source": [
    "from matplotlib import pyplot as plt\n",
    "import numpy as np\n",
    "\n",
    "plt.figure(figsize=(8, 5), dpi=500)\n",
    "\n",
    "x = np.arange(0, 20)\n",
    "# 生成随机数\n",
    "y = np.random.randint(0, 20, size=20)\n",
    "\n",
    "plt.title('散点图')\n",
    "plt.xlabel('x 轴')\n",
    "plt.ylabel('y 轴')\n",
    "plt.plot(x, y, 'ob')\n",
    "plt.show()\n"
   ]
  },
  {
   "cell_type": "code",
   "execution_count": null,
   "metadata": {},
   "outputs": [],
   "source": [
    "from matplotlib.pyplot import plot, figure, show\n",
    "import numpy as np\n",
    "u = np.zeros((1, 100))\n",
    "y = np.zeros((1, 100))\n",
    "\n",
    "for i in range(99):\n",
    "    # y[0, i+1] = y[0, i] + x[0, i]*1\n",
    "    # x[0, i] = 1*i\n",
    "    u[0,i+1]=u[0,i]+(u[0,i]-u[0,i]*u[0,i]*1)\n",
    "    x[0,i]=1*i\n",
    "plot(x, u, 'o')\n",
    "show()"
   ]
  },
  {
   "cell_type": "markdown",
   "metadata": {},
   "source": [
    "# 绘制GIF"
   ]
  },
  {
   "cell_type": "code",
   "execution_count": null,
   "metadata": {},
   "outputs": [],
   "source": []
  }
 ],
 "metadata": {
  "kernelspec": {
   "display_name": "Python 3 (ipykernel)",
   "language": "python",
   "name": "python3"
  },
  "language_info": {
   "codemirror_mode": {
    "name": "ipython",
    "version": 3
   },
   "file_extension": ".py",
   "mimetype": "text/x-python",
   "name": "python",
   "nbconvert_exporter": "python",
   "pygments_lexer": "ipython3",
   "version": "3.11.4"
  },
  "vscode": {
   "interpreter": {
    "hash": "96b71d9b0255b05b2be31cfcb5ea5500d86eab633fcfd6b803722470524a431e"
   }
  },
  "widgets": {
   "application/vnd.jupyter.widget-state+json": {
    "state": {},
    "version_major": 2,
    "version_minor": 0
   }
  }
 },
 "nbformat": 4,
 "nbformat_minor": 4
}
