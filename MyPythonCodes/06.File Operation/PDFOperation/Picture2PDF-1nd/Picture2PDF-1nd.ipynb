{
 "cells": [
  {
   "cell_type": "code",
   "execution_count": 1,
   "id": "ba8287c5-9d3e-40af-a7f5-e0cefdfa3470",
   "metadata": {
    "execution": {
     "iopub.execute_input": "2024-09-20T15:25:20.749494Z",
     "iopub.status.busy": "2024-09-20T15:25:20.748498Z",
     "iopub.status.idle": "2024-09-20T15:25:21.066267Z",
     "shell.execute_reply": "2024-09-20T15:25:21.065244Z",
     "shell.execute_reply.started": "2024-09-20T15:25:20.749494Z"
    },
    "ExecuteTime": {
     "end_time": "2024-10-30T15:17:45.106052Z",
     "start_time": "2024-10-30T15:17:45.007605Z"
    }
   },
   "outputs": [],
   "source": [
    "from PIL import Image  # 处理图片\n",
    "import os\n",
    "import re\n",
    "from PyPDF2 import PdfReader, PdfWriter"
   ]
  },
  {
   "cell_type": "markdown",
   "id": "3a2b0f89-4dfd-46b8-bee0-204fece7e24e",
   "metadata": {},
   "source": [
    "# 批量将图片存放到word固定位置"
   ]
  },
  {
   "cell_type": "markdown",
   "id": "c7ee543b-626f-4ad3-b660-e39e5a3a980e",
   "metadata": {},
   "source": [
    "## 直接将批量图片转化为pdf"
   ]
  },
  {
   "cell_type": "code",
   "execution_count": 2,
   "id": "f77fe9e4-29b2-4353-a0d7-9c8fd00364d5",
   "metadata": {
    "execution": {
     "iopub.execute_input": "2024-09-20T15:25:21.071033Z",
     "iopub.status.busy": "2024-09-20T15:25:21.070096Z",
     "iopub.status.idle": "2024-09-20T15:25:21.088784Z",
     "shell.execute_reply": "2024-09-20T15:25:21.086977Z",
     "shell.execute_reply.started": "2024-09-20T15:25:21.071033Z"
    },
    "ExecuteTime": {
     "end_time": "2024-10-20T08:07:33.272589Z",
     "start_time": "2024-10-20T08:07:33.236671Z"
    }
   },
   "outputs": [],
   "source": [
    "def picToPDF(picture): \n",
    "    global imglist\n",
    "    \n",
    "    path,fileName = picture.rsplit('/',1)\n",
    "    preName,postName = fileName.rsplit('.',1)\n",
    "\n",
    "    img = Image.open(picture)\n",
    "    imglist.append(img)\n",
    "    # return img.save(path+\"\\\\\"+preName+'.pdf', \"PDF\", resolution=100.0, save_all=True)\n",
    "\n",
    "def picToPDFByPath(pathName):\n",
    "    global imglist\n",
    "    \n",
    "    imglist = []\n",
    "    imgfile = ''\n",
    "    files = os.listdir(pathName)\n",
    "    for f in files:\n",
    "        if re.search(r'.*\\.(jpg|png|jpeg)', f):\n",
    "            picToPDF(pathName+'/'+f)\n",
    "            imgfile = f\n",
    "\n",
    "    imgMerge = imglist.pop(0) # 取出第一个图片示例\n",
    "    imgMerge.save(pathName + r'/Invoices.pdf',\"PDF\", resolution=100.0, save_all=True, append_images=imglist)\n",
    "    print(\"PDF generated succsessfully!\")"
   ]
  },
  {
   "cell_type": "code",
   "execution_count": 3,
   "id": "086ffa90-dc59-4762-99f8-94f2aecbc7d5",
   "metadata": {
    "execution": {
     "iopub.execute_input": "2024-09-20T15:25:21.094755Z",
     "iopub.status.busy": "2024-09-20T15:25:21.092761Z",
     "iopub.status.idle": "2024-09-20T15:25:22.996974Z",
     "shell.execute_reply": "2024-09-20T15:25:22.995972Z",
     "shell.execute_reply.started": "2024-09-20T15:25:21.093758Z"
    },
    "ExecuteTime": {
     "end_time": "2024-10-20T08:07:33.599235Z",
     "start_time": "2024-10-20T08:07:33.238645Z"
    }
   },
   "outputs": [
    {
     "name": "stdout",
     "output_type": "stream",
     "text": [
      "PDF generated succsessfully!\n"
     ]
    }
   ],
   "source": [
    "picToPDFByPath(\"Invoices\")"
   ]
  },
  {
   "cell_type": "code",
   "execution_count": 4,
   "id": "162f3414-ffee-453f-b529-fa8cf5206a67",
   "metadata": {
    "execution": {
     "iopub.execute_input": "2024-09-20T15:25:23.000546Z",
     "iopub.status.busy": "2024-09-20T15:25:22.999542Z",
     "iopub.status.idle": "2024-09-20T15:25:23.008245Z",
     "shell.execute_reply": "2024-09-20T15:25:23.007241Z",
     "shell.execute_reply.started": "2024-09-20T15:25:23.000546Z"
    },
    "ExecuteTime": {
     "end_time": "2024-10-20T08:07:33.608053Z",
     "start_time": "2024-10-20T08:07:33.599483Z"
    }
   },
   "outputs": [],
   "source": [
    "# 删除文件\n",
    "# os.remove(\"Invoices/merge.pdf\")"
   ]
  },
  {
   "cell_type": "code",
   "execution_count": 5,
   "outputs": [],
   "source": [
    "# os.listdir('Invoices')\n"
   ],
   "metadata": {
    "collapsed": false,
    "ExecuteTime": {
     "end_time": "2024-10-20T08:07:33.608496Z",
     "start_time": "2024-10-20T08:07:33.602120Z"
    }
   },
   "id": "9ef67cf26c84d753"
  }
 ],
 "metadata": {
  "kernelspec": {
   "display_name": "Python 3 (ipykernel)",
   "language": "python",
   "name": "python3"
  },
  "language_info": {
   "codemirror_mode": {
    "name": "ipython",
    "version": 3
   },
   "file_extension": ".py",
   "mimetype": "text/x-python",
   "name": "python",
   "nbconvert_exporter": "python",
   "pygments_lexer": "ipython3",
   "version": "3.12.0"
  }
 },
 "nbformat": 4,
 "nbformat_minor": 5
}
