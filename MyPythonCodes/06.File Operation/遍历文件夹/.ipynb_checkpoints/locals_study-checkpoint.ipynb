{
 "cells": [
  {
   "cell_type": "code",
   "execution_count": 41,
   "id": "2f1b6116-116d-491d-afe1-3a38f1a22f62",
   "metadata": {
    "execution": {
     "iopub.execute_input": "2024-11-14T16:06:49.625982Z",
     "iopub.status.busy": "2024-11-14T16:06:49.625500Z",
     "iopub.status.idle": "2024-11-14T16:06:49.816896Z",
     "shell.execute_reply": "2024-11-14T16:06:49.816464Z",
     "shell.execute_reply.started": "2024-11-14T16:06:49.625945Z"
    }
   },
   "outputs": [],
   "source": [
    "import os\n",
    "import re\n",
    "import csv\n",
    "import numpy as np"
   ]
  },
  {
   "cell_type": "code",
   "execution_count": 94,
   "id": "4c0c4cc5-2be1-469e-849a-52609dc1060e",
   "metadata": {
    "execution": {
     "iopub.execute_input": "2024-11-14T16:40:16.169499Z",
     "iopub.status.busy": "2024-11-14T16:40:16.168870Z",
     "iopub.status.idle": "2024-11-14T16:40:16.184152Z",
     "shell.execute_reply": "2024-11-14T16:40:16.183013Z",
     "shell.execute_reply.started": "2024-11-14T16:40:16.169447Z"
    }
   },
   "outputs": [
    {
     "name": "stdout",
     "output_type": "stream",
     "text": [
      "[{'DataName': 'M-20241114-1.csv', 'Vg': array([1., 2., 3., 4., 5.]), 'Chf': array([1., 2., 3., 4., 5.])}, {}]\n"
     ]
    }
   ],
   "source": [
    "path = r'LEEM41-024/P1(123453)'\n",
    "\n",
    "dataStore = []\n",
    "\n",
    "files = os.listdir(path)\n",
    "for file in files:\n",
    "    if re.search('.csv', file):\n",
    "        timer = 0\n",
    "        dataStore.append({})\n",
    "        dataStore[timer]['DataName'] = file\n",
    "        dataStore[timer]['Vg'] = np.array([])\n",
    "        dataStore[timer]['Chf'] = np.array([])\n",
    "        \n",
    "        with open(path + '/' + file, 'rt') as csvFile:\n",
    "            csvReader = csv.reader(csvFile)\n",
    "            listReader = list(csvReader)[1:]\n",
    "            \n",
    "            for index in listReader:\n",
    "                dataStore[timer]['Vg'] = np.append(dataStore[timer]['Vg'], float(index[0]))\n",
    "                dataStore[timer]['Chf'] = np.append(dataStore[timer]['Chf'], float(index[0]))\n",
    "        timer += 1\n",
    "print(dataStore)"
   ]
  },
  {
   "cell_type": "code",
   "execution_count": 84,
   "id": "f289ee00-f965-46d8-994d-723219afa12e",
   "metadata": {
    "execution": {
     "iopub.execute_input": "2024-11-14T16:29:18.953598Z",
     "iopub.status.busy": "2024-11-14T16:29:18.953056Z",
     "iopub.status.idle": "2024-11-14T16:29:18.995052Z",
     "shell.execute_reply": "2024-11-14T16:29:18.994411Z",
     "shell.execute_reply.started": "2024-11-14T16:29:18.953559Z"
    }
   },
   "outputs": [
    {
     "ename": "TypeError",
     "evalue": "unsupported operand type(s) for +=: 'dict' and 'int'",
     "output_type": "error",
     "traceback": [
      "\u001b[0;31m---------------------------------------------------------------------------\u001b[0m",
      "\u001b[0;31mTypeError\u001b[0m                                 Traceback (most recent call last)",
      "Cell \u001b[0;32mIn[84], line 3\u001b[0m\n\u001b[1;32m      1\u001b[0m a \u001b[38;5;241m=\u001b[39m \u001b[38;5;241m1\u001b[39m\n\u001b[1;32m      2\u001b[0m a \u001b[38;5;241m+\u001b[39m\u001b[38;5;241m=\u001b[39m \u001b[38;5;241m1\u001b[39m\n\u001b[0;32m----> 3\u001b[0m x \u001b[38;5;241m+\u001b[39m\u001b[38;5;241m=\u001b[39m \u001b[38;5;241m1\u001b[39m\n",
      "\u001b[0;31mTypeError\u001b[0m: unsupported operand type(s) for +=: 'dict' and 'int'"
     ]
    }
   ],
   "source": [
    "a = 1\n",
    "a += 1\n",
    "x += 1"
   ]
  }
 ],
 "metadata": {
  "kernelspec": {
   "display_name": "Python 3 (ipykernel)",
   "language": "python",
   "name": "python3"
  },
  "language_info": {
   "codemirror_mode": {
    "name": "ipython",
    "version": 3
   },
   "file_extension": ".py",
   "mimetype": "text/x-python",
   "name": "python",
   "nbconvert_exporter": "python",
   "pygments_lexer": "ipython3",
   "version": "3.9.6"
  }
 },
 "nbformat": 4,
 "nbformat_minor": 5
}
