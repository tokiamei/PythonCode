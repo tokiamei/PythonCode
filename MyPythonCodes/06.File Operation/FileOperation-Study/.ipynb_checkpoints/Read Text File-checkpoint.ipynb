{
 "cells": [
  {
   "cell_type": "markdown",
   "metadata": {},
   "source": [
    "# 读取文本文件"
   ]
  },
  {
   "cell_type": "code",
   "execution_count": 1,
   "metadata": {
    "execution": {
     "iopub.execute_input": "2023-10-16T14:24:32.321563Z",
     "iopub.status.busy": "2023-10-16T14:24:32.320560Z",
     "iopub.status.idle": "2023-10-16T14:24:32.344146Z",
     "shell.execute_reply": "2023-10-16T14:24:32.343104Z",
     "shell.execute_reply.started": "2023-10-16T14:24:32.321563Z"
    },
    "tags": []
   },
   "outputs": [
    {
     "name": "stdout",
     "output_type": "stream",
     "text": [
      "print('++++')\n",
      "print('++++')print('++++')\n",
      "print('++++')print('++++')print('++++')\n",
      "print('++++')print('++++')print('++++')print('++++')\n",
      "print('++++')print('++++')print('++++')print('++++')print('++++')\n"
     ]
    }
   ],
   "source": [
    "f = open('a.txt', 'r', encoding = 'utf-8')\n",
    "print(f.read())\n",
    "f.close()"
   ]
  },
  {
   "cell_type": "markdown",
   "metadata": {},
   "source": [
    "## 异常处理问题\n",
    "\n",
    "如果 open 函数指定的文件并不存在或者无法打开，那么将引发异常状况导致程序崩溃，为了让代码有一定的健壮性和容错性，可以使用 Python 的异常机制进行适当的处理"
   ]
  },
  {
   "cell_type": "code",
   "execution_count": null,
   "metadata": {
    "tags": []
   },
   "outputs": [],
   "source": [
    "# Python 中的 None\n",
    "a = None\n",
    "a, type(a) # (None, NoneType)\n",
    "# None 会被隐式转换为 False【和 JS 一样】\n",
    "if not a: print('00000')"
   ]
  },
  {
   "cell_type": "code",
   "execution_count": null,
   "metadata": {
    "tags": []
   },
   "outputs": [],
   "source": [
    "f = None\n",
    "try:\n",
    "\tf = open('b.txt', 'r', encoding='utf-8')\n",
    "\tptint(f.read())\n",
    "except FileNotFoundError:\n",
    "\tprint('无法打开指定的文件！')\n",
    "except LookupError:\n",
    "\tprint('制定了未知的编码！')\n",
    "except UnicodeDecodeError:\n",
    "\tprint('读取文件时解码错误')\n",
    "finally:\n",
    "\tif f:\n",
    "\t\tf.close()"
   ]
  },
  {
   "cell_type": "markdown",
   "metadata": {},
   "source": [
    "## with\n",
    "\n",
    "- with 关键字读取文件内容\n",
    "- with 指定文件对象的上下文环境并在离开上下文环境时自动释放文件资源，就不需要再去 close 了"
   ]
  },
  {
   "cell_type": "code",
   "execution_count": null,
   "metadata": {
    "tags": []
   },
   "outputs": [],
   "source": [
    "with open('a.txt', encoding=\"utf-8\") as f:\n",
    "  read_data = f.read()\n",
    "# 这个属性用于判断文件是否关闭\n",
    "f.closed"
   ]
  },
  {
   "cell_type": "markdown",
   "metadata": {},
   "source": [
    "# readlines 逐行读取文件"
   ]
  },
  {
   "cell_type": "markdown",
   "metadata": {},
   "source": [
    "## for 循环读取内容"
   ]
  },
  {
   "cell_type": "code",
   "execution_count": null,
   "metadata": {
    "tags": []
   },
   "outputs": [],
   "source": [
    "# 读取多行数据\n",
    "import time\n",
    "with open('a.txt', encoding=\"utf-8\") as f:\n",
    "\tfor line in f:\n",
    "\t\tprint(line, end='')\n",
    "\t\ttime.sleep(0.5)"
   ]
  },
  {
   "cell_type": "markdown",
   "metadata": {},
   "source": [
    "## 以列表形式读取文件中的所有行，可以用 \n",
    "\n",
    "- list(f) \n",
    "- f.readlines()"
   ]
  },
  {
   "cell_type": "code",
   "execution_count": 9,
   "metadata": {
    "execution": {
     "iopub.execute_input": "2022-09-20T08:48:41.431555Z",
     "iopub.status.busy": "2022-09-20T08:48:41.431264Z",
     "iopub.status.idle": "2022-09-20T08:48:41.437783Z",
     "shell.execute_reply": "2022-09-20T08:48:41.436558Z",
     "shell.execute_reply.started": "2022-09-20T08:48:41.431517Z"
    },
    "tags": []
   },
   "outputs": [
    {
     "name": "stdout",
     "output_type": "stream",
     "text": [
      "[\"print('++++')\\n\", \"print('++++')print('++++')\\n\", \"print('++++')print('++++')print('++++')\\n\", \"print('++++')print('++++')print('++++')print('++++')\\n\", \"print('++++')print('++++')print('++++')print('++++')print('++++')\"]\n"
     ]
    }
   ],
   "source": [
    "with open('a.txt', encoding=\"utf-8\") as f:\n",
    "  # print(list(f))\n",
    "  print(f.readlines())"
   ]
  },
  {
   "cell_type": "code",
   "execution_count": null,
   "metadata": {},
   "outputs": [],
   "source": [
    "# 把字符串写入文件\n",
    "with open('../../files/a.txt', 'r+', encoding=\"utf-8\") as f:\n",
    "  li = list(f)\n",
    "  print(li)\n",
    "  mystr = repr(li)\n",
    "  print(mystr, type(mystr))\n",
    "  f.write(mystr)"
   ]
  },
  {
   "cell_type": "code",
   "execution_count": 2,
   "metadata": {},
   "outputs": [
    {
     "data": {
      "text/plain": [
       "'[1, 2, 2]'"
      ]
     },
     "execution_count": 2,
     "metadata": {},
     "output_type": "execute_result"
    }
   ],
   "source": [
    "li = [1, 2, 2]\n",
    "s = repr(li)\n",
    "s"
   ]
  },
  {
   "cell_type": "code",
   "execution_count": 1,
   "metadata": {
    "execution": {
     "iopub.execute_input": "2024-11-15T14:43:10.695732Z",
     "iopub.status.busy": "2024-11-15T14:43:10.695050Z",
     "iopub.status.idle": "2024-11-15T14:43:10.707003Z",
     "shell.execute_reply": "2024-11-15T14:43:10.706154Z",
     "shell.execute_reply.started": "2024-11-15T14:43:10.695692Z"
    }
   },
   "outputs": [
    {
     "ename": "SyntaxError",
     "evalue": "Missing parentheses in call to 'print'. Did you mean print(a)? (1484682791.py, line 1)",
     "output_type": "error",
     "traceback": [
      "\u001b[0;36m  Cell \u001b[0;32mIn[1], line 1\u001b[0;36m\u001b[0m\n\u001b[0;31m    print a\u001b[0m\n\u001b[0m          ^\u001b[0m\n\u001b[0;31mSyntaxError\u001b[0m\u001b[0;31m:\u001b[0m Missing parentheses in call to 'print'. Did you mean print(a)?\n"
     ]
    }
   ],
   "source": [
    "\n"
   ]
  }
 ],
 "metadata": {
  "kernelspec": {
   "display_name": "Python 3 (ipykernel)",
   "language": "python",
   "name": "python3"
  },
  "language_info": {
   "codemirror_mode": {
    "name": "ipython",
    "version": 3
   },
   "file_extension": ".py",
   "mimetype": "text/x-python",
   "name": "python",
   "nbconvert_exporter": "python",
   "pygments_lexer": "ipython3",
   "version": "3.9.6"
  },
  "vscode": {
   "interpreter": {
    "hash": "96b71d9b0255b05b2be31cfcb5ea5500d86eab633fcfd6b803722470524a431e"
   }
  },
  "widgets": {
   "application/vnd.jupyter.widget-state+json": {
    "state": {},
    "version_major": 2,
    "version_minor": 0
   }
  }
 },
 "nbformat": 4,
 "nbformat_minor": 4
}
