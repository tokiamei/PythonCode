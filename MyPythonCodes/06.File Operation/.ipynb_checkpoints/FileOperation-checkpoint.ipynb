{
 "cells": [
  {
   "cell_type": "code",
   "execution_count": 2,
   "id": "e58dc0cf-6467-4abf-b26e-598fd70bea35",
   "metadata": {
    "execution": {
     "iopub.execute_input": "2023-10-21T04:07:20.058752Z",
     "iopub.status.busy": "2023-10-21T04:07:20.058752Z",
     "iopub.status.idle": "2023-10-21T04:07:20.062202Z",
     "shell.execute_reply": "2023-10-21T04:07:20.062202Z",
     "shell.execute_reply.started": "2023-10-21T04:07:20.058752Z"
    }
   },
   "outputs": [],
   "source": [
    "import os\n",
    "import shutil"
   ]
  },
  {
   "cell_type": "markdown",
   "id": "519276f8-d41a-4aa1-8058-4124fdea7d03",
   "metadata": {
    "execution": {
     "iopub.execute_input": "2023-10-12T13:34:20.258683Z",
     "iopub.status.busy": "2023-10-12T13:34:20.257246Z",
     "iopub.status.idle": "2023-10-12T13:34:20.272775Z",
     "shell.execute_reply": "2023-10-12T13:34:20.270218Z",
     "shell.execute_reply.started": "2023-10-12T13:34:20.258683Z"
    }
   },
   "source": [
    "# 文件目录操作"
   ]
  },
  {
   "cell_type": "markdown",
   "id": "1865174e-2f18-4ab8-8d45-e0ac8a35c138",
   "metadata": {},
   "source": [
    "## 查看当前工作目录"
   ]
  },
  {
   "cell_type": "code",
   "execution_count": 2,
   "id": "82cd4950-6ced-43c2-8445-148025b83f36",
   "metadata": {
    "execution": {
     "iopub.execute_input": "2023-10-21T04:00:46.557905Z",
     "iopub.status.busy": "2023-10-21T04:00:46.556905Z",
     "iopub.status.idle": "2023-10-21T04:00:46.563372Z",
     "shell.execute_reply": "2023-10-21T04:00:46.562365Z",
     "shell.execute_reply.started": "2023-10-21T04:00:46.557905Z"
    }
   },
   "outputs": [
    {
     "name": "stdout",
     "output_type": "stream",
     "text": [
      "当前工作目录为 C:\\Users\\amesu\\资料\\工作\\工作学习资料\\Python Files\\python-study-main\\06.文件操作\n"
     ]
    }
   ],
   "source": [
    "dir = os.getcwd()\n",
    "print(\"当前工作目录为 %s\" % dir)"
   ]
  },
  {
   "cell_type": "markdown",
   "id": "65539e55-22a5-425b-b462-bec5dc1bae2d",
   "metadata": {
    "execution": {
     "iopub.execute_input": "2023-10-21T03:17:46.869743Z",
     "iopub.status.busy": "2023-10-21T03:17:46.868810Z",
     "iopub.status.idle": "2023-10-21T03:17:46.876459Z",
     "shell.execute_reply": "2023-10-21T03:17:46.874385Z",
     "shell.execute_reply.started": "2023-10-21T03:17:46.869743Z"
    }
   },
   "source": [
    "## 修改当前工作目录"
   ]
  },
  {
   "cell_type": "code",
   "execution_count": null,
   "id": "730248ae-e394-4582-b24d-3c19aa014728",
   "metadata": {},
   "outputs": [],
   "source": [
    "path = r\"C:\\Users\\amesu\\资料\\工作\\工作学习资料\\Python Files\\python-study-main\\06.文件系统\"\n",
    "# os.chdir(path)"
   ]
  },
  {
   "cell_type": "markdown",
   "id": "dd02afa8-56cc-4987-8cb4-cf50f3fa6d2b",
   "metadata": {},
   "source": [
    "## 获取目录列表"
   ]
  },
  {
   "cell_type": "markdown",
   "id": "ac7bba9e-b6cf-451b-b0c8-9edcf6590cb4",
   "metadata": {},
   "source": [
    "### 遗留版本的Python获取目录列表"
   ]
  },
  {
   "cell_type": "code",
   "execution_count": 3,
   "id": "655e04f9-21d8-48e0-a6dd-2276aefd762b",
   "metadata": {
    "execution": {
     "iopub.execute_input": "2023-10-21T04:00:50.980748Z",
     "iopub.status.busy": "2023-10-21T04:00:50.980748Z",
     "iopub.status.idle": "2023-10-21T04:00:50.989314Z",
     "shell.execute_reply": "2023-10-21T04:00:50.988303Z",
     "shell.execute_reply.started": "2023-10-21T04:00:50.980748Z"
    }
   },
   "outputs": [
    {
     "data": {
      "text/plain": [
       "['.ipynb_checkpoints',\n",
       " '01.格式化输出.ipynb',\n",
       " '01.读取文件.ipynb',\n",
       " '03.JSON.ipynb',\n",
       " 'FileOperation.ipynb',\n",
       " 'Untitled Folder']"
      ]
     },
     "execution_count": 3,
     "metadata": {},
     "output_type": "execute_result"
    }
   ],
   "source": [
    "os.listdir(dir)"
   ]
  },
  {
   "cell_type": "markdown",
   "id": "380a67dc-e87d-4ff8-8bc5-dca19e2b40cd",
   "metadata": {},
   "source": [
    "### 现代版本的Python获取目录列表\n",
    "\n",
    "> 返回的是一个迭代器而不是一个列表"
   ]
  },
  {
   "cell_type": "code",
   "execution_count": 4,
   "id": "ebafdd17-4f7c-45c0-94b5-87e596cdbf5d",
   "metadata": {
    "execution": {
     "iopub.execute_input": "2023-10-21T04:01:01.650961Z",
     "iopub.status.busy": "2023-10-21T04:01:01.650961Z",
     "iopub.status.idle": "2023-10-21T04:01:01.655705Z",
     "shell.execute_reply": "2023-10-21T04:01:01.655705Z",
     "shell.execute_reply.started": "2023-10-21T04:01:01.650961Z"
    }
   },
   "outputs": [
    {
     "name": "stdout",
     "output_type": "stream",
     "text": [
      ".ipynb_checkpoints\n",
      "01.格式化输出.ipynb\n",
      "01.读取文件.ipynb\n",
      "03.JSON.ipynb\n",
      "FileOperation.ipynb\n",
      "Untitled Folder\n"
     ]
    }
   ],
   "source": [
    "# ScandirIterator 指向了当前目录中的所有条目。你可以遍历迭代器的内容，并打印文件名\n",
    "with os.scandir(dir) as entries:\n",
    "    for entry in entries:\n",
    "        print(entry.name)"
   ]
  },
  {
   "cell_type": "markdown",
   "id": "02658527-564f-4c6e-82a5-a738664b4255",
   "metadata": {},
   "source": [
    "## 列出目录中所有文件（而非目录）"
   ]
  },
  {
   "cell_type": "code",
   "execution_count": null,
   "id": "6c7977e2-bc49-4b83-b41d-14c25125c97b",
   "metadata": {},
   "outputs": [],
   "source": [
    "# 第一种方法\n",
    "# 这样写意味着该文件夹一定是位于工作目录下\n",
    "basepath = '读写文件'\n",
    "for entry in os.listdir(basepath):\n",
    "    # 使用os.path.isfile判断该路径是否是文件类型\n",
    "    if os.path.isfile(os.path.join(basepath, entry)):\n",
    "        print(entry)"
   ]
  },
  {
   "cell_type": "code",
   "execution_count": null,
   "id": "7e3b34e2-ab67-4747-87fc-56b72a32ce01",
   "metadata": {},
   "outputs": [],
   "source": [
    "# 第二种方法\n",
    "basepath = '读写文件'\n",
    "with os.scandir(basepath) as entries:\n",
    "    for entry in entries:\n",
    "        if entry.is_file():\n",
    "            print(entry.name)"
   ]
  },
  {
   "cell_type": "markdown",
   "id": "5fd2a65e-5b0c-47ec-abf7-b0a102bc1f41",
   "metadata": {},
   "source": [
    "## 获取文件属性"
   ]
  },
  {
   "cell_type": "code",
   "execution_count": null,
   "id": "25c17ff2-1046-42db-bca4-9ca86580524e",
   "metadata": {},
   "outputs": [],
   "source": [
    "# 以时间戳的方式输出\n",
    "with os.scandir('读写文件') as entries:\n",
    "    for entry in entries:\n",
    "        info = entry.stat()\n",
    "        print(info.st_mtime)"
   ]
  },
  {
   "cell_type": "markdown",
   "id": "40632421-00a3-4a3f-a8af-34ec6c7a387c",
   "metadata": {
    "execution": {
     "iopub.execute_input": "2023-10-21T03:18:13.544867Z",
     "iopub.status.busy": "2023-10-21T03:18:13.543868Z",
     "iopub.status.idle": "2023-10-21T03:18:13.552652Z",
     "shell.execute_reply": "2023-10-21T03:18:13.550574Z",
     "shell.execute_reply.started": "2023-10-21T03:18:13.544867Z"
    }
   },
   "source": [
    "## 创建目录"
   ]
  },
  {
   "cell_type": "markdown",
   "id": "18dcf31d-ab31-4ee6-a0f5-d97ed6455fc5",
   "metadata": {
    "execution": {
     "iopub.execute_input": "2023-10-21T03:18:22.381538Z",
     "iopub.status.busy": "2023-10-21T03:18:22.380537Z",
     "iopub.status.idle": "2023-10-21T03:18:22.387069Z",
     "shell.execute_reply": "2023-10-21T03:18:22.386003Z",
     "shell.execute_reply.started": "2023-10-21T03:18:22.381538Z"
    }
   },
   "source": [
    "### 创建单个目录"
   ]
  },
  {
   "cell_type": "code",
   "execution_count": null,
   "id": "98eabd72-4924-410c-936c-8b897d848cf4",
   "metadata": {},
   "outputs": [],
   "source": [
    "# 如果该目录已经存在，os.mkdir() 将抛出 FileExistsError 异常\n",
    "os.mkdir('example_directory')"
   ]
  },
  {
   "cell_type": "markdown",
   "id": "e32044e0-0ca4-4f24-a97c-2eff14cf0735",
   "metadata": {},
   "source": [
    "### 创建多个目录"
   ]
  },
  {
   "cell_type": "code",
   "execution_count": null,
   "id": "48dd555c-a227-41b0-bd35-ad17f80d8c44",
   "metadata": {},
   "outputs": [],
   "source": [
    "# os.makedirs() 和 os.mkdir() 类似。两者之间的区别在于，os.makedirs() 不仅可以创建单独的目录，还可以递归的创建目录树。换句话说，它可以创建任何必要的中间文件夹，来确保存在完整的路径。\n",
    "# 默认的模式为 0o777 ，增加了其他用户组的权限。有关文件权限以及模式的应用方式的更多详细信息\n",
    "os.makedirs('2018/10/05', mode=0o770)"
   ]
  },
  {
   "cell_type": "markdown",
   "id": "b7a0ceae-6cb7-44cc-b55e-6fcaff99edc6",
   "metadata": {},
   "source": [
    "## 删除文件"
   ]
  },
  {
   "cell_type": "markdown",
   "id": "f1654c5d-4e5c-429b-b602-e9e20d90389a",
   "metadata": {},
   "source": [
    "### 删除单个目录\n",
    "\n",
    "要删除单个目录或文件夹可以使用 os.rmdir() 或 pathlib.Path.rmdir() 。这两个函数只在你删除空目录的时候有效。如果目录不为空，则会抛出 OSError"
   ]
  },
  {
   "cell_type": "code",
   "execution_count": 7,
   "id": "d2804fa0-603b-4d25-b780-fdf0f74cdedd",
   "metadata": {
    "execution": {
     "iopub.execute_input": "2023-10-21T04:08:15.690096Z",
     "iopub.status.busy": "2023-10-21T04:08:15.690096Z",
     "iopub.status.idle": "2023-10-21T04:08:15.695422Z",
     "shell.execute_reply": "2023-10-21T04:08:15.694412Z",
     "shell.execute_reply.started": "2023-10-21T04:08:15.690096Z"
    }
   },
   "outputs": [
    {
     "name": "stdout",
     "output_type": "stream",
     "text": [
      "Error: 2 : 目录不是空的。\n"
     ]
    }
   ],
   "source": [
    "trash_dir = '2'\n",
    "\n",
    "try:\n",
    "    os.rmdir(trash_dir)\n",
    "except OSError as e:\n",
    "    print(f'Error: {trash_dir} : {e.strerror}')"
   ]
  },
  {
   "cell_type": "markdown",
   "id": "7d8ce2ba-25ec-4a01-9025-f4c2781613eb",
   "metadata": {},
   "source": [
    "### 删除目录树"
   ]
  },
  {
   "cell_type": "code",
   "execution_count": 8,
   "id": "2fa0a407-3088-4c9c-a5cf-b58cff56520a",
   "metadata": {
    "execution": {
     "iopub.execute_input": "2023-10-21T04:08:18.100463Z",
     "iopub.status.busy": "2023-10-21T04:08:18.100463Z",
     "iopub.status.idle": "2023-10-21T04:08:18.104987Z",
     "shell.execute_reply": "2023-10-21T04:08:18.103970Z",
     "shell.execute_reply.started": "2023-10-21T04:08:18.100463Z"
    }
   },
   "outputs": [],
   "source": [
    "# 要删除非空目录和完整的目录树，Python提供了 shutil.rmtree()\n",
    "# 删除的是该目录下的所有文件，但并不删除该目录本身\n",
    "trash_dir = '2'\n",
    "\n",
    "try:\n",
    "    shutil.rmtree(trash_dir)\n",
    "except OSError as e:\n",
    "    print(f'Error: {trash_dir} : {e.strerror}')"
   ]
  }
 ],
 "metadata": {
  "kernelspec": {
   "display_name": "Python 3 (ipykernel)",
   "language": "python",
   "name": "python3"
  },
  "language_info": {
   "codemirror_mode": {
    "name": "ipython",
    "version": 3
   },
   "file_extension": ".py",
   "mimetype": "text/x-python",
   "name": "python",
   "nbconvert_exporter": "python",
   "pygments_lexer": "ipython3",
   "version": "3.11.4"
  }
 },
 "nbformat": 4,
 "nbformat_minor": 5
}
