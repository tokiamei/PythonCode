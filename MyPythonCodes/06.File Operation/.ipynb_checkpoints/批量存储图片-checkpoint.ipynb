{
 "cells": [
  {
   "cell_type": "code",
   "execution_count": 6,
   "id": "ba8287c5-9d3e-40af-a7f5-e0cefdfa3470",
   "metadata": {
    "execution": {
     "iopub.execute_input": "2024-06-20T02:51:37.748727Z",
     "iopub.status.busy": "2024-06-20T02:51:37.748727Z",
     "iopub.status.idle": "2024-06-20T02:51:37.753056Z",
     "shell.execute_reply": "2024-06-20T02:51:37.753056Z",
     "shell.execute_reply.started": "2024-06-20T02:51:37.748727Z"
    }
   },
   "outputs": [],
   "source": [
    "from PIL import Image  # 处理图片\n",
    "import os\n",
    "import re\n",
    "from PyPDF2 import PdfReader, PdfWriter"
   ]
  },
  {
   "cell_type": "markdown",
   "id": "3a2b0f89-4dfd-46b8-bee0-204fece7e24e",
   "metadata": {},
   "source": [
    "# 批量将图片存放到word固定位置"
   ]
  },
  {
   "cell_type": "markdown",
   "id": "c7ee543b-626f-4ad3-b660-e39e5a3a980e",
   "metadata": {},
   "source": [
    "## 直接将批量图片转化为pdf"
   ]
  },
  {
   "cell_type": "code",
   "execution_count": null,
   "id": "f77fe9e4-29b2-4353-a0d7-9c8fd00364d5",
   "metadata": {},
   "outputs": [],
   "source": [
    "def picToPDF(picture): \n",
    "    global imglist\n",
    "    \n",
    "    path,fileName = picture.rsplit('\\\\',1)\n",
    "    preName,postName = fileName.rsplit('.',1)\n",
    "\n",
    "    img = Image.open(picture)\n",
    "    imglist.append(img)\n",
    "    # return img.save(path+\"\\\\\"+preName+'.pdf', \"PDF\", resolution=100.0, save_all=True)\n",
    "\n",
    "def picToPDFByPath(pathName):\n",
    "    global imglist\n",
    "    \n",
    "    imglist = []\n",
    "    imgfile = ''\n",
    "    files = os.listdir(pathName)\n",
    "    for f in files:\n",
    "        if re.search(r'.*\\.(jpg|png)', f):\n",
    "            picToPDF(pathName+'\\\\'+f)\n",
    "            imgfile = f\n",
    "\n",
    "    imgMerge = imglist.pop(0) # 取出第一个图片示例\n",
    "    imgMerge.save(pathName + r'\\Invoices.pdf',\"PDF\", resolution=100.0, save_all=True, append_images=imglist)\n",
    "    print(\"PDF generated succsessfully!\")"
   ]
  },
  {
   "cell_type": "code",
   "execution_count": null,
   "id": "086ffa90-dc59-4762-99f8-94f2aecbc7d5",
   "metadata": {},
   "outputs": [],
   "source": [
    "picToPDFByPath(\"Invoices\")"
   ]
  },
  {
   "cell_type": "code",
   "execution_count": null,
   "id": "162f3414-ffee-453f-b529-fa8cf5206a67",
   "metadata": {},
   "outputs": [],
   "source": [
    "# 删除文件\n",
    "# os.remove(\"Invoices/merge.pdf\")"
   ]
  }
 ],
 "metadata": {
  "kernelspec": {
   "display_name": "Python 3 (ipykernel)",
   "language": "python",
   "name": "python3"
  },
  "language_info": {
   "codemirror_mode": {
    "name": "ipython",
    "version": 3
   },
   "file_extension": ".py",
   "mimetype": "text/x-python",
   "name": "python",
   "nbconvert_exporter": "python",
   "pygments_lexer": "ipython3",
   "version": "3.12.0"
  }
 },
 "nbformat": 4,
 "nbformat_minor": 5
}
