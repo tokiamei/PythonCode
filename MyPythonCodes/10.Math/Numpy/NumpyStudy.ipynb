{
 "cells": [
  {
   "cell_type": "code",
   "execution_count": 34,
   "id": "5bc1c1d9-7f34-4d57-b88e-fb989e89d193",
   "metadata": {
    "execution": {
     "iopub.execute_input": "2024-11-23T06:20:00.522966Z",
     "iopub.status.busy": "2024-11-23T06:20:00.522355Z",
     "iopub.status.idle": "2024-11-23T06:20:00.529055Z",
     "shell.execute_reply": "2024-11-23T06:20:00.527789Z",
     "shell.execute_reply.started": "2024-11-23T06:20:00.522921Z"
    }
   },
   "outputs": [],
   "source": [
    "import numpy as np\n",
    "import json\n",
    "import time\n",
    "import math"
   ]
  },
  {
   "cell_type": "markdown",
   "id": "bbf9f22a-8ec8-40b6-a90b-891058da3a65",
   "metadata": {
    "execution": {
     "iopub.execute_input": "2024-11-23T05:40:12.216107Z",
     "iopub.status.busy": "2024-11-23T05:40:12.215271Z",
     "iopub.status.idle": "2024-11-23T05:40:12.221297Z",
     "shell.execute_reply": "2024-11-23T05:40:12.220374Z",
     "shell.execute_reply.started": "2024-11-23T05:40:12.216032Z"
    }
   },
   "source": [
    "# 一、创建numpy数组"
   ]
  },
  {
   "cell_type": "markdown",
   "id": "8eb31731-4829-47d8-b650-573040de99cc",
   "metadata": {
    "tags": []
   },
   "source": [
    "## 1、一维数组"
   ]
  },
  {
   "cell_type": "code",
   "execution_count": 5,
   "id": "d7cd6fad-4d4f-4aa7-bea6-0ce37c661580",
   "metadata": {
    "execution": {
     "iopub.execute_input": "2024-11-23T05:41:59.384524Z",
     "iopub.status.busy": "2024-11-23T05:41:59.383843Z",
     "iopub.status.idle": "2024-11-23T05:41:59.393637Z",
     "shell.execute_reply": "2024-11-23T05:41:59.392648Z",
     "shell.execute_reply.started": "2024-11-23T05:41:59.384484Z"
    }
   },
   "outputs": [
    {
     "name": "stdout",
     "output_type": "stream",
     "text": [
      "arr1： [1 2 3 4 5] <class 'numpy.ndarray'>\n",
      "arr2： [1 2 3 4 5] <class 'numpy.ndarray'>\n",
      "arr3： [1 2 3 4 5 6 7 8 9] <class 'numpy.ndarray'>\n"
     ]
    }
   ],
   "source": [
    "arr1 = np.array([1, 2, 3, 4, 5])\n",
    "print (\"arr1：\", arr1, type(arr1))\n",
    "arr2 = np.array(range(1, 6))\n",
    "print (\"arr2：\", arr2, type(arr2))\n",
    "# 直接arange出来也是数组\n",
    "arr3 = np.arange(1, 10)\n",
    "print (\"arr3：\", arr3, type(arr3))"
   ]
  },
  {
   "cell_type": "markdown",
   "id": "4268ad1f-794e-45a5-b22a-7348b55241ec",
   "metadata": {
    "tags": []
   },
   "source": [
    "## 2、创建二维数组"
   ]
  },
  {
   "cell_type": "code",
   "execution_count": 21,
   "id": "dcb89319-a1f6-40d4-bef5-89f32f408f77",
   "metadata": {
    "execution": {
     "iopub.execute_input": "2023-10-21T09:19:23.820256Z",
     "iopub.status.busy": "2023-10-21T09:19:23.819233Z",
     "iopub.status.idle": "2023-10-21T09:19:23.826902Z",
     "shell.execute_reply": "2023-10-21T09:19:23.825874Z",
     "shell.execute_reply.started": "2023-10-21T09:19:23.820256Z"
    }
   },
   "outputs": [
    {
     "name": "stdout",
     "output_type": "stream",
     "text": [
      "[[1 2]\n",
      " [3 4]\n",
      " [5 6]]\n",
      "2\n",
      "[5 6]\n"
     ]
    }
   ],
   "source": [
    "arr = np.array([[1, 2], [3, 4], [5, 6]])\n",
    "print(arr)\n",
    "# 取值，等价于arr[0, 1]\n",
    "print(arr[0][1])\n",
    "print(arr[2])"
   ]
  },
  {
   "cell_type": "markdown",
   "id": "72eccdd7-2e7a-45d8-99a9-12b7277e8cf7",
   "metadata": {
    "tags": []
   },
   "source": [
    "## 3、ndarray 常用方法"
   ]
  },
  {
   "cell_type": "code",
   "execution_count": 13,
   "id": "de87521a-b2b1-462b-a60b-a6b7356273bd",
   "metadata": {
    "execution": {
     "iopub.execute_input": "2024-11-23T05:48:52.314820Z",
     "iopub.status.busy": "2024-11-23T05:48:52.314089Z",
     "iopub.status.idle": "2024-11-23T05:48:52.325067Z",
     "shell.execute_reply": "2024-11-23T05:48:52.324049Z",
     "shell.execute_reply.started": "2024-11-23T05:48:52.314755Z"
    }
   },
   "outputs": [
    {
     "name": "stdout",
     "output_type": "stream",
     "text": [
      "arr.dtype: int64\n",
      "arr.shape: (3, 2)\n",
      "arr.size: 6\n",
      "arr.ndim: 2\n",
      "arr.itemsize: 8\n"
     ]
    }
   ],
   "source": [
    "arr = np.array([[1, 2], [3, 4], [5, 6]])\n",
    "\n",
    "# 元素类型\n",
    "print(\"arr.dtype:\", arr.dtype)\n",
    "# 形状【就是矩阵的维度】\n",
    "print('arr.shape:', arr.shape)\n",
    "# 元素个数\n",
    "print(\"arr.size:\", arr.size)\n",
    "# 维度\n",
    "print('arr.ndim:', arr.ndim)\n",
    "# 每个元素大小（字节）\n",
    "print('arr.itemsize:', arr.itemsize)"
   ]
  },
  {
   "cell_type": "code",
   "execution_count": 14,
   "id": "04246594-96e6-4be8-aadd-26c160fbb917",
   "metadata": {
    "execution": {
     "iopub.execute_input": "2024-11-23T05:48:55.287947Z",
     "iopub.status.busy": "2024-11-23T05:48:55.286855Z",
     "iopub.status.idle": "2024-11-23T05:48:55.295694Z",
     "shell.execute_reply": "2024-11-23T05:48:55.294849Z",
     "shell.execute_reply.started": "2024-11-23T05:48:55.287865Z"
    }
   },
   "outputs": [
    {
     "name": "stdout",
     "output_type": "stream",
     "text": [
      "arr.reshape: [[1 2 3]\n",
      " [4 5 6]]\n"
     ]
    }
   ],
   "source": [
    "arr = np.array([[1, 2], [3, 4], [5, 6]])\n",
    "\n",
    "# 重新定义维度\n",
    "print('arr.reshape:', arr.reshape(2, 3))"
   ]
  },
  {
   "cell_type": "code",
   "execution_count": 16,
   "id": "9de424c4-1da6-4fa3-8e53-82311a498cd7",
   "metadata": {
    "execution": {
     "iopub.execute_input": "2024-11-23T05:50:45.898559Z",
     "iopub.status.busy": "2024-11-23T05:50:45.897689Z",
     "iopub.status.idle": "2024-11-23T05:50:45.909279Z",
     "shell.execute_reply": "2024-11-23T05:50:45.907831Z",
     "shell.execute_reply.started": "2024-11-23T05:50:45.898491Z"
    }
   },
   "outputs": [
    {
     "name": "stdout",
     "output_type": "stream",
     "text": [
      "arr.ndim: 1\n",
      "arr.real: [1. 0.]\n",
      "arr.imag: [2. 4.]\n",
      "arr.T: [1.+2.j 0.+4.j]\n"
     ]
    }
   ],
   "source": [
    "# 矩阵的实部虚部\n",
    "arr = np.array([1+2j, 4j])\n",
    "print('arr.ndim:', arr.ndim)\n",
    "\n",
    "# arr = np.array([[1, 2], [3, 4], [5, 6]])\n",
    "print('arr.real:', arr.real)\n",
    "print('arr.imag:', arr.imag)\n",
    "print('arr.T:', arr.T)"
   ]
  },
  {
   "cell_type": "code",
   "execution_count": 18,
   "id": "4ce144b3-85c8-4f60-956d-23081ffe68cc",
   "metadata": {
    "execution": {
     "iopub.execute_input": "2024-11-23T05:51:13.701821Z",
     "iopub.status.busy": "2024-11-23T05:51:13.701143Z",
     "iopub.status.idle": "2024-11-23T05:51:13.711667Z",
     "shell.execute_reply": "2024-11-23T05:51:13.710770Z",
     "shell.execute_reply.started": "2024-11-23T05:51:13.701773Z"
    }
   },
   "outputs": [
    {
     "data": {
      "text/plain": [
       "array([[[ 0,  1,  2,  3,  4],\n",
       "        [ 5,  6,  7,  8,  9],\n",
       "        [10, 11, 12, 13, 14]],\n",
       "\n",
       "       [[15, 16, 17, 18, 19],\n",
       "        [20, 21, 22, 23, 24],\n",
       "        [25, 26, 27, 28, 29]]])"
      ]
     },
     "execution_count": 18,
     "metadata": {},
     "output_type": "execute_result"
    }
   ],
   "source": [
    "# arange() 方法\n",
    "myArr01 = np.arange(30)\n",
    "# 变成 2 维数组\n",
    "myArr01.reshape(3, 10)\n",
    "# 变成 3 维数组\n",
    "myArr01.reshape(2, 3, 5)"
   ]
  },
  {
   "cell_type": "code",
   "execution_count": 17,
   "id": "33b425e8-5dd1-4058-83d2-85b321a36413",
   "metadata": {
    "execution": {
     "iopub.execute_input": "2024-11-23T05:51:12.262449Z",
     "iopub.status.busy": "2024-11-23T05:51:12.261516Z",
     "iopub.status.idle": "2024-11-23T05:51:12.276205Z",
     "shell.execute_reply": "2024-11-23T05:51:12.275665Z",
     "shell.execute_reply.started": "2024-11-23T05:51:12.262377Z"
    }
   },
   "outputs": [
    {
     "data": {
      "text/plain": [
       "array([[0, 1, 2, 3]])"
      ]
     },
     "execution_count": 17,
     "metadata": {},
     "output_type": "execute_result"
    }
   ],
   "source": [
    "# 多维数组取值\n",
    "myArr02 = np.arange(12).reshape(3, 4)\n",
    "myArr02[:1]"
   ]
  },
  {
   "cell_type": "markdown",
   "id": "d3b49d2c-36d6-4162-a299-90c8041f3c01",
   "metadata": {},
   "source": [
    "## 4、视图与副本"
   ]
  },
  {
   "cell_type": "code",
   "execution_count": 22,
   "id": "264b3a1d-0581-4b27-8f27-f457dc1afcb0",
   "metadata": {
    "execution": {
     "iopub.execute_input": "2024-11-23T05:55:17.758570Z",
     "iopub.status.busy": "2024-11-23T05:55:17.757256Z",
     "iopub.status.idle": "2024-11-23T05:55:17.769318Z",
     "shell.execute_reply": "2024-11-23T05:55:17.768568Z",
     "shell.execute_reply.started": "2024-11-23T05:55:17.758523Z"
    }
   },
   "outputs": [
    {
     "name": "stdout",
     "output_type": "stream",
     "text": [
      "4396676848 4396676272\n"
     ]
    },
    {
     "data": {
      "text/plain": [
       "((3, 4), (4, 3))"
      ]
     },
     "execution_count": 22,
     "metadata": {},
     "output_type": "execute_result"
    }
   ],
   "source": [
    "# 创建视图\n",
    "a = np.arange(12).reshape(3, 4)\n",
    "b = a.view()\n",
    "\n",
    "a[0, 0] = 100\n",
    "print(id(a), id(b))\n",
    "b.shape = 4, 3\n",
    "a.shape, b.shape"
   ]
  },
  {
   "cell_type": "code",
   "execution_count": 27,
   "id": "e9dda86b-9877-4081-88e8-ee984d32718e",
   "metadata": {
    "execution": {
     "iopub.execute_input": "2024-11-23T05:56:15.372378Z",
     "iopub.status.busy": "2024-11-23T05:56:15.371188Z",
     "iopub.status.idle": "2024-11-23T05:56:15.380739Z",
     "shell.execute_reply": "2024-11-23T05:56:15.379871Z",
     "shell.execute_reply.started": "2024-11-23T05:56:15.372339Z"
    }
   },
   "outputs": [
    {
     "data": {
      "text/plain": [
       "False"
      ]
     },
     "execution_count": 27,
     "metadata": {},
     "output_type": "execute_result"
    }
   ],
   "source": [
    "# 创建副本【任然是 shallow copy】\n",
    "c = a.copy()\n",
    "a[0, 0] = 999\n",
    "c is a"
   ]
  },
  {
   "cell_type": "code",
   "execution_count": 30,
   "id": "b72b438d-1d63-4f2e-98b0-91516cd118cc",
   "metadata": {
    "execution": {
     "iopub.execute_input": "2024-11-23T05:56:55.809157Z",
     "iopub.status.busy": "2024-11-23T05:56:55.808279Z",
     "iopub.status.idle": "2024-11-23T05:56:55.828760Z",
     "shell.execute_reply": "2024-11-23T05:56:55.828111Z",
     "shell.execute_reply.started": "2024-11-23T05:56:55.809083Z"
    }
   },
   "outputs": [
    {
     "data": {
      "text/plain": [
       "'[[1, 2], [3, 4, [4, 1]]]'"
      ]
     },
     "execution_count": 30,
     "metadata": {},
     "output_type": "execute_result"
    }
   ],
   "source": [
    "# test np.copy()\n",
    "\"\"\" arr = [[1, 2], [3, 4, [4, 1]]]\n",
    "arrCopy = arr.copy()\n",
    "# arr[1][2][0] = '==='\n",
    "arrCopy \"\"\"\n",
    "\n",
    "# 测试 json.dunps() 果然是深拷贝\n",
    "arr = [[1, 2], [3, 4, [4, 1]]]\n",
    "arrCopy = json.loads(json.dumps(repr(arr)))\n",
    "arr[1][2][0] = '==='\n",
    "arrCopy"
   ]
  },
  {
   "cell_type": "markdown",
   "id": "07da861c-44da-4c46-ace0-092593e9fcf0",
   "metadata": {},
   "source": [
    "# 二、numpy内建函数"
   ]
  },
  {
   "cell_type": "markdown",
   "id": "d50de884-0d1f-4b7f-83d4-bf206ecb5433",
   "metadata": {},
   "source": [
    "## 1、numpy弧度制与角度值的转化"
   ]
  },
  {
   "cell_type": "code",
   "execution_count": null,
   "id": "cd0073b6-85cd-4b8f-a32a-66305fd09f1e",
   "metadata": {},
   "outputs": [],
   "source": [
    "# 角度转弧度\n",
    "print(np.deg2rad(45))\n",
    "print(45*np.pi/180)"
   ]
  },
  {
   "cell_type": "code",
   "execution_count": null,
   "id": "4faeacd3-dda8-44f7-b385-35d0c3fdabc4",
   "metadata": {},
   "outputs": [],
   "source": [
    "# 弧度转角度\n",
    "print(np.rad2deg(np.pi/2))\n",
    "print(np.pi/2*180/np.pi)"
   ]
  },
  {
   "cell_type": "markdown",
   "id": "b9056854-f314-4374-a28f-50392a0b5b14",
   "metadata": {},
   "source": [
    "## 2、三角函数"
   ]
  },
  {
   "cell_type": "code",
   "execution_count": null,
   "id": "934bdd87-9434-441d-bf46-9bc9b8ae5f05",
   "metadata": {
    "editable": true,
    "slideshow": {
     "slide_type": ""
    },
    "tags": []
   },
   "outputs": [],
   "source": [
    "a = np.array([0,30,45,60,90])\n",
    "print ('不同角度的正弦值：')\n",
    "# 通过乘 pi/180 转化为弧度  \n",
    "print (np.sin(a*np.pi/180))\n",
    "print ('数组中角度的余弦值：')\n",
    "print (np.cos(a*np.pi/180))\n",
    "print ('数组中角度的正切值：')\n",
    "print (np.tan(a*np.pi/180))"
   ]
  },
  {
   "cell_type": "code",
   "execution_count": null,
   "id": "7bdbd269-4cde-4aed-8a29-1e1e6f4d9dac",
   "metadata": {},
   "outputs": [],
   "source": [
    "a = np.array([0,30,45,60,90])  \n",
    "print ('含有正弦值的数组：')\n",
    "sin = np.sin(a*np.pi/180)\n",
    "print(sin)\n",
    "print ('计算角度的反正弦，返回值以弧度为单位：')\n",
    "inv = np.arcsin(sin)  \n",
    "print (inv)\n",
    "print ('通过转化为角度制来检查结果：')\n",
    "print (np.degrees(inv))\n",
    "print ('arccos 和 arctan 函数行为类似：')\n",
    "cos = np.cos(a*np.pi/180)  \n",
    "print (cos)\n",
    "print ('反余弦：')\n",
    "inv = np.arccos(cos)  \n",
    "print (inv)\n",
    "print ('角度制单位：')\n",
    "print (np.degrees(inv))\n",
    "print ('tan 函数：')\n",
    "tan = np.tan(a*np.pi/180)  \n",
    "print (tan)\n",
    "print ('反正切：')\n",
    "inv = np.arctan(tan)  \n",
    "print (inv)\n",
    "print ('角度制单位：')\n",
    "print (np.degrees(inv))"
   ]
  },
  {
   "cell_type": "markdown",
   "id": "24f11690-dde3-45a4-b35f-06070283457f",
   "metadata": {},
   "source": [
    "## 3、数据统计"
   ]
  },
  {
   "cell_type": "code",
   "execution_count": null,
   "id": "df044941-5e27-4a2b-84b0-49c32ad045f1",
   "metadata": {},
   "outputs": [],
   "source": [
    "arr = np.array([[33, 55], [11, 66], [22, 99]])\n",
    "# print(arr)\n",
    "# 最大值\n",
    "# print(np.max(arr))\n",
    "# 最小值\n",
    "# print(np.min(arr))\n",
    "# 某一轴上的最大值\n",
    "print(np.max(arr, 0))\n",
    "# 某一轴上的最小值\n",
    "print(np.min(arr, 0))\n",
    "# 平均值\n",
    "print(np.mean(arr))\n",
    "# 某一行、一列的平均值\n",
    "print(np.mean(arr, axis=1))\n",
    "# 最大值索引\n",
    "print(np.argmax(arr))\n",
    "print(np.argmax(arr, axis=1))\n",
    "# 最小值索引\n",
    "print(np.argmin(arr))\n",
    "print(np.argmin(arr, axis=1))\n",
    "# 极差\n",
    "print(np.ptp(arr))\n",
    "print(np.ptp(arr, axis=1))\n",
    "# 方差\n",
    "print(np.var(arr))\n",
    "# 标准差\n",
    "print(np.std(arr))\n",
    "# 中位数\n",
    "print(np.median(arr))"
   ]
  },
  {
   "cell_type": "markdown",
   "id": "2b4d068a-2bbf-4261-8b9e-111c0922c9e7",
   "metadata": {},
   "source": [
    "## 4、数组排序"
   ]
  },
  {
   "cell_type": "code",
   "execution_count": null,
   "id": "2065a88f-eba4-4f8d-b9e1-0ff00a5ccc1a",
   "metadata": {},
   "outputs": [],
   "source": [
    "a = np.array([[3, 7, 1],[9, 1, 5]])\n",
    "# 逐行排序\n",
    "np.sort(a)\n",
    "\n",
    "# axis = 0：按列排序\n",
    "# axis = 1：按行排序\n",
    "np.sort(a, axis =  1)"
   ]
  },
  {
   "cell_type": "code",
   "execution_count": null,
   "id": "118110b5-2957-4146-a219-4eb76d02df7d",
   "metadata": {},
   "outputs": [],
   "source": [
    "# 在 sort 函数中排序字段 \n",
    "dt = np.dtype([('name',  'S10'),('age',  int)]) \n",
    "a = np.array([(\"raju\",21),(\"anil\",25),(\"ravi\",  17),  (\"amar\",27)], dtype = dt)  \n",
    "print ('我们的数组是：')\n",
    "print (a)\n",
    "print ('\\n')\n",
    "print ('按 name 排序：')\n",
    "print (np.sort(a, order =  'name'))"
   ]
  },
  {
   "cell_type": "markdown",
   "id": "fa5a8423-1ff5-4d2c-84bb-72a4fa69d937",
   "metadata": {},
   "source": [
    "## 5、返回数组索引"
   ]
  },
  {
   "cell_type": "markdown",
   "id": "22ec309a-3aca-412c-9f54-b6f0a495e797",
   "metadata": {},
   "source": [
    "### 5.1、`numpy.argsort()`\n",
    "\n",
    "> 返回的是数组值从小到大的索引值"
   ]
  },
  {
   "cell_type": "code",
   "execution_count": null,
   "id": "a01ec3d5-d639-41d2-ba6e-37d27ecb8eee",
   "metadata": {},
   "outputs": [],
   "source": [
    "z = np.array([1, 3, 2, 4, 0])\n",
    "f = np.argsort(z)\n",
    "z[f]"
   ]
  },
  {
   "cell_type": "markdown",
   "id": "6d9cb1df-8e85-4192-89fa-2735410c4ef2",
   "metadata": {},
   "source": [
    "### 5.2、`enumerate()`函数\n",
    "\n",
    "    enumerate() 是 Python 的一个内置函数，它用于将一个可遍历的数据对象（如列表、元组或字符串）组合成一个索引序列，同时列出数据和数据下标。这个函数一般用在 for 循环当中。"
   ]
  },
  {
   "cell_type": "code",
   "execution_count": null,
   "id": "369e5925-ccaa-405b-a710-112df3795bf9",
   "metadata": {
    "scrolled": true
   },
   "outputs": [],
   "source": [
    "s = np.arange(0, 1, 0.01)\n",
    "# 参数：\n",
    "# - sequence: 一个序列、迭代器或其他支持迭代对\n",
    "# - start: 下标起始位置。默认为0。\n",
    "for i, v in enumerate(s):  \n",
    "    print(i, v)"
   ]
  },
  {
   "cell_type": "markdown",
   "id": "88b44cf2-2c06-4688-8259-10ebfee22087",
   "metadata": {},
   "source": [
    "## 6、数组类型转换"
   ]
  },
  {
   "cell_type": "markdown",
   "id": "f139ca07-68e2-44b8-b548-920b9fa0f5f0",
   "metadata": {},
   "source": [
    "## 6.1、字符数组转化为数值数组"
   ]
  },
  {
   "cell_type": "code",
   "execution_count": 7,
   "id": "53da08e0-c8b7-4d34-a08b-e10c44d9a509",
   "metadata": {
    "execution": {
     "iopub.execute_input": "2024-11-23T04:41:10.851206Z",
     "iopub.status.busy": "2024-11-23T04:41:10.850099Z",
     "iopub.status.idle": "2024-11-23T04:41:10.861177Z",
     "shell.execute_reply": "2024-11-23T04:41:10.860543Z",
     "shell.execute_reply.started": "2024-11-23T04:41:10.851133Z"
    }
   },
   "outputs": [
    {
     "data": {
      "text/plain": [
       "array([1., 2., 3.])"
      ]
     },
     "execution_count": 7,
     "metadata": {},
     "output_type": "execute_result"
    }
   ],
   "source": [
    "# 将字符数组转化为数值数组\n",
    "a = np.array(['1', '2', 3])\n",
    "b = a.astype(np.float64)\n",
    "b"
   ]
  },
  {
   "cell_type": "markdown",
   "id": "88d891cf-c55a-42c0-ad7f-ab15f991db5a",
   "metadata": {},
   "source": [
    "# 二、矩阵运算"
   ]
  },
  {
   "cell_type": "code",
   "execution_count": null,
   "id": "15ed610a-5b6e-49d5-9d5e-2a8149c646f4",
   "metadata": {},
   "outputs": [],
   "source": [
    "# 矩阵转置\n",
    "a = np.array([[1, 2, 3], [4, 5, 6]])\n",
    "a = np.transpose(a)\n",
    "a"
   ]
  },
  {
   "cell_type": "markdown",
   "id": "1a06e721-3cf9-4d18-887b-0d7fe6f0163f",
   "metadata": {},
   "source": [
    "## 1、矩阵和数的运算"
   ]
  },
  {
   "cell_type": "code",
   "execution_count": null,
   "id": "2745063f-ff71-4bf1-874a-69ffdf221751",
   "metadata": {
    "scrolled": true
   },
   "outputs": [],
   "source": [
    "arr = np.arange(12).reshape(3, 4)\n",
    "arr\n",
    "\n",
    "# 加减乘除\n",
    "# print(arr + 3, end='\\n\\n')\n",
    "# print(arr - 1, end='\\n\\n')\n",
    "# print(arr * 2, end='\\n\\n')\n",
    "# print(arr / 3, end='\\n\\n')"
   ]
  },
  {
   "cell_type": "markdown",
   "id": "4cb6d4d2-578b-4d0f-b55f-215dd591090a",
   "metadata": {},
   "source": [
    "## 2、矩阵之间的运算"
   ]
  },
  {
   "cell_type": "code",
   "execution_count": null,
   "id": "4d93750a-12e0-4a5b-8c90-bc571ebba42d",
   "metadata": {},
   "outputs": [],
   "source": [
    "# 行列相等\n",
    "\"\"\" a = np.linspace(1, 12, 12).reshape(3, 4)\n",
    "b = np.linspace(13, 24, 12).reshape(3, 4)\n",
    "a + b\n",
    "a - b\n",
    "a * b \"\"\"\n",
    "\n",
    "# 相同行数【并且只有一列才管用】\n",
    "a = np.arange(12).reshape(3, 4)\n",
    "b = np.arange(3).reshape(3, 1)\n",
    "a + b"
   ]
  },
  {
   "cell_type": "markdown",
   "id": "5f3c0e4b-7295-4d6d-a29a-13432cf262e1",
   "metadata": {},
   "source": [
    "## 3、numpy统计指标"
   ]
  },
  {
   "cell_type": "code",
   "execution_count": null,
   "id": "3a26090a-9ce0-4474-a8a4-66c6a063ae3d",
   "metadata": {},
   "outputs": [],
   "source": []
  },
  {
   "cell_type": "markdown",
   "id": "05dc5cf4-3f1c-4512-a552-47f10f3fb3b2",
   "metadata": {},
   "source": [
    "## 4、构造特殊矩阵"
   ]
  },
  {
   "cell_type": "markdown",
   "id": "53418b5b-27e8-4b7a-bb0f-7539d4e0b0f7",
   "metadata": {},
   "source": [
    "### 4.1、构造全0矩阵"
   ]
  },
  {
   "cell_type": "code",
   "execution_count": null,
   "id": "36fc58e5-a824-4f7d-adde-c712b38c38e0",
   "metadata": {},
   "outputs": [],
   "source": [
    "# 这样写就是 1*10，一行十列\n",
    "a = np.zeros(10)\n",
    "print(a)\n",
    "print(a.shape, type(a))"
   ]
  },
  {
   "cell_type": "code",
   "execution_count": null,
   "id": "8ad6318a-7990-4a2b-933d-8ec1c14fd99f",
   "metadata": {},
   "outputs": [],
   "source": [
    "# 可以在第一个参数上规定矩阵的形状\n",
    "b = np.zeros((10, 10))\n",
    "print(b)\n",
    "print(b.shape, type(b))"
   ]
  },
  {
   "cell_type": "markdown",
   "id": "342b26a0-9fec-40ad-8796-064f7c601c18",
   "metadata": {},
   "source": [
    "### 4.2、构造全1矩阵"
   ]
  },
  {
   "cell_type": "code",
   "execution_count": null,
   "id": "a4eae860-152a-4c6e-a828-ddcd5ced61a1",
   "metadata": {},
   "outputs": [],
   "source": [
    "c1 = np.ones(10)\n",
    "print(c1)\n",
    "print(c1.shape, type(c1))"
   ]
  },
  {
   "cell_type": "code",
   "execution_count": null,
   "id": "6bc79352-e40a-495d-b1b2-78ab617fc2c6",
   "metadata": {},
   "outputs": [],
   "source": [
    "c2 = np.ones((10, 10))\n",
    "print(c2)\n",
    "print(c2.shape, type(c2))"
   ]
  },
  {
   "cell_type": "markdown",
   "id": "97487943-e337-4f9e-a787-5fb30fc801cf",
   "metadata": {},
   "source": [
    "## 5、矩阵特征值计算"
   ]
  },
  {
   "cell_type": "markdown",
   "id": "19417efb-fb56-4d90-b37f-55cac3337137",
   "metadata": {},
   "source": [
    "### 5.1、矩阵对角化"
   ]
  },
  {
   "cell_type": "code",
   "execution_count": null,
   "id": "71f72734-0414-4dd3-8507-b3a75b48382d",
   "metadata": {},
   "outputs": [],
   "source": [
    "x = np.arange(0, 10, 1)\n",
    "y = np.diag(x, 1)\n",
    "print(y)"
   ]
  },
  {
   "cell_type": "markdown",
   "id": "15b34937-d6f6-49ea-9717-d068ecb86298",
   "metadata": {},
   "source": [
    "### 5.2、numpy求解特征值c"
   ]
  },
  {
   "cell_type": "code",
   "execution_count": null,
   "id": "5f130140-7dea-4dd1-842b-1f11fd3e5097",
   "metadata": {},
   "outputs": [],
   "source": [
    "a = np.diag((1,2,3)) # 一个对角矩阵\n",
    "w, v = np.linalg.eig(a)\n",
    "print(w)"
   ]
  },
  {
   "cell_type": "markdown",
   "id": "283d09ff-2cdf-4d07-9342-dae214d76b41",
   "metadata": {},
   "source": [
    "### 5.3、scipy求解特征值"
   ]
  },
  {
   "cell_type": "code",
   "execution_count": null,
   "id": "11532e28-d90a-4ced-9f80-977b84e7808f",
   "metadata": {},
   "outputs": [],
   "source": [
    "a = np.array([[1, 2], [3, 1+1.j]])\n",
    "print('a:', a, '\\n')\n",
    "sigma_y = np.array([[0, -1.j], [1.j, 0]])\n",
    "print('sigma_y:', sigma_y)\n",
    "# 元素和平方之后再开方\n",
    "la.norm(a) ** 2\n",
    "\n",
    "la.norm(a-a)\n",
    "# 厄米共轭\n",
    "np.matrix(sigma_y).H\n",
    "# 建议用下面的方式\n",
    "sigma_y.transpose().conj()"
   ]
  },
  {
   "cell_type": "code",
   "execution_count": null,
   "id": "0bf11622-b5a6-4a7d-a1a1-8cac75f1b7ff",
   "metadata": {},
   "outputs": [],
   "source": [
    "# 判断矩阵是否是厄米矩阵\n",
    "def assert_hermitian(hami):\n",
    "    assert la.norm(hami - hami.transpose().conj()) < 1e-6, f'hami is hermitian'\n",
    "    return True\n",
    "# assert_hermitian(a)\n",
    "assert_hermitian(sigma_y)"
   ]
  },
  {
   "cell_type": "code",
   "execution_count": null,
   "id": "26c90def-dd13-4b76-9cb2-49a75daf4d4f",
   "metadata": {},
   "outputs": [],
   "source": [
    "# 求矩阵本征值\n",
    "la.eigh(a)"
   ]
  },
  {
   "cell_type": "markdown",
   "id": "718d977d-dd51-4ac2-bc25-6635d9deee35",
   "metadata": {},
   "source": [
    "# 三、numpy的执行速度"
   ]
  },
  {
   "cell_type": "markdown",
   "id": "f77a1074-573a-4a40-941d-4479d0bff7c2",
   "metadata": {},
   "source": [
    "## 1、比较numpy和python math库运行速度"
   ]
  },
  {
   "cell_type": "code",
   "execution_count": 35,
   "id": "a7f0d21a-3ce8-4758-b657-9347c2e4ef51",
   "metadata": {
    "execution": {
     "iopub.execute_input": "2024-11-23T06:20:04.973341Z",
     "iopub.status.busy": "2024-11-23T06:20:04.972925Z",
     "iopub.status.idle": "2024-11-23T06:20:25.689900Z",
     "shell.execute_reply": "2024-11-23T06:20:25.689580Z",
     "shell.execute_reply.started": "2024-11-23T06:20:04.973308Z"
    }
   },
   "outputs": [
    {
     "name": "stdout",
     "output_type": "stream",
     "text": [
      "math： 20.510344\n"
     ]
    }
   ],
   "source": [
    "x = np.arange(0, 1000000, 0.01)\n",
    "t_m1 = time.process_time()\n",
    "for i, t in enumerate(x):\n",
    "    x[i] = math.pow(math.sin(t), 2)\n",
    "t_m2 = time.process_time()\n",
    "print('math：', t_m2 - t_m1)"
   ]
  },
  {
   "cell_type": "code",
   "execution_count": 36,
   "id": "695fa2fd-cc59-4fe7-9afb-43339841a5f3",
   "metadata": {
    "execution": {
     "iopub.execute_input": "2024-11-23T06:20:35.997022Z",
     "iopub.status.busy": "2024-11-23T06:20:35.996043Z",
     "iopub.status.idle": "2024-11-23T06:20:37.987498Z",
     "shell.execute_reply": "2024-11-23T06:20:37.987162Z",
     "shell.execute_reply.started": "2024-11-23T06:20:35.996942Z"
    }
   },
   "outputs": [
    {
     "name": "stdout",
     "output_type": "stream",
     "text": [
      "numpy： 1.6435069999999996\n"
     ]
    }
   ],
   "source": [
    "y = np.arange(0, 1000000, 0.01)\n",
    "t_n1 = time.process_time()\n",
    "y = np.power(np.sin(y), 2)\n",
    "t_n2 =time.process_time()\n",
    "\n",
    "print('numpy：', t_n2 - t_n1)"
   ]
  },
  {
   "cell_type": "code",
   "execution_count": null,
   "id": "c7bd7eca-348c-4b9e-a6c7-fba0f9c8b89a",
   "metadata": {},
   "outputs": [],
   "source": []
  }
 ],
 "metadata": {
  "kernelspec": {
   "display_name": "Python 3 (ipykernel)",
   "language": "python",
   "name": "python3"
  },
  "language_info": {
   "codemirror_mode": {
    "name": "ipython",
    "version": 3
   },
   "file_extension": ".py",
   "mimetype": "text/x-python",
   "name": "python",
   "nbconvert_exporter": "python",
   "pygments_lexer": "ipython3",
   "version": "3.9.6"
  }
 },
 "nbformat": 4,
 "nbformat_minor": 5
}
