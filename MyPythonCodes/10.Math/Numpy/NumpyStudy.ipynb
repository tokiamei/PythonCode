{
 "cells": [
  {
   "cell_type": "code",
   "execution_count": 2,
   "id": "5bc1c1d9-7f34-4d57-b88e-fb989e89d193",
   "metadata": {
    "execution": {
     "iopub.execute_input": "2024-11-17T05:45:56.167756Z",
     "iopub.status.busy": "2024-11-17T05:45:56.166564Z",
     "iopub.status.idle": "2024-11-17T05:45:56.253628Z",
     "shell.execute_reply": "2024-11-17T05:45:56.253318Z",
     "shell.execute_reply.started": "2024-11-17T05:45:56.167705Z"
    }
   },
   "outputs": [],
   "source": [
    "import numpy as np"
   ]
  },
  {
   "cell_type": "markdown",
   "id": "07da861c-44da-4c46-ace0-092593e9fcf0",
   "metadata": {},
   "source": [
    "# 一、numpy内置函数"
   ]
  },
  {
   "cell_type": "markdown",
   "id": "d50de884-0d1f-4b7f-83d4-bf206ecb5433",
   "metadata": {},
   "source": [
    "## 1、numpy弧度制与角度值的转化"
   ]
  },
  {
   "cell_type": "code",
   "execution_count": 22,
   "id": "cd0073b6-85cd-4b8f-a32a-66305fd09f1e",
   "metadata": {
    "execution": {
     "iopub.execute_input": "2023-10-14T04:02:45.854189Z",
     "iopub.status.busy": "2023-10-14T04:02:45.853194Z",
     "iopub.status.idle": "2023-10-14T04:02:45.860897Z",
     "shell.execute_reply": "2023-10-14T04:02:45.859878Z",
     "shell.execute_reply.started": "2023-10-14T04:02:45.854189Z"
    }
   },
   "outputs": [
    {
     "name": "stdout",
     "output_type": "stream",
     "text": [
      "0.7853981633974483\n",
      "0.7853981633974483\n"
     ]
    }
   ],
   "source": [
    "# 角度转弧度\n",
    "print(np.deg2rad(45))\n",
    "print(45*np.pi/180)"
   ]
  },
  {
   "cell_type": "code",
   "execution_count": 24,
   "id": "4faeacd3-dda8-44f7-b385-35d0c3fdabc4",
   "metadata": {
    "execution": {
     "iopub.execute_input": "2023-10-14T04:03:47.152579Z",
     "iopub.status.busy": "2023-10-14T04:03:47.151577Z",
     "iopub.status.idle": "2023-10-14T04:03:47.158493Z",
     "shell.execute_reply": "2023-10-14T04:03:47.157477Z",
     "shell.execute_reply.started": "2023-10-14T04:03:47.152579Z"
    }
   },
   "outputs": [
    {
     "name": "stdout",
     "output_type": "stream",
     "text": [
      "90.0\n",
      "90.0\n"
     ]
    }
   ],
   "source": [
    "# 弧度转角度\n",
    "print(np.rad2deg(np.pi/2))\n",
    "print(np.pi/2*180/np.pi)"
   ]
  },
  {
   "cell_type": "markdown",
   "id": "b9056854-f314-4374-a28f-50392a0b5b14",
   "metadata": {},
   "source": [
    "## 2、三角函数"
   ]
  },
  {
   "cell_type": "code",
   "execution_count": 8,
   "id": "934bdd87-9434-441d-bf46-9bc9b8ae5f05",
   "metadata": {
    "editable": true,
    "execution": {
     "iopub.execute_input": "2023-10-14T03:52:01.555954Z",
     "iopub.status.busy": "2023-10-14T03:52:01.554954Z",
     "iopub.status.idle": "2023-10-14T03:52:01.564523Z",
     "shell.execute_reply": "2023-10-14T03:52:01.563514Z",
     "shell.execute_reply.started": "2023-10-14T03:52:01.555954Z"
    },
    "slideshow": {
     "slide_type": ""
    },
    "tags": []
   },
   "outputs": [
    {
     "name": "stdout",
     "output_type": "stream",
     "text": [
      "不同角度的正弦值：\n",
      "[0.         0.5        0.70710678 0.8660254  1.        ]\n",
      "数组中角度的余弦值：\n",
      "[1.00000000e+00 8.66025404e-01 7.07106781e-01 5.00000000e-01\n",
      " 6.12323400e-17]\n",
      "数组中角度的正切值：\n",
      "[0.00000000e+00 5.77350269e-01 1.00000000e+00 1.73205081e+00\n",
      " 1.63312394e+16]\n"
     ]
    }
   ],
   "source": [
    "a = np.array([0,30,45,60,90])\n",
    "print ('不同角度的正弦值：')\n",
    "# 通过乘 pi/180 转化为弧度  \n",
    "print (np.sin(a*np.pi/180))\n",
    "print ('数组中角度的余弦值：')\n",
    "print (np.cos(a*np.pi/180))\n",
    "print ('数组中角度的正切值：')\n",
    "print (np.tan(a*np.pi/180))"
   ]
  },
  {
   "cell_type": "code",
   "execution_count": 15,
   "id": "7bdbd269-4cde-4aed-8a29-1e1e6f4d9dac",
   "metadata": {
    "execution": {
     "iopub.execute_input": "2023-10-14T03:58:12.528632Z",
     "iopub.status.busy": "2023-10-14T03:58:12.527635Z",
     "iopub.status.idle": "2023-10-14T03:58:12.544120Z",
     "shell.execute_reply": "2023-10-14T03:58:12.543105Z",
     "shell.execute_reply.started": "2023-10-14T03:58:12.528632Z"
    }
   },
   "outputs": [
    {
     "name": "stdout",
     "output_type": "stream",
     "text": [
      "含有正弦值的数组：\n",
      "[0.         0.5        0.70710678 0.8660254  1.        ]\n",
      "计算角度的反正弦，返回值以弧度为单位：\n",
      "[0.         0.52359878 0.78539816 1.04719755 1.57079633]\n",
      "通过转化为角度制来检查结果：\n",
      "[ 0. 30. 45. 60. 90.]\n",
      "arccos 和 arctan 函数行为类似：\n",
      "[1.00000000e+00 8.66025404e-01 7.07106781e-01 5.00000000e-01\n",
      " 6.12323400e-17]\n",
      "反余弦：\n",
      "[0.         0.52359878 0.78539816 1.04719755 1.57079633]\n",
      "角度制单位：\n",
      "[ 0. 30. 45. 60. 90.]\n",
      "tan 函数：\n",
      "[0.00000000e+00 5.77350269e-01 1.00000000e+00 1.73205081e+00\n",
      " 1.63312394e+16]\n",
      "反正切：\n",
      "[0.         0.52359878 0.78539816 1.04719755 1.57079633]\n",
      "角度制单位：\n",
      "[ 0. 30. 45. 60. 90.]\n"
     ]
    }
   ],
   "source": [
    "a = np.array([0,30,45,60,90])  \n",
    "print ('含有正弦值的数组：')\n",
    "sin = np.sin(a*np.pi/180)\n",
    "print(sin)\n",
    "print ('计算角度的反正弦，返回值以弧度为单位：')\n",
    "inv = np.arcsin(sin)  \n",
    "print (inv)\n",
    "print ('通过转化为角度制来检查结果：')\n",
    "print (np.degrees(inv))\n",
    "print ('arccos 和 arctan 函数行为类似：')\n",
    "cos = np.cos(a*np.pi/180)  \n",
    "print (cos)\n",
    "print ('反余弦：')\n",
    "inv = np.arccos(cos)  \n",
    "print (inv)\n",
    "print ('角度制单位：')\n",
    "print (np.degrees(inv))\n",
    "print ('tan 函数：')\n",
    "tan = np.tan(a*np.pi/180)  \n",
    "print (tan)\n",
    "print ('反正切：')\n",
    "inv = np.arctan(tan)  \n",
    "print (inv)\n",
    "print ('角度制单位：')\n",
    "print (np.degrees(inv))"
   ]
  },
  {
   "cell_type": "markdown",
   "id": "24f11690-dde3-45a4-b35f-06070283457f",
   "metadata": {},
   "source": [
    "## 3、数据统计"
   ]
  },
  {
   "cell_type": "code",
   "execution_count": null,
   "id": "df044941-5e27-4a2b-84b0-49c32ad045f1",
   "metadata": {},
   "outputs": [],
   "source": [
    "arr = np.array([[33, 55], [11, 66], [22, 99]])\n",
    "# print(arr)\n",
    "# 最大值\n",
    "# print(np.max(arr))\n",
    "# 最小值\n",
    "# print(np.min(arr))\n",
    "# 某一轴上的最大值\n",
    "print(np.max(arr, 0))\n",
    "# 某一轴上的最小值\n",
    "print(np.min(arr, 0))\n",
    "# 平均值\n",
    "print(np.mean(arr))\n",
    "# 某一行、一列的平均值\n",
    "print(np.mean(arr, axis=1))\n",
    "# 最大值索引\n",
    "print(np.argmax(arr))\n",
    "print(np.argmax(arr, axis=1))\n",
    "# 最小值索引\n",
    "print(np.argmin(arr))\n",
    "print(np.argmin(arr, axis=1))\n",
    "# 极差\n",
    "print(np.ptp(arr))\n",
    "print(np.ptp(arr, axis=1))\n",
    "# 方差\n",
    "print(np.var(arr))\n",
    "# 标准差\n",
    "print(np.std(arr))\n",
    "# 中位数\n",
    "print(np.median(arr))"
   ]
  },
  {
   "cell_type": "markdown",
   "id": "2b4d068a-2bbf-4261-8b9e-111c0922c9e7",
   "metadata": {},
   "source": [
    "## 4、数组排序"
   ]
  },
  {
   "cell_type": "code",
   "execution_count": null,
   "id": "2065a88f-eba4-4f8d-b9e1-0ff00a5ccc1a",
   "metadata": {},
   "outputs": [],
   "source": [
    "a = np.array([[3, 7, 1],[9, 1, 5]])\n",
    "# 逐行排序\n",
    "np.sort(a)\n",
    "\n",
    "# axis = 0：按列排序\n",
    "# axis = 1：按行排序\n",
    "np.sort(a, axis =  1)"
   ]
  },
  {
   "cell_type": "code",
   "execution_count": null,
   "id": "118110b5-2957-4146-a219-4eb76d02df7d",
   "metadata": {},
   "outputs": [],
   "source": [
    "# 在 sort 函数中排序字段 \n",
    "dt = np.dtype([('name',  'S10'),('age',  int)]) \n",
    "a = np.array([(\"raju\",21),(\"anil\",25),(\"ravi\",  17),  (\"amar\",27)], dtype = dt)  \n",
    "print ('我们的数组是：')\n",
    "print (a)\n",
    "print ('\\n')\n",
    "print ('按 name 排序：')\n",
    "print (np.sort(a, order =  'name'))"
   ]
  },
  {
   "cell_type": "markdown",
   "id": "fa5a8423-1ff5-4d2c-84bb-72a4fa69d937",
   "metadata": {},
   "source": [
    "## 5、返回数组索引"
   ]
  },
  {
   "cell_type": "markdown",
   "id": "22ec309a-3aca-412c-9f54-b6f0a495e797",
   "metadata": {},
   "source": [
    "### 5.1、`numpy.argsort()`\n",
    "\n",
    "> 返回的是数组值从小到大的索引值"
   ]
  },
  {
   "cell_type": "code",
   "execution_count": 3,
   "id": "a01ec3d5-d639-41d2-ba6e-37d27ecb8eee",
   "metadata": {
    "execution": {
     "iopub.execute_input": "2024-11-17T05:46:02.195863Z",
     "iopub.status.busy": "2024-11-17T05:46:02.194867Z",
     "iopub.status.idle": "2024-11-17T05:46:02.208115Z",
     "shell.execute_reply": "2024-11-17T05:46:02.207454Z",
     "shell.execute_reply.started": "2024-11-17T05:46:02.195788Z"
    }
   },
   "outputs": [
    {
     "data": {
      "text/plain": [
       "array([0, 1, 2, 3, 4])"
      ]
     },
     "execution_count": 3,
     "metadata": {},
     "output_type": "execute_result"
    }
   ],
   "source": [
    "z = np.array([1, 3, 2, 4, 0])\n",
    "f = np.argsort(z)\n",
    "z[f]"
   ]
  },
  {
   "cell_type": "markdown",
   "id": "6d9cb1df-8e85-4192-89fa-2735410c4ef2",
   "metadata": {},
   "source": [
    "### 5.2、`enumerate()`函数\n",
    "\n",
    "    enumerate() 是 Python 的一个内置函数，它用于将一个可遍历的数据对象（如列表、元组或字符串）组合成一个索引序列，同时列出数据和数据下标。这个函数一般用在 for 循环当中。"
   ]
  },
  {
   "cell_type": "code",
   "execution_count": 4,
   "id": "369e5925-ccaa-405b-a710-112df3795bf9",
   "metadata": {
    "execution": {
     "iopub.execute_input": "2024-11-17T05:46:11.968785Z",
     "iopub.status.busy": "2024-11-17T05:46:11.967807Z",
     "iopub.status.idle": "2024-11-17T05:46:11.978643Z",
     "shell.execute_reply": "2024-11-17T05:46:11.977917Z",
     "shell.execute_reply.started": "2024-11-17T05:46:11.968707Z"
    },
    "scrolled": true
   },
   "outputs": [
    {
     "name": "stdout",
     "output_type": "stream",
     "text": [
      "0 0.0\n",
      "1 0.01\n",
      "2 0.02\n",
      "3 0.03\n",
      "4 0.04\n",
      "5 0.05\n",
      "6 0.06\n",
      "7 0.07\n",
      "8 0.08\n",
      "9 0.09\n",
      "10 0.1\n",
      "11 0.11\n",
      "12 0.12\n",
      "13 0.13\n",
      "14 0.14\n",
      "15 0.15\n",
      "16 0.16\n",
      "17 0.17\n",
      "18 0.18\n",
      "19 0.19\n",
      "20 0.2\n",
      "21 0.21\n",
      "22 0.22\n",
      "23 0.23\n",
      "24 0.24\n",
      "25 0.25\n",
      "26 0.26\n",
      "27 0.27\n",
      "28 0.28\n",
      "29 0.29\n",
      "30 0.3\n",
      "31 0.31\n",
      "32 0.32\n",
      "33 0.33\n",
      "34 0.34\n",
      "35 0.35000000000000003\n",
      "36 0.36\n",
      "37 0.37\n",
      "38 0.38\n",
      "39 0.39\n",
      "40 0.4\n",
      "41 0.41000000000000003\n",
      "42 0.42\n",
      "43 0.43\n",
      "44 0.44\n",
      "45 0.45\n",
      "46 0.46\n",
      "47 0.47000000000000003\n",
      "48 0.48\n",
      "49 0.49\n",
      "50 0.5\n",
      "51 0.51\n",
      "52 0.52\n",
      "53 0.53\n",
      "54 0.54\n",
      "55 0.55\n",
      "56 0.56\n",
      "57 0.5700000000000001\n",
      "58 0.58\n",
      "59 0.59\n",
      "60 0.6\n",
      "61 0.61\n",
      "62 0.62\n",
      "63 0.63\n",
      "64 0.64\n",
      "65 0.65\n",
      "66 0.66\n",
      "67 0.67\n",
      "68 0.68\n",
      "69 0.6900000000000001\n",
      "70 0.7000000000000001\n",
      "71 0.71\n",
      "72 0.72\n",
      "73 0.73\n",
      "74 0.74\n",
      "75 0.75\n",
      "76 0.76\n",
      "77 0.77\n",
      "78 0.78\n",
      "79 0.79\n",
      "80 0.8\n",
      "81 0.81\n",
      "82 0.8200000000000001\n",
      "83 0.8300000000000001\n",
      "84 0.84\n",
      "85 0.85\n",
      "86 0.86\n",
      "87 0.87\n",
      "88 0.88\n",
      "89 0.89\n",
      "90 0.9\n",
      "91 0.91\n",
      "92 0.92\n",
      "93 0.93\n",
      "94 0.9400000000000001\n",
      "95 0.9500000000000001\n",
      "96 0.96\n",
      "97 0.97\n",
      "98 0.98\n",
      "99 0.99\n"
     ]
    }
   ],
   "source": [
    "s = np.arange(0, 1, 0.01)\n",
    "# 参数：\n",
    "# - sequence: 一个序列、迭代器或其他支持迭代对\n",
    "# - start: 下标起始位置。默认为0。\n",
    "for i, v in enumerate(s):  \n",
    "    print(i, v)"
   ]
  },
  {
   "cell_type": "markdown",
   "id": "88d891cf-c55a-42c0-ad7f-ab15f991db5a",
   "metadata": {},
   "source": [
    "# 二、矩阵运算"
   ]
  },
  {
   "cell_type": "code",
   "execution_count": 5,
   "id": "15ed610a-5b6e-49d5-9d5e-2a8149c646f4",
   "metadata": {
    "execution": {
     "iopub.execute_input": "2024-11-17T05:47:55.602662Z",
     "iopub.status.busy": "2024-11-17T05:47:55.601667Z",
     "iopub.status.idle": "2024-11-17T05:47:55.612683Z",
     "shell.execute_reply": "2024-11-17T05:47:55.611592Z",
     "shell.execute_reply.started": "2024-11-17T05:47:55.602586Z"
    }
   },
   "outputs": [
    {
     "data": {
      "text/plain": [
       "array([[1, 4],\n",
       "       [2, 5],\n",
       "       [3, 6]])"
      ]
     },
     "execution_count": 5,
     "metadata": {},
     "output_type": "execute_result"
    }
   ],
   "source": [
    "# 矩阵转置\n",
    "a = np.array([[1, 2, 3], [4, 5, 6]])\n",
    "a = np.transpose(a)\n",
    "a"
   ]
  },
  {
   "cell_type": "markdown",
   "id": "1a06e721-3cf9-4d18-887b-0d7fe6f0163f",
   "metadata": {},
   "source": [
    "## 1、矩阵和数的运算"
   ]
  },
  {
   "cell_type": "code",
   "execution_count": null,
   "id": "2745063f-ff71-4bf1-874a-69ffdf221751",
   "metadata": {
    "scrolled": true
   },
   "outputs": [
    {
     "data": {
      "text/plain": [
       "array([[ 0,  1,  2,  3],\n",
       "       [ 4,  5,  6,  7],\n",
       "       [ 8,  9, 10, 11]])"
      ]
     },
     "execution_count": 16,
     "metadata": {},
     "output_type": "execute_result"
    }
   ],
   "source": [
    "arr = np.arange(12).reshape(3, 4)\n",
    "arr\n",
    "\n",
    "# 加减乘除\n",
    "# print(arr + 3, end='\\n\\n')\n",
    "# print(arr - 1, end='\\n\\n')\n",
    "# print(arr * 2, end='\\n\\n')\n",
    "# print(arr / 3, end='\\n\\n')"
   ]
  },
  {
   "cell_type": "markdown",
   "id": "4cb6d4d2-578b-4d0f-b55f-215dd591090a",
   "metadata": {
    "jp-MarkdownHeadingCollapsed": true
   },
   "source": [
    "## 2、矩阵之间的运算"
   ]
  },
  {
   "cell_type": "code",
   "execution_count": 43,
   "id": "4d93750a-12e0-4a5b-8c90-bc571ebba42d",
   "metadata": {},
   "outputs": [
    {
     "data": {
      "text/plain": [
       "array([[ 0,  1,  2,  3],\n",
       "       [ 5,  6,  7,  8],\n",
       "       [10, 11, 12, 13]])"
      ]
     },
     "execution_count": 43,
     "metadata": {},
     "output_type": "execute_result"
    }
   ],
   "source": [
    "# 行列相等\n",
    "\"\"\" a = np.linspace(1, 12, 12).reshape(3, 4)\n",
    "b = np.linspace(13, 24, 12).reshape(3, 4)\n",
    "a + b\n",
    "a - b\n",
    "a * b \"\"\"\n",
    "\n",
    "# 相同行数【并且只有一列才管用】\n",
    "a = np.arange(12).reshape(3, 4)\n",
    "b = np.arange(3).reshape(3, 1)\n",
    "a + b"
   ]
  },
  {
   "cell_type": "markdown",
   "id": "5f3c0e4b-7295-4d6d-a29a-13432cf262e1",
   "metadata": {},
   "source": [
    "## 3、numpy统计指标"
   ]
  },
  {
   "cell_type": "code",
   "execution_count": 4,
   "id": "3a26090a-9ce0-4474-a8a4-66c6a063ae3d",
   "metadata": {
    "execution": {
     "iopub.execute_input": "2024-11-17T05:21:09.932966Z",
     "iopub.status.busy": "2024-11-17T05:21:09.932453Z",
     "iopub.status.idle": "2024-11-17T05:21:09.947037Z",
     "shell.execute_reply": "2024-11-17T05:21:09.946269Z",
     "shell.execute_reply.started": "2024-11-17T05:21:09.932929Z"
    }
   },
   "outputs": [
    {
     "name": "stdout",
     "output_type": "stream",
     "text": [
      "[33 99]\n",
      "[11 55]\n",
      "47.666666666666664\n",
      "[44.  38.5 60.5]\n",
      "5\n",
      "[1 1 1]\n",
      "2\n",
      "[0 0 0]\n",
      "88\n",
      "[22 55 77]\n",
      "873.8888888888888\n",
      "29.561611743761347\n",
      "44.0\n"
     ]
    }
   ],
   "source": []
  },
  {
   "cell_type": "markdown",
   "id": "05dc5cf4-3f1c-4512-a552-47f10f3fb3b2",
   "metadata": {},
   "source": [
    "## 4、构造特殊矩阵"
   ]
  },
  {
   "cell_type": "markdown",
   "id": "53418b5b-27e8-4b7a-bb0f-7539d4e0b0f7",
   "metadata": {},
   "source": [
    "### 4.1、构造全0矩阵"
   ]
  },
  {
   "cell_type": "code",
   "execution_count": 6,
   "id": "36fc58e5-a824-4f7d-adde-c712b38c38e0",
   "metadata": {
    "execution": {
     "iopub.execute_input": "2024-11-17T05:49:28.067778Z",
     "iopub.status.busy": "2024-11-17T05:49:28.066900Z",
     "iopub.status.idle": "2024-11-17T05:49:28.079189Z",
     "shell.execute_reply": "2024-11-17T05:49:28.078296Z",
     "shell.execute_reply.started": "2024-11-17T05:49:28.067705Z"
    }
   },
   "outputs": [
    {
     "name": "stdout",
     "output_type": "stream",
     "text": [
      "[0. 0. 0. 0. 0. 0. 0. 0. 0. 0.]\n",
      "(10,) <class 'numpy.ndarray'>\n"
     ]
    }
   ],
   "source": [
    "# 这样写就是 1*10，一行十列\n",
    "a = np.zeros(10)\n",
    "print(a)\n",
    "print(a.shape, type(a))"
   ]
  },
  {
   "cell_type": "code",
   "execution_count": 7,
   "id": "8ad6318a-7990-4a2b-933d-8ec1c14fd99f",
   "metadata": {
    "execution": {
     "iopub.execute_input": "2024-11-17T05:49:36.119802Z",
     "iopub.status.busy": "2024-11-17T05:49:36.118655Z",
     "iopub.status.idle": "2024-11-17T05:49:36.127382Z",
     "shell.execute_reply": "2024-11-17T05:49:36.126028Z",
     "shell.execute_reply.started": "2024-11-17T05:49:36.119757Z"
    }
   },
   "outputs": [
    {
     "name": "stdout",
     "output_type": "stream",
     "text": [
      "[[0. 0. 0. 0. 0. 0. 0. 0. 0. 0.]\n",
      " [0. 0. 0. 0. 0. 0. 0. 0. 0. 0.]\n",
      " [0. 0. 0. 0. 0. 0. 0. 0. 0. 0.]\n",
      " [0. 0. 0. 0. 0. 0. 0. 0. 0. 0.]\n",
      " [0. 0. 0. 0. 0. 0. 0. 0. 0. 0.]\n",
      " [0. 0. 0. 0. 0. 0. 0. 0. 0. 0.]\n",
      " [0. 0. 0. 0. 0. 0. 0. 0. 0. 0.]\n",
      " [0. 0. 0. 0. 0. 0. 0. 0. 0. 0.]\n",
      " [0. 0. 0. 0. 0. 0. 0. 0. 0. 0.]\n",
      " [0. 0. 0. 0. 0. 0. 0. 0. 0. 0.]]\n",
      "(10, 10) <class 'numpy.ndarray'>\n"
     ]
    }
   ],
   "source": [
    "# 可以在第一个参数上规定矩阵的形状\n",
    "b = np.zeros((10, 10))\n",
    "print(b)\n",
    "print(b.shape, type(b))"
   ]
  },
  {
   "cell_type": "markdown",
   "id": "342b26a0-9fec-40ad-8796-064f7c601c18",
   "metadata": {},
   "source": [
    "### 4.2、构造全1矩阵"
   ]
  },
  {
   "cell_type": "code",
   "execution_count": null,
   "id": "a4eae860-152a-4c6e-a828-ddcd5ced61a1",
   "metadata": {},
   "outputs": [],
   "source": [
    "c1 = np.ones(10)\n",
    "print(c1)\n",
    "print(c1.shape, type(c1))"
   ]
  },
  {
   "cell_type": "code",
   "execution_count": null,
   "id": "6bc79352-e40a-495d-b1b2-78ab617fc2c6",
   "metadata": {},
   "outputs": [],
   "source": [
    "c2 = np.ones((10, 10))\n",
    "print(c2)\n",
    "print(c2.shape, type(c2))"
   ]
  },
  {
   "cell_type": "markdown",
   "id": "97487943-e337-4f9e-a787-5fb30fc801cf",
   "metadata": {},
   "source": [
    "## 5、矩阵特征值计算"
   ]
  },
  {
   "cell_type": "markdown",
   "id": "19417efb-fb56-4d90-b37f-55cac3337137",
   "metadata": {},
   "source": [
    "### 5.1、矩阵对角化"
   ]
  },
  {
   "cell_type": "code",
   "execution_count": null,
   "id": "71f72734-0414-4dd3-8507-b3a75b48382d",
   "metadata": {},
   "outputs": [],
   "source": [
    "x = np.arange(0, 10, 1)\n",
    "y = np.diag(x, 1)\n",
    "print(y)"
   ]
  },
  {
   "cell_type": "markdown",
   "id": "15b34937-d6f6-49ea-9717-d068ecb86298",
   "metadata": {},
   "source": [
    "### 5.2、numpy求解特征值c"
   ]
  },
  {
   "cell_type": "code",
   "execution_count": 6,
   "id": "5f130140-7dea-4dd1-842b-1f11fd3e5097",
   "metadata": {
    "execution": {
     "iopub.execute_input": "2024-11-17T05:30:07.382305Z",
     "iopub.status.busy": "2024-11-17T05:30:07.381679Z",
     "iopub.status.idle": "2024-11-17T05:30:07.389912Z",
     "shell.execute_reply": "2024-11-17T05:30:07.388934Z",
     "shell.execute_reply.started": "2024-11-17T05:30:07.382262Z"
    }
   },
   "outputs": [
    {
     "name": "stdout",
     "output_type": "stream",
     "text": [
      "[1. 2. 3.]\n"
     ]
    }
   ],
   "source": [
    "a = np.diag((1,2,3)) # 一个对角矩阵\n",
    "w, v = np.linalg.eig(a)\n",
    "print(w)"
   ]
  },
  {
   "cell_type": "markdown",
   "id": "283d09ff-2cdf-4d07-9342-dae214d76b41",
   "metadata": {},
   "source": [
    "### 5.3、scipy求解特征值"
   ]
  },
  {
   "cell_type": "code",
   "execution_count": null,
   "id": "11532e28-d90a-4ced-9f80-977b84e7808f",
   "metadata": {},
   "outputs": [],
   "source": [
    "a = np.array([[1, 2], [3, 1+1.j]])\n",
    "print('a:', a, '\\n')\n",
    "sigma_y = np.array([[0, -1.j], [1.j, 0]])\n",
    "print('sigma_y:', sigma_y)\n",
    "# 元素和平方之后再开方\n",
    "la.norm(a) ** 2\n",
    "\n",
    "la.norm(a-a)\n",
    "# 厄米共轭\n",
    "np.matrix(sigma_y).H\n",
    "# 建议用下面的方式\n",
    "sigma_y.transpose().conj()"
   ]
  },
  {
   "cell_type": "code",
   "execution_count": null,
   "id": "0bf11622-b5a6-4a7d-a1a1-8cac75f1b7ff",
   "metadata": {},
   "outputs": [],
   "source": [
    "# 判断矩阵是否是厄米矩阵\n",
    "def assert_hermitian(hami):\n",
    "    assert la.norm(hami - hami.transpose().conj()) < 1e-6, f'hami is hermitian'\n",
    "    return True\n",
    "# assert_hermitian(a)\n",
    "assert_hermitian(sigma_y)"
   ]
  },
  {
   "cell_type": "code",
   "execution_count": null,
   "id": "26c90def-dd13-4b76-9cb2-49a75daf4d4f",
   "metadata": {},
   "outputs": [],
   "source": [
    "# 求矩阵本征值\n",
    "la.eigh(a)"
   ]
  },
  {
   "cell_type": "markdown",
   "id": "718d977d-dd51-4ac2-bc25-6635d9deee35",
   "metadata": {},
   "source": [
    "# 三、numpy的执行速度"
   ]
  },
  {
   "cell_type": "markdown",
   "id": "f77a1074-573a-4a40-941d-4479d0bff7c2",
   "metadata": {},
   "source": [
    "## 1、比较numpy和python math库运行速度"
   ]
  },
  {
   "cell_type": "code",
   "execution_count": 4,
   "id": "a7f0d21a-3ce8-4758-b657-9347c2e4ef51",
   "metadata": {
    "execution": {
     "iopub.execute_input": "2024-11-17T05:22:58.191389Z",
     "iopub.status.busy": "2024-11-17T05:22:58.190588Z",
     "iopub.status.idle": "2024-11-17T05:23:18.861349Z",
     "shell.execute_reply": "2024-11-17T05:23:18.861029Z",
     "shell.execute_reply.started": "2024-11-17T05:22:58.191339Z"
    }
   },
   "outputs": [
    {
     "name": "stdout",
     "output_type": "stream",
     "text": [
      "math： 20.535021\n"
     ]
    }
   ],
   "source": [
    "x = np.arange(0, 1000000, 0.01)\n",
    "t_m1 = time.process_time()\n",
    "for i, t in enumerate(x):\n",
    "    x[i] = math.pow(math.sin(t), 2)\n",
    "t_m2 = time.process_time()\n",
    "print('math：', t_m2 - t_m1)"
   ]
  },
  {
   "cell_type": "code",
   "execution_count": 5,
   "id": "695fa2fd-cc59-4fe7-9afb-43339841a5f3",
   "metadata": {
    "execution": {
     "iopub.execute_input": "2024-11-17T05:23:20.953072Z",
     "iopub.status.busy": "2024-11-17T05:23:20.952248Z",
     "iopub.status.idle": "2024-11-17T05:23:23.016255Z",
     "shell.execute_reply": "2024-11-17T05:23:23.015909Z",
     "shell.execute_reply.started": "2024-11-17T05:23:20.953022Z"
    }
   },
   "outputs": [
    {
     "name": "stdout",
     "output_type": "stream",
     "text": [
      "numpy： 1.7348389999999974\n"
     ]
    }
   ],
   "source": [
    "y = np.arange(0, 1000000, 0.01)\n",
    "t_n1 = time.process_time()\n",
    "y = np.power(np.sin(y), 2)\n",
    "t_n2 =time.process_time()\n",
    "\n",
    "print('numpy：', t_n2 - t_n1)"
   ]
  },
  {
   "cell_type": "code",
   "execution_count": null,
   "id": "c7bd7eca-348c-4b9e-a6c7-fba0f9c8b89a",
   "metadata": {},
   "outputs": [],
   "source": []
  }
 ],
 "metadata": {
  "kernelspec": {
   "display_name": "Python 3 (ipykernel)",
   "language": "python",
   "name": "python3"
  },
  "language_info": {
   "codemirror_mode": {
    "name": "ipython",
    "version": 3
   },
   "file_extension": ".py",
   "mimetype": "text/x-python",
   "name": "python",
   "nbconvert_exporter": "python",
   "pygments_lexer": "ipython3",
   "version": "3.9.6"
  }
 },
 "nbformat": 4,
 "nbformat_minor": 5
}
