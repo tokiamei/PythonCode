{
 "cells": [
  {
   "cell_type": "markdown",
   "metadata": {},
   "source": [
    "## 1、矩阵和数的运算"
   ]
  },
  {
   "cell_type": "code",
   "execution_count": 16,
   "metadata": {},
   "outputs": [
    {
     "data": {
      "text/plain": [
       "array([[ 0,  1,  2,  3],\n",
       "       [ 4,  5,  6,  7],\n",
       "       [ 8,  9, 10, 11]])"
      ]
     },
     "execution_count": 16,
     "metadata": {},
     "output_type": "execute_result"
    }
   ],
   "source": [
    "import numpy as np\n",
    "\n",
    "arr = np.arange(12).reshape(3, 4)\n",
    "arr\n",
    "\n",
    "# 加减乘除\n",
    "# print(arr + 3, end='\\n\\n')\n",
    "# print(arr - 1, end='\\n\\n')\n",
    "# print(arr * 2, end='\\n\\n')\n",
    "# print(arr / 3, end='\\n\\n')\n",
    "\n"
   ]
  },
  {
   "cell_type": "markdown",
   "metadata": {},
   "source": [
    "## 2、矩阵之间的运算"
   ]
  },
  {
   "cell_type": "code",
   "execution_count": 43,
   "metadata": {},
   "outputs": [
    {
     "data": {
      "text/plain": [
       "array([[ 0,  1,  2,  3],\n",
       "       [ 5,  6,  7,  8],\n",
       "       [10, 11, 12, 13]])"
      ]
     },
     "execution_count": 43,
     "metadata": {},
     "output_type": "execute_result"
    }
   ],
   "source": [
    "# 行列相等\n",
    "\"\"\" a = np.linspace(1, 12, 12).reshape(3, 4)\n",
    "b = np.linspace(13, 24, 12).reshape(3, 4)\n",
    "a + b\n",
    "a - b\n",
    "a * b \"\"\"\n",
    "\n",
    "# 相同行数【并且只有一列才管用】\n",
    "a = np.arange(12).reshape(3, 4)\n",
    "b = np.arange(3).reshape(3, 1)\n",
    "a + b"
   ]
  },
  {
   "cell_type": "markdown",
   "metadata": {},
   "source": [
    "## 3、【最大值等等一些运算】"
   ]
  },
  {
   "cell_type": "code",
   "execution_count": 47,
   "metadata": {},
   "outputs": [
    {
     "name": "stdout",
     "output_type": "stream",
     "text": [
      "[33 99]\n",
      "[11 55]\n",
      "47.666666666666664\n",
      "[44.  38.5 60.5]\n",
      "5\n",
      "[1 1 1]\n",
      "2\n",
      "[0 0 0]\n",
      "88\n",
      "[22 55 77]\n",
      "873.8888888888888\n",
      "29.561611743761347\n",
      "44.0\n"
     ]
    }
   ],
   "source": [
    "import numpy as np\n",
    "\n",
    "arr = np.array([[33, 55], [11, 66], [22, 99]])\n",
    "# print(arr)\n",
    "# 最大值\n",
    "# print(np.max(arr))\n",
    "# 最小值\n",
    "# print(np.min(arr))\n",
    "# 某一轴上的最大值\n",
    "print(np.max(arr, 0))\n",
    "# 某一轴上的最小值\n",
    "print(np.min(arr, 0))\n",
    "# 平均值\n",
    "print(np.mean(arr))\n",
    "# 某一行、一列的平均值\n",
    "print(np.mean(arr, axis=1))\n",
    "# 最大值索引\n",
    "print(np.argmax(arr))\n",
    "print(np.argmax(arr, axis=1))\n",
    "# 最小值索引\n",
    "print(np.argmin(arr))\n",
    "print(np.argmin(arr, axis=1))\n",
    "# 极差\n",
    "print(np.ptp(arr))\n",
    "print(np.ptp(arr, axis=1))\n",
    "# 方差\n",
    "print(np.var(arr))\n",
    "# 标准差\n",
    "print(np.std(arr))\n",
    "# 中位数\n",
    "print(np.median(arr))\n"
   ]
  },
  {
   "cell_type": "code",
   "execution_count": 48,
   "metadata": {},
   "outputs": [
    {
     "data": {
      "text/plain": [
       "array([1, 2, 5])"
      ]
     },
     "execution_count": 48,
     "metadata": {},
     "output_type": "execute_result"
    }
   ],
   "source": [
    "# 去重\n",
    "arr = [2, 1, 5, 2, 1]\n",
    "np.unique(arr)"
   ]
  },
  {
   "cell_type": "markdown",
   "metadata": {},
   "source": []
  }
 ],
 "metadata": {
  "kernelspec": {
   "display_name": "Python 3 (ipykernel)",
   "language": "python",
   "name": "python3"
  },
  "language_info": {
   "codemirror_mode": {
    "name": "ipython",
    "version": 3
   },
   "file_extension": ".py",
   "mimetype": "text/x-python",
   "name": "python",
   "nbconvert_exporter": "python",
   "pygments_lexer": "ipython3",
   "version": "3.9.12"
  },
  "vscode": {
   "interpreter": {
    "hash": "96b71d9b0255b05b2be31cfcb5ea5500d86eab633fcfd6b803722470524a431e"
   }
  }
 },
 "nbformat": 4,
 "nbformat_minor": 4
}
