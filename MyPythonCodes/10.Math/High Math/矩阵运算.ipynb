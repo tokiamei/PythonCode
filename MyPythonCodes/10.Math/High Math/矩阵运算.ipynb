{
 "cells": [
  {
   "cell_type": "code",
   "execution_count": null,
   "id": "fa4d95fb-8bb2-4d61-b3fc-d4b6127ed782",
   "metadata": {},
   "outputs": [],
   "source": [
    "import numpy as np\n",
    "import scipy.linalg as la"
   ]
  },
  {
   "cell_type": "markdown",
   "id": "12a2e99c-db33-47bd-b5d3-a562a43ac2e2",
   "metadata": {},
   "source": [
    "# 构造全0矩阵"
   ]
  },
  {
   "cell_type": "code",
   "execution_count": null,
   "id": "ac5039a7-db16-4fa8-89a8-e55774301535",
   "metadata": {},
   "outputs": [],
   "source": [
    "# 这样写就是 1*10，一行十列\n",
    "a = np.zeros(10)\n",
    "print(a)\n",
    "print(a.shape, type(a))"
   ]
  },
  {
   "cell_type": "code",
   "execution_count": null,
   "id": "dc1766f5-8094-444c-94ee-e790e31cf5ad",
   "metadata": {},
   "outputs": [],
   "source": [
    "# 可以在第一个参数上规定矩阵的形状\n",
    "b = np.zeros((10, 10))\n",
    "print(b)\n",
    "print(b.shape, type(b))"
   ]
  },
  {
   "cell_type": "markdown",
   "id": "ed9870ea-1a75-4f78-99d0-dc3e5f500b39",
   "metadata": {},
   "source": [
    "# 构造全1矩阵"
   ]
  },
  {
   "cell_type": "code",
   "execution_count": null,
   "id": "a36290a6-64bb-406a-8e57-4760679d98a0",
   "metadata": {},
   "outputs": [],
   "source": [
    "c1 = np.ones(10)\n",
    "print(c1)\n",
    "print(c1.shape, type(c1))"
   ]
  },
  {
   "cell_type": "code",
   "execution_count": null,
   "id": "30812891-4434-4b37-ba94-979e2e440ed9",
   "metadata": {},
   "outputs": [],
   "source": [
    "c2 = np.ones((10, 10))\n",
    "print(c2)\n",
    "print(c2.shape, type(c2))"
   ]
  },
  {
   "cell_type": "markdown",
   "id": "ff294f42-05d1-40a4-af24-c24ac1446e40",
   "metadata": {},
   "source": [
    "# 向量对角化"
   ]
  },
  {
   "cell_type": "code",
   "execution_count": null,
   "id": "b6e6d009-9c44-4fec-abe3-7da455fd78cc",
   "metadata": {},
   "outputs": [],
   "source": [
    "x = np.arange(0, 10, 1)\n",
    "y = np.diag(x, 1)\n",
    "print(y)"
   ]
  },
  {
   "cell_type": "markdown",
   "id": "b340e603-98ca-4c78-a2a9-80a0304c170f",
   "metadata": {},
   "source": [
    "# numpy求解特征值"
   ]
  },
  {
   "cell_type": "code",
   "execution_count": 45,
   "id": "8551641b-1701-4ca8-b291-890920245c6d",
   "metadata": {
    "execution": {
     "iopub.execute_input": "2023-10-29T02:32:11.902922Z",
     "iopub.status.busy": "2023-10-29T02:32:11.902922Z",
     "iopub.status.idle": "2023-10-29T02:32:11.910421Z",
     "shell.execute_reply": "2023-10-29T02:32:11.908900Z",
     "shell.execute_reply.started": "2023-10-29T02:32:11.902922Z"
    }
   },
   "outputs": [],
   "source": [
    "a = np.diag((1,2,3)) # 一个对角矩阵\n",
    "w, v = np.linalg.eig(a)"
   ]
  },
  {
   "cell_type": "markdown",
   "id": "b189620a-fa3f-4ebb-bea7-55d2ef703046",
   "metadata": {},
   "source": [
    "# scipy求解特征值"
   ]
  },
  {
   "cell_type": "code",
   "execution_count": null,
   "id": "9667b852-1225-45c4-8a88-09cbf44a0780",
   "metadata": {},
   "outputs": [],
   "source": [
    "a = np.array([[1, 2], [3, 1+1.j]])\n",
    "print('a:', a, '\\n')\n",
    "sigma_y = np.array([[0, -1.j], [1.j, 0]])\n",
    "print('sigma_y:', sigma_y)\n",
    "# 元素和平方之后再开方\n",
    "la.norm(a) ** 2\n",
    "\n",
    "la.norm(a-a)\n",
    "# 厄米共轭\n",
    "np.matrix(sigma_y).H\n",
    "# 建议用下面的方式\n",
    "sigma_y.transpose().conj()"
   ]
  },
  {
   "cell_type": "code",
   "execution_count": null,
   "id": "fe2b72cf-12be-4669-907c-d89ae99114a2",
   "metadata": {},
   "outputs": [],
   "source": [
    "# 判断矩阵是否是厄米矩阵\n",
    "def assert_hermitian(hami):\n",
    "    assert la.norm(hami - hami.transpose().conj()) < 1e-6, f'hami is hermitian'\n",
    "    return True\n",
    "# assert_hermitian(a)\n",
    "assert_hermitian(sigma_y)"
   ]
  },
  {
   "cell_type": "code",
   "execution_count": null,
   "id": "a74f02a4-9a41-44a9-b763-7b55cce95f2c",
   "metadata": {},
   "outputs": [],
   "source": [
    "# 求矩阵本征值\n",
    "la.eigh(a)"
   ]
  },
  {
   "cell_type": "markdown",
   "id": "2670860a-8b68-47f4-ad27-99d05b27af7d",
   "metadata": {},
   "source": [
    "# 数组排序"
   ]
  },
  {
   "cell_type": "code",
   "execution_count": null,
   "id": "623dd700-da47-4e7e-b4b7-bb42da85d1ad",
   "metadata": {},
   "outputs": [],
   "source": [
    "a = np.array([[3, 7, 1],[9, 1, 5]])\n",
    "# 逐行排序\n",
    "np.sort(a)\n",
    "\n",
    "# axis = 0：按列排序\n",
    "# axis = 1：按行排序\n",
    "np.sort(a, axis =  1)"
   ]
  },
  {
   "cell_type": "code",
   "execution_count": null,
   "id": "90d5eaea-7824-4b47-a751-5bbd197847d1",
   "metadata": {},
   "outputs": [],
   "source": [
    "# 在 sort 函数中排序字段 \n",
    "dt = np.dtype([('name',  'S10'),('age',  int)]) \n",
    "a = np.array([(\"raju\",21),(\"anil\",25),(\"ravi\",  17),  (\"amar\",27)], dtype = dt)  \n",
    "print ('我们的数组是：')\n",
    "print (a)\n",
    "print ('\\n')\n",
    "print ('按 name 排序：')\n",
    "print (np.sort(a, order =  'name'))"
   ]
  },
  {
   "cell_type": "markdown",
   "id": "5c7d253d-e8e0-44da-a89d-59d6fabc2a7c",
   "metadata": {},
   "source": [
    "## numpy.argsort()\n",
    "    返回的是数组值从小到大的索引值"
   ]
  },
  {
   "cell_type": "code",
   "execution_count": 41,
   "id": "c42e4afb-a766-44bc-a107-a03250c42f1d",
   "metadata": {
    "execution": {
     "iopub.execute_input": "2023-10-29T02:29:35.299446Z",
     "iopub.status.busy": "2023-10-29T02:29:35.299446Z",
     "iopub.status.idle": "2023-10-29T02:29:35.309557Z",
     "shell.execute_reply": "2023-10-29T02:29:35.307964Z",
     "shell.execute_reply.started": "2023-10-29T02:29:35.299446Z"
    }
   },
   "outputs": [
    {
     "data": {
      "text/plain": [
       "array([0, 1, 2, 3, 4])"
      ]
     },
     "execution_count": 41,
     "metadata": {},
     "output_type": "execute_result"
    }
   ],
   "source": [
    "z = np.array([1, 3, 2, 4, 0])\n",
    "f = np.argsort(z)\n",
    "z[f]"
   ]
  }
 ],
 "metadata": {
  "kernelspec": {
   "display_name": "Python 3 (ipykernel)",
   "language": "python",
   "name": "python3"
  },
  "language_info": {
   "codemirror_mode": {
    "name": "ipython",
    "version": 3
   },
   "file_extension": ".py",
   "mimetype": "text/x-python",
   "name": "python",
   "nbconvert_exporter": "python",
   "pygments_lexer": "ipython3",
   "version": "3.11.4"
  }
 },
 "nbformat": 4,
 "nbformat_minor": 5
}
