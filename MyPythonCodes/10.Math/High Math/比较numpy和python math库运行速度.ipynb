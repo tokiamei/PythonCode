{
 "cells": [
  {
   "cell_type": "code",
   "execution_count": 9,
   "id": "d2e8f0cb-3ed2-446a-affd-1ca9bff79c02",
   "metadata": {
    "execution": {
     "iopub.execute_input": "2023-10-21T08:55:36.280047Z",
     "iopub.status.busy": "2023-10-21T08:55:36.279044Z",
     "iopub.status.idle": "2023-10-21T08:55:36.286396Z",
     "shell.execute_reply": "2023-10-21T08:55:36.285374Z",
     "shell.execute_reply.started": "2023-10-21T08:55:36.280047Z"
    }
   },
   "outputs": [],
   "source": [
    "import time, math, numpy as np"
   ]
  },
  {
   "cell_type": "markdown",
   "id": "218b7912-1edf-4bbd-b60c-f41897f856dd",
   "metadata": {},
   "source": [
    "# 比较numpy和python math库运行速度"
   ]
  },
  {
   "cell_type": "code",
   "execution_count": 8,
   "id": "85824540-a2fd-4ee9-b715-1069d1863d86",
   "metadata": {
    "execution": {
     "iopub.execute_input": "2023-10-21T08:54:41.479135Z",
     "iopub.status.busy": "2023-10-21T08:54:41.479135Z",
     "iopub.status.idle": "2023-10-21T08:54:47.584186Z",
     "shell.execute_reply": "2023-10-21T08:54:47.583057Z",
     "shell.execute_reply.started": "2023-10-21T08:54:41.479135Z"
    }
   },
   "outputs": [
    {
     "name": "stdout",
     "output_type": "stream",
     "text": [
      "math： 5.96875\n"
     ]
    }
   ],
   "source": [
    "x = np.arange(0, 100000, 0.01)\n",
    "t_m1 = time.process_time()\n",
    "for i, t in enumerate(x):\n",
    "    x[i] = math.pow(math.sin(t), 2)\n",
    "t_m2 = time.process_time()\n",
    "print('math：', t_m2 - t_m1)"
   ]
  },
  {
   "cell_type": "code",
   "execution_count": 13,
   "id": "b5c3bed2-5b78-46b0-9b29-6b3776c36ba0",
   "metadata": {
    "execution": {
     "iopub.execute_input": "2023-10-21T08:57:31.454217Z",
     "iopub.status.busy": "2023-10-21T08:57:31.453222Z",
     "iopub.status.idle": "2023-10-21T08:57:32.237722Z",
     "shell.execute_reply": "2023-10-21T08:57:32.236709Z",
     "shell.execute_reply.started": "2023-10-21T08:57:31.454217Z"
    }
   },
   "outputs": [
    {
     "name": "stdout",
     "output_type": "stream",
     "text": [
      "numpy： 0.625\n"
     ]
    }
   ],
   "source": [
    "y = np.arange(0, 100000, 0.01)\n",
    "t_n1 = time.process_time()\n",
    "y = np.power(np.sin(y), 2)\n",
    "t_n2 =time.process_time()\n",
    "\n",
    "print('numpy：', t_n2 - t_n1)"
   ]
  },
  {
   "cell_type": "markdown",
   "id": "b90ddbd5-70af-4445-bce0-f7bcd09feedb",
   "metadata": {},
   "source": [
    "# enumerate()函数\n",
    "\n",
    "    enumerate() 是 Python 的一个内置函数，它用于将一个可遍历的数据对象（如列表、元组或字符串）组合成一个索引序列，同时列出数据和数据下标。这个函数一般用在 for 循环当中。\n",
    "\n",
    "0。"
   ]
  },
  {
   "cell_type": "code",
   "execution_count": 12,
   "id": "0164b8d6-d33d-4f58-83c7-3bc74433e652",
   "metadata": {
    "execution": {
     "iopub.execute_input": "2023-10-21T08:57:07.590807Z",
     "iopub.status.busy": "2023-10-21T08:57:07.589812Z",
     "iopub.status.idle": "2023-10-21T08:57:07.599124Z",
     "shell.execute_reply": "2023-10-21T08:57:07.597109Z",
     "shell.execute_reply.started": "2023-10-21T08:57:07.589812Z"
    }
   },
   "outputs": [
    {
     "name": "stdout",
     "output_type": "stream",
     "text": [
      "0 0.0\n",
      "1 0.01\n",
      "2 0.02\n",
      "3 0.03\n",
      "4 0.04\n",
      "5 0.05\n",
      "6 0.06\n",
      "7 0.07\n",
      "8 0.08\n",
      "9 0.09\n",
      "10 0.1\n",
      "11 0.11\n",
      "12 0.12\n",
      "13 0.13\n",
      "14 0.14\n",
      "15 0.15\n",
      "16 0.16\n",
      "17 0.17\n",
      "18 0.18\n",
      "19 0.19\n",
      "20 0.2\n",
      "21 0.21\n",
      "22 0.22\n",
      "23 0.23\n",
      "24 0.24\n",
      "25 0.25\n",
      "26 0.26\n",
      "27 0.27\n",
      "28 0.28\n",
      "29 0.29\n",
      "30 0.3\n",
      "31 0.31\n",
      "32 0.32\n",
      "33 0.33\n",
      "34 0.34\n",
      "35 0.35000000000000003\n",
      "36 0.36\n",
      "37 0.37\n",
      "38 0.38\n",
      "39 0.39\n",
      "40 0.4\n",
      "41 0.41000000000000003\n",
      "42 0.42\n",
      "43 0.43\n",
      "44 0.44\n",
      "45 0.45\n",
      "46 0.46\n",
      "47 0.47000000000000003\n",
      "48 0.48\n",
      "49 0.49\n",
      "50 0.5\n",
      "51 0.51\n",
      "52 0.52\n",
      "53 0.53\n",
      "54 0.54\n",
      "55 0.55\n",
      "56 0.56\n",
      "57 0.5700000000000001\n",
      "58 0.58\n",
      "59 0.59\n",
      "60 0.6\n",
      "61 0.61\n",
      "62 0.62\n",
      "63 0.63\n",
      "64 0.64\n",
      "65 0.65\n",
      "66 0.66\n",
      "67 0.67\n",
      "68 0.68\n",
      "69 0.6900000000000001\n",
      "70 0.7000000000000001\n",
      "71 0.71\n",
      "72 0.72\n",
      "73 0.73\n",
      "74 0.74\n",
      "75 0.75\n",
      "76 0.76\n",
      "77 0.77\n",
      "78 0.78\n",
      "79 0.79\n",
      "80 0.8\n",
      "81 0.81\n",
      "82 0.8200000000000001\n",
      "83 0.8300000000000001\n",
      "84 0.84\n",
      "85 0.85\n",
      "86 0.86\n",
      "87 0.87\n",
      "88 0.88\n",
      "89 0.89\n",
      "90 0.9\n",
      "91 0.91\n",
      "92 0.92\n",
      "93 0.93\n",
      "94 0.9400000000000001\n",
      "95 0.9500000000000001\n",
      "96 0.96\n",
      "97 0.97\n",
      "98 0.98\n",
      "99 0.99\n"
     ]
    }
   ],
   "source": [
    "s = np.arange(0, 1, 0.01)\n",
    "# 参数：\n",
    "# - sequence: 一个序列、迭代器或其他支持迭代对\n",
    "# - start: 下标起始位置。默认为0。\n",
    "for i, v in enumerate(s):  \n",
    "    print(i, v)"
   ]
  }
 ],
 "metadata": {
  "kernelspec": {
   "display_name": "Python 3 (ipykernel)",
   "language": "python",
   "name": "python3"
  },
  "language_info": {
   "codemirror_mode": {
    "name": "ipython",
    "version": 3
   },
   "file_extension": ".py",
   "mimetype": "text/x-python",
   "name": "python",
   "nbconvert_exporter": "python",
   "pygments_lexer": "ipython3",
   "version": "3.11.4"
  }
 },
 "nbformat": 4,
 "nbformat_minor": 5
}
