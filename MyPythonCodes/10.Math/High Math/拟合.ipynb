{
 "cells": [
  {
   "cell_type": "code",
   "execution_count": null,
   "id": "31bec313-082c-4a7b-b955-1ee7dd8b81d9",
   "metadata": {},
   "outputs": [],
   "source": [
    "import numpy as np\n",
    "from matplotlib import pyplot as plt"
   ]
  },
  {
   "cell_type": "code",
   "execution_count": null,
   "id": "9b76c3b6-614c-41d4-a6cf-9b06b5baeb96",
   "metadata": {},
   "outputs": [],
   "source": [
    "x = np.linspace(1, 30, 200)\n",
    "y1 = (x*(-0.2))[0:120] + 16\n",
    "print(y1[119])\n",
    "y2 = (y1[119]*x[119])/(x[120:200])\n",
    "print(y2)\n",
    "y = np.concatenate((y1, y2), axis=0) + np.random.rand(200) * 0.06\n",
    "plt.plot(x, y)\n"
   ]
  },
  {
   "cell_type": "code",
   "execution_count": null,
   "id": "245fa6d2-3635-463c-88ad-13fd504aeed6",
   "metadata": {},
   "outputs": [],
   "source": [
    "for i in range(190):\n",
    "    array_x, array_y = [x[i], x[i+10]], [y[i], y[i+10]]\n",
    "    slope, y_interupt = np.polyfit(array_x, array_y, 1)\n",
    "    print(i, slope)"
   ]
  },
  {
   "cell_type": "code",
   "execution_count": null,
   "id": "036b07ef-2b02-4d7e-88c4-beebe6f03eea",
   "metadata": {},
   "outputs": [],
   "source": [
    "a_array :list = [1, 10]\n",
    "b_array :list = [10, 1]\n",
    "slope, y_interupt = np.polyfit(a_array, b_array, 1)\n",
    "print(slope, y_interupt)"
   ]
  },
  {
   "cell_type": "code",
   "execution_count": null,
   "id": "042dd766-efa4-401d-8c80-287fa67ae463",
   "metadata": {},
   "outputs": [],
   "source": [
    "x1[1] - x1[0]"
   ]
  }
 ],
 "metadata": {
  "kernelspec": {
   "display_name": "Python 3 (ipykernel)",
   "language": "python",
   "name": "python3"
  },
  "language_info": {
   "codemirror_mode": {
    "name": "ipython",
    "version": 3
   },
   "file_extension": ".py",
   "mimetype": "text/x-python",
   "name": "python",
   "nbconvert_exporter": "python",
   "pygments_lexer": "ipython3",
   "version": "3.9.6"
  }
 },
 "nbformat": 4,
 "nbformat_minor": 5
}
