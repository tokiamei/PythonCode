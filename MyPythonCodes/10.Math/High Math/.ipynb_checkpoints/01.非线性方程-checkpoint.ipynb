{
 "cells": [
  {
   "cell_type": "markdown",
   "id": "302013d5-168a-4953-a4f9-5b379fd0bb8b",
   "metadata": {},
   "source": [
    "# 非线性方程的求解"
   ]
  },
  {
   "cell_type": "code",
   "execution_count": 10,
   "id": "e77fdb33-46aa-4d62-b2bf-eac726d229ed",
   "metadata": {},
   "outputs": [],
   "source": [
    "import numpy as np\n",
    "from scipy.optimize import fsolve"
   ]
  },
  {
   "cell_type": "code",
   "execution_count": 16,
   "id": "3a091f7f-7476-4fbc-8082-88820d8e7624",
   "metadata": {},
   "outputs": [
    {
     "data": {
      "text/plain": [
       "array([ 2., -4.])"
      ]
     },
     "execution_count": 16,
     "metadata": {},
     "output_type": "execute_result"
    }
   ],
   "source": [
    "def func_test(x0, *args):\n",
    "    x1, x2 = x0\n",
    "    a, b = args\n",
    "    y1 = x1 + x2 + 2\n",
    "    y2 = a*x1**2 - b*x2 - 8\n",
    "    return y1, y2\n",
    "res = fsolve(func_test, (0, 0), (1, 1))\n",
    "res\n"
   ]
  }
 ],
 "metadata": {
  "kernelspec": {
   "display_name": "Python 3 (ipykernel)",
   "language": "python",
   "name": "python3"
  },
  "language_info": {
   "codemirror_mode": {
    "name": "ipython",
    "version": 3
   },
   "file_extension": ".py",
   "mimetype": "text/x-python",
   "name": "python",
   "nbconvert_exporter": "python",
   "pygments_lexer": "ipython3",
   "version": "3.7.5"
  }
 },
 "nbformat": 4,
 "nbformat_minor": 5
}
