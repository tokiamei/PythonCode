{
 "cells": [
  {
   "cell_type": "code",
   "execution_count": 1,
   "id": "c5a3bfc3-3beb-49da-b385-95a4e9b03991",
   "metadata": {
    "execution": {
     "iopub.execute_input": "2023-11-23T08:57:24.579069Z",
     "iopub.status.busy": "2023-11-23T08:57:24.577074Z",
     "iopub.status.idle": "2023-11-23T08:57:26.915687Z",
     "shell.execute_reply": "2023-11-23T08:57:26.914671Z",
     "shell.execute_reply.started": "2023-11-23T08:57:24.579069Z"
    }
   },
   "outputs": [],
   "source": [
    "import numpy as np\n",
    "import sympy as sym"
   ]
  },
  {
   "cell_type": "code",
   "execution_count": 2,
   "id": "37157abf-7dc3-41be-8310-4551e6dbd505",
   "metadata": {
    "execution": {
     "iopub.execute_input": "2023-11-21T02:22:53.815664Z",
     "iopub.status.busy": "2023-11-21T02:22:53.813662Z",
     "iopub.status.idle": "2023-11-21T02:22:53.830635Z",
     "shell.execute_reply": "2023-11-21T02:22:53.829626Z",
     "shell.execute_reply.started": "2023-11-21T02:22:53.815664Z"
    }
   },
   "outputs": [
    {
     "data": {
      "text/plain": [
       "5.0990195135927845"
      ]
     },
     "execution_count": 2,
     "metadata": {},
     "output_type": "execute_result"
    }
   ],
   "source": [
    "np.sqrt(26)"
   ]
  },
  {
   "cell_type": "code",
   "execution_count": 3,
   "id": "d67dcfc3-fabc-462f-927b-b901bed7a4cf",
   "metadata": {
    "execution": {
     "iopub.execute_input": "2023-11-21T02:22:59.514238Z",
     "iopub.status.busy": "2023-11-21T02:22:59.513278Z",
     "iopub.status.idle": "2023-11-21T02:22:59.521125Z",
     "shell.execute_reply": "2023-11-21T02:22:59.520111Z",
     "shell.execute_reply.started": "2023-11-21T02:22:59.514238Z"
    }
   },
   "outputs": [
    {
     "data": {
      "text/plain": [
       "5.196152422706632"
      ]
     },
     "execution_count": 3,
     "metadata": {},
     "output_type": "execute_result"
    }
   ],
   "source": [
    "np.sqrt(27)"
   ]
  },
  {
   "cell_type": "code",
   "execution_count": 7,
   "id": "47661fd0-a478-4fe9-8c79-a8bc8767b8ac",
   "metadata": {
    "execution": {
     "iopub.execute_input": "2023-11-21T02:29:23.712003Z",
     "iopub.status.busy": "2023-11-21T02:29:23.712003Z",
     "iopub.status.idle": "2023-11-21T02:29:23.721073Z",
     "shell.execute_reply": "2023-11-21T02:29:23.719014Z",
     "shell.execute_reply.started": "2023-11-21T02:29:23.712003Z"
    }
   },
   "outputs": [
    {
     "data": {
      "text/plain": [
       "-0.005"
      ]
     },
     "execution_count": 7,
     "metadata": {},
     "output_type": "execute_result"
    }
   ],
   "source": [
    "-1/8*1/25"
   ]
  },
  {
   "cell_type": "code",
   "execution_count": 9,
   "id": "4adf6a2d-4c16-444c-a042-e125f3395ddf",
   "metadata": {
    "execution": {
     "iopub.execute_input": "2023-11-21T02:33:44.387180Z",
     "iopub.status.busy": "2023-11-21T02:33:44.386176Z",
     "iopub.status.idle": "2023-11-21T02:33:44.396433Z",
     "shell.execute_reply": "2023-11-21T02:33:44.395414Z",
     "shell.execute_reply.started": "2023-11-21T02:33:44.387180Z"
    }
   },
   "outputs": [
    {
     "data": {
      "text/plain": [
       "0.8571673007021123"
      ]
     },
     "execution_count": 9,
     "metadata": {},
     "output_type": "execute_result"
    }
   ],
   "source": [
    "np.cos(np.deg2rad(31))"
   ]
  },
  {
   "cell_type": "code",
   "execution_count": 14,
   "id": "c8243e80-13da-4ad4-958f-138dc92b11ec",
   "metadata": {
    "execution": {
     "iopub.execute_input": "2023-11-21T02:39:27.497157Z",
     "iopub.status.busy": "2023-11-21T02:39:27.496184Z",
     "iopub.status.idle": "2023-11-21T02:39:27.513157Z",
     "shell.execute_reply": "2023-11-21T02:39:27.511134Z",
     "shell.execute_reply.started": "2023-11-21T02:39:27.497157Z"
    }
   },
   "outputs": [
    {
     "data": {
      "text/latex": [
       "$\\displaystyle - \\cos{\\left(x \\right)}$"
      ],
      "text/plain": [
       "-cos(x)"
      ]
     },
     "execution_count": 14,
     "metadata": {},
     "output_type": "execute_result"
    }
   ],
   "source": [
    "x = sym.symbols('x')\n",
    "sym.diff(sym.cos(x), x, 2)"
   ]
  },
  {
   "cell_type": "code",
   "execution_count": 6,
   "id": "f9d72f46-641d-4964-88ca-d8f7ad5c9198",
   "metadata": {
    "execution": {
     "iopub.execute_input": "2023-11-23T08:58:36.869478Z",
     "iopub.status.busy": "2023-11-23T08:58:36.868476Z",
     "iopub.status.idle": "2023-11-23T08:58:36.879866Z",
     "shell.execute_reply": "2023-11-23T08:58:36.877917Z",
     "shell.execute_reply.started": "2023-11-23T08:58:36.869478Z"
    }
   },
   "outputs": [
    {
     "data": {
      "text/plain": [
       "-7.043650362227247"
      ]
     },
     "execution_count": 6,
     "metadata": {},
     "output_type": "execute_result"
    }
   ],
   "source": [
    "np.log10(0.8/1.2) * 40"
   ]
  },
  {
   "cell_type": "code",
   "execution_count": 7,
   "id": "905b975e-a7f3-485e-9e77-3ae7ec7217fe",
   "metadata": {
    "execution": {
     "iopub.execute_input": "2023-11-23T09:01:02.996764Z",
     "iopub.status.busy": "2023-11-23T09:01:02.995767Z",
     "iopub.status.idle": "2023-11-23T09:01:03.006918Z",
     "shell.execute_reply": "2023-11-23T09:01:03.004900Z",
     "shell.execute_reply.started": "2023-11-23T09:01:02.996764Z"
    }
   },
   "outputs": [
    {
     "data": {
      "text/plain": [
       "13.5"
      ]
     },
     "execution_count": 7,
     "metadata": {},
     "output_type": "execute_result"
    }
   ],
   "source": [
    "27/2"
   ]
  }
 ],
 "metadata": {
  "kernelspec": {
   "display_name": "Python 3 (ipykernel)",
   "language": "python",
   "name": "python3"
  },
  "language_info": {
   "codemirror_mode": {
    "name": "ipython",
    "version": 3
   },
   "file_extension": ".py",
   "mimetype": "text/x-python",
   "name": "python",
   "nbconvert_exporter": "python",
   "pygments_lexer": "ipython3",
   "version": "3.11.4"
  }
 },
 "nbformat": 4,
 "nbformat_minor": 5
}
