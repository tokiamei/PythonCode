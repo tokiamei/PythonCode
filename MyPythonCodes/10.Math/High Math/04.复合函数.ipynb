{
 "cells": [
  {
   "cell_type": "markdown",
   "id": "8ceb5148-524a-441e-9205-946f7896557d",
   "metadata": {},
   "source": [
    "# 1、复合函数"
   ]
  },
  {
   "cell_type": "code",
   "execution_count": 10,
   "id": "5504a805-8033-4684-8941-5f1e91472dcd",
   "metadata": {},
   "outputs": [],
   "source": [
    "def f(x):\n",
    "    return x + 1\n",
    "\n",
    "def g(x):\n",
    "    return x ** 2\n",
    "\n",
    "# def h(x):\n",
    "#     return f(g(x))\n",
    "# h(3)\n",
    "\n",
    "# 换成 lambda 表达式\n",
    "h = lambda x: f(g(x))"
   ]
  },
  {
   "cell_type": "code",
   "execution_count": 11,
   "id": "df91e604-f943-464f-9c97-77d8f9a9fdcf",
   "metadata": {},
   "outputs": [
    {
     "data": {
      "image/png": "[encoded data removed]",
      "text/plain": [
       "<Figure size 432x288 with 1 Axes>"
      ]
     },
     "metadata": {
      "needs_background": "light"
     },
     "output_type": "display_data"
    }
   ],
   "source": [
    "import numpy as np\n",
    "x = np.arange(-10, 10)\n",
    "y = np.array([h(i) for i in x])\n",
    "import matplotlib.pyplot as plt\n",
    "plt.plot(x, y, 'o')\n",
    "plt.show()"
   ]
  }
 ],
 "metadata": {
  "kernelspec": {
   "display_name": "Python 3 (ipykernel)",
   "language": "python",
   "name": "python3"
  },
  "language_info": {
   "codemirror_mode": {
    "name": "ipython",
    "version": 3
   },
   "file_extension": ".py",
   "mimetype": "text/x-python",
   "name": "python",
   "nbconvert_exporter": "python",
   "pygments_lexer": "ipython3",
   "version": "3.9.12"
  }
 },
 "nbformat": 4,
 "nbformat_minor": 5
}
