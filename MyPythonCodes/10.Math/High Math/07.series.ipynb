{
 "cells": [
  {
   "cell_type": "markdown",
   "id": "a56d9999-7806-4932-8d53-9d7e014c96b0",
   "metadata": {},
   "source": [
    "# series\n",
    "\n",
    "- 类似于一维数组的对象\n",
    "- 由数据和索引组成\n",
    "- 类似于字典\n"
   ]
  },
  {
   "cell_type": "code",
   "execution_count": 3,
   "id": "421d3d80-52f2-4db0-a563-0ad21d18cf35",
   "metadata": {},
   "outputs": [],
   "source": [
    "# 导包\n",
    "import pandas as pd"
   ]
  },
  {
   "cell_type": "code",
   "execution_count": 10,
   "id": "bd65a32b-6307-4354-b42f-a31fded8363a",
   "metadata": {},
   "outputs": [
    {
     "data": {
      "text/plain": [
       "0      3\n",
       "1    6.0\n",
       "2    aaa\n",
       "dtype: object"
      ]
     },
     "execution_count": 10,
     "metadata": {},
     "output_type": "execute_result"
    }
   ],
   "source": [
    "# 自带索引\n",
    "a = pd.Series([1, 2.0, 'a'])\n",
    "\n",
    "# 自定义索引\n",
    "b = pd.Series([3, 'aa', True], index=['a', 'b', 'c'])\n",
    "\n",
    "a * 3"
   ]
  }
 ],
 "metadata": {
  "kernelspec": {
   "display_name": "Python 3 (ipykernel)",
   "language": "python",
   "name": "python3"
  },
  "language_info": {
   "codemirror_mode": {
    "name": "ipython",
    "version": 3
   },
   "file_extension": ".py",
   "mimetype": "text/x-python",
   "name": "python",
   "nbconvert_exporter": "python",
   "pygments_lexer": "ipython3",
   "version": "3.9.9"
  }
 },
 "nbformat": 4,
 "nbformat_minor": 5
}
