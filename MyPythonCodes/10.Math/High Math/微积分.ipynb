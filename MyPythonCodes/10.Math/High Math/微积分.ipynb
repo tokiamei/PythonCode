{
 "cells": [
  {
   "cell_type": "code",
   "execution_count": 1,
   "id": "1751e731-7821-41c8-a096-5fde1a69346a",
   "metadata": {
    "execution": {
     "iopub.execute_input": "2024-11-22T13:42:27.808560Z",
     "iopub.status.busy": "2024-11-22T13:42:27.807811Z",
     "iopub.status.idle": "2024-11-22T13:42:28.147554Z",
     "shell.execute_reply": "2024-11-22T13:42:28.147280Z",
     "shell.execute_reply.started": "2024-11-22T13:42:27.808483Z"
    }
   },
   "outputs": [],
   "source": [
    "# sympy中也有积分\n",
    "from sympy import *\n",
    "import numpy as np\n",
    "import time\n",
    "# scipy中也有积分\n",
    "# import scipy.integrate as integrate"
   ]
  },
  {
   "cell_type": "markdown",
   "id": "512c4ec6-f100-4c7c-bcbd-d293451d87db",
   "metadata": {},
   "source": [
    "# sympy函数求值"
   ]
  },
  {
   "cell_type": "code",
   "execution_count": 2,
   "id": "34ca9a26-a29c-4a9d-a602-ab24d736637b",
   "metadata": {
    "execution": {
     "iopub.execute_input": "2024-11-22T13:42:29.217778Z",
     "iopub.status.busy": "2024-11-22T13:42:29.216719Z",
     "iopub.status.idle": "2024-11-22T13:42:29.222869Z",
     "shell.execute_reply": "2024-11-22T13:42:29.221822Z",
     "shell.execute_reply.started": "2024-11-22T13:42:29.217733Z"
    }
   },
   "outputs": [],
   "source": [
    "x = symbols('x')\n",
    "n = symbols('n')\n",
    "a = symbols('a')\n",
    "b = symbols('b')"
   ]
  },
  {
   "cell_type": "code",
   "execution_count": 4,
   "id": "05cd74b6-d293-48aa-ab8e-07a34e226cea",
   "metadata": {
    "execution": {
     "iopub.execute_input": "2024-11-22T13:42:45.354190Z",
     "iopub.status.busy": "2024-11-22T13:42:45.353681Z",
     "iopub.status.idle": "2024-11-22T13:42:45.363687Z",
     "shell.execute_reply": "2024-11-22T13:42:45.363106Z",
     "shell.execute_reply.started": "2024-11-22T13:42:45.354152Z"
    }
   },
   "outputs": [
    {
     "data": {
      "text/latex": [
       "$\\displaystyle \\sin{\\left(2 \\right)}$"
      ],
      "text/plain": [
       "sin(2)"
      ]
     },
     "execution_count": 4,
     "metadata": {},
     "output_type": "execute_result"
    }
   ],
   "source": [
    "# subs好像不能算三角函数\n",
    "sin(x).subs(x, 2)\n",
    "\n",
    "# evalf 可以计算任意一个值代入产生的结果\n",
    "# sin(x).subs({'x': 2}).evalf()"
   ]
  },
  {
   "cell_type": "markdown",
   "id": "deeb8498-e1eb-4f82-bc1d-85d0f6f38a98",
   "metadata": {},
   "source": [
    "# sympy绘图\n",
    "\n",
    "```\n",
    "sympy.plot函数使用简介\n",
    "sympy.plot(\n",
    "    *args, #指定需要绘图的一元表达式或函数，可以传入多个，传入多个则代表一次性绘制多个表达式或函数的图\n",
    "    show=True, #指定绘图后是否展示，默认展示，一般无需进行设置\n",
    "    **kwargs #指定变量的取值区间，是一个三元素元组，比如(x,-6,6)，即指定x在-6到6区间内取值并绘图\n",
    ")\n",
    "函数范围一个sympy的Plot对象，类似matplotlib的Figure对象，可以使用该对象对绘图结果进行保存，或者进一步设置该图其他的属性\n",
    "```\n"
   ]
  },
  {
   "cell_type": "code",
   "execution_count": 5,
   "id": "9eb842f2-d35c-431d-bee5-d89d0cd70201",
   "metadata": {
    "execution": {
     "iopub.execute_input": "2024-11-22T13:45:05.320183Z",
     "iopub.status.busy": "2024-11-22T13:45:05.319218Z",
     "iopub.status.idle": "2024-11-22T13:45:05.485621Z",
     "shell.execute_reply": "2024-11-22T13:45:05.484979Z",
     "shell.execute_reply.started": "2024-11-22T13:45:05.320110Z"
    }
   },
   "outputs": [
    {
     "ename": "NameError",
     "evalue": "name 'f' is not defined",
     "output_type": "error",
     "traceback": [
      "\u001b[0;31m---------------------------------------------------------------------------\u001b[0m",
      "\u001b[0;31mNameError\u001b[0m                                 Traceback (most recent call last)",
      "Cell \u001b[0;32mIn[5], line 1\u001b[0m\n\u001b[0;32m----> 1\u001b[0m plot(\u001b[43mf\u001b[49m)\n\u001b[1;32m      2\u001b[0m \u001b[38;5;66;03m# plot(f, diff(f), (x, -10, 10))\u001b[39;00m\n",
      "\u001b[0;31mNameError\u001b[0m: name 'f' is not defined"
     ]
    }
   ],
   "source": [
    "# plot(f, diff(f), (x, -10, 10))"
   ]
  },
  {
   "cell_type": "markdown",
   "id": "aadc8161-eb76-4ed8-81d0-00cf5321d4fa",
   "metadata": {},
   "source": [
    "# 极限"
   ]
  },
  {
   "cell_type": "code",
   "execution_count": 7,
   "id": "1affac7d-807a-4d94-b9b4-72271478b124",
   "metadata": {
    "execution": {
     "iopub.execute_input": "2024-11-22T13:45:25.661798Z",
     "iopub.status.busy": "2024-11-22T13:45:25.661180Z",
     "iopub.status.idle": "2024-11-22T13:45:25.679215Z",
     "shell.execute_reply": "2024-11-22T13:45:25.678470Z",
     "shell.execute_reply.started": "2024-11-22T13:45:25.661754Z"
    },
    "scrolled": true
   },
   "outputs": [
    {
     "data": {
      "text/latex": [
       "$\\displaystyle 2$"
      ],
      "text/plain": [
       "2"
      ]
     },
     "execution_count": 7,
     "metadata": {},
     "output_type": "execute_result"
    }
   ],
   "source": [
    "f = (x + sin(x))/x\n",
    "limit(f, x, 0)\n",
    "# diff(f)"
   ]
  },
  {
   "cell_type": "code",
   "execution_count": 4,
   "id": "58a18d46-723e-4567-965a-e5b247b74717",
   "metadata": {
    "execution": {
     "iopub.execute_input": "2023-10-20T09:32:08.362334Z",
     "iopub.status.busy": "2023-10-20T09:32:08.362334Z",
     "iopub.status.idle": "2023-10-20T09:32:08.500371Z",
     "shell.execute_reply": "2023-10-20T09:32:08.499322Z",
     "shell.execute_reply.started": "2023-10-20T09:32:08.362334Z"
    }
   },
   "outputs": [
    {
     "data": {
      "text/latex": [
       "$\\displaystyle e$"
      ],
      "text/plain": [
       "E"
      ]
     },
     "execution_count": 4,
     "metadata": {},
     "output_type": "execute_result"
    }
   ],
   "source": [
    "\n",
    "limit(((n + 3)/(n + 2))**n, n, oo)"
   ]
  },
  {
   "cell_type": "markdown",
   "id": "39b8b0a0-4699-4a9e-9c67-aee001f37fbd",
   "metadata": {},
   "source": [
    "# 求导"
   ]
  },
  {
   "cell_type": "code",
   "execution_count": 6,
   "id": "82519424-e120-4a6a-9313-484980197ee2",
   "metadata": {
    "execution": {
     "iopub.execute_input": "2023-10-20T09:32:16.395953Z",
     "iopub.status.busy": "2023-10-20T09:32:16.395953Z",
     "iopub.status.idle": "2023-10-20T09:32:16.408813Z",
     "shell.execute_reply": "2023-10-20T09:32:16.406800Z",
     "shell.execute_reply.started": "2023-10-20T09:32:16.395953Z"
    },
    "scrolled": true
   },
   "outputs": [
    {
     "data": {
      "text/latex": [
       "$\\displaystyle \\frac{\\cos{\\left(x \\right)}}{x} - \\frac{\\sin{\\left(x \\right)}}{x^{2}}$"
      ],
      "text/plain": [
       "cos(x)/x - sin(x)/x**2"
      ]
     },
     "execution_count": 6,
     "metadata": {},
     "output_type": "execute_result"
    }
   ],
   "source": [
    "y = diff(sin(x)/x, x)\n",
    "y"
   ]
  },
  {
   "cell_type": "markdown",
   "id": "8198b85d-79e1-46ff-ae6b-4f99f3b9ab98",
   "metadata": {},
   "source": [
    "# 积分"
   ]
  },
  {
   "cell_type": "markdown",
   "id": "e2e501d0-02c7-4444-ae0a-c02686c40023",
   "metadata": {},
   "source": [
    "## 定积分"
   ]
  },
  {
   "cell_type": "code",
   "execution_count": 8,
   "id": "e4f3b60d-a7a8-40ed-a2cf-c99d0e166049",
   "metadata": {
    "execution": {
     "iopub.execute_input": "2024-11-22T13:46:01.048286Z",
     "iopub.status.busy": "2024-11-22T13:46:01.047341Z",
     "iopub.status.idle": "2024-11-22T13:46:01.093588Z",
     "shell.execute_reply": "2024-11-22T13:46:01.092904Z",
     "shell.execute_reply.started": "2024-11-22T13:46:01.048206Z"
    }
   },
   "outputs": [
    {
     "data": {
      "text/latex": [
       "$\\displaystyle \\frac{1}{2}$"
      ],
      "text/plain": [
       "1/2"
      ]
     },
     "execution_count": 8,
     "metadata": {},
     "output_type": "execute_result"
    }
   ],
   "source": [
    "integrate(x, (x, 0, 1))"
   ]
  },
  {
   "cell_type": "code",
   "execution_count": 9,
   "id": "a7a43bcd-f455-406e-a3c4-bcedd5d8ee40",
   "metadata": {
    "execution": {
     "iopub.execute_input": "2024-11-22T13:46:07.498665Z",
     "iopub.status.busy": "2024-11-22T13:46:07.497803Z",
     "iopub.status.idle": "2024-11-22T13:46:07.527446Z",
     "shell.execute_reply": "2024-11-22T13:46:07.526598Z",
     "shell.execute_reply.started": "2024-11-22T13:46:07.498595Z"
    }
   },
   "outputs": [
    {
     "data": {
      "text/latex": [
       "$\\displaystyle \\frac{4}{3}$"
      ],
      "text/plain": [
       "4/3"
      ]
     },
     "execution_count": 9,
     "metadata": {},
     "output_type": "execute_result"
    }
   ],
   "source": [
    "f = x**2 + 1\n",
    "integrate(f, (x, 0, 1))"
   ]
  },
  {
   "cell_type": "code",
   "execution_count": 10,
   "id": "7db48999-b429-40d2-a8c7-4ad0cae822ab",
   "metadata": {
    "execution": {
     "iopub.execute_input": "2024-11-22T13:46:10.250560Z",
     "iopub.status.busy": "2024-11-22T13:46:10.249739Z",
     "iopub.status.idle": "2024-11-22T13:46:10.270344Z",
     "shell.execute_reply": "2024-11-22T13:46:10.269799Z",
     "shell.execute_reply.started": "2024-11-22T13:46:10.250488Z"
    }
   },
   "outputs": [
    {
     "data": {
      "text/latex": [
       "$\\displaystyle 0$"
      ],
      "text/plain": [
       "0"
      ]
     },
     "execution_count": 10,
     "metadata": {},
     "output_type": "execute_result"
    }
   ],
   "source": [
    "f2 = sin(x)\n",
    "integrate(f2, (x, -1, 1))"
   ]
  },
  {
   "cell_type": "code",
   "execution_count": 11,
   "id": "0be8e119-9ab1-499d-82b5-e04dfdcc002a",
   "metadata": {
    "execution": {
     "iopub.execute_input": "2024-11-22T13:46:26.147342Z",
     "iopub.status.busy": "2024-11-22T13:46:26.146455Z",
     "iopub.status.idle": "2024-11-22T13:46:26.309869Z",
     "shell.execute_reply": "2024-11-22T13:46:26.309541Z",
     "shell.execute_reply.started": "2024-11-22T13:46:26.147264Z"
    }
   },
   "outputs": [
    {
     "data": {
      "text/latex": [
       "$\\displaystyle \\frac{\\pi}{2}$"
      ],
      "text/plain": [
       "pi/2"
      ]
     },
     "execution_count": 11,
     "metadata": {},
     "output_type": "execute_result"
    }
   ],
   "source": [
    "integrate(sqrt(1 - x**2/4), (x, 0, 2))"
   ]
  },
  {
   "cell_type": "code",
   "execution_count": 12,
   "id": "9fa8da97-b0fe-4ae4-80d5-2c13eca8029f",
   "metadata": {
    "execution": {
     "iopub.execute_input": "2024-11-22T13:46:28.996063Z",
     "iopub.status.busy": "2024-11-22T13:46:28.995134Z",
     "iopub.status.idle": "2024-11-22T13:46:29.008206Z",
     "shell.execute_reply": "2024-11-22T13:46:29.007254Z",
     "shell.execute_reply.started": "2024-11-22T13:46:28.995993Z"
    }
   },
   "outputs": [
    {
     "data": {
      "text/latex": [
       "$\\displaystyle \\sqrt{2}$"
      ],
      "text/plain": [
       "sqrt(2)"
      ]
     },
     "execution_count": 12,
     "metadata": {},
     "output_type": "execute_result"
    }
   ],
   "source": [
    "sqrt(2)"
   ]
  },
  {
   "cell_type": "markdown",
   "id": "1a504545-54e7-4bb6-a392-6e4c732f7ab7",
   "metadata": {},
   "source": [
    "## 不定积分"
   ]
  },
  {
   "cell_type": "code",
   "execution_count": 13,
   "id": "f6f0c7a0-591c-4c66-9d8d-d0634b22c06c",
   "metadata": {
    "execution": {
     "iopub.execute_input": "2024-11-22T13:46:33.319980Z",
     "iopub.status.busy": "2024-11-22T13:46:33.319104Z",
     "iopub.status.idle": "2024-11-22T13:46:33.332282Z",
     "shell.execute_reply": "2024-11-22T13:46:33.331545Z",
     "shell.execute_reply.started": "2024-11-22T13:46:33.319908Z"
    }
   },
   "outputs": [],
   "source": [
    "f = sin(x)\n",
    "f1 = integrate(f, x)"
   ]
  },
  {
   "cell_type": "markdown",
   "id": "0264fd12-8ed2-4a91-90f6-232f0d421d40",
   "metadata": {},
   "source": [
    "# 积分\n",
    "\n",
    "计算 $x^2$ 的积分\n"
   ]
  },
  {
   "cell_type": "markdown",
   "id": "26d2fd18-8af3-4e00-91d5-72a2c73a37fa",
   "metadata": {},
   "source": [
    "## 1、普通的分割方法\n",
    "\n",
    "分割成许多的小矩形"
   ]
  },
  {
   "cell_type": "code",
   "execution_count": null,
   "id": "e7ef2869-4d6c-4704-bdbc-c558a1ca0699",
   "metadata": {},
   "outputs": [],
   "source": [
    "# def simple_intergral(func, x0, x1, delta):\n",
    "#     res = 0\n",
    "#     for x in np.arange(x0, x1, delta):\n",
    "#         res += func(x) \n",
    "#     return res * delta"
   ]
  },
  {
   "cell_type": "code",
   "execution_count": 14,
   "id": "c8f99daf-db51-4bcc-a006-9700773020ca",
   "metadata": {
    "execution": {
     "iopub.execute_input": "2024-11-22T13:48:44.357118Z",
     "iopub.status.busy": "2024-11-22T13:48:44.356377Z",
     "iopub.status.idle": "2024-11-22T13:48:44.368395Z",
     "shell.execute_reply": "2024-11-22T13:48:44.367613Z",
     "shell.execute_reply.started": "2024-11-22T13:48:44.357047Z"
    }
   },
   "outputs": [
    {
     "data": {
      "text/plain": [
       "np.float64(0.20250000000000004)"
      ]
     },
     "execution_count": 14,
     "metadata": {},
     "output_type": "execute_result"
    }
   ],
   "source": [
    "# another style\n",
    "def simple_intergral(func, x0, x1, delta):\n",
    "    return np.sum(func(np.arange(x0, x1, delta))) * delta\n",
    "\n",
    "# test_func\n",
    "def test_func(x):\n",
    "    return x * x * x"
   ]
  },
  {
   "cell_type": "code",
   "execution_count": 15,
   "id": "6dd7dbf4-c6e1-46de-89b9-7cf4926481b8",
   "metadata": {
    "execution": {
     "iopub.execute_input": "2024-11-22T13:48:57.970857Z",
     "iopub.status.busy": "2024-11-22T13:48:57.969904Z",
     "iopub.status.idle": "2024-11-22T13:48:57.979773Z",
     "shell.execute_reply": "2024-11-22T13:48:57.978832Z",
     "shell.execute_reply.started": "2024-11-22T13:48:57.970805Z"
    }
   },
   "outputs": [
    {
     "data": {
      "text/plain": [
       "np.float64(0.24995000250000005)"
      ]
     },
     "execution_count": 15,
     "metadata": {},
     "output_type": "execute_result"
    }
   ],
   "source": [
    "# test\n",
    "simple_intergral(test_func, 0, 1, 0.1)\n",
    "simple_intergral(test_func, 0, 1, 0.01)\n",
    "simple_intergral(test_func, 0, 1, 0.001)\n",
    "simple_intergral(test_func, 0, 1, 0.0001)"
   ]
  },
  {
   "cell_type": "code",
   "execution_count": null,
   "id": "43623a97-5c35-44ef-add6-a3e1096ee5aa",
   "metadata": {},
   "outputs": [],
   "source": [
    "# 比较原生 和 numpy\n",
    "arr = list(np.arange(100000))\n",
    "def arr_sum(func):\n",
    "    start_time = time.time()\n",
    "    s = func(arr)\n",
    "    end_time = time.time()\n",
    "    print(s, end_time - start_time)\n",
    "\n",
    "arr_sum(sum) \n",
    "# arr_sum(np.sum)\n",
    "\n",
    "p = 0\n",
    "for i in range(100001):\n",
    "    p += i\n",
    "print(p)\n",
    "sum(range(100001))"
   ]
  },
  {
   "cell_type": "markdown",
   "id": "793a5e27-322a-4e07-af58-950ae0b72163",
   "metadata": {},
   "source": [
    "## 2、辛普森方法\n"
   ]
  },
  {
   "cell_type": "code",
   "execution_count": 53,
   "id": "c9ef08e7-5f48-4e64-9868-132222680d21",
   "metadata": {},
   "outputs": [
    {
     "data": {
      "text/plain": [
       "(0.25, 0.25, 0.24999999999999997)"
      ]
     },
     "execution_count": 53,
     "metadata": {},
     "output_type": "execute_result"
    }
   ],
   "source": [
    "def simpson_integral(func, x0, x1, num):\n",
    "    arr = np.linspace(x0, x1, 2 * num + 1)\n",
    "    return (func(x0) + func(x1) +  2 * np.sum(func(arr[2:-2:2])) + 4 * np.sum(func(arr[1::2]))) * (x1 - x0)/6/num\n",
    "simpson_integral(test_func, 0, 1, 50),\\\n",
    "simpson_integral(test_func, 0, 1, 500), \\\n",
    "simpson_integral(test_func, 0, 1, 500000), \\"
   ]
  },
  {
   "cell_type": "code",
   "execution_count": null,
   "id": "eb69b0de-a862-4676-a877-f937dcfd827d",
   "metadata": {},
   "outputs": [],
   "source": [
    "## 列表索引值为奇数和偶数的项的取法"
   ]
  },
  {
   "cell_type": "code",
   "execution_count": null,
   "id": "4ffb3986-31ec-49a9-9946-211b9aa5f9f4",
   "metadata": {},
   "outputs": [],
   "source": [
    "a = range(0, 11)\n",
    "a\n",
    "for x in a[1::2]:\n",
    "    print(x)"
   ]
  },
  {
   "cell_type": "markdown",
   "id": "9296a026-8d53-4505-b167-54f4d48f4076",
   "metadata": {},
   "source": [
    "# 无穷积分的算法"
   ]
  },
  {
   "cell_type": "code",
   "execution_count": 60,
   "id": "d4071df1-2e36-49a5-9920-54a551fd290d",
   "metadata": {},
   "outputs": [
    {
     "data": {
      "text/plain": [
       "(1.0, 1.1102230246251565e-14)"
      ]
     },
     "execution_count": 60,
     "metadata": {},
     "output_type": "execute_result"
    }
   ],
   "source": [
    "# 直接用 scipy 的方法去算【返回一个元组，第二个值是误差】\n",
    "integrate.quad(test_func, 0, 1)\n",
    "\n",
    "integrate.quad(lambda x:1/(x**2), 1, np.inf)"
   ]
  },
  {
   "cell_type": "code",
   "execution_count": null,
   "id": "4107dd2a-a9e0-4ec8-a8b2-55e0089a0e1f",
   "metadata": {},
   "outputs": [],
   "source": []
  }
 ],
 "metadata": {
  "kernelspec": {
   "display_name": "Python 3 (ipykernel)",
   "language": "python",
   "name": "python3"
  },
  "language_info": {
   "codemirror_mode": {
    "name": "ipython",
    "version": 3
   },
   "file_extension": ".py",
   "mimetype": "text/x-python",
   "name": "python",
   "nbconvert_exporter": "python",
   "pygments_lexer": "ipython3",
   "version": "3.9.6"
  }
 },
 "nbformat": 4,
 "nbformat_minor": 5
}
