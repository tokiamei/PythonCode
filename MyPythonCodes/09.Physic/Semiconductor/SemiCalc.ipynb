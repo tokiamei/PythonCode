{
 "cells": [
  {
   "cell_type": "code",
   "execution_count": 1,
   "metadata": {
    "ExecuteTime": {
     "end_time": "2024-10-31T12:34:25.872855Z",
     "start_time": "2024-10-31T12:34:25.798391Z"
    },
    "execution": {
     "iopub.execute_input": "2024-11-16T19:48:18.661611Z",
     "iopub.status.busy": "2024-11-16T19:48:18.660258Z",
     "iopub.status.idle": "2024-11-16T19:48:18.897567Z",
     "shell.execute_reply": "2024-11-16T19:48:18.897260Z",
     "shell.execute_reply.started": "2024-11-16T19:48:18.661528Z"
    }
   },
   "outputs": [],
   "source": [
    "import numpy as np\n",
    "import pandas as pd"
   ]
  },
  {
   "cell_type": "markdown",
   "metadata": {},
   "source": [
    "# 零、功能函数"
   ]
  },
  {
   "cell_type": "markdown",
   "metadata": {},
   "source": [
    "## 1、将小数转化为百分数"
   ]
  },
  {
   "cell_type": "code",
   "execution_count": 37,
   "metadata": {
    "execution": {
     "iopub.execute_input": "2024-11-17T05:05:57.860799Z",
     "iopub.status.busy": "2024-11-17T05:05:57.860013Z",
     "iopub.status.idle": "2024-11-17T05:05:57.872677Z",
     "shell.execute_reply": "2024-11-17T05:05:57.871145Z",
     "shell.execute_reply.started": "2024-11-17T05:05:57.860703Z"
    }
   },
   "outputs": [],
   "source": [
    "# decimalNum：小数，savedNum：保留的位数\n",
    "def dec2perc(decimalNum, savedNum):\n",
    "    return str((decimalNum*100))[:(savedNum + 3)] + '%'"
   ]
  },
  {
   "cell_type": "markdown",
   "metadata": {},
   "source": [
    "## 2、回归曲线Slope计算"
   ]
  },
  {
   "cell_type": "code",
   "execution_count": 40,
   "metadata": {
    "ExecuteTime": {
     "end_time": "2024-11-07T11:38:02.668380Z",
     "start_time": "2024-11-07T11:38:02.663835Z"
    },
    "collapsed": false,
    "execution": {
     "iopub.execute_input": "2024-11-17T05:08:39.548408Z",
     "iopub.status.busy": "2024-11-17T05:08:39.547430Z",
     "iopub.status.idle": "2024-11-17T05:08:39.557470Z",
     "shell.execute_reply": "2024-11-17T05:08:39.556265Z",
     "shell.execute_reply.started": "2024-11-17T05:08:39.548330Z"
    },
    "jupyter": {
     "outputs_hidden": false
    }
   },
   "outputs": [],
   "source": [
    "def returnCurve_Slope(x, y):\n",
    "    xBar = np.average(x)\n",
    "    yBar = np.average(y)\n",
    "    l = len(x)\n",
    "    return np.sum((x - xBar) * (y - yBar))/np.sum((x - xBar)**2)"
   ]
  },
  {
   "cell_type": "code",
   "execution_count": 43,
   "metadata": {
    "ExecuteTime": {
     "end_time": "2024-11-07T11:38:04.258510Z",
     "start_time": "2024-11-07T11:38:04.246055Z"
    },
    "collapsed": false,
    "execution": {
     "iopub.execute_input": "2024-11-17T05:08:57.988401Z",
     "iopub.status.busy": "2024-11-17T05:08:57.987757Z",
     "iopub.status.idle": "2024-11-17T05:08:57.999321Z",
     "shell.execute_reply": "2024-11-17T05:08:57.997789Z",
     "shell.execute_reply.started": "2024-11-17T05:08:57.988352Z"
    },
    "jupyter": {
     "outputs_hidden": false
    }
   },
   "outputs": [
    {
     "data": {
      "text/plain": [
       "np.float64(812.0)"
      ]
     },
     "execution_count": 43,
     "metadata": {},
     "output_type": "execute_result"
    }
   ],
   "source": [
    "x = np.array([1, 2, 3, 4, 5])\n",
    "y = np.array([11520, 13540, 13280, 14340, 15180])\n",
    "# np.sum(x*y)\n",
    "\n",
    "returnCurve_Slope(x, y)"
   ]
  },
  {
   "cell_type": "markdown",
   "metadata": {},
   "source": [
    "# 一、普通物理"
   ]
  },
  {
   "cell_type": "markdown",
   "metadata": {
    "collapsed": false,
    "jupyter": {
     "outputs_hidden": false
    }
   },
   "source": [
    "## 1、电容\n",
    "\n",
    "`电容的计算公式`\n",
    "  \n",
    "1. 电容的通用公式：  \n",
    "  \n",
    "$$\n",
    "C = \\frac{Q}{U}\n",
    "$$\n",
    "\n",
    "2. 平行板电容器电容的决定式：\n",
    "\n",
    "$$\n",
    "C = \\frac{\\varepsilon S}{4\\pi kd}\n",
    "$$\n",
    "\n",
    "> 其中，$d$为两极板之间距离\n",
    "\n"
   ]
  },
  {
   "cell_type": "markdown",
   "metadata": {},
   "source": [
    "# 二、半导体物理"
   ]
  },
  {
   "cell_type": "markdown",
   "metadata": {},
   "source": [
    "## 1、器件特征尺寸 -- 线宽（Critical Dimension）\n",
    "\n",
    "    半导体器件中的最小尺寸，特征尺寸越小，芯片集成度越高，性能越好，功耗越低。\n",
    "  \n",
    "    随着技术的发展，栅极长度已非最小的线宽，无法代表工艺节点，业内始用最小线宽半间距来代表线宽，即所有图形中最小的两根相邻线条中心位置距离的一半，以此代表芯片结构中最高图形分辨率。"
   ]
  },
  {
   "cell_type": "markdown",
   "metadata": {},
   "source": [
    "## 2、半导体纯度"
   ]
  },
  {
   "cell_type": "code",
   "execution_count": 38,
   "metadata": {
    "execution": {
     "iopub.execute_input": "2024-11-17T05:06:23.652832Z",
     "iopub.status.busy": "2024-11-17T05:06:23.652244Z",
     "iopub.status.idle": "2024-11-17T05:06:23.660631Z",
     "shell.execute_reply": "2024-11-17T05:06:23.659522Z",
     "shell.execute_reply.started": "2024-11-17T05:06:23.652788Z"
    }
   },
   "outputs": [],
   "source": [
    "# 计算半导体纯度\n",
    "def semi_purity(semiNum, impurityNum):\n",
    "    purity = semiNum/(semiNum + impurityNum)\n",
    "    print('Purity = ', dec2perc(purity, 4))\n",
    "    return"
   ]
  },
  {
   "cell_type": "code",
   "execution_count": 39,
   "metadata": {
    "execution": {
     "iopub.execute_input": "2024-11-17T05:06:25.570699Z",
     "iopub.status.busy": "2024-11-17T05:06:25.570115Z",
     "iopub.status.idle": "2024-11-17T05:06:25.577322Z",
     "shell.execute_reply": "2024-11-17T05:06:25.576568Z",
     "shell.execute_reply.started": "2024-11-17T05:06:25.570646Z"
    }
   },
   "outputs": [
    {
     "name": "stdout",
     "output_type": "stream",
     "text": [
      "Purity =  99.9999%\n"
     ]
    }
   ],
   "source": [
    "semi_purity(1E6, 1)"
   ]
  },
  {
   "cell_type": "markdown",
   "metadata": {},
   "source": [
    "# 二、分子动力学"
   ]
  },
  {
   "cell_type": "markdown",
   "metadata": {},
   "source": [
    "## 1、自由路程和平均自由程$\\overline \\lambda$\n",
    "\n",
    "- 自由程：气体分子不断做着无规则运动，某个分子连续两次与其它分子相撞之间的距离。\n",
    "- 平均自由程：所有自由程的平均值。\n",
    "\n",
    "$$\n",
    "\\overline \\lambda = \\frac{\\kappa T}{\\sqrt{2} P \\sigma}\n",
    "$$"
   ]
  },
  {
   "cell_type": "markdown",
   "metadata": {},
   "source": [
    "## 2、平均碰撞频率$\\overline z$\n",
    "\n",
    "    定义：某个分子单位数间內与其它分子碰撞次数的平均值"
   ]
  },
  {
   "cell_type": "markdown",
   "metadata": {},
   "source": [
    "## 3、理想气体状态方程\n",
    "\n",
    "理想气体状态方程：\n",
    "\n",
    "$$\n",
    "PV = nRT\n",
    "$$\n",
    "> 其中$n$为气体的物质的量，$R$为普适气体常数（摩尔气体常数）。\n",
    "\n",
    "玻尔兹曼常数$k$与普世气体常数$R$之间的关系：\n",
    "$$\n",
    "k = \\frac{R}{N_A}\n",
    "$$\n",
    "> 其中$N_A$为阿伏伽德罗常数。\n",
    "\n",
    "拉塞尔方程：\n",
    "\n",
    "$$\n",
    "P = nkT\n",
    "$$\n",
    "> 其中$n = \\frac{N}{V}$为气体的分子数密度。"
   ]
  },
  {
   "cell_type": "markdown",
   "metadata": {},
   "source": [
    "# 三、统计学"
   ]
  },
  {
   "cell_type": "markdown",
   "metadata": {},
   "source": [
    "## 1、均一性"
   ]
  },
  {
   "cell_type": "markdown",
   "metadata": {},
   "source": [
    "### 1.1、Uni-STD Calculation\n",
    "\n",
    "$$\\rm Uni-STD = \\frac{样本标准差}{样本平均值} $$\n",
    "\n",
    "$$样本标准差 = \\sqrt{\\frac{\\sum_{i=1}^n (x_i - \\overline{x})}{N - 1}}$$"
   ]
  },
  {
   "cell_type": "code",
   "execution_count": 36,
   "metadata": {
    "execution": {
     "iopub.execute_input": "2024-11-17T01:51:05.998336Z",
     "iopub.status.busy": "2024-11-17T01:51:05.997548Z",
     "iopub.status.idle": "2024-11-17T01:51:06.019129Z",
     "shell.execute_reply": "2024-11-17T01:51:06.018465Z",
     "shell.execute_reply.started": "2024-11-17T01:51:05.998282Z"
    }
   },
   "outputs": [
    {
     "name": "stdout",
     "output_type": "stream",
     "text": [
      "155.31741692418143 13246.0\n",
      "1.17%\n"
     ]
    }
   ],
   "source": [
    "# Thickness Of Membrane\n",
    "li = [13385, 13432, 13313, 13328, 13210, 12905, 13145, 13254, 13242]\n",
    "\n",
    "UniSTD = np.std(li, ddof=1)/np.average(li)\n",
    "print(np.std(li, ddof=1), np.average(li))\n",
    "print('{:.2f}%'.format(UniSTD*100))"
   ]
  },
  {
   "cell_type": "code",
   "execution_count": 34,
   "metadata": {
    "execution": {
     "iopub.execute_input": "2024-11-16T20:03:25.323907Z",
     "iopub.status.busy": "2024-11-16T20:03:25.323030Z",
     "iopub.status.idle": "2024-11-16T20:03:25.340520Z",
     "shell.execute_reply": "2024-11-16T20:03:25.339814Z",
     "shell.execute_reply.started": "2024-11-16T20:03:25.323846Z"
    }
   },
   "outputs": [
    {
     "data": {
      "text/plain": [
       "T    13432.0\n",
       "Name: max, dtype: float64"
      ]
     },
     "execution_count": 34,
     "metadata": {},
     "output_type": "execute_result"
    }
   ],
   "source": [
    "# pands deal with data\n",
    "df = pd.DataFrame([13385, 13432, 13313, 13328, 13210, 12905, 13145, 13254, 13242], columns = list('T'))\n",
    "info = df.describe().iloc[3|4|5]\n",
    "info"
   ]
  },
  {
   "cell_type": "code",
   "execution_count": 29,
   "metadata": {
    "execution": {
     "iopub.execute_input": "2024-11-16T19:56:54.138547Z",
     "iopub.status.busy": "2024-11-16T19:56:54.137595Z",
     "iopub.status.idle": "2024-11-16T19:56:54.148195Z",
     "shell.execute_reply": "2024-11-16T19:56:54.146771Z",
     "shell.execute_reply.started": "2024-11-16T19:56:54.138463Z"
    }
   },
   "outputs": [
    {
     "name": "stdout",
     "output_type": "stream",
     "text": [
      "[0.01172561]\n"
     ]
    }
   ],
   "source": [
    "std = info.loc['std'].values\n",
    "mean = info.loc['mean'].values\n",
    "UniSTD_pd = std/mean\n",
    "print(UniSTD_pd)"
   ]
  },
  {
   "cell_type": "markdown",
   "metadata": {},
   "source": [
    "### 1.2、Uni-Range Calculation\n",
    "\n",
    "$$\n",
    "\\rm Uni-Range = \\frac{Value_{Max} - Value_{Min}}{2*Average Value}\n",
    "$$"
   ]
  },
  {
   "cell_type": "code",
   "execution_count": 6,
   "metadata": {},
   "outputs": [
    {
     "name": "stdout",
     "output_type": "stream",
     "text": [
      "1.99%\n"
     ]
    }
   ],
   "source": [
    "li = [13385, 13432, 13313, 13328, 13210, 12905, 13145, 13254, 13242]\n",
    "\n",
    "UniRange = (np.max(li) - np.min(li))/(2 * np.average(li))\n",
    "print('{:.2f}%'.format(UniRange*100))"
   ]
  },
  {
   "cell_type": "markdown",
   "metadata": {},
   "source": [
    "# 四、半导体工艺"
   ]
  },
  {
   "cell_type": "markdown",
   "metadata": {},
   "source": [
    "## 1、薄膜沉积"
   ]
  },
  {
   "cell_type": "markdown",
   "metadata": {},
   "source": [
    "### 1、CVD\n",
    "\n",
    "`CVD的基本步骤`\n",
    "1. 反应物(气体和参杂物)被传输到基片区域；\n",
    "2. 它们被传输到基片表面，在此被吸收。"
   ]
  },
  {
   "cell_type": "markdown",
   "metadata": {},
   "source": [
    "### CT栅氧工艺修改步骤\n",
    "\n",
    "1. 右上角点check out，根据工艺参数的要求，编程软件修改工艺参数，确保修改安全有效；\n",
    "      - 在压力未修改的情况下，所有气体流量之和为3。例如$NO_2=0.3，N_2=2.7$。\n",
    "\n",
    "2. 点check in将新脚本生成；\n",
    "\n",
    "3. Validate、...、download三步骤，注意对应的log语句判断是否成功执行；\n",
    "4. 在用户界面软件的setup页面中创建新的lot，并绑定相应的工艺。"
   ]
  },
  {
   "attachments": {},
   "cell_type": "markdown",
   "metadata": {},
   "source": [
    "### 应力\n",
    "\n",
    "> 斯托尼方程\n",
    "\n",
    "$$\n",
    "{\\rm Stress} \\  \\sigma = \\frac{ED^2}{6(1-v)t}\\cdot \\frac{1}{R}\n",
    "$$\n",
    "\n",
    "其中：$E$为修正系数，$v$为泊松比，$D$为衬底厚度，$t$为薄膜厚度，$R$为曲率半径（Radius Of Curvature）。\n",
    "\n",
    "\n",
    "\n",
    "$$\n",
    "\\frac{1}{R} = \\frac{1}{R_后} - \\frac{1}{R_前}\n",
    "$$\n",
    "\n",
    "其中$R_后$为薄膜沉积前的曲率半径，$R_前$为薄膜沉积前的曲率半径。"
   ]
  },
  {
   "cell_type": "code",
   "execution_count": null,
   "metadata": {
    "collapsed": false,
    "jupyter": {
     "outputs_hidden": false
    }
   },
   "outputs": [],
   "source": []
  }
 ],
 "metadata": {
  "kernelspec": {
   "display_name": "Python 3 (ipykernel)",
   "language": "python",
   "name": "python3"
  },
  "language_info": {
   "codemirror_mode": {
    "name": "ipython",
    "version": 3
   },
   "file_extension": ".py",
   "mimetype": "text/x-python",
   "name": "python",
   "nbconvert_exporter": "python",
   "pygments_lexer": "ipython3",
   "version": "3.9.6"
  }
 },
 "nbformat": 4,
 "nbformat_minor": 4
}
