{
 "cells": [
  {
   "cell_type": "code",
   "execution_count": 22,
   "id": "924bb8d0-4128-4a36-be7c-c8f04e5050df",
   "metadata": {
    "execution": {
     "iopub.execute_input": "2024-11-09T19:22:15.396786Z",
     "iopub.status.busy": "2024-11-09T19:22:15.396365Z",
     "iopub.status.idle": "2024-11-09T19:22:15.401506Z",
     "shell.execute_reply": "2024-11-09T19:22:15.400757Z",
     "shell.execute_reply.started": "2024-11-09T19:22:15.396748Z"
    }
   },
   "outputs": [],
   "source": [
    "# 计算半导体纯度\n",
    "def semi_purity(semiNum, impurityNum):\n",
    "    purity = semiNum/(semiNum + impurityNum)\n",
    "    print('Purity = ', dec2perc(purity, 4))\n",
    "    return"
   ]
  },
  {
   "cell_type": "code",
   "execution_count": 20,
   "id": "37f88c99-0f85-4c3e-a512-79f0c39d82ec",
   "metadata": {
    "execution": {
     "iopub.execute_input": "2024-11-09T19:22:03.264207Z",
     "iopub.status.busy": "2024-11-09T19:22:03.263600Z",
     "iopub.status.idle": "2024-11-09T19:22:03.269229Z",
     "shell.execute_reply": "2024-11-09T19:22:03.267502Z",
     "shell.execute_reply.started": "2024-11-09T19:22:03.264175Z"
    }
   },
   "outputs": [],
   "source": [
    "# 将小数转化为百分数，savedNum：保留的位数\n",
    "def dec2perc(decimalNum, savedNum):\n",
    "    return str((decimalNum*100))[:(savedNum + 3)] + '%'"
   ]
  },
  {
   "cell_type": "code",
   "execution_count": 21,
   "id": "c4e9caf5-7456-4b41-ba19-83d1459d8f4f",
   "metadata": {
    "execution": {
     "iopub.execute_input": "2024-11-09T19:22:07.124984Z",
     "iopub.status.busy": "2024-11-09T19:22:07.124223Z",
     "iopub.status.idle": "2024-11-09T19:22:07.131386Z",
     "shell.execute_reply": "2024-11-09T19:22:07.130779Z",
     "shell.execute_reply.started": "2024-11-09T19:22:07.124916Z"
    }
   },
   "outputs": [
    {
     "name": "stdout",
     "output_type": "stream",
     "text": [
      "Purity =  99.9999%\n"
     ]
    }
   ],
   "source": [
    "semi_purity(1E6, 1)"
   ]
  },
  {
   "cell_type": "code",
   "execution_count": 19,
   "id": "7a8c8082-eb92-4ddf-a216-68c8387ba824",
   "metadata": {
    "execution": {
     "iopub.execute_input": "2024-11-09T19:21:37.266944Z",
     "iopub.status.busy": "2024-11-09T19:21:37.266562Z",
     "iopub.status.idle": "2024-11-09T19:21:37.273134Z",
     "shell.execute_reply": "2024-11-09T19:21:37.272503Z",
     "shell.execute_reply.started": "2024-11-09T19:21:37.266913Z"
    }
   },
   "outputs": [
    {
     "data": {
      "text/plain": [
       "'st'"
      ]
     },
     "execution_count": 19,
     "metadata": {},
     "output_type": "execute_result"
    }
   ],
   "source": [
    "a = [1, 2, 3, 4]\n",
    "a[:2]\n",
    "b = 'string'\n",
    "b[:2]"
   ]
  }
 ],
 "metadata": {
  "kernelspec": {
   "display_name": "Python 3 (ipykernel)",
   "language": "python",
   "name": "python3"
  },
  "language_info": {
   "codemirror_mode": {
    "name": "ipython",
    "version": 3
   },
   "file_extension": ".py",
   "mimetype": "text/x-python",
   "name": "python",
   "nbconvert_exporter": "python",
   "pygments_lexer": "ipython3",
   "version": "3.9.6"
  }
 },
 "nbformat": 4,
 "nbformat_minor": 5
}
