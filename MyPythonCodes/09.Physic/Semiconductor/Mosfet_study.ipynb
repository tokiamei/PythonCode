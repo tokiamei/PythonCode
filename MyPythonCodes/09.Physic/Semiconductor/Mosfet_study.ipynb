{
 "cells": [
  {
   "cell_type": "markdown",
   "source": [
    "## 电容\n",
    "\n",
    "### 电容的计算公式  \n",
    "  \n",
    "1. 电容的通用公式：  \n",
    "  \n",
    "$$\n",
    "C = \\frac{Q}{U}\n",
    "$$\n",
    "\n",
    "2. 平行板电容器电容的决定式：\n",
    "\n",
    "$$\n",
    "C = \\frac{\\varepsilon S}{4\\pi kd}\n",
    "$$\n",
    "\n",
    "其中，$d$为两极板之间距离\n",
    "\n"
   ],
   "metadata": {
    "collapsed": false
   },
   "id": "a6539eb7663b89d0"
  }
 ],
 "metadata": {
  "kernelspec": {
   "display_name": "Python 3",
   "language": "python",
   "name": "python3"
  },
  "language_info": {
   "codemirror_mode": {
    "name": "ipython",
    "version": 2
   },
   "file_extension": ".py",
   "mimetype": "text/x-python",
   "name": "python",
   "nbconvert_exporter": "python",
   "pygments_lexer": "ipython2",
   "version": "2.7.6"
  }
 },
 "nbformat": 4,
 "nbformat_minor": 5
}
