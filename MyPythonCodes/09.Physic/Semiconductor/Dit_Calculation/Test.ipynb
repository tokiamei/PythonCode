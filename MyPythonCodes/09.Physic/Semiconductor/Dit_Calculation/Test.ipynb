{
 "cells": [
  {
   "cell_type": "code",
   "execution_count": 1,
   "outputs": [],
   "source": [
    "import numpy as np"
   ],
   "metadata": {
    "collapsed": false,
    "ExecuteTime": {
     "end_time": "2024-11-07T15:38:25.997034Z",
     "start_time": "2024-11-07T15:38:25.916711Z"
    }
   },
   "id": "5ff6cf8bba79da59"
  },
  {
   "cell_type": "code",
   "execution_count": 10,
   "outputs": [
    {
     "data": {
      "text/plain": "np.int64(211700)"
     },
     "execution_count": 10,
     "metadata": {},
     "output_type": "execute_result"
    }
   ],
   "source": [
    "x = np.array([1, 2, 3, 4, 5])\n",
    "y = np.array([11520, 13540, 13280, 14340, 15180])\n",
    "np.sum(x*y)"
   ],
   "metadata": {
    "collapsed": false,
    "ExecuteTime": {
     "end_time": "2024-11-07T11:38:01.135730Z",
     "start_time": "2024-11-07T11:38:01.128791Z"
    }
   },
   "id": "initial_id"
  },
  {
   "cell_type": "code",
   "execution_count": 11,
   "outputs": [],
   "source": [
    "def returnCurve_Slope(x, y):\n",
    "    xBar = np.average(x)\n",
    "    yBar = np.average(y)\n",
    "    l = len(x)\n",
    "    return np.sum((x - xBar) * (y - yBar))/np.sum((x - xBar)**2)"
   ],
   "metadata": {
    "collapsed": false,
    "ExecuteTime": {
     "end_time": "2024-11-07T11:38:02.668380Z",
     "start_time": "2024-11-07T11:38:02.663835Z"
    }
   },
   "id": "2d918f2cfe3caadc"
  },
  {
   "cell_type": "code",
   "execution_count": 12,
   "outputs": [
    {
     "data": {
      "text/plain": "np.float64(812.0)"
     },
     "execution_count": 12,
     "metadata": {},
     "output_type": "execute_result"
    }
   ],
   "source": [
    "returnCurve_Slope(x, y)"
   ],
   "metadata": {
    "collapsed": false,
    "ExecuteTime": {
     "end_time": "2024-11-07T11:38:04.258510Z",
     "start_time": "2024-11-07T11:38:04.246055Z"
    }
   },
   "id": "1645e91af9131ed7"
  },
  {
   "cell_type": "code",
   "execution_count": 10,
   "outputs": [
    {
     "data": {
      "text/plain": "array([0, 1, 2, 3, 4])"
     },
     "execution_count": 10,
     "metadata": {},
     "output_type": "execute_result"
    }
   ],
   "source": [
    "x - 1"
   ],
   "metadata": {
    "collapsed": false,
    "ExecuteTime": {
     "end_time": "2024-11-07T11:33:06.789904Z",
     "start_time": "2024-11-07T11:33:06.784118Z"
    }
   },
   "id": "4d4a2d1d6597dab"
  }
 ],
 "metadata": {
  "kernelspec": {
   "display_name": "Python 3",
   "language": "python",
   "name": "python3"
  },
  "language_info": {
   "codemirror_mode": {
    "name": "ipython",
    "version": 2
   },
   "file_extension": ".py",
   "mimetype": "text/x-python",
   "name": "python",
   "nbconvert_exporter": "python",
   "pygments_lexer": "ipython2",
   "version": "2.7.6"
  }
 },
 "nbformat": 4,
 "nbformat_minor": 5
}
