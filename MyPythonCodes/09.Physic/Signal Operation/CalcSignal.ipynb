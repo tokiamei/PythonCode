{
 "cells": [
  {
   "cell_type": "code",
   "execution_count": null,
   "id": "5c039cee-e261-43dd-87c8-4d2b5ff3d841",
   "metadata": {},
   "outputs": [],
   "source": [
    "import numpy as np\n",
    "import matplotlib.pyplot as plt\n",
    "import scienceplots\n",
    "# 使用Science风格的配置文件\n",
    "plt.style.use('science')"
   ]
  },
  {
   "cell_type": "markdown",
   "id": "b8778a94-1e45-4988-9039-0bc766c63a20",
   "metadata": {},
   "source": [
    "## 绘图函数"
   ]
  },
  {
   "cell_type": "code",
   "execution_count": null,
   "id": "061a986e-c06f-4ce4-a5c3-bde0f70262bc",
   "metadata": {},
   "outputs": [],
   "source": [
    "def sciPlot(x, f):\n",
    "    with plt.style.context([\"science\", \"ieee\", \"no-latex\"]):\n",
    "            plt.plot(x, f, label=r'$f$')\n",
    "            # plt.plot(self.x, EPsi, '-.', label=r'$E |\\psi_{%s} \\rangle$'%n)\n",
    "            plt.legend(loc='upper right')\n",
    "            plt.xlabel(r'$x$')\n",
    "            plt.ylabel(r'$signal$')\n",
    "            # plt.ylim(EPsi.min(), EPsi.max() * 1.6)\n",
    "            plt.show()"
   ]
  },
  {
   "cell_type": "markdown",
   "id": "b86e6865-9632-453a-8ecb-1a18c9d1611c",
   "metadata": {},
   "source": [
    "# 离散信号的绘制"
   ]
  },
  {
   "cell_type": "markdown",
   "id": "784c0264-4754-4ff1-8376-f2953d70a847",
   "metadata": {},
   "source": [
    "$$f(t) = 5e^{-0.8t}{\\rm sin}(\\pi t), 0<t<5$$"
   ]
  },
  {
   "cell_type": "code",
   "execution_count": null,
   "id": "3450801d-0d97-4560-bc35-11695c8ff0eb",
   "metadata": {},
   "outputs": [],
   "source": [
    "t = np.arange(0, 5, 0.01)\n",
    "f = 5*np.e**(-0.8*t)*np.sin(np.pi*t)\n",
    "sciPlot(t, f)"
   ]
  },
  {
   "cell_type": "markdown",
   "id": "28d4d6d9-8205-4b6f-bc2b-fdc5c3b5cdb9",
   "metadata": {
    "execution": {
     "iopub.execute_input": "2023-10-25T15:59:20.776422Z",
     "iopub.status.busy": "2023-10-25T15:59:20.775417Z",
     "iopub.status.idle": "2023-10-25T15:59:20.785496Z",
     "shell.execute_reply": "2023-10-25T15:59:20.783479Z",
     "shell.execute_reply.started": "2023-10-25T15:59:20.776422Z"
    }
   },
   "source": [
    "$$f(k) = 2(0.8)^k, -5<k<5$$"
   ]
  },
  {
   "cell_type": "code",
   "execution_count": null,
   "id": "54de9551-316c-4912-8ce4-ea5142c3f14c",
   "metadata": {},
   "outputs": [],
   "source": [
    "k = np.arange(-4, 6, 1)\n",
    "f = 2*0.8**k\n",
    "sciPlot(k, f)"
   ]
  }
 ],
 "metadata": {
  "kernelspec": {
   "display_name": "Python 3 (ipykernel)",
   "language": "python",
   "name": "python3"
  },
  "language_info": {
   "codemirror_mode": {
    "name": "ipython",
    "version": 3
   },
   "file_extension": ".py",
   "mimetype": "text/x-python",
   "name": "python",
   "nbconvert_exporter": "python",
   "pygments_lexer": "ipython3",
   "version": "3.11.4"
  }
 },
 "nbformat": 4,
 "nbformat_minor": 5
}
