{
 "cells": [
  {
   "cell_type": "code",
   "execution_count": null,
   "id": "4fc70c9e-cb6b-407b-9674-20388401159b",
   "metadata": {},
   "outputs": [],
   "source": [
    "import numpy as np\n",
    "import sympy as sym"
   ]
  },
  {
   "cell_type": "code",
   "execution_count": null,
   "id": "52cd8847-5f61-4257-b125-ff7f1b365310",
   "metadata": {},
   "outputs": [],
   "source": [
    "x = sym.symbols('x')"
   ]
  },
  {
   "cell_type": "markdown",
   "id": "06d82a9e-6886-4c87-9680-484538e84462",
   "metadata": {},
   "source": [
    "# 信号的基本概念和分类"
   ]
  },
  {
   "cell_type": "markdown",
   "id": "7733569d-b966-495d-b584-a19e549ee8b9",
   "metadata": {
    "jp-MarkdownHeadingCollapsed": true
   },
   "source": [
    "## 周期信号"
   ]
  },
  {
   "cell_type": "markdown",
   "id": "9c505f18-6a63-4509-b041-a7d579d8581d",
   "metadata": {
    "jp-MarkdownHeadingCollapsed": true
   },
   "source": [
    "### 连续周期函数"
   ]
  },
  {
   "cell_type": "markdown",
   "id": "335e75cb-965e-4132-a191-aaa2ecc8538a",
   "metadata": {
    "jp-MarkdownHeadingCollapsed": true
   },
   "source": [
    "#### 两个连续周期函数的叠加\n",
    "\n",
    "    两个连续周期函数叠加不一定是周期函数\n",
    "    只有两个函数周期比为有理数时，叠加和才是有理数"
   ]
  },
  {
   "cell_type": "code",
   "execution_count": null,
   "id": "3fcd2dfa-8884-40ec-a18c-6d3a7fd4817b",
   "metadata": {},
   "outputs": [],
   "source": [
    "# 生成两个周期函数叠加的函数及其图像\n",
    "# 输入为两个周期函数的周期\n",
    "def add2PeriodicFunc(T1, T2):\n",
    "    f1 = sym.sin(2*sym.pi/T1*x)\n",
    "    f2 = sym.sin(2*sym.pi/T2*x)\n",
    "    f = f1 + f2\n",
    "    print(\"两个周期函数周期比：\", T1/T2)\n",
    "    sym.plot(f)\n"
   ]
  },
  {
   "cell_type": "code",
   "execution_count": null,
   "id": "68c55395-0533-4106-bc05-22dce89b2791",
   "metadata": {},
   "outputs": [],
   "source": [
    "add2PeriodicFunc(1, np.pi)"
   ]
  },
  {
   "cell_type": "code",
   "execution_count": null,
   "id": "f001b65d-5808-40cb-8e8d-6557b175025a",
   "metadata": {},
   "outputs": [],
   "source": [
    "add2PeriodicFunc(1, 0.5)"
   ]
  },
  {
   "cell_type": "markdown",
   "id": "8ccf059f-156f-4247-af92-66426aac3ce9",
   "metadata": {
    "jp-MarkdownHeadingCollapsed": true
   },
   "source": [
    "### 离散周期函数\n",
    "\n",
    "定义：离散周期信号$f(k)$，周期为$N$，满足：\n",
    "$$f(k) = f(k+mN),\\ m = 0, \\pm1, \\pm2,\\ldots$$\n",
    "\n",
    "> 离散周期函数也称周期序列"
   ]
  },
  {
   "cell_type": "markdown",
   "id": "abe9c4b3-82b9-4965-811b-b0c5886dcef6",
   "metadata": {},
   "source": [
    "判断正弦序列$f(k) = {\\rm sin}(\\beta k)$是否为周期信号，其中$\\beta$为数字角频率\n",
    "- 当$2\\pi \\over \\beta$为整数时，正弦序列具有周期$N = {2\\pi \\over \\beta}$\n",
    "- 当$2\\pi \\over \\beta$为有理数时，正弦序列具有周期$N = M({2\\pi \\over \\beta})$，$M$为使得$N$为整数的最小整数\n",
    "- 当$2\\pi \\over \\beta$为无理数时，正弦序列不具有周期性"
   ]
  },
  {
   "cell_type": "markdown",
   "id": "f859b269-3f2d-4a12-9e9f-8c016d8bcbac",
   "metadata": {
    "jp-MarkdownHeadingCollapsed": true
   },
   "source": [
    "#### 两个周期序列的叠加\n",
    "\n",
    "    两个周期序列的叠加一定是周期序列"
   ]
  },
  {
   "cell_type": "markdown",
   "id": "6422f1f6-d23c-4467-aaf7-0a57fef962f6",
   "metadata": {
    "jp-MarkdownHeadingCollapsed": true
   },
   "source": [
    "## 信号的分类"
   ]
  },
  {
   "cell_type": "markdown",
   "id": "796a4d82-334e-4484-a755-bbd625f4b4c4",
   "metadata": {
    "jp-MarkdownHeadingCollapsed": true
   },
   "source": [
    "### 能量信号和功率信号\n",
    "\n",
    "将信号$f(t)$施加于$1\\Omega$电阻上，它所消耗的瞬时功率为$|f(t)|^2$，在区间$(-\\infty， +\\infty)$的能量为\n",
    "$$E = \\int |f(t)|^2{\\rm d}t$$\n",
    "平均功率（单位周期内的能量）定义为\n",
    "$$P = \\lim_{T \\to \\infty} {1\\over T}\\int^{T\\over 2}_{-T\\over 2}|f(t)|^2{\\rm d}t$$"
   ]
  },
  {
   "cell_type": "markdown",
   "id": "f97d172f-ef51-4eaa-aba0-98714f14e3fa",
   "metadata": {
    "jp-MarkdownHeadingCollapsed": true
   },
   "source": [
    "#### 能量有限信号\n",
    "\n",
    "信号能量$E<\\infty$，简称能量信号，此时$P=0$"
   ]
  },
  {
   "cell_type": "markdown",
   "id": "2c650537-b8f9-442f-afcb-48f4e7767d9d",
   "metadata": {
    "jp-MarkdownHeadingCollapsed": true
   },
   "source": [
    "#### 功率有限信号\n",
    "\n",
    "信号功率$P<\\infty$，简称功率信号，此时$E=\\infty$"
   ]
  },
  {
   "cell_type": "markdown",
   "id": "19ce69b0-08cc-4ecd-b225-69c8fee7cee4",
   "metadata": {
    "jp-MarkdownHeadingCollapsed": true
   },
   "source": [
    "### 离散信号的能量和功率"
   ]
  },
  {
   "cell_type": "markdown",
   "id": "067ec221-6bb1-4f37-9d82-54db67c2dac1",
   "metadata": {
    "jp-MarkdownHeadingCollapsed": true
   },
   "source": [
    "#### 能量信号\n",
    "\n",
    "满足$E = \\sum \\limits_{k = -\\infty}^{\\infty} |f(k)^2 < \\infty$的离散信号"
   ]
  },
  {
   "cell_type": "markdown",
   "id": "edc99edb-cc38-4038-be17-20a22dc5223c",
   "metadata": {
    "jp-MarkdownHeadingCollapsed": true
   },
   "source": [
    "#### 功率信号\n",
    "\n",
    "满足\n",
    "$$P = \\lim_{N \\to \\infty} {1\\over N} \\sum_{k = -N/2}^{N/2} |f(k)|^2 < \\infty$$\n",
    "的离散信号"
   ]
  },
  {
   "cell_type": "markdown",
   "id": "f825bcfa-3372-4abc-944f-40c8762d5a15",
   "metadata": {
    "jp-MarkdownHeadingCollapsed": true
   },
   "source": [
    "### 因果信号和反因果信号\n",
    "\n",
    "- 因果信号：$t<0, f(t)=0$的信号$f(t)$，即$t=0$时接入系统的信号\n",
    "- 因果信号：$t \\geq 0, f(t)=0$的信号$f(t)$"
   ]
  },
  {
   "cell_type": "markdown",
   "id": "ecbe67f0-652d-400e-a6ea-897f9dbbd957",
   "metadata": {
    "jp-MarkdownHeadingCollapsed": true
   },
   "source": [
    "#### 一维信号和多维信号"
   ]
  },
  {
   "cell_type": "markdown",
   "id": "d6497c41-461f-45f9-a753-e5f758809f4d",
   "metadata": {
    "jp-MarkdownHeadingCollapsed": true
   },
   "source": [
    "#### 实信号和虚信号"
   ]
  },
  {
   "cell_type": "markdown",
   "id": "96a2da52-841b-49f9-9544-6f13fc230c59",
   "metadata": {},
   "source": [
    "## 基本信号"
   ]
  },
  {
   "cell_type": "markdown",
   "id": "c9d1e394-7db4-4871-8b11-f27168b249c2",
   "metadata": {
    "execution": {
     "iopub.execute_input": "2023-10-25T16:12:12.715171Z",
     "iopub.status.busy": "2023-10-25T16:12:12.713178Z",
     "iopub.status.idle": "2023-10-25T16:12:12.760048Z",
     "shell.execute_reply": "2023-10-25T16:12:12.757040Z",
     "shell.execute_reply.started": "2023-10-25T16:12:12.715171Z"
    }
   },
   "source": [
    "全课程的三个关键问题\n",
    "    1、基本信号及其相应\n",
    "    2、任意信号的分解\n",
    "    3、LTI系统分析"
   ]
  },
  {
   "cell_type": "markdown",
   "id": "d2e82e84-9638-4942-871d-7b2106b217fd",
   "metadata": {},
   "source": [
    "### 阶跃函数"
   ]
  },
  {
   "cell_type": "markdown",
   "id": "8ca7b455-59cc-4a74-b016-d667928c1007",
   "metadata": {},
   "source": [
    "### 冲击信号\n",
    "\n",
    "高度无穷大，宽度无穷小，面积为1的对窄脉冲"
   ]
  },
  {
   "cell_type": "markdown",
   "id": "adf128ff-ba66-4e7b-9dfc-6f43fc8504f2",
   "metadata": {},
   "source": [
    "# 第二章"
   ]
  },
  {
   "cell_type": "code",
   "execution_count": 32,
   "id": "d4373368-6b4a-40be-a062-a9065b3f33a8",
   "metadata": {
    "execution": {
     "iopub.execute_input": "2023-10-25T16:24:48.727676Z",
     "iopub.status.busy": "2023-10-25T16:24:48.727676Z",
     "iopub.status.idle": "2023-10-25T16:24:48.960273Z",
     "shell.execute_reply": "2023-10-25T16:24:48.959148Z",
     "shell.execute_reply.started": "2023-10-25T16:24:48.727676Z"
    }
   },
   "outputs": [
    {
     "ename": "ZeroDivisionError",
     "evalue": "division by zero",
     "output_type": "error",
     "traceback": [
      "\u001b[1;31m---------------------------------------------------------------------------\u001b[0m",
      "\u001b[1;31mZeroDivisionError\u001b[0m                         Traceback (most recent call last)",
      "Cell \u001b[1;32mIn[32], line 1\u001b[0m\n\u001b[1;32m----> 1\u001b[0m \u001b[38;5;241;43m1\u001b[39;49m\u001b[38;5;241;43m/\u001b[39;49m\u001b[38;5;241;43m0\u001b[39;49m\n",
      "\u001b[1;31mZeroDivisionError\u001b[0m: division by zero"
     ]
    }
   ],
   "source": [
    "1/0"
   ]
  }
 ],
 "metadata": {
  "kernelspec": {
   "display_name": "Python 3 (ipykernel)",
   "language": "python",
   "name": "python3"
  },
  "language_info": {
   "codemirror_mode": {
    "name": "ipython",
    "version": 3
   },
   "file_extension": ".py",
   "mimetype": "text/x-python",
   "name": "python",
   "nbconvert_exporter": "python",
   "pygments_lexer": "ipython3",
   "version": "3.11.4"
  }
 },
 "nbformat": 4,
 "nbformat_minor": 5
}
