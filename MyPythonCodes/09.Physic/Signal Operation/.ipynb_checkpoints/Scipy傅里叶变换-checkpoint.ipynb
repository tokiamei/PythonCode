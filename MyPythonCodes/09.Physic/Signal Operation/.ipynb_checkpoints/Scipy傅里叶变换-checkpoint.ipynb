{
 "cells": [
  {
   "cell_type": "code",
   "execution_count": null,
   "id": "d7fb2c01-ee95-409e-b57b-b418b7f3c66d",
   "metadata": {
    "execution": {
     "iopub.execute_input": "2023-12-04T05:13:43.622567Z",
     "iopub.status.busy": "2023-12-04T05:13:43.621523Z",
     "iopub.status.idle": "2023-12-04T05:13:43.904764Z",
     "shell.execute_reply": "2023-12-04T05:13:43.903690Z",
     "shell.execute_reply.started": "2023-12-04T05:13:43.622567Z"
    }
   },
   "outputs": [],
   "source": [
    "import numpy as np\n",
    "from scipy.fftpack import fft\n",
    "import matplotlib.pyplot as plt"
   ]
  },
  {
   "cell_type": "code",
   "execution_count": 23,
   "id": "a7306961-8390-4478-8d45-39624c4ecdaf",
   "metadata": {
    "execution": {
     "iopub.execute_input": "2023-12-04T05:16:01.277285Z",
     "iopub.status.busy": "2023-12-04T05:16:01.277285Z",
     "iopub.status.idle": "2023-12-04T05:16:01.478536Z",
     "shell.execute_reply": "2023-12-04T05:16:01.477479Z",
     "shell.execute_reply.started": "2023-12-04T05:16:01.277285Z"
    }
   },
   "outputs": [
    {
     "data": {
      "image/png": "[encoded data removed]",
      "text/plain": [
       "<Figure size 640x480 with 1 Axes>"
      ]
     },
     "metadata": {},
     "output_type": "display_data"
    }
   ],
   "source": [
    "Fs = 10000      # 采样频率\n",
    "f1 = 390       # 信号频率1\n",
    "f2 = 2e3      # 信号频率2\n",
    "t = np.linspace(0, 1, Fs)   # 生成 1s 的实践序列   \n",
    "# noise1 = np.random.random(Fs)      # 0-1 之间的随机噪声\n",
    "# noise2 = np.random.normal(1,10, Fs)\n",
    "#产生的是一个10e3的高斯噪声点数组集合（均值为：1，标准差：10）\n",
    "y = 2*np.sin(2*np.pi*f1*t) + 5*np.sin(2*np.pi*f2*t)\n",
    "# y=2*np.sin(2*np.pi*f1*t)+5*np.sin(2*np.pi*f2*t)+noise2\n",
    "\n",
    "def FFT(Fs, data):\n",
    "    L = len(data)                        # 信号长度\n",
    "    N = np.power(2, int(np.ceil(np.log2(L))))    # 下一个最近二次幂\n",
    "    FFT_y1 = np.abs(fft(data, N))/L*2      # N点FFT 变化,但处于信号长度\n",
    "    Fre = np.arange(int(N/2))*Fs/N        # 频率坐标\n",
    "    FFT_y1 = FFT_y1[range(int(N/2))]      # 取一半\n",
    "    return Fre, FFT_y1\n",
    "\n",
    "Fre, FFT_y1 = FFT(Fs, y)\n",
    "plt.figure\n",
    "plt.plot(Fre,FFT_y1)\n",
    "plt.grid()\n",
    "plt.show()"
   ]
  },
  {
   "cell_type": "code",
   "execution_count": 29,
   "id": "10b24c0d-ca33-4f12-a6b3-60d77eb5d39a",
   "metadata": {
    "execution": {
     "iopub.execute_input": "2023-12-04T05:18:53.651469Z",
     "iopub.status.busy": "2023-12-04T05:18:53.650417Z",
     "iopub.status.idle": "2023-12-04T05:18:53.658968Z",
     "shell.execute_reply": "2023-12-04T05:18:53.657898Z",
     "shell.execute_reply.started": "2023-12-04T05:18:53.651469Z"
    }
   },
   "outputs": [],
   "source": [
    "L = 10\n",
    "x = np.log2(L)\n",
    "y  = np.ceil(x)\n",
    "N = np.power(2, int(y))"
   ]
  },
  {
   "cell_type": "code",
   "execution_count": null,
   "id": "fa398569-a669-448d-9226-9b9ce59cb888",
   "metadata": {},
   "outputs": [],
   "source": []
  }
 ],
 "metadata": {
  "kernelspec": {
   "display_name": "Python 3 (ipykernel)",
   "language": "python",
   "name": "python3"
  },
  "language_info": {
   "codemirror_mode": {
    "name": "ipython",
    "version": 3
   },
   "file_extension": ".py",
   "mimetype": "text/x-python",
   "name": "python",
   "nbconvert_exporter": "python",
   "pygments_lexer": "ipython3",
   "version": "3.11.4"
  }
 },
 "nbformat": 4,
 "nbformat_minor": 5
}
