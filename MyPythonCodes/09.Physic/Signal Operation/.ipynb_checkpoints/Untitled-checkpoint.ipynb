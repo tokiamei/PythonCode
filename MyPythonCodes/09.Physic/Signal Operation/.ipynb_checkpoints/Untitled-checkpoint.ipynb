{
 "cells": [
  {
   "cell_type": "markdown",
   "id": "a44e4eef-b633-4fc2-ae30-cdee8ba8ed48",
   "metadata": {},
   "source": [
    "# 条件"
   ]
  },
  {
   "cell_type": "markdown",
   "id": "2d29c055-86fd-45f4-9ec2-99fc5fe99c10",
   "metadata": {},
   "source": [
    "1、条件：\n",
    "    设备、仪器暂无\n",
    "    探头\n",
    "2、精度准确问题\n",
    "\n",
    "3、数据\n",
    "    703（自己做、621（收费做\n",
    "4、\n",
    "\n",
    "5、"
   ]
  }
 ],
 "metadata": {
  "kernelspec": {
   "display_name": "Python 3 (ipykernel)",
   "language": "python",
   "name": "python3"
  },
  "language_info": {
   "codemirror_mode": {
    "name": "ipython",
    "version": 3
   },
   "file_extension": ".py",
   "mimetype": "text/x-python",
   "name": "python",
   "nbconvert_exporter": "python",
   "pygments_lexer": "ipython3",
   "version": "3.11.4"
  }
 },
 "nbformat": 4,
 "nbformat_minor": 5
}
