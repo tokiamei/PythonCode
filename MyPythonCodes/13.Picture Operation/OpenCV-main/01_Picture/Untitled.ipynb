{
 "cells": [
  {
   "cell_type": "code",
   "execution_count": 1,
   "id": "852506c5-4b09-4ec8-9c77-e7298dbb01d0",
   "metadata": {
    "execution": {
     "iopub.execute_input": "2023-10-17T15:01:47.182957Z",
     "iopub.status.busy": "2023-10-17T15:01:47.181998Z",
     "iopub.status.idle": "2023-10-17T15:01:48.451135Z",
     "shell.execute_reply": "2023-10-17T15:01:48.450119Z",
     "shell.execute_reply.started": "2023-10-17T15:01:47.182957Z"
    }
   },
   "outputs": [
    {
     "data": {
      "text/plain": [
       "-1"
      ]
     },
     "execution_count": 1,
     "metadata": {},
     "output_type": "execute_result"
    }
   ],
   "source": [
    "import numpy as np\n",
    "import cv2\n",
    "\n",
    "img = cv2.imread(\"01_cat.jpg\")\n",
    "# img = cv2.imread(\"pic.jpg\", cv2.IMREAD_COLOR)\n",
    "# img = cv2.imread(\"pic.jpg\", cv2.IMREAD_GRAYSCALE)\n",
    "# img = cv2.imread(\"pic.jpg\", cv2.IMREAD_UNCHANGED)\n",
    "\n",
    "cv2.imshow(\"image\", img) # 显示图片，后面会讲解\n",
    "# cv2.waitKey(0) #等待按键\n",
    "cv2.waitKey(1000)  \n",
    "\n",
    "# 销毁图像窗口\n",
    "# cv2.destroyAllWindows()"
   ]
  }
 ],
 "metadata": {
  "kernelspec": {
   "display_name": "Python 3 (ipykernel)",
   "language": "python",
   "name": "python3"
  },
  "language_info": {
   "codemirror_mode": {
    "name": "ipython",
    "version": 3
   },
   "file_extension": ".py",
   "mimetype": "text/x-python",
   "name": "python",
   "nbconvert_exporter": "python",
   "pygments_lexer": "ipython3",
   "version": "3.11.4"
  }
 },
 "nbformat": 4,
 "nbformat_minor": 5
}
