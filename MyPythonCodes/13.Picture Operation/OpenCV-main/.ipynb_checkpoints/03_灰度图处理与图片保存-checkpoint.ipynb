{
 "cells": [
  {
   "cell_type": "markdown",
   "metadata": {},
   "source": [
    "# 灰度图处理与图片保存"
   ]
  },
  {
   "cell_type": "markdown",
   "metadata": {},
   "source": [
    "# 1. 读取BGR图(默认读取)"
   ]
  },
  {
   "cell_type": "code",
   "execution_count": 1,
   "metadata": {
    "execution": {
     "iopub.execute_input": "2023-10-30T14:58:21.525133Z",
     "iopub.status.busy": "2023-10-30T14:58:21.525133Z",
     "iopub.status.idle": "2023-10-30T14:58:22.645635Z",
     "shell.execute_reply": "2023-10-30T14:58:22.644095Z",
     "shell.execute_reply.started": "2023-10-30T14:58:21.525133Z"
    }
   },
   "outputs": [],
   "source": [
    "import cv2 #opencv的缩写为cv2\n",
    "import matplotlib.pyplot as plt # matplotlib库用于绘图展示\n",
    "import numpy as np   # numpy数值计算工具包\n",
    "\n",
    "# 魔法指令，直接展示图，Jupyter notebook特有\n",
    "%matplotlib inline   "
   ]
  },
  {
   "cell_type": "code",
   "execution_count": 2,
   "metadata": {
    "execution": {
     "iopub.execute_input": "2023-10-30T14:55:29.791879Z",
     "iopub.status.busy": "2023-10-30T14:55:29.790929Z",
     "iopub.status.idle": "2023-10-30T14:55:30.284329Z",
     "shell.execute_reply": "2023-10-30T14:55:30.283315Z",
     "shell.execute_reply.started": "2023-10-30T14:55:29.791879Z"
    }
   },
   "outputs": [
    {
     "data": {
      "text/plain": [
       "(3040, 4512, 3)"
      ]
     },
     "execution_count": 2,
     "metadata": {},
     "output_type": "execute_result"
    }
   ],
   "source": [
    "img = cv2.imread('01_Picture/wallhaven-1pxd1w.png') \n",
    "img.shape # (h,w,c) c表示 3 通道，这个 3 通道被 opencv 读进来是 BGR 的先后顺序的 3 通道    "
   ]
  },
  {
   "cell_type": "markdown",
   "metadata": {},
   "source": [
    "# 2. 读取灰度图(设置读取)"
   ]
  },
  {
   "cell_type": "code",
   "execution_count": 3,
   "metadata": {
    "execution": {
     "iopub.execute_input": "2023-10-30T14:58:56.113172Z",
     "iopub.status.busy": "2023-10-30T14:58:56.112168Z",
     "iopub.status.idle": "2023-10-30T14:59:01.461740Z",
     "shell.execute_reply": "2023-10-30T14:59:01.460728Z",
     "shell.execute_reply.started": "2023-10-30T14:58:56.113172Z"
    }
   },
   "outputs": [],
   "source": [
    "img_gray = cv2.imread('01_Picture/wallhaven-1pxd1w.png',cv2.IMREAD_GRAYSCALE)    \n",
    "#img_gray = cv2.imread('01_Picture/01_cat.jpg',cv2.IMREAD_COLOR)  # BGR图  \n",
    "img_gray  # 只有一个通道，同样是 uint8 类型\n",
    "# cv2.imshow(\"img_gray\", img_gray)\n",
    "# cv2.waitKey(0)  \n",
    "# cv2.destroyAllWindows()"
   ]
  },
  {
   "cell_type": "code",
   "execution_count": 4,
   "metadata": {
    "execution": {
     "iopub.execute_input": "2023-10-30T14:59:30.149171Z",
     "iopub.status.busy": "2023-10-30T14:59:30.148176Z",
     "iopub.status.idle": "2023-10-30T14:59:30.161502Z",
     "shell.execute_reply": "2023-10-30T14:59:30.159490Z",
     "shell.execute_reply.started": "2023-10-30T14:59:30.148176Z"
    }
   },
   "outputs": [
    {
     "name": "stdout",
     "output_type": "stream",
     "text": [
      "type(img_gray): <class 'numpy.ndarray'>\n",
      "img_gray.size:  13716480\n",
      "img_gray.dtype: uint8\n",
      "img_gray.shape: (3040, 4512)\n"
     ]
    }
   ],
   "source": [
    "print('type(img_gray):',type(img_gray))\n",
    "print('img_gray.size: ',img_gray.size)  # 414 × 500 = 20700\n",
    "print('img_gray.dtype:',img_gray.dtype)\n",
    "print('img_gray.shape:',img_gray.shape) # 只有一个通道"
   ]
  },
  {
   "cell_type": "code",
   "execution_count": 5,
   "metadata": {
    "execution": {
     "iopub.execute_input": "2023-10-30T15:00:15.465389Z",
     "iopub.status.busy": "2023-10-30T15:00:15.465389Z",
     "iopub.status.idle": "2023-10-30T15:00:15.476518Z",
     "shell.execute_reply": "2023-10-30T15:00:15.475508Z",
     "shell.execute_reply.started": "2023-10-30T15:00:15.465389Z"
    }
   },
   "outputs": [
    {
     "data": {
      "text/plain": [
       "13716480"
      ]
     },
     "execution_count": 5,
     "metadata": {},
     "output_type": "execute_result"
    }
   ],
   "source": [
    "3040*4512"
   ]
  },
  {
   "cell_type": "code",
   "execution_count": 8,
   "metadata": {
    "execution": {
     "iopub.execute_input": "2023-10-30T15:02:04.551680Z",
     "iopub.status.busy": "2023-10-30T15:02:04.550679Z",
     "iopub.status.idle": "2023-10-30T15:02:04.561801Z",
     "shell.execute_reply": "2023-10-30T15:02:04.559782Z",
     "shell.execute_reply.started": "2023-10-30T15:02:04.551680Z"
    }
   },
   "outputs": [
    {
     "data": {
      "text/plain": [
       "16885.216796875"
      ]
     },
     "execution_count": 8,
     "metadata": {},
     "output_type": "execute_result"
    }
   ],
   "source": [
    "17290462/1024"
   ]
  },
  {
   "cell_type": "markdown",
   "metadata": {},
   "source": [
    "# 3. 显示图片"
   ]
  },
  {
   "cell_type": "code",
   "execution_count": 5,
   "metadata": {
    "execution": {
     "iopub.execute_input": "2023-10-17T15:09:18.240139Z",
     "iopub.status.busy": "2023-10-17T15:09:18.239052Z",
     "iopub.status.idle": "2023-10-17T15:09:29.493250Z",
     "shell.execute_reply": "2023-10-17T15:09:29.493250Z",
     "shell.execute_reply.started": "2023-10-17T15:09:18.240139Z"
    }
   },
   "outputs": [],
   "source": [
    "def cv_show(name,img):\n",
    "    cv2.imshow(name,img)\n",
    "    cv2.waitKey(0)\n",
    "    cv2.destroyAllWindows()\n",
    "    \n",
    "cv_show('image_cat_gray',img_gray)"
   ]
  },
  {
   "cell_type": "markdown",
   "metadata": {},
   "source": [
    "# 4. 保存图片"
   ]
  },
  {
   "cell_type": "code",
   "execution_count": 6,
   "metadata": {},
   "outputs": [
    {
     "data": {
      "text/plain": [
       "True"
      ]
     },
     "execution_count": 6,
     "metadata": {},
     "output_type": "execute_result"
    }
   ],
   "source": [
    "cv2.imwrite('01_Picture/02_cat_gray.jpg',img_gray) # 保存图片"
   ]
  }
 ],
 "metadata": {
  "kernelspec": {
   "display_name": "Python 3 (ipykernel)",
   "language": "python",
   "name": "python3"
  },
  "language_info": {
   "codemirror_mode": {
    "name": "ipython",
    "version": 3
   },
   "file_extension": ".py",
   "mimetype": "text/x-python",
   "name": "python",
   "nbconvert_exporter": "python",
   "pygments_lexer": "ipython3",
   "version": "3.11.4"
  },
  "toc": {
   "base_numbering": 1,
   "nav_menu": {},
   "number_sections": false,
   "sideBar": true,
   "skip_h1_title": false,
   "title_cell": "Table of Contents",
   "title_sidebar": "Contents",
   "toc_cell": false,
   "toc_position": {},
   "toc_section_display": true,
   "toc_window_display": true
  }
 },
 "nbformat": 4,
 "nbformat_minor": 4
}
