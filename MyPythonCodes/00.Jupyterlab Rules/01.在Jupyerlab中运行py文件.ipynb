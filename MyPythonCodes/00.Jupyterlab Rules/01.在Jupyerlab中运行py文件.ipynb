{
 "cells": [
  {
   "cell_type": "markdown",
   "id": "37e0a5a2-9d97-440f-b9fd-740c16e3a1b1",
   "metadata": {},
   "source": [
    "# 把当前目录下的 .py 文件加载到 cell 中"
   ]
  },
  {
   "cell_type": "code",
   "execution_count": 9,
   "id": "d213e50a-e2f4-4145-aeba-d77c938e86cd",
   "metadata": {},
   "outputs": [
    {
     "name": "stdout",
     "output_type": "stream",
     "text": [
      "+++\n"
     ]
    }
   ],
   "source": [
    "# %load demo01.py\n",
    "a = '+++'\n",
    "print(a)"
   ]
  },
  {
   "cell_type": "markdown",
   "id": "04453605-cad2-46ba-a5a5-58ec736c63f0",
   "metadata": {},
   "source": [
    "# 直接运行当前目录下的 .py 文件"
   ]
  },
  {
   "cell_type": "code",
   "execution_count": 10,
   "id": "15425d6b-d0ec-4cfa-ab51-b34a06491e61",
   "metadata": {},
   "outputs": [
    {
     "name": "stdout",
     "output_type": "stream",
     "text": [
      "+++\n"
     ]
    }
   ],
   "source": [
    "%run demo01.py"
   ]
  }
 ],
 "metadata": {
  "kernelspec": {
   "display_name": "Python 3 (ipykernel)",
   "language": "python",
   "name": "python3"
  },
  "language_info": {
   "codemirror_mode": {
    "name": "ipython",
    "version": 3
   },
   "file_extension": ".py",
   "mimetype": "text/x-python",
   "name": "python",
   "nbconvert_exporter": "python",
   "pygments_lexer": "ipython3",
   "version": "3.11.4"
  },
  "widgets": {
   "application/vnd.jupyter.widget-state+json": {
    "state": {},
    "version_major": 2,
    "version_minor": 0
   }
  }
 },
 "nbformat": 4,
 "nbformat_minor": 5
}
