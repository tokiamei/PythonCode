{
 "cells": [
  {
   "cell_type": "code",
   "execution_count": null,
   "id": "602fb150-32f6-4fc2-b6fe-2e6b1dff9233",
   "metadata": {},
   "outputs": [],
   "source": []
  },
  {
   "cell_type": "code",
   "execution_count": null,
   "id": "62cfe36c-e2a2-4ef2-b320-e84a6f312f2f",
   "metadata": {
    "tags": []
   },
   "outputs": [],
   "source": [
    "# 练习【类】\n",
    "class Student(object):\n",
    "\tdef __init__(self, name, age):\n",
    "\t\tself.name = name\n",
    "\t\tself.age = age\n",
    "\tdef study(self, course_name):\n",
    "\t\tprint('%s正在学习%s.' % (self.name, course_name))\n",
    "\tdef watch_movie(self):\n",
    "\t\tif self.age < 18:\n",
    "\t\t\tprint('%s只能观看《熊出没》.' % self.name)\n",
    "\t\telse:\n",
    "\t\t\tprint('%s可以随便看.' % self.name)\n",
    "\t# 私有方法\n",
    "\tdef __bar(self):\n",
    "\t\tprint('+++')"
   ]
  },
  {
   "cell_type": "code",
   "execution_count": null,
   "id": "4a60c494-f5d1-4180-86ba-cbe05b6f263a",
   "metadata": {
    "tags": []
   },
   "outputs": [],
   "source": [
    "stu1 = Student('孙悟空', 1000)\n",
    "stu1.name\n",
    "stu1.age\n",
    "stu1.study('英语')\n",
    "stu1.watch_movie()\n",
    "\n",
    "stu1.name = '索伦森'\n",
    "\n",
    "# 因为是私有方法，所以无法访问\n",
    "# stu1.__bar()\n",
    "\n",
    "# Python 仅仅是给私有属性换了一个名字妨碍对他们的访问\n",
    "stu1._Student__bar()"
   ]
  },
  {
   "cell_type": "code",
   "execution_count": null,
   "id": "ff6a07f9-b82b-4aa7-bcb5-a099904aff12",
   "metadata": {
    "tags": []
   },
   "outputs": [],
   "source": [
    "\"\"\"\n",
    "定义一个类描述数字时钟\n",
    "\"\"\"\n",
    "\n",
    "import time\n",
    "\n",
    "class Clock(object):\n",
    "\t\"\"\"数字时钟\"\"\"\n",
    "\t\n",
    "\tdef __init__(self, hour = 0, minute = 0, second = 0):\n",
    "\t\t\"\"\"\n",
    "\t\t初始化方法\n",
    "\t\t:param hour: 时\n",
    "\t\t:param minute: 分\n",
    "\t\t:param second: 秒\n",
    "\t\t\"\"\"\n",
    "\t\tself._hour = hour\n",
    "\t\tself._minute = minute\n",
    "\t\tself._second = second\n",
    "\t\t\n",
    "\tdef run(self):\n",
    "\t\t\"\"\"走字\"\"\"\n",
    "\t\tself._second += 1\n",
    "\t\tif self._second == 60:\n",
    "\t\t\tself._second = 0\n",
    "\t\t\tself._minute += 1\n",
    "\t\t\tif self._minute == 60:\n",
    "\t\t\t\tself._minute = 0\n",
    "\t\t\t\tself._hour += 1\n",
    "\t\t\t\tif self._hour == 24:\n",
    "\t\t\t\t\tself._hour = 0\n",
    "\tdef show(self):\n",
    "\t\t\"\"\"显示时间\"\"\"\n",
    "\t\treturn \"%02d:%02d:%02d\" % (self._hour, self._minute, self._second)\n",
    "clock = Clock()\n",
    "while True:\n",
    "\tprint(clock.show())\n",
    "\ttime.sleep(1)\n",
    "\tclock.run()"
   ]
  },
  {
   "cell_type": "code",
   "execution_count": null,
   "id": "f43127ed-bb63-4865-974c-0bbef379ce32",
   "metadata": {
    "tags": []
   },
   "outputs": [],
   "source": [
    "\"\"\"\n",
    "定义一个类描述平面上的点并提供移动点和计算到另一个点距离的方法\n",
    "\"\"\"\n",
    "import math\n",
    "class Point(object):\n",
    "\tdef __init__(self, x = 0, y = 0):\n",
    "\t\tself._x = x\n",
    "\t\tself._y = y\n",
    "\tdef distance(self, point1):\n",
    "\t\treturn math.sqrt((self._x - point1._x) ** 2 + (self._y - point1._y) ** 2)\n",
    "\n",
    "p1 = Point(3, 4)\n",
    "p2 = Point(0, 0)\n",
    "p1.distance(p2)"
   ]
  }
 ],
 "metadata": {
  "kernelspec": {
   "display_name": "Python 3 (ipykernel)",
   "language": "python",
   "name": "python3"
  },
  "language_info": {
   "codemirror_mode": {
    "name": "ipython",
    "version": 3
   },
   "file_extension": ".py",
   "mimetype": "text/x-python",
   "name": "python",
   "nbconvert_exporter": "python",
   "pygments_lexer": "ipython3",
   "version": "3.9.6"
  }
 },
 "nbformat": 4,
 "nbformat_minor": 5
}
