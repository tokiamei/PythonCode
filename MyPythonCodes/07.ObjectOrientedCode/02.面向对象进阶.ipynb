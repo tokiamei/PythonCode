{
 "cells": [
  {
   "cell_type": "markdown",
   "id": "0cc42c98-3527-4264-99eb-433fdbcd55fd",
   "metadata": {},
   "source": [
    "# 类方法\n",
    "\n",
    "- 有的方法不属于某个对象，属于类\n",
    "- 和静态方法是比较类似的"
   ]
  },
  {
   "cell_type": "code",
   "execution_count": null,
   "id": "ca51b061-f26e-4dea-9dd5-fa32d5adff7b",
   "metadata": {
    "tags": []
   },
   "outputs": [],
   "source": [
    "from time import time, localtime, sleep\n",
    "\n",
    "class Clock(object):\n",
    "\t\"\"\"数字时钟\"\"\"\n",
    "\tdef __init__(self, hour = 0, minute = 0, second = 0):\n",
    "\t\tself._hour = hour\n",
    "\t\tself._minute = minute\n",
    "\t\tself._second = second\n",
    "\t# 第一个参数约定名为 cls，它代表当前类相关的信息的对象【类本身也是一个对象，有的地方称之为类的元数据对象】，通过参数我们呢可以获取和类相关的信息并且可以创造出类的对象\n",
    "\t\n",
    "\t@classmethod\n",
    "\tdef now(cls):\n",
    "\t\tctime = localtime(time())\n",
    "\t\treturn cls(ctime.tm_hour, ctime.tm_min, ctime.tm_sec)\n",
    "\t\n",
    "\tdef run(self):\n",
    "\t\t\"\"\"走字\"\"\"\n",
    "\t\tself._second += 1\n",
    "\t\tif self._second == 60:\n",
    "\t\t\tself._second = 0\n",
    "\t\t\tself._minute += 1\n",
    "\t\t\tif self._minute == 60:\n",
    "\t\t\t\tself._minute = 0\n",
    "\t\t\t\tself._hour += 1\n",
    "\t\t\t\tif self._hour == 24:\n",
    "\t\t\t\t\tself._hour = 0\n",
    "\tdef show(self):\n",
    "\t\t\"\"\"显示时间\"\"\"\n",
    "\t\treturn '%02d:%02d:%02d' % (self._hour, self._minute, self._second)\n",
    "\n",
    "# 通过类方法创建对象并获取系统时间\n",
    "clock = Clock.now()\n",
    "while True:\n",
    "\tprint(clock.show())\n",
    "\tsleep(1)\n",
    "\tclock.run()\n"
   ]
  },
  {
   "cell_type": "markdown",
   "id": "948d70dd-08ba-4b03-934a-3e461411b69f",
   "metadata": {},
   "source": [
    "# 类之间的关系\n",
    "\n",
    "1. 继承或泛化\n",
    "2. 关联\n",
    "3. 依赖"
   ]
  },
  {
   "cell_type": "markdown",
   "id": "a0c68e83-1bbe-4f9a-85e4-4a37d3f5a9a2",
   "metadata": {},
   "source": [
    "# 继承\n",
    "\n",
    "- 在已有类的基础上创建新类，让一个类从另一个类那里将属性和方法直接继承下来\n",
    "- 有效的减小开发的工作量，利于代码的维护"
   ]
  },
  {
   "cell_type": "code",
   "execution_count": 17,
   "id": "56bea4d8-0f12-49c1-9a77-fbe791886dc4",
   "metadata": {
    "execution": {
     "iopub.execute_input": "2022-09-20T07:43:38.384458Z",
     "iopub.status.busy": "2022-09-20T07:43:38.384012Z",
     "iopub.status.idle": "2022-09-20T07:43:38.402394Z",
     "shell.execute_reply": "2022-09-20T07:43:38.399138Z",
     "shell.execute_reply.started": "2022-09-20T07:43:38.384377Z"
    },
    "tags": []
   },
   "outputs": [
    {
     "name": "stdout",
     "output_type": "stream",
     "text": [
      "HHH正在看猪猪侠\n"
     ]
    }
   ],
   "source": [
    "class Person(object):\n",
    "\t\"\"\"人\"\"\"\n",
    "\tdef __init__(self, name, age):\n",
    "\t\tself._name = name\n",
    "\t\tself._age = age\n",
    "\t@property\n",
    "\tdef name(self):\n",
    "\t\treturn self._name\n",
    "\t@property\n",
    "\tdef age(self):\n",
    "\t\treturn self._age\n",
    "\t@age.setter\n",
    "\tdef age(self, age):\n",
    "\t\tself._age = age\n",
    "\tdef play(self):\n",
    "\t\tprint('%s正在愉快的玩耍' % self._name)\n",
    "\tdef watch_tv(self):\n",
    "\t\tif self._age >= 18: print('%s正在看钢铁侠' % self._name)\n",
    "\t\telse: print('%s正在看猪猪侠' % self._name)\n",
    "\n",
    "class Student(Person):\n",
    "\t\"\"\"学生\"\"\"\n",
    "\tdef __init__(self, name, age, grade):\n",
    "\t\tsuper().__init__(name, age)\n",
    "\t\tself._grade = grade\n",
    "\t@property\n",
    "\tdef grade(self):\n",
    "\t\treturn self._grade\n",
    "\t@grade.setter\n",
    "\tdef grade(self, grade):\n",
    "\t\tself._grade = grade\n",
    "\tdef study(self, course):\n",
    "\t\tprint('%s年级的%s正在学习%s' % (self._grade, self._name, course))\n",
    "\t\t\n",
    "class Teacher(Person):\n",
    "\t\"\"\"老师\"\"\"\n",
    "\tdef __init__(self, name, age, title):\n",
    "\t\tsuper().__init__(name, age)\n",
    "\t\tself._title = title\n",
    "\t@property\n",
    "\tdef title(self):\n",
    "\t\treturn self._title\n",
    "\t@title.setter\n",
    "\tdef title(self, title):\n",
    "\t\tself._title = title\n",
    "\tdef teach(self, course):\n",
    "\t\tprint('%s正在讲授%s' % (self._name, course))\n",
    "\n",
    "stu = Student('HHH', 5, 3)\n",
    "stu.watch_tv()"
   ]
  },
  {
   "cell_type": "markdown",
   "id": "d11e9e66-3069-4623-9262-bb3ef316e1f3",
   "metadata": {},
   "source": [
    "# 多态\n",
    "\n",
    "> 方法重写\n",
    "\n",
    "- 对父类已有的方法进行重写【给出新的实现版本】\n",
    "- 当我们调用这个经过子类重写的方法时，不同子类对象会表现出不同的行为，这个就是多态【poly-morphism】\n",
    "\n"
   ]
  },
  {
   "cell_type": "code",
   "execution_count": 18,
   "id": "31b9dcb0-4adb-4e07-9e17-9a8d11af3b10",
   "metadata": {
    "execution": {
     "iopub.execute_input": "2022-09-20T08:01:32.180341Z",
     "iopub.status.busy": "2022-09-20T08:01:32.180021Z",
     "iopub.status.idle": "2022-09-20T08:01:32.196201Z",
     "shell.execute_reply": "2022-09-20T08:01:32.194690Z",
     "shell.execute_reply.started": "2022-09-20T08:01:32.180276Z"
    },
    "tags": []
   },
   "outputs": [
    {
     "name": "stdout",
     "output_type": "stream",
     "text": [
      "旺财: 汪汪汪\n",
      "凯蒂: 喵喵喵\n",
      "大黄: 汪汪汪\n"
     ]
    }
   ],
   "source": [
    "from abc import ABCMeta, abstractmethod\n",
    "\n",
    "# 将 Pet 封装为抽象类【抽象类不能实例化，抽象类的存在就是为了其他类去继承它】\n",
    "class Pet(object, metaclass = ABCMeta):\n",
    "\t\"\"\"宠物\"\"\"\n",
    "\tdef __init__(self, nickname):\n",
    "\t\tself._nickname = nickname\n",
    "\t@property\n",
    "\tdef nickname(self):\n",
    "\t\treturn self._nickname\n",
    "\t@abstractmethod\n",
    "\tdef make_voice(self):\n",
    "\t\t\"\"\"发出声音\"\"\"\n",
    "\t\tpass\n",
    "\n",
    "class Dog(Pet):\n",
    "\t\"\"\"狗\"\"\"\n",
    "\tdef make_voice(self):\n",
    "\t\tprint('%s: 汪汪汪' % self._nickname)\n",
    "\n",
    "class Cat(Pet):\n",
    "\t\"\"\"猫\"\"\"\n",
    "\tdef make_voice(self):\n",
    "\t\tprint('%s: 喵喵喵' % self._nickname)\n",
    "\n",
    "pets = [Dog('旺财'), Cat('凯蒂'), Dog('大黄')]\n",
    "for pet in pets:\n",
    "\tpet.make_voice()"
   ]
  },
  {
   "cell_type": "markdown",
   "id": "0e917021-aa33-40d4-95e2-2cbf8a4f6a35",
   "metadata": {
    "execution": {
     "iopub.execute_input": "2022-09-20T08:03:30.036667Z",
     "iopub.status.busy": "2022-09-20T08:03:30.036378Z",
     "iopub.status.idle": "2022-09-20T08:03:30.041785Z",
     "shell.execute_reply": "2022-09-20T08:03:30.040558Z",
     "shell.execute_reply.started": "2022-09-20T08:03:30.036629Z"
    },
    "tags": []
   },
   "source": [
    "# 练习"
   ]
  },
  {
   "cell_type": "code",
   "execution_count": null,
   "id": "3e3c5ad1-aa43-4966-ba1c-ea26529dd4b2",
   "metadata": {},
   "outputs": [],
   "source": [
    "# 奥特曼打小怪兽\n",
    "\n",
    "from abc import ABCMeta, abstractclassmethod\n"
   ]
  }
 ],
 "metadata": {
  "kernelspec": {
   "display_name": "Python 3 (ipykernel)",
   "language": "python",
   "name": "python3"
  },
  "language_info": {
   "codemirror_mode": {
    "name": "ipython",
    "version": 3
   },
   "file_extension": ".py",
   "mimetype": "text/x-python",
   "name": "python",
   "nbconvert_exporter": "python",
   "pygments_lexer": "ipython3",
   "version": "3.9.6"
  },
  "widgets": {
   "application/vnd.jupyter.widget-state+json": {
    "state": {},
    "version_major": 2,
    "version_minor": 0
   }
  }
 },
 "nbformat": 4,
 "nbformat_minor": 5
}
