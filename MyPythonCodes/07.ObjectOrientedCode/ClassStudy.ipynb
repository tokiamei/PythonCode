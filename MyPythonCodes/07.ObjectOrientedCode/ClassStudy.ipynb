{
 "cells": [
  {
   "attachments": {},
   "cell_type": "markdown",
   "metadata": {
    "editable": true,
    "slideshow": {
     "slide_type": ""
    },
    "tags": []
   },
   "source": [
    "# 1、基础操作\n",
    "\n",
    "类是创建实例的模板，而实例则是一个一个具体的对象，各个实例拥有的数据都互相独立，互不影响；\n",
    "\n",
    "方法就是与实例绑定的函数，和普通函数不同，方法可以直接访问实例的数据；\n",
    "\n",
    "通过在实例上调用方法，我们就直接操作了对象内部的数据，但无需知道方法内部的实现细节。\n",
    "\n",
    "和静态语言不同，Python允许对实例变量绑定任何数据，也就是说，对于两个实例变量，虽然它们都是同一个类的不同实例，但拥有的变量名称都可能不同："
   ]
  },
  {
   "cell_type": "markdown",
   "metadata": {
    "execution": {
     "iopub.execute_input": "2024-11-08T13:15:29.497715Z",
     "iopub.status.busy": "2024-11-08T13:15:29.496021Z",
     "iopub.status.idle": "2024-11-08T13:15:29.519122Z",
     "shell.execute_reply": "2024-11-08T13:15:29.512003Z",
     "shell.execute_reply.started": "2024-11-08T13:15:29.497619Z"
    }
   },
   "source": [
    "## 1.1、创建类"
   ]
  },
  {
   "cell_type": "code",
   "execution_count": null,
   "metadata": {
    "editable": true,
    "scrolled": true,
    "slideshow": {
     "slide_type": ""
    },
    "tags": []
   },
   "outputs": [],
   "source": [
    "# 创建一个对象,object表示继承自object类\n",
    "class Student(object):\n",
    "    pass\n",
    "\n",
    "a = Student()\n",
    "print(a)\n",
    "print(Student)"
   ]
  },
  {
   "cell_type": "markdown",
   "metadata": {},
   "source": [
    "## 1.2、属性"
   ]
  },
  {
   "cell_type": "code",
   "execution_count": 45,
   "metadata": {
    "editable": true,
    "slideshow": {
     "slide_type": ""
    },
    "tags": [],
    "ExecuteTime": {
     "end_time": "2024-11-08T14:52:59.045012Z",
     "start_time": "2024-11-08T14:52:59.036071Z"
    }
   },
   "outputs": [],
   "source": [
    "class Person:\n",
    "  \"\"\" A simple example class \"\"\"\n",
    "  i = '索伦森' # 类属性\n",
    "\n",
    "  def f():\n",
    "    return 'hello world'"
   ]
  },
  {
   "cell_type": "code",
   "execution_count": 46,
   "metadata": {
    "ExecuteTime": {
     "end_time": "2024-11-08T14:53:01.047675Z",
     "start_time": "2024-11-08T14:53:01.032809Z"
    }
   },
   "outputs": [
    {
     "name": "stdout",
     "output_type": "stream",
     "text": [
      "索伦森\n"
     ]
    },
    {
     "data": {
      "text/plain": "'hello world'"
     },
     "execution_count": 46,
     "metadata": {},
     "output_type": "execute_result"
    }
   ],
   "source": [
    "Person.i\n",
    "print(Person.i)\n",
    "# 类可以直接访问方法\n",
    "Person.f()\n",
    "# Person.__doc__ "
   ]
  },
  {
   "cell_type": "code",
   "execution_count": null,
   "metadata": {
    "scrolled": true
   },
   "outputs": [],
   "source": [
    "obj = Person()\n",
    "obj, type(obj)"
   ]
  },
  {
   "cell_type": "markdown",
   "metadata": {},
   "source": [
    "## 1.3、构造函数"
   ]
  },
  {
   "cell_type": "code",
   "execution_count": null,
   "metadata": {},
   "outputs": [],
   "source": [
    "# __init__ 构造函数\n",
    "class Hero:\n",
    "  i = 10\n",
    "  def __init__(self, name = '小猪佩奇'):\n",
    "    self.name = name\n",
    "    print(self, self.__class__)\n",
    "  \n",
    "  def f(self):\n",
    "    return self.name + 'a'"
   ]
  },
  {
   "cell_type": "code",
   "execution_count": null,
   "metadata": {},
   "outputs": [],
   "source": [
    "x = Hero()\n",
    "x"
   ]
  },
  {
   "cell_type": "code",
   "execution_count": null,
   "metadata": {},
   "outputs": [],
   "source": [
    "hero = Hero(\"蜘蛛侠\")\n",
    "hero.f()"
   ]
  },
  {
   "cell_type": "markdown",
   "source": [
    "## 1.4、动态绑定方法\n",
    "\n",
    "1. 对实例绑定方法，仅对该实例有效，不对其他实例有效；\n",
    "2. 对类绑定方法，对所有实例有效。"
   ],
   "metadata": {
    "collapsed": false
   }
  },
  {
   "cell_type": "markdown",
   "source": [
    "### 1.4.1、绑定类方法"
   ],
   "metadata": {
    "collapsed": false
   }
  },
  {
   "cell_type": "code",
   "execution_count": 41,
   "outputs": [
    {
     "name": "stdout",
     "output_type": "stream",
     "text": [
      "我可以跑\n"
     ]
    }
   ],
   "source": [
    "class Ultraman(object):\n",
    "\tpass\n",
    "\n",
    "def run(self):\n",
    "\tprint('我可以跑')\n",
    "\n",
    "Ultraman.run = run\n",
    "a = Ultraman()\n",
    "a.run()"
   ],
   "metadata": {
    "collapsed": false,
    "ExecuteTime": {
     "end_time": "2024-11-08T14:25:26.623642Z",
     "start_time": "2024-11-08T14:25:26.612997Z"
    }
   }
  },
  {
   "cell_type": "markdown",
   "source": [
    "### 1.4.2、绑定实例方法"
   ],
   "metadata": {
    "collapsed": false
   }
  },
  {
   "cell_type": "code",
   "execution_count": 38,
   "outputs": [
    {
     "name": "stdout",
     "output_type": "stream",
     "text": [
      "我可以飞\n"
     ]
    }
   ],
   "source": [
    "class Ultraman(object):\n",
    "\tpass\n",
    "\n",
    "def fly(self):\n",
    "\tprint('我可以飞')\n",
    "\n",
    "from types import MethodType\n",
    "u = Ultraman()\n",
    "u.fly = MethodType(fly, u)\n",
    "u.fly()"
   ],
   "metadata": {
    "collapsed": false,
    "ExecuteTime": {
     "end_time": "2024-11-08T14:20:36.604752Z",
     "start_time": "2024-11-08T14:20:36.593154Z"
    }
   }
  },
  {
   "cell_type": "markdown",
   "metadata": {},
   "source": [
    "# 2、进阶操作"
   ]
  },
  {
   "cell_type": "markdown",
   "metadata": {},
   "source": [
    "## 2.1、Python 对私有属性的处理\n",
    "\n",
    "- 访问器与修改器\n",
    "- 限制对属性的访问与修改"
   ]
  },
  {
   "cell_type": "markdown",
   "source": [
    "### 2.1.1、「__Attribute__」私有化属性"
   ],
   "metadata": {
    "collapsed": false
   }
  },
  {
   "cell_type": "code",
   "execution_count": 29,
   "metadata": {
    "tags": [],
    "ExecuteTime": {
     "end_time": "2024-11-08T14:08:25.333167Z",
     "start_time": "2024-11-08T14:08:25.317734Z"
    }
   },
   "outputs": [],
   "source": [
    "# 属性前加【_】则该属性无法从外部访问\n",
    "class Person(object):\n",
    "\tdef __init__(self, name, age):\n",
    "\t\tself.__name = name\n",
    "\t\tself.__age = age"
   ]
  },
  {
   "cell_type": "code",
   "execution_count": 30,
   "metadata": {
    "ExecuteTime": {
     "end_time": "2024-11-08T14:08:31.251011Z",
     "start_time": "2024-11-08T14:08:31.243505Z"
    }
   },
   "outputs": [
    {
     "ename": "AttributeError",
     "evalue": "'Person' object has no attribute '__name'",
     "output_type": "error",
     "traceback": [
      "\u001B[0;31m---------------------------------------------------------------------------\u001B[0m",
      "\u001B[0;31mAttributeError\u001B[0m                            Traceback (most recent call last)",
      "Cell \u001B[0;32mIn[30], line 3\u001B[0m\n\u001B[1;32m      1\u001B[0m p \u001B[38;5;241m=\u001B[39m Person(\u001B[38;5;124m'\u001B[39m\u001B[38;5;124mxiaoxu\u001B[39m\u001B[38;5;124m'\u001B[39m, \u001B[38;5;241m26\u001B[39m)\n\u001B[1;32m      2\u001B[0m \u001B[38;5;66;03m# p.name = 'li'\u001B[39;00m\n\u001B[0;32m----> 3\u001B[0m \u001B[43mp\u001B[49m\u001B[38;5;241;43m.\u001B[39;49m\u001B[43m__name\u001B[49m\n",
      "\u001B[0;31mAttributeError\u001B[0m: 'Person' object has no attribute '__name'"
     ]
    }
   ],
   "source": [
    "p = Person('xiaoxu', 26)\n",
    "# p.name = 'li'\n",
    "p.__name"
   ]
  },
  {
   "cell_type": "code",
   "execution_count": 25,
   "metadata": {
    "ExecuteTime": {
     "end_time": "2024-11-08T14:02:30.441138Z",
     "start_time": "2024-11-08T14:02:30.426937Z"
    }
   },
   "outputs": [
    {
     "ename": "AttributeError",
     "evalue": "'Person' object has no attribute 'age'",
     "output_type": "error",
     "traceback": [
      "\u001B[0;31m---------------------------------------------------------------------------\u001B[0m",
      "\u001B[0;31mAttributeError\u001B[0m                            Traceback (most recent call last)",
      "Cell \u001B[0;32mIn[25], line 2\u001B[0m\n\u001B[1;32m      1\u001B[0m p\u001B[38;5;241m.\u001B[39mname \u001B[38;5;241m=\u001B[39m \u001B[38;5;124m'\u001B[39m\u001B[38;5;124mx\u001B[39m\u001B[38;5;124m'\u001B[39m\n\u001B[0;32m----> 2\u001B[0m \u001B[43mp\u001B[49m\u001B[38;5;241;43m.\u001B[39;49m\u001B[43mage\u001B[49m\n",
      "\u001B[0;31mAttributeError\u001B[0m: 'Person' object has no attribute 'age'"
     ]
    }
   ],
   "source": [
    "p.name = 'x'\n",
    "p.age"
   ]
  },
  {
   "cell_type": "code",
   "execution_count": 7,
   "metadata": {
    "ExecuteTime": {
     "end_time": "2024-11-08T13:50:41.830080Z",
     "start_time": "2024-11-08T13:50:41.811540Z"
    }
   },
   "outputs": [
    {
     "ename": "AttributeError",
     "evalue": "type object 'Person' has no attribute '__name'",
     "output_type": "error",
     "traceback": [
      "\u001B[0;31m---------------------------------------------------------------------------\u001B[0m",
      "\u001B[0;31mAttributeError\u001B[0m                            Traceback (most recent call last)",
      "Cell \u001B[0;32mIn[7], line 1\u001B[0m\n\u001B[0;32m----> 1\u001B[0m \u001B[43mPerson\u001B[49m\u001B[38;5;241;43m.\u001B[39;49m\u001B[43m__name\u001B[49m\n",
      "\u001B[0;31mAttributeError\u001B[0m: type object 'Person' has no attribute '__name'"
     ]
    }
   ],
   "source": [
    "Person.__name"
   ]
  },
  {
   "cell_type": "code",
   "execution_count": 33,
   "outputs": [
    {
     "name": "stdout",
     "output_type": "stream",
     "text": [
      "wo\n"
     ]
    },
    {
     "data": {
      "text/plain": "'xu'"
     },
     "execution_count": 33,
     "metadata": {},
     "output_type": "execute_result"
    }
   ],
   "source": [
    "# 创建方法来查看属性\n",
    "class Person1(object):\n",
    "\tdef __init__(self, name, age):\n",
    "\t\tself.__name = name\n",
    "\t\tself.__age = age\n",
    "\t\t\n",
    "\tdef get_name(self):\n",
    "\t\treturn self.__name\n",
    "\n",
    "a = Person1('xu', 25)\n",
    "a.get_name()\n",
    "a.name = 'wo'\n",
    "print(a.name)\n",
    "a.get_name()\n"
   ],
   "metadata": {
    "collapsed": false,
    "ExecuteTime": {
     "end_time": "2024-11-08T14:09:16.511196Z",
     "start_time": "2024-11-08T14:09:16.499735Z"
    }
   }
  },
  {
   "cell_type": "markdown",
   "source": [
    "### 2.1.2、「@property」\n",
    "\n",
    "1、利用方法对参数作一定的处理，限制输入与输出；\n",
    "2、可以将属性限制为只读；"
   ],
   "metadata": {
    "collapsed": false
   }
  },
  {
   "cell_type": "code",
   "execution_count": null,
   "metadata": {},
   "outputs": [],
   "source": [
    "class Person(object):\n",
    "\tdef __init__(self, name, age):\n",
    "\t\tself._name = name\n",
    "\t\tself._age = age\n",
    "        \n",
    "\t@property\n",
    "\tdef name(self):\n",
    "\t\treturn self._name\n",
    "        \n",
    "\t@property\n",
    "\tdef age(self):\n",
    "\t\treturn self._age\n",
    "\t# 修改器 - setter【没有修改器就无法修改这个属性了】\n",
    "\t@age.setter\n",
    "\tdef age(self, age):\n",
    "\t\tself._age = age\n",
    "\tdef play(self):\n",
    "\t\tif self.age <= 16:\n",
    "\t\t\tprint(\"%s不准玩游戏\" % self.name)\n",
    "\t\telse:\n",
    "\t\t\tprint(\"%s随便玩游戏\")"
   ]
  },
  {
   "cell_type": "code",
   "execution_count": null,
   "metadata": {},
   "outputs": [],
   "source": [
    "class Student(object):\n",
    "    @property\n",
    "    def score(self):\n",
    "        return self._score\n",
    "\n",
    "    @score.setter\n",
    "    def score(self, value):\n",
    "        if not isinstance(value, int):\n",
    "            raise ValueError('score must be an integer!')\n",
    "        if value < 0 or value > 100:\n",
    "            raise ValueError('score must between 0 ~ 100!')\n",
    "        self._score = value"
   ]
  },
  {
   "cell_type": "code",
   "execution_count": null,
   "metadata": {},
   "outputs": [],
   "source": [
    "s = Student()\n",
    "s.score = 99"
   ]
  },
  {
   "cell_type": "markdown",
   "source": [
    "## 2.2、「__slots__」限制属性｜方法的动态绑定"
   ],
   "metadata": {
    "collapsed": false
   }
  },
  {
   "cell_type": "code",
   "execution_count": 44,
   "outputs": [
    {
     "data": {
      "text/plain": "'wan'"
     },
     "execution_count": 44,
     "metadata": {},
     "output_type": "execute_result"
    }
   ],
   "source": [
    "class Teacher(object):\n",
    "\t__slots__ = ('name', 'age')\n",
    "\t\n",
    "a = Teacher()\n",
    "# a.height = 175\n",
    "a.name = 'wan'\n",
    "a.name"
   ],
   "metadata": {
    "collapsed": false,
    "ExecuteTime": {
     "end_time": "2024-11-08T14:34:07.221777Z",
     "start_time": "2024-11-08T14:34:07.211815Z"
    }
   }
  },
  {
   "cell_type": "markdown",
   "source": [
    "## 2.3、静态方法\n",
    "\n",
    "可以通过类或者类构造的实例来访问"
   ],
   "metadata": {
    "collapsed": false
   }
  },
  {
   "cell_type": "code",
   "execution_count": 51,
   "outputs": [
    {
     "name": "stdout",
     "output_type": "stream",
     "text": [
      "12\n",
      "+++ True\n"
     ]
    }
   ],
   "source": [
    "import math\n",
    "\n",
    "class Triangle(object):\n",
    "\tdef __init__(self, a, b, c):\n",
    "\t\tself._a = a\n",
    "\t\tself._b = b\n",
    "\t\tself._c = c\n",
    "\t\n",
    "\t@staticmethod\n",
    "\tdef is_valid(a, b, c):\n",
    "\t\treturn a + b > c and b + c > a and a + c > b\n",
    "\tdef perimeter(self):\n",
    "\t\treturn self._a + self._b + self._c\n",
    "\tdef area(self):\n",
    "\t\thalf = self.perimeter() / 2\n",
    "\t\treturn sqrt(half * (half - self._a) * (half - self._b) * (half - self._c))\n",
    "\n",
    "a, b, c = 3, 4, 5\n",
    "if Triangle.is_valid(a, b, c):\n",
    "\tt = Triangle(a, b, c)\n",
    "\tprint(t.perimeter())\n",
    "\tprint('+++', t.is_valid(a, b, c))\n",
    "else:\n",
    "\tprint('无法构成三角形')"
   ],
   "metadata": {
    "collapsed": false,
    "ExecuteTime": {
     "end_time": "2024-11-08T15:01:22.347958Z",
     "start_time": "2024-11-08T15:01:22.340118Z"
    }
   }
  },
  {
   "cell_type": "code",
   "execution_count": null,
   "outputs": [],
   "source": [],
   "metadata": {
    "collapsed": false
   }
  }
 ],
 "metadata": {
  "kernelspec": {
   "display_name": "Python 3 (ipykernel)",
   "language": "python",
   "name": "python3"
  },
  "language_info": {
   "codemirror_mode": {
    "name": "ipython",
    "version": 3
   },
   "file_extension": ".py",
   "mimetype": "text/x-python",
   "name": "python",
   "nbconvert_exporter": "python",
   "pygments_lexer": "ipython3",
   "version": "3.9.6"
  },
  "vscode": {
   "interpreter": {
    "hash": "96b71d9b0255b05b2be31cfcb5ea5500d86eab633fcfd6b803722470524a431e"
   }
  },
  "widgets": {
   "application/vnd.jupyter.widget-state+json": {
    "state": {},
    "version_major": 2,
    "version_minor": 0
   }
  }
 },
 "nbformat": 4,
 "nbformat_minor": 4
}
