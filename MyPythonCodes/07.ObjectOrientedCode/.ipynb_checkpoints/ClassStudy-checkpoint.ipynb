{
 "cells": [
  {
   "attachments": {},
   "cell_type": "markdown",
   "metadata": {
    "editable": true,
    "slideshow": {
     "slide_type": ""
    },
    "tags": []
   },
   "source": [
    "# 1、基础操作\n",
    "\n",
    "类是创建实例的模板，而实例则是一个一个具体的对象，各个实例拥有的数据都互相独立，互不影响；\n",
    "\n",
    "方法就是与实例绑定的函数，和普通函数不同，方法可以直接访问实例的数据；\n",
    "\n",
    "通过在实例上调用方法，我们就直接操作了对象内部的数据，但无需知道方法内部的实现细节。\n",
    "\n",
    "和静态语言不同，Python允许对实例变量绑定任何数据，也就是说，对于两个实例变量，虽然它们都是同一个类的不同实例，但拥有的变量名称都可能不同："
   ]
  },
  {
   "cell_type": "markdown",
   "metadata": {
    "execution": {
     "iopub.execute_input": "2024-11-08T13:15:29.497715Z",
     "iopub.status.busy": "2024-11-08T13:15:29.496021Z",
     "iopub.status.idle": "2024-11-08T13:15:29.519122Z",
     "shell.execute_reply": "2024-11-08T13:15:29.512003Z",
     "shell.execute_reply.started": "2024-11-08T13:15:29.497619Z"
    }
   },
   "source": [
    "## 1.1、创建类"
   ]
  },
  {
   "cell_type": "code",
   "execution_count": null,
   "metadata": {
    "editable": true,
    "scrolled": true,
    "slideshow": {
     "slide_type": ""
    },
    "tags": []
   },
   "outputs": [],
   "source": [
    "# 创建一个对象,object表示继承自object类\n",
    "class Student(object):\n",
    "    pass\n",
    "\n",
    "a = Student()\n",
    "print(a)\n",
    "print(Student)"
   ]
  },
  {
   "cell_type": "markdown",
   "metadata": {},
   "source": [
    "## 1.2、属性"
   ]
  },
  {
   "cell_type": "code",
   "execution_count": null,
   "metadata": {
    "editable": true,
    "slideshow": {
     "slide_type": ""
    },
    "tags": []
   },
   "outputs": [],
   "source": [
    "class Person:\n",
    "  \"\"\" A simple example class \"\"\"\n",
    "  i = '索伦森' # 类属性\n",
    "\n",
    "  def f():\n",
    "    return 'hello world'"
   ]
  },
  {
   "cell_type": "code",
   "execution_count": null,
   "metadata": {},
   "outputs": [],
   "source": [
    "Person.i\n",
    "print(Person.i)\n",
    "# 类可以直接访问方法\n",
    "Person.f()\n",
    "# Person.__doc__ "
   ]
  },
  {
   "cell_type": "code",
   "execution_count": null,
   "metadata": {
    "scrolled": true
   },
   "outputs": [],
   "source": [
    "obj = Person()\n",
    "obj, type(obj)"
   ]
  },
  {
   "cell_type": "markdown",
   "metadata": {},
   "source": [
    "## 1.3、构造函数"
   ]
  },
  {
   "cell_type": "code",
   "execution_count": null,
   "metadata": {},
   "outputs": [],
   "source": [
    "# __init__ 构造函数\n",
    "class Hero:\n",
    "  i = 10\n",
    "  def __init__(self, name = '小猪佩奇'):\n",
    "    self.name = name\n",
    "    print(self, self.__class__)\n",
    "  \n",
    "  def f(self):\n",
    "    return self.name + 'a'"
   ]
  },
  {
   "cell_type": "code",
   "execution_count": null,
   "metadata": {},
   "outputs": [],
   "source": [
    "x = Hero()\n",
    "x"
   ]
  },
  {
   "cell_type": "code",
   "execution_count": null,
   "metadata": {},
   "outputs": [],
   "source": [
    "hero = Hero(\"蜘蛛侠\")\n",
    "hero.f()"
   ]
  },
  {
   "cell_type": "markdown",
   "metadata": {},
   "source": [
    "# 2、进阶操作"
   ]
  },
  {
   "cell_type": "markdown",
   "metadata": {},
   "source": [
    "## 2.1、Python 对私有属性的处理\n",
    "\n",
    "- 访问器与修改器\n",
    "- 限制对属性的访问与修改"
   ]
  },
  {
   "cell_type": "code",
   "execution_count": null,
   "metadata": {
    "tags": []
   },
   "outputs": [],
   "source": [
    "# 属性前加【_】则该属性无法从外部访问\n",
    "class Person(object):\n",
    "\tdef __init__(self, name, age):\n",
    "\t\tself.__name = name\n",
    "\t\tself.__age = age\n",
    "        "
   ]
  },
  {
   "cell_type": "code",
   "execution_count": null,
   "metadata": {},
   "outputs": [],
   "source": [
    "p = Person('xiaoxu', 26)\n",
    "# p.name = 'li'\n",
    "p.__name"
   ]
  },
  {
   "cell_type": "code",
   "execution_count": null,
   "metadata": {},
   "outputs": [],
   "source": [
    "p.name"
   ]
  },
  {
   "cell_type": "code",
   "execution_count": null,
   "metadata": {},
   "outputs": [],
   "source": []
  },
  {
   "cell_type": "code",
   "execution_count": null,
   "metadata": {},
   "outputs": [],
   "source": []
  },
  {
   "cell_type": "code",
   "execution_count": null,
   "metadata": {},
   "outputs": [],
   "source": [
    "class Person(object):\n",
    "\tdef __init__(self, name, age):\n",
    "\t\tself._name = name\n",
    "\t\tself._age = age\n",
    "        \n",
    "\t\n",
    "\t@property\n",
    "\tdef name(self):\n",
    "\t\treturn self._name\n",
    "        \n",
    "\t@property\n",
    "\tdef age(self):\n",
    "\t\treturn self._age\n",
    "\t# 修改器 - setter【没有修改器就无法修改这个属性了】\n",
    "\t@age.setter\n",
    "\tdef age(self, age):\n",
    "\t\tself._age = age\n",
    "\tdef play(self):\n",
    "\t\tif self.age <= 16:\n",
    "\t\t\tprint(\"%s不准玩游戏\" % self.name)\n",
    "\t\telse:\n",
    "\t\t\tprint(\"%s随便玩游戏\")"
   ]
  },
  {
   "cell_type": "code",
   "execution_count": null,
   "metadata": {},
   "outputs": [],
   "source": [
    "# 为了防止对score进行随意修改，可以通过一个set_score()方法来设置成绩，再通过一个get_score()来获取成绩，这样，在set_score()方法里，就可以检查参数\n",
    "\n",
    "class Student():\n",
    "    def get_score(self):\n",
    "         return self._score\n",
    "\n",
    "    def set_score(self, value):\n",
    "        if not isinstance(value, int):\n",
    "            raise ValueError('score must be an integer!')\n",
    "        if value < 0 or value > 100:\n",
    "            raise ValueError('score must between 0 ~ 100!')\n",
    "        self._score = value"
   ]
  },
  {
   "cell_type": "code",
   "execution_count": null,
   "metadata": {},
   "outputs": [],
   "source": [
    "s = Student()\n",
    "s.score = 100\n",
    "s.score \n"
   ]
  },
  {
   "cell_type": "code",
   "execution_count": null,
   "metadata": {},
   "outputs": [],
   "source": [
    "class Student(object):\n",
    "    @property\n",
    "    def score(self):\n",
    "        return self._score\n",
    "\n",
    "    @score.setter\n",
    "    def score(self, value):\n",
    "        if not isinstance(value, int):\n",
    "            raise ValueError('score must be an integer!')\n",
    "        if value < 0 or value > 100:\n",
    "            raise ValueError('score must between 0 ~ 100!')\n",
    "        self._score = value"
   ]
  },
  {
   "cell_type": "code",
   "execution_count": null,
   "metadata": {},
   "outputs": [],
   "source": [
    "s = Student()\n",
    "s.score = 99"
   ]
  }
 ],
 "metadata": {
  "kernelspec": {
   "display_name": "Python 3 (ipykernel)",
   "language": "python",
   "name": "python3"
  },
  "language_info": {
   "codemirror_mode": {
    "name": "ipython",
    "version": 3
   },
   "file_extension": ".py",
   "mimetype": "text/x-python",
   "name": "python",
   "nbconvert_exporter": "python",
   "pygments_lexer": "ipython3",
   "version": "3.9.6"
  },
  "vscode": {
   "interpreter": {
    "hash": "96b71d9b0255b05b2be31cfcb5ea5500d86eab633fcfd6b803722470524a431e"
   }
  },
  "widgets": {
   "application/vnd.jupyter.widget-state+json": {
    "state": {},
    "version_major": 2,
    "version_minor": 0
   }
  }
 },
 "nbformat": 4,
 "nbformat_minor": 4
}
