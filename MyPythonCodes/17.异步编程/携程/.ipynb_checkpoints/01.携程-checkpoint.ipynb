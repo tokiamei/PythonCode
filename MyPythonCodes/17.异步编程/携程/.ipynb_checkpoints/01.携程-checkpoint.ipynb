{
 "cells": [
  {
   "cell_type": "markdown",
   "id": "fa6df5e6-91dd-43f7-a895-eeaea3c6ff6c",
   "metadata": {
    "tags": []
   },
   "source": [
    "# 1、携程\n",
    "\n",
    "## 1.1、什么是携程\n",
    "\n",
    "实现代码运行方式的改变【反复横跳】【利用 IO 等待的时间做点其他事】\n",
    "\n",
    "## 1.2、携程的意义\n",
    "\n",
    "在一个线程中如果遇到需要等待时间，线程不会傻等，利用空闲的时候干点其他事\n",
    "举例: 工厂的工人打开机器工作按钮，机器开始工作，工人去做别的事"
   ]
  },
  {
   "cell_type": "markdown",
   "id": "16c9d51d-b527-48bf-996f-d51b8d44fcc6",
   "metadata": {
    "tags": []
   },
   "source": [
    "# 2、异步编程\n",
    "\n",
    "## 2.1、事件循环"
   ]
  },
  {
   "cell_type": "code",
   "execution_count": null,
   "id": "5b24dd6c-2d74-40d8-b35c-bd40e42f1733",
   "metadata": {
    "tags": []
   },
   "outputs": [],
   "source": [
    "import asyncio\n",
    "# 生成或获取一个事件循环\n",
    "# loop = asyncio.get_event_loop()\n",
    "# 将任务放到事件循环中\n",
    "# loop.run_until_complete(任务)"
   ]
  },
  {
   "cell_type": "markdown",
   "id": "91f0ca54-5fe1-4b7a-aea1-ad715c675f45",
   "metadata": {
    "tags": []
   },
   "source": [
    "## 2.2、快速上手\n",
    "\n",
    "携程函数: async def 函数名\n",
    "携程对象: 执行行携程函数得到的对象【得到对象过程中，函数内部代码不会执行】\n",
    "\n",
    "```python\n",
    "async def f:\n",
    "    pass\n",
    "result = f() # 这就是携程对象\n",
    "```\n"
   ]
  },
  {
   "cell_type": "code",
   "execution_count": null,
   "id": "cc9806bc-172a-4819-9aae-31af068fa6a7",
   "metadata": {},
   "outputs": [],
   "source": [
    "import asyncio\n",
    "import nest_asyncio\n",
    "nest_asyncio.apply()"
   ]
  },
  {
   "cell_type": "code",
   "execution_count": null,
   "id": "c204f73c-214b-4e8e-98f7-2750332d2c6d",
   "metadata": {},
   "outputs": [],
   "source": [
    "# 简单入门\n",
    "async def func():\n",
    "    print('NICE DAY')\n",
    "result = func()\n",
    "\n",
    "# loop = asyncio.get_event_loop()\n",
    "# loop.run_until_complete(result)\n",
    "asyncio.run(result)"
   ]
  },
  {
   "cell_type": "markdown",
   "id": "3676a983-2878-4538-9bb8-acd58e6ccfb3",
   "metadata": {
    "tags": []
   },
   "source": [
    "## 2.3、await\n",
    "\n",
    "await + 可等待对象【携程对象、Future 对象、tasks 对象==>IO 等待】"
   ]
  },
  {
   "cell_type": "code",
   "execution_count": null,
   "id": "23c5cd3a-1b04-48d7-a5b6-ea9b6f154c79",
   "metadata": {},
   "outputs": [],
   "source": [
    "async def f():\n",
    "    print('start')\n",
    "    response = await asyncio.sleep(2)\n",
    "    print('end')\n",
    "    \n",
    "print('我是主线程上的代码')\n",
    "asyncio.run(f())"
   ]
  },
  {
   "cell_type": "code",
   "execution_count": null,
   "id": "b3cec55b-65d6-4c69-ab71-4942dc0786c2",
   "metadata": {},
   "outputs": [],
   "source": [
    "# 疑问 ？ 主线程代码为什么不先执行【和 JS 一样，因为 要等 await】\n",
    "async def f():\n",
    "    print('start')\n",
    "    response = await asyncio.sleep(2)\n",
    "    print('end')\n",
    "    \n",
    "print('我是主线程上的代码')\n",
    "asyncio.run(f())"
   ]
  },
  {
   "cell_type": "code",
   "execution_count": null,
   "id": "7b2d8935-09be-4cbf-aeb8-980f6230e783",
   "metadata": {},
   "outputs": [],
   "source": [
    "# 第二个案例\n",
    "async def others():\n",
    "    print('start')\n",
    "    await asyncio.sleep(2)\n",
    "    print('end')\n",
    "    return '返回值'\n",
    "\n",
    "async def h():\n",
    "    print('执行携程函数的内部代码')\n",
    "    response = await others()\n",
    "    print('IO 请求结束，结果为:', response)\n",
    "asyncio.run(h())"
   ]
  },
  {
   "cell_type": "markdown",
   "id": "9de7d68b-759f-4f97-99dd-ffff59556c13",
   "metadata": {},
   "source": [
    "# 2.4、task 对象"
   ]
  },
  {
   "cell_type": "code",
   "execution_count": 6,
   "id": "92035f95-5dc4-48c4-b803-83733845aea5",
   "metadata": {},
   "outputs": [
    {
     "name": "stdout",
     "output_type": "stream",
     "text": [
      "main 开始\n",
      "main 结束\n",
      "1\n",
      "1\n",
      "2\n",
      "2\n",
      "{<Task finished name='n1' coro=<func() done, defined at C:\\Windows\\Temp\\ipykernel_38560\\639532486.py:1> result='返回值'>, <Task finished name='n2' coro=<func() done, defined at C:\\Windows\\Temp\\ipykernel_38560\\639532486.py:1> result='返回值'>}\n"
     ]
    }
   ],
   "source": [
    "async def func():\n",
    "    print(1)\n",
    "    await asyncio.sleep(2)\n",
    "    print(2)\n",
    "    return '返回值'\n",
    "\n",
    "async def main():\n",
    "    print('main 开始')\n",
    "    \n",
    "    task_list = [\n",
    "        asyncio.create_task(func(), name = 'n1'),\n",
    "        asyncio.create_task(func(), name = 'n2')\n",
    "    ]\n",
    "    print('main 结束')\n",
    "    done, pending = await asyncio.wait(task_list, timeout = None)\n",
    "    print(done)\n",
    "asyncio.run(main())"
   ]
  }
 ],
 "metadata": {
  "kernelspec": {
   "display_name": "Python 3 (ipykernel)",
   "language": "python",
   "name": "python3"
  },
  "language_info": {
   "codemirror_mode": {
    "name": "ipython",
    "version": 3
   },
   "file_extension": ".py",
   "mimetype": "text/x-python",
   "name": "python",
   "nbconvert_exporter": "python",
   "pygments_lexer": "ipython3",
   "version": "3.9.9"
  }
 },
 "nbformat": 4,
 "nbformat_minor": 5
}
