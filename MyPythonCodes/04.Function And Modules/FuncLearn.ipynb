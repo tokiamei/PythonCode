{
 "cells": [
  {
   "cell_type": "code",
   "execution_count": null,
   "metadata": {},
   "outputs": [],
   "source": [
    "import numpy as np"
   ]
  },
  {
   "cell_type": "markdown",
   "metadata": {
    "tags": []
   },
   "source": [
    "# 1、函数的基本操作"
   ]
  },
  {
   "cell_type": "markdown",
   "metadata": {},
   "source": [
    "## 1.1、def 关键字"
   ]
  },
  {
   "cell_type": "code",
   "execution_count": null,
   "metadata": {},
   "outputs": [],
   "source": [
    "# 编写一个创造到 n 为止的斐波拉契数列的函数\n",
    "def fib(n):\n",
    "  \"\"\"Print a Fibonacci series up to n.\"\"\"\n",
    "  a, b = 0, 1\n",
    "  while a < n:\n",
    "    print(a, end=\" \")\n",
    "    a, b = b, a + b\n",
    "\n",
    "# 调用函数\n",
    "fib(10)\n",
    "# 查看这个函数到底是什么 ?\n",
    "# fib\n",
    "# 返回值\n",
    "# print(fib(0)) # None"
   ]
  },
  {
   "cell_type": "code",
   "execution_count": null,
   "metadata": {},
   "outputs": [],
   "source": [
    "# 编写不直接输出斐波那契数列运算结果，而是返回运算结果列表的函数\n",
    "def fib(n):\n",
    "  \"\"\"Print a Fibonacci series up to n.\"\"\"\n",
    "  result = []\n",
    "  a, b = 0, 1\n",
    "  while a < n:\n",
    "    result.append(a)\n",
    "    a, b = b, a + b\n",
    "  return result\n",
    "print(fib(2000))"
   ]
  },
  {
   "cell_type": "markdown",
   "metadata": {},
   "source": [
    "## 1.2、参数"
   ]
  },
  {
   "cell_type": "markdown",
   "metadata": {
    "jp-MarkdownHeadingCollapsed": true
   },
   "source": [
    "### 1.2.1、参数默认值\n",
    "\n",
    "- Python 由于支持函数默认值，就不需要函数的重载；\n",
    "- TS 也支持默认值。"
   ]
  },
  {
   "cell_type": "code",
   "execution_count": null,
   "metadata": {},
   "outputs": [],
   "source": [
    "# 不传就会是默认值\n",
    "def f(a, b = 2, c = 3):\n",
    "  print(a + b + c)\n",
    "\n",
    "f(2)"
   ]
  },
  {
   "cell_type": "code",
   "execution_count": null,
   "metadata": {},
   "outputs": [],
   "source": [
    "# 默认值在 定义 作用域里的函数定义中求值\n",
    "i = 5\n",
    "def f(arg = i):\n",
    "    print(arg)\n",
    "\n",
    "i = 6\n",
    "f()"
   ]
  },
  {
   "cell_type": "code",
   "execution_count": null,
   "metadata": {},
   "outputs": [],
   "source": [
    "#  默认值只计算一次。默认值为列表、字典或类实例等可变对象时，会产生与该规则不同的结果。\n",
    "# 例如，下面的函数会累积后续调用时传递的参数【类似于闭包】\n",
    "def f(a, L = []):\n",
    "    L.append(a)\n",
    "    return L\n",
    "\n",
    "print(f(1))\n",
    "print(f(2))\n",
    "print(f(3))"
   ]
  },
  {
   "cell_type": "code",
   "execution_count": null,
   "metadata": {},
   "outputs": [],
   "source": [
    "# 不想在后续调用之间共享默认值时，应以如下方式编写函数\n",
    "def f(a, L = None):\n",
    "    if L is None:\n",
    "        L = []\n",
    "    L.append(a)\n",
    "    return L"
   ]
  },
  {
   "cell_type": "markdown",
   "metadata": {
    "jp-MarkdownHeadingCollapsed": true
   },
   "source": [
    "### 1.2.2、`*` 的用法\n",
    "\n",
    "> 在参数名前的 * 表示参数是可变参数"
   ]
  },
  {
   "cell_type": "code",
   "execution_count": null,
   "metadata": {},
   "outputs": [],
   "source": [
    "# python 漏传参数或多传参数都会报错\n",
    "def f(a, b):\n",
    "    print(a, b)\n",
    "f(1, 2)"
   ]
  },
  {
   "cell_type": "code",
   "execution_count": null,
   "metadata": {},
   "outputs": [],
   "source": [
    "# * 表示将第二个及之后的参数封装成元组\n",
    "def g(a, *b):\n",
    "    print(a, b)\n",
    "# g(1)\n",
    "g(1, 2, 3, 4, 5)"
   ]
  },
  {
   "cell_type": "markdown",
   "metadata": {},
   "source": [
    "### 1.2.3、`**`的用法"
   ]
  },
  {
   "cell_type": "code",
   "execution_count": null,
   "metadata": {},
   "outputs": [],
   "source": [
    "# ** 表示第二个及之后的参数封装成字典\n",
    "def t(a, ** b):\n",
    "    print(a, b)\n",
    "t(1, b = 3, k = 10)"
   ]
  },
  {
   "cell_type": "code",
   "execution_count": null,
   "metadata": {},
   "outputs": [],
   "source": [
    "# 在参数名前加 *\n",
    "def add(*args):\n",
    "\ttotal = 0\n",
    "\tfor arg in args:\n",
    "\t\ttotal += arg\n",
    "\treturn total\n",
    "add(1, 2, 100)"
   ]
  },
  {
   "cell_type": "markdown",
   "metadata": {},
   "source": [
    "## 1.3、全局变量与局部变量"
   ]
  },
  {
   "cell_type": "code",
   "execution_count": null,
   "metadata": {
    "tags": []
   },
   "outputs": [],
   "source": [
    "# 函数内部的变量可以看作是局部变量\n",
    "a = 'a'\n",
    "def f(x): \n",
    "    a = 3\n",
    "    print(a + x)\n",
    "f(1)\n",
    "print(a)"
   ]
  },
  {
   "cell_type": "code",
   "execution_count": null,
   "metadata": {
    "tags": []
   },
   "outputs": [],
   "source": [
    "# 全局变量\n",
    "def g(x):\n",
    "    global a\n",
    "    a = 100\n",
    "    print(a * x)\n",
    "a = 10\n",
    "g(2) # 200\n",
    "a = 20\n",
    "g(2) # 200"
   ]
  },
  {
   "cell_type": "markdown",
   "metadata": {
    "tags": []
   },
   "source": [
    "## 1.4、lambda 表达式\n",
    "\n",
    "```pythpn\n",
    "lambda a, b: a + b\n",
    "```"
   ]
  },
  {
   "cell_type": "markdown",
   "metadata": {},
   "source": [
    "### 1.4.1、创建方式"
   ]
  },
  {
   "cell_type": "code",
   "execution_count": null,
   "metadata": {},
   "outputs": [],
   "source": [
    "def f(n):\n",
    "  return lambda x: x + n\n",
    "\n",
    "g = f(1)\n",
    "g(2)"
   ]
  },
  {
   "cell_type": "code",
   "execution_count": null,
   "metadata": {},
   "outputs": [],
   "source": [
    "h = lambda x, ** y: print(x, y)\n",
    "# h(2, a = 4)\n",
    "h('a', l = \"ddd\")"
   ]
  },
  {
   "cell_type": "markdown",
   "metadata": {},
   "source": [
    "### 1.4.2、把匿名函数用作传递的实参"
   ]
  },
  {
   "cell_type": "code",
   "execution_count": null,
   "metadata": {},
   "outputs": [],
   "source": [
    "pairs = [(1, 'one'), (2, 'two'), (4, 'four'), (3, 'three')]\n",
    "pairs.sort(key = lambda pair: pair[0])\n",
    "pairs"
   ]
  },
  {
   "cell_type": "markdown",
   "metadata": {
    "execution": {
     "iopub.execute_input": "2024-11-23T04:49:21.696727Z",
     "iopub.status.busy": "2024-11-23T04:49:21.695825Z",
     "iopub.status.idle": "2024-11-23T04:49:21.702794Z",
     "shell.execute_reply": "2024-11-23T04:49:21.701767Z",
     "shell.execute_reply.started": "2024-11-23T04:49:21.696649Z"
    }
   },
   "source": [
    "### 1.4.3、列表推导式"
   ]
  },
  {
   "cell_type": "code",
   "execution_count": null,
   "metadata": {},
   "outputs": [],
   "source": [
    "# 使用列表推导式: [x for x in iterable] 创建 list\n",
    "a = range(6, 10)\n",
    "arr = [x for x in a]\n",
    "arr, type(arr)"
   ]
  },
  {
   "cell_type": "code",
   "execution_count": null,
   "metadata": {},
   "outputs": [],
   "source": [
    "li = ['1', '2', 3]\n",
    "\n",
    "lis = [float(x) for x in li]"
   ]
  },
  {
   "cell_type": "code",
   "execution_count": null,
   "metadata": {
    "scrolled": true
   },
   "outputs": [],
   "source": [
    "# 列表排序\n",
    "# sorted 和 list.sort() 区别\n",
    "arr = [3, 1, 0, 1, 10, 99, 22]\n",
    "sorted(arr)\n",
    "\n",
    "sorted({1: 'D', 2: 'B', 3: 'B', 4: 'E', 5: 'A'})"
   ]
  },
  {
   "cell_type": "markdown",
   "metadata": {},
   "source": [
    "# 2、数值型内建函数"
   ]
  },
  {
   "cell_type": "code",
   "execution_count": null,
   "metadata": {},
   "outputs": [],
   "source": [
    "abs(1 + 1j)\n",
    "\n",
    "# 四舍五入取整\n",
    "round(1.6)\n",
    "\n",
    "# 把取余的除数和余数结合起来，形成一个元组\n",
    "type(divmod(3, 2)) # tuple\n",
    "\n",
    "# 转换为浮点数\n",
    "float(2) # 2.0\n",
    "\n",
    "# 转换为布尔值\n",
    "bool(0)\n",
    "\n",
    "# 转换为整数【向下取整】\n",
    "int(1.3)\n",
    "\n",
    "# 返回对应的 ascii 值，传入的必须是 string\n",
    "ord('我')\n",
    "\n",
    "# 转换成 8 进制\n",
    "oct(1)\n",
    "\n",
    "# 16 进制\n",
    "hex(1)\n",
    "\n",
    "# 级数\n",
    "pow(2, 3)\n",
    "\n",
    "# 转换为复数\n",
    "complex(3)"
   ]
  },
  {
   "cell_type": "markdown",
   "metadata": {},
   "source": [
    "# 3、特殊函数"
   ]
  },
  {
   "cell_type": "markdown",
   "metadata": {},
   "source": [
    "## 1、`locals()`"
   ]
  },
  {
   "cell_type": "code",
   "execution_count": 10,
   "metadata": {
    "execution": {
     "iopub.execute_input": "2024-11-23T04:54:18.241113Z",
     "iopub.status.busy": "2024-11-23T04:54:18.240222Z",
     "iopub.status.idle": "2024-11-23T04:54:18.250936Z",
     "shell.execute_reply": "2024-11-23T04:54:18.250100Z",
     "shell.execute_reply.started": "2024-11-23T04:54:18.241029Z"
    }
   },
   "outputs": [
    {
     "data": {
      "text/plain": [
       "'hhh'"
      ]
     },
     "execution_count": 10,
     "metadata": {},
     "output_type": "execute_result"
    }
   ],
   "source": [
    "str = 'oneVariable'\n",
    "locals()[str] = 'hhh'\n",
    "# oneVariable, type(oneVariable)\n",
    "oneVariable"
   ]
  }
 ],
 "metadata": {
  "kernelspec": {
   "display_name": "Python 3 (ipykernel)",
   "language": "python",
   "name": "python3"
  },
  "language_info": {
   "codemirror_mode": {
    "name": "ipython",
    "version": 3
   },
   "file_extension": ".py",
   "mimetype": "text/x-python",
   "name": "python",
   "nbconvert_exporter": "python",
   "pygments_lexer": "ipython3",
   "version": "3.9.6"
  },
  "vscode": {
   "interpreter": {
    "hash": "96b71d9b0255b05b2be31cfcb5ea5500d86eab633fcfd6b803722470524a431e"
   }
  },
  "widgets": {
   "application/vnd.jupyter.widget-state+json": {
    "state": {},
    "version_major": 2,
    "version_minor": 0
   }
  }
 },
 "nbformat": 4,
 "nbformat_minor": 4
}
