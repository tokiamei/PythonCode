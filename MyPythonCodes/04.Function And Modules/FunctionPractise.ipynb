{
 "cells": [
  {
   "cell_type": "code",
   "execution_count": 1,
   "id": "2efe2ee7-3cd3-4647-9d77-31b9c4c9ffbc",
   "metadata": {
    "execution": {
     "iopub.execute_input": "2024-11-23T04:59:20.529111Z",
     "iopub.status.busy": "2024-11-23T04:59:20.528188Z",
     "iopub.status.idle": "2024-11-23T04:59:20.544078Z",
     "shell.execute_reply": "2024-11-23T04:59:20.542762Z",
     "shell.execute_reply.started": "2024-11-23T04:59:20.529057Z"
    }
   },
   "outputs": [],
   "source": [
    "import random"
   ]
  },
  {
   "cell_type": "code",
   "execution_count": 2,
   "id": "9f71b44a-e93f-4504-88f1-899e71c1dd18",
   "metadata": {
    "execution": {
     "iopub.execute_input": "2024-11-23T04:59:40.801154Z",
     "iopub.status.busy": "2024-11-23T04:59:40.800123Z",
     "iopub.status.idle": "2024-11-23T04:59:40.810147Z",
     "shell.execute_reply": "2024-11-23T04:59:40.809358Z",
     "shell.execute_reply.started": "2024-11-23T04:59:40.801086Z"
    }
   },
   "outputs": [
    {
     "name": "stdout",
     "output_type": "stream",
     "text": [
      "2 6\n",
      "2\n",
      "720\n"
     ]
    }
   ],
   "source": [
    "# calculate factorial\n",
    "num1 = random.randint(1, 10)\n",
    "num2 = random.randint(1, 10)\n",
    "print(num1, num2)\n",
    "def fac(num):\n",
    "\tsum = 1\n",
    "\tfor i in range(1, num + 1):\n",
    "\t\tsum *= i\n",
    "\tprint(sum)\n",
    "fac(num1)\n",
    "fac(num2)"
   ]
  }
 ],
 "metadata": {
  "kernelspec": {
   "display_name": "Python 3 (ipykernel)",
   "language": "python",
   "name": "python3"
  },
  "language_info": {
   "codemirror_mode": {
    "name": "ipython",
    "version": 3
   },
   "file_extension": ".py",
   "mimetype": "text/x-python",
   "name": "python",
   "nbconvert_exporter": "python",
   "pygments_lexer": "ipython3",
   "version": "3.9.6"
  }
 },
 "nbformat": 4,
 "nbformat_minor": 5
}
