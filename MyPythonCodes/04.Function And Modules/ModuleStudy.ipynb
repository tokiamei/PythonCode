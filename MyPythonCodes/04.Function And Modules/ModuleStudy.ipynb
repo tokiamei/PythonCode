{
 "cells": [
  {
   "cell_type": "markdown",
   "id": "65cf21c9-34c8-4637-891d-35b781ecc6e5",
   "metadata": {},
   "source": [
    "# 一、模块\n"
   ]
  },
  {
   "cell_type": "markdown",
   "id": "2b18282f-c91d-4fbb-8526-99c22f03632f",
   "metadata": {
    "tags": []
   },
   "source": [
    "## 为什么需要模块 ?\n",
    "\n",
    "- 解决命名空间冲突问题\n",
    "\n",
    "    最简单的场景就是在同一个.py文件中定义了两个同名函数，由于Python没有函数重载的概念，那么后面的定义会覆盖之前的定义，也就意味着两个函数同名函数实际上只有一个是存在的"
   ]
  },
  {
   "cell_type": "markdown",
   "id": "09742ea5-a72d-4b75-a063-70cc983f4c0d",
   "metadata": {},
   "source": [
    "## __name__ 的用法\n",
    "\n",
    "- __name__是Python中一个隐含的变量它代表了模块的名字\n",
    "- 只有被Python解释器直接执行的模块的名字才是__main__"
   ]
  },
  {
   "cell_type": "code",
   "execution_count": 1,
   "id": "a66d32a8-76b5-4e8f-85fb-33489fa1bc6e",
   "metadata": {
    "execution": {
     "iopub.execute_input": "2024-11-23T04:54:34.386237Z",
     "iopub.status.busy": "2024-11-23T04:54:34.385371Z",
     "iopub.status.idle": "2024-11-23T04:54:34.400040Z",
     "shell.execute_reply": "2024-11-23T04:54:34.399301Z",
     "shell.execute_reply.started": "2024-11-23T04:54:34.386193Z"
    },
    "tags": []
   },
   "outputs": [
    {
     "name": "stdout",
     "output_type": "stream",
     "text": [
      "__main__\n"
     ]
    }
   ],
   "source": [
    "print(__name__)"
   ]
  }
 ],
 "metadata": {
  "kernelspec": {
   "display_name": "Python 3 (ipykernel)",
   "language": "python",
   "name": "python3"
  },
  "language_info": {
   "codemirror_mode": {
    "name": "ipython",
    "version": 3
   },
   "file_extension": ".py",
   "mimetype": "text/x-python",
   "name": "python",
   "nbconvert_exporter": "python",
   "pygments_lexer": "ipython3",
   "version": "3.9.6"
  },
  "widgets": {
   "application/vnd.jupyter.widget-state+json": {
    "state": {},
    "version_major": 2,
    "version_minor": 0
   }
  }
 },
 "nbformat": 4,
 "nbformat_minor": 5
}
