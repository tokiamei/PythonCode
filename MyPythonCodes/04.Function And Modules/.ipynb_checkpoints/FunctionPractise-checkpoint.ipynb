{
 "cells": [
  {
   "cell_type": "code",
   "execution_count": 84,
   "id": "9f71b44a-e93f-4504-88f1-899e71c1dd18",
   "metadata": {},
   "outputs": [
    {
     "name": "stdout",
     "output_type": "stream",
     "text": [
      "7 9\n",
      "5040\n",
      "362880\n"
     ]
    }
   ],
   "source": [
    "\"\"\"\n",
    "求阶乘\n",
    "\"\"\"\n",
    "import random\n",
    "num1 = random.randint(1, 10)\n",
    "num2 = random.randint(1, 10)\n",
    "print(num1, num2)\n",
    "def fac(num):\n",
    "\tsum = 1\n",
    "\tfor i in range(1, num + 1):\n",
    "\t\tsum *= i\n",
    "\tprint(sum)\n",
    "fac(num1)\n",
    "fac(num2)"
   ]
  }
 ],
 "metadata": {
  "kernelspec": {
   "display_name": "Python 3 (ipykernel)",
   "language": "python",
   "name": "python3"
  },
  "language_info": {
   "codemirror_mode": {
    "name": "ipython",
    "version": 3
   },
   "file_extension": ".py",
   "mimetype": "text/x-python",
   "name": "python",
   "nbconvert_exporter": "python",
   "pygments_lexer": "ipython3",
   "version": "3.9.6"
  }
 },
 "nbformat": 4,
 "nbformat_minor": 5
}
