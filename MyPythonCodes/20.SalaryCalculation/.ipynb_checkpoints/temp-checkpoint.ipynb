{
 "cells": [
  {
   "cell_type": "code",
   "execution_count": 1,
   "id": "0a2c0b34-93ba-4ca2-b83c-671e52d45d43",
   "metadata": {
    "execution": {
     "iopub.execute_input": "2024-05-22T06:00:58.998467Z",
     "iopub.status.busy": "2024-05-22T06:00:58.997467Z",
     "iopub.status.idle": "2024-05-22T06:00:59.009682Z",
     "shell.execute_reply": "2024-05-22T06:00:59.009682Z",
     "shell.execute_reply.started": "2024-05-22T06:00:58.998467Z"
    }
   },
   "outputs": [
    {
     "data": {
      "text/plain": [
       "2203.71"
      ]
     },
     "execution_count": 1,
     "metadata": {},
     "output_type": "execute_result"
    }
   ],
   "source": [
    "863 + 38.18 + 77.93 + 8.76 + 650 + 7.38 + 70.58 + 39.88 + 35 + 8 + 7 + 398"
   ]
  },
  {
   "cell_type": "code",
   "execution_count": 4,
   "id": "2b5d9a14-5e40-4b08-8aa0-cf5eff421e77",
   "metadata": {
    "execution": {
     "iopub.execute_input": "2024-05-29T13:51:41.319410Z",
     "iopub.status.busy": "2024-05-29T13:51:41.319410Z",
     "iopub.status.idle": "2024-05-29T13:51:41.332701Z",
     "shell.execute_reply": "2024-05-29T13:51:41.331692Z",
     "shell.execute_reply.started": "2024-05-29T13:51:41.319410Z"
    }
   },
   "outputs": [
    {
     "data": {
      "text/plain": [
       "4968.470000000001"
      ]
     },
     "execution_count": 4,
     "metadata": {},
     "output_type": "execute_result"
    }
   ],
   "source": [
    "151.02 + 188.6 + 196.91 + 188.6 + 205.32 + 205.32 + 401.28 + 630 + 205.32 + 415.32 + 664.53 + 221.51 + 221.51 + 236 + 226.1"
   ]
  }
 ],
 "metadata": {
  "kernelspec": {
   "display_name": "Python 3 (ipykernel)",
   "language": "python",
   "name": "python3"
  },
  "language_info": {
   "codemirror_mode": {
    "name": "ipython",
    "version": 3
   },
   "file_extension": ".py",
   "mimetype": "text/x-python",
   "name": "python",
   "nbconvert_exporter": "python",
   "pygments_lexer": "ipython3",
   "version": "3.11.4"
  }
 },
 "nbformat": 4,
 "nbformat_minor": 5
}
