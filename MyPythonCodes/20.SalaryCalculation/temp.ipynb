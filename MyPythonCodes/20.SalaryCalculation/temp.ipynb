{
 "cells": [
  {
   "cell_type": "code",
   "execution_count": 1,
   "id": "0a2c0b34-93ba-4ca2-b83c-671e52d45d43",
   "metadata": {
    "execution": {
     "iopub.execute_input": "2024-05-22T06:00:58.998467Z",
     "iopub.status.busy": "2024-05-22T06:00:58.997467Z",
     "iopub.status.idle": "2024-05-22T06:00:59.009682Z",
     "shell.execute_reply": "2024-05-22T06:00:59.009682Z",
     "shell.execute_reply.started": "2024-05-22T06:00:58.998467Z"
    }
   },
   "outputs": [
    {
     "data": {
      "text/plain": [
       "2203.71"
      ]
     },
     "execution_count": 1,
     "metadata": {},
     "output_type": "execute_result"
    }
   ],
   "source": [
    "863 + 38.18 + 77.93 + 8.76 + 650 + 7.38 + 70.58 + 39.88 + 35 + 8 + 7 + 398"
   ]
  },
  {
   "cell_type": "code",
   "execution_count": 6,
   "id": "2b5d9a14-5e40-4b08-8aa0-cf5eff421e77",
   "metadata": {
    "execution": {
     "iopub.execute_input": "2024-05-29T14:08:20.275882Z",
     "iopub.status.busy": "2024-05-29T14:08:20.274881Z",
     "iopub.status.idle": "2024-05-29T14:08:20.285905Z",
     "shell.execute_reply": "2024-05-29T14:08:20.284887Z",
     "shell.execute_reply.started": "2024-05-29T14:08:20.275882Z"
    }
   },
   "outputs": [
    {
     "data": {
      "text/plain": [
       "4576.340000000001"
      ]
     },
     "execution_count": 6,
     "metadata": {},
     "output_type": "execute_result"
    }
   ],
   "source": [
    "151.02 + 188.6 + 196.91 + 188.6 + 205.32 + 205.32 + 401.28 + 630 + 205.32 + 415.32 + 664.53 + 221.51+ 219+ 221.51 + 236 + 226.1"
   ]
  },
  {
   "cell_type": "code",
   "execution_count": null,
   "id": "884a71d7-7858-48b9-a4fc-5c4c2cca213d",
   "metadata": {},
   "outputs": [],
   "source": [
    "thery_All = 13937.41"
   ]
  },
  {
   "cell_type": "code",
   "execution_count": null,
   "id": "45337241-3d51-410a-9bb4-fa7e7b73f29e",
   "metadata": {},
   "outputs": [],
   "source": [
    "shuidian = 150"
   ]
  },
  {
   "cell_type": "code",
   "execution_count": 2,
   "id": "a41328e9-b43c-4fd5-ba4d-c795c2962966",
   "metadata": {
    "execution": {
     "iopub.execute_input": "2024-05-31T04:43:51.451552Z",
     "iopub.status.busy": "2024-05-31T04:43:51.450553Z",
     "iopub.status.idle": "2024-05-31T04:43:51.458902Z",
     "shell.execute_reply": "2024-05-31T04:43:51.457893Z",
     "shell.execute_reply.started": "2024-05-31T04:43:51.451552Z"
    }
   },
   "outputs": [],
   "source": [
    "changbao = 863 + 649.84 + 7 + 8 + 35 + 78.06 + 164.65 + 398"
   ]
  },
  {
   "cell_type": "code",
   "execution_count": 4,
   "id": "03d8cc5d-149e-4bca-9c8d-4d2a2c0fa2b2",
   "metadata": {
    "execution": {
     "iopub.execute_input": "2024-05-31T04:47:08.935834Z",
     "iopub.status.busy": "2024-05-31T04:47:08.934836Z",
     "iopub.status.idle": "2024-05-31T04:47:08.945069Z",
     "shell.execute_reply": "2024-05-31T04:47:08.943052Z",
     "shell.execute_reply.started": "2024-05-31T04:47:08.935834Z"
    }
   },
   "outputs": [
    {
     "data": {
      "text/plain": [
       "2203.55"
      ]
     },
     "execution_count": 4,
     "metadata": {},
     "output_type": "execute_result"
    }
   ],
   "source": [
    "changbao"
   ]
  },
  {
   "cell_type": "code",
   "execution_count": 5,
   "id": "195a166c-e64f-468c-98ff-a3f146ec0a4b",
   "metadata": {
    "execution": {
     "iopub.execute_input": "2024-05-31T04:47:12.094044Z",
     "iopub.status.busy": "2024-05-31T04:47:12.093045Z",
     "iopub.status.idle": "2024-05-31T04:47:12.100943Z",
     "shell.execute_reply": "2024-05-31T04:47:12.099935Z",
     "shell.execute_reply.started": "2024-05-31T04:47:12.094044Z"
    }
   },
   "outputs": [],
   "source": [
    "beijing_zhiqian = 545 + 498 + 10 + 182.07 + 52.29"
   ]
  },
  {
   "cell_type": "code",
   "execution_count": 6,
   "id": "bfb73424-3a0d-4d67-b25a-ac052ed00787",
   "metadata": {
    "execution": {
     "iopub.execute_input": "2024-05-31T04:47:14.744529Z",
     "iopub.status.busy": "2024-05-31T04:47:14.742512Z",
     "iopub.status.idle": "2024-05-31T04:47:14.751820Z",
     "shell.execute_reply": "2024-05-31T04:47:14.750803Z",
     "shell.execute_reply.started": "2024-05-31T04:47:14.743512Z"
    }
   },
   "outputs": [
    {
     "data": {
      "text/plain": [
       "1287.36"
      ]
     },
     "execution_count": 6,
     "metadata": {},
     "output_type": "execute_result"
    }
   ],
   "source": [
    "beijing_zhiqian"
   ]
  },
  {
   "cell_type": "code",
   "execution_count": 9,
   "id": "93c03ba8-1aa1-4e5d-b2b5-c46327ef4e77",
   "metadata": {
    "execution": {
     "iopub.execute_input": "2024-05-31T04:52:55.604348Z",
     "iopub.status.busy": "2024-05-31T04:52:55.604348Z",
     "iopub.status.idle": "2024-05-31T04:52:55.610510Z",
     "shell.execute_reply": "2024-05-31T04:52:55.609478Z",
     "shell.execute_reply.started": "2024-05-31T04:52:55.604348Z"
    }
   },
   "outputs": [],
   "source": [
    "dongqi = 740 + 44 + 10 + 26 + 783.5 + 450 + 2000 + 170 + 5060 + 82 + 35 + 95 + 29 + 355 + 35.41 + 6.72 + 46.58 + 672.34 "
   ]
  },
  {
   "cell_type": "code",
   "execution_count": 10,
   "id": "efdd9ef1-cc86-4b68-9005-7919b95d26e3",
   "metadata": {
    "execution": {
     "iopub.execute_input": "2024-05-31T04:52:57.611015Z",
     "iopub.status.busy": "2024-05-31T04:52:57.610019Z",
     "iopub.status.idle": "2024-05-31T04:52:57.620418Z",
     "shell.execute_reply": "2024-05-31T04:52:57.618399Z",
     "shell.execute_reply.started": "2024-05-31T04:52:57.611015Z"
    }
   },
   "outputs": [
    {
     "data": {
      "text/plain": [
       "10640.55"
      ]
     },
     "execution_count": 10,
     "metadata": {},
     "output_type": "execute_result"
    }
   ],
   "source": [
    "dongqi"
   ]
  },
  {
   "cell_type": "code",
   "execution_count": 11,
   "id": "05393e17-8ef0-4b44-9b96-51dd26718d06",
   "metadata": {
    "execution": {
     "iopub.execute_input": "2024-05-31T04:53:22.395281Z",
     "iopub.status.busy": "2024-05-31T04:53:22.394266Z",
     "iopub.status.idle": "2024-05-31T04:53:22.401429Z",
     "shell.execute_reply": "2024-05-31T04:53:22.400416Z",
     "shell.execute_reply.started": "2024-05-31T04:53:22.395281Z"
    }
   },
   "outputs": [],
   "source": [
    "real_all = changbao + beijing_zhiqian + dongqi"
   ]
  },
  {
   "cell_type": "code",
   "execution_count": 12,
   "id": "d282e8dd-9a29-4c17-8db2-5765ef3e79ba",
   "metadata": {
    "execution": {
     "iopub.execute_input": "2024-05-31T04:53:26.480066Z",
     "iopub.status.busy": "2024-05-31T04:53:26.479068Z",
     "iopub.status.idle": "2024-05-31T04:53:26.489959Z",
     "shell.execute_reply": "2024-05-31T04:53:26.487930Z",
     "shell.execute_reply.started": "2024-05-31T04:53:26.480066Z"
    }
   },
   "outputs": [
    {
     "data": {
      "text/plain": [
       "14131.46"
      ]
     },
     "execution_count": 12,
     "metadata": {},
     "output_type": "execute_result"
    }
   ],
   "source": [
    "real_all"
   ]
  }
 ],
 "metadata": {
  "kernelspec": {
   "display_name": "Python 3 (ipykernel)",
   "language": "python",
   "name": "python3"
  },
  "language_info": {
   "codemirror_mode": {
    "name": "ipython",
    "version": 3
   },
   "file_extension": ".py",
   "mimetype": "text/x-python",
   "name": "python",
   "nbconvert_exporter": "python",
   "pygments_lexer": "ipython3",
   "version": "3.11.4"
  }
 },
 "nbformat": 4,
 "nbformat_minor": 5
}
