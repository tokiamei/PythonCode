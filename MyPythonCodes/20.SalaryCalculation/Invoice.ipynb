{
 "cells": [
  {
   "cell_type": "code",
   "execution_count": 6,
   "id": "84263215-2793-492c-9200-8ce9bc3d3210",
   "metadata": {
    "execution": {
     "iopub.execute_input": "2024-05-22T05:55:24.951296Z",
     "iopub.status.busy": "2024-05-22T05:55:24.950303Z",
     "iopub.status.idle": "2024-05-22T05:55:24.954329Z",
     "shell.execute_reply": "2024-05-22T05:55:24.954329Z",
     "shell.execute_reply.started": "2024-05-22T05:55:24.951296Z"
    }
   },
   "outputs": [],
   "source": [
    "train_price = 863\n",
    "plane_price = 650\n",
    "underground_price = 35 + 8 + 7\n",
    "taxi_price = 78.06 + 164.65\n",
    "hotel_price = 398"
   ]
  },
  {
   "cell_type": "code",
   "execution_count": 2,
   "id": "f9e0608d-3711-4218-b61a-c418d4201f53",
   "metadata": {
    "execution": {
     "iopub.execute_input": "2024-05-22T05:54:49.763010Z",
     "iopub.status.busy": "2024-05-22T05:54:49.762002Z",
     "iopub.status.idle": "2024-05-22T05:54:49.767996Z",
     "shell.execute_reply": "2024-05-22T05:54:49.767996Z",
     "shell.execute_reply.started": "2024-05-22T05:54:49.763010Z"
    }
   },
   "outputs": [],
   "source": [
    "def total_invoice_price(train_price, plane_price, underground_price, taxi_price, hotel_price):\n",
    "    return train_price + plane_price + underground_price + taxi_price + hotel_price\n"
   ]
  },
  {
   "cell_type": "code",
   "execution_count": 7,
   "id": "51c12db1-e4ee-428c-ab55-b9384e48331e",
   "metadata": {
    "execution": {
     "iopub.execute_input": "2024-05-22T05:55:26.800943Z",
     "iopub.status.busy": "2024-05-22T05:55:26.800943Z",
     "iopub.status.idle": "2024-05-22T05:55:26.807054Z",
     "shell.execute_reply": "2024-05-22T05:55:26.807054Z",
     "shell.execute_reply.started": "2024-05-22T05:55:26.800943Z"
    }
   },
   "outputs": [
    {
     "name": "stdout",
     "output_type": "stream",
     "text": [
      "2203.71\n"
     ]
    }
   ],
   "source": [
    "total_Price = total_invoice_price(train_price, plane_price, underground_price, taxi_price, hotel_price)\n",
    "print(total_Price)"
   ]
  }
 ],
 "metadata": {
  "kernelspec": {
   "display_name": "Python 3 (ipykernel)",
   "language": "python",
   "name": "python3"
  },
  "language_info": {
   "codemirror_mode": {
    "name": "ipython",
    "version": 3
   },
   "file_extension": ".py",
   "mimetype": "text/x-python",
   "name": "python",
   "nbconvert_exporter": "python",
   "pygments_lexer": "ipython3",
   "version": "3.11.4"
  }
 },
 "nbformat": 4,
 "nbformat_minor": 5
}
