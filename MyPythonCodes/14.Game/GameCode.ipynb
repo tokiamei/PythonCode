{
 "cells": [
  {
   "cell_type": "markdown",
   "id": "e343b9a8-81ac-4a0b-b1b0-57190a39d857",
   "metadata": {},
   "source": [
    "# 1、猜字游戏"
   ]
  },
  {
   "cell_type": "code",
   "execution_count": null,
   "id": "615518ac-cffe-4d5c-8c18-9630657b34fe",
   "metadata": {
    "editable": true,
    "jupyter": {
     "source_hidden": true
    },
    "slideshow": {
     "slide_type": ""
    },
    "tags": []
   },
   "outputs": [],
   "source": [
    "import random\n",
    "\n",
    "# 生命次数\n",
    "lives = 3\n",
    "\n",
    "# 神秘单词, 随机选择\n",
    "words = ['pizza', 'fairy', 'teeth', 'shirt', 'otter', 'plane']\n",
    "secret_word = random.choice(words)\n",
    "# print(secret_word)\n",
    "\n",
    "clue = list('?????')\n",
    "heart_symbol = u'\\u2764'\n",
    "\n",
    "guessed_word_correctly = False\n",
    "\n",
    "\n",
    "def update_clue(guessed_letter, secret_word, clue):\n",
    "    index = 0\n",
    "    while index < len(secret_word):\n",
    "        if guessed_letter == secret_word[index]:\n",
    "            clue[index] = guessed_letter\n",
    "        index = index + 1\n",
    "\n",
    "\n",
    "while lives > 0:\n",
    "    print(clue)\n",
    "    print('剩余生命次数: ' + heart_symbol * lives)\n",
    "    guess = input('猜测字母或者是整个单词: ')\n",
    "\n",
    "    if guess == secret_word:\n",
    "        guessed_word_correctly = True\n",
    "        break\n",
    "\n",
    "    if guess in secret_word:\n",
    "        update_clue(guess, secret_word, clue)\n",
    "    else:\n",
    "        print('错误。你丢了一条命\\n')\n",
    "        lives = lives - 1\n",
    "\n",
    "\n",
    "if guessed_word_correctly:\n",
    "    print('你赢了! 秘密单词是 ' + secret_word)\n",
    "else:\n",
    "    print('你输了! 秘密单词是 ' + secret_word)"
   ]
  },
  {
   "cell_type": "markdown",
   "id": "27dc7f26-4613-4f67-8620-8e911e76b29b",
   "metadata": {
    "editable": true,
    "execution": {
     "iopub.execute_input": "2023-10-12T04:07:15.376275Z",
     "iopub.status.busy": "2023-10-12T04:07:15.376275Z",
     "iopub.status.idle": "2023-10-12T04:07:15.386075Z",
     "shell.execute_reply": "2023-10-12T04:07:15.383644Z",
     "shell.execute_reply.started": "2023-10-12T04:07:15.376275Z"
    },
    "slideshow": {
     "slide_type": ""
    },
    "tags": []
   },
   "source": [
    "# 2、闹钟"
   ]
  },
  {
   "cell_type": "code",
   "execution_count": null,
   "id": "201e6a57-d615-4198-9911-d81402daa903",
   "metadata": {},
   "outputs": [],
   "source": [
    "from datetime import datetime\n",
    "# from playsound import playsound\n",
    "\n",
    "# 输入\n",
    "alarm_time = input(\"请输入闹钟时间, 示例: 09:50:00 am\\n\")\n",
    "# 时\n",
    "alarm_hour = alarm_time[0:2]\n",
    "# 分\n",
    "alarm_minute = alarm_time[3:5]\n",
    "# 秒\n",
    "alarm_seconds = alarm_time[6:8]\n",
    "# 上午或下午\n",
    "alarm_period = alarm_time[9:11].upper()\n",
    "print(\"完成闹钟设置..\")\n",
    "\n",
    "while True:\n",
    "    # print(\"♥\") # 无线月读\n",
    "    now = datetime.now()\n",
    "    current_hour = now.strftime(\"%I\")\n",
    "    current_minute = now.strftime(\"%M\")\n",
    "    current_seconds = now.strftime(\"%S\")\n",
    "    current_period = now.strftime(\"%p\")\n",
    "\n",
    "    # 时间判断\n",
    "    if alarm_period == current_period:\n",
    "        if alarm_hour == current_hour:\n",
    "            if alarm_minute == current_minute:\n",
    "                if alarm_seconds == current_seconds:\n",
    "                    print(\"起来啦!\")\n",
    "                    # 闹钟铃声\n",
    "                    # playsound('audio.mp3')\n",
    "                    \n",
    "                    break"
   ]
  },
  {
   "cell_type": "markdown",
   "id": "7db5b92f-b28b-4f0b-bd9d-13b16eb51b50",
   "metadata": {
    "execution": {
     "iopub.execute_input": "2023-10-12T07:31:35.990780Z",
     "iopub.status.busy": "2023-10-12T07:31:35.989840Z",
     "iopub.status.idle": "2023-10-12T07:31:35.995809Z",
     "shell.execute_reply": "2023-10-12T07:31:35.994759Z",
     "shell.execute_reply.started": "2023-10-12T07:31:35.990780Z"
    }
   },
   "source": [
    "# 3、掷骰子"
   ]
  },
  {
   "cell_type": "code",
   "execution_count": null,
   "id": "af926f7b-8a09-411a-a0e9-d0e78bbe03fd",
   "metadata": {},
   "outputs": [],
   "source": [
    "import random\n",
    "\n",
    "# 设置最大值和最小值\n",
    "min_val = 1\n",
    "max_val = 6\n",
    "\n",
    "# 是否继续\n",
    "roll_again = \"yes\"\n",
    "\n",
    "# 循环\n",
    "while roll_again == \"yes\" or roll_again == \"y\":\n",
    "    print(\"开始掷骰子\")\n",
    "    print(\"骰子数值是 :\")\n",
    "\n",
    "    # 第一轮\n",
    "    print(random.randint(min_val, max_val))\n",
    "\n",
    "    # 第二轮y\n",
    "    \n",
    "    print(random.randint(min_val, max_val))\n",
    "\n",
    "    # 是否继续\n",
    "    roll_again = input(\"是否继续掷骰子?(是的话, 输入yes或者y)\")"
   ]
  },
  {
   "cell_type": "markdown",
   "id": "3311cb82-cadd-42e6-ac9a-67709151bd30",
   "metadata": {},
   "source": [
    "# 4、生成二维码"
   ]
  },
  {
   "cell_type": "code",
   "execution_count": null,
   "id": "2d2c43c8-d904-4271-b487-6f8de4b2e9de",
   "metadata": {},
   "outputs": [],
   "source": [
    "import pyqrcode\n",
    "\n",
    "# 设置二维码信息\n",
    "s = \"https://www.baidu.com\"\n",
    "\n",
    "# 生成二维码\n",
    "url = pyqrcode.create(s)\n",
    "\n",
    "# 保存二维码\n",
    "url.svg(\"baidu.svg\", scale=8)"
   ]
  },
  {
   "cell_type": "markdown",
   "id": "7f4150c3-f650-4b00-9fa4-76d38d28b53c",
   "metadata": {},
   "source": [
    "# 5、语言检测\n",
    "当你需要处理包含不同语言数据，且数据非常大的时候，语言检测就派上用场了。\n",
    "\n",
    "使用Python中的langdetect包，可以在几行代码内检测超过55种不同的语言"
   ]
  },
  {
   "cell_type": "code",
   "execution_count": 43,
   "id": "8d5f176e-4257-4fa3-ab74-e2c08a5cc301",
   "metadata": {
    "execution": {
     "iopub.execute_input": "2023-10-12T09:07:23.703713Z",
     "iopub.status.busy": "2023-10-12T09:07:23.701714Z",
     "iopub.status.idle": "2023-10-12T09:07:28.614053Z",
     "shell.execute_reply": "2023-10-12T09:07:28.612835Z",
     "shell.execute_reply.started": "2023-10-12T09:07:23.703713Z"
    }
   },
   "outputs": [
    {
     "name": "stdin",
     "output_type": "stream",
     "text": [
      "输入信息:  这是什么\n"
     ]
    },
    {
     "name": "stdout",
     "output_type": "stream",
     "text": [
      "zh-cn\n"
     ]
    }
   ],
   "source": [
    "from langdetect import detect\n",
    "\n",
    "text = input(\"输入信息: \")\n",
    "print(detect(text))"
   ]
  }
 ],
 "metadata": {
  "kernelspec": {
   "display_name": "Python 3 (ipykernel)",
   "language": "python",
   "name": "python3"
  },
  "language_info": {
   "codemirror_mode": {
    "name": "ipython",
    "version": 3
   },
   "file_extension": ".py",
   "mimetype": "text/x-python",
   "name": "python",
   "nbconvert_exporter": "python",
   "pygments_lexer": "ipython3",
   "version": "3.11.4"
  }
 },
 "nbformat": 4,
 "nbformat_minor": 5
}
