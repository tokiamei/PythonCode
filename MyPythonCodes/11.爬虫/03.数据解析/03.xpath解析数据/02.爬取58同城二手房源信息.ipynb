{
 "cells": [
  {
   "cell_type": "markdown",
   "id": "a9d4cfa2-10c7-4773-87f9-5e2c1e414309",
   "metadata": {},
   "source": [
    "# 爬取 58 二手房房源信息\n"
   ]
  },
  {
   "cell_type": "code",
   "execution_count": 1,
   "id": "07ee16a0-2df0-4091-b6d5-b00131630b60",
   "metadata": {},
   "outputs": [],
   "source": [
    "# 包\n",
    "import requests\n",
    "import os\n",
    "from lxml import etree"
   ]
  },
  {
   "cell_type": "code",
   "execution_count": 2,
   "id": "31fea39b-9496-4339-8b7a-633d2d9e0195",
   "metadata": {},
   "outputs": [],
   "source": [
    "# public data\n",
    "headers = {\n",
    "    'User-Agent': 'Mozilla/5.0 (Windows NT 10.0; Win64; x64) AppleWebKit/537.36 (KHTML, like Gecko) Chrome/104.0.0.0 Safari/537.36'\n",
    "}\n",
    "\n",
    "base_url = 'https://www.58.com/ershoufang/'\n",
    "\n",
    "# 没有就创建目录\n",
    "if not os.path.exists('./58二手房源信息'):\n",
    "    os.mkdir('./58二手房源信息')"
   ]
  },
  {
   "cell_type": "code",
   "execution_count": 14,
   "id": "d0d82b44-d184-425e-a2f7-f941aeb21f2d",
   "metadata": {},
   "outputs": [
    {
     "name": "stdout",
     "output_type": "stream",
     "text": [
      "--OK--\n"
     ]
    }
   ],
   "source": [
    "# crawler\n",
    "page_text = requests.get(url = base_url, headers = headers).text\n",
    "tree = etree.HTML(page_text)\n",
    "title_list = tree.xpath('//div[@id=\"global\"]//a[@class=\"t\"]/text()')\n",
    "# 文件名\n",
    "fileName = './58二手房源信息/' + '58二手房源信息.txt'\n",
    "\n",
    "# 持久化存储\n",
    "with open(fileName, 'w', encoding=\"utf-8\") as fp:\n",
    "    for title in title_list:\n",
    "        fp.write(title + '\\n')\n",
    "    print('--OK--')"
   ]
  }
 ],
 "metadata": {
  "kernelspec": {
   "display_name": "Python 3 (ipykernel)",
   "language": "python",
   "name": "python3"
  },
  "language_info": {
   "codemirror_mode": {
    "name": "ipython",
    "version": 3
   },
   "file_extension": ".py",
   "mimetype": "text/x-python",
   "name": "python",
   "nbconvert_exporter": "python",
   "pygments_lexer": "ipython3",
   "version": "3.9.9"
  }
 },
 "nbformat": 4,
 "nbformat_minor": 5
}
