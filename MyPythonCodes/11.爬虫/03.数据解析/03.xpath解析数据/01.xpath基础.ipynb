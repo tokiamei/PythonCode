{
 "cells": [
  {
   "cell_type": "markdown",
   "id": "78dcc771-df35-4ad8-871d-b167c6e685dd",
   "metadata": {
    "tags": []
   },
   "source": [
    "# xpath 使用方法\n",
    "\n",
    "实例化一个 etree 对象，且需要将解析的页面源码加载到该对象中\n",
    "调用 etree 对象的 xpath 方法结合着 xpath 表达式实现标签的定位和内容的捕获\n",
    "\n",
    "如何 实例化 etree 对象 ?\n",
    "```python\n",
    "from lxml imort etree\n",
    "```\n",
    "\n",
    "本地 html 文档中的源码数据加载到 etree 对象中: etree.parse(filePath)\n",
    "互联网中数据加载到该对象中 etree.HTML('page_text')\n"
   ]
  },
  {
   "cell_type": "markdown",
   "id": "2d5c029d-7c08-43b7-9cdf-0f10581199e9",
   "metadata": {
    "tags": []
   },
   "source": [
    "# 演示"
   ]
  },
  {
   "cell_type": "code",
   "execution_count": 44,
   "id": "105ddb3f-35d8-4b6a-8987-e134447f7fa4",
   "metadata": {},
   "outputs": [],
   "source": [
    "# 包\n",
    "from lxml import etree"
   ]
  },
  {
   "cell_type": "code",
   "execution_count": null,
   "id": "9349ed3d-da34-45a6-aadc-2ab5c008a288",
   "metadata": {},
   "outputs": [],
   "source": [
    "for i in [1, 2]:"
   ]
  },
  {
   "cell_type": "code",
   "execution_count": 49,
   "id": "552294b8-a31e-4520-a5a4-870be5bc7b9c",
   "metadata": {},
   "outputs": [
    {
     "data": {
      "text/plain": [
       "'www.baidu.com'"
      ]
     },
     "execution_count": 49,
     "metadata": {},
     "output_type": "execute_result"
    }
   ],
   "source": [
    "# 处理本地文件\n",
    "tree = etree.parse('./显示模式转换.html')\n",
    "# tree.xpath('/html/body/div')\n",
    "\n",
    "# // 表示多个层级\n",
    "# tree.xpath('/html//div') \n",
    "\n",
    "# // 直接寻找 div\n",
    "# tree.xpath('//div')[0] \n",
    "\n",
    "# 属性定位\n",
    "# tree.xpath('//p[@class=\"para\"]')\n",
    "\n",
    "# 索引定位【注意：这里索引从 1 开始】\n",
    "# tree.xpath('//div[@id=\"nav\"]/span[1]')\n",
    "\n",
    "# 取节点下的文本【直系文本】\n",
    "# tree.xpath('//div[@id=\"nav\"]/text()')\n",
    "\n",
    "# 取节点下属性值\n",
    "tree.xpath('//div[@id=\"nav\"]//img/@src')[0]"
   ]
  }
 ],
 "metadata": {
  "kernelspec": {
   "display_name": "Python 3 (ipykernel)",
   "language": "python",
   "name": "python3"
  },
  "language_info": {
   "codemirror_mode": {
    "name": "ipython",
    "version": 3
   },
   "file_extension": ".py",
   "mimetype": "text/x-python",
   "name": "python",
   "nbconvert_exporter": "python",
   "pygments_lexer": "ipython3",
   "version": "3.7.5"
  },
  "toc-autonumbering": false,
  "toc-showcode": false,
  "toc-showmarkdowntxt": false,
  "toc-showtags": false
 },
 "nbformat": 4,
 "nbformat_minor": 5
}
