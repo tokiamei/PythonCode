{
 "cells": [
  {
   "cell_type": "markdown",
   "id": "db6d6397-99aa-4f62-b5ca-6fb0a1af9e38",
   "metadata": {},
   "source": [
    "# 模拟登录\n",
    "\n",
    "- 爬取基于某些用户的用户信息\n",
    "\n",
    "需求 1: 对古诗文网进行模拟登录【人人网注册不了了】\n",
    "\n",
    "1. 点击登录之后发起 post 请求\n",
    "2. post 请求中会携带登陆之前录入的相关的登陆信息【用户名、密码、验证码】\n",
    "3. 验证码: 每次请求都会发生变化\n",
    "\n",
    "需求 2: 爬取当前用户的相关的用户信息【个人主页的用户信息】\n",
    "\n",
    "http/https 协议特性: 无状态\n",
    "\n",
    "    登录状态下，没有请求到对应页面数据的愿意:\n",
    "        发起的第二次基于个人主页请求的时候，服务器不知道此请求是基于登陆状态下的请求\n",
    "\n",
    "cookie: 用来让服务器端记录客户端的相关状态\n",
    "\n",
    "1. 手动处理\n",
    "    - 不推荐【麻烦，需要手动在请求头中加 cookie】\n",
    "2. 自动处理\n",
    "    - cookie 值的来源 ?\n",
    "    模拟登陆 post 请求后，由服务器端创建\n",
    "    - session 会话对象\n",
    "    作用: \n",
    "        1.可以进行请求的发送\n",
    "        2.如果请求过程中产生了 cookie，则该 cookie 会被自动存储/携带在该 session 对象中\n",
    "    \n",
    "    流程:\n",
    "        1.创建一个 session 对象\n",
    "        2.使用 session 对象进行模拟登录 post 请求的发送【cookie 就会被存储在 session 中】\n",
    "        3.session 对象对个人主页对应的 get 请求进行发送【携带了 cookie】\n"
   ]
  },
  {
   "cell_type": "markdown",
   "id": "e50bd8fd-5698-4fab-a52f-8c9d84bbab61",
   "metadata": {
    "jp-MarkdownHeadingCollapsed": true,
    "tags": []
   },
   "source": [
    "# 编码流程\n",
    "\n",
    "1. 验证码识别，获取验证码图片的文字数据\n",
    "2. 发起 post 请求【处理请求参数】\n",
    "3. 对响应数据进行持久化存储"
   ]
  },
  {
   "cell_type": "markdown",
   "id": "272534e2-cb02-4b4a-96eb-23d5914eac13",
   "metadata": {
    "jp-MarkdownHeadingCollapsed": true,
    "tags": []
   },
   "source": [
    "# 包"
   ]
  },
  {
   "cell_type": "code",
   "execution_count": 21,
   "id": "dda26eb6-dc2c-456c-87b2-8c05524b6f4e",
   "metadata": {},
   "outputs": [],
   "source": [
    "import requests\n",
    "from lxml import etree\n",
    "# 超级鹰用到的包\n",
    "from hashlib import md5"
   ]
  },
  {
   "cell_type": "markdown",
   "id": "73d89993-7db1-401f-857c-d1652cafafce",
   "metadata": {
    "jp-MarkdownHeadingCollapsed": true,
    "tags": []
   },
   "source": [
    "# static data"
   ]
  },
  {
   "cell_type": "code",
   "execution_count": 22,
   "id": "684d5af8-506a-4714-931f-cd9bcbc11422",
   "metadata": {},
   "outputs": [],
   "source": [
    "headers = {\n",
    "    'User-Agent': 'Mozilla/5.0 (Windows NT 10.0; Win64; x64) AppleWebKit/537.36 (KHTML, like Gecko) Chrome/104.0.0.0 Safari/537.36'\n",
    "}\n",
    "\n",
    "url = 'https://so.gushiwen.cn/user/login.aspx?from=http://so.gushiwen.cn/user/collect.aspx'\n"
   ]
  },
  {
   "cell_type": "markdown",
   "id": "a95abb0a-183a-4513-a31a-5888aa45d0da",
   "metadata": {
    "tags": []
   },
   "source": [
    "# 获取验证码图片"
   ]
  },
  {
   "cell_type": "code",
   "execution_count": 23,
   "id": "e8e0f24b-4612-4168-a911-86b465eac969",
   "metadata": {},
   "outputs": [],
   "source": [
    "\n",
    "page_text = requests.get(url = url, headers = headers).text\n",
    "tree = etree.HTML(page_text)\n",
    "# 获取验证码图片 src 地址\n",
    "src_list = tree.xpath('//*[@id=\"imgCode\"]/@src')[0]\n",
    "url_code = 'https://so.gushiwen.cn' + src_list\n",
    "# 请求验证码图片\n",
    "img_data = requests.get(url = url_code, headers = headers).content\n",
    "# 持久化存储验证码图片\n",
    "with open('./code.jpg', 'wb') as fp:\n",
    "    fp.write(img_data)"
   ]
  },
  {
   "cell_type": "markdown",
   "id": "234ba61b-366f-4044-9926-fbc38cc889ff",
   "metadata": {
    "jp-MarkdownHeadingCollapsed": true,
    "tags": []
   },
   "source": [
    "# 实例化超级鹰"
   ]
  },
  {
   "cell_type": "code",
   "execution_count": 24,
   "id": "3eb96440-684d-4d18-9c12-6561c3a74932",
   "metadata": {},
   "outputs": [
    {
     "name": "stdout",
     "output_type": "stream",
     "text": [
      "lxe8\n"
     ]
    }
   ],
   "source": [
    "# 超级鹰封装好的一个类，待会直接 实例化即可\n",
    "class Chaojiying_Client(object):\n",
    "\n",
    "    def __init__(self, username, password, soft_id):\n",
    "        self.username = username\n",
    "        password =  password.encode('utf8')\n",
    "        self.password = md5(password).hexdigest()\n",
    "        self.soft_id = soft_id\n",
    "        self.base_params = {\n",
    "            'user': self.username,\n",
    "            'pass2': self.password,\n",
    "            'softid': self.soft_id,\n",
    "        }\n",
    "        self.headers = {\n",
    "            'Connection': 'Keep-Alive',\n",
    "            'User-Agent': 'Mozilla/4.0 (compatible; MSIE 8.0; Windows NT 5.1; Trident/4.0)',\n",
    "        }\n",
    "\n",
    "    def PostPic(self, im, codetype):\n",
    "        \"\"\"\n",
    "        im: 图片字节\n",
    "        codetype: 题目类型 参考 http://www.chaojiying.com/price.html\n",
    "        \"\"\"\n",
    "        params = {\n",
    "            'codetype': codetype,\n",
    "        }\n",
    "        params.update(self.base_params)\n",
    "        files = {'userfile': ('ccc.jpg', im)}\n",
    "        r = requests.post('http://upload.chaojiying.net/Upload/Processing.php', data=params, files=files, headers=self.headers)\n",
    "        return r.json()\n",
    "\n",
    "    def PostPic_base64(self, base64_str, codetype):\n",
    "        \"\"\"\n",
    "        im: 图片字节\n",
    "        codetype: 题目类型 参考 http://www.chaojiying.com/price.html\n",
    "        \"\"\"\n",
    "        params = {\n",
    "            'codetype': codetype,\n",
    "            'file_base64':base64_str\n",
    "        }\n",
    "        params.update(self.base_params)\n",
    "        r = requests.post('http://upload.chaojiying.net/Upload/Processing.php', data=params, headers=self.headers)\n",
    "        return r.json()\n",
    "\n",
    "    def ReportError(self, im_id):\n",
    "        \"\"\"\n",
    "        im_id:报错题目的图片ID\n",
    "        \"\"\"\n",
    "        params = {\n",
    "            'id': im_id,\n",
    "        }\n",
    "        params.update(self.base_params)\n",
    "        r = requests.post('http://upload.chaojiying.net/Upload/ReportError.php', data=params, headers=self.headers)\n",
    "        return r.json()\n",
    "\n",
    "#用户中心>>软件ID 生成一个替换 96001\n",
    "#本地图片文件路径 来替换 a.jpg 有时WIN系统须要//\n",
    "#1902 验证码类型  官方网站>>价格体系 3.4+版 print 后要加()\n",
    "chaojiying = Chaojiying_Client('1940335829', 'jtycbbt123', '938368')\t\n",
    "im = open('./code.jpg', 'rb').read()\t\n",
    "# chaojiying.PostPic(im, 1902) 返回一个字典，pic_str 的值就是验证出来的值\n",
    "code = chaojiying.PostPic(im, 1902)['pic_str']\n",
    "print(code)\n",
    "#print chaojiying.PostPic(base64_str, 1902)  #此处为传入 base64代码"
   ]
  },
  {
   "cell_type": "markdown",
   "id": "14f1de7c-bafd-4147-b742-1692d445b5e1",
   "metadata": {
    "tags": []
   },
   "source": [
    "# 获取登陆后的页面，处理参数"
   ]
  },
  {
   "cell_type": "code",
   "execution_count": 25,
   "id": "591c9250-ac15-4372-8639-b53db1ff64f1",
   "metadata": {},
   "outputs": [
    {
     "name": "stdout",
     "output_type": "stream",
     "text": [
      "200\n"
     ]
    }
   ],
   "source": [
    "url_login = 'http://so.gushiwen.cn/user/collect.aspx'\n",
    "data = {\n",
    "    '__VIEWSTATE': 'ssXMKWPykPSYO7ow01vN1LyMg8mtf0JfNk1JcMbSOxBLxNv4yEsa9OQfY0oJxecqypU0nwMGEqFr88SRxEs7AVO46u2J7A/q8Pq/ApqB8IFZLlmr2/rOXmTk7E7ebh0hWdAsvMNyPZAlac76GzI2NF4rz3I=',\n",
    "    '__VIEWSTATEGENERATOR': 'C93BE1AE',\n",
    "    'from': 'http://so.gushiwen.cn/user/collect.aspx',\n",
    "    'email': '13962970517',\n",
    "    'pwd': '8291kka',\n",
    "    'code': code,\n",
    "    'denglu': '登录'\n",
    "}\n",
    "\n",
    "# 用响应对象的响应状态码来判断是否模拟成功\n",
    "response = requests.post(url_login, headers = headers, data = data)\n",
    "print(response.status_code)\n",
    "\n",
    "# 本地持久化存储来判断是否模拟登录成功【这么做不建议】\n",
    "# page_login = requests.post(url_login, headers = headers, data = data).text\n",
    "# with open('./login.html', 'w', encoding='utf-8') as fp:\n",
    "#     fp.write(page_login)\n",
    "# print('OKKKK')\n",
    "\n",
    "# 存取详情页面\n",
    "url_detail = 'https://so.gushiwen.cn/user/collect.aspx'\n",
    "page_detail = requests.get(url = url_detail, headers = headers).text\n",
    "with open('./detail.html', 'w', encoding = 'utf-8') as fp:\n",
    "    fp.write(page_detail)\n",
    "\n"
   ]
  }
 ],
 "metadata": {
  "kernelspec": {
   "display_name": "Python 3 (ipykernel)",
   "language": "python",
   "name": "python3"
  },
  "language_info": {
   "codemirror_mode": {
    "name": "ipython",
    "version": 3
   },
   "file_extension": ".py",
   "mimetype": "text/x-python",
   "name": "python",
   "nbconvert_exporter": "python",
   "pygments_lexer": "ipython3",
   "version": "3.9.9"
  }
 },
 "nbformat": 4,
 "nbformat_minor": 5
}
