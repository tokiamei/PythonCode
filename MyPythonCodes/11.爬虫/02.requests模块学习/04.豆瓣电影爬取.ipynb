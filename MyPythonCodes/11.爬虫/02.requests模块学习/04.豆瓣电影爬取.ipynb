{
 "cells": [
  {
   "cell_type": "markdown",
   "id": "d15e273c-d303-4e9c-bc33-22c4b6489534",
   "metadata": {},
   "source": [
    "# 爬取豆瓣电影"
   ]
  },
  {
   "cell_type": "code",
   "execution_count": 16,
   "id": "5583f97c-0101-4328-b630-2ec9507f60d8",
   "metadata": {},
   "outputs": [
    {
     "name": "stdout",
     "output_type": "stream",
     "text": [
      "over!!!\n"
     ]
    }
   ],
   "source": [
    "import requests\n",
    "import json\n",
    "\n",
    "url = 'https://movie.douban.com/j/chart/top_list'\n",
    "\n",
    "param = {\n",
    "    'type':'24',\n",
    "    'interval_id':'100:90',\n",
    "    'action':'',\n",
    "    'start':'60', # 从数据库中第几部电影开始取\n",
    "    'limit':'20' # 每次请求电影的数量\n",
    "}\n",
    "# UA 伪装\n",
    "headers = {\n",
    "    'User-Agent': 'Mozilla/5.0 (Windows NT 10.0; Win64; x64) AppleWebKit/537.36 (KHTML, like Gecko) Chrome/104.0.0.0 Safari/537.36'\n",
    "}\n",
    "# 发请求，获取响应数据\n",
    "response = requests.get(url=url, params=param, headers=headers)\n",
    "list_data = response.json()\n",
    "\n",
    "# 持久化存储\n",
    "with open('./crawledData/doubanMovie.json', 'w', encoding='utf-8') as fp:\n",
    "    json.dump(list_data, fp=fp, ensure_ascii=False)\n",
    "print('over!!!')"
   ]
  }
 ],
 "metadata": {
  "kernelspec": {
   "display_name": "Python 3 (ipykernel)",
   "language": "python",
   "name": "python3"
  },
  "language_info": {
   "codemirror_mode": {
    "name": "ipython",
    "version": 3
   },
   "file_extension": ".py",
   "mimetype": "text/x-python",
   "name": "python",
   "nbconvert_exporter": "python",
   "pygments_lexer": "ipython3",
   "version": "3.9.12"
  }
 },
 "nbformat": 4,
 "nbformat_minor": 5
}
