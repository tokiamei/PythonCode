{
 "cells": [
  {
   "cell_type": "markdown",
   "id": "1bb09d79-d568-4ad0-8e78-239d79251b36",
   "metadata": {},
   "source": [
    "# 导包\n"
   ]
  },
  {
   "cell_type": "code",
   "execution_count": 12,
   "id": "bdb3b1d1-eeaa-48bc-a6fb-fd7f49cea591",
   "metadata": {},
   "outputs": [],
   "source": [
    "import requests\n",
    "import json\n",
    "\n",
    "# 请求头\n",
    "headers = {\n",
    "    'User-Agent': 'Mozilla/5.0 (Windows NT 10.0; Win64; x64) AppleWebKit/537.36 (KHTML, like Gecko) Chrome/104.0.0.0 Safari/537.36'\n",
    "}"
   ]
  },
  {
   "cell_type": "markdown",
   "id": "f9b95774-864a-4b92-b37e-a21e8854c561",
   "metadata": {
    "tags": []
   },
   "source": [
    "# 药检总局相关数据爬取"
   ]
  },
  {
   "cell_type": "markdown",
   "id": "a488c21b-1327-4060-974c-3b6b985ecafa",
   "metadata": {
    "tags": []
   },
   "source": [
    "## 测试一下是页面是否是靠 ajax 动态获取"
   ]
  },
  {
   "cell_type": "code",
   "execution_count": null,
   "id": "d5414e8a-6cff-46b0-9328-63e64dec2099",
   "metadata": {},
   "outputs": [],
   "source": [
    "# 药检官网\n",
    "url = 'http://scxk.nmpa.gov.cn:81/xk/'\n",
    "\n",
    "data = requests.get(url = url, headers = headers).text\n",
    "# print(data)\n",
    "with open('./crawledData/makeUpCheck.html', 'w', encoding='utf-8') as f:\n",
    "    f.write(data)\n",
    "print('over🐱🐱🐱')"
   ]
  },
  {
   "cell_type": "markdown",
   "id": "71875da8-c77f-4cfd-b28f-ca9e2fbcc581",
   "metadata": {},
   "source": [
    "## 开始爬取药检信息"
   ]
  },
  {
   "cell_type": "code",
   "execution_count": 19,
   "id": "3ed523aa-04ed-4bd7-b24e-c169b76e0497",
   "metadata": {},
   "outputs": [
    {
     "name": "stdout",
     "output_type": "stream",
     "text": [
      "\n",
      "\n",
      "\n",
      " []\n"
     ]
    }
   ],
   "source": [
    "# 首页 ajax 请求 url\n",
    "url = 'http://scxk.nmpa.gov.cn:81/xk/itownet/portalAction.do?hKHnQfLv=5ZiXreQv0uW1o0Cwe7WhYdFDpZDdmxgorqRnwZzPHBtlBV0Zj2LpRALgK3SKKpXtklWg6cTxzye.prAyH8WoMIfMyHz79GiU0uBN0P00Av7biDSramkJiqyn2KaEos9dlMjDF9WM5rGisiLoOkpzojIfvK1XN2xLhF3dtiq2NyPycEE4jWuNu5xLo2dg10sSBrNdg9uKv2Ft9fJHc6fE4kIiW7fR5Iun3w7_YBT6p4YhneBktdM6Qtl4I5MDOqlWHrEGt3QU1VSIJdWNT0ZHqHIW_NLRJ.sFiNXtqcWI6guE&8X7Yi61c=44O192DK63nxVJgCd4It2zTBScuV4AlbY6ZMprkkiuAFNThU5C62t2TxBpwA_8Vp8OK4h4Zq9k1rveRsCP7KwAErs4Gi_dZeEeM48swGIxYx7JGP3FIoRUDaGYAhJ09e0'\n",
    "\n",
    "data = {\n",
    "    'on': 'true',\n",
    "    'page': '1',\n",
    "    'pageSize': '15',\n",
    "    'productName': '',\n",
    "    'conditionType': '1',\n",
    "    'applyname': '',\n",
    "    'applysn': ''\n",
    "}\n",
    "\n",
    "# 将遍历得到的 id 放进一个列表\n",
    "id_list = []\n",
    "json_ids = requests.post(url = url, headers = headers, params = data).text\n",
    "# for dic in json_ids['list']:\n",
    "#     id_list.append(dic['ID'])\n",
    "print(json_ids, id_list)\n"
   ]
  }
 ],
 "metadata": {
  "kernelspec": {
   "display_name": "Python 3 (ipykernel)",
   "language": "python",
   "name": "python3"
  },
  "language_info": {
   "codemirror_mode": {
    "name": "ipython",
    "version": 3
   },
   "file_extension": ".py",
   "mimetype": "text/x-python",
   "name": "python",
   "nbconvert_exporter": "python",
   "pygments_lexer": "ipython3",
   "version": "3.9.12"
  }
 },
 "nbformat": 4,
 "nbformat_minor": 5
}
