{
 "cells": [
  {
   "cell_type": "markdown",
   "id": "0efae7fd-d029-410d-9202-f4c9301307df",
   "metadata": {
    "tags": []
   },
   "source": [
    "# 异步爬虫\n",
    "\n",
    "## 什么是爬虫 ?\n",
    "\n",
    "就是客户端向服务器发请求，【批量】获取响应数据\n",
    "\n",
    "## 异步爬虫的方式\n",
    "\n",
    "- 多线程，多进程【不建议】:\n",
    "\n",
    "    好处: 可以为相关阻塞的操作单独开启线程或进程，阻塞操作就可以异步执行\n",
    "    坏处: 无法无限制的开启多进程或多线程\n",
    "    \n",
    "- 进程池、线程池【适当使用】:\n",
    "\n",
    "    好处: 可以降低系统对进程或者线程创建和销毁的一个频率，从而降低系统的开销\n",
    "    好处: 池中线程或进程的数量有上限【阻塞操作的数量远远高于池中进程线程的数量时，效率不明显】"
   ]
  },
  {
   "cell_type": "code",
   "execution_count": 1,
   "id": "0f640eb3-fde0-4832-a4ef-7f5e3188ca18",
   "metadata": {
    "tags": []
   },
   "outputs": [],
   "source": [
    "# package\n",
    "import time\n",
    "# 导入线程池模块对应的类\n",
    "from multiprocessing.dummy import Pool\n",
    "import requests\n",
    "from lxml import etree\n",
    "\n",
    "import asyncio\n",
    "import nest_asyncio\n",
    "nest_asyncio.apply()"
   ]
  },
  {
   "cell_type": "markdown",
   "id": "dd1de930-0de2-49c6-93c1-51f572a83c5f",
   "metadata": {
    "jp-MarkdownHeadingCollapsed": true,
    "tags": []
   },
   "source": [
    "# 模拟线程池"
   ]
  },
  {
   "cell_type": "code",
   "execution_count": null,
   "id": "9d253569-8cdd-4b57-bb4e-77572d8d1f1d",
   "metadata": {
    "tags": []
   },
   "outputs": [],
   "source": [
    "# 单线程方式执行\n",
    "def getPage(str):\n",
    "    print('正在下载:', str)\n",
    "    time.sleep(2)\n",
    "    print('下载完成', str)\n",
    "\n",
    "nameList = ['a', 'b', 'c', 'd']\n",
    "startTime = time.time()\n",
    "for i in range(len(nameList)):\n",
    "    getPage(nameList[i])\n",
    "endTime = time.time()\n",
    "print('%d second'% (endTime - startTime))"
   ]
  },
  {
   "cell_type": "code",
   "execution_count": null,
   "id": "d48bbbed-ba95-4138-aee0-0e8d701578e2",
   "metadata": {
    "tags": []
   },
   "outputs": [],
   "source": [
    "# 线程池模拟\n",
    "startTime = time.time()\n",
    "pool = Pool(4)\n",
    "# 将列表中每一列元素传递给 getPage 进行处理\n",
    "pool.map(getPage, nameList)\n",
    "endTime = time.time()\n",
    "print(endTime - startTime)\n"
   ]
  },
  {
   "cell_type": "markdown",
   "id": "f8d63ad8-30ce-43e3-b150-d004263f8c41",
   "metadata": {
    "jp-MarkdownHeadingCollapsed": true,
    "tags": []
   },
   "source": [
    "# 利用线程池爬取 梨视频的视频数据\n"
   ]
  },
  {
   "cell_type": "code",
   "execution_count": null,
   "id": "d221c655-ca60-4c15-b125-df5ad5679eb0",
   "metadata": {},
   "outputs": [],
   "source": [
    "url = 'https://www.pearvideo.com'\n",
    "headers = {\n",
    "    'User-Agent': 'Mozilla/5.0 (Windows NT 10.0; Win64; x64) AppleWebKit/537.36 (KHTML, like Gecko) Chrome/104.0.0.0 Safari/537.36'\n",
    "}\n",
    "\n",
    "# params = {\n",
    "#     'start': '0',\n",
    "#     'k': '迪丽热巴'\n",
    "# }"
   ]
  },
  {
   "cell_type": "code",
   "execution_count": null,
   "id": "70223cf0-ab2b-48ae-acd6-d421b5950bd6",
   "metadata": {},
   "outputs": [],
   "source": [
    "page_text = requests.get(url = url, headers = headers).text\n",
    "tree = etree.HTML(page_text)\n",
    "src = tree.xpath('//ul[@class=\"vervideo-blist clearfix\"]//a/@href')[2]\n",
    "\n",
    "video_src = url + '/' + src\n"
   ]
  },
  {
   "cell_type": "markdown",
   "id": "9e7fd2b1-2c81-4160-bd35-8c11ab9b0559",
   "metadata": {
    "tags": []
   },
   "source": [
    "# 携程对象"
   ]
  },
  {
   "cell_type": "code",
   "execution_count": 2,
   "id": "7972fde4-c816-4ed8-841e-182f059e937b",
   "metadata": {},
   "outputs": [],
   "source": [
    "async def request(url):\n",
    "    print('正在请求的 url: ', url)\n",
    "    print('请求成功', url)\n",
    "    return url\n",
    "    \n",
    "# 用 async 修饰的函数，调用之后返回的是一个携程对象\n",
    "c = request('www.baidu.com')"
   ]
  },
  {
   "cell_type": "markdown",
   "id": "2b19561b-abb8-43ff-ad4a-66921d1c6931",
   "metadata": {
    "jp-MarkdownHeadingCollapsed": true,
    "tags": []
   },
   "source": [
    "# 事件循环对象"
   ]
  },
  {
   "cell_type": "code",
   "execution_count": null,
   "id": "198686b3-0b74-498d-af5c-42417a2e8340",
   "metadata": {},
   "outputs": [],
   "source": [
    "# 创建一个事件循环对象\n",
    "# loop = asyncio.get_event_loop()\n",
    "\n",
    "# 将携程对象注册到事件循环中，然后启动 loop\n",
    "# loop.run_until_complete(c)"
   ]
  },
  {
   "cell_type": "markdown",
   "id": "df7aac33-ce42-45ed-b65f-4c7d31335d24",
   "metadata": {
    "jp-MarkdownHeadingCollapsed": true,
    "tags": []
   },
   "source": [
    "# task 对象\n",
    "\n",
    "- task 对象是基于 loop 的\n",
    "- future 是基于 asyncio 的"
   ]
  },
  {
   "cell_type": "code",
   "execution_count": null,
   "id": "f3305d5d-01c4-4f22-b3c3-3b1409c582ab",
   "metadata": {},
   "outputs": [],
   "source": [
    "# 创建 task 对象【task 对象可以保存携程对象的状态】\n",
    "loop = asyncio.get_event_loop()\n",
    "# 基于 loop 创建 task 对象\n",
    "task = loop.create_task(c)\n",
    "print(task)\n",
    "loop.run_until_complete(task)\n",
    "print(task)"
   ]
  },
  {
   "cell_type": "markdown",
   "id": "a11fc6be-7387-4b05-a371-8abd76ffd42e",
   "metadata": {
    "jp-MarkdownHeadingCollapsed": true,
    "tags": []
   },
   "source": [
    "# future 对象"
   ]
  },
  {
   "cell_type": "code",
   "execution_count": null,
   "id": "920027ae-fd88-43a1-8e99-af55387fb25f",
   "metadata": {},
   "outputs": [],
   "source": [
    "# future 的使用\n",
    "loop = asyncio.get_event_loop()\n",
    "task = asyncio.ensure_future(c)\n",
    "print(task)\n",
    "loop.run_until_complete(task)\n",
    "# print(task)"
   ]
  },
  {
   "cell_type": "markdown",
   "id": "f51a12f2-cd8c-4c74-9f0a-6c264d409111",
   "metadata": {},
   "source": [
    "# 绑定回调\n",
    "\n",
    "【为什么不执行 ?】"
   ]
  },
  {
   "cell_type": "code",
   "execution_count": 3,
   "id": "0255d129-9685-43ef-bb52-397351c3a07b",
   "metadata": {},
   "outputs": [
    {
     "name": "stdout",
     "output_type": "stream",
     "text": [
      "---\n",
      "+++\n",
      "正在请求的 url:  www.baidu.com\n",
      "请求成功 www.baidu.com\n"
     ]
    },
    {
     "data": {
      "text/plain": [
       "'www.baidu.com'"
      ]
     },
     "execution_count": 3,
     "metadata": {},
     "output_type": "execute_result"
    }
   ],
   "source": [
    "def callback_func(task):\n",
    "    print('🐱🐱🐱', task.result())\n",
    "    x = 200\n",
    "    # pass\n",
    "\n",
    "x = 1\n",
    "loop = asyncio.get_event_loop()\n",
    "# task = asyncio.ensure_future(c)\n",
    "task = loop.create_task(c)\n",
    "# 将回调函数绑定到任务对象中\n",
    "print('---')\n",
    "task.add_done_callback(callback_func)\n",
    "print('+++')\n",
    "loop.run_until_complete(task)"
   ]
  }
 ],
 "metadata": {
  "kernelspec": {
   "display_name": "Python 3 (ipykernel)",
   "language": "python",
   "name": "python3"
  },
  "language_info": {
   "codemirror_mode": {
    "name": "ipython",
    "version": 3
   },
   "file_extension": ".py",
   "mimetype": "text/x-python",
   "name": "python",
   "nbconvert_exporter": "python",
   "pygments_lexer": "ipython3",
   "version": "3.7.5"
  }
 },
 "nbformat": 4,
 "nbformat_minor": 5
}
