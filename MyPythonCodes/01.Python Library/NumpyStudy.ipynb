{
 "cells": [
  {
   "cell_type": "code",
   "execution_count": 1,
   "id": "5bc1c1d9-7f34-4d57-b88e-fb989e89d193",
   "metadata": {
    "execution": {
     "iopub.execute_input": "2024-11-15T15:38:05.548185Z",
     "iopub.status.busy": "2024-11-15T15:38:05.547566Z",
     "iopub.status.idle": "2024-11-15T15:38:05.644009Z",
     "shell.execute_reply": "2024-11-15T15:38:05.643703Z",
     "shell.execute_reply.started": "2024-11-15T15:38:05.548146Z"
    }
   },
   "outputs": [],
   "source": [
    "import numpy as np"
   ]
  },
  {
   "cell_type": "markdown",
   "id": "d50de884-0d1f-4b7f-83d4-bf206ecb5433",
   "metadata": {},
   "source": [
    "# numpy弧度制与角度值的转化"
   ]
  },
  {
   "cell_type": "code",
   "execution_count": 22,
   "id": "cd0073b6-85cd-4b8f-a32a-66305fd09f1e",
   "metadata": {
    "execution": {
     "iopub.execute_input": "2023-10-14T04:02:45.854189Z",
     "iopub.status.busy": "2023-10-14T04:02:45.853194Z",
     "iopub.status.idle": "2023-10-14T04:02:45.860897Z",
     "shell.execute_reply": "2023-10-14T04:02:45.859878Z",
     "shell.execute_reply.started": "2023-10-14T04:02:45.854189Z"
    }
   },
   "outputs": [
    {
     "name": "stdout",
     "output_type": "stream",
     "text": [
      "0.7853981633974483\n",
      "0.7853981633974483\n"
     ]
    }
   ],
   "source": [
    "# 角度转弧度\n",
    "print(np.deg2rad(45))\n",
    "print(45*np.pi/180)"
   ]
  },
  {
   "cell_type": "code",
   "execution_count": 24,
   "id": "4faeacd3-dda8-44f7-b385-35d0c3fdabc4",
   "metadata": {
    "execution": {
     "iopub.execute_input": "2023-10-14T04:03:47.152579Z",
     "iopub.status.busy": "2023-10-14T04:03:47.151577Z",
     "iopub.status.idle": "2023-10-14T04:03:47.158493Z",
     "shell.execute_reply": "2023-10-14T04:03:47.157477Z",
     "shell.execute_reply.started": "2023-10-14T04:03:47.152579Z"
    }
   },
   "outputs": [
    {
     "name": "stdout",
     "output_type": "stream",
     "text": [
      "90.0\n",
      "90.0\n"
     ]
    }
   ],
   "source": [
    "# 弧度转角度\n",
    "print(np.rad2deg(np.pi/2))\n",
    "print(np.pi/2*180/np.pi)"
   ]
  },
  {
   "cell_type": "markdown",
   "id": "b9056854-f314-4374-a28f-50392a0b5b14",
   "metadata": {},
   "source": [
    "# 三角函数"
   ]
  },
  {
   "cell_type": "code",
   "execution_count": 8,
   "id": "934bdd87-9434-441d-bf46-9bc9b8ae5f05",
   "metadata": {
    "editable": true,
    "execution": {
     "iopub.execute_input": "2023-10-14T03:52:01.555954Z",
     "iopub.status.busy": "2023-10-14T03:52:01.554954Z",
     "iopub.status.idle": "2023-10-14T03:52:01.564523Z",
     "shell.execute_reply": "2023-10-14T03:52:01.563514Z",
     "shell.execute_reply.started": "2023-10-14T03:52:01.555954Z"
    },
    "slideshow": {
     "slide_type": ""
    },
    "tags": []
   },
   "outputs": [
    {
     "name": "stdout",
     "output_type": "stream",
     "text": [
      "不同角度的正弦值：\n",
      "[0.         0.5        0.70710678 0.8660254  1.        ]\n",
      "数组中角度的余弦值：\n",
      "[1.00000000e+00 8.66025404e-01 7.07106781e-01 5.00000000e-01\n",
      " 6.12323400e-17]\n",
      "数组中角度的正切值：\n",
      "[0.00000000e+00 5.77350269e-01 1.00000000e+00 1.73205081e+00\n",
      " 1.63312394e+16]\n"
     ]
    }
   ],
   "source": [
    "a = np.array([0,30,45,60,90])\n",
    "print ('不同角度的正弦值：')\n",
    "# 通过乘 pi/180 转化为弧度  \n",
    "print (np.sin(a*np.pi/180))\n",
    "print ('数组中角度的余弦值：')\n",
    "print (np.cos(a*np.pi/180))\n",
    "print ('数组中角度的正切值：')\n",
    "print (np.tan(a*np.pi/180))"
   ]
  },
  {
   "cell_type": "markdown",
   "id": "ae605ec6-3356-4e3f-a081-72c27fda3194",
   "metadata": {},
   "source": [
    "# 反三角函数"
   ]
  },
  {
   "cell_type": "code",
   "execution_count": 15,
   "id": "7bdbd269-4cde-4aed-8a29-1e1e6f4d9dac",
   "metadata": {
    "execution": {
     "iopub.execute_input": "2023-10-14T03:58:12.528632Z",
     "iopub.status.busy": "2023-10-14T03:58:12.527635Z",
     "iopub.status.idle": "2023-10-14T03:58:12.544120Z",
     "shell.execute_reply": "2023-10-14T03:58:12.543105Z",
     "shell.execute_reply.started": "2023-10-14T03:58:12.528632Z"
    }
   },
   "outputs": [
    {
     "name": "stdout",
     "output_type": "stream",
     "text": [
      "含有正弦值的数组：\n",
      "[0.         0.5        0.70710678 0.8660254  1.        ]\n",
      "计算角度的反正弦，返回值以弧度为单位：\n",
      "[0.         0.52359878 0.78539816 1.04719755 1.57079633]\n",
      "通过转化为角度制来检查结果：\n",
      "[ 0. 30. 45. 60. 90.]\n",
      "arccos 和 arctan 函数行为类似：\n",
      "[1.00000000e+00 8.66025404e-01 7.07106781e-01 5.00000000e-01\n",
      " 6.12323400e-17]\n",
      "反余弦：\n",
      "[0.         0.52359878 0.78539816 1.04719755 1.57079633]\n",
      "角度制单位：\n",
      "[ 0. 30. 45. 60. 90.]\n",
      "tan 函数：\n",
      "[0.00000000e+00 5.77350269e-01 1.00000000e+00 1.73205081e+00\n",
      " 1.63312394e+16]\n",
      "反正切：\n",
      "[0.         0.52359878 0.78539816 1.04719755 1.57079633]\n",
      "角度制单位：\n",
      "[ 0. 30. 45. 60. 90.]\n"
     ]
    }
   ],
   "source": [
    "a = np.array([0,30,45,60,90])  \n",
    "print ('含有正弦值的数组：')\n",
    "sin = np.sin(a*np.pi/180)\n",
    "print(sin)\n",
    "print ('计算角度的反正弦，返回值以弧度为单位：')\n",
    "inv = np.arcsin(sin)  \n",
    "print (inv)\n",
    "print ('通过转化为角度制来检查结果：')\n",
    "print (np.degrees(inv))\n",
    "print ('arccos 和 arctan 函数行为类似：')\n",
    "cos = np.cos(a*np.pi/180)  \n",
    "print (cos)\n",
    "print ('反余弦：')\n",
    "inv = np.arccos(cos)  \n",
    "print (inv)\n",
    "print ('角度制单位：')\n",
    "print (np.degrees(inv))\n",
    "print ('tan 函数：')\n",
    "tan = np.tan(a*np.pi/180)  \n",
    "print (tan)\n",
    "print ('反正切：')\n",
    "inv = np.arctan(tan)  \n",
    "print (inv)\n",
    "print ('角度制单位：')\n",
    "print (np.degrees(inv))"
   ]
  },
  {
   "cell_type": "markdown",
   "id": "88d891cf-c55a-42c0-ad7f-ab15f991db5a",
   "metadata": {},
   "source": [
    "# ndarray"
   ]
  },
  {
   "cell_type": "code",
   "execution_count": 7,
   "id": "15ed610a-5b6e-49d5-9d5e-2a8149c646f4",
   "metadata": {
    "execution": {
     "iopub.execute_input": "2024-11-15T15:39:55.913599Z",
     "iopub.status.busy": "2024-11-15T15:39:55.912645Z",
     "iopub.status.idle": "2024-11-15T15:39:55.921348Z",
     "shell.execute_reply": "2024-11-15T15:39:55.920456Z",
     "shell.execute_reply.started": "2024-11-15T15:39:55.913526Z"
    }
   },
   "outputs": [
    {
     "data": {
      "text/plain": [
       "array([[1, 4],\n",
       "       [2, 5],\n",
       "       [3, 6]])"
      ]
     },
     "execution_count": 7,
     "metadata": {},
     "output_type": "execute_result"
    }
   ],
   "source": [
    "a = np.array([[1, 2, 3], [4, 5, 6]])\n",
    "a = np.transpose(a)\n",
    "a"
   ]
  }
 ],
 "metadata": {
  "kernelspec": {
   "display_name": "Python 3 (ipykernel)",
   "language": "python",
   "name": "python3"
  },
  "language_info": {
   "codemirror_mode": {
    "name": "ipython",
    "version": 3
   },
   "file_extension": ".py",
   "mimetype": "text/x-python",
   "name": "python",
   "nbconvert_exporter": "python",
   "pygments_lexer": "ipython3",
   "version": "3.9.6"
  }
 },
 "nbformat": 4,
 "nbformat_minor": 5
}
