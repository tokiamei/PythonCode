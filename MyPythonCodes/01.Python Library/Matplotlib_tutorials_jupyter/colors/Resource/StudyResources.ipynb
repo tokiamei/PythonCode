{
 "cells": [
  {
   "metadata": {},
   "cell_type": "markdown",
   "source": [
    "# 1.Actress"
   ]
  },
  {
   "metadata": {},
   "cell_type": "markdown",
   "source": [
    "## 楓ふうあ"
   ]
  },
  {
   "metadata": {
    "trusted": false
   },
   "cell_type": "code",
   "source": [
    "kaedefuua_Resource = [\n",
    "    {\n",
    "        'VideoNumber': 'SSIS-743', \n",
    "        'WebSite': 'https://missav.com/dm53/ssis-743-uncensored-leak', \n",
    "        'Type': 'LZZJ&CR|100' , \n",
    "        'Description': '打工時讓我幹的高個子姐姐的下半身太色情了…我站在工作的時候從後面乾了他。' \n",
    "    },\n",
    "    { \n",
    "        'VideoNumber': 'SSIS-669', \n",
    "        'WebSite': 'https://missav.com/dm52/ssis-669-uncensored-leak', \n",
    "        'Type': 'SWZJ&CR|90', \n",
    "        'Description': '腿部戀物癖的姐姐[黑色緊身褲踩踏工作/裸大腿工作/絕對區域腳交/長筒襪間性]沒有美腿的情況' \n",
    "    },\n",
    "    { \n",
    "        'VideoNumber': 'SSIS-646', \n",
    "        'WebSite': 'https://missav.com/dm52/ssis-646-uncensored-leak', \n",
    "        'Type': 'HS&CR|90', \n",
    "        'Description': '我是低俗女教師，被我強姦是理所當然的吧' \n",
    "    },\n",
    "    { \n",
    "        'VideoNumber': 'SSIS-347', \n",
    "        'WebSite': 'https://missav.com/dm52/ssis-347-uncensored-leak', \n",
    "        'Type': 'LZZJ&CR|90', \n",
    "        'Description': '美美可愛-桐川姐姐灑[美顏美乳美腿]' \n",
    "    },\n",
    "]"
   ],
   "execution_count": 1,
   "outputs": []
  },
  {
   "metadata": {},
   "cell_type": "markdown",
   "source": [
    "## 长谷川秋子"
   ]
  },
  {
   "metadata": {
    "trusted": true
   },
   "cell_type": "code",
   "source": [
    "qiuzi_Resource = [\n",
    "    { \n",
    "        'VideoNumber': 'JUY-601', \n",
    "        'WebSite': 'https://missav.com/dm25/juy-601-uncensored-leak', \n",
    "        'Type': 'RS&CR|80', \n",
    "        'Description': 'Akiko Hasegawa，一個在不知不覺中讓下屬生病的漂浮文胸女老闆' \n",
    "    },\n",
    "]"
   ],
   "execution_count": null,
   "outputs": []
  },
  {
   "cell_type": "markdown",
   "source": [
    "## 斋藤亚美里"
   ],
   "metadata": {
    "collapsed": false
   }
  },
  {
   "cell_type": "code",
   "execution_count": null,
   "outputs": [],
   "source": [
    "zhaiteng_Resource = [\n",
    "    { \n",
    "        'VideoNumber': 'MXGS-1274', \n",
    "        'WebSite': 'hhttps://missav.com/dm13/mxgs-1274', \n",
    "        'Type': 'ZJ&CR|80', \n",
    "        'Description': 'Amiri Saito × 束縛 QUEEN' \n",
    "    },\n",
    "]"
   ],
   "metadata": {
    "collapsed": false
   }
  },
  {
   "metadata": {},
   "cell_type": "markdown",
   "source": [
    "## 柚子猫\n",
    "\n",
    "> CH"
   ]
  },
  {
   "metadata": {
    "trusted": false
   },
   "cell_type": "code",
   "source": [
    "youzimao_Resource = [\n",
    "    { 'WebSite': 'https://cableav.tv/p7mIazrZFnO/#', 'Type': 'LZZJ&CR|90'},\n",
    "    { 'WebSite': 'https://spankbang.com/6sfgs/video/porn', 'Type': 'LZZJ&CR|90' }\n",
    "]"
   ],
   "execution_count": 1,
   "outputs": []
  },
  {
   "metadata": {},
   "cell_type": "markdown",
   "source": [
    "# 2.Series\n",
    "\n"
   ]
  },
  {
   "cell_type": "markdown",
   "source": [
    "## FC2PPV"
   ],
   "metadata": {
    "collapsed": false
   }
  },
  {
   "cell_type": "code",
   "execution_count": 1,
   "outputs": [],
   "source": [
    "FC2PPV_Series = [\n",
    "    { \n",
    "        'VideoNumber': 'FC2-PPV-2658251', \n",
    "        'WebSite': 'https://missav.com/dm13/fc2-ppv-2658251', \n",
    "        'Type': 'CR|80', \n",
    "        'Description': '惡作劇】原版也類似黑色！在任務私立學校美白半面製服女孩/陰道射精後立即噴出超粉紅色美麗的貓' \n",
    "    },\n",
    "    { \n",
    "        'VideoNumber': 'FC2-PPV-4548094', \n",
    "        'WebSite': 'https://missav.com/fc2-ppv-4548094', \n",
    "        'Type': 'CR|80', \n",
    "        'Description': '60分鐘的鐘聲，體力敏捷！ ③♡第一個奇怪的故事[高品質的書可用]' \n",
    "    },\n",
    "    { \n",
    "        'VideoNumber': 'FC2-PPV-4550000', \n",
    "        'WebSite': 'https://missav.com/fc2-ppv-4550000', \n",
    "        'Type': 'CR|80', \n",
    "        'Description': 'hojibisutatsu/外面！限時3天！她是世界上最美麗最漂亮的女孩，家境殷實，是中年婦女，聲音好聽！一個風流得很下流的女人，率先走出去，在暗處大喊大叫' \n",
    "    },\n",
    "    { \n",
    "        'VideoNumber': 'FC2-PPV-3856931', \n",
    "        'WebSite': 'https://missav.com/fc2-ppv-3856931', \n",
    "        'Type': 'CR|80', \n",
    "        'Description': '第一輪成功！ ！ 3天才1980分鐘！ ！穿著奇怪服裝，有一種感覺的大學生……他擁有多功能場所，可愛的色彩和變化的幻覺，在不可避免的懷孕情況下射精！之後，在餐廳進行中出' \n",
    "    },\n",
    "    { \n",
    "        'VideoNumber': 'FC2-PPV-1828654', \n",
    "        'WebSite': 'https://missav.com/dm18/fc2-ppv-1828654', \n",
    "        'Type': 'CR|80', \n",
    "        'Description': '第一槍！！數量有限【未刪減】高大腿超級美女！向美容診所的接待員中出！ !! （第1部分）' \n",
    "    },\n",
    "    { \n",
    "        'VideoNumber': 'FC2-PPV-1174741', \n",
    "        'WebSite': 'https://missav.com/dm18/fc2-ppv-1828654', \n",
    "        'Type': 'CR|80', \n",
    "        'Description': '【高畫質】變態破洞超迷你秀穿麵包吃肉奧納霍【有加分】' \n",
    "    },\n",
    "]"
   ],
   "metadata": {
    "collapsed": false
   }
  },
  {
   "metadata": {},
   "cell_type": "markdown",
   "source": [
    "# 3.Unkowned"
   ]
  },
  {
   "metadata": {},
   "cell_type": "markdown",
   "source": [
    "# Signal\n"
   ]
  },
  {
   "metadata": {
    "trusted": false
   },
   "cell_type": "code",
   "source": [
    "SIGNAL = {\n",
    "    'ZJ': 'Zujiao',\n",
    "    'LZZJ': 'LuoZuZujiao',\n",
    "    'SWZJ': 'LuoZuZujiao',\n",
    "    'CR': 'Charu',\n",
    "    'RS': 'Rousi'\n",
    "}"
   ],
   "execution_count": null,
   "outputs": []
  }
 ],
 "metadata": {
  "kernelspec": {
   "name": "python3",
   "display_name": "Python 3",
   "language": "python"
  },
  "language_info": {
   "name": "python",
   "version": "3.10.4",
   "mimetype": "text/x-python",
   "codemirror_mode": {
    "name": "ipython",
    "version": 3
   },
   "pygments_lexer": "ipython3",
   "nbconvert_exporter": "python",
   "file_extension": ".py"
  }
 },
 "nbformat": 4,
 "nbformat_minor": 2
}
