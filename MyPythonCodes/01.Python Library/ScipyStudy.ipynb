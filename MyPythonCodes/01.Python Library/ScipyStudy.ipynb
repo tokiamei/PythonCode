{
 "cells": [
  {
   "cell_type": "markdown",
   "id": "99626119-16a9-4b9d-892c-213ce2efbef7",
   "metadata": {},
   "source": [
    "# Scipy中的物理常数"
   ]
  },
  {
   "cell_type": "code",
   "execution_count": null,
   "id": "0e3a151b-bb44-47b9-b975-87464cf3f778",
   "metadata": {
    "execution": {
     "iopub.execute_input": "2023-10-14T14:37:03.176677Z",
     "iopub.status.busy": "2023-10-14T14:37:03.175673Z",
     "iopub.status.idle": "2023-10-14T14:37:03.612788Z",
     "shell.execute_reply": "2023-10-14T14:37:03.610772Z",
     "shell.execute_reply.started": "2023-10-14T14:37:03.176677Z"
    }
   },
   "outputs": [],
   "source": [
    "import scipy.constants as C"
   ]
  },
  {
   "cell_type": "code",
   "execution_count": 2,
   "id": "5debff3b-9b43-4a94-88cd-e0e0e155bb4d",
   "metadata": {
    "execution": {
     "iopub.execute_input": "2023-10-14T14:37:41.744780Z",
     "iopub.status.busy": "2023-10-14T14:37:41.742720Z",
     "iopub.status.idle": "2023-10-14T14:37:41.756618Z",
     "shell.execute_reply": "2023-10-14T14:37:41.755413Z",
     "shell.execute_reply.started": "2023-10-14T14:37:41.744780Z"
    },
    "scrolled": true
   },
   "outputs": [
    {
     "data": {
      "text/plain": [
       "6.62607015e-34"
      ]
     },
     "execution_count": 2,
     "metadata": {},
     "output_type": "execute_result"
    }
   ],
   "source": [
    "C.h"
   ]
  }
 ],
 "metadata": {
  "kernelspec": {
   "display_name": "Python 3 (ipykernel)",
   "language": "python",
   "name": "python3"
  },
  "language_info": {
   "codemirror_mode": {
    "name": "ipython",
    "version": 3
   },
   "file_extension": ".py",
   "mimetype": "text/x-python",
   "name": "python",
   "nbconvert_exporter": "python",
   "pygments_lexer": "ipython3",
   "version": "3.11.4"
  }
 },
 "nbformat": 4,
 "nbformat_minor": 5
}
