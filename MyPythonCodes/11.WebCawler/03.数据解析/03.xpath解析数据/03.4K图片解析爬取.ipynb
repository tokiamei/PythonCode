{
 "cells": [
  {
   "cell_type": "markdown",
   "id": "90f3c2d0-b2bc-40a0-8c6f-350bebf9851e",
   "metadata": {},
   "source": [
    "# 爬取 4k 美女照片\n",
    "\n",
    "补充: 处理中文乱码的解决方案\n",
    "\n",
    "```python\n",
    "imgName.encode('iso-8859-1').decode('gbk')\n",
    "```"
   ]
  },
  {
   "cell_type": "code",
   "execution_count": 5,
   "id": "33b9900c-a7c2-4dc2-a919-a2f6cd4f5fcc",
   "metadata": {},
   "outputs": [],
   "source": [
    "# package\n",
    "import os\n",
    "import requests\n",
    "from lxml import etree"
   ]
  },
  {
   "cell_type": "code",
   "execution_count": 18,
   "id": "f116cbac-1936-4811-bf56-0b0f57098dc5",
   "metadata": {},
   "outputs": [],
   "source": [
    "# static data\n",
    "headers = {\n",
    "    'User-Agent': 'Mozilla/5.0 (Windows NT 10.0; Win64; x64) AppleWebKit/537.36 (KHTML, like Gecko) Chrome/104.0.0.0 Safari/537.36'\n",
    "}\n",
    "\n",
    "base_url = 'https://pic.netbian.com/4kmeinv/'\n",
    "\n",
    "if not os.path.exists(url_save):\n",
    "    os.mkdir(url_save)"
   ]
  },
  {
   "cell_type": "code",
   "execution_count": null,
   "id": "11a7fd5e-6d16-45b4-9c98-9d46648f0c0d",
   "metadata": {},
   "outputs": [],
   "source": [
    "# crawler\n",
    "for i in range(2, 5):\n",
    "    base_url = 'https://pic.netbian.com/4kmeinv/'\n",
    "    base_url = base_url + 'index_' + repr(i) + '.html'\n",
    "    # print(base_url)\n",
    "    \n",
    "    page_text = requests.get(url = base_url, headers = headers).text\n",
    "    tree = etree.HTML(page_text)\n",
    "    src_list = tree.xpath('//ul[@class=\"clearfix\"]//img/@src')\n",
    "\n",
    "    for src in src_list:\n",
    "        imgName = src.split('/')[-1]\n",
    "        src = 'https://pic.netbian.com/' + src\n",
    "        imgName = url_save + '/' + imgName\n",
    "        img = requests.get(src, headers = headers).content\n",
    "        with open(imgName, 'wb') as fp:\n",
    "            fp.write(img)\n",
    "            print(imgName, '下载完成🐱🐱🐱')\n",
    "\n",
    "\n",
    "    \n",
    "# print('全部完成🐰🐰🐰')\n",
    "    "
   ]
  },
  {
   "cell_type": "code",
   "execution_count": null,
   "id": "2300b273-81b0-445c-8f97-f71e63197324",
   "metadata": {},
   "outputs": [],
   "source": [
    "# 高清\n",
    "https://pic.netbian.com/uploads/allimg/220604/002753-16542736733b2e.jpg\n",
    "# 小图\n",
    "https://pic.netbian.com/uploads/allimg/220604/002753-16542736739161.jpg"
   ]
  }
 ],
 "metadata": {
  "kernelspec": {
   "display_name": "Python 3 (ipykernel)",
   "language": "python",
   "name": "python3"
  },
  "language_info": {
   "codemirror_mode": {
    "name": "ipython",
    "version": 3
   },
   "file_extension": ".py",
   "mimetype": "text/x-python",
   "name": "python",
   "nbconvert_exporter": "python",
   "pygments_lexer": "ipython3",
   "version": "3.7.5"
  }
 },
 "nbformat": 4,
 "nbformat_minor": 5
}
