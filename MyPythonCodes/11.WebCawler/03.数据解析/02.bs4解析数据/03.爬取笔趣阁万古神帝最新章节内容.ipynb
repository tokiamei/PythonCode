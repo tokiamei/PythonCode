{
 "cells": [
  {
   "cell_type": "markdown",
   "id": "0cd5bef1-c71d-4abf-ab9d-93ff6a4ae584",
   "metadata": {},
   "source": [
    "# 爬取笔趣阁万古神帝最新章节"
   ]
  },
  {
   "cell_type": "markdown",
   "id": "e97d0f55-c72e-435f-954f-b267a1307c30",
   "metadata": {},
   "source": [
    "# 导包"
   ]
  },
  {
   "cell_type": "code",
   "execution_count": 1,
   "id": "a99f6c50-3bb6-4107-a100-82ac9d36ac45",
   "metadata": {},
   "outputs": [],
   "source": [
    "import requests\n",
    "import os\n",
    "from bs4 import BeautifulSoup"
   ]
  },
  {
   "cell_type": "markdown",
   "id": "78595e37-9eca-433b-a8b1-83655f985ce5",
   "metadata": {},
   "source": [
    "# 抽取公共信息"
   ]
  },
  {
   "cell_type": "code",
   "execution_count": 3,
   "id": "04dc02c3-dbbf-4d30-a540-7cf3f2541455",
   "metadata": {},
   "outputs": [],
   "source": [
    "headers = {\n",
    "    'User-Agent': 'Mozilla/5.0 (Windows NT 10.0; Win64; x64) AppleWebKit/537.36 (KHTML, like Gecko) Chrome/104.0.0.0 Safari/537.36'\n",
    "}\n",
    "\n",
    "# 没有就创建目录\n",
    "if not os.path.exists('./novel'):\n",
    "    os.mkdir('./novel')\n",
    "\n",
    "# 请求地址【获取携带章节名臣的页面】\n",
    "url_base = 'https://m.mayiwxw.com/1_1105/'"
   ]
  },
  {
   "cell_type": "markdown",
   "id": "aa00cb61-5059-4301-9dcb-a62b67a558b3",
   "metadata": {},
   "source": [
    "# 开始爬取"
   ]
  },
  {
   "cell_type": "code",
   "execution_count": 48,
   "id": "e42bd64d-d846-4052-9592-ac71d60518e9",
   "metadata": {},
   "outputs": [
    {
     "name": "stdout",
     "output_type": "stream",
     "text": [
      "小说下载完成🐱🐱🐱\n"
     ]
    }
   ],
   "source": [
    "# 章节标题的页面\n",
    "page_text = requests.get(url = url_base, headers = headers).text\n",
    "\n",
    "# BeautifulSoup 实例化\n",
    "soup = BeautifulSoup(page_text, 'lxml')\n",
    "# 获取章节标题的标签\n",
    "chap_tag = soup.select('.info_newest a')[0]\n",
    "# 章节内容的请求地址\n",
    "newUrl = url_base + chap_tag['href'].split('/')[-1]\n",
    "imgName = './novel/' + chap_tag.string.split(' ')[-1] + '.txt'\n",
    "\n",
    "# 再次发请求\n",
    "chap_text = requests.get(url = newUrl, headers = headers).text\n",
    "chapSoup = BeautifulSoup(chap_text, 'lxml')\n",
    "chap = chapSoup.select('#nr1')[0].text\n",
    "\n",
    "# 持久化存储\n",
    "with open(imgName, 'w', encoding='utf-8') as f:\n",
    "    f.write(chap)\n",
    "print('小说下载完成🐱🐱🐱')"
   ]
  }
 ],
 "metadata": {
  "kernelspec": {
   "display_name": "Python 3 (ipykernel)",
   "language": "python",
   "name": "python3"
  },
  "language_info": {
   "codemirror_mode": {
    "name": "ipython",
    "version": 3
   },
   "file_extension": ".py",
   "mimetype": "text/x-python",
   "name": "python",
   "nbconvert_exporter": "python",
   "pygments_lexer": "ipython3",
   "version": "3.9.9"
  }
 },
 "nbformat": 4,
 "nbformat_minor": 5
}
