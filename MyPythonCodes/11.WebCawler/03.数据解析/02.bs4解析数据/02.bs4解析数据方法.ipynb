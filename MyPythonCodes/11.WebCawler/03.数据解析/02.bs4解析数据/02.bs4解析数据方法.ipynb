{
 "cells": [
  {
   "cell_type": "markdown",
   "id": "a887809d-1fa7-4a8e-950a-0e97ef9452e3",
   "metadata": {},
   "source": [
    "# 学习 bs4 解析数据的方式"
   ]
  },
  {
   "cell_type": "markdown",
   "id": "67debd37-578c-48b1-abfa-d96f26c4ad57",
   "metadata": {},
   "source": [
    "# 导包"
   ]
  },
  {
   "cell_type": "code",
   "execution_count": 1,
   "id": "15a1672f-09b3-42d6-b981-7c26965ae70d",
   "metadata": {},
   "outputs": [],
   "source": [
    "from bs4 import BeautifulSoup"
   ]
  },
  {
   "cell_type": "markdown",
   "id": "e924dabe-a1cc-4b15-bdde-81c8a7e6f269",
   "metadata": {
    "tags": []
   },
   "source": [
    "# 使用 bs4 解析数据"
   ]
  },
  {
   "cell_type": "markdown",
   "id": "274bb3e1-adbd-4037-9d3c-ddf1c9ddd402",
   "metadata": {
    "tags": []
   },
   "source": [
    "## 获取标签"
   ]
  },
  {
   "cell_type": "code",
   "execution_count": 24,
   "id": "d05d8917-bf56-443a-aea4-f6f469334e54",
   "metadata": {},
   "outputs": [
    {
     "name": "stdout",
     "output_type": "stream",
     "text": [
      "[<p class=\"para\">哈哈</p>]\n"
     ]
    }
   ],
   "source": [
    "with open('./显示模式转换.html', 'r', encoding='utf-8') as f:\n",
    "    soup = BeautifulSoup(f, 'lxml')\n",
    "    # 打印全文\n",
    "    # print(soup) \n",
    "    \n",
    "    # 返回第一个 a 标签\n",
    "    # print(soup.a) \n",
    "    \n",
    "    # 返回第一个 div\n",
    "    # print(soup.div)\n",
    "    # print(soup.body)\n",
    "    # 等同于 soup.div\n",
    "    # print(soup.find('div')) \n",
    "    # print(soup.find('a', id=\"hua\"))\n",
    "    \n",
    "    # 返回复合的所有标签【列表】\n",
    "    # print(soup.find_all('a', id=\"hua\")) \n",
    "    \n",
    "    # 选择器解析【返回的是符合要求的列表】\n",
    "    # print(soup.select('#li'))\n",
    "    \n",
    "    # 空格表示多个层级\n",
    "    print(soup.select('#nav p'))\n",
    "    \n",
    "    \n",
    "    "
   ]
  },
  {
   "cell_type": "markdown",
   "id": "a070fc0d-e004-4e39-99db-f0cd392948f2",
   "metadata": {
    "tags": []
   },
   "source": [
    "## 获取标签中的数据\n",
    "\n",
    "1. 标签之间的文本数据\n",
    "\n",
    "```python\n",
    "    soup.a.text/string/get_text()\n",
    "    text/get_text() # 可以获得标签内所有文本内容\n",
    "    string # 只能获得该标签下的文本内容\n",
    "```\n",
    "    \n",
    "2. 标签中的属性值"
   ]
  },
  {
   "cell_type": "code",
   "execution_count": 41,
   "id": "4b06c550-7e57-4e02-980e-2ef3c9cc2343",
   "metadata": {},
   "outputs": [
    {
     "name": "stdout",
     "output_type": "stream",
     "text": [
      "~~~\n"
     ]
    }
   ],
   "source": [
    "with open('./显示模式转换.html', 'r', encoding='utf-8') as f:\n",
    "    soup = BeautifulSoup(f, 'lxml')\n",
    "    # print(soup.a.text)\n",
    "    # print(soup.p.string)\n",
    "    # print(soup.div.get_text())\n",
    "    # print(soup.select('#nav')[0].text)\n",
    "    # print(soup.select('#nav')[0].string) # string 无法显示\n",
    "    \n",
    "    # 获得标签中的属性值\n",
    "    print(soup.a['href'])\n",
    "    \n",
    "    \n",
    "    "
   ]
  }
 ],
 "metadata": {
  "kernelspec": {
   "display_name": "Python 3 (ipykernel)",
   "language": "python",
   "name": "python3"
  },
  "language_info": {
   "codemirror_mode": {
    "name": "ipython",
    "version": 3
   },
   "file_extension": ".py",
   "mimetype": "text/x-python",
   "name": "python",
   "nbconvert_exporter": "python",
   "pygments_lexer": "ipython3",
   "version": "3.9.12"
  }
 },
 "nbformat": 4,
 "nbformat_minor": 5
}
