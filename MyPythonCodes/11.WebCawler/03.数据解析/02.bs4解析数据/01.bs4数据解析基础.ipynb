{
 "cells": [
  {
   "cell_type": "markdown",
   "id": "ff80661c-a2e0-44a1-bf20-ffd1f9a38152",
   "metadata": {
    "jp-MarkdownHeadingCollapsed": true,
    "tags": []
   },
   "source": [
    "# bs4 进行数据解析\n",
    "\n",
    "## 原理\n",
    "\n",
    "1. 标签定位\n",
    "2. 提取标签，标签属性中存储的数据值\n",
    "\n",
    "## bs4 解析数据的原理\n",
    "\n",
    "1. 实例化一个 BeautifulSoup 对象，并把页面源码数据加载到对象中\n",
    "2. 通过调用 BeautifulSoup 对象中的相关属性和方法进行标签定位和数据提取"
   ]
  }
 ],
 "metadata": {
  "kernelspec": {
   "display_name": "Python 3 (ipykernel)",
   "language": "python",
   "name": "python3"
  },
  "language_info": {
   "codemirror_mode": {
    "name": "ipython",
    "version": 3
   },
   "file_extension": ".py",
   "mimetype": "text/x-python",
   "name": "python",
   "nbconvert_exporter": "python",
   "pygments_lexer": "ipython3",
   "version": "3.9.12"
  }
 },
 "nbformat": 4,
 "nbformat_minor": 5
}
