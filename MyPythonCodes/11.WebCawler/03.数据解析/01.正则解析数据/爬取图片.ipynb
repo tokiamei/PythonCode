{
 "cells": [
  {
   "cell_type": "markdown",
   "id": "81a235d1-1845-4750-a00d-a4d62c97ec54",
   "metadata": {},
   "source": [
    "# 数据解析基本简介\n",
    "\n",
    "- 聚焦爬虫\n",
    "- 正则\n",
    "- bs4\n",
    "- xpath"
   ]
  },
  {
   "cell_type": "markdown",
   "id": "45d91c58-22ee-4cb2-95ad-a7a5251c51ce",
   "metadata": {},
   "source": [
    "# 导包"
   ]
  },
  {
   "cell_type": "code",
   "execution_count": null,
   "id": "afd0abfb-074f-4aac-a987-254b333de600",
   "metadata": {},
   "outputs": [],
   "source": [
    "import requests\n",
    "# 正则模块\n",
    "import re\n",
    "# os 模块【用来创建文件夹】\n",
    "import os"
   ]
  },
  {
   "cell_type": "markdown",
   "id": "8374a02a-e636-4307-9885-2209b892e182",
   "metadata": {},
   "source": [
    "# 公共信息抽取"
   ]
  },
  {
   "cell_type": "code",
   "execution_count": null,
   "id": "50e585b7-1d58-4915-8a37-4cd7262a0972",
   "metadata": {},
   "outputs": [],
   "source": [
    "# 请求头\n",
    "headers = {\n",
    "    'User-Agent': 'Mozilla/5.0 (Windows NT 10.0; Win64; x64) AppleWebKit/537.36 (KHTML, like Gecko) Chrome/104.0.0.0 Safari/537.36'\n",
    "}"
   ]
  },
  {
   "cell_type": "markdown",
   "id": "a78aa553-b515-4eb2-a486-1cb5ae064a2e",
   "metadata": {
    "tags": []
   },
   "source": [
    "# 爬取图片"
   ]
  },
  {
   "cell_type": "code",
   "execution_count": null,
   "id": "c78ef291-4118-44bb-b25c-3bc1894b244b",
   "metadata": {},
   "outputs": [],
   "source": [
    "url = 'https://n.sinaimg.cn/translate/99/w400h499/20180403/-6v4-fysuuya1459475.jpg'\n",
    "\n",
    "# content 返回的是二进制形式的图片数据\n",
    "img_data = requests.get(url = url, headers = headers).content\n",
    "# 持久化存储到本地\n",
    "with open('./images/reba.jpg', 'wb') as f:\n",
    "    f.write(img_data)\n",
    "print('OK!!!')"
   ]
  },
  {
   "cell_type": "markdown",
   "id": "6400cd19-d713-470d-9260-21a66bc2713f",
   "metadata": {
    "jp-MarkdownHeadingCollapsed": true,
    "tags": []
   },
   "source": [
    "# 爬取搜狗页面所有迪丽热巴图片"
   ]
  },
  {
   "cell_type": "code",
   "execution_count": null,
   "id": "f4290a91-89e0-4a58-97ad-a0b85989684a",
   "metadata": {},
   "outputs": [],
   "source": [
    "# 创建保存图片的文件夹\n",
    "if not os.path.exists('./迪丽热巴'):\n",
    "    os.mkdir('./迪丽热巴')\n",
    "url = 'https://www.sogou.com/web?query=%E8%BF%AA%E4%B8%BD%E7%83%AD%E5%B7%B4&_asf=www.sogou.com&_ast=&w=01015002&p=40040108&ie=utf8&from=index-nologin&s_from=index&oq=&ri=1&sourceid=sugg&suguuid=&sut=0&sst0=1661587149374&lkt=0%2C0%2C0&sugsuv=1661531310140775&sugtime=1661587149374'\n",
    "\n",
    "data_text = requests.get(url = url, headers = headers).text\n",
    "# print(data_text)\n",
    "ex = '<div class=\"img-height.*?\">.*?<img src=\"(.*?)\" alt.*?</div>'\n",
    "img_src_list = re.findall(ex, data_text, re.S)\n",
    "# print(img_src_list)\n",
    "for src in img_src_list:\n",
    "    imgName = './迪丽热巴/' + src[-3:] + '.jpg'\n",
    "    img_data = requests.get(url = src, headers = headers).content\n",
    "    with open(imgName, 'wb') as f:\n",
    "        f.write(img_data)\n",
    "        print(imgName, '下载成功')"
   ]
  },
  {
   "cell_type": "markdown",
   "id": "cb723f2b-7c1d-4bcb-b8e2-33932fc9b700",
   "metadata": {
    "jp-MarkdownHeadingCollapsed": true,
    "tags": []
   },
   "source": [
    "# 爬取豆瓣松隆子图片"
   ]
  },
  {
   "cell_type": "code",
   "execution_count": null,
   "id": "027c1889-4b64-4fc0-a14d-9eefa41bc8d2",
   "metadata": {},
   "outputs": [],
   "source": [
    "if not os.path.exists('./松隆子'):\n",
    "    os.mkdir('./松隆子')\n",
    "url = 'https://movie.douban.com/celebrity/1003483/photos/?type=C&start=90&sortby=like&size=a&subtype=a'\n",
    "\n",
    "data_text = requests.get(url = url, headers = headers).text\n",
    "# print(data_text)\n",
    "ex = '<div class=\"cover\">.*?<img src=\"(.*?)\".*?'\n",
    "img_list = re.findall(ex, data_text, re.S)\n",
    "# print(img_list)\n",
    "for src in img_list:\n",
    "    imgName = './松隆子/' + src.split('/')[-1]\n",
    "    img = requests.get(url = src, headers = headers).content\n",
    "    with open(imgName, 'wb') as f:\n",
    "        f.write(img)\n",
    "        print(imgName, '下载完成🐱🐱🐱')\n"
   ]
  },
  {
   "cell_type": "markdown",
   "id": "f9779f2c-de8a-4105-94e3-7eb349a6e20b",
   "metadata": {},
   "source": [
    "# 爬取 mobile abyss 图片"
   ]
  },
  {
   "cell_type": "code",
   "execution_count": null,
   "id": "f4d6fd08-f434-4314-8d6e-a3856c73d5fb",
   "metadata": {},
   "outputs": [],
   "source": [
    "# 要爬取高清图片\n",
    "if not os.path.exists('./anime'):\n",
    "    os.mkdir('./anime')\n",
    "url_base = 'https://mobile.alphacoders.com/by-category/3'\n",
    "# 这里循环发送请求会被取消【莫名其妙】\n",
    "for index in range(3, 10):\n",
    "    params = {\n",
    "        'page': repr(index),\n",
    "        'quickload': '1'\n",
    "    }\n",
    "    data_text = requests.get(url = url_base, params = params, headers = headers).text\n",
    "    # print(data_text)\n",
    "    ex = '<img class=\"img-responsive\".*? src=\"(.*?)\".*?>'\n",
    "    img_list = re.findall(ex, data_text, re.S)\n",
    "    # print(img_list)\n",
    "    # 这里遍历 src 是为了拿到图片的唯一标识【一串数字】，再把这个数字组合成新的 url 发送请求\n",
    "    for src in img_list:\n",
    "        imgName = src.split('-')[-1]\n",
    "        src_tem = imgName.split('.')[0]\n",
    "        url = 'https://mfiles.alphacoders.com/' + src_tem[0:3] + '/' + imgName \n",
    "        img = requests.get(url = url, headers = headers).content\n",
    "        imgName = './anime/' + src.split('-')[-1]\n",
    "        with open(imgName, 'wb') as f:\n",
    "            f.write(img)\n",
    "            print(imgName, '下载完成🐱🐱🐱')\n",
    "print('全部下载完成')"
   ]
  }
 ],
 "metadata": {
  "kernelspec": {
   "display_name": "Python 3 (ipykernel)",
   "language": "python",
   "name": "python3"
  },
  "language_info": {
   "codemirror_mode": {
    "name": "ipython",
    "version": 3
   },
   "file_extension": ".py",
   "mimetype": "text/x-python",
   "name": "python",
   "nbconvert_exporter": "python",
   "pygments_lexer": "ipython3",
   "version": "3.7.5"
  }
 },
 "nbformat": 4,
 "nbformat_minor": 5
}
