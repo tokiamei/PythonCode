{
 "cells": [
  {
   "cell_type": "markdown",
   "id": "cac86422-af9e-4b12-b237-18cc59a3f11b",
   "metadata": {},
   "source": [
    "# UA 伪装\n",
    "\n",
    "- UA 检测\n",
    "\n",
    "    门户网站的服务器会检测对应请求的载体身份标识，如果检测到的载体身份标识为某一款浏览器，说明这是一次正常的请求\n",
    "    但是，如果被检测到请求的载体身份不是基于某一款浏览器的，则表示为不正常的请求，则服务器很可能会拒绝此次请求\n",
    "    \n",
    "- UA 伪装\n",
    "\n",
    "    让爬虫对应的请求身份载体标识伪装成一款浏览器"
   ]
  },
  {
   "cell_type": "code",
   "execution_count": 11,
   "id": "ce4a3e6d-ad89-4058-af01-f9e39dc133e0",
   "metadata": {},
   "outputs": [
    {
     "name": "stdin",
     "output_type": "stream",
     "text": [
      "请输入关键词:  迪丽热巴\n"
     ]
    },
    {
     "name": "stdout",
     "output_type": "stream",
     "text": [
      "./crawledData/迪丽热巴.html 保存成功!!!\n"
     ]
    }
   ],
   "source": [
    "import requests\n",
    "\n",
    "# UA伪装: 将对应的 User-Agent 封装到一个字典中\n",
    "headers = {\n",
    "    'User-Agent': 'Mozilla/5.0 (Windows NT 10.0; Win64; x64) AppleWebKit/537.36 (KHTML, like Gecko) Chrome/104.0.0.0 Safari/537.36'\n",
    "}\n",
    "\n",
    "url = 'https://www.sogou.com/web'\n",
    "# 动态绑定参数\n",
    "kw = input('请输入关键词: ')\n",
    "param = {\n",
    "    'query': kw\n",
    "}\n",
    "# 发送请求，拿到响应对象\n",
    "response = requests.get(url=url, params=param, headers=headers)\n",
    "page_text = response.text\n",
    "fileName = './crawledData/' + kw + '.html'\n",
    "# 持久化存储\n",
    "with open(fileName, 'w', encoding='utf-8') as fp:\n",
    "    fp.write(page_text)\n",
    "print(fileName, '保存成功!!!')"
   ]
  }
 ],
 "metadata": {
  "kernelspec": {
   "display_name": "Python 3 (ipykernel)",
   "language": "python",
   "name": "python3"
  },
  "language_info": {
   "codemirror_mode": {
    "name": "ipython",
    "version": 3
   },
   "file_extension": ".py",
   "mimetype": "text/x-python",
   "name": "python",
   "nbconvert_exporter": "python",
   "pygments_lexer": "ipython3",
   "version": "3.9.12"
  }
 },
 "nbformat": 4,
 "nbformat_minor": 5
}
