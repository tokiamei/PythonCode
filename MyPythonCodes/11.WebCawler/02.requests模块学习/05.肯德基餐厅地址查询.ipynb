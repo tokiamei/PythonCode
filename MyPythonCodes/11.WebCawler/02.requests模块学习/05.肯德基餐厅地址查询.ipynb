{
 "cells": [
  {
   "cell_type": "markdown",
   "id": "6fd08ab0-2a5a-4368-912a-29a9e2d3e517",
   "metadata": {},
   "source": [
    "# 肯德基餐厅地址查询"
   ]
  },
  {
   "cell_type": "code",
   "execution_count": 2,
   "id": "d05610a4-344b-4f0a-9739-3e1d4a525df3",
   "metadata": {},
   "outputs": [
    {
     "name": "stdin",
     "output_type": "stream",
     "text": [
      "请输入您要查询的地址:  淮安\n"
     ]
    },
    {
     "name": "stdout",
     "output_type": "stream",
     "text": [
      "over!!!\n"
     ]
    }
   ],
   "source": [
    "import requests\n",
    "import json\n",
    "url = 'http://www.kfc.com.cn/kfccda/ashx/GetStoreList.ashx?op=keyword'\n",
    "headers = {\n",
    "    'User-Agent': 'Mozilla/5.0 (Windows NT 10.0; Win64; x64) AppleWebKit/537.36 (KHTML, like Gecko) Chrome/104.0.0.0 Safari/537.36'\n",
    "}\n",
    "kw = input('请输入您要查询的地址: ')\n",
    "params = {\n",
    "    'cname': '',\n",
    "    'pid': '',\n",
    "    'keyword': kw,\n",
    "    'pageIndex': '1',\n",
    "    'pageSize': '10'\n",
    "}\n",
    "response = requests.get(url = url, params = params, headers = headers)\n",
    "data_text = response.json()\n",
    "# print(data_text)\n",
    "fileName = './crawledData/' + kw + '.json'\n",
    "with open(fileName, 'w', encoding='utf-8') as f:\n",
    "    json.dump(data_text, f, ensure_ascii=False)\n",
    "print('over!!!')"
   ]
  }
 ],
 "metadata": {
  "kernelspec": {
   "display_name": "Python 3 (ipykernel)",
   "language": "python",
   "name": "python3"
  },
  "language_info": {
   "codemirror_mode": {
    "name": "ipython",
    "version": 3
   },
   "file_extension": ".py",
   "mimetype": "text/x-python",
   "name": "python",
   "nbconvert_exporter": "python",
   "pygments_lexer": "ipython3",
   "version": "3.9.12"
  }
 },
 "nbformat": 4,
 "nbformat_minor": 5
}
