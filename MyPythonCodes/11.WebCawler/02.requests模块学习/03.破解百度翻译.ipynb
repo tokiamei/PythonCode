{
 "cells": [
  {
   "cell_type": "markdown",
   "id": "766616c3-7abd-4430-bd49-563b6dca993a",
   "metadata": {},
   "source": [
    "# 破解百度翻译\n",
    "\n",
    "- POST 请求【携带参数】\n",
    "- 响应数据是一组 <strong>json</strong> 数据"
   ]
  },
  {
   "cell_type": "code",
   "execution_count": 12,
   "id": "950b1e5c-f894-48d5-b8bf-18f67a42299e",
   "metadata": {},
   "outputs": [
    {
     "name": "stdin",
     "output_type": "stream",
     "text": [
      "请输入搜索关键词 dog\n"
     ]
    },
    {
     "name": "stdout",
     "output_type": "stream",
     "text": [
      "{'errno': 0, 'data': [{'k': 'dog', 'v': 'n. 狗; 蹩脚货; 丑女人; 卑鄙小人 v. 困扰; 跟踪'}, {'k': 'DOG', 'v': 'abbr. Data Output Gate 数据输出门'}, {'k': 'doge', 'v': 'n. 共和国总督'}, {'k': 'dogm', 'v': 'abbr. dogmatic 教条的; 独断的; dogmatism 教条主义; dogmatist'}, {'k': 'Dogo', 'v': '[地名] [马里、尼日尔、乍得] 多戈; [地名] [韩国] 道高'}]}\n"
     ]
    }
   ],
   "source": [
    "import requests\n",
    "import json\n",
    "\n",
    "# 指定 url\n",
    "post_url = 'https://fanyi.baidu.com/sug'\n",
    "# UA 伪装\n",
    "headers = {\n",
    "    'User-Agent': 'Mozilla/5.0 (Windows NT 10.0; Win64; x64) AppleWebKit/537.36 (KHTML, like Gecko) Chrome/104.0.0.0 Safari/537.36'\n",
    "}\n",
    "\n",
    "# post 请求参数【和 get 的参数类似】\n",
    "kw = input('请输入搜索关键词')\n",
    "data = {\n",
    "    'kw': kw\n",
    "}\n",
    "# 发送请求\n",
    "response = requests.post(url=post_url, data=data)\n",
    "# 获取响应数据【返回的数据类型是 json 字符串】\n",
    "dic_obj = response.json()\n",
    "print(dic_obj)\n",
    "\n",
    "# 持久化存储\n",
    "# fileName = './crawledData/' + kw + '.json'\n",
    "# with open(fileName, 'w', encoding='utf-8') as fp:\n",
    "#     json.dump(dic_obj, fp=fp, ensure_ascii=False)\n",
    "# print('over！！！')"
   ]
  }
 ],
 "metadata": {
  "kernelspec": {
   "display_name": "Python 3 (ipykernel)",
   "language": "python",
   "name": "python3"
  },
  "language_info": {
   "codemirror_mode": {
    "name": "ipython",
    "version": 3
   },
   "file_extension": ".py",
   "mimetype": "text/x-python",
   "name": "python",
   "nbconvert_exporter": "python",
   "pygments_lexer": "ipython3",
   "version": "3.9.12"
  }
 },
 "nbformat": 4,
 "nbformat_minor": 5
}
