{
 "cells": [
  {
   "cell_type": "code",
   "execution_count": 8,
   "id": "20e8f6f4-5ab1-4b8f-90cc-e7320cb881a8",
   "metadata": {
    "execution": {
     "iopub.execute_input": "2024-12-21T05:21:16.220344Z",
     "iopub.status.busy": "2024-12-21T05:21:16.219560Z",
     "iopub.status.idle": "2024-12-21T05:21:16.228017Z",
     "shell.execute_reply": "2024-12-21T05:21:16.227047Z",
     "shell.execute_reply.started": "2024-12-21T05:21:16.220259Z"
    }
   },
   "outputs": [],
   "source": [
    "import requests, json, re\n",
    "from prettytable import PrettyTable"
   ]
  },
  {
   "cell_type": "markdown",
   "id": "d15e273c-d303-4e9c-bc33-22c4b6489534",
   "metadata": {},
   "source": [
    "# 爬取豆瓣电影"
   ]
  },
  {
   "cell_type": "code",
   "execution_count": 17,
   "id": "5583f97c-0101-4328-b630-2ec9507f60d8",
   "metadata": {
    "execution": {
     "iopub.execute_input": "2024-12-21T05:25:17.995987Z",
     "iopub.status.busy": "2024-12-21T05:25:17.995508Z",
     "iopub.status.idle": "2024-12-21T05:25:18.552485Z",
     "shell.execute_reply": "2024-12-21T05:25:18.551894Z",
     "shell.execute_reply.started": "2024-12-21T05:25:17.995954Z"
    }
   },
   "outputs": [
    {
     "ename": "JSONDecodeError",
     "evalue": "Expecting value: line 1 column 1 (char 0)",
     "output_type": "error",
     "traceback": [
      "\u001b[0;31m---------------------------------------------------------------------------\u001b[0m",
      "\u001b[0;31mJSONDecodeError\u001b[0m                           Traceback (most recent call last)",
      "File \u001b[0;32m/Library/Python/3.9/site-packages/requests/models.py:974\u001b[0m, in \u001b[0;36mResponse.json\u001b[0;34m(self, **kwargs)\u001b[0m\n\u001b[1;32m    973\u001b[0m \u001b[38;5;28;01mtry\u001b[39;00m:\n\u001b[0;32m--> 974\u001b[0m     \u001b[38;5;28;01mreturn\u001b[39;00m \u001b[43mcomplexjson\u001b[49m\u001b[38;5;241;43m.\u001b[39;49m\u001b[43mloads\u001b[49m\u001b[43m(\u001b[49m\u001b[38;5;28;43mself\u001b[39;49m\u001b[38;5;241;43m.\u001b[39;49m\u001b[43mtext\u001b[49m\u001b[43m,\u001b[49m\u001b[43m \u001b[49m\u001b[38;5;241;43m*\u001b[39;49m\u001b[38;5;241;43m*\u001b[39;49m\u001b[43mkwargs\u001b[49m\u001b[43m)\u001b[49m\n\u001b[1;32m    975\u001b[0m \u001b[38;5;28;01mexcept\u001b[39;00m JSONDecodeError \u001b[38;5;28;01mas\u001b[39;00m e:\n\u001b[1;32m    976\u001b[0m     \u001b[38;5;66;03m# Catch JSON-related errors and raise as requests.JSONDecodeError\u001b[39;00m\n\u001b[1;32m    977\u001b[0m     \u001b[38;5;66;03m# This aliases json.JSONDecodeError and simplejson.JSONDecodeError\u001b[39;00m\n",
      "File \u001b[0;32m/Library/Developer/CommandLineTools/Library/Frameworks/Python3.framework/Versions/3.9/lib/python3.9/json/__init__.py:346\u001b[0m, in \u001b[0;36mloads\u001b[0;34m(s, cls, object_hook, parse_float, parse_int, parse_constant, object_pairs_hook, **kw)\u001b[0m\n\u001b[1;32m    343\u001b[0m \u001b[38;5;28;01mif\u001b[39;00m (\u001b[38;5;28mcls\u001b[39m \u001b[38;5;129;01mis\u001b[39;00m \u001b[38;5;28;01mNone\u001b[39;00m \u001b[38;5;129;01mand\u001b[39;00m object_hook \u001b[38;5;129;01mis\u001b[39;00m \u001b[38;5;28;01mNone\u001b[39;00m \u001b[38;5;129;01mand\u001b[39;00m\n\u001b[1;32m    344\u001b[0m         parse_int \u001b[38;5;129;01mis\u001b[39;00m \u001b[38;5;28;01mNone\u001b[39;00m \u001b[38;5;129;01mand\u001b[39;00m parse_float \u001b[38;5;129;01mis\u001b[39;00m \u001b[38;5;28;01mNone\u001b[39;00m \u001b[38;5;129;01mand\u001b[39;00m\n\u001b[1;32m    345\u001b[0m         parse_constant \u001b[38;5;129;01mis\u001b[39;00m \u001b[38;5;28;01mNone\u001b[39;00m \u001b[38;5;129;01mand\u001b[39;00m object_pairs_hook \u001b[38;5;129;01mis\u001b[39;00m \u001b[38;5;28;01mNone\u001b[39;00m \u001b[38;5;129;01mand\u001b[39;00m \u001b[38;5;129;01mnot\u001b[39;00m kw):\n\u001b[0;32m--> 346\u001b[0m     \u001b[38;5;28;01mreturn\u001b[39;00m \u001b[43m_default_decoder\u001b[49m\u001b[38;5;241;43m.\u001b[39;49m\u001b[43mdecode\u001b[49m\u001b[43m(\u001b[49m\u001b[43ms\u001b[49m\u001b[43m)\u001b[49m\n\u001b[1;32m    347\u001b[0m \u001b[38;5;28;01mif\u001b[39;00m \u001b[38;5;28mcls\u001b[39m \u001b[38;5;129;01mis\u001b[39;00m \u001b[38;5;28;01mNone\u001b[39;00m:\n",
      "File \u001b[0;32m/Library/Developer/CommandLineTools/Library/Frameworks/Python3.framework/Versions/3.9/lib/python3.9/json/decoder.py:337\u001b[0m, in \u001b[0;36mJSONDecoder.decode\u001b[0;34m(self, s, _w)\u001b[0m\n\u001b[1;32m    333\u001b[0m \u001b[38;5;250m\u001b[39m\u001b[38;5;124;03m\"\"\"Return the Python representation of ``s`` (a ``str`` instance\u001b[39;00m\n\u001b[1;32m    334\u001b[0m \u001b[38;5;124;03mcontaining a JSON document).\u001b[39;00m\n\u001b[1;32m    335\u001b[0m \n\u001b[1;32m    336\u001b[0m \u001b[38;5;124;03m\"\"\"\u001b[39;00m\n\u001b[0;32m--> 337\u001b[0m obj, end \u001b[38;5;241m=\u001b[39m \u001b[38;5;28;43mself\u001b[39;49m\u001b[38;5;241;43m.\u001b[39;49m\u001b[43mraw_decode\u001b[49m\u001b[43m(\u001b[49m\u001b[43ms\u001b[49m\u001b[43m,\u001b[49m\u001b[43m \u001b[49m\u001b[43midx\u001b[49m\u001b[38;5;241;43m=\u001b[39;49m\u001b[43m_w\u001b[49m\u001b[43m(\u001b[49m\u001b[43ms\u001b[49m\u001b[43m,\u001b[49m\u001b[43m \u001b[49m\u001b[38;5;241;43m0\u001b[39;49m\u001b[43m)\u001b[49m\u001b[38;5;241;43m.\u001b[39;49m\u001b[43mend\u001b[49m\u001b[43m(\u001b[49m\u001b[43m)\u001b[49m\u001b[43m)\u001b[49m\n\u001b[1;32m    338\u001b[0m end \u001b[38;5;241m=\u001b[39m _w(s, end)\u001b[38;5;241m.\u001b[39mend()\n",
      "File \u001b[0;32m/Library/Developer/CommandLineTools/Library/Frameworks/Python3.framework/Versions/3.9/lib/python3.9/json/decoder.py:355\u001b[0m, in \u001b[0;36mJSONDecoder.raw_decode\u001b[0;34m(self, s, idx)\u001b[0m\n\u001b[1;32m    354\u001b[0m \u001b[38;5;28;01mexcept\u001b[39;00m \u001b[38;5;167;01mStopIteration\u001b[39;00m \u001b[38;5;28;01mas\u001b[39;00m err:\n\u001b[0;32m--> 355\u001b[0m     \u001b[38;5;28;01mraise\u001b[39;00m JSONDecodeError(\u001b[38;5;124m\"\u001b[39m\u001b[38;5;124mExpecting value\u001b[39m\u001b[38;5;124m\"\u001b[39m, s, err\u001b[38;5;241m.\u001b[39mvalue) \u001b[38;5;28;01mfrom\u001b[39;00m \u001b[38;5;28;01mNone\u001b[39;00m\n\u001b[1;32m    356\u001b[0m \u001b[38;5;28;01mreturn\u001b[39;00m obj, end\n",
      "\u001b[0;31mJSONDecodeError\u001b[0m: Expecting value: line 1 column 1 (char 0)",
      "\nDuring handling of the above exception, another exception occurred:\n",
      "\u001b[0;31mJSONDecodeError\u001b[0m                           Traceback (most recent call last)",
      "Cell \u001b[0;32mIn[17], line 16\u001b[0m\n\u001b[1;32m     14\u001b[0m \u001b[38;5;66;03m# 发请求，获取响应数据\u001b[39;00m\n\u001b[1;32m     15\u001b[0m response \u001b[38;5;241m=\u001b[39m requests\u001b[38;5;241m.\u001b[39mget(url\u001b[38;5;241m=\u001b[39murl, params\u001b[38;5;241m=\u001b[39mparam, headers\u001b[38;5;241m=\u001b[39mheaders)\n\u001b[0;32m---> 16\u001b[0m list_data \u001b[38;5;241m=\u001b[39m \u001b[43mresponse\u001b[49m\u001b[38;5;241;43m.\u001b[39;49m\u001b[43mjson\u001b[49m\u001b[43m(\u001b[49m\u001b[43m)\u001b[49m\n\u001b[1;32m     17\u001b[0m response\u001b[38;5;241m.\u001b[39mtext\n\u001b[1;32m     19\u001b[0m \u001b[38;5;66;03m# 持久化存储\u001b[39;00m\n",
      "File \u001b[0;32m/Library/Python/3.9/site-packages/requests/models.py:978\u001b[0m, in \u001b[0;36mResponse.json\u001b[0;34m(self, **kwargs)\u001b[0m\n\u001b[1;32m    974\u001b[0m     \u001b[38;5;28;01mreturn\u001b[39;00m complexjson\u001b[38;5;241m.\u001b[39mloads(\u001b[38;5;28mself\u001b[39m\u001b[38;5;241m.\u001b[39mtext, \u001b[38;5;241m*\u001b[39m\u001b[38;5;241m*\u001b[39mkwargs)\n\u001b[1;32m    975\u001b[0m \u001b[38;5;28;01mexcept\u001b[39;00m JSONDecodeError \u001b[38;5;28;01mas\u001b[39;00m e:\n\u001b[1;32m    976\u001b[0m     \u001b[38;5;66;03m# Catch JSON-related errors and raise as requests.JSONDecodeError\u001b[39;00m\n\u001b[1;32m    977\u001b[0m     \u001b[38;5;66;03m# This aliases json.JSONDecodeError and simplejson.JSONDecodeError\u001b[39;00m\n\u001b[0;32m--> 978\u001b[0m     \u001b[38;5;28;01mraise\u001b[39;00m RequestsJSONDecodeError(e\u001b[38;5;241m.\u001b[39mmsg, e\u001b[38;5;241m.\u001b[39mdoc, e\u001b[38;5;241m.\u001b[39mpos)\n",
      "\u001b[0;31mJSONDecodeError\u001b[0m: Expecting value: line 1 column 1 (char 0)"
     ]
    }
   ],
   "source": [
    "url = 'https://movie.douban.com/j/chart/top_list'\n",
    "\n",
    "param = {\n",
    "    'type':'24',\n",
    "    'interval_id':'100:90',\n",
    "    'action':'',\n",
    "    'start':'60', # 从数据库中第几部电影开始取\n",
    "    'limit':'20' # 每次请求电影的数量\n",
    "}\n",
    "# UA 伪装\n",
    "headers = {\n",
    "    'User-Agent': 'Mozilla/5.0 (Macintosh; Intel Mac OS X 10_15_7) AppleWebKit/537.36 (KHTML, like Gecko) Chrome/131.0.0.0 Safari/537.36'\n",
    "}\n",
    "# 发请求，获取响应数据\n",
    "response = requests.get(url=url, params=param, headers=headers)\n",
    "list_data = response.json()\n",
    "response.text\n",
    "\n",
    "# 持久化存储\n",
    "with open('crawledData/doubanMovie.json', 'w', encoding='utf-8') as fp:\n",
    "    json.dump(list_data, fp=fp, ensure_ascii=False)\n",
    "print('over!!!')"
   ]
  },
  {
   "cell_type": "markdown",
   "id": "3fd378c6-6784-4497-a6b4-ec84da2d1b73",
   "metadata": {},
   "source": [
    "# 豆瓣电影Top250"
   ]
  },
  {
   "cell_type": "code",
   "execution_count": null,
   "id": "419c2688-2bd5-4fd0-bb79-fe6ab62e0612",
   "metadata": {},
   "outputs": [],
   "source": [
    "def get_movie_top250_one_page(start):\n",
    "    \"\"\"爬取豆瓣电影 top250\n",
    "    分页进行爬取\n",
    "    \"\"\"\n",
    "    url = f'https://movie.douban.com/top250?start={start}&filter='\n",
    "\n",
    "    # 发现不加 header 获取内容是空；先尝试加 User-Agent；如果还是空，那就需要加更多的 header\n",
    "    headers = {\n",
    "        'User-Agent': 'Mozilla/5.0 (Macintosh; Intel Mac OS X 10_15_7) AppleWebKit/537.36 (KHTML, like Gecko) Chrome/131.0.0.0 Safari/537.36',\n",
    "    }\n",
    "    r = requests.get(url, headers=headers)\n",
    "    html = r.text\n",
    "\n",
    "    re_s = '<li>(.*?)</li>'\n",
    "    item_info = re.findall(re_s, html, re.DOTALL)\n",
    "    # print(item_info, '==========')\n",
    "\n",
    "    movies = []\n",
    "    for item in item_info:\n",
    "        id_ = re.findall(r'<em class=\"\">(\\d+)</em>', item)[0]\n",
    "        url = re.findall('<a href=\"(.*)\" class=\"\">', item)[0]\n",
    "        title = re.findall('<span class=\"title\">(.*)</span>', item)[0]\n",
    "        starring = re.findall('主演: (.*?)[ .].*<br>', item)\n",
    "        starring = starring[0] if starring else ''\n",
    "        year = re.findall(r'(\\d{4}).*&nbsp;', item)[0]\n",
    "        score = re.findall(\n",
    "            '<span class=\"rating_num\" property=\"v:average\">(.*)</span>',\n",
    "            item)[0]\n",
    "        print(id_, url, title, starring, year, score)\n",
    "        movies.append({\n",
    "            'id': int(id_),\n",
    "            'url': url,\n",
    "            'title': title,\n",
    "            'starring': starring,\n",
    "            'year': int(year),\n",
    "            'score': float(score),\n",
    "        })\n",
    "    return movies\n",
    "\n",
    "\n",
    "def get_movie_top250_all_page():\n",
    "    \"\"\"爬取所有页\"\"\"\n",
    "    movies = []\n",
    "    for page in range(10):\n",
    "        start = page * 25\n",
    "        movies.extend(get_movie_top250_one_page(start))\n",
    "        # break\n",
    "    return movies\n",
    "\n",
    "\n",
    "def print_prettytable(movies):\n",
    "    \"\"\"以 table 格式输出\"\"\"\n",
    "    \n",
    "    tb = PrettyTable()\n",
    "    tb.field_names = ['序号', '电影名', '主演', '上映年代', '豆瓣评分']\n",
    "    for movie in movies[:10]:\n",
    "        tb.add_row([\n",
    "            movie['id'], movie['title'], movie['starring'],\n",
    "            movie['year'], movie['score']\n",
    "        ])\n",
    "    print(tb)\n",
    "\n",
    "\n",
    "def print_json(movies):\n",
    "    \"\"\"以 json 格式输出\"\"\"\n",
    "    import json\n",
    "    print(json.dumps(movies[:10], indent=4, ensure_ascii=False))\n",
    "\n",
    "\n",
    "def save_to_csv(movies, fname='top250.csv'):\n",
    "    \"\"\"保存为 csv 文件\"\"\"\n",
    "    data = '\\n'.join([','.join(map(str, movie.values())) for movie in movies])\n",
    "    with open(fname, 'w', encoding='utf_8_sig') as f:\n",
    "        f.write(data)\n",
    "\n",
    "\n",
    "def save_to_mysql(movies):\n",
    "    \"\"\"保存到 mysql 数据库中\"\"\"\n",
    "    pass\n",
    "\n",
    "\n",
    "if __name__ == '__main__':\n",
    "    movies = get_movie_top250_all_page()\n",
    "    print_prettytable(movies)\n",
    "    print_json(movies)\n",
    "    save_to_csv(movies)"
   ]
  },
  {
   "cell_type": "code",
   "execution_count": null,
   "id": "86a408fe-f329-4ec1-85f2-fb409e909d0a",
   "metadata": {},
   "outputs": [],
   "source": []
  }
 ],
 "metadata": {
  "kernelspec": {
   "display_name": "Python 3 (ipykernel)",
   "language": "python",
   "name": "python3"
  },
  "language_info": {
   "codemirror_mode": {
    "name": "ipython",
    "version": 3
   },
   "file_extension": ".py",
   "mimetype": "text/x-python",
   "name": "python",
   "nbconvert_exporter": "python",
   "pygments_lexer": "ipython3",
   "version": "3.9.6"
  }
 },
 "nbformat": 4,
 "nbformat_minor": 5
}
