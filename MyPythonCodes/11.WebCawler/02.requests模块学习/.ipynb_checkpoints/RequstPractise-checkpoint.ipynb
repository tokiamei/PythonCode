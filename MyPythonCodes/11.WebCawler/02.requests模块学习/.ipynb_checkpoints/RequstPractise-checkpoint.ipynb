{
 "cells": [
  {
   "cell_type": "code",
   "execution_count": 2,
   "id": "56e2c4b3-ea2a-4bbe-9659-72d3334a2931",
   "metadata": {
    "execution": {
     "iopub.execute_input": "2024-12-21T04:50:27.435116Z",
     "iopub.status.busy": "2024-12-21T04:50:27.434230Z",
     "iopub.status.idle": "2024-12-21T04:50:27.443386Z",
     "shell.execute_reply": "2024-12-21T04:50:27.441183Z",
     "shell.execute_reply.started": "2024-12-21T04:50:27.435070Z"
    }
   },
   "outputs": [],
   "source": [
    "import re, requests"
   ]
  },
  {
   "cell_type": "code",
   "execution_count": 27,
   "id": "452e9a34-1c1e-4028-9463-877bd65a152d",
   "metadata": {
    "execution": {
     "iopub.execute_input": "2024-12-21T05:19:02.341963Z",
     "iopub.status.busy": "2024-12-21T05:19:02.341336Z",
     "iopub.status.idle": "2024-12-21T05:19:03.054183Z",
     "shell.execute_reply": "2024-12-21T05:19:03.053426Z",
     "shell.execute_reply.started": "2024-12-21T05:19:02.341921Z"
    }
   },
   "outputs": [
    {
     "name": "stdout",
     "output_type": "stream",
     "text": [
      "文章标题为： 爬虫-正则表达式 | Python 运维开发\n",
      "菜单列表如下：\n",
      "链接：https://python-abc.xyz；标题：猜数游戏\n",
      "链接：https://python-abc.xyz；标题：石头剪刀布\n",
      "链接：https://python-abc.xyz；标题：统计字符数量\n",
      "链接：https://python-abc.xyz；标题：字符串加密\n",
      "链接：https://python-abc.xyz；标题：检测密码强度\n",
      "链接：https://python-abc.xyz；标题：检测自己的 python 等级\n",
      "链接：https://python-abc.xyz；标题：文字转二维码\n",
      "链接：https://python-abc.xyz；标题：九九乘法表\n",
      "链接：https://python-abc.xyz；标题：水仙花数\n",
      "链接：https://python-abc.xyz；标题：素数\n",
      "链接：https://python-abc.xyz；标题：求阶乘\n",
      "链接：https://python-abc.xyz；标题：杨辉三角形\n",
      "链接：https://python-abc.xyz；标题：斐波那契数列\n",
      "链接：https://python-abc.xyz；标题：回文数\n",
      "链接：https://python-abc.xyz；标题：非利克瑞尔数\n",
      "链接：https://python-abc.xyz；标题：十进制转二进制\n",
      "链接：https://python-abc.xyz；标题：矩阵转置\n",
      "链接：https://python-abc.xyz；标题：矩阵相加\n",
      "链接：https://python-abc.xyz；标题：矩阵相乘\n",
      "链接：https://python-abc.xyz；标题：随机对称图形\n",
      "链接：https://python-abc.xyz；标题：数字时钟\n",
      "链接：https://python-abc.xyz；标题：黄金螺旋\n",
      "链接：https://python-abc.xyz；标题：太极图\n",
      "链接：https://python-abc.xyz；标题：选择排序\n",
      "链接：https://python-abc.xyz；标题：冒泡排序\n",
      "链接：https://python-abc.xyz；标题：插入排序\n",
      "链接：https://python-abc.xyz；标题：归并排序\n",
      "链接：https://python-abc.xyz；标题：快速排序\n",
      "链接：https://python-abc.xyz；标题：指鹿为马排序\n",
      "链接：https://python-abc.xyz；标题：正则表达式\n",
      "链接：https://python-abc.xyz；标题：BeautifulSoup 库\n",
      "链接：https://python-abc.xyz；标题：豆瓣电影Top250（实战）\n",
      "链接：https://python-abc.xyz；标题：数独生成\n",
      "链接：https://python-abc.xyz；标题：数独求解\n",
      "链接：https://python-abc.xyz；标题：贪吃蛇\n",
      "链接：https://python-abc.xyz；标题：俄罗斯方块\n",
      "链接：https://python-abc.xyz；标题：读写文件\n",
      "链接：https://python-abc.xyz；标题：注册登录系统（类）\n"
     ]
    }
   ],
   "source": [
    "def get_article_info(url):\n",
    "    headers: dict = {\n",
    "    'User-Agent': 'Mozilla/5.0 (Macintosh; Intel Mac OS X 10_15_7) AppleWebKit/537.36 (KHTML, like Gecko) Chrome/131.0.0.0 Safari/537.36'\n",
    "    }\n",
    "    # 获取整个页面 html 内容\n",
    "    r = requests.get(url, headers=headers)\n",
    "    r.encoding: str ='utf-8'\n",
    "    html: str = r.text\n",
    "    # 获取页面标题\n",
    "    title_info: list = re.findall('<title>(.*)</title>', html)\n",
    "    title: str = title_info[0]\n",
    "    # 获取左侧菜单 html 内容\n",
    "    menu_info = re.findall('<p class=\"text\" data-v-c24f735a>(.*?)</p>', html, re.DOTALL)\n",
    "\n",
    "    return title, menu_info\n",
    "\n",
    "\n",
    "if __name__ == '__main__':\n",
    "    url = 'https://python-abc.xyz/basic/5995/'\n",
    "    title, menu_info = get_article_info(url)\n",
    "    print('文章标题为：', title)\n",
    "    print('菜单列表如下：')\n",
    "    for menu in menu_info:\n",
    "        print('链接：https://python-abc.xyz；标题：{}'.format(menu))"
   ]
  },
  {
   "cell_type": "code",
   "execution_count": null,
   "id": "29132aab-05fd-4193-8fc0-adad40fad403",
   "metadata": {},
   "outputs": [],
   "source": []
  }
 ],
 "metadata": {
  "kernelspec": {
   "display_name": "Python 3 (ipykernel)",
   "language": "python",
   "name": "python3"
  },
  "language_info": {
   "codemirror_mode": {
    "name": "ipython",
    "version": 3
   },
   "file_extension": ".py",
   "mimetype": "text/x-python",
   "name": "python",
   "nbconvert_exporter": "python",
   "pygments_lexer": "ipython3",
   "version": "3.9.6"
  }
 },
 "nbformat": 4,
 "nbformat_minor": 5
}
