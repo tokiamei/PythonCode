{
 "cells": [
  {
   "cell_type": "code",
   "execution_count": 12,
   "id": "9dc6be52-93d2-4c67-90c0-b7091850b0f2",
   "metadata": {
    "execution": {
     "iopub.execute_input": "2024-12-21T04:16:31.343504Z",
     "iopub.status.busy": "2024-12-21T04:16:31.342802Z",
     "iopub.status.idle": "2024-12-21T04:16:31.349573Z",
     "shell.execute_reply": "2024-12-21T04:16:31.348420Z",
     "shell.execute_reply.started": "2024-12-21T04:16:31.343460Z"
    }
   },
   "outputs": [],
   "source": [
    "import requests, json"
   ]
  },
  {
   "cell_type": "markdown",
   "id": "766616c3-7abd-4430-bd49-563b6dca993a",
   "metadata": {},
   "source": [
    "# 破解百度翻译\n",
    "\n",
    "- POST 请求【携带参数】\n",
    "- 响应数据是一组 <strong>json</strong> 数据"
   ]
  },
  {
   "cell_type": "code",
   "execution_count": 9,
   "id": "950b1e5c-f894-48d5-b8bf-18f67a42299e",
   "metadata": {
    "execution": {
     "iopub.execute_input": "2024-12-21T04:15:51.399339Z",
     "iopub.status.busy": "2024-12-21T04:15:51.398731Z",
     "iopub.status.idle": "2024-12-21T04:15:54.798425Z",
     "shell.execute_reply": "2024-12-21T04:15:54.796660Z",
     "shell.execute_reply.started": "2024-12-21T04:15:51.399300Z"
    }
   },
   "outputs": [
    {
     "name": "stdin",
     "output_type": "stream",
     "text": [
      "请输入搜索关键词 龙\n"
     ]
    },
    {
     "name": "stdout",
     "output_type": "stream",
     "text": [
      "{'errno': 0, 'data': [{'k': '龙', 'v': '名. [动]dragon; a huge extinct reptile; a surname 形.'}, {'k': '龙井', 'v': 'Longjing, a famous green tea produced in Hangzhou;'}, {'k': '龙儿', 'v': '[电影]Dragon Love'}, {'k': '龙凤', 'v': 'dragon and phoenix'}, {'k': '龙华', 'v': '[人名]Ryuka'}], 'logid': 954902932}\n"
     ]
    }
   ],
   "source": [
    "# 指定 url\n",
    "post_url = 'https://fanyi.baidu.com/sug'\n",
    "# post_url = 'https://www.sogou.com/web'\n",
    "\n",
    "# UA 伪装\n",
    "headers = {\n",
    "    'User-Agent': 'Mozilla/5.0 (Macintosh; Intel Mac OS X 10_15_7) AppleWebKit/537.36 (KHTML, like Gecko) Chrome/131.0.0.0 Safari/537.36'\n",
    "}\n",
    "\n",
    "# post 请求参数【和 get 的参数类似】\n",
    "data = {'kw': input('请输入搜索关键词')}\n",
    "# 发送请求\n",
    "response = requests.post(url=post_url, data=data)\n",
    "# print(response.text)\n",
    "# 获取响应数据【返回的数据类型是 json 字符串】\n",
    "dic_obj = response.json()\n",
    "print(dic_obj)\n",
    "\n",
    "# 持久化存储\n",
    "# fileName = './crawledData/' + kw + '.json'\n",
    "# with open(fileName, 'w', encoding='utf-8') as fp:\n",
    "#     json.dump(dic_obj, fp=fp, ensure_ascii=False)\n",
    "# print('over！！！')"
   ]
  }
 ],
 "metadata": {
  "kernelspec": {
   "display_name": "Python 3 (ipykernel)",
   "language": "python",
   "name": "python3"
  },
  "language_info": {
   "codemirror_mode": {
    "name": "ipython",
    "version": 3
   },
   "file_extension": ".py",
   "mimetype": "text/x-python",
   "name": "python",
   "nbconvert_exporter": "python",
   "pygments_lexer": "ipython3",
   "version": "3.9.6"
  }
 },
 "nbformat": 4,
 "nbformat_minor": 5
}
