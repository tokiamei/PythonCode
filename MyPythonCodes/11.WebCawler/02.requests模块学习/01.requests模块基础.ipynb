{
 "cells": [
  {
   "cell_type": "markdown",
   "id": "f354c970-7aec-4257-9b51-4a0a473446d2",
   "metadata": {},
   "source": [
    "# 如何使用 requests 模块 ?\n",
    "\n",
    "- 指定 url\n",
    "- 发起请求\n",
    "- 获取响应数据\n",
    "- 持久化c'n"
   ]
  },
  {
   "cell_type": "markdown",
   "id": "a53876c8-f0b6-4624-b47a-36d1fa5a8bad",
   "metadata": {},
   "source": [
    "# 实战\n",
    "\n",
    "需求:\n",
    "    爬取搜狗首页的页面数据"
   ]
  },
  {
   "cell_type": "code",
   "execution_count": 1,
   "id": "296e2414-8260-451a-8fca-a9c1590f8a74",
   "metadata": {
    "execution": {
     "iopub.execute_input": "2024-11-17T06:42:15.877017Z",
     "iopub.status.busy": "2024-11-17T06:42:15.876230Z",
     "iopub.status.idle": "2024-11-17T06:42:16.426210Z",
     "shell.execute_reply": "2024-11-17T06:42:16.424916Z",
     "shell.execute_reply.started": "2024-11-17T06:42:15.876962Z"
    }
   },
   "outputs": [
    {
     "name": "stderr",
     "output_type": "stream",
     "text": [
      "/Library/Python/3.9/site-packages/urllib3/__init__.py:35: NotOpenSSLWarning: urllib3 v2 only supports OpenSSL 1.1.1+, currently the 'ssl' module is compiled with 'LibreSSL 2.8.3'. See: https://github.com/urllib3/urllib3/issues/3020\n",
      "  warnings.warn(\n"
     ]
    },
    {
     "name": "stdout",
     "output_type": "stream",
     "text": [
      "爬取数据结束！！！\n"
     ]
    }
   ],
   "source": [
    "import requests\n",
    "\n",
    "# 1.指定 url\n",
    "url = 'https://www.sogou.com/'\n",
    "# 2.发请求请，返回一个响应对象\n",
    "response = requests.get(url=url)\n",
    "# 3.获取响应数据【字符串形式】\n",
    "page_text = response.text\n",
    "# 4.持久化存储\n",
    "with open('./sogou.html', 'w', encoding='utf-8') as fp:\n",
    "    fp.write(page_text)\n",
    "print('爬取数据结束！！！')"
   ]
  }
 ],
 "metadata": {
  "kernelspec": {
   "display_name": "Python 3 (ipykernel)",
   "language": "python",
   "name": "python3"
  },
  "language_info": {
   "codemirror_mode": {
    "name": "ipython",
    "version": 3
   },
   "file_extension": ".py",
   "mimetype": "text/x-python",
   "name": "python",
   "nbconvert_exporter": "python",
   "pygments_lexer": "ipython3",
   "version": "3.9.6"
  }
 },
 "nbformat": 4,
 "nbformat_minor": 5
}
