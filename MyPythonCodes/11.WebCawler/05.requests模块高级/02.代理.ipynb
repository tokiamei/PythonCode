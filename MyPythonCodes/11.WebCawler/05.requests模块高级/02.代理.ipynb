{
 "cells": [
  {
   "cell_type": "markdown",
   "id": "3a850ec1-1d54-4ffc-8a9c-d3749d0ce964",
   "metadata": {},
   "source": [
    "# 代理\n",
    "\n",
    "什么是代理 ?\n",
    "\n",
    "- 代理服务器\n",
    "\n",
    "代理的作用:\n",
    "\n",
    "- 突破自身 IP 的访问限制\n",
    "- 隐藏自身的 IP\n",
    "\n",
    "代理相关的网站\n",
    "\n",
    "- 快代理\n",
    "- 西祠代理\n",
    "- www.goubnajia.com\n",
    "\n",
    "代理 IP 的匿名度:\n",
    "\n",
    "- 透明: 服务器知道该次请求使用了代理，也知道对应请求的真实 IP\n",
    "- 匿名: 知道使用了代理，但不知道真实 IP\n",
    "- 高匿名: 不知道使用了代理，也不知道真实 IP"
   ]
  },
  {
   "cell_type": "markdown",
   "id": "44411f34-1c1b-447f-9168-4511a860ad06",
   "metadata": {},
   "source": [
    "# 操作\n",
    "```python\n",
    "page_text = request.get(url = url, headers = headers, proxies = { \"https\": \"IP 地址\" })\n",
    "```"
   ]
  }
 ],
 "metadata": {
  "kernelspec": {
   "display_name": "Python 3 (ipykernel)",
   "language": "python",
   "name": "python3"
  },
  "language_info": {
   "codemirror_mode": {
    "name": "ipython",
    "version": 3
   },
   "file_extension": ".py",
   "mimetype": "text/x-python",
   "name": "python",
   "nbconvert_exporter": "python",
   "pygments_lexer": "ipython3",
   "version": "3.9.9"
  }
 },
 "nbformat": 4,
 "nbformat_minor": 5
}
