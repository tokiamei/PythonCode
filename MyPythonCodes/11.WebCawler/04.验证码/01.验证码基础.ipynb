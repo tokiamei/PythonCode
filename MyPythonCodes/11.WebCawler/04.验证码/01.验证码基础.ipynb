{
 "cells": [
  {
   "cell_type": "markdown",
   "id": "630f1e87-b4c1-46fb-8aea-5afd86bd2c81",
   "metadata": {},
   "source": [
    "# 验证码识别\n",
    "\n",
    "验证码\n",
    "\n",
    "    一种反爬机制。【验证验证码图片中的数据，用于模拟登陆操作】\n",
    "\n",
    "识别验证码的操作:\n",
    "\n",
    "- 人工肉眼识别【不推荐】\n",
    "- 第三方自动识别【推荐】"
   ]
  },
  {
   "cell_type": "code",
   "execution_count": 29,
   "id": "6b9eba68-bd19-4995-bb69-c3b7449f61e6",
   "metadata": {},
   "outputs": [],
   "source": [
    "# 包\n",
    "import requests\n",
    "from lxml import etree\n",
    "import os\n",
    "# 超级鹰用到的包\n",
    "from hashlib import md5"
   ]
  },
  {
   "cell_type": "code",
   "execution_count": 30,
   "id": "66e229c5-ced6-410c-b418-71e0586442f1",
   "metadata": {},
   "outputs": [],
   "source": [
    "# static data\n",
    "\n",
    "if not os.path.exists('./verCode'):\n",
    "    os.mkdir('./verCode')\n",
    "\n",
    "# 登陆页面\n",
    "url = 'https://so.gushiwen.cn/user/login.aspx?from=http://so.gushiwen.cn/user/collect.aspx'\n",
    "\n",
    "headers = {\n",
    "    'User-Agent': 'Mozilla/5.0 (Windows NT 10.0; Win64; x64) AppleWebKit/537.36 (KHTML, like Gecko) Chrome/104.0.0.0 Safari/537.36'\n",
    "}"
   ]
  },
  {
   "cell_type": "code",
   "execution_count": 36,
   "id": "6453fca0-3509-4eab-b64f-2afd41d7178a",
   "metadata": {},
   "outputs": [
    {
     "name": "stdout",
     "output_type": "stream",
     "text": [
      "存储完毕\n"
     ]
    }
   ],
   "source": [
    "# crawler\n",
    "page_text = requests.get(url = url, headers = headers).text\n",
    "tree = etree.HTML(page_text)\n",
    "# 验证码图片 src 属性值\n",
    "src = tree.xpath('//*[@id=\"imgCode\"]/@src')[0]\n",
    "\n",
    "# 获取验证码的图片\n",
    "url_code = 'https://so.gushiwen.cn' + src\n",
    "img = requests.get(url_code, headers = headers).content\n",
    "# 持久化存储验证码图片【.jpg 的格式居然能用~~~】\n",
    "# imgName = './verCode/' + src.split('/')[1]\n",
    "with open('./code.jpg', 'wb') as fp:\n",
    "    fp.write(img)\n",
    "print('存储完毕')"
   ]
  },
  {
   "cell_type": "code",
   "execution_count": null,
   "id": "d92d7650-cfea-4a78-ad03-48bc98492049",
   "metadata": {},
   "outputs": [],
   "source": [
    "# 用超级鹰解验证码"
   ]
  },
  {
   "cell_type": "code",
   "execution_count": 35,
   "id": "683caff5-2f95-4fb2-b8b5-350b751e2d51",
   "metadata": {},
   "outputs": [
    {
     "name": "stdout",
     "output_type": "stream",
     "text": [
      "{'err_no': 0, 'err_str': 'OK', 'pic_id': '1188220240954090001', 'pic_str': '32fo', 'md5': '14f76efa990139365b7e315c12e493e8'}\n"
     ]
    }
   ],
   "source": [
    "# 超级鹰封装好的一个类，待会直接 实例化即可\n",
    "class Chaojiying_Client(object):\n",
    "\n",
    "    def __init__(self, username, password, soft_id):\n",
    "        self.username = username\n",
    "        password =  password.encode('utf8')\n",
    "        self.password = md5(password).hexdigest()\n",
    "        self.soft_id = soft_id\n",
    "        self.base_params = {\n",
    "            'user': self.username,\n",
    "            'pass2': self.password,\n",
    "            'softid': self.soft_id,\n",
    "        }\n",
    "        self.headers = {\n",
    "            'Connection': 'Keep-Alive',\n",
    "            'User-Agent': 'Mozilla/4.0 (compatible; MSIE 8.0; Windows NT 5.1; Trident/4.0)',\n",
    "        }\n",
    "\n",
    "    def PostPic(self, im, codetype):\n",
    "        \"\"\"\n",
    "        im: 图片字节\n",
    "        codetype: 题目类型 参考 http://www.chaojiying.com/price.html\n",
    "        \"\"\"\n",
    "        params = {\n",
    "            'codetype': codetype,\n",
    "        }\n",
    "        params.update(self.base_params)\n",
    "        files = {'userfile': ('ccc.jpg', im)}\n",
    "        r = requests.post('http://upload.chaojiying.net/Upload/Processing.php', data=params, files=files, headers=self.headers)\n",
    "        return r.json()\n",
    "\n",
    "    def PostPic_base64(self, base64_str, codetype):\n",
    "        \"\"\"\n",
    "        im: 图片字节\n",
    "        codetype: 题目类型 参考 http://www.chaojiying.com/price.html\n",
    "        \"\"\"\n",
    "        params = {\n",
    "            'codetype': codetype,\n",
    "            'file_base64':base64_str\n",
    "        }\n",
    "        params.update(self.base_params)\n",
    "        r = requests.post('http://upload.chaojiying.net/Upload/Processing.php', data=params, headers=self.headers)\n",
    "        return r.json()\n",
    "\n",
    "    def ReportError(self, im_id):\n",
    "        \"\"\"\n",
    "        im_id:报错题目的图片ID\n",
    "        \"\"\"\n",
    "        params = {\n",
    "            'id': im_id,\n",
    "        }\n",
    "        params.update(self.base_params)\n",
    "        r = requests.post('http://upload.chaojiying.net/Upload/ReportError.php', data=params, headers=self.headers)\n",
    "        return r.json()\n",
    "\n",
    "#用户中心>>软件ID 生成一个替换 96001\n",
    "#本地图片文件路径 来替换 a.jpg 有时WIN系统须要//\n",
    "#1902 验证码类型  官方网站>>价格体系 3.4+版 print 后要加()\n",
    "chaojiying = Chaojiying_Client('1940335829', '密码', '938368')\t\n",
    "im = open('./code.jpg', 'rb').read()\t\n",
    "# chaojiying.PostPic(im, 1902) 返回一个字典，pic_str 的值就是验证出来的值\n",
    "print(chaojiying.PostPic(im, 1902))\n",
    "#print chaojiying.PostPic(base64_str, 1902)  #此处为传入 base64代码"
   ]
  }
 ],
 "metadata": {
  "kernelspec": {
   "display_name": "Python 3 (ipykernel)",
   "language": "python",
   "name": "python3"
  },
  "language_info": {
   "codemirror_mode": {
    "name": "ipython",
    "version": 3
   },
   "file_extension": ".py",
   "mimetype": "text/x-python",
   "name": "python",
   "nbconvert_exporter": "python",
   "pygments_lexer": "ipython3",
   "version": "3.9.9"
  }
 },
 "nbformat": 4,
 "nbformat_minor": 5
}
