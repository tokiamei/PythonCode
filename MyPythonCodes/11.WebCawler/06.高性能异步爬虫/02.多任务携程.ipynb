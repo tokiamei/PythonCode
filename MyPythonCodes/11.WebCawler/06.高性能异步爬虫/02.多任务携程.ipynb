{
 "cells": [
  {
   "cell_type": "markdown",
   "id": "e7aa0271-fa80-4a25-9332-d20ae10a5313",
   "metadata": {
    "tags": []
   },
   "source": [
    "# 多任务携程\n",
    "\n",
    "注意: 如果一部携程过程中出现了同步模块的相关的代码，那么就无法实现异步"
   ]
  },
  {
   "cell_type": "code",
   "execution_count": null,
   "id": "fefeed52-3321-490e-b99d-fddcbdf9b8f4",
   "metadata": {},
   "outputs": [],
   "source": [
    "import time \n",
    "import asyncio\n",
    "import nest_asyncio\n",
    "nest_asyncio.apply()\n",
    "import os\n",
    "import requests\n",
    "import aiohttp\n",
    "from lxml import etree\n",
    "import aiofiles"
   ]
  },
  {
   "cell_type": "code",
   "execution_count": null,
   "id": "ee115410-fe48-4eeb-9e8d-941dd84dd3ac",
   "metadata": {
    "jupyter": {
     "source_hidden": true
    },
    "tags": []
   },
   "outputs": [],
   "source": [
    "async def request(url):\n",
    "    print('正在下载', url)\n",
    "    # time.sleep(2) # 这个还是同步代码【无法实现异步】\n",
    "    # 在 asyncio 中遇到阻塞操作必须进行手动挂起\n",
    "    await asyncio.sleep(2)\n",
    "    print('下载完成', url)\n",
    "\n",
    "start_time = time.time()\n",
    "urls = [\n",
    "    'www.badicu.com',\n",
    "    'www.google.com',\n",
    "    'www.sougou.com'\n",
    "]\n",
    "\n",
    "# 存储任务列表\n",
    "tasks = []\n",
    "for url in urls:\n",
    "    c = request(url)\n",
    "    task = asyncio.ensure_future(c)\n",
    "    tasks.append(task)\n",
    "loop = asyncio.get_event_loop()\n",
    "loop.run_until_complete(asyncio.wait(tasks))\n",
    "\n",
    "end_time = time.time()\n",
    "print(end_time - start_time)\n"
   ]
  },
  {
   "cell_type": "markdown",
   "id": "bd44e263-b851-4c5c-875f-ba654c824903",
   "metadata": {},
   "source": [
    "# 多任务异步【自定义开启服务器】\n",
    "\n",
    "注意: requests 是同步请求，在异步请求中使用 requests 就变成同步执行了"
   ]
  },
  {
   "cell_type": "code",
   "execution_count": null,
   "id": "d92d7389-9515-42ce-b9c4-879593cde902",
   "metadata": {
    "jupyter": {
     "source_hidden": true
    },
    "tags": []
   },
   "outputs": [],
   "source": [
    "start = time.time()\n",
    "urls = [\n",
    "    'http://127.0.0.1:5000/bobo','http://127.0.0.1:5000/jay','http://127.0.0.1:5000/tom'\n",
    "]\n",
    "\n",
    "async def get_page(url):\n",
    "    print('正在下载',url)\n",
    "    #requests.get是基于同步，必须使用基于异步的网络请求模块进行指定url的请求发送\n",
    "    #aiohttp:基于异步网络请求的模块\n",
    "    response = requests.get(url=url)\n",
    "    print('下载完毕：',response.text)\n",
    "\n",
    "tasks = []\n",
    "\n",
    "for url in urls:\n",
    "    c = get_page(url)\n",
    "    task = asyncio.ensure_future(c)\n",
    "    tasks.append(task)\n",
    "\n",
    "loop = asyncio.get_event_loop()\n",
    "loop.run_until_complete(asyncio.wait(tasks))\n",
    "\n",
    "end = time.time()\n",
    "\n",
    "print('总耗时:',end-start)"
   ]
  },
  {
   "cell_type": "markdown",
   "id": "3afec045-a58b-4d65-a8e2-33ea444785be",
   "metadata": {
    "tags": []
   },
   "source": [
    "# aiohttp 实现多任务异步爬虫\n",
    "\n",
    "失败【原因未知，那么多图片只有那么几张能爬下来】"
   ]
  },
  {
   "cell_type": "code",
   "execution_count": null,
   "id": "4b362dc6-2d3d-4314-b97a-fe115397e2be",
   "metadata": {
    "tags": []
   },
   "outputs": [],
   "source": [
    "# 使用 axiohttp 中的 ClientSession \n",
    "start = time.time()\n",
    "urls = [\n",
    "    'http://127.0.0.1:5000/bobo','http://127.0.0.1:5000/jay','http://127.0.0.1:5000/tom'\n",
    "]\n",
    "\n",
    "async def get_page(url):\n",
    "    async with aiohttp.ClientSession() as session:\n",
    "        async with await session.get(url) as response:\n",
    "            # text() 方法返回字符串形式的响应数据\n",
    "            # read() 方法返回二进制形式的响应数据\n",
    "            # jsom() 方法返回 json 对象\n",
    "            page_text = await response.text()\n",
    "            print(page_text)\n",
    "\n",
    "tasks = []\n",
    "\n",
    "for url in urls:\n",
    "    c = get_page(url)\n",
    "    task = asyncio.ensure_future(c)\n",
    "    tasks.append(task)\n",
    "\n",
    "loop = asyncio.get_event_loop()\n",
    "loop.run_until_complete(asyncio.wait(tasks))\n",
    "\n",
    "end = time.time()\n",
    "\n",
    "print('总耗时:',end-start)"
   ]
  },
  {
   "cell_type": "code",
   "execution_count": null,
   "id": "a8b0cd26-f328-45b6-9ae3-0179caaca75a",
   "metadata": {},
   "outputs": [],
   "source": [
    "# 异步爬取 abyss 壁纸\n",
    "headers = {\n",
    "    'User-Agent': 'Mozilla/5.0 (Windows NT 10.0; Win64; x64) AppleWebKit/537.36 (KHTML, like Gecko) Chrome/104.0.0.0 Safari/537.36'\n",
    "}\n",
    "\n",
    "params = {\n",
    "    'id': '3',\n",
    "    'name': 'Anime Wallpapers',\n",
    "    'page': '2'\n",
    "}\n",
    "\n",
    "cookies = { 'cookie': '__gpi=UID=0000078812e12323:T=1657417742:RT=1660474479:S=ALNI_MYzZBpye3NgSRNGkLom2785IzBzcQ; _ga=GA1.2.778128166.1657538555; __gads=ID=063c61a94a7eb059:T=1657417742:S=ALNI_MZjR-8khMQmnHa_-NAlgX8WRqUezw; _ga_HL65XQTV30=GS1.1.1660474480.9.1.1660475390.0; cookieconsent_status=allow; AlphaCodersView=paged; Sorting=newest; wa_session=bfvnlmd4fncr243rcsea68qebm' }\n",
    "\n",
    "url = 'https://wall.alphacoders.com/by_category.php?id=3&name=Anime+Wallpapers&page=2'"
   ]
  },
  {
   "cell_type": "code",
   "execution_count": null,
   "id": "b09cafa9-84de-4a1c-9565-d5690f1916bc",
   "metadata": {},
   "outputs": [],
   "source": [
    "page_text = requests.get(url = url, headers = headers, params = params, cookies = cookies).text\n",
    "\n",
    "tree = etree.HTML(page_text)\n",
    "src_list = tree.xpath('//div[@class=\"boxgrid\"]//img/@src')\n",
    "\n",
    "# async def get_image(src):\n",
    "#     imgName =  'D:/Image/LIKES/Animation/WallPaper/GIRL07/' + src.split('/')[-1]\n",
    "#     src = 'https://images2.alphacoders.com/126/' + src.split('/')[-1]\n",
    "#     async with aiohttp.ClientSession(headers = headers) as session:\n",
    "#         async with await session.get(url = src, headers = headers) as response:\n",
    "#             # img = \n",
    "#             print('开始下载')\n",
    "#             async with aiofiles.open(imgName, 'wb') as afp:\n",
    "#                 await afp.write(await response.content.read())\n",
    "#                 print(imgName, '下载完成')\n",
    "\n",
    "# tasks = []\n",
    "\n",
    "# for src in src_list:\n",
    "#     src = src.split('/')[-1]\n",
    "#     c = get_image(src)\n",
    "#     task = asyncio.ensure_future(c)\n",
    "#     tasks.append(task)\n",
    "    \n",
    "# loop = asyncio.get_event_loop()\n",
    "# loop.run_until_complete(asyncio.wait(tasks))\n",
    "    \n",
    "# print('所有图片下载完毕')"
   ]
  }
 ],
 "metadata": {
  "kernelspec": {
   "display_name": "Python 3 (ipykernel)",
   "language": "python",
   "name": "python3"
  },
  "language_info": {
   "codemirror_mode": {
    "name": "ipython",
    "version": 3
   },
   "file_extension": ".py",
   "mimetype": "text/x-python",
   "name": "python",
   "nbconvert_exporter": "python",
   "pygments_lexer": "ipython3",
   "version": "3.7.5"
  }
 },
 "nbformat": 4,
 "nbformat_minor": 5
}
