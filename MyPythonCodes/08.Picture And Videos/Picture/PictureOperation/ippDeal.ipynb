{
 "cells": [
  {
   "cell_type": "code",
   "execution_count": 3,
   "id": "051db9c5-3105-4f55-ab53-34d15a98b16d",
   "metadata": {
    "execution": {
     "iopub.execute_input": "2023-11-21T04:42:37.857931Z",
     "iopub.status.busy": "2023-11-21T04:42:37.856932Z",
     "iopub.status.idle": "2023-11-21T04:42:37.903840Z",
     "shell.execute_reply": "2023-11-21T04:42:37.902825Z",
     "shell.execute_reply.started": "2023-11-21T04:42:37.857931Z"
    }
   },
   "outputs": [
    {
     "ename": "UnidentifiedImageError",
     "evalue": "cannot identify image file '1.ipp'",
     "output_type": "error",
     "traceback": [
      "\u001b[1;31m---------------------------------------------------------------------------\u001b[0m",
      "\u001b[1;31mUnidentifiedImageError\u001b[0m                    Traceback (most recent call last)",
      "Cell \u001b[1;32mIn[3], line 4\u001b[0m\n\u001b[0;32m      1\u001b[0m \u001b[38;5;28;01mfrom\u001b[39;00m \u001b[38;5;21;01mPIL\u001b[39;00m \u001b[38;5;28;01mimport\u001b[39;00m Image  \n\u001b[0;32m      3\u001b[0m \u001b[38;5;66;03m# 打开.ipp文件  \u001b[39;00m\n\u001b[1;32m----> 4\u001b[0m image \u001b[38;5;241m=\u001b[39m \u001b[43mImage\u001b[49m\u001b[38;5;241;43m.\u001b[39;49m\u001b[43mopen\u001b[49m\u001b[43m(\u001b[49m\u001b[38;5;124;43m'\u001b[39;49m\u001b[38;5;124;43m1.ipp\u001b[39;49m\u001b[38;5;124;43m'\u001b[39;49m\u001b[43m)\u001b[49m  \n\u001b[0;32m      6\u001b[0m \u001b[38;5;66;03m# 对图像进行处理\u001b[39;00m\n\u001b[0;32m      7\u001b[0m   \n\u001b[0;32m      8\u001b[0m \u001b[38;5;66;03m# 保存图像为JPEG格式  \u001b[39;00m\n\u001b[0;32m      9\u001b[0m \u001b[38;5;66;03m# image.save('example.jpg')\u001b[39;00m\n",
      "File \u001b[1;32m~\\AppData\\Local\\Programs\\Python\\Python311\\Lib\\site-packages\\PIL\\Image.py:3280\u001b[0m, in \u001b[0;36mopen\u001b[1;34m(fp, mode, formats)\u001b[0m\n\u001b[0;32m   3278\u001b[0m     warnings\u001b[38;5;241m.\u001b[39mwarn(message)\n\u001b[0;32m   3279\u001b[0m msg \u001b[38;5;241m=\u001b[39m \u001b[38;5;124m\"\u001b[39m\u001b[38;5;124mcannot identify image file \u001b[39m\u001b[38;5;132;01m%r\u001b[39;00m\u001b[38;5;124m\"\u001b[39m \u001b[38;5;241m%\u001b[39m (filename \u001b[38;5;28;01mif\u001b[39;00m filename \u001b[38;5;28;01melse\u001b[39;00m fp)\n\u001b[1;32m-> 3280\u001b[0m \u001b[38;5;28;01mraise\u001b[39;00m UnidentifiedImageError(msg)\n",
      "\u001b[1;31mUnidentifiedImageError\u001b[0m: cannot identify image file '1.ipp'"
     ]
    }
   ],
   "source": [
    "from PIL import Image  \n",
    "  \n",
    "# 打开.ipp文件  \n",
    "image = Image.open('1.ipp')  \n",
    "  \n",
    "# 对图像进行处理\n",
    "  \n",
    "# 保存图像为JPEG格式  \n",
    "# image.save('example.jpg')"
   ]
  }
 ],
 "metadata": {
  "kernelspec": {
   "display_name": "Python 3 (ipykernel)",
   "language": "python",
   "name": "python3"
  },
  "language_info": {
   "codemirror_mode": {
    "name": "ipython",
    "version": 3
   },
   "file_extension": ".py",
   "mimetype": "text/x-python",
   "name": "python",
   "nbconvert_exporter": "python",
   "pygments_lexer": "ipython3",
   "version": "3.11.4"
  }
 },
 "nbformat": 4,
 "nbformat_minor": 5
}
