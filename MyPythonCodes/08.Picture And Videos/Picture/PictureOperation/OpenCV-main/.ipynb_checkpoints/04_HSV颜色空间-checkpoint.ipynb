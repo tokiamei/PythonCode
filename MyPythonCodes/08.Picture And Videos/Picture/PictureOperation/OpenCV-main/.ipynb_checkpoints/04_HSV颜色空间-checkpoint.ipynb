{
 "cells": [
  {
   "cell_type": "markdown",
   "metadata": {},
   "source": [
    "# HSV颜色空间"
   ]
  },
  {
   "cell_type": "markdown",
   "metadata": {},
   "source": [
    "# 1. HSV颜色空间"
   ]
  },
  {
   "cell_type": "markdown",
   "metadata": {},
   "source": [
    "① HSV 颜色空间为：\n",
    "\n",
    "- H - 色调(主波长)。 \n",
    "- S - 饱和度(纯度/颜色的阴影)。 \n",
    "- V - 强度。"
   ]
  },
  {
   "cell_type": "code",
   "execution_count": 1,
   "metadata": {
    "execution": {
     "iopub.execute_input": "2023-10-30T15:03:02.872879Z",
     "iopub.status.busy": "2023-10-30T15:03:02.872879Z",
     "iopub.status.idle": "2023-10-30T15:03:03.999938Z",
     "shell.execute_reply": "2023-10-30T15:03:03.997922Z",
     "shell.execute_reply.started": "2023-10-30T15:03:02.872879Z"
    }
   },
   "outputs": [],
   "source": [
    "import cv2 #opencv的缩写为cv2\n",
    "import matplotlib.pyplot as plt # matplotlib库用于绘图展示\n",
    "import numpy as np   # numpy数值计算工具包\n",
    "\n",
    "# 魔法指令，直接展示图，Jupyter notebook特有\n",
    "%matplotlib inline   "
   ]
  },
  {
   "cell_type": "code",
   "execution_count": 2,
   "metadata": {
    "execution": {
     "iopub.execute_input": "2023-10-30T15:03:05.089114Z",
     "iopub.status.busy": "2023-10-30T15:03:05.088117Z",
     "iopub.status.idle": "2023-10-30T15:03:24.396119Z",
     "shell.execute_reply": "2023-10-30T15:03:24.395600Z",
     "shell.execute_reply.started": "2023-10-30T15:03:05.089114Z"
    }
   },
   "outputs": [],
   "source": [
    "hsv = cv2.imread('01_Picture/01_cat.jpg', cv2.COLOR_BGR2HSV) \n",
    "cv2.imshow('hsv',hsv)\n",
    "cv2.waitKey(0)\n",
    "cv2.destroyAllWindows()"
   ]
  }
 ],
 "metadata": {
  "kernelspec": {
   "display_name": "Python 3 (ipykernel)",
   "language": "python",
   "name": "python3"
  },
  "language_info": {
   "codemirror_mode": {
    "name": "ipython",
    "version": 3
   },
   "file_extension": ".py",
   "mimetype": "text/x-python",
   "name": "python",
   "nbconvert_exporter": "python",
   "pygments_lexer": "ipython3",
   "version": "3.11.4"
  },
  "toc": {
   "base_numbering": 1,
   "nav_menu": {},
   "number_sections": false,
   "sideBar": true,
   "skip_h1_title": false,
   "title_cell": "Table of Contents",
   "title_sidebar": "Contents",
   "toc_cell": false,
   "toc_position": {},
   "toc_section_display": true,
   "toc_window_display": true
  }
 },
 "nbformat": 4,
 "nbformat_minor": 4
}
