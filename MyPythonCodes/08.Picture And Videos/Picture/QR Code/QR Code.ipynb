{
 "cells": [
  {
   "cell_type": "markdown",
   "id": "d35bec84-4bd6-4f10-b285-c30a698a9227",
   "metadata": {},
   "source": [
    "# 1、使用 QR 脚本生成二维码"
   ]
  },
  {
   "cell_type": "code",
   "execution_count": 1,
   "id": "a835a4b5-bbe0-4a46-977b-6201404f4dc7",
   "metadata": {
    "execution": {
     "iopub.execute_input": "2024-04-18T11:33:30.756893Z",
     "iopub.status.busy": "2024-04-18T11:33:30.755900Z",
     "iopub.status.idle": "2024-04-18T11:33:31.263955Z",
     "shell.execute_reply": "2024-04-18T11:33:31.261943Z",
     "shell.execute_reply.started": "2024-04-18T11:33:30.756893Z"
    }
   },
   "outputs": [],
   "source": [
    "! qr \"hello world!\" > test1.png\n"
   ]
  },
  {
   "cell_type": "code",
   "execution_count": 2,
   "id": "a96e745a-ba49-4b9d-bd89-ced4432edb92",
   "metadata": {
    "execution": {
     "iopub.execute_input": "2024-04-18T11:34:18.111228Z",
     "iopub.status.busy": "2024-04-18T11:34:18.111228Z",
     "iopub.status.idle": "2024-04-18T11:34:18.224449Z",
     "shell.execute_reply": "2024-04-18T11:34:18.222424Z",
     "shell.execute_reply.started": "2024-04-18T11:34:18.111228Z"
    }
   },
   "outputs": [
    {
     "name": "stdout",
     "output_type": "stream",
     "text": [
      "img size is (290, 290)\n"
     ]
    },
    {
     "data": {
      "image/jpeg": "[encoded data removed]",
      "image/png": "[encoded data removed]",
      "text/plain": [
       "<PIL.PngImagePlugin.PngImageFile image mode=1 size=290x290>"
      ]
     },
     "metadata": {},
     "output_type": "display_data"
    }
   ],
   "source": [
    "from PIL import Image\n",
    "from IPython.display import display\n",
    " \n",
    "img = Image.open('test1.png', 'r')\n",
    "print(\"img size is {}\".format(img.size))\n",
    "\n",
    "# 显示图片\n",
    "display(img)\n"
   ]
  },
  {
   "cell_type": "code",
   "execution_count": null,
   "id": "03d41132-e708-4d99-84d9-d22e92d01d16",
   "metadata": {},
   "outputs": [],
   "source": []
  },
  {
   "cell_type": "markdown",
   "id": "216b6e21-b783-40c4-9fc6-16910838795e",
   "metadata": {},
   "source": [
    "# 2、使用 Python 生成二维码"
   ]
  },
  {
   "cell_type": "code",
   "execution_count": 4,
   "id": "88b664b9-dc9e-42ed-aa8f-73d5d1c0dfe0",
   "metadata": {
    "execution": {
     "iopub.execute_input": "2024-04-22T04:35:08.135370Z",
     "iopub.status.busy": "2024-04-22T04:35:08.135370Z",
     "iopub.status.idle": "2024-04-22T04:35:08.264735Z",
     "shell.execute_reply": "2024-04-22T04:35:08.263676Z",
     "shell.execute_reply.started": "2024-04-22T04:35:08.135370Z"
    }
   },
   "outputs": [],
   "source": [
    "import qrcode\n",
    "# 构建二维码"
   ]
  },
  {
   "cell_type": "code",
   "execution_count": null,
   "id": "b5be4e1c-e059-4599-b24e-323511bcaea9",
   "metadata": {
    "execution": {
     "iopub.execute_input": "2024-04-18T11:37:13.191673Z",
     "iopub.status.busy": "2024-04-18T11:37:13.191673Z",
     "iopub.status.idle": "2024-04-18T11:37:13.246299Z",
     "shell.execute_reply": "2024-04-18T11:37:13.244224Z",
     "shell.execute_reply.started": "2024-04-18T11:37:13.191673Z"
    }
   },
   "outputs": [],
   "source": [
    "data = 'hello world!'\n",
    "img = qrcode.make(data)\n",
    "# 显示图片格式，为qrcode.image.pil.PilImage\n",
    "print(type(img))\n",
    "# 保存图片 \n",
    "img.save(\"test2.png\")"
   ]
  },
  {
   "cell_type": "code",
   "execution_count": 5,
   "id": "e14714c2-4cbb-4e8a-8fcc-03e140d598e9",
   "metadata": {
    "execution": {
     "iopub.execute_input": "2024-04-22T04:35:09.830961Z",
     "iopub.status.busy": "2024-04-22T04:35:09.829961Z",
     "iopub.status.idle": "2024-04-22T04:35:09.837962Z",
     "shell.execute_reply": "2024-04-22T04:35:09.835943Z",
     "shell.execute_reply.started": "2024-04-22T04:35:09.830961Z"
    }
   },
   "outputs": [],
   "source": [
    "def QRCode_Generator(text, fileName):\n",
    "    img = qrcode.make(text)\n",
    "    img.save(fileName)"
   ]
  },
  {
   "cell_type": "code",
   "execution_count": 9,
   "id": "a2ab1e1b-7844-4102-8414-13b88114e1cd",
   "metadata": {
    "execution": {
     "iopub.execute_input": "2024-04-22T05:56:29.729178Z",
     "iopub.status.busy": "2024-04-22T05:56:29.728180Z",
     "iopub.status.idle": "2024-04-22T05:56:29.758641Z",
     "shell.execute_reply": "2024-04-22T05:56:29.757626Z",
     "shell.execute_reply.started": "2024-04-22T05:56:29.729178Z"
    }
   },
   "outputs": [],
   "source": [
    "QRCode_Generator(\"1\", \"1.png\")\n",
    "QRCode_Generator(\"2\", \"2.png\")\n",
    "QRCode_Generator(\"3\", \"3.png\")\n",
    "QRCode_Generator(\"5\", \"5.png\")\n"
   ]
  },
  {
   "cell_type": "code",
   "execution_count": 7,
   "id": "a698a1c5-b60f-4969-b7a1-d809192dd7ec",
   "metadata": {
    "execution": {
     "iopub.execute_input": "2024-04-19T01:36:50.691523Z",
     "iopub.status.busy": "2024-04-19T01:36:50.689532Z",
     "iopub.status.idle": "2024-04-19T01:36:50.757587Z",
     "shell.execute_reply": "2024-04-19T01:36:50.755509Z",
     "shell.execute_reply.started": "2024-04-19T01:36:50.690518Z"
    }
   },
   "outputs": [],
   "source": [
    "QRCode_Generator(\"G50R1\", \"G50R1.png\")\n",
    "QRCode_Generator(\"G50R3\", \"G50R3.png\")\n",
    "QRCode_Generator(\"G50N1\", \"G50N1.png\")\n",
    "QRCode_Generator(\"G50N2\", \"G50N2.png\")\n",
    "QRCode_Generator(\"G50N3\", \"G50N3.png\")"
   ]
  },
  {
   "cell_type": "markdown",
   "id": "10b663fb-4950-4d12-bdc1-0df4ff95261a",
   "metadata": {},
   "source": [
    "# 3、自定义二维码"
   ]
  },
  {
   "cell_type": "code",
   "execution_count": null,
   "id": "e92498ea-7190-4932-8708-662c247167d4",
   "metadata": {},
   "outputs": [],
   "source": []
  }
 ],
 "metadata": {
  "kernelspec": {
   "display_name": "Python 3 (ipykernel)",
   "language": "python",
   "name": "python3"
  },
  "language_info": {
   "codemirror_mode": {
    "name": "ipython",
    "version": 3
   },
   "file_extension": ".py",
   "mimetype": "text/x-python",
   "name": "python",
   "nbconvert_exporter": "python",
   "pygments_lexer": "ipython3",
   "version": "3.11.4"
  }
 },
 "nbformat": 4,
 "nbformat_minor": 5
}
