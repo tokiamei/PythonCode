{
 "cells": [
  {
   "cell_type": "markdown",
   "id": "7a697e13-877c-4f03-9bc6-37c12da1aa54",
   "metadata": {},
   "source": [
    "# 1、绘制函数图像\n",
    "    注意点：\n",
    "        【1】中文字体处理\n",
    "        【2】图片的分辨率\n",
    "        【3】图片所需要的各种属性"
   ]
  },
  {
   "cell_type": "code",
   "execution_count": null,
   "id": "9483f354-0902-45aa-b3d0-75a4e8126e10",
   "metadata": {
    "execution": {
     "iopub.execute_input": "2023-10-14T07:37:01.486755Z",
     "iopub.status.busy": "2023-10-14T07:37:01.485711Z",
     "iopub.status.idle": "2023-10-14T07:37:05.502619Z",
     "shell.execute_reply": "2023-10-14T07:37:05.501603Z",
     "shell.execute_reply.started": "2023-10-14T07:37:01.486755Z"
    },
    "tags": []
   },
   "outputs": [],
   "source": [
    "from matplotlib import pyplot as plt\n",
    "from pylab import mpl\n",
    "import numpy as np"
   ]
  },
  {
   "cell_type": "code",
   "execution_count": null,
   "id": "b443e490-fd9f-46f0-ba27-a059b7e0f1fe",
   "metadata": {
    "tags": []
   },
   "outputs": [],
   "source": [
    "# mpl.rcParams[\"font.sans-serif\"] = [\"SimHei\"]\n",
    "\n",
    "plt.rc('axes', unicode_minus=False)\n",
    "\n",
    "# x = np.arange(-3, 3 * np.pi, 0.1)\n",
    "x = np.arange(1, 3, 0.01)\n",
    "# x = np.linspace(1, 10)\n",
    "# y = np.sin(x)\n",
    "# y = x\n",
    "# y = [0, 1, 3, 3, 5, 6, 6, 6, 0, 9]\n",
    "y = 1/x\n",
    "y2 = -1/(x**2)\n",
    "\n",
    "plt.figure(figsize=(8,5), dpi=500)\n",
    "plt.title(r'$\\rm function$')\n",
    "plt.xlabel(r'$\\rm x$')\n",
    "plt.ylabel(r'$\\rm y$')\n",
    "\n",
    "plt.plot(x, y, marker='', linestyle='-', color='#d0c9f9', label=r'$\\rm function$')\n",
    "plt.legend(loc='upper right')\n",
    "plt.show()"
   ]
  }
 ],
 "metadata": {
  "kernelspec": {
   "display_name": "Python 3 (ipykernel)",
   "language": "python",
   "name": "python3"
  },
  "language_info": {
   "codemirror_mode": {
    "name": "ipython",
    "version": 3
   },
   "file_extension": ".py",
   "mimetype": "text/x-python",
   "name": "python",
   "nbconvert_exporter": "python",
   "pygments_lexer": "ipython3",
   "version": "3.11.4"
  },
  "widgets": {
   "application/vnd.jupyter.widget-state+json": {
    "state": {},
    "version_major": 2,
    "version_minor": 0
   }
  }
 },
 "nbformat": 4,
 "nbformat_minor": 5
}
