{
 "cells": [
  {
   "cell_type": "code",
   "execution_count": 9,
   "id": "4cb2687f-5eb4-4a1f-b2c6-b12b2c81abfd",
   "metadata": {},
   "outputs": [],
   "source": [
    "from PyPDF2 import PdfMerger\n",
    "import os\n",
    "import re"
   ]
  },
  {
   "cell_type": "code",
   "execution_count": 7,
   "id": "f6f66997-d8fb-43bc-b3ab-c19f35265658",
   "metadata": {},
   "outputs": [],
   "source": [
    "def mergePDF(pathName):\n",
    "    files = os.listdir(pathName)\n",
    "    merger = PdfMerger()\n",
    "    for file in files:\n",
    "        if re.search(r'.*\\.(pdf)', file):\n",
    "            pdfName = pathName + '\\\\' + file\n",
    "            pdf_file = open(pdfName, 'rb')\n",
    "            merger.append(pdf_file)\n",
    "            pdf_file.close()\n",
    "    merged_pdf = open(pathName + '\\\\' + 'merged.pdf', 'wb')\n",
    "    merger.write(merged_pdf)\n",
    "    "
   ]
  },
  {
   "cell_type": "code",
   "execution_count": 10,
   "id": "9a09c3b4-d4bf-42ba-9168-910e105933bd",
   "metadata": {},
   "outputs": [],
   "source": [
    "mergePDF(\"Invoices\")"
   ]
  }
 ],
 "metadata": {
  "kernelspec": {
   "display_name": "Python 3 (ipykernel)",
   "language": "python",
   "name": "python3"
  },
  "language_info": {
   "codemirror_mode": {
    "name": "ipython",
    "version": 3
   },
   "file_extension": ".py",
   "mimetype": "text/x-python",
   "name": "python",
   "nbconvert_exporter": "python",
   "pygments_lexer": "ipython3",
   "version": "3.12.0"
  }
 },
 "nbformat": 4,
 "nbformat_minor": 5
}
