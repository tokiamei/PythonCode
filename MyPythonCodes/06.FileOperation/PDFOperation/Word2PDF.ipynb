{
 "cells": [
  {
   "cell_type": "code",
   "execution_count": 27,
   "id": "dd7e6fb3-2726-42e8-bb9f-57b2dd5a6b7f",
   "metadata": {
    "execution": {
     "iopub.execute_input": "2023-10-21T16:39:56.263456Z",
     "iopub.status.busy": "2023-10-21T16:39:56.262459Z",
     "iopub.status.idle": "2023-10-21T16:39:56.268141Z",
     "shell.execute_reply": "2023-10-21T16:39:56.267128Z",
     "shell.execute_reply.started": "2023-10-21T16:39:56.263456Z"
    }
   },
   "outputs": [],
   "source": [
    "import pdfplumber  \n",
    "from docx2pdf import convert  "
   ]
  },
  {
   "cell_type": "code",
   "execution_count": null,
   "id": "5805e67a-5e94-4608-bdc1-a83457b9b583",
   "metadata": {
    "execution": {
     "iopub.execute_input": "2023-10-21T16:32:40.026076Z",
     "iopub.status.busy": "2023-10-21T16:32:40.026076Z",
     "iopub.status.idle": "2023-10-21T16:33:07.711336Z",
     "shell.execute_reply": "2023-10-21T16:33:07.710815Z",
     "shell.execute_reply.started": "2023-10-21T16:32:40.026076Z"
    }
   },
   "outputs": [],
   "source": [
    "# 将Word文档转换为PDF  \n",
    "def convert_word_to_pdf(word_file, pdf_file):  \n",
    "    convert(word_file, pdf_file)  "
   ]
  },
  {
   "cell_type": "code",
   "execution_count": null,
   "id": "1632604d-746a-438c-a5d9-ceeba8ac7a38",
   "metadata": {
    "execution": {
     "iopub.execute_input": "2023-10-21T16:32:40.026076Z",
     "iopub.status.busy": "2023-10-21T16:32:40.026076Z",
     "iopub.status.idle": "2023-10-21T16:33:07.711336Z",
     "shell.execute_reply": "2023-10-21T16:33:07.710815Z",
     "shell.execute_reply.started": "2023-10-21T16:32:40.026076Z"
    }
   },
   "outputs": [],
   "source": [
    "# 使用示例  \n",
    "convert_word_to_pdf('ACIS-03-4L超声C扫描水浸检测系统操作手册R01.docx', 'ACIS-03-4L超声C扫描水浸检测系统操作手册R01.pdf')"
   ]
  },
  {
   "cell_type": "code",
   "execution_count": 26,
   "id": "53258969-9ac7-4619-9338-bf82140c1536",
   "metadata": {
    "execution": {
     "iopub.execute_input": "2023-10-21T16:36:37.064676Z",
     "iopub.status.busy": "2023-10-21T16:36:37.063678Z",
     "iopub.status.idle": "2023-10-21T16:36:41.075316Z",
     "shell.execute_reply": "2023-10-21T16:36:41.074306Z",
     "shell.execute_reply.started": "2023-10-21T16:36:37.064676Z"
    }
   },
   "outputs": [
    {
     "name": "stderr",
     "output_type": "stream",
     "text": [
      "100%|████████████████████████████████████████████████████████████████████████████████████| 1/1 [00:01<00:00,  1.15s/it]\n"
     ]
    }
   ],
   "source": [
    "convert_word_to_pdf('C:/Users/amesu/资料/工作/工作学习资料/应用部门学习资料/射线检测/DR培训/231014笔记.docx', 'C:/Users/amesu/资料/工作/工作学习资料/应用部门学习资料/射线检测/DR培训/231014笔记.pdf')"
   ]
  }
 ],
 "metadata": {
  "kernelspec": {
   "display_name": "Python 3 (ipykernel)",
   "language": "python",
   "name": "python3"
  },
  "language_info": {
   "codemirror_mode": {
    "name": "ipython",
    "version": 3
   },
   "file_extension": ".py",
   "mimetype": "text/x-python",
   "name": "python",
   "nbconvert_exporter": "python",
   "pygments_lexer": "ipython3",
   "version": "3.11.4"
  }
 },
 "nbformat": 4,
 "nbformat_minor": 5
}
