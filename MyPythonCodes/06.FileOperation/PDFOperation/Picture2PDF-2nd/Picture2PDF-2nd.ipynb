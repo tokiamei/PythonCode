{
 "cells": [
  {
   "metadata": {},
   "cell_type": "markdown",
   "source": [
    "# 将图片转化为PDF"
   ]
  },
  {
   "metadata": {
    "trusted": true,
    "ExecuteTime": {
     "end_time": "2024-10-10T16:17:50.299633Z",
     "start_time": "2024-10-10T16:17:49.763173Z"
    }
   },
   "cell_type": "code",
   "source": [
    "from PIL import Image\n",
    "import os\n",
    "import time\n",
    "\n",
    "print('此程序把文件夹内所有图片转换为一个pdf文档（图片需按顺序命名）！')\n",
    "path = \"Invoices\"\n",
    "\n",
    "# 创建年月日格式\n",
    "year = str(time.localtime().tm_year)\n",
    "\n",
    "month = time.localtime().tm_mon\n",
    "if month in range(1, 10):\n",
    "    month = \"0\" + str(month)\n",
    "month = str(month)\n",
    "\n",
    "day = time.localtime().tm_mday\n",
    "if day in range(1, 10):\n",
    "    day = \"0\" + str(day)\n",
    "day = str(day)\n",
    "\n",
    "name = \"发票\" + \"-\" + year + month + day \n",
    "# path = input('请输入图片文件夹路径：')\n",
    "# name = input('请输入保存pdf的文件名：')\n",
    "\n",
    "img_open_list = []                                 # 创建打开后的图片列表\n",
    "for root, dirs, files in os.walk(path):\n",
    "    for i in files:\n",
    "        file = os.path.join(root, i)               # 遍历所有图片，带绝对路径\n",
    "        img_open = Image.open(file)                # 打开所有图片\n",
    "        if img_open.mode != 'RGB':\n",
    "            img_open = img_open.convert('RGB')     # 转换图像模式\n",
    "        img_open_list.append(img_open)             # 把打开的图片放入列表\n",
    "pdf_name = name + '.pdf'                           # pdf文件名\n",
    "img_1 = img_open_list[0]                           # 打开的第一张图片\n",
    "# 把img1保存为PDF文件,将另外的图片添加进来，列表需删除第一张图片，不然会重复\n",
    "img_open_list = img_open_list[1:]\n",
    "img_1.save(pdf_name, \"PDF\", resolution=100.0, save_all=True, append_images=img_open_list)\n",
    "print('转换成功！pdf文件在当前程序目录下！')"
   ],
   "execution_count": 2,
   "outputs": [
    {
     "name": "stdout",
     "output_type": "stream",
     "text": [
      "此程序把文件夹内所有图片转换为一个pdf文档（图片需按顺序命名）！\n",
      "转换成功！pdf文件在当前程序目录下！\n"
     ]
    }
   ]
  }
 ],
 "metadata": {
  "kernelspec": {
   "name": "python3",
   "display_name": "Python 3",
   "language": "python"
  },
  "language_info": {
   "name": "python",
   "version": "3.10.4",
   "mimetype": "text/x-python",
   "codemirror_mode": {
    "name": "ipython",
    "version": 3
   },
   "pygments_lexer": "ipython3",
   "nbconvert_exporter": "python",
   "file_extension": ".py"
  }
 },
 "nbformat": 4,
 "nbformat_minor": 2
}
