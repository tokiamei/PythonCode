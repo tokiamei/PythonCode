{
 "cells": [
  {
   "cell_type": "code",
   "execution_count": 8,
   "id": "89c9db5b-237a-4928-9991-bef5acac2c2c",
   "metadata": {
    "execution": {
     "iopub.execute_input": "2023-10-22T04:45:39.351982Z",
     "iopub.status.busy": "2023-10-22T04:45:39.350981Z",
     "iopub.status.idle": "2023-10-22T04:45:39.359445Z",
     "shell.execute_reply": "2023-10-22T04:45:39.357425Z",
     "shell.execute_reply.started": "2023-10-22T04:45:39.351982Z"
    }
   },
   "outputs": [],
   "source": [
    "from PIL import Image  # 处理图片\n",
    "import os\n",
    "import re\n",
    "from PyPDF2 import PdfReader,PdfWriter\n",
    "\n",
    "from PyPDF2 import PdfReader, PdfFileWriter\n",
    "from PyPDF2 import PageObject"
   ]
  },
  {
   "cell_type": "code",
   "execution_count": 7,
   "id": "da62c579-5e27-4524-a9dd-36aa56b9477c",
   "metadata": {
    "execution": {
     "iopub.execute_input": "2023-10-22T04:35:51.721899Z",
     "iopub.status.busy": "2023-10-22T04:35:51.721899Z",
     "iopub.status.idle": "2023-10-22T04:35:51.746028Z",
     "shell.execute_reply": "2023-10-22T04:35:51.744003Z",
     "shell.execute_reply.started": "2023-10-22T04:35:51.721899Z"
    }
   },
   "outputs": [
    {
     "ename": "AttributeError",
     "evalue": "module 'spire' has no attribute 'PDF'",
     "output_type": "error",
     "traceback": [
      "\u001b[1;31m---------------------------------------------------------------------------\u001b[0m",
      "\u001b[1;31mAttributeError\u001b[0m                            Traceback (most recent call last)",
      "Cell \u001b[1;32mIn[7], line 1\u001b[0m\n\u001b[1;32m----> 1\u001b[0m \u001b[43mspire\u001b[49m\u001b[38;5;241;43m.\u001b[39;49m\u001b[43mPDF\u001b[49m\n",
      "\u001b[1;31mAttributeError\u001b[0m: module 'spire' has no attribute 'PDF'"
     ]
    }
   ],
   "source": [
    "spire.PDF"
   ]
  },
  {
   "cell_type": "markdown",
   "id": "89af6022-ca4a-4c42-afd7-f89efb55c76d",
   "metadata": {},
   "source": [
    "# 操作PDF文档"
   ]
  },
  {
   "cell_type": "code",
   "execution_count": null,
   "id": "6839e21f-99b8-474f-bdfd-d3bdea086d00",
   "metadata": {},
   "outputs": [],
   "source": [
    "# test operatePDF\n",
    "# 获取pdf对象\n",
    "pdf = PdfReader(\"Pictures/Invoices.pdf\")\n",
    "# 查看pdf页数\n",
    "print(len(pdf.pages))\n",
    "# 查看信息\n",
    "print(pdf.metadata)"
   ]
  },
  {
   "cell_type": "markdown",
   "id": "f729664b-2037-414d-a64d-b3e38df6b82c",
   "metadata": {},
   "source": [
    "## 将PDF两页合并为一页"
   ]
  },
  {
   "cell_type": "markdown",
   "id": "ed35f88c-ca7c-4721-8f1e-28b2160125ed",
   "metadata": {},
   "source": [
    "## 如下未完成"
   ]
  },
  {
   "cell_type": "code",
   "execution_count": null,
   "id": "31bab8cf-aefb-4bf7-9cef-7d3a45152d84",
   "metadata": {},
   "outputs": [],
   "source": [
    "from PyPDF2 import PdfReader, PdfWriter, PdfMerger\n",
    "\n",
    "def pdf_splitter(path): \n",
    "\n",
    "    fname = os.path.splitext(os.path.basename(path))[0]\n",
    "\n",
    "    pdf = PdfReader(path)\n",
    "    input_paths = []\n",
    "    for page in range(len(pdf.pages)):\n",
    "        pdf_writer = PdfWriter()\n",
    "        pdf_writer.add_page(pdf.pages[page])\n",
    "        output_filename = '{}_page_{}.pdf'.format(fname, page+1)\n",
    "        input_paths.append(output_filename)\n",
    "        with open(output_filename, 'wb') as out:\n",
    "            pdf_writer.write(out)\n",
    "\n",
    "        print('Created: {}'.format(output_filename))\n",
    "\n",
    "        # every 2 pages! \n",
    "        # Change the two if you need every other number of pages!\n",
    "        if page % 2 == 1:\n",
    "            pdf_merger = PdfMerger() #create pdfilemerger\n",
    "            for path in input_paths: \n",
    "                pdf_merger.append(path) #read the single pages\n",
    "\n",
    "            # we call it pages_N-1_N, so first would be pages_0_1!\n",
    "            output_path = '{}_pages_{}_{}.pdf'.format(fname, page-1, page)\n",
    "            with open(output_path, 'wb') as fileobj:\n",
    "                pdf_merger.write(fileobj) # write the two pages pdf!\n",
    "\n",
    "            input_paths = []\n",
    "\n",
    "pdf_splitter(\"Pictures/Invoices.pdf\")"
   ]
  },
  {
   "cell_type": "markdown",
   "id": "29439fff-c6ba-492e-839b-cc524c7bec63",
   "metadata": {},
   "source": [
    "## 新方法"
   ]
  },
  {
   "cell_type": "code",
   "execution_count": 15,
   "id": "30ebb64e-cd6a-48c3-b968-c76b7221a066",
   "metadata": {
    "execution": {
     "iopub.execute_input": "2023-10-22T05:36:42.248043Z",
     "iopub.status.busy": "2023-10-22T05:36:42.246981Z",
     "iopub.status.idle": "2023-10-22T05:36:42.297374Z",
     "shell.execute_reply": "2023-10-22T05:36:42.295355Z",
     "shell.execute_reply.started": "2023-10-22T05:36:42.248043Z"
    }
   },
   "outputs": [
    {
     "ename": "TypeError",
     "evalue": "'decimal.Decimal' object is not callable",
     "output_type": "error",
     "traceback": [
      "\u001b[1;31m---------------------------------------------------------------------------\u001b[0m",
      "\u001b[1;31mTypeError\u001b[0m                                 Traceback (most recent call last)",
      "Cell \u001b[1;32mIn[15], line 14\u001b[0m\n\u001b[0;32m     11\u001b[0m     pages\u001b[38;5;241m.\u001b[39mappend(pageObj)\n\u001b[0;32m     13\u001b[0m \u001b[38;5;66;03m#Calculate width and height for final output page\u001b[39;00m\n\u001b[1;32m---> 14\u001b[0m width \u001b[38;5;241m=\u001b[39m \u001b[43mpages\u001b[49m\u001b[43m[\u001b[49m\u001b[38;5;241;43m1\u001b[39;49m\u001b[43m]\u001b[49m\u001b[38;5;241;43m.\u001b[39;49m\u001b[43mmediabox\u001b[49m\u001b[38;5;241;43m.\u001b[39;49m\u001b[43mwidth\u001b[49m\u001b[43m(\u001b[49m\u001b[43m)\u001b[49m \u001b[38;5;241m*\u001b[39m \u001b[38;5;241m2\u001b[39m\n\u001b[0;32m     15\u001b[0m height \u001b[38;5;241m=\u001b[39m pages[\u001b[38;5;241m1\u001b[39m]\u001b[38;5;241m.\u001b[39mmediabox\u001b[38;5;241m.\u001b[39mgetHeight() \n\u001b[0;32m     17\u001b[0m \u001b[38;5;66;03m#Create blank page to merge all pages in one page\u001b[39;00m\n",
      "\u001b[1;31mTypeError\u001b[0m: 'decimal.Decimal' object is not callable"
     ]
    }
   ],
   "source": [
    "# Open the files that have to be merged\n",
    "pdf1File = open('Pictures/Invoices.pdf', 'rb')\n",
    "\n",
    "#Read the files that you have opened\n",
    "pdf1Reader = PdfReader(pdf1File)\n",
    "\n",
    "#Make a list of all pages\n",
    "pages = []\n",
    "for pageNum in range(len(pdf1Reader.pages)):\n",
    "    pageObj = pdf1Reader.pages[pageNum]\n",
    "    pages.append(pageObj)\n",
    "\n",
    "#Calculate width and height for final output page\n",
    "width = pages[1].mediabox.width() * 2\n",
    "height = pages[1].mediabox.getHeight() \n",
    "\n",
    "#Create blank page to merge all pages in one page\n",
    "merged_page = PageObject.createBlankPage(None, width, height)\n",
    "writer = PdfFileWriter()\n",
    "#Loop through all pages and merge / add them to blank page\n",
    "y =0\n",
    "merged_page = PageObject.createBlankPage(None, width, height)\n",
    "for page in range(len(pages)):\n",
    "    y+=1\n",
    "    if y%2!=0:\n",
    "        merged_page.mergePage(pages[page])\n",
    "        x=float(pages[page+1].mediabox.width())\n",
    "        merged_page.mergeScaledTranslatedPage(pages[page+1], 1,x, 0)\n",
    "    if y%2==0:\n",
    "        writer.addPage(merged_page)\n",
    "        merged_page = PageObject.createBlankPage(None, width, height)\n",
    "        y=0\n",
    "\n",
    "#Create final file with one page\n",
    "with open('out.pdf', 'wb') as f:\n",
    "    writer.write(f)"
   ]
  },
  {
   "cell_type": "code",
   "execution_count": null,
   "id": "9ab17d7f-059b-4b11-b2c4-ef2047b56a33",
   "metadata": {},
   "outputs": [],
   "source": []
  }
 ],
 "metadata": {
  "kernelspec": {
   "display_name": "Python 3 (ipykernel)",
   "language": "python",
   "name": "python3"
  },
  "language_info": {
   "codemirror_mode": {
    "name": "ipython",
    "version": 3
   },
   "file_extension": ".py",
   "mimetype": "text/x-python",
   "name": "python",
   "nbconvert_exporter": "python",
   "pygments_lexer": "ipython3",
   "version": "3.12.0"
  }
 },
 "nbformat": 4,
 "nbformat_minor": 5
}
