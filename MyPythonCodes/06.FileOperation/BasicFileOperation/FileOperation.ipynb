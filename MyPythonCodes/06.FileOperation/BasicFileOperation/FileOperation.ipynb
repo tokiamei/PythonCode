{
 "cells": [
  {
   "cell_type": "code",
   "execution_count": 20,
   "id": "e58dc0cf-6467-4abf-b26e-598fd70bea35",
   "metadata": {
    "ExecuteTime": {
     "end_time": "2024-11-06T16:47:50.939409Z",
     "start_time": "2024-11-06T16:47:50.932369Z"
    },
    "execution": {
     "iopub.execute_input": "2024-11-16T19:09:11.131353Z",
     "iopub.status.busy": "2024-11-16T19:09:11.130651Z",
     "iopub.status.idle": "2024-11-16T19:09:11.138222Z",
     "shell.execute_reply": "2024-11-16T19:09:11.136316Z",
     "shell.execute_reply.started": "2024-11-16T19:09:11.131278Z"
    }
   },
   "outputs": [],
   "source": [
    "import os\n",
    "import time\n",
    "import shutil"
   ]
  },
  {
   "cell_type": "markdown",
   "id": "519276f8-d41a-4aa1-8058-4124fdea7d03",
   "metadata": {
    "execution": {
     "iopub.execute_input": "2023-10-12T13:34:20.258683Z",
     "iopub.status.busy": "2023-10-12T13:34:20.257246Z",
     "iopub.status.idle": "2023-10-12T13:34:20.272775Z",
     "shell.execute_reply": "2023-10-12T13:34:20.270218Z",
     "shell.execute_reply.started": "2023-10-12T13:34:20.258683Z"
    }
   },
   "source": [
    "# 一、文件目录操作"
   ]
  },
  {
   "cell_type": "markdown",
   "id": "1865174e-2f18-4ab8-8d45-e0ac8a35c138",
   "metadata": {},
   "source": [
    "## 1、查看当前工作目录"
   ]
  },
  {
   "cell_type": "code",
   "execution_count": 13,
   "id": "82cd4950-6ced-43c2-8445-148025b83f36",
   "metadata": {
    "ExecuteTime": {
     "end_time": "2024-11-06T16:47:53.202898Z",
     "start_time": "2024-11-06T16:47:53.166667Z"
    },
    "execution": {
     "iopub.execute_input": "2024-11-16T18:56:13.394027Z",
     "iopub.status.busy": "2024-11-16T18:56:13.393642Z",
     "iopub.status.idle": "2024-11-16T18:56:13.401176Z",
     "shell.execute_reply": "2024-11-16T18:56:13.399900Z",
     "shell.execute_reply.started": "2024-11-16T18:56:13.393984Z"
    }
   },
   "outputs": [
    {
     "name": "stdout",
     "output_type": "stream",
     "text": [
      "当前工作目录为: /Users/xuqinzheng/Documents/GitCode/PythonCode/MyPythonCodes/06.File Operation/BasicFileOperation\n"
     ]
    }
   ],
   "source": [
    "dir = os.getcwd()\n",
    "print(\"当前工作目录为: %s\" % dir)"
   ]
  },
  {
   "cell_type": "markdown",
   "id": "65539e55-22a5-425b-b462-bec5dc1bae2d",
   "metadata": {
    "execution": {
     "iopub.execute_input": "2023-10-21T03:17:46.869743Z",
     "iopub.status.busy": "2023-10-21T03:17:46.868810Z",
     "iopub.status.idle": "2023-10-21T03:17:46.876459Z",
     "shell.execute_reply": "2023-10-21T03:17:46.874385Z",
     "shell.execute_reply.started": "2023-10-21T03:17:46.869743Z"
    }
   },
   "source": [
    "## 2、修改当前工作目录"
   ]
  },
  {
   "cell_type": "code",
   "execution_count": null,
   "id": "730248ae-e394-4582-b24d-3c19aa014728",
   "metadata": {},
   "outputs": [],
   "source": [
    "path = r\"C:\\Users\\amesu\\资料\\工作\\工作学习资料\\Python Files\\python-study-main\\06.文件系统\"\n",
    "# os.chdir(path)"
   ]
  },
  {
   "cell_type": "markdown",
   "id": "dd02afa8-56cc-4987-8cb4-cf50f3fa6d2b",
   "metadata": {
    "jp-MarkdownHeadingCollapsed": true
   },
   "source": [
    "## 3、获取当前目录下的文件列表"
   ]
  },
  {
   "cell_type": "markdown",
   "id": "ac7bba9e-b6cf-451b-b0c8-9edcf6590cb4",
   "metadata": {},
   "source": [
    "### 3.1、`listdir()`\n",
    "\n",
    "- 遗留版本的Python获取目录列表；\n",
    "- 简单粗暴。"
   ]
  },
  {
   "cell_type": "code",
   "execution_count": 6,
   "id": "655e04f9-21d8-48e0-a6dd-2276aefd762b",
   "metadata": {
    "execution": {
     "iopub.execute_input": "2024-11-16T18:48:30.346000Z",
     "iopub.status.busy": "2024-11-16T18:48:30.345164Z",
     "iopub.status.idle": "2024-11-16T18:48:30.360445Z",
     "shell.execute_reply": "2024-11-16T18:48:30.358567Z",
     "shell.execute_reply.started": "2024-11-16T18:48:30.345930Z"
    }
   },
   "outputs": [
    {
     "data": {
      "text/plain": [
       "['FileOperation.ipynb', '遍历文件夹', 'Read Text File.ipynb', '.ipynb_checkpoints']"
      ]
     },
     "execution_count": 6,
     "metadata": {},
     "output_type": "execute_result"
    }
   ],
   "source": [
    "os.listdir(dir)"
   ]
  },
  {
   "cell_type": "markdown",
   "id": "380a67dc-e87d-4ff8-8bc5-dca19e2b40cd",
   "metadata": {},
   "source": [
    "### 3.2、`scandir()`\n",
    "\n",
    "- 现代版本的Python获取目录列表；\n",
    "- 返回的是一个迭代器而不是一个列表。"
   ]
  },
  {
   "cell_type": "code",
   "execution_count": 7,
   "id": "ebafdd17-4f7c-45c0-94b5-87e596cdbf5d",
   "metadata": {
    "execution": {
     "iopub.execute_input": "2024-11-16T18:50:01.046968Z",
     "iopub.status.busy": "2024-11-16T18:50:01.046340Z",
     "iopub.status.idle": "2024-11-16T18:50:01.052875Z",
     "shell.execute_reply": "2024-11-16T18:50:01.052008Z",
     "shell.execute_reply.started": "2024-11-16T18:50:01.046922Z"
    }
   },
   "outputs": [
    {
     "name": "stdout",
     "output_type": "stream",
     "text": [
      "FileOperation.ipynb\n",
      "遍历文件夹\n",
      "Read Text File.ipynb\n",
      ".ipynb_checkpoints\n"
     ]
    }
   ],
   "source": [
    "# ScandirIterator 指向了当前目录中的所有条目。你可以遍历迭代器的内容，并打印文件名\n",
    "with os.scandir(dir) as entries:\n",
    "    for entry in entries:\n",
    "        print(entry.name)"
   ]
  },
  {
   "cell_type": "markdown",
   "id": "02658527-564f-4c6e-82a5-a738664b4255",
   "metadata": {},
   "source": [
    "### 3.3、列出目录中所有文件（而非目录）"
   ]
  },
  {
   "cell_type": "code",
   "execution_count": 9,
   "id": "6c7977e2-bc49-4b83-b41d-14c25125c97b",
   "metadata": {
    "execution": {
     "iopub.execute_input": "2024-11-16T18:52:56.776830Z",
     "iopub.status.busy": "2024-11-16T18:52:56.775817Z",
     "iopub.status.idle": "2024-11-16T18:52:56.786000Z",
     "shell.execute_reply": "2024-11-16T18:52:56.784927Z",
     "shell.execute_reply.started": "2024-11-16T18:52:56.776773Z"
    }
   },
   "outputs": [
    {
     "name": "stdout",
     "output_type": "stream",
     "text": [
      ".DS_Store\n",
      "locals_study.ipynb\n"
     ]
    }
   ],
   "source": [
    "# 第一种方法，这样写意味着该文件夹一定是位于工作目录下\n",
    "basepath = '遍历文件夹'\n",
    "for entry in os.listdir(basepath):\n",
    "    # 判断该路径是否是文件类型\n",
    "    if os.path.isfile(os.path.join(basepath, entry)):\n",
    "        print(entry)"
   ]
  },
  {
   "cell_type": "code",
   "execution_count": 11,
   "id": "7e3b34e2-ab67-4747-87fc-56b72a32ce01",
   "metadata": {
    "execution": {
     "iopub.execute_input": "2024-11-16T18:53:46.600921Z",
     "iopub.status.busy": "2024-11-16T18:53:46.600337Z",
     "iopub.status.idle": "2024-11-16T18:53:46.608387Z",
     "shell.execute_reply": "2024-11-16T18:53:46.607296Z",
     "shell.execute_reply.started": "2024-11-16T18:53:46.600880Z"
    }
   },
   "outputs": [
    {
     "name": "stdout",
     "output_type": "stream",
     "text": [
      ".DS_Store\n",
      "locals_study.ipynb\n"
     ]
    }
   ],
   "source": [
    "# 第二种方法\n",
    "basepath = '遍历文件夹'\n",
    "with os.scandir(basepath) as entries:\n",
    "    for entry in entries:\n",
    "        if entry.is_file():\n",
    "            print(entry.name)"
   ]
  },
  {
   "cell_type": "markdown",
   "id": "5fd2a65e-5b0c-47ec-abf7-b0a102bc1f41",
   "metadata": {},
   "source": [
    "## 4、获取文件属性"
   ]
  },
  {
   "cell_type": "code",
   "execution_count": 12,
   "id": "25c17ff2-1046-42db-bca4-9ca86580524e",
   "metadata": {
    "execution": {
     "iopub.execute_input": "2024-11-16T18:54:11.606419Z",
     "iopub.status.busy": "2024-11-16T18:54:11.605841Z",
     "iopub.status.idle": "2024-11-16T18:54:11.617907Z",
     "shell.execute_reply": "2024-11-16T18:54:11.616767Z",
     "shell.execute_reply.started": "2024-11-16T18:54:11.606378Z"
    }
   },
   "outputs": [
    {
     "name": "stdout",
     "output_type": "stream",
     "text": [
      "1731764741.4175987\n",
      "1731598523.3833158\n",
      "1731598523.3862274\n",
      "1731604917.5785327\n"
     ]
    }
   ],
   "source": [
    "# 以时间戳的方式输出\n",
    "with os.scandir('遍历文件夹') as entries:\n",
    "    for entry in entries:\n",
    "        info = entry.stat()\n",
    "        print(info.st_mtime)"
   ]
  },
  {
   "cell_type": "markdown",
   "id": "40632421-00a3-4a3f-a8af-34ec6c7a387c",
   "metadata": {
    "execution": {
     "iopub.execute_input": "2023-10-21T03:18:13.544867Z",
     "iopub.status.busy": "2023-10-21T03:18:13.543868Z",
     "iopub.status.idle": "2023-10-21T03:18:13.552652Z",
     "shell.execute_reply": "2023-10-21T03:18:13.550574Z",
     "shell.execute_reply.started": "2023-10-21T03:18:13.544867Z"
    }
   },
   "source": [
    "## 5、创建目录"
   ]
  },
  {
   "cell_type": "markdown",
   "id": "18dcf31d-ab31-4ee6-a0f5-d97ed6455fc5",
   "metadata": {
    "execution": {
     "iopub.execute_input": "2023-10-21T03:18:22.381538Z",
     "iopub.status.busy": "2023-10-21T03:18:22.380537Z",
     "iopub.status.idle": "2023-10-21T03:18:22.387069Z",
     "shell.execute_reply": "2023-10-21T03:18:22.386003Z",
     "shell.execute_reply.started": "2023-10-21T03:18:22.381538Z"
    }
   },
   "source": [
    "### 5.1、创建单个目录"
   ]
  },
  {
   "cell_type": "code",
   "execution_count": 14,
   "id": "98eabd72-4924-410c-936c-8b897d848cf4",
   "metadata": {
    "execution": {
     "iopub.execute_input": "2024-11-16T18:56:29.664911Z",
     "iopub.status.busy": "2024-11-16T18:56:29.663922Z",
     "iopub.status.idle": "2024-11-16T18:56:29.670633Z",
     "shell.execute_reply": "2024-11-16T18:56:29.669645Z",
     "shell.execute_reply.started": "2024-11-16T18:56:29.664833Z"
    }
   },
   "outputs": [],
   "source": [
    "# 如果该目录已经存在，os.mkdir() 将抛出 FileExistsError 异常\n",
    "os.mkdir('example_directory')"
   ]
  },
  {
   "cell_type": "markdown",
   "id": "e32044e0-0ca4-4f24-a97c-2eff14cf0735",
   "metadata": {},
   "source": [
    "### 5.2、创建多个目录\n",
    "\n",
    "    os.makedirs()和os.mkdir()类似。两者之间的区别在于，os.makedirs() 不仅可以创建单独的目录，还可以递归的创建目录树。换句话说，它可以创建任何必要的中间文件夹，来确保存在完整的路径。"
   ]
  },
  {
   "cell_type": "code",
   "execution_count": 15,
   "id": "48dd555c-a227-41b0-bd35-ad17f80d8c44",
   "metadata": {
    "execution": {
     "iopub.execute_input": "2024-11-16T18:56:38.054755Z",
     "iopub.status.busy": "2024-11-16T18:56:38.054311Z",
     "iopub.status.idle": "2024-11-16T18:56:38.064987Z",
     "shell.execute_reply": "2024-11-16T18:56:38.062855Z",
     "shell.execute_reply.started": "2024-11-16T18:56:38.054721Z"
    }
   },
   "outputs": [],
   "source": [
    "# 默认的模式为 0o777 ，增加了其他用户组的权限。有关文件权限以及模式的应用方式的更多详细信息\n",
    "os.makedirs('2018/10/05', mode=0o770)"
   ]
  },
  {
   "cell_type": "markdown",
   "id": "b7a0ceae-6cb7-44cc-b55e-6fcaff99edc6",
   "metadata": {},
   "source": [
    "## 6、删除文件"
   ]
  },
  {
   "cell_type": "markdown",
   "id": "f1654c5d-4e5c-429b-b602-e9e20d90389a",
   "metadata": {},
   "source": [
    "### 6.1、删除单个目录\n",
    "\n",
    "    要删除单个目录或文件夹可以使用 os.rmdir() 或 pathlib.Path.rmdir() 。这两个函数只在你删除空目录的时候有效。如果目录不为空，则会抛出 OSError。"
   ]
  },
  {
   "cell_type": "code",
   "execution_count": 17,
   "id": "d2804fa0-603b-4d25-b780-fdf0f74cdedd",
   "metadata": {
    "execution": {
     "iopub.execute_input": "2024-11-16T18:59:19.265764Z",
     "iopub.status.busy": "2024-11-16T18:59:19.264926Z",
     "iopub.status.idle": "2024-11-16T18:59:19.272713Z",
     "shell.execute_reply": "2024-11-16T18:59:19.271456Z",
     "shell.execute_reply.started": "2024-11-16T18:59:19.265693Z"
    }
   },
   "outputs": [
    {
     "name": "stdout",
     "output_type": "stream",
     "text": [
      "Error: 2018 : Directory not empty\n"
     ]
    }
   ],
   "source": [
    "trash_dir = '2018'\n",
    "\n",
    "try:\n",
    "    os.rmdir(trash_dir)\n",
    "except OSError as e:\n",
    "    print(f'Error: {trash_dir} : {e.strerror}')"
   ]
  },
  {
   "cell_type": "markdown",
   "id": "7d8ce2ba-25ec-4a01-9025-f4c2781613eb",
   "metadata": {},
   "source": [
    "### 6.2、删除目录树\n",
    "\n",
    "    要删除非空目录和完整的目录树，Python提供了shutil.rmtree()。"
   ]
  },
  {
   "cell_type": "code",
   "execution_count": 18,
   "id": "2fa0a407-3088-4c9c-a5cf-b58cff56520a",
   "metadata": {
    "execution": {
     "iopub.execute_input": "2024-11-16T18:59:28.094299Z",
     "iopub.status.busy": "2024-11-16T18:59:28.093648Z",
     "iopub.status.idle": "2024-11-16T18:59:28.103994Z",
     "shell.execute_reply": "2024-11-16T18:59:28.102973Z",
     "shell.execute_reply.started": "2024-11-16T18:59:28.094262Z"
    }
   },
   "outputs": [],
   "source": [
    "\n",
    "trash_dir = '2018'\n",
    "\n",
    "try:\n",
    "    shutil.rmtree(trash_dir)\n",
    "except OSError as e:\n",
    "    print(f'Error: {trash_dir} : {e.strerror}')"
   ]
  },
  {
   "cell_type": "markdown",
   "id": "51757fa7-8996-4417-8888-b9e0659221f0",
   "metadata": {},
   "source": [
    "# 二、读写文件"
   ]
  },
  {
   "cell_type": "markdown",
   "id": "f5ce5eaa-bdb9-49bd-ada7-f0bfc315e688",
   "metadata": {},
   "source": [
    "## 1、打开文件"
   ]
  },
  {
   "cell_type": "code",
   "execution_count": null,
   "id": "3988a564-9548-499a-9b5a-397b43d54d29",
   "metadata": {},
   "outputs": [],
   "source": [
    "f = open('a.txt', 'r', encoding = 'utf-8')\n",
    "print(f.read())\n",
    "f.close()"
   ]
  },
  {
   "cell_type": "markdown",
   "id": "552f3ede-a240-46fd-97e5-5e9d3bccf0a8",
   "metadata": {},
   "source": [
    "## 2、读写异常处理机制\n",
    "\n",
    "    若open函数指定的文件并不存在或者无法打开，则会引发异常状况导致程序崩溃，为了让代码有一定的健壮性和容错性，可以使用Python的异常机制进行适当的处理。"
   ]
  },
  {
   "cell_type": "code",
   "execution_count": 19,
   "id": "029c38fa-9aef-47a0-8e19-dd4eccb24336",
   "metadata": {
    "execution": {
     "iopub.execute_input": "2024-11-16T19:03:48.097558Z",
     "iopub.status.busy": "2024-11-16T19:03:48.096807Z",
     "iopub.status.idle": "2024-11-16T19:03:48.103887Z",
     "shell.execute_reply": "2024-11-16T19:03:48.102812Z",
     "shell.execute_reply.started": "2024-11-16T19:03:48.097488Z"
    }
   },
   "outputs": [
    {
     "name": "stdout",
     "output_type": "stream",
     "text": [
      "00000\n"
     ]
    }
   ],
   "source": [
    "# Python 中的 None\n",
    "a = None\n",
    "a, type(a) # (None, NoneType)\n",
    "# None 会被隐式转换为 False【和 JS 一样】\n",
    "if not a: print('00000')"
   ]
  },
  {
   "cell_type": "code",
   "execution_count": null,
   "id": "2e46fee4-eb1e-4836-b107-174db18e4a52",
   "metadata": {},
   "outputs": [],
   "source": [
    "f = None\n",
    "try:\n",
    "\tf = open('b.txt', 'r', encoding='utf-8')\n",
    "\tptint(f.read())\n",
    "except FileNotFoundError:\n",
    "\tprint('无法打开指定的文件！')\n",
    "except LookupError:\n",
    "\tprint('制定了未知的编码！')\n",
    "except UnicodeDecodeError:\n",
    "\tprint('读取文件时解码错误')\n",
    "finally:\n",
    "\tif f:\n",
    "\t\tf.close()"
   ]
  },
  {
   "cell_type": "markdown",
   "id": "63131a46-e242-4baf-a02c-8fc17f812eb3",
   "metadata": {},
   "source": [
    "## 3、`with`指令打开文件\n",
    "\n",
    "- with 关键字读取文件内容；\n",
    "- with 指定文件对象的上下文环境并在离开上下文环境时自动释放文件资源，就不需要再去close了。"
   ]
  },
  {
   "cell_type": "code",
   "execution_count": null,
   "id": "4476dea6-461a-4188-89bc-2074db8c7c17",
   "metadata": {
    "tags": []
   },
   "outputs": [],
   "source": [
    "with open('a.txt', encoding=\"utf-8\") as f:\n",
    "  read_data = f.read()\n",
    "# 这个属性用于判断文件是否关闭\n",
    "f.closed"
   ]
  },
  {
   "cell_type": "markdown",
   "id": "f3cb7349-6f6a-4206-ac71-a80a25171ce6",
   "metadata": {},
   "source": [
    "## 4、读取文件"
   ]
  },
  {
   "cell_type": "markdown",
   "id": "4811911d-16cd-4368-9dc4-38fb2f0b5e3b",
   "metadata": {},
   "source": [
    "### 4.1、用`for`循环读取文件"
   ]
  },
  {
   "cell_type": "code",
   "execution_count": null,
   "id": "3149f667-d3b4-4794-8f42-0db0f5214881",
   "metadata": {
    "tags": []
   },
   "outputs": [],
   "source": [
    "# 读取多行数据\n",
    "with open('a.txt', encoding=\"utf-8\") as f:\n",
    "\tfor line in f:\n",
    "\t\tprint(line, end='')\n",
    "\t\ttime.sleep(0.5)"
   ]
  },
  {
   "cell_type": "markdown",
   "id": "2a61efb2-b893-4196-9321-214d12f673f8",
   "metadata": {},
   "source": [
    "### 4.2、以列表形式读取文件中的所有行\n",
    "\n",
    "- list(f) \n",
    "- f.readlines()"
   ]
  },
  {
   "cell_type": "code",
   "execution_count": 9,
   "id": "0d15ef42-ed44-40bd-811d-d604702e4b88",
   "metadata": {
    "execution": {
     "iopub.execute_input": "2022-09-20T08:48:41.431555Z",
     "iopub.status.busy": "2022-09-20T08:48:41.431264Z",
     "iopub.status.idle": "2022-09-20T08:48:41.437783Z",
     "shell.execute_reply": "2022-09-20T08:48:41.436558Z",
     "shell.execute_reply.started": "2022-09-20T08:48:41.431517Z"
    },
    "tags": []
   },
   "outputs": [
    {
     "name": "stdout",
     "output_type": "stream",
     "text": [
      "[\"print('++++')\\n\", \"print('++++')print('++++')\\n\", \"print('++++')print('++++')print('++++')\\n\", \"print('++++')print('++++')print('++++')print('++++')\\n\", \"print('++++')print('++++')print('++++')print('++++')print('++++')\"]\n"
     ]
    }
   ],
   "source": [
    "with open('a.txt', encoding=\"utf-8\") as f:\n",
    "  # print(list(f))\n",
    "  print(f.readlines())"
   ]
  },
  {
   "cell_type": "code",
   "execution_count": null,
   "id": "8af51016-57c9-4c0a-a892-9e7261c95c0b",
   "metadata": {},
   "outputs": [],
   "source": [
    "# 把字符串写入文件\n",
    "with open('../../files/a.txt', 'r+', encoding=\"utf-8\") as f:\n",
    "  li = list(f)\n",
    "  print(li)\n",
    "  mystr = repr(li)\n",
    "  print(mystr, type(mystr))\n",
    "  f.write(mystr)"
   ]
  },
  {
   "cell_type": "code",
   "execution_count": null,
   "id": "d9eabb76-d308-4e39-bebb-59e6efbb2992",
   "metadata": {},
   "outputs": [],
   "source": []
  },
  {
   "cell_type": "code",
   "execution_count": null,
   "id": "96d09680-14c6-4c79-8ccf-bc6f005966e4",
   "metadata": {},
   "outputs": [],
   "source": []
  }
 ],
 "metadata": {
  "kernelspec": {
   "display_name": "Python 3 (ipykernel)",
   "language": "python",
   "name": "python3"
  },
  "language_info": {
   "codemirror_mode": {
    "name": "ipython",
    "version": 3
   },
   "file_extension": ".py",
   "mimetype": "text/x-python",
   "name": "python",
   "nbconvert_exporter": "python",
   "pygments_lexer": "ipython3",
   "version": "3.9.6"
  }
 },
 "nbformat": 4,
 "nbformat_minor": 5
}
