{
 "cells": [
  {
   "cell_type": "code",
   "execution_count": null,
   "id": "2f1b6116-116d-491d-afe1-3a38f1a22f62",
   "metadata": {},
   "outputs": [],
   "source": [
    "import os\n",
    "import re\n",
    "import csv\n",
    "import numpy as np\n",
    "import pandas as pd"
   ]
  },
  {
   "cell_type": "code",
   "execution_count": null,
   "id": "4c0c4cc5-2be1-469e-849a-52609dc1060e",
   "metadata": {},
   "outputs": [],
   "source": [
    "path = 'LEEM41-024/P1(123453)'\n",
    "dataStore = []\n",
    "files = os.listdir(path)\n",
    "for file in files:\n",
    "    if re.search('.csv', file):\n",
    "        dataStore.append({})\n",
    "        dataStore[-1]['DataName'] = path + '/' + file\n",
    "        dataStore[-1]['Vg'] = np.array([])\n",
    "        dataStore[-1]['Chf'] = np.array([])\n",
    "\n",
    "        with open(path + '/' + file, 'rt') as csvFile:\n",
    "            csvReader = csv.reader(csvFile)\n",
    "            listReader = list(csvReader)[1:]\n",
    "            \n",
    "            for index in listReader:\n",
    "                dataStore[-1]['Vg'] = np.append(dataStore[-1]['Vg'], float(index[0]))\n",
    "                dataStore[-1]['Chf'] = np.append(dataStore[-1]['Chf'], float(index[0]))\n",
    "for index in dataStore:\n",
    "    print(index)"
   ]
  },
  {
   "cell_type": "code",
   "execution_count": null,
   "id": "f289ee00-f965-46d8-994d-723219afa12e",
   "metadata": {},
   "outputs": [],
   "source": [
    "dirList = ['LEEM41-024/P1(123453)', 'LEEM41-024/P2(323443)']\n",
    "dataStore = []\n",
    "\n",
    "def extractData(dirList):\n",
    "    timer = 0\n",
    "    for path in dirList:\n",
    "        files = os.listdir(path)\n",
    "        # print(files)\n",
    "        \n",
    "        for file in files:\n",
    "            if re.search('.csv', file):\n",
    "                dataStore.append({})\n",
    "                dataStore[timer]['DataName'] = path + '/' + file\n",
    "                dataStore[timer]['Vg'] = np.array([])\n",
    "                dataStore[timer]['Chf'] = np.array([])\n",
    "                \n",
    "                with open(path + '/' + file, 'rt') as csvFile:\n",
    "                    csvReader = csv.reader(csvFile)\n",
    "                    listReader = list(csvReader)[1:]\n",
    "                    \n",
    "                    for index in listReader:\n",
    "                        dataStore[timer]['Vg'] = np.append(dataStore[timer]['Vg'], float(index[0]))\n",
    "                        dataStore[timer]['Chf'] = np.append(dataStore[timer]['Chf'], float(index[0]))\n",
    "                timer += 1\n",
    "    timer = 0\n",
    "extractData(dirList)\n",
    "dataStore\n",
    "\n",
    "\n"
   ]
  },
  {
   "cell_type": "code",
   "execution_count": 28,
   "id": "ae799aa0-55a8-4067-be3c-63ea4c5023a4",
   "metadata": {
    "execution": {
     "iopub.execute_input": "2024-12-04T17:32:45.631566Z",
     "iopub.status.busy": "2024-12-04T17:32:45.630238Z",
     "iopub.status.idle": "2024-12-04T17:32:45.661381Z",
     "shell.execute_reply": "2024-12-04T17:32:45.660649Z",
     "shell.execute_reply.started": "2024-12-04T17:32:45.631513Z"
    }
   },
   "outputs": [
    {
     "name": "stdout",
     "output_type": "stream",
     "text": [
      "文件夹data已存在！\n"
     ]
    }
   ],
   "source": [
    "path = 'LEEM41-024/P1(123453)'\n",
    "dataStore = []\n",
    "\n",
    "files = os.listdir(path)\n",
    "\n",
    "def createFolder(foldername):\n",
    "    try:\n",
    "        os.mkdir(foldername)\n",
    "        print(f'文件夹{foldername}创建成功！')\n",
    "    except FileExistsError:\n",
    "        print(f'文件夹{foldername}已存在！')\n",
    "\n",
    "for file in files:\n",
    "    if re.search('.csv', file):\n",
    "        dataStore.append({})\n",
    "        DataName = path + '/' + file\n",
    "        df = pd.read_csv(DataName)\n",
    "        dataStore[-1]['DataName'] = DataName\n",
    "        dataStore[-1]['Vg'] = df.Vg.values\n",
    "        dataStore[-1]['Chf'] = df.Chf.values\n",
    "\n",
    "foldername = 'data'\n",
    "createFolder(foldername)\n",
    "dx = pd.DataFrame(dataStore[-1])\n",
    "dx.to_excel(foldername + '/' + 'data.xlsx', index=False)\n",
    "        "
   ]
  },
  {
   "cell_type": "code",
   "execution_count": null,
   "id": "73f0d63f-5b68-428a-83ec-70f7e14f753e",
   "metadata": {},
   "outputs": [],
   "source": [
    "path = 'LEEM41-024/P1(123453)'\n",
    "dataStore = []\n",
    "\n",
    "files = os.listdir(path)\n",
    "\n",
    "timer = 0\n",
    "for file in files:\n",
    "    if re.search('.csv', file):\n",
    "        dataStore.append({})\n",
    "        DataName = path + '/' + file\n",
    "        df = pd.read_csv(DataName)\n",
    "        df['DataName'] = DataName\n",
    "        print(df)\n",
    "        timer += 1\n",
    "        \n",
    "for index in dataStore:\n",
    "    print(index)"
   ]
  },
  {
   "cell_type": "code",
   "execution_count": 23,
   "id": "5bf07f60-c84b-486a-9a10-728d6e2e0052",
   "metadata": {
    "execution": {
     "iopub.execute_input": "2024-12-04T17:29:17.387831Z",
     "iopub.status.busy": "2024-12-04T17:29:17.386068Z",
     "iopub.status.idle": "2024-12-04T17:29:17.395246Z",
     "shell.execute_reply": "2024-12-04T17:29:17.394080Z",
     "shell.execute_reply.started": "2024-12-04T17:29:17.387698Z"
    }
   },
   "outputs": [],
   "source": [
    "os.mkdir('data/mydata')"
   ]
  },
  {
   "cell_type": "code",
   "execution_count": 25,
   "id": "a7712a49-b053-4e7e-84f3-3952c05862ee",
   "metadata": {
    "execution": {
     "iopub.execute_input": "2024-12-04T17:30:37.720857Z",
     "iopub.status.busy": "2024-12-04T17:30:37.719013Z",
     "iopub.status.idle": "2024-12-04T17:30:37.731925Z",
     "shell.execute_reply": "2024-12-04T17:30:37.729604Z",
     "shell.execute_reply.started": "2024-12-04T17:30:37.720771Z"
    }
   },
   "outputs": [],
   "source": [
    "os.makedirs('data2/mydata')"
   ]
  }
 ],
 "metadata": {
  "kernelspec": {
   "display_name": "Python 3 (ipykernel)",
   "language": "python",
   "name": "python3"
  },
  "language_info": {
   "codemirror_mode": {
    "name": "ipython",
    "version": 3
   },
   "file_extension": ".py",
   "mimetype": "text/x-python",
   "name": "python",
   "nbconvert_exporter": "python",
   "pygments_lexer": "ipython3",
   "version": "3.9.6"
  }
 },
 "nbformat": 4,
 "nbformat_minor": 5
}
