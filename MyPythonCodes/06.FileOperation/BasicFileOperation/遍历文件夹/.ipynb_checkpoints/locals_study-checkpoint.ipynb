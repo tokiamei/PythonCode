{
 "cells": [
  {
   "cell_type": "code",
   "execution_count": 2,
   "id": "2f1b6116-116d-491d-afe1-3a38f1a22f62",
   "metadata": {
    "execution": {
     "iopub.execute_input": "2024-11-22T15:06:07.063118Z",
     "iopub.status.busy": "2024-11-22T15:06:07.062452Z",
     "iopub.status.idle": "2024-11-22T15:06:07.294251Z",
     "shell.execute_reply": "2024-11-22T15:06:07.293896Z",
     "shell.execute_reply.started": "2024-11-22T15:06:07.063077Z"
    }
   },
   "outputs": [],
   "source": [
    "import os\n",
    "import re\n",
    "import csv\n",
    "import numpy as np\n",
    "import pandas as pd"
   ]
  },
  {
   "cell_type": "code",
   "execution_count": 2,
   "id": "4c0c4cc5-2be1-469e-849a-52609dc1060e",
   "metadata": {
    "execution": {
     "iopub.execute_input": "2024-11-14T17:11:22.249945Z",
     "iopub.status.busy": "2024-11-14T17:11:22.248437Z",
     "iopub.status.idle": "2024-11-14T17:11:22.268615Z",
     "shell.execute_reply": "2024-11-14T17:11:22.267639Z",
     "shell.execute_reply.started": "2024-11-14T17:11:22.249877Z"
    }
   },
   "outputs": [
    {
     "name": "stdout",
     "output_type": "stream",
     "text": [
      "{'DataName': 'LEEM41-024/P1(123453)/T-20241114-1.csv', 'Vg': array([1., 2., 3., 4., 5.]), 'Chf': array([1., 2., 3., 4., 5.])}\n",
      "{'DataName': 'LEEM41-024/P1(123453)/T-20241114-2.csv', 'Vg': array([1., 2., 3., 4., 5.]), 'Chf': array([1., 2., 3., 4., 5.])}\n",
      "{'DataName': 'LEEM41-024/P1(123453)/M-20241114-2.csv', 'Vg': array([1., 2., 3., 4., 5.]), 'Chf': array([1., 2., 3., 4., 5.])}\n",
      "{'DataName': 'LEEM41-024/P1(123453)/M-20241114-1.csv', 'Vg': array([1., 2., 3., 4., 5.]), 'Chf': array([1., 2., 3., 4., 5.])}\n"
     ]
    }
   ],
   "source": [
    "path = 'LEEM41-024/P1(123453)'\n",
    "\n",
    "dataStore = []\n",
    "\n",
    "files = os.listdir(path)\n",
    "timer = 0\n",
    "for file in files:\n",
    "    if re.search('.csv', file):\n",
    "        dataStore.append({})\n",
    "        dataStore[timer]['DataName'] = path + '/' + file\n",
    "        dataStore[timer]['Vg'] = np.array([])\n",
    "        dataStore[timer]['Chf'] = np.array([])\n",
    "\n",
    "        \n",
    "        with open(path + '/' + file, 'rt') as csvFile:\n",
    "            csvReader = csv.reader(csvFile)\n",
    "            listReader = list(csvReader)[1:]\n",
    "            \n",
    "            for index in listReader:\n",
    "                dataStore[timer]['Vg'] = np.append(dataStore[timer]['Vg'], float(index[0]))\n",
    "                dataStore[timer]['Chf'] = np.append(dataStore[timer]['Chf'], float(index[0]))\n",
    "        timer += 1\n",
    "for index in dataStore:\n",
    "    print(index)"
   ]
  },
  {
   "cell_type": "code",
   "execution_count": 9,
   "id": "f289ee00-f965-46d8-994d-723219afa12e",
   "metadata": {
    "execution": {
     "iopub.execute_input": "2024-11-14T17:21:30.436299Z",
     "iopub.status.busy": "2024-11-14T17:21:30.435832Z",
     "iopub.status.idle": "2024-11-14T17:21:30.465890Z",
     "shell.execute_reply": "2024-11-14T17:21:30.465306Z",
     "shell.execute_reply.started": "2024-11-14T17:21:30.436269Z"
    }
   },
   "outputs": [
    {
     "data": {
      "text/plain": [
       "[{'DataName': 'LEEM41-024/P1(123453)/T-20241114-1.csv',\n",
       "  'Vg': array([1., 2., 3., 4., 5.]),\n",
       "  'Chf': array([1., 2., 3., 4., 5.])},\n",
       " {'DataName': 'LEEM41-024/P1(123453)/T-20241114-2.csv',\n",
       "  'Vg': array([1., 2., 3., 4., 5.]),\n",
       "  'Chf': array([1., 2., 3., 4., 5.])},\n",
       " {'DataName': 'LEEM41-024/P1(123453)/M-20241114-2.csv',\n",
       "  'Vg': array([1., 2., 3., 4., 5.]),\n",
       "  'Chf': array([1., 2., 3., 4., 5.])},\n",
       " {'DataName': 'LEEM41-024/P1(123453)/M-20241114-1.csv',\n",
       "  'Vg': array([1., 2., 3., 4., 5.]),\n",
       "  'Chf': array([1., 2., 3., 4., 5.])},\n",
       " {'DataName': 'LEEM41-024/P2(323443)/M-20241114-2.csv',\n",
       "  'Vg': array([1., 2., 3., 4., 5.]),\n",
       "  'Chf': array([1., 2., 3., 4., 5.])},\n",
       " {'DataName': 'LEEM41-024/P2(323443)/M-20241114-1.csv',\n",
       "  'Vg': array([1., 2., 3., 4., 5.]),\n",
       "  'Chf': array([1., 2., 3., 4., 5.])}]"
      ]
     },
     "execution_count": 9,
     "metadata": {},
     "output_type": "execute_result"
    }
   ],
   "source": [
    "dirList = ['LEEM41-024/P1(123453)', 'LEEM41-024/P2(323443)']\n",
    "dataStore = []\n",
    "\n",
    "def extractData(dirList):\n",
    "    timer = 0\n",
    "    for path in dirList:\n",
    "        files = os.listdir(path)\n",
    "        # print(files)\n",
    "        \n",
    "        for file in files:\n",
    "            if re.search('.csv', file):\n",
    "                dataStore.append({})\n",
    "                dataStore[timer]['DataName'] = path + '/' + file\n",
    "                dataStore[timer]['Vg'] = np.array([])\n",
    "                dataStore[timer]['Chf'] = np.array([])\n",
    "                \n",
    "                with open(path + '/' + file, 'rt') as csvFile:\n",
    "                    csvReader = csv.reader(csvFile)\n",
    "                    listReader = list(csvReader)[1:]\n",
    "                    \n",
    "                    for index in listReader:\n",
    "                        dataStore[timer]['Vg'] = np.append(dataStore[timer]['Vg'], float(index[0]))\n",
    "                        dataStore[timer]['Chf'] = np.append(dataStore[timer]['Chf'], float(index[0]))\n",
    "                timer += 1\n",
    "    timer = 0\n",
    "extractData(dirList)\n",
    "dataStore\n"
   ]
  },
  {
   "cell_type": "code",
   "execution_count": 10,
   "id": "ae799aa0-55a8-4067-be3c-63ea4c5023a4",
   "metadata": {
    "execution": {
     "iopub.execute_input": "2024-11-22T14:58:29.912858Z",
     "iopub.status.busy": "2024-11-22T14:58:29.911349Z",
     "iopub.status.idle": "2024-11-22T14:58:29.931681Z",
     "shell.execute_reply": "2024-11-22T14:58:29.931019Z",
     "shell.execute_reply.started": "2024-11-22T14:58:29.912774Z"
    }
   },
   "outputs": [
    {
     "name": "stdout",
     "output_type": "stream",
     "text": [
      "{'DataName': 'LEEM41-024/P1(123453)/T-20241114-1.csv', 'Vg': array([1, 2, 3, 4, 5]), 'Chf': array([ 4. , 24. ,  4.5,  0.4,  2.4])}\n",
      "{'DataName': 'LEEM41-024/P1(123453)/T-20241114-2.csv', 'Vg': array([1, 2, 3, 4, 5]), 'Chf': array([ 5.7,  8.8, 43.6,  3.7,  2.4])}\n",
      "{'DataName': 'LEEM41-024/P1(123453)/M-20241114-2.csv', 'Vg': array([1, 2, 3, 4, 5]), 'Chf': array([ 5.7,  8.8, 43.6,  3.7,  2.4])}\n",
      "{'DataName': 'LEEM41-024/P1(123453)/M-20241114-1.csv', 'Vg': array([1, 2, 3, 4, 5]), 'Chf': array([ 4. , 24. ,  4.5,  0.4,  2.4])}\n"
     ]
    }
   ],
   "source": [
    "path = 'LEEM41-024/P1(123453)'\n",
    "dataStore = []\n",
    "\n",
    "files = os.listdir(path)\n",
    "\n",
    "timer = 0\n",
    "for file in files:\n",
    "    if re.search('.csv', file):\n",
    "        dataStore.append({})\n",
    "        DataName = path + '/' + file\n",
    "        df = pd.read_csv(DataName)\n",
    "        dataStore[timer]['DataName'] = DataName\n",
    "        dataStore[timer]['Vg'] = df.Vg.values\n",
    "        dataStore[timer]['Chf'] = df.Chf.values\n",
    "        timer += 1\n",
    "        \n",
    "for index in dataStore:\n",
    "    print(index)"
   ]
  },
  {
   "cell_type": "code",
   "execution_count": 14,
   "id": "73f0d63f-5b68-428a-83ec-70f7e14f753e",
   "metadata": {
    "execution": {
     "iopub.execute_input": "2024-11-22T15:01:54.377161Z",
     "iopub.status.busy": "2024-11-22T15:01:54.376505Z",
     "iopub.status.idle": "2024-11-22T15:01:54.402832Z",
     "shell.execute_reply": "2024-11-22T15:01:54.402067Z",
     "shell.execute_reply.started": "2024-11-22T15:01:54.377096Z"
    }
   },
   "outputs": [
    {
     "name": "stdout",
     "output_type": "stream",
     "text": [
      "   Vg   Chf                                DataName\n",
      "0   1   4.0  LEEM41-024/P1(123453)/T-20241114-1.csv\n",
      "1   2  24.0  LEEM41-024/P1(123453)/T-20241114-1.csv\n",
      "2   3   4.5  LEEM41-024/P1(123453)/T-20241114-1.csv\n",
      "3   4   0.4  LEEM41-024/P1(123453)/T-20241114-1.csv\n",
      "4   5   2.4  LEEM41-024/P1(123453)/T-20241114-1.csv\n",
      "   Vg   Chf                                DataName\n",
      "0   1   5.7  LEEM41-024/P1(123453)/T-20241114-2.csv\n",
      "1   2   8.8  LEEM41-024/P1(123453)/T-20241114-2.csv\n",
      "2   3  43.6  LEEM41-024/P1(123453)/T-20241114-2.csv\n",
      "3   4   3.7  LEEM41-024/P1(123453)/T-20241114-2.csv\n",
      "4   5   2.4  LEEM41-024/P1(123453)/T-20241114-2.csv\n",
      "   Vg   Chf                                DataName\n",
      "0   1   5.7  LEEM41-024/P1(123453)/M-20241114-2.csv\n",
      "1   2   8.8  LEEM41-024/P1(123453)/M-20241114-2.csv\n",
      "2   3  43.6  LEEM41-024/P1(123453)/M-20241114-2.csv\n",
      "3   4   3.7  LEEM41-024/P1(123453)/M-20241114-2.csv\n",
      "4   5   2.4  LEEM41-024/P1(123453)/M-20241114-2.csv\n",
      "   Vg   Chf                                DataName\n",
      "0   1   4.0  LEEM41-024/P1(123453)/M-20241114-1.csv\n",
      "1   2  24.0  LEEM41-024/P1(123453)/M-20241114-1.csv\n",
      "2   3   4.5  LEEM41-024/P1(123453)/M-20241114-1.csv\n",
      "3   4   0.4  LEEM41-024/P1(123453)/M-20241114-1.csv\n",
      "4   5   2.4  LEEM41-024/P1(123453)/M-20241114-1.csv\n",
      "{}\n",
      "{}\n",
      "{}\n",
      "{}\n"
     ]
    }
   ],
   "source": [
    "path = 'LEEM41-024/P1(123453)'\n",
    "dataStore = []\n",
    "\n",
    "files = os.listdir(path)\n",
    "\n",
    "timer = 0\n",
    "for file in files:\n",
    "    if re.search('.csv', file):\n",
    "        dataStore.append({})\n",
    "        DataName = path + '/' + file\n",
    "        df = pd.read_csv(DataName)\n",
    "        df['DataName'] = DataName\n",
    "        print(df)\n",
    "        timer += 1\n",
    "        \n",
    "for index in dataStore:\n",
    "    print(index)"
   ]
  }
 ],
 "metadata": {
  "kernelspec": {
   "display_name": "Python 3 (ipykernel)",
   "language": "python",
   "name": "python3"
  },
  "language_info": {
   "codemirror_mode": {
    "name": "ipython",
    "version": 3
   },
   "file_extension": ".py",
   "mimetype": "text/x-python",
   "name": "python",
   "nbconvert_exporter": "python",
   "pygments_lexer": "ipython3",
   "version": "3.9.6"
  }
 },
 "nbformat": 4,
 "nbformat_minor": 5
}
