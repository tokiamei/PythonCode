{
 "cells": [
  {
   "cell_type": "code",
   "execution_count": 1,
   "id": "2f1b6116-116d-491d-afe1-3a38f1a22f62",
   "metadata": {
    "execution": {
     "iopub.execute_input": "2024-12-04T16:14:52.371102Z",
     "iopub.status.busy": "2024-12-04T16:14:52.369847Z",
     "iopub.status.idle": "2024-12-04T16:14:52.731603Z",
     "shell.execute_reply": "2024-12-04T16:14:52.731268Z",
     "shell.execute_reply.started": "2024-12-04T16:14:52.371044Z"
    }
   },
   "outputs": [],
   "source": [
    "import os\n",
    "import re\n",
    "import csv\n",
    "import numpy as np\n",
    "import pandas as pd"
   ]
  },
  {
   "cell_type": "code",
   "execution_count": 11,
   "id": "4c0c4cc5-2be1-469e-849a-52609dc1060e",
   "metadata": {
    "execution": {
     "iopub.execute_input": "2024-12-04T17:13:09.848640Z",
     "iopub.status.busy": "2024-12-04T17:13:09.847681Z",
     "iopub.status.idle": "2024-12-04T17:13:09.863553Z",
     "shell.execute_reply": "2024-12-04T17:13:09.862424Z",
     "shell.execute_reply.started": "2024-12-04T17:13:09.848600Z"
    }
   },
   "outputs": [
    {
     "name": "stdout",
     "output_type": "stream",
     "text": [
      "{'DataName': 'LEEM41-024/P1(123453)/T-20241114-1.csv', 'Vg': array([1., 2., 3., 4., 5.]), 'Chf': array([1., 2., 3., 4., 5.])}\n",
      "{'DataName': 'LEEM41-024/P1(123453)/T-20241114-2.csv', 'Vg': array([1., 2., 3., 4., 5.]), 'Chf': array([1., 2., 3., 4., 5.])}\n",
      "{'DataName': 'LEEM41-024/P1(123453)/M-20241114-2.csv', 'Vg': array([1., 2., 3., 4., 5.]), 'Chf': array([1., 2., 3., 4., 5.])}\n",
      "{'DataName': 'LEEM41-024/P1(123453)/M-20241114-1.csv', 'Vg': array([1., 2., 3., 4., 5.]), 'Chf': array([1., 2., 3., 4., 5.])}\n"
     ]
    }
   ],
   "source": [
    "path = 'LEEM41-024/P1(123453)'\n",
    "dataStore = []\n",
    "files = os.listdir(path)\n",
    "for file in files:\n",
    "    if re.search('.csv', file):\n",
    "        dataStore.append({})\n",
    "        dataStore[-1]['DataName'] = path + '/' + file\n",
    "        dataStore[-1]['Vg'] = np.array([])\n",
    "        dataStore[-1]['Chf'] = np.array([])\n",
    "\n",
    "        with open(path + '/' + file, 'rt') as csvFile:\n",
    "            csvReader = csv.reader(csvFile)\n",
    "            listReader = list(csvReader)[1:]\n",
    "            \n",
    "            for index in listReader:\n",
    "                dataStore[-1]['Vg'] = np.append(dataStore[-1]['Vg'], float(index[0]))\n",
    "                dataStore[-1]['Chf'] = np.append(dataStore[-1]['Chf'], float(index[0]))\n",
    "for index in dataStore:\n",
    "    print(index)"
   ]
  },
  {
   "cell_type": "code",
   "execution_count": 9,
   "id": "f289ee00-f965-46d8-994d-723219afa12e",
   "metadata": {
    "execution": {
     "iopub.execute_input": "2024-11-14T17:21:30.436299Z",
     "iopub.status.busy": "2024-11-14T17:21:30.435832Z",
     "iopub.status.idle": "2024-11-14T17:21:30.465890Z",
     "shell.execute_reply": "2024-11-14T17:21:30.465306Z",
     "shell.execute_reply.started": "2024-11-14T17:21:30.436269Z"
    }
   },
   "outputs": [
    {
     "data": {
      "text/plain": [
       "[{'DataName': 'LEEM41-024/P1(123453)/T-20241114-1.csv',\n",
       "  'Vg': array([1., 2., 3., 4., 5.]),\n",
       "  'Chf': array([1., 2., 3., 4., 5.])},\n",
       " {'DataName': 'LEEM41-024/P1(123453)/T-20241114-2.csv',\n",
       "  'Vg': array([1., 2., 3., 4., 5.]),\n",
       "  'Chf': array([1., 2., 3., 4., 5.])},\n",
       " {'DataName': 'LEEM41-024/P1(123453)/M-20241114-2.csv',\n",
       "  'Vg': array([1., 2., 3., 4., 5.]),\n",
       "  'Chf': array([1., 2., 3., 4., 5.])},\n",
       " {'DataName': 'LEEM41-024/P1(123453)/M-20241114-1.csv',\n",
       "  'Vg': array([1., 2., 3., 4., 5.]),\n",
       "  'Chf': array([1., 2., 3., 4., 5.])},\n",
       " {'DataName': 'LEEM41-024/P2(323443)/M-20241114-2.csv',\n",
       "  'Vg': array([1., 2., 3., 4., 5.]),\n",
       "  'Chf': array([1., 2., 3., 4., 5.])},\n",
       " {'DataName': 'LEEM41-024/P2(323443)/M-20241114-1.csv',\n",
       "  'Vg': array([1., 2., 3., 4., 5.]),\n",
       "  'Chf': array([1., 2., 3., 4., 5.])}]"
      ]
     },
     "execution_count": 9,
     "metadata": {},
     "output_type": "execute_result"
    }
   ],
   "source": [
    "dirList = ['LEEM41-024/P1(123453)', 'LEEM41-024/P2(323443)']\n",
    "dataStore = []\n",
    "\n",
    "def extractData(dirList):\n",
    "    timer = 0\n",
    "    for path in dirList:\n",
    "        files = os.listdir(path)\n",
    "        # print(files)\n",
    "        \n",
    "        for file in files:\n",
    "            if re.search('.csv', file):\n",
    "                dataStore.append({})\n",
    "                dataStore[timer]['DataName'] = path + '/' + file\n",
    "                dataStore[timer]['Vg'] = np.array([])\n",
    "                dataStore[timer]['Chf'] = np.array([])\n",
    "                \n",
    "                with open(path + '/' + file, 'rt') as csvFile:\n",
    "                    csvReader = csv.reader(csvFile)\n",
    "                    listReader = list(csvReader)[1:]\n",
    "                    \n",
    "                    for index in listReader:\n",
    "                        dataStore[timer]['Vg'] = np.append(dataStore[timer]['Vg'], float(index[0]))\n",
    "                        dataStore[timer]['Chf'] = np.append(dataStore[timer]['Chf'], float(index[0]))\n",
    "                timer += 1\n",
    "    timer = 0\n",
    "extractData(dirList)\n",
    "dataStore\n",
    "\n",
    "\n"
   ]
  },
  {
   "cell_type": "code",
   "execution_count": 10,
   "id": "ae799aa0-55a8-4067-be3c-63ea4c5023a4",
   "metadata": {
    "execution": {
     "iopub.execute_input": "2024-12-04T17:11:53.169122Z",
     "iopub.status.busy": "2024-12-04T17:11:53.168412Z",
     "iopub.status.idle": "2024-12-04T17:11:53.194016Z",
     "shell.execute_reply": "2024-12-04T17:11:53.193167Z",
     "shell.execute_reply.started": "2024-12-04T17:11:53.169072Z"
    }
   },
   "outputs": [
    {
     "data": {
      "text/plain": [
       "[{'DataName': 'LEEM41-024/P1(123453)/T-20241114-1.csv',\n",
       "  'Vg': array([1, 2, 3, 4, 5]),\n",
       "  'Chf': array([ 4. , 24. ,  4.5,  0.4,  2.4])},\n",
       " {'DataName': 'LEEM41-024/P1(123453)/T-20241114-2.csv',\n",
       "  'Vg': array([1, 2, 3, 4, 5]),\n",
       "  'Chf': array([ 5.7,  8.8, 43.6,  3.7,  2.4])},\n",
       " {'DataName': 'LEEM41-024/P1(123453)/M-20241114-2.csv',\n",
       "  'Vg': array([1, 2, 3, 4, 5]),\n",
       "  'Chf': array([ 5.7,  8.8, 43.6,  3.7,  2.4])},\n",
       " {'DataName': 'LEEM41-024/P1(123453)/M-20241114-1.csv',\n",
       "  'Vg': array([1, 2, 3, 4, 5]),\n",
       "  'Chf': array([ 4. , 24. ,  4.5,  0.4,  2.4])}]"
      ]
     },
     "execution_count": 10,
     "metadata": {},
     "output_type": "execute_result"
    }
   ],
   "source": [
    "path = 'LEEM41-024/P1(123453)'\n",
    "dataStore = []\n",
    "\n",
    "files = os.listdir(path)\n",
    "\n",
    "def createFolder(foldername):\n",
    "    try:\n",
    "        os.mkdir(foldername)\n",
    "        print(f'文件夹{foldername}创建成功！')\n",
    "    except FileExistsError:\n",
    "        print(f'文件夹{foldername}已存在！')\n",
    "\n",
    "for file in files:\n",
    "    if re.search('.csv', file):\n",
    "        dataStore.append({})\n",
    "        DataName = path + '/' + file\n",
    "        df = pd.read_csv(DataName)\n",
    "        dataStore[-1]['DataName'] = DataName\n",
    "        dataStore[-1]['Vg'] = df.Vg.values\n",
    "        dataStore[-1]['Chf'] = df.Chf.values\n",
    "\n",
    "        \n",
    "# for index in dataStore:\n",
    "#     print(index)\n",
    "# dataStore[0]['Vg'][0]\n",
    "dataStore"
   ]
  },
  {
   "cell_type": "code",
   "execution_count": 3,
   "id": "73f0d63f-5b68-428a-83ec-70f7e14f753e",
   "metadata": {
    "execution": {
     "iopub.execute_input": "2024-11-22T15:54:45.849046Z",
     "iopub.status.busy": "2024-11-22T15:54:45.847896Z",
     "iopub.status.idle": "2024-11-22T15:54:45.880666Z",
     "shell.execute_reply": "2024-11-22T15:54:45.880287Z",
     "shell.execute_reply.started": "2024-11-22T15:54:45.848937Z"
    }
   },
   "outputs": [
    {
     "name": "stdout",
     "output_type": "stream",
     "text": [
      "   Vg   Chf                                DataName\n",
      "0   1   4.0  LEEM41-024/P1(123453)/T-20241114-1.csv\n",
      "1   2  24.0  LEEM41-024/P1(123453)/T-20241114-1.csv\n",
      "2   3   4.5  LEEM41-024/P1(123453)/T-20241114-1.csv\n",
      "3   4   0.4  LEEM41-024/P1(123453)/T-20241114-1.csv\n",
      "4   5   2.4  LEEM41-024/P1(123453)/T-20241114-1.csv\n",
      "   Vg   Chf                                DataName\n",
      "0   1   5.7  LEEM41-024/P1(123453)/T-20241114-2.csv\n",
      "1   2   8.8  LEEM41-024/P1(123453)/T-20241114-2.csv\n",
      "2   3  43.6  LEEM41-024/P1(123453)/T-20241114-2.csv\n",
      "3   4   3.7  LEEM41-024/P1(123453)/T-20241114-2.csv\n",
      "4   5   2.4  LEEM41-024/P1(123453)/T-20241114-2.csv\n",
      "   Vg   Chf                                DataName\n",
      "0   1   5.7  LEEM41-024/P1(123453)/M-20241114-2.csv\n",
      "1   2   8.8  LEEM41-024/P1(123453)/M-20241114-2.csv\n",
      "2   3  43.6  LEEM41-024/P1(123453)/M-20241114-2.csv\n",
      "3   4   3.7  LEEM41-024/P1(123453)/M-20241114-2.csv\n",
      "4   5   2.4  LEEM41-024/P1(123453)/M-20241114-2.csv\n",
      "   Vg   Chf                                DataName\n",
      "0   1   4.0  LEEM41-024/P1(123453)/M-20241114-1.csv\n",
      "1   2  24.0  LEEM41-024/P1(123453)/M-20241114-1.csv\n",
      "2   3   4.5  LEEM41-024/P1(123453)/M-20241114-1.csv\n",
      "3   4   0.4  LEEM41-024/P1(123453)/M-20241114-1.csv\n",
      "4   5   2.4  LEEM41-024/P1(123453)/M-20241114-1.csv\n",
      "{}\n",
      "{}\n",
      "{}\n",
      "{}\n"
     ]
    }
   ],
   "source": [
    "path = 'LEEM41-024/P1(123453)'\n",
    "dataStore = []\n",
    "\n",
    "files = os.listdir(path)\n",
    "\n",
    "timer = 0\n",
    "for file in files:\n",
    "    if re.search('.csv', file):\n",
    "        dataStore.append({})\n",
    "        DataName = path + '/' + file\n",
    "        df = pd.read_csv(DataName)\n",
    "        df['DataName'] = DataName\n",
    "        print(df)\n",
    "        timer += 1\n",
    "        \n",
    "for index in dataStore:\n",
    "    print(index)"
   ]
  }
 ],
 "metadata": {
  "kernelspec": {
   "display_name": "Python 3 (ipykernel)",
   "language": "python",
   "name": "python3"
  },
  "language_info": {
   "codemirror_mode": {
    "name": "ipython",
    "version": 3
   },
   "file_extension": ".py",
   "mimetype": "text/x-python",
   "name": "python",
   "nbconvert_exporter": "python",
   "pygments_lexer": "ipython3",
   "version": "3.9.6"
  }
 },
 "nbformat": 4,
 "nbformat_minor": 5
}
