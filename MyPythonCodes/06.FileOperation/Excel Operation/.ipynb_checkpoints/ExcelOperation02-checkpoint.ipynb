{
 "cells": [
  {
   "cell_type": "code",
   "execution_count": 35,
   "id": "0d16632a-6e4b-4e25-bf94-47fe905dcfb7",
   "metadata": {
    "execution": {
     "iopub.execute_input": "2023-10-13T01:00:18.132632Z",
     "iopub.status.busy": "2023-10-13T01:00:18.131634Z",
     "iopub.status.idle": "2023-10-13T01:00:18.273271Z",
     "shell.execute_reply": "2023-10-13T01:00:18.272245Z",
     "shell.execute_reply.started": "2023-10-13T01:00:18.132632Z"
    }
   },
   "outputs": [],
   "source": [
    "import os\n",
    "import openpyxl\n",
    "import numpy as np\n",
    "import xlsxwriter"
   ]
  },
  {
   "cell_type": "code",
   "execution_count": 3,
   "id": "111342bd-8842-4202-a7d2-510e4f27440a",
   "metadata": {
    "execution": {
     "iopub.execute_input": "2023-10-12T16:09:43.487694Z",
     "iopub.status.busy": "2023-10-12T16:09:43.486698Z",
     "iopub.status.idle": "2023-10-12T16:09:43.492308Z",
     "shell.execute_reply": "2023-10-12T16:09:43.491295Z",
     "shell.execute_reply.started": "2023-10-12T16:09:43.487694Z"
    }
   },
   "outputs": [],
   "source": [
    "path = r\"C:\\Users\\amesu\\资料\\工作\\工作学习资料\\Python Files\\python-study-main\\16.Python操作Excel\"\n",
    "os.chdir(path)"
   ]
  },
  {
   "cell_type": "code",
   "execution_count": 37,
   "id": "c794d917-90f2-4476-a083-3b95e2e7b12d",
   "metadata": {
    "execution": {
     "iopub.execute_input": "2023-10-13T01:00:55.515646Z",
     "iopub.status.busy": "2023-10-13T01:00:55.514646Z",
     "iopub.status.idle": "2023-10-13T01:00:57.701538Z",
     "shell.execute_reply": "2023-10-13T01:00:57.700486Z",
     "shell.execute_reply.started": "2023-10-13T01:00:55.515646Z"
    }
   },
   "outputs": [],
   "source": [
    "# 创建一个名为“LUTTest”的Excel\n",
    "workbook = xlsxwriter.Workbook(\"Test.xlsx\")\n",
    "# 创建一个名为“Logrithum”的sheet表\n",
    "worksheet = workbook.add_worksheet(\"Arithmetic\")\n",
    "headings = ['input', 'offset', 'output']\n",
    "worksheet.write_row('A1', headings)\n",
    "input = np.arange(1, 65535)\n",
    "output = input[::-1]\n",
    "for i in input:\n",
    "    worksheet.write(i, 0, input[i - 1])\n",
    "    worksheet.write(i, 2, output[i - 1])\n",
    "workbook.close()"
   ]
  }
 ],
 "metadata": {
  "kernelspec": {
   "display_name": "Python 3 (ipykernel)",
   "language": "python",
   "name": "python3"
  },
  "language_info": {
   "codemirror_mode": {
    "name": "ipython",
    "version": 3
   },
   "file_extension": ".py",
   "mimetype": "text/x-python",
   "name": "python",
   "nbconvert_exporter": "python",
   "pygments_lexer": "ipython3",
   "version": "3.11.4"
  }
 },
 "nbformat": 4,
 "nbformat_minor": 5
}
