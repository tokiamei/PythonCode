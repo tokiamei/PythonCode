{
 "cells": [
  {
   "cell_type": "code",
   "execution_count": 5,
   "id": "00aa2296-9c76-4708-838b-39d5122aa102",
   "metadata": {
    "execution": {
     "iopub.execute_input": "2024-11-07T16:43:18.734020Z",
     "iopub.status.busy": "2024-11-07T16:43:18.733287Z",
     "iopub.status.idle": "2024-11-07T16:43:18.761847Z",
     "shell.execute_reply": "2024-11-07T16:43:18.761010Z",
     "shell.execute_reply.started": "2024-11-07T16:43:18.733979Z"
    }
   },
   "outputs": [],
   "source": [
    "# 导入模块\n",
    "import os\n",
    "import openpyxl\n",
    "import xlsxwriter\n",
    "import numpy as np"
   ]
  },
  {
   "cell_type": "markdown",
   "id": "2cf86911-7d07-416a-a3e2-7340e4741f49",
   "metadata": {},
   "source": [
    "# 1、基本操作\n",
    "\n",
    "- 一个Excel电子表格文档称为一个工作簿\n",
    "- 一个工作簿保存在一个扩展名为.xlsx的文件中\n",
    "- 一个工作簿可以包含多个表\n",
    "- 用户当前查看的表（或关闭Excel前最后查看的表）称为活动表\n",
    "- 在特定行和列的方格称为单元格、格子"
   ]
  },
  {
   "cell_type": "markdown",
   "id": "f2fa854b-f464-4a36-86d8-02a72287a939",
   "metadata": {},
   "source": [
    "# 1.1、用`openpyxl`模块打开Excel文档，查看所有sheet表"
   ]
  },
  {
   "cell_type": "code",
   "execution_count": 11,
   "id": "a766abb7-a77d-4893-a40a-0f3bb6b699d8",
   "metadata": {
    "execution": {
     "iopub.execute_input": "2024-11-07T16:47:11.941181Z",
     "iopub.status.busy": "2024-11-07T16:47:11.940246Z",
     "iopub.status.idle": "2024-11-07T16:47:11.946517Z",
     "shell.execute_reply": "2024-11-07T16:47:11.945679Z",
     "shell.execute_reply.started": "2024-11-07T16:47:11.941109Z"
    },
    "scrolled": true
   },
   "outputs": [],
   "source": [
    "path = r'/Users/xuqinzheng/PycharmProjects/pythonProject/PythonCode/MyPythonCodes/06.File Operation/Excel Operation'\n",
    "os.chdir(path) # change work diractory"
   ]
  },
  {
   "cell_type": "code",
   "execution_count": null,
   "id": "126876e7-a92c-4c37-ab6c-2af1e0ba98b6",
   "metadata": {
    "execution": {
     "iopub.execute_input": "2024-11-07T16:51:18.078055Z",
     "iopub.status.busy": "2024-11-07T16:51:18.077368Z",
     "iopub.status.idle": "2024-11-07T16:51:18.138562Z",
     "shell.execute_reply": "2024-11-07T16:51:18.137894Z",
     "shell.execute_reply.started": "2024-11-07T16:51:18.077985Z"
    },
    "scrolled": true
   },
   "outputs": [],
   "source": [
    "# 返回一个 workbook 数据类型的值\n",
    "workbook = openpyxl.load_workbook('Agenda.xlsx')\t\n",
    "# 打印 Excel 表中的所有表\n",
    "print(workbook.sheetnames) # ['Week 1', 'Week 2']"
   ]
  },
  {
   "cell_type": "markdown",
   "id": "f45d5250-df8c-4e84-9103-6a2ede602e25",
   "metadata": {
    "execution": {
     "iopub.execute_input": "2024-11-07T16:53:24.768396Z",
     "iopub.status.busy": "2024-11-07T16:53:24.767933Z",
     "iopub.status.idle": "2024-11-07T16:53:24.774569Z",
     "shell.execute_reply": "2024-11-07T16:53:24.773426Z",
     "shell.execute_reply.started": "2024-11-07T16:53:24.768342Z"
    }
   },
   "source": [
    "## 1.2、通过Sheet名获取表格"
   ]
  },
  {
   "cell_type": "code",
   "execution_count": 15,
   "id": "39b8094d-fbd5-4a80-87dd-a3916ee74478",
   "metadata": {
    "execution": {
     "iopub.execute_input": "2024-11-07T16:54:36.136780Z",
     "iopub.status.busy": "2024-11-07T16:54:36.136245Z",
     "iopub.status.idle": "2024-11-07T16:54:36.141799Z",
     "shell.execute_reply": "2024-11-07T16:54:36.140855Z",
     "shell.execute_reply.started": "2024-11-07T16:54:36.136748Z"
    },
    "scrolled": true
   },
   "outputs": [
    {
     "name": "stdout",
     "output_type": "stream",
     "text": [
      "<Worksheet \"Week 1\">\n"
     ]
    }
   ],
   "source": [
    "# 获取指定sheet表\n",
    "sheet1 = workbook['Week 1']  \n",
    "print(sheet1) # <Worksheet \"Week 1\">"
   ]
  },
  {
   "cell_type": "markdown",
   "id": "9d1f39b9-8766-45c4-b9ad-2eaf7584d094",
   "metadata": {},
   "source": [
    "## 1.4、获取表格尺寸"
   ]
  },
  {
   "cell_type": "markdown",
   "id": "850a1180-d1ce-403d-94a0-edc8bfe10429",
   "metadata": {},
   "source": [
    "## 1.3、获取活动表"
   ]
  },
  {
   "cell_type": "code",
   "execution_count": 16,
   "id": "9952f8f1-9cdd-4d43-8748-f5e567246683",
   "metadata": {
    "execution": {
     "iopub.execute_input": "2024-11-07T16:57:31.689049Z",
     "iopub.status.busy": "2024-11-07T16:57:31.688614Z",
     "iopub.status.idle": "2024-11-07T16:57:31.693650Z",
     "shell.execute_reply": "2024-11-07T16:57:31.692859Z",
     "shell.execute_reply.started": "2024-11-07T16:57:31.689018Z"
    }
   },
   "outputs": [
    {
     "name": "stdout",
     "output_type": "stream",
     "text": [
      "<Worksheet \"Week 1\">\n"
     ]
    }
   ],
   "source": [
    "sheet = workbook.active\n",
    "print(sheet)"
   ]
  },
  {
   "cell_type": "code",
   "execution_count": 17,
   "id": "9e54865a-6fb0-4daf-b784-f6dec728d815",
   "metadata": {
    "execution": {
     "iopub.execute_input": "2024-11-07T16:58:14.156345Z",
     "iopub.status.busy": "2024-11-07T16:58:14.155779Z",
     "iopub.status.idle": "2024-11-07T16:58:14.162194Z",
     "shell.execute_reply": "2024-11-07T16:58:14.161477Z",
     "shell.execute_reply.started": "2024-11-07T16:58:14.156312Z"
    },
    "scrolled": true
   },
   "outputs": [
    {
     "name": "stdout",
     "output_type": "stream",
     "text": [
      "A1:I21\n"
     ]
    }
   ],
   "source": [
    "print(sheet1.dimensions)"
   ]
  },
  {
   "cell_type": "markdown",
   "id": "c4028b48-6cc4-4547-afd7-f0a404a04af6",
   "metadata": {},
   "source": [
    "## 1.5、获取单元格中的数据"
   ]
  },
  {
   "cell_type": "code",
   "execution_count": 18,
   "id": "952a268b-a8fa-4a53-9d39-f367e3b21548",
   "metadata": {
    "execution": {
     "iopub.execute_input": "2024-11-07T16:59:36.847739Z",
     "iopub.status.busy": "2024-11-07T16:59:36.847255Z",
     "iopub.status.idle": "2024-11-07T16:59:36.853329Z",
     "shell.execute_reply": "2024-11-07T16:59:36.852415Z",
     "shell.execute_reply.started": "2024-11-07T16:59:36.847690Z"
    }
   },
   "outputs": [
    {
     "name": "stdout",
     "output_type": "stream",
     "text": [
      "1st Week Digital Industrial Radiology 2023, Aerospace, Bejing\n",
      "Coffe break\n",
      "None\n",
      "Sunday\n"
     ]
    }
   ],
   "source": [
    "# 1、指定Excel单元格坐标的位置\n",
    "cell1 = sheet['A1']         # 获取A1单元格的数据\n",
    "cell2 = sheet['B7']         # 获取B7单元格的数据\n",
    "print(cell1.value)\n",
    "print(cell2.value)\n",
    "\n",
    "# 2、指定Excel单元格行列的方式\n",
    "cell3 = sheet.cell(row=1,column=3)\n",
    "cell4 = sheet.cell(row=3,column=2)\n",
    "print(cell3.value)\n",
    "print(cell4.value)"
   ]
  },
  {
   "cell_type": "markdown",
   "id": "6881256e-ddeb-496f-80e7-20000c6cd572",
   "metadata": {},
   "source": [
    "## 1.6、获取单元格的行、列、坐标"
   ]
  },
  {
   "cell_type": "code",
   "execution_count": 45,
   "id": "a20b8e72-d936-4553-a64d-2aa861cfc617",
   "metadata": {
    "execution": {
     "iopub.execute_input": "2023-10-12T14:10:24.711786Z",
     "iopub.status.busy": "2023-10-12T14:10:24.711224Z",
     "iopub.status.idle": "2023-10-12T14:10:24.717915Z",
     "shell.execute_reply": "2023-10-12T14:10:24.716515Z",
     "shell.execute_reply.started": "2023-10-12T14:10:24.711786Z"
    }
   },
   "outputs": [
    {
     "name": "stdout",
     "output_type": "stream",
     "text": [
      "Sunday 3 2 B3\n"
     ]
    }
   ],
   "source": [
    "cell = sheet1.cell(row=3, column=2)  # 获取第3行第4的数据\n",
    "\n",
    "print(cell.value, cell.row, cell.column, cell.coordinate)"
   ]
  },
  {
   "cell_type": "markdown",
   "id": "fe08e6ce-80b2-4437-b0db-0e073a7959db",
   "metadata": {
    "jp-MarkdownHeadingCollapsed": true
   },
   "source": [
    "## 获取指定区间的"
   ]
  },
  {
   "cell_type": "code",
   "execution_count": 51,
   "id": "074da807-f044-4792-a438-e2017ebd7feb",
   "metadata": {
    "execution": {
     "iopub.execute_input": "2023-10-12T14:13:37.100059Z",
     "iopub.status.busy": "2023-10-12T14:13:37.100059Z",
     "iopub.status.idle": "2023-10-12T14:13:37.105524Z",
     "shell.execute_reply": "2023-10-12T14:13:37.104506Z",
     "shell.execute_reply.started": "2023-10-12T14:13:37.100059Z"
    }
   },
   "outputs": [
    {
     "name": "stdout",
     "output_type": "stream",
     "text": [
      "1st Week Digital Industrial Radiology 2023, Aerospace, Bejing\n",
      "Time\n",
      "None\n",
      "08:00:00\n",
      "08:30:00\n"
     ]
    }
   ],
   "source": [
    "# 获取A1到A5的数据\n",
    "cell = sheet['A1:A5']\n",
    "# print(cell)\n",
    "for i in cell:\n",
    "    for j in i:\n",
    "        print(j.value)"
   ]
  },
  {
   "cell_type": "markdown",
   "id": "5f388195-166b-4511-bac4-dbfeb06e20d4",
   "metadata": {},
   "source": [
    "## 获取指定某行或某列的数据"
   ]
  },
  {
   "cell_type": "code",
   "execution_count": null,
   "id": "6127a2f7-8a62-420e-97c7-a1e4edd12ee6",
   "metadata": {
    "execution": {
     "iopub.execute_input": "2023-10-12T14:20:42.080623Z",
     "iopub.status.busy": "2023-10-12T14:20:42.079622Z",
     "iopub.status.idle": "2023-10-12T14:20:42.087304Z",
     "shell.execute_reply": "2023-10-12T14:20:42.086293Z",
     "shell.execute_reply.started": "2023-10-12T14:20:42.080623Z"
    }
   },
   "outputs": [],
   "source": [
    "# 获取单列的数据\n",
    "cell = sheet['2']  # 获取第2行的数据\n",
    "# print(cell, type(cell))\n",
    "for i in cell:\n",
    "    print(i.value)"
   ]
  },
  {
   "cell_type": "code",
   "execution_count": 63,
   "id": "9b58dc89-f3e8-4fd6-ba4b-f0029d1b3a79",
   "metadata": {
    "collapsed": true,
    "execution": {
     "iopub.execute_input": "2023-10-12T14:22:26.379574Z",
     "iopub.status.busy": "2023-10-12T14:22:26.378573Z",
     "iopub.status.idle": "2023-10-12T14:22:26.385892Z",
     "shell.execute_reply": "2023-10-12T14:22:26.384834Z",
     "shell.execute_reply.started": "2023-10-12T14:22:26.379574Z"
    },
    "jupyter": {
     "outputs_hidden": true
    }
   },
   "outputs": [
    {
     "name": "stdout",
     "output_type": "stream",
     "text": [
      "======================================================================\n",
      "1st Week Digital Industrial Radiology 2023, Aerospace, Bejing\n",
      "Time\n",
      "None\n",
      "08:00:00\n",
      "08:30:00\n",
      "09:00:00\n",
      "10:00:00\n",
      "10:30:00\n",
      "None\n",
      "12:00:00\n",
      "12:00:00\n",
      "14:00:00\n",
      "15:30:00\n",
      "16:00:00\n",
      "None\n",
      "17:00:00\n",
      "17:30:00\n",
      "18:30:00\n",
      "None\n",
      "None\n",
      "None\n",
      "======================================================================\n",
      "None\n",
      "8.10.\n",
      "Sunday\n",
      "Welcome, Registration\n",
      "Introduction to DIR\n",
      " L01: Basics of X-Ray Technology\n",
      "Coffe break\n",
      "L02: Contrast, relative contrast, specific contrast, Noise, Scatter and Imaging Requirements\n",
      "None\n",
      "Lunch break\n",
      "Lunch Break\n",
      " L05: Digital Image Processing   \n",
      "Coffee break\n",
      "L08, L09: Image Processing Systems, Design and Image Acquisition and Pre-Processing \n",
      "None\n",
      "Coffee break\n",
      "Ex1: Training (Practical) – Set up of PCs  for image processing (Monitor check, viewing of digital radiographs using ISee, LUT, brightness, contrast) \n",
      "End\n",
      "None\n",
      "None\n",
      "None\n"
     ]
    }
   ],
   "source": [
    "# 获取两列或者多列的数据\n",
    "cell = sheet['A:B']  # 获取AB列的数据\n",
    "for i in cell:\n",
    "    print(\"=\"*70)\n",
    "    for j in i:\n",
    "        print(j.value)"
   ]
  },
  {
   "cell_type": "markdown",
   "id": "5580520a-3f6a-4575-a1e9-a419e9824e90",
   "metadata": {
    "jp-MarkdownHeadingCollapsed": true
   },
   "source": [
    "# 2、新建Excel表"
   ]
  },
  {
   "cell_type": "code",
   "execution_count": 70,
   "id": "c35d71da-3113-4265-8f58-ec5d536f29cc",
   "metadata": {
    "execution": {
     "iopub.execute_input": "2023-10-12T14:35:09.330670Z",
     "iopub.status.busy": "2023-10-12T14:35:09.330670Z",
     "iopub.status.idle": "2023-10-12T14:35:09.346508Z",
     "shell.execute_reply": "2023-10-12T14:35:09.345494Z",
     "shell.execute_reply.started": "2023-10-12T14:35:09.330670Z"
    }
   },
   "outputs": [
    {
     "name": "stdout",
     "output_type": "stream",
     "text": [
      "A1:A1\n"
     ]
    }
   ],
   "source": [
    "# 返回一个workbook数据类型的值\n",
    "workbook = openpyxl.Workbook() \n",
    "sheet = workbook.active\n",
    "sheet.title = '1号sheet'\n",
    "workbook.save('1.xlsx')\n",
    "# 默认创建出来的是只有一行一列的Excel\n",
    "print(sheet.dimensions)"
   ]
  },
  {
   "cell_type": "markdown",
   "id": "592b9a98-d96c-4113-a67e-f3ce6fc92d12",
   "metadata": {
    "jp-MarkdownHeadingCollapsed": true
   },
   "source": [
    "## 修改单元格、Excel另存为"
   ]
  },
  {
   "cell_type": "code",
   "execution_count": 81,
   "id": "f997bf76-0cd3-441c-9ee1-affba78f3b94",
   "metadata": {
    "execution": {
     "iopub.execute_input": "2023-10-12T14:43:25.354611Z",
     "iopub.status.busy": "2023-10-12T14:43:25.354611Z",
     "iopub.status.idle": "2023-10-12T14:43:25.384714Z",
     "shell.execute_reply": "2023-10-12T14:43:25.383694Z",
     "shell.execute_reply.started": "2023-10-12T14:43:25.354611Z"
    }
   },
   "outputs": [],
   "source": [
    "sheet['A1'] = 'name'\n",
    "# 注意，下面方法并不是在原Excel上修改文件，而是修改数据存到新的文件中，取决于 save 函数中写的文件名是什么\n",
    "workbook.save('test.xlsx')"
   ]
  },
  {
   "cell_type": "markdown",
   "id": "6414fb25-be3a-4f7f-8ed8-0a057d79e557",
   "metadata": {},
   "source": [
    "## 添加有效数据"
   ]
  },
  {
   "cell_type": "code",
   "execution_count": 84,
   "id": "86fd5a83-d763-4016-851e-a4cc46781755",
   "metadata": {
    "execution": {
     "iopub.execute_input": "2023-10-12T14:44:53.577300Z",
     "iopub.status.busy": "2023-10-12T14:44:53.577300Z",
     "iopub.status.idle": "2023-10-12T14:44:53.622941Z",
     "shell.execute_reply": "2023-10-12T14:44:53.621931Z",
     "shell.execute_reply.started": "2023-10-12T14:44:53.577300Z"
    }
   },
   "outputs": [
    {
     "name": "stdout",
     "output_type": "stream",
     "text": [
      "当前活动表是：<Worksheet \"1号sheet\">\n"
     ]
    }
   ],
   "source": [
    "# 一定要重新赋值，不然会把自己添加的数据删除\n",
    "workbook = openpyxl.load_workbook('test.xlsx')  # 返回一个workbook数据类型的值\n",
    "sheet = workbook.active  # 获取活动表\n",
    "print('当前活动表是：' + str(sheet))\n",
    "\n",
    "data = [\n",
    "    ['苏子','age'],\n",
    "    ['巴特',24],\n",
    "    ['塔奇克马',2]\n",
    "]\n",
    "\n",
    "for row in data:\n",
    "    sheet.append(row)   # 使用append插入数据\n",
    "workbook.save('test.xlsx')"
   ]
  },
  {
   "cell_type": "markdown",
   "id": "3a25de75-d0dd-4ab6-946c-2258c40746b4",
   "metadata": {},
   "source": [
    "## 空行空列"
   ]
  },
  {
   "cell_type": "code",
   "execution_count": 85,
   "id": "7005ebde-1348-4360-a651-7ea2ffe93baf",
   "metadata": {
    "execution": {
     "iopub.execute_input": "2023-10-12T14:46:51.554864Z",
     "iopub.status.busy": "2023-10-12T14:46:51.553863Z",
     "iopub.status.idle": "2023-10-12T14:46:51.661242Z",
     "shell.execute_reply": "2023-10-12T14:46:51.660620Z",
     "shell.execute_reply.started": "2023-10-12T14:46:51.554864Z"
    }
   },
   "outputs": [
    {
     "name": "stdout",
     "output_type": "stream",
     "text": [
      "当前活动表是：<Worksheet \"1号sheet\">\n"
     ]
    }
   ],
   "source": [
    "workbook = openpyxl.load_workbook('test.xlsx')  # 返回一个workbook数据类型的值\n",
    "sheet = workbook.active  # 获取活动表\n",
    "print('当前活动表是：' + str(sheet))\n",
    "\n",
    "sheet.insert_rows(idx=3, amount=2)\n",
    "sheet.insert_cols(idx=2, amount=1)\n",
    "workbook.save('test.xlsx')"
   ]
  },
  {
   "cell_type": "markdown",
   "id": "bf31b4c4-c742-40eb-bc93-b5548628163c",
   "metadata": {},
   "source": [
    "## 删除行、列"
   ]
  },
  {
   "cell_type": "code",
   "execution_count": null,
   "id": "f8238f89-f64c-4d5b-b96a-4802b64855a7",
   "metadata": {},
   "outputs": [],
   "source": [
    "workbook = openpyxl.load_workbook('test.xlsx')  # 返回一个workbook数据类型的值\n",
    "sheet = workbook.active  # 获取活动表\n",
    "print('当前活动表是：' + str(sheet))\n",
    "\n",
    "sheet.delete_rows(idx=10)           # 删除第10行\n",
    "sheet.delete_cols(idx=1, amount=2)  # 删除第1列，及往右共2列\n",
    "workbook.save('test.xlsx')"
   ]
  },
  {
   "cell_type": "markdown",
   "id": "4b84a462-6d0d-406e-b49a-c4d656c4a2bb",
   "metadata": {},
   "source": [
    "# 3、样式修改"
   ]
  },
  {
   "cell_type": "markdown",
   "id": "ca28f8cb-39df-42ea-8e8a-a28dac4efafc",
   "metadata": {},
   "source": [
    "## 字体样式"
   ]
  },
  {
   "cell_type": "code",
   "execution_count": 64,
   "id": "64cd53fc-ef02-48e3-a546-80f56f101145",
   "metadata": {
    "execution": {
     "iopub.execute_input": "2023-10-13T01:43:58.761495Z",
     "iopub.status.busy": "2023-10-13T01:43:58.760493Z",
     "iopub.status.idle": "2023-10-13T01:44:01.634373Z",
     "shell.execute_reply": "2023-10-13T01:44:01.633359Z",
     "shell.execute_reply.started": "2023-10-13T01:43:58.761495Z"
    }
   },
   "outputs": [],
   "source": [
    "workbook = openpyxl.load_workbook('LUTTest.xlsx')  # 返回一个workbook数据类型的值\n",
    "sheet = workbook.active  # 获取活动表\n",
    "# print('当前活动表是：'+str(sheet))"
   ]
  },
  {
   "cell_type": "code",
   "execution_count": null,
   "id": "7b2e6c67-997b-4c2b-9186-196ecf8b80e2",
   "metadata": {
    "execution": {
     "iopub.execute_input": "2023-10-13T01:28:02.113482Z",
     "iopub.status.busy": "2023-10-13T01:28:02.112484Z",
     "iopub.status.idle": "2023-10-13T01:28:08.283666Z",
     "shell.execute_reply": "2023-10-13T01:28:08.282643Z",
     "shell.execute_reply.started": "2023-10-13T01:28:02.113482Z"
    }
   },
   "outputs": [],
   "source": [
    "# 查看字体样式\n",
    "cell = sheet['A1']\n",
    "font = cell.font\n",
    "# print('当前单元格的字体样式是')\n",
    "# print(font.name, font.size, font.bold, font.italic, font.color)"
   ]
  },
  {
   "cell_type": "code",
   "execution_count": null,
   "id": "cc94428c-fa71-49b9-9750-3520888b3880",
   "metadata": {
    "execution": {
     "iopub.execute_input": "2023-10-13T01:28:02.113482Z",
     "iopub.status.busy": "2023-10-13T01:28:02.112484Z",
     "iopub.status.idle": "2023-10-13T01:28:08.283666Z",
     "shell.execute_reply": "2023-10-13T01:28:08.282643Z",
     "shell.execute_reply.started": "2023-10-13T01:28:02.113482Z"
    }
   },
   "outputs": [],
   "source": [
    "# 修改单个单元格的字体样式\n",
    "cell = sheet['A1']\n",
    "cell.font = openpyxl.styles.Font(name=\"微软雅黑\", size=20, bold=True, italic=True, color=\"FF0000\")\n",
    "workbook.save('LUTTest.xlsx')"
   ]
  },
  {
   "cell_type": "code",
   "execution_count": 62,
   "id": "5a9e8e3e-11a5-484b-a5fc-8206ccecb937",
   "metadata": {
    "execution": {
     "iopub.execute_input": "2023-10-13T01:35:23.080033Z",
     "iopub.status.busy": "2023-10-13T01:35:23.079052Z",
     "iopub.status.idle": "2023-10-13T01:35:30.859126Z",
     "shell.execute_reply": "2023-10-13T01:35:30.858110Z",
     "shell.execute_reply.started": "2023-10-13T01:35:23.080033Z"
    }
   },
   "outputs": [],
   "source": [
    "# 批量修改单元格的字体样式\n",
    "cell = sheet['A']\n",
    "for i in cell:\n",
    "    i.font = openpyxl.styles.Font(name=\"微软雅黑\", size=20, bold=True, italic=True, color=\"FF0000\")\n",
    "workbook.save('LUTTest.xlsx')"
   ]
  },
  {
   "cell_type": "markdown",
   "id": "eee3f316-60db-4bf6-abc9-5d7920dc2b25",
   "metadata": {},
   "source": [
    "## 设置对齐格式"
   ]
  },
  {
   "cell_type": "code",
   "execution_count": 63,
   "id": "6566c8d5-6753-4a4d-849c-72bd3c41fd78",
   "metadata": {
    "execution": {
     "iopub.execute_input": "2023-10-13T01:41:14.362300Z",
     "iopub.status.busy": "2023-10-13T01:41:14.361302Z",
     "iopub.status.idle": "2023-10-13T01:41:17.937880Z",
     "shell.execute_reply": "2023-10-13T01:41:17.936862Z",
     "shell.execute_reply.started": "2023-10-13T01:41:14.362300Z"
    }
   },
   "outputs": [],
   "source": [
    "# Alignment(horizontal=水平对齐模式,vertical=垂直对齐模式,text_rotation=旋转角度,wrap_text=是否自动换行)\n",
    "# 水平对齐：‘distributed’，‘justify’，‘center’，‘left’， ‘centerContinuous’，'right，‘general’\n",
    "# 垂直对齐：‘bottom’，‘distributed’，‘justify’，‘center’，‘top’\n",
    "cell = sheet['A1']\n",
    "alignment = openpyxl.styles.Alignment(horizontal=\"center\", vertical=\"center\", text_rotation=0, wrap_text=True)\n",
    "cell.alignment = alignment\n",
    "\n",
    "workbook.save('LUTTest.xlsx')"
   ]
  },
  {
   "cell_type": "code",
   "execution_count": 71,
   "id": "52c9f348-1c63-49d2-ac7c-861b3b599df2",
   "metadata": {
    "execution": {
     "iopub.execute_input": "2023-10-13T01:48:01.987827Z",
     "iopub.status.busy": "2023-10-13T01:48:01.986829Z",
     "iopub.status.idle": "2023-10-13T01:48:11.790087Z",
     "shell.execute_reply": "2023-10-13T01:48:11.789060Z",
     "shell.execute_reply.started": "2023-10-13T01:48:01.987827Z"
    }
   },
   "outputs": [],
   "source": [
    "# 全部单元格修改居中\n",
    "for i in sheet:\n",
    "    for j in i:\n",
    "        j.alignment = openpyxl.styles.Alignment(horizontal=\"center\", vertical=\"center\", text_rotation=0, wrap_text=True)\n",
    "workbook.save('LUTTest.xlsx')"
   ]
  },
  {
   "cell_type": "markdown",
   "id": "c53196ac-75b5-4ac2-a9d7-39e1a7903621",
   "metadata": {},
   "source": [
    "# 4、利用xlwt库读写Excel"
   ]
  },
  {
   "cell_type": "code",
   "execution_count": 11,
   "id": "e913f7c4-faa3-4a28-bd73-b74c1a3857e3",
   "metadata": {
    "execution": {
     "iopub.execute_input": "2023-10-12T16:35:49.570680Z",
     "iopub.status.busy": "2023-10-12T16:35:49.569680Z",
     "iopub.status.idle": "2023-10-12T16:35:49.653171Z",
     "shell.execute_reply": "2023-10-12T16:35:49.652201Z",
     "shell.execute_reply.started": "2023-10-12T16:35:49.570680Z"
    }
   },
   "outputs": [],
   "source": [
    "# 这一步相当于创建了一个新的\"工作簿\"；\n",
    "# \"demo.xlsx\"文件不存在，表示新建\"工作簿\"；\n",
    "# \"demo.xlsx\"文件存在，表示新建\"工作簿\"覆盖原有的\"工作簿\"；\n",
    "workbook = xlsxwriter.Workbook(\"LUTTest.xlsx\")\n",
    "\n",
    "# close是将\"工作簿\"保存关闭，这一步必须有，否则创建的文件无法显示出来。\n",
    "workbook.close()"
   ]
  },
  {
   "cell_type": "code",
   "execution_count": 51,
   "id": "58067c46-f25b-451f-927b-f9c647be24f3",
   "metadata": {
    "execution": {
     "iopub.execute_input": "2023-10-12T17:07:30.995416Z",
     "iopub.status.busy": "2023-10-12T17:07:30.994422Z",
     "iopub.status.idle": "2023-10-12T17:07:33.264169Z",
     "shell.execute_reply": "2023-10-12T17:07:33.263165Z",
     "shell.execute_reply.started": "2023-10-12T17:07:30.995416Z"
    }
   },
   "outputs": [],
   "source": [
    "# 创建一个名为“LUTTest”的Excel\n",
    "workbook = xlsxwriter.Workbook(\"LUTTest.xlsx\")\n",
    "# 创建一个名为“Logrithum”的sheet表\n",
    "worksheet = workbook.add_worksheet(\"Logrithum\")\n",
    "headings = ['input', 'output']\n",
    "worksheet.write_row('A1', headings)\n",
    "input = np.arange(1, 65535)\n",
    "output = np.log10(input)\n",
    "for i in input:\n",
    "    worksheet.write(i, 0, input[i - 1])\n",
    "    worksheet.write(i, 1, output[i - 1])\n",
    "workbook.close()"
   ]
  },
  {
   "cell_type": "code",
   "execution_count": 49,
   "id": "343181e7-bd7d-4f30-892c-66ef6f6a025f",
   "metadata": {
    "execution": {
     "iopub.execute_input": "2023-10-12T17:04:33.499219Z",
     "iopub.status.busy": "2023-10-12T17:04:33.499219Z",
     "iopub.status.idle": "2023-10-12T17:04:33.508500Z",
     "shell.execute_reply": "2023-10-12T17:04:33.507484Z",
     "shell.execute_reply.started": "2023-10-12T17:04:33.499219Z"
    }
   },
   "outputs": [
    {
     "data": {
      "text/plain": [
       "array([    1,     2,     3, ..., 65532, 65533, 65534])"
      ]
     },
     "execution_count": 49,
     "metadata": {},
     "output_type": "execute_result"
    }
   ],
   "source": [
    "input"
   ]
  },
  {
   "cell_type": "markdown",
   "id": "7045de00-aaea-4cf0-a75b-c6fd514607b9",
   "metadata": {},
   "source": [
    "# test Code"
   ]
  },
  {
   "cell_type": "code",
   "execution_count": 19,
   "id": "50e2ff4b-69d1-4618-a0ee-ae6507a0c05d",
   "metadata": {
    "execution": {
     "iopub.execute_input": "2024-11-07T17:07:38.604407Z",
     "iopub.status.busy": "2024-11-07T17:07:38.603707Z",
     "iopub.status.idle": "2024-11-07T17:07:39.436010Z",
     "shell.execute_reply": "2024-11-07T17:07:39.435670Z",
     "shell.execute_reply.started": "2024-11-07T17:07:38.604373Z"
    }
   },
   "outputs": [],
   "source": [
    "# 创建一个名为“LUTTest”的Excel\n",
    "workbook = xlsxwriter.Workbook(\"test1.xlsx\")\n",
    "# 创建一个名为“Logrithum”的sheet表\n",
    "worksheet = workbook.add_worksheet(\"Logrithum\")\n",
    "headings = ['input', 'output']\n",
    "worksheet.write_row('A1', headings)\n",
    "input = np.arange(1, 65535)\n",
    "output = np.log10(input)\n",
    "for i in input:\n",
    "    worksheet.write(i, 0, input[i - 1])\n",
    "    worksheet.write(i, 1, output[i - 1])\n",
    "workbook.close()"
   ]
  }
 ],
 "metadata": {
  "kernelspec": {
   "display_name": "Python 3 (ipykernel)",
   "language": "python",
   "name": "python3"
  },
  "language_info": {
   "codemirror_mode": {
    "name": "ipython",
    "version": 3
   },
   "file_extension": ".py",
   "mimetype": "text/x-python",
   "name": "python",
   "nbconvert_exporter": "python",
   "pygments_lexer": "ipython3",
   "version": "3.9.6"
  }
 },
 "nbformat": 4,
 "nbformat_minor": 5
}
