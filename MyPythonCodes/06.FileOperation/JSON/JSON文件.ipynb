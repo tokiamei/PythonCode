{
 "cells": [
  {
   "cell_type": "code",
   "execution_count": null,
   "metadata": {},
   "outputs": [],
   "source": [
    "# json.dumps()\n",
    "import json\n",
    "x = [1, 'simple', 'list']\n",
    "x0 = json.dumps(x)\n",
    "x0, type(x0)\n"
   ]
  },
  {
   "cell_type": "code",
   "execution_count": null,
   "metadata": {},
   "outputs": [],
   "source": [
    "# json.dump() 待考虑~~~"
   ]
  },
  {
   "cell_type": "code",
   "execution_count": 12,
   "metadata": {},
   "outputs": [
    {
     "name": "stdout",
     "output_type": "stream",
     "text": [
      "'[1, \"simple\", \"list\"]'\n"
     ]
    }
   ],
   "source": [
    "# json.loads() 解码\n",
    "with open('../../files/a.txt', 'r+', encoding=\"utf-8\") as f:\n",
    "  # json.load(f)\n",
    "  print(f.read())\n"
   ]
  },
  {
   "cell_type": "code",
   "execution_count": 15,
   "metadata": {},
   "outputs": [
    {
     "data": {
      "text/plain": [
       "[{'a': 1, 'b': 2, 'c': 3, 'd': 4, 'e': 5}]"
      ]
     },
     "execution_count": 15,
     "metadata": {},
     "output_type": "execute_result"
    }
   ],
   "source": [
    "data = [ { 'a' : 1, 'b' : 2, 'c' : 3, 'd' : 4, 'e' : 5 } ]\n",
    "data2 = json.dumps(data)\n",
    "data2\n",
    "d = json.loads(data2)\n",
    "d"
   ]
  }
 ],
 "metadata": {
  "kernelspec": {
   "display_name": "Python 3 (ipykernel)",
   "language": "python",
   "name": "python3"
  },
  "language_info": {
   "codemirror_mode": {
    "name": "ipython",
    "version": 3
   },
   "file_extension": ".py",
   "mimetype": "text/x-python",
   "name": "python",
   "nbconvert_exporter": "python",
   "pygments_lexer": "ipython3",
   "version": "3.9.6"
  },
  "vscode": {
   "interpreter": {
    "hash": "96b71d9b0255b05b2be31cfcb5ea5500d86eab633fcfd6b803722470524a431e"
   }
  }
 },
 "nbformat": 4,
 "nbformat_minor": 4
}
