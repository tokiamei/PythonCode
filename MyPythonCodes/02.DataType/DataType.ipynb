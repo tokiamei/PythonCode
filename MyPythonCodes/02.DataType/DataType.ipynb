{
 "cells": [
  {
   "cell_type": "code",
   "execution_count": 2,
   "metadata": {
    "execution": {
     "iopub.execute_input": "2024-11-15T15:06:23.482455Z",
     "iopub.status.busy": "2024-11-15T15:06:23.482053Z",
     "iopub.status.idle": "2024-11-15T15:06:23.555722Z",
     "shell.execute_reply": "2024-11-15T15:06:23.555416Z",
     "shell.execute_reply.started": "2024-11-15T15:06:23.482417Z"
    }
   },
   "outputs": [],
   "source": [
    "import random\n",
    "import sys\n",
    "import numpy as np"
   ]
  },
  {
   "cell_type": "markdown",
   "metadata": {
    "tags": []
   },
   "source": [
    "# 一、字符串\n",
    "\n",
    "1. 字符串也是一种可迭代序列\n",
    "2. 字符串与数值类型「int」「float」的区别\n",
    "    - 数值类型是标量类型，没有可以访问的地址；\n",
    "    - 字符串是一种结构化的、非标量类型「字符串有可以访问的地址结构」；"
   ]
  },
  {
   "cell_type": "markdown",
   "metadata": {
    "tags": []
   },
   "source": [
    "## 1、`is` 方法判断两个变量是否相同"
   ]
  },
  {
   "cell_type": "markdown",
   "metadata": {
    "execution": {
     "iopub.execute_input": "2022-09-08T19:20:14.206190Z",
     "iopub.status.busy": "2022-09-08T19:20:14.205912Z",
     "iopub.status.idle": "2022-09-08T19:20:14.211991Z",
     "shell.execute_reply": "2022-09-08T19:20:14.210745Z",
     "shell.execute_reply.started": "2022-09-08T19:20:14.206149Z"
    },
    "tags": []
   },
   "source": [
    "### 1.1、判断两个相同的字符串"
   ]
  },
  {
   "cell_type": "code",
   "execution_count": 2,
   "metadata": {
    "execution": {
     "iopub.execute_input": "2024-11-07T16:31:47.197311Z",
     "iopub.status.busy": "2024-11-07T16:31:47.196874Z",
     "iopub.status.idle": "2024-11-07T16:31:47.204701Z",
     "shell.execute_reply": "2024-11-07T16:31:47.203606Z",
     "shell.execute_reply.started": "2024-11-07T16:31:47.197281Z"
    },
    "tags": []
   },
   "outputs": [
    {
     "name": "stdout",
     "output_type": "stream",
     "text": [
      "True\n"
     ]
    }
   ],
   "source": [
    "a = 'abc'\n",
    "b = 'abc'\n",
    "print(a is b) # True"
   ]
  },
  {
   "cell_type": "markdown",
   "metadata": {
    "execution": {
     "iopub.execute_input": "2022-09-08T19:21:18.878857Z",
     "iopub.status.busy": "2022-09-08T19:21:18.878588Z",
     "iopub.status.idle": "2022-09-08T19:21:18.882993Z",
     "shell.execute_reply": "2022-09-08T19:21:18.881812Z",
     "shell.execute_reply.started": "2022-09-08T19:21:18.878820Z"
    },
    "tags": []
   },
   "source": [
    "### 1.2、数组引用赋值"
   ]
  },
  {
   "cell_type": "code",
   "execution_count": 89,
   "metadata": {
    "execution": {
     "iopub.execute_input": "2024-11-16T01:39:21.818739Z",
     "iopub.status.busy": "2024-11-16T01:39:21.818031Z",
     "iopub.status.idle": "2024-11-16T01:39:21.824577Z",
     "shell.execute_reply": "2024-11-16T01:39:21.823608Z",
     "shell.execute_reply.started": "2024-11-16T01:39:21.818703Z"
    },
    "tags": []
   },
   "outputs": [
    {
     "name": "stdout",
     "output_type": "stream",
     "text": [
      "True\n",
      "['a', 2] ['a', 2] True\n"
     ]
    }
   ],
   "source": [
    "arr = [1, 2]\n",
    "arr02 = arr\n",
    "print(arr is arr02)\n",
    "# 修改arr2的值同时也会将arr的值修改\n",
    "arr02[0] = \"a\"\n",
    "print(arr, arr02, arr is arr02)"
   ]
  },
  {
   "cell_type": "markdown",
   "metadata": {
    "execution": {
     "iopub.execute_input": "2022-09-08T19:22:15.754956Z",
     "iopub.status.busy": "2022-09-08T19:22:15.754547Z",
     "iopub.status.idle": "2022-09-08T19:22:15.759837Z",
     "shell.execute_reply": "2022-09-08T19:22:15.758621Z",
     "shell.execute_reply.started": "2022-09-08T19:22:15.754892Z"
    },
    "tags": []
   },
   "source": [
    "### 1.3、内容相同但是引用不同的两个数组\n",
    "\n",
    "两个数组并非共用一块地址"
   ]
  },
  {
   "cell_type": "code",
   "execution_count": 91,
   "metadata": {
    "execution": {
     "iopub.execute_input": "2024-11-16T01:40:08.476829Z",
     "iopub.status.busy": "2024-11-16T01:40:08.476068Z",
     "iopub.status.idle": "2024-11-16T01:40:08.482853Z",
     "shell.execute_reply": "2024-11-16T01:40:08.481692Z",
     "shell.execute_reply.started": "2024-11-16T01:40:08.476791Z"
    },
    "tags": []
   },
   "outputs": [
    {
     "name": "stdout",
     "output_type": "stream",
     "text": [
      "False\n",
      "[1, 2, 3]\n"
     ]
    }
   ],
   "source": [
    "a = [1, 2, 3]\n",
    "b = [1, 2, 3]\n",
    "print(a is b)\n",
    "\n",
    "# 修改b的元素不会影响a\n",
    "b[2] = 'sss'\n",
    "print(a)"
   ]
  },
  {
   "cell_type": "markdown",
   "metadata": {
    "tags": []
   },
   "source": [
    "## 2、转义字符 \\\\ 的用法"
   ]
  },
  {
   "cell_type": "code",
   "execution_count": 92,
   "metadata": {
    "execution": {
     "iopub.execute_input": "2024-11-16T01:40:22.813432Z",
     "iopub.status.busy": "2024-11-16T01:40:22.812729Z",
     "iopub.status.idle": "2024-11-16T01:40:22.819641Z",
     "shell.execute_reply": "2024-11-16T01:40:22.818811Z",
     "shell.execute_reply.started": "2024-11-16T01:40:22.813390Z"
    },
    "tags": []
   },
   "outputs": [
    {
     "name": "stdout",
     "output_type": "stream",
     "text": [
      "'hello, world!' \n",
      "\\hello, world!\\\n"
     ]
    }
   ],
   "source": [
    "s1 = '\\'hello, world!\\''\n",
    "s2 = '\\n\\\\hello, world!\\\\\\n'\n",
    "print(s1, s2, end='')"
   ]
  },
  {
   "cell_type": "code",
   "execution_count": null,
   "metadata": {
    "tags": []
   },
   "outputs": [],
   "source": [
    "s1 = r'\\'hello, world!\\''\n",
    "s2 = r'\\n\\\\hello, world!\\\\\\n'\n",
    "print(s1, s2, end='')"
   ]
  },
  {
   "cell_type": "markdown",
   "metadata": {
    "tags": []
   },
   "source": [
    "## 3、格式化字符串"
   ]
  },
  {
   "cell_type": "code",
   "execution_count": 93,
   "metadata": {
    "execution": {
     "iopub.execute_input": "2024-11-16T01:41:05.601606Z",
     "iopub.status.busy": "2024-11-16T01:41:05.600847Z",
     "iopub.status.idle": "2024-11-16T01:41:05.607024Z",
     "shell.execute_reply": "2024-11-16T01:41:05.606321Z",
     "shell.execute_reply.started": "2024-11-16T01:41:05.601539Z"
    },
    "tags": []
   },
   "outputs": [
    {
     "name": "stdout",
     "output_type": "stream",
     "text": [
      "5 * 10 = 50\n"
     ]
    }
   ],
   "source": [
    "a, b = 5, 10\n",
    "print('{0} * {1} = {2}'.format(a, b, a * b))"
   ]
  },
  {
   "cell_type": "markdown",
   "metadata": {},
   "source": [
    "## 4、字符串的运算"
   ]
  },
  {
   "cell_type": "markdown",
   "metadata": {
    "execution": {
     "iopub.execute_input": "2022-09-08T19:23:25.037540Z",
     "iopub.status.busy": "2022-09-08T19:23:25.037255Z",
     "iopub.status.idle": "2022-09-08T19:23:25.042802Z",
     "shell.execute_reply": "2022-09-08T19:23:25.041584Z",
     "shell.execute_reply.started": "2022-09-08T19:23:25.037502Z"
    },
    "tags": []
   },
   "source": [
    "### 4.1、字符串与数字相乘"
   ]
  },
  {
   "cell_type": "code",
   "execution_count": null,
   "metadata": {
    "tags": []
   },
   "outputs": [],
   "source": [
    "str = 'abc'\n",
    "str * 3 # 'abcabcabc'"
   ]
  },
  {
   "cell_type": "markdown",
   "metadata": {
    "execution": {
     "iopub.execute_input": "2022-09-08T19:24:06.769638Z",
     "iopub.status.busy": "2022-09-08T19:24:06.769348Z",
     "iopub.status.idle": "2022-09-08T19:24:06.774801Z",
     "shell.execute_reply": "2022-09-08T19:24:06.773572Z",
     "shell.execute_reply.started": "2022-09-08T19:24:06.769593Z"
    },
    "tags": []
   },
   "source": [
    "### 4.2、字符串加减"
   ]
  },
  {
   "cell_type": "code",
   "execution_count": 94,
   "metadata": {
    "execution": {
     "iopub.execute_input": "2024-11-16T01:41:49.666195Z",
     "iopub.status.busy": "2024-11-16T01:41:49.665777Z",
     "iopub.status.idle": "2024-11-16T01:41:49.672546Z",
     "shell.execute_reply": "2024-11-16T01:41:49.671703Z",
     "shell.execute_reply.started": "2024-11-16T01:41:49.666162Z"
    },
    "tags": []
   },
   "outputs": [
    {
     "data": {
      "text/plain": [
       "'abccdeabccdeabccdeabccde'"
      ]
     },
     "execution_count": 94,
     "metadata": {},
     "output_type": "execute_result"
    }
   ],
   "source": [
    "str = 'abc'\n",
    "str += 'cde'\n",
    "str + str * 3"
   ]
  },
  {
   "cell_type": "markdown",
   "metadata": {
    "execution": {
     "iopub.execute_input": "2022-09-08T19:26:07.759369Z",
     "iopub.status.busy": "2022-09-08T19:26:07.758949Z",
     "iopub.status.idle": "2022-09-08T19:26:07.818999Z",
     "shell.execute_reply": "2022-09-08T19:26:07.816726Z",
     "shell.execute_reply.started": "2022-09-08T19:26:07.759309Z"
    },
    "tags": []
   },
   "source": [
    "### 4.3、判断字符串中是否包含某个字符/多个字符"
   ]
  },
  {
   "cell_type": "code",
   "execution_count": null,
   "metadata": {
    "tags": []
   },
   "outputs": [],
   "source": [
    "str = 'abc123cde'\n",
    "'1' in str # True\n",
    "'1234' in str # False"
   ]
  },
  {
   "cell_type": "markdown",
   "metadata": {
    "execution": {
     "iopub.execute_input": "2022-09-08T19:29:15.217459Z",
     "iopub.status.busy": "2022-09-08T19:29:15.217170Z",
     "iopub.status.idle": "2022-09-08T19:29:15.224574Z",
     "shell.execute_reply": "2022-09-08T19:29:15.222706Z",
     "shell.execute_reply.started": "2022-09-08T19:29:15.217395Z"
    },
    "tags": []
   },
   "source": [
    "## 切片\n",
    "\n",
    "- 字符串作为可迭代序列，也可以切片\n",
    "- 字符串在Python中是不可变类型"
   ]
  },
  {
   "cell_type": "code",
   "execution_count": null,
   "metadata": {
    "tags": []
   },
   "outputs": [],
   "source": [
    "str = 'abcdefg'\n",
    "str[2] # 'c'\n",
    "str[1:4] # 'bcd'\n",
    "str[2:] # 'cdef'\n",
    "str[2::2] # 'ceg'\n",
    "str[::2] # 'aceg'\n",
    "str[::-1] # 'gfedcba'\n",
    "str[-1] # 'g'\n",
    "str[-3:-1] 'ef'"
   ]
  },
  {
   "cell_type": "markdown",
   "metadata": {
    "execution": {
     "iopub.execute_input": "2022-09-08T19:33:49.207788Z",
     "iopub.status.busy": "2022-09-08T19:33:49.207517Z",
     "iopub.status.idle": "2022-09-08T19:33:49.213838Z",
     "shell.execute_reply": "2022-09-08T19:33:49.212556Z",
     "shell.execute_reply.started": "2022-09-08T19:33:49.207751Z"
    },
    "tags": []
   },
   "source": [
    "## 常用方法"
   ]
  },
  {
   "cell_type": "markdown",
   "metadata": {},
   "source": [
    "### 字符串长度"
   ]
  },
  {
   "cell_type": "code",
   "execution_count": null,
   "metadata": {
    "tags": []
   },
   "outputs": [],
   "source": [
    "str = 'heLLo, wOrLLd!'\n",
    "len(str)"
   ]
  },
  {
   "cell_type": "markdown",
   "metadata": {
    "tags": []
   },
   "source": [
    "### 首字母大写，其余字母小写"
   ]
  },
  {
   "cell_type": "code",
   "execution_count": null,
   "metadata": {
    "tags": []
   },
   "outputs": [],
   "source": [
    "print(str.capitalize()) # Hello, worlld!\n",
    "\n",
    "unname = \"aBsscD\"\n",
    "print(unname.capitalize()) # Absscd"
   ]
  },
  {
   "cell_type": "markdown",
   "metadata": {
    "tags": []
   },
   "source": [
    "### 获得字符串每个单词首字母大写的拷贝"
   ]
  },
  {
   "cell_type": "code",
   "execution_count": null,
   "metadata": {
    "tags": []
   },
   "outputs": [],
   "source": [
    "str.title()"
   ]
  },
  {
   "cell_type": "markdown",
   "metadata": {
    "tags": []
   },
   "source": [
    "### 全部字母大写"
   ]
  },
  {
   "cell_type": "code",
   "execution_count": null,
   "metadata": {
    "tags": []
   },
   "outputs": [],
   "source": [
    "str.upper()"
   ]
  },
  {
   "cell_type": "markdown",
   "metadata": {
    "tags": []
   },
   "source": [
    "### 全部字母小写"
   ]
  },
  {
   "cell_type": "code",
   "execution_count": null,
   "metadata": {
    "tags": []
   },
   "outputs": [],
   "source": [
    "str.lower()"
   ]
  },
  {
   "cell_type": "markdown",
   "metadata": {
    "tags": []
   },
   "source": [
    "### 从字符串中查找子串所在位置，第一个找到的位置"
   ]
  },
  {
   "cell_type": "code",
   "execution_count": null,
   "metadata": {
    "tags": []
   },
   "outputs": [],
   "source": [
    "str.find('LL') # 2\n",
    "str.find('$') # 找不到返回 -1"
   ]
  },
  {
   "cell_type": "code",
   "execution_count": null,
   "metadata": {
    "tags": []
   },
   "outputs": [],
   "source": [
    "# 与 find 类似但找不到子串时会引发异常\n",
    "str.index('LL') # 2\n",
    "str.index('$') # ValueError: substring not found"
   ]
  },
  {
   "cell_type": "markdown",
   "metadata": {
    "tags": []
   },
   "source": [
    "### 检查字符串是否以指定的字符串开头"
   ]
  },
  {
   "cell_type": "code",
   "execution_count": null,
   "metadata": {
    "tags": []
   },
   "outputs": [],
   "source": [
    "str.startswith('he') # True 计算时间好慢\n",
    "str.startswith('He') # False"
   ]
  },
  {
   "cell_type": "markdown",
   "metadata": {
    "tags": []
   },
   "source": [
    "### 检查字符串是否以指定的字符串结尾"
   ]
  },
  {
   "cell_type": "code",
   "execution_count": null,
   "metadata": {
    "tags": []
   },
   "outputs": [],
   "source": [
    "str.endswith('!') # True\n",
    "str.endswith('d') # False"
   ]
  },
  {
   "cell_type": "markdown",
   "metadata": {
    "tags": []
   },
   "source": [
    "### 检查字符串是否由数字构成"
   ]
  },
  {
   "cell_type": "code",
   "execution_count": null,
   "metadata": {
    "tags": []
   },
   "outputs": [],
   "source": [
    "str.isdigit() # false\n",
    "str01 = '123445'\n",
    "str01.isdigit() # True"
   ]
  },
  {
   "cell_type": "markdown",
   "metadata": {
    "tags": []
   },
   "source": [
    "### 检查字符串是否以字母构成"
   ]
  },
  {
   "cell_type": "code",
   "execution_count": null,
   "metadata": {
    "tags": []
   },
   "outputs": [],
   "source": [
    "str.isalpha() # False\n",
    "str02 = 'abc'\n",
    "str02.isalphaTrue() # "
   ]
  },
  {
   "cell_type": "markdown",
   "metadata": {
    "tags": []
   },
   "source": [
    "### 检查字符串是否以数字或字母构成【纯字母或数字都返回 True】"
   ]
  },
  {
   "cell_type": "code",
   "execution_count": null,
   "metadata": {
    "tags": []
   },
   "outputs": [],
   "source": [
    "str.isalnum() # False\n",
    "str02.isalnum() # Trur"
   ]
  },
  {
   "cell_type": "markdown",
   "metadata": {
    "tags": []
   },
   "source": [
    "### 获得字符串修剪左右两侧空格之后的拷贝"
   ]
  },
  {
   "cell_type": "code",
   "execution_count": null,
   "metadata": {
    "tags": []
   },
   "outputs": [],
   "source": [
    "str03 = '   sscc  fef fefe  '\n",
    "str03.strip() # 'sscc  fef fefe'"
   ]
  },
  {
   "cell_type": "markdown",
   "metadata": {},
   "source": [
    "# 随机数"
   ]
  },
  {
   "cell_type": "code",
   "execution_count": 40,
   "metadata": {
    "execution": {
     "iopub.execute_input": "2024-11-15T15:06:45.295234Z",
     "iopub.status.busy": "2024-11-15T15:06:45.294481Z",
     "iopub.status.idle": "2024-11-15T15:06:45.303791Z",
     "shell.execute_reply": "2024-11-15T15:06:45.302651Z",
     "shell.execute_reply.started": "2024-11-15T15:06:45.295194Z"
    }
   },
   "outputs": [
    {
     "data": {
      "text/plain": [
       "2"
      ]
     },
     "execution_count": 40,
     "metadata": {},
     "output_type": "execute_result"
    }
   ],
   "source": [
    "# 返回随机整数 N 满足 a <= N <= b\n",
    "random.randint(0, 19)"
   ]
  },
  {
   "cell_type": "code",
   "execution_count": 82,
   "metadata": {
    "execution": {
     "iopub.execute_input": "2024-11-15T15:08:02.589708Z",
     "iopub.status.busy": "2024-11-15T15:08:02.588737Z",
     "iopub.status.idle": "2024-11-15T15:08:02.598129Z",
     "shell.execute_reply": "2024-11-15T15:08:02.597010Z",
     "shell.execute_reply.started": "2024-11-15T15:08:02.589633Z"
    }
   },
   "outputs": [
    {
     "data": {
      "text/plain": [
       "3"
      ]
     },
     "execution_count": 82,
     "metadata": {},
     "output_type": "execute_result"
    }
   ],
   "source": [
    "# 从 range(start, stop, step) 返回一个随机选择的元素，需要整数\n",
    "random.randrange(0, 10, 1)"
   ]
  },
  {
   "cell_type": "code",
   "execution_count": 86,
   "metadata": {
    "execution": {
     "iopub.execute_input": "2024-11-15T15:08:18.575113Z",
     "iopub.status.busy": "2024-11-15T15:08:18.574442Z",
     "iopub.status.idle": "2024-11-15T15:08:18.582230Z",
     "shell.execute_reply": "2024-11-15T15:08:18.581210Z",
     "shell.execute_reply.started": "2024-11-15T15:08:18.575066Z"
    }
   },
   "outputs": [
    {
     "data": {
      "text/plain": [
       "0.5254879989267175"
      ]
     },
     "execution_count": 86,
     "metadata": {},
     "output_type": "execute_result"
    }
   ],
   "source": [
    "# 返回 [0.0, 1.0) 范围内的下一个随机浮点数\n",
    "random.random()"
   ]
  },
  {
   "cell_type": "code",
   "execution_count": null,
   "metadata": {},
   "outputs": [],
   "source": [
    "# 从非空序列 seq 返回一个随机元素。 如果 seq 为空，则引发 IndexError\n",
    "list = [\"a\", \"b\", \"c\"]\n",
    "ls = range(0, 100)\n",
    "random.choice(list)\n",
    "\n",
    "# 将序列随机打乱位置 shuffle(x[, random])\n",
    "random.shuffle(list)"
   ]
  },
  {
   "cell_type": "markdown",
   "metadata": {},
   "source": [
    "# 列表"
   ]
  },
  {
   "cell_type": "markdown",
   "metadata": {
    "execution": {
     "iopub.execute_input": "2022-09-08T19:49:40.116548Z",
     "iopub.status.busy": "2022-09-08T19:49:40.116130Z",
     "iopub.status.idle": "2022-09-08T19:49:40.121512Z",
     "shell.execute_reply": "2022-09-08T19:49:40.120245Z",
     "shell.execute_reply.started": "2022-09-08T19:49:40.116490Z"
    },
    "tags": []
   },
   "source": [
    "## 1.常用方法"
   ]
  },
  {
   "cell_type": "code",
   "execution_count": 8,
   "metadata": {
    "execution": {
     "iopub.execute_input": "2023-11-02T02:06:16.288674Z",
     "iopub.status.busy": "2023-11-02T02:06:16.284668Z",
     "iopub.status.idle": "2023-11-02T02:06:16.297534Z",
     "shell.execute_reply": "2023-11-02T02:06:16.295507Z",
     "shell.execute_reply.started": "2023-11-02T02:06:16.287665Z"
    }
   },
   "outputs": [
    {
     "name": "stdout",
     "output_type": "stream",
     "text": [
      "['a', '┏┛墓┗┓', 'b', 'c', 'a']\n"
     ]
    }
   ],
   "source": [
    "# 再某个位置前面插入元素\n",
    "arr = ['a', 'b', 'c', 'a']\n",
    "arr.insert(1, '┏┛墓┗┓')\n",
    "print(arr)"
   ]
  },
  {
   "cell_type": "code",
   "execution_count": 9,
   "metadata": {
    "execution": {
     "iopub.execute_input": "2023-11-02T02:06:24.767364Z",
     "iopub.status.busy": "2023-11-02T02:06:24.767364Z",
     "iopub.status.idle": "2023-11-02T02:06:24.777295Z",
     "shell.execute_reply": "2023-11-02T02:06:24.776278Z",
     "shell.execute_reply.started": "2023-11-02T02:06:24.767364Z"
    }
   },
   "outputs": [
    {
     "data": {
      "text/plain": [
       "5"
      ]
     },
     "execution_count": 9,
     "metadata": {},
     "output_type": "execute_result"
    }
   ],
   "source": [
    "# 长度\n",
    "len(arr)"
   ]
  },
  {
   "cell_type": "code",
   "execution_count": 10,
   "metadata": {
    "execution": {
     "iopub.execute_input": "2023-11-02T02:06:37.640894Z",
     "iopub.status.busy": "2023-11-02T02:06:37.639894Z",
     "iopub.status.idle": "2023-11-02T02:06:37.652238Z",
     "shell.execute_reply": "2023-11-02T02:06:37.650222Z",
     "shell.execute_reply.started": "2023-11-02T02:06:37.640894Z"
    }
   },
   "outputs": [
    {
     "data": {
      "text/plain": [
       "2"
      ]
     },
     "execution_count": 10,
     "metadata": {},
     "output_type": "execute_result"
    }
   ],
   "source": [
    "# 返回列表包含的【某个元素】的个数\n",
    "arr.count('a')"
   ]
  },
  {
   "cell_type": "code",
   "execution_count": null,
   "metadata": {},
   "outputs": [],
   "source": [
    "# 移除列表某个元素\n",
    "arr = ['k', 'a', 'b', 'c', 'a']\n",
    "arr.remove('a') # 没有返回值\n",
    "arr"
   ]
  },
  {
   "cell_type": "code",
   "execution_count": null,
   "metadata": {},
   "outputs": [],
   "source": [
    "# 删除列表中指定位置的元素，并返回被删除的元素\n",
    "arr.pop(0) "
   ]
  },
  {
   "cell_type": "code",
   "execution_count": null,
   "metadata": {},
   "outputs": [],
   "source": [
    "# 删除尾部元素\n",
    "arr.pop()\n",
    "arr"
   ]
  },
  {
   "cell_type": "code",
   "execution_count": null,
   "metadata": {},
   "outputs": [],
   "source": [
    "# 清空列表\n",
    "arr.clear()\n",
    "arr"
   ]
  },
  {
   "cell_type": "code",
   "execution_count": null,
   "metadata": {},
   "outputs": [],
   "source": [
    "# 列表排序\n",
    "arr = [4, 1110, 22, 45, 0, 222]\n",
    "# 反向排序\n",
    "arr.sort(reverse=True)\n",
    "arr\n",
    "\n",
    "# 反转列表\n",
    "arr.reverse()\n",
    "arr\n",
    "\n",
    "# 或者这样\n",
    "for i in reversed(range(1, 10, 2)):\n",
    "  print(i)"
   ]
  },
  {
   "cell_type": "code",
   "execution_count": null,
   "metadata": {},
   "outputs": [],
   "source": [
    "# 添加元素 append 方法 \n",
    "arr = []\n",
    "for x in range(10):\n",
    "  arr.append(x**2)\n",
    "x, arr"
   ]
  },
  {
   "cell_type": "code",
   "execution_count": null,
   "metadata": {},
   "outputs": [],
   "source": [
    "# 通过 enumerate 函数处理列表之后再遍历可以同时获得元素索引和值\n",
    "for index, elem in enumerate(arr):\n",
    "  print(index, elem)"
   ]
  },
  {
   "cell_type": "code",
   "execution_count": null,
   "metadata": {},
   "outputs": [],
   "source": [
    "# 重复列表 -- 乘号右边的数字表示个数【重复的次数】\n",
    "arr = ['hello'] * 3\n",
    "arr01 = ['小黑', '小光'] * 2\n",
    "arr02 = [[1, 2], [3, 4]] * 2\n",
    "arr02"
   ]
  },
  {
   "cell_type": "code",
   "execution_count": null,
   "metadata": {},
   "outputs": [],
   "source": [
    "# 合并列表\n",
    "list = [1, 3, 5, 7, 100]\n",
    "list += ['a', 'b']\n",
    "list"
   ]
  },
  {
   "cell_type": "code",
   "execution_count": null,
   "metadata": {},
   "outputs": [],
   "source": [
    "# 判断某个元素是否在列表中\n",
    "1 in list # True"
   ]
  },
  {
   "cell_type": "code",
   "execution_count": null,
   "metadata": {},
   "outputs": [],
   "source": [
    "# del 删除元素[可以删除切片]\n",
    "arr = ['a', 'b', 'c', 'd']\n",
    "del arr[2:]\n",
    "arr"
   ]
  },
  {
   "cell_type": "markdown",
   "metadata": {
    "execution": {
     "iopub.execute_input": "2022-09-08T20:04:30.845714Z",
     "iopub.status.busy": "2022-09-08T20:04:30.845437Z",
     "iopub.status.idle": "2022-09-08T20:04:30.854357Z",
     "shell.execute_reply": "2022-09-08T20:04:30.853263Z",
     "shell.execute_reply.started": "2022-09-08T20:04:30.845674Z"
    },
    "jp-MarkdownHeadingCollapsed": true,
    "tags": []
   },
   "source": [
    "## 2.切片\n"
   ]
  },
  {
   "cell_type": "code",
   "execution_count": null,
   "metadata": {
    "tags": []
   },
   "outputs": [],
   "source": [
    "arr = [3, 1, 'a', 5, 7, 'ss']\n",
    "\n",
    "# 超出索引会报错\n",
    "# arr[7] # IndexError: list index out of range\n",
    "\n",
    "# 打印所有元素\n",
    "arr[:]\n",
    "\n",
    "# 前闭后开\n",
    "arr[0:2]\n",
    "\n",
    "# 利用切片产生一个倒叙的列表\n",
    "arr = [1, 2, 3]\n",
    "arr[::-1]"
   ]
  },
  {
   "cell_type": "code",
   "execution_count": null,
   "metadata": {},
   "outputs": [],
   "source": []
  },
  {
   "cell_type": "markdown",
   "metadata": {
    "execution": {
     "iopub.execute_input": "2022-09-08T20:28:24.424085Z",
     "iopub.status.busy": "2022-09-08T20:28:24.423830Z",
     "iopub.status.idle": "2022-09-08T20:28:24.428803Z",
     "shell.execute_reply": "2022-09-08T20:28:24.427533Z",
     "shell.execute_reply.started": "2022-09-08T20:28:24.424049Z"
    },
    "tags": []
   },
   "source": [
    "## 3.生成式和生成器\n",
    "\n",
    "使用列表的生成式语法来创建列表使用列表的生成式语法来创建列表"
   ]
  },
  {
   "cell_type": "markdown",
   "metadata": {
    "tags": []
   },
   "source": [
    "# 字典\n",
    "\n",
    "    字典是另一种可变容器模型，Python 中的字典跟我们生活中使用的字典是一样一样的，它可以存储任意类型对象，与列表、集合不同的是，字典的每个元素都是由一个键和一个值组成的【键值对】，键和值通过冒号分开"
   ]
  },
  {
   "cell_type": "markdown",
   "metadata": {},
   "source": [
    "## 创建字典"
   ]
  },
  {
   "cell_type": "code",
   "execution_count": 1,
   "metadata": {
    "execution": {
     "iopub.execute_input": "2023-11-01T14:38:59.492770Z",
     "iopub.status.busy": "2023-11-01T14:38:59.487243Z",
     "iopub.status.idle": "2023-11-01T14:38:59.760997Z",
     "shell.execute_reply": "2023-11-01T14:38:59.756402Z",
     "shell.execute_reply.started": "2023-11-01T14:38:59.490771Z"
    }
   },
   "outputs": [
    {
     "name": "stdout",
     "output_type": "stream",
     "text": [
      "{'jack': 1, 'rose': 2, 'ai': 0} <class 'dict'>\n"
     ]
    }
   ],
   "source": [
    "# 字面量创建字典\n",
    "dic = { 'jack': 1, 'rose': 2, 'ai': 0 }\n",
    "print(dic, type(dic))"
   ]
  },
  {
   "cell_type": "code",
   "execution_count": 2,
   "metadata": {
    "execution": {
     "iopub.execute_input": "2023-11-01T14:39:03.014143Z",
     "iopub.status.busy": "2023-11-01T14:39:03.014143Z",
     "iopub.status.idle": "2023-11-01T14:39:03.042439Z",
     "shell.execute_reply": "2023-11-01T14:39:03.041421Z",
     "shell.execute_reply.started": "2023-11-01T14:39:03.014143Z"
    }
   },
   "outputs": [
    {
     "data": {
      "text/plain": [
       "{'xu': 4, 'wu': 5, 'liu': 6}"
      ]
     },
     "execution_count": 2,
     "metadata": {},
     "output_type": "execute_result"
    }
   ],
   "source": [
    "# 这种写法更直观\n",
    "a = {\n",
    "    \"xu\": 4,\n",
    "    \"wu\": 5,\n",
    "    \"liu\": 6\n",
    "}\n",
    "a"
   ]
  },
  {
   "cell_type": "code",
   "execution_count": 3,
   "metadata": {
    "execution": {
     "iopub.execute_input": "2023-11-01T14:39:08.870295Z",
     "iopub.status.busy": "2023-11-01T14:39:08.869283Z",
     "iopub.status.idle": "2023-11-01T14:39:08.880349Z",
     "shell.execute_reply": "2023-11-01T14:39:08.879384Z",
     "shell.execute_reply.started": "2023-11-01T14:39:08.870295Z"
    }
   },
   "outputs": [
    {
     "data": {
      "text/plain": [
       "{'sape': 4139, 'guido': 4127, 'jack': 4098}"
      ]
     },
     "execution_count": 3,
     "metadata": {},
     "output_type": "execute_result"
    }
   ],
   "source": [
    "# dict() 构造函数直接用键值对创建字典\n",
    "dict([('sape', 4139), ('guido', 4127), ('jack', 4098)])"
   ]
  },
  {
   "cell_type": "code",
   "execution_count": 4,
   "metadata": {
    "execution": {
     "iopub.execute_input": "2023-11-01T14:39:14.162257Z",
     "iopub.status.busy": "2023-11-01T14:39:14.161301Z",
     "iopub.status.idle": "2023-11-01T14:39:14.173864Z",
     "shell.execute_reply": "2023-11-01T14:39:14.171847Z",
     "shell.execute_reply.started": "2023-11-01T14:39:14.162257Z"
    }
   },
   "outputs": [
    {
     "data": {
      "text/plain": [
       "{'a': 1, 'b': 2, 'c': 3}"
      ]
     },
     "execution_count": 4,
     "metadata": {},
     "output_type": "execute_result"
    }
   ],
   "source": [
    "# 关键字是比较简单的字符串时，直接用关键字参数指定键值对更便捷\n",
    "dict(a=1, b=2, c=3)"
   ]
  },
  {
   "cell_type": "code",
   "execution_count": 1,
   "metadata": {
    "execution": {
     "iopub.execute_input": "2024-11-14T15:45:52.639130Z",
     "iopub.status.busy": "2024-11-14T15:45:52.638448Z",
     "iopub.status.idle": "2024-11-14T15:45:52.671140Z",
     "shell.execute_reply": "2024-11-14T15:45:52.670763Z",
     "shell.execute_reply.started": "2024-11-14T15:45:52.639082Z"
    }
   },
   "outputs": [
    {
     "name": "stdout",
     "output_type": "stream",
     "text": [
      "<class 'zip'>\n"
     ]
    },
    {
     "data": {
      "text/plain": [
       "{'a': '1', 'b': '2', 'c': '3'}"
      ]
     },
     "execution_count": 1,
     "metadata": {},
     "output_type": "execute_result"
    }
   ],
   "source": [
    "# 通过 zip 函数将两个序列压成字典\n",
    "a = zip(['a', 'b', 'c'], '123')\n",
    "print(type(a))\n",
    "list(a)\n",
    "dict(zip(['a', 'b', 'c'], '123'))"
   ]
  },
  {
   "cell_type": "code",
   "execution_count": 5,
   "metadata": {
    "execution": {
     "iopub.execute_input": "2023-11-01T14:39:34.215428Z",
     "iopub.status.busy": "2023-11-01T14:39:34.214429Z",
     "iopub.status.idle": "2023-11-01T14:39:34.224987Z",
     "shell.execute_reply": "2023-11-01T14:39:34.223971Z",
     "shell.execute_reply.started": "2023-11-01T14:39:34.215428Z"
    }
   },
   "outputs": [
    {
     "data": {
      "text/plain": [
       "{1: 1, 2: 4, 3: 9, 4: 16, 5: 25, 6: 36, 7: 49, 8: 64, 9: 81}"
      ]
     },
     "execution_count": 5,
     "metadata": {},
     "output_type": "execute_result"
    }
   ],
   "source": [
    "# 创建字典的推导式语法\n",
    "items = {num: num ** 2 for num in range(1, 10)}\n",
    "items"
   ]
  },
  {
   "cell_type": "markdown",
   "metadata": {},
   "source": [
    "## 增删改查"
   ]
  },
  {
   "cell_type": "code",
   "execution_count": null,
   "metadata": {
    "tags": []
   },
   "outputs": [],
   "source": [
    "# 取字典的值\n",
    "dic = dict(zip(['a', 'b', 'c'], '123'))\n",
    "dic['a']"
   ]
  },
  {
   "cell_type": "code",
   "execution_count": null,
   "metadata": {
    "tags": []
   },
   "outputs": [],
   "source": [
    "# 对字典中所有键值进行遍历\n",
    "for key in dic:\n",
    "  print(f'{key}: {dic[key]}')"
   ]
  },
  {
   "cell_type": "code",
   "execution_count": null,
   "metadata": {
    "tags": []
   },
   "outputs": [],
   "source": [
    "# 遍历字典【items() 方法取出键和值】\n",
    "for k, v in dic.items():\n",
    "  print(k, v)"
   ]
  },
  {
   "cell_type": "code",
   "execution_count": null,
   "metadata": {
    "tags": []
   },
   "outputs": [],
   "source": [
    "# 更新|添加字典中的元素\n",
    "dic.update(a = '混元天尊', b = '启灵元神')\n",
    "dic"
   ]
  },
  {
   "cell_type": "code",
   "execution_count": null,
   "metadata": {
    "tags": []
   },
   "outputs": [],
   "source": [
    "# 判断字典是否含有某个【键】\n",
    "a in dic # False\n",
    "'a' in dic # True\n",
    "'混元天尊' in dic # False"
   ]
  },
  {
   "cell_type": "code",
   "execution_count": null,
   "metadata": {
    "tags": []
   },
   "outputs": [],
   "source": [
    "# get方法也是通过键获取对应的值但是可以设置默认值\n",
    "dic.get('c', '混沌魔军索伦森')\n",
    "dic"
   ]
  },
  {
   "cell_type": "code",
   "execution_count": null,
   "metadata": {
    "tags": []
   },
   "outputs": [],
   "source": [
    "# 删除字典元素\n",
    "dic.popitem()\n",
    "dic.pop('a', 1)\n",
    "dic"
   ]
  },
  {
   "cell_type": "code",
   "execution_count": null,
   "metadata": {
    "tags": []
   },
   "outputs": [],
   "source": [
    "# 清空字典\n",
    "dic.clear()\n",
    "dic"
   ]
  },
  {
   "cell_type": "code",
   "execution_count": null,
   "metadata": {
    "tags": []
   },
   "outputs": [],
   "source": [
    "# 字典排序\n",
    "list(dic)\n",
    "dic\n",
    "sorted(dic)"
   ]
  },
  {
   "cell_type": "code",
   "execution_count": null,
   "metadata": {},
   "outputs": [],
   "source": [
    "# enumerate() 函数可以同时取出位置索引和对应的值【索引变成了从 0 开始的数字】\n",
    "print(dic)\n",
    "for i, v in enumerate(dic):\n",
    "  print(i, v)"
   ]
  },
  {
   "cell_type": "markdown",
   "metadata": {},
   "source": [
    "# 数组"
   ]
  },
  {
   "cell_type": "markdown",
   "metadata": {
    "tags": []
   },
   "source": [
    "## 一维数组"
   ]
  },
  {
   "cell_type": "code",
   "execution_count": 12,
   "metadata": {
    "execution": {
     "iopub.execute_input": "2023-10-21T09:17:09.354097Z",
     "iopub.status.busy": "2023-10-21T09:17:09.353100Z",
     "iopub.status.idle": "2023-10-21T09:17:09.363132Z",
     "shell.execute_reply": "2023-10-21T09:17:09.362117Z",
     "shell.execute_reply.started": "2023-10-21T09:17:09.354097Z"
    }
   },
   "outputs": [
    {
     "name": "stdout",
     "output_type": "stream",
     "text": [
      "arr1： [1 2 3 4 5] <class 'numpy.ndarray'>\n",
      "arr2： [1 2 3 4 5] <class 'numpy.ndarray'>\n",
      "arr3： [1 2 3 4 5 6 7 8 9] <class 'numpy.ndarray'>\n"
     ]
    }
   ],
   "source": [
    "arr1 = np.array([1, 2, 3, 4, 5])\n",
    "print (\"arr1：\", arr1, type(arr1))\n",
    "arr2 = np.array(range(1, 6))\n",
    "print (\"arr2：\", arr2, type(arr2))\n",
    "# 直接arange出来也是数组\n",
    "arr3 = np.arange(1, 10)\n",
    "print (\"arr3：\", arr3, type(arr3))"
   ]
  },
  {
   "cell_type": "markdown",
   "metadata": {
    "tags": []
   },
   "source": [
    "## 创建二维数组"
   ]
  },
  {
   "cell_type": "code",
   "execution_count": 21,
   "metadata": {
    "execution": {
     "iopub.execute_input": "2023-10-21T09:19:23.820256Z",
     "iopub.status.busy": "2023-10-21T09:19:23.819233Z",
     "iopub.status.idle": "2023-10-21T09:19:23.826902Z",
     "shell.execute_reply": "2023-10-21T09:19:23.825874Z",
     "shell.execute_reply.started": "2023-10-21T09:19:23.820256Z"
    }
   },
   "outputs": [
    {
     "name": "stdout",
     "output_type": "stream",
     "text": [
      "[[1 2]\n",
      " [3 4]\n",
      " [5 6]]\n",
      "2\n",
      "[5 6]\n"
     ]
    }
   ],
   "source": [
    "arr = np.array([[1, 2], [3, 4], [5, 6]])\n",
    "print(arr)\n",
    "# 取值，等价于arr[0, 1]\n",
    "print(arr[0][1])\n",
    "print(arr[2])"
   ]
  },
  {
   "cell_type": "markdown",
   "metadata": {
    "tags": []
   },
   "source": [
    "## ndarray 常用方法"
   ]
  },
  {
   "cell_type": "code",
   "execution_count": 29,
   "metadata": {
    "execution": {
     "iopub.execute_input": "2023-10-21T09:32:10.743431Z",
     "iopub.status.busy": "2023-10-21T09:32:10.743431Z",
     "iopub.status.idle": "2023-10-21T09:32:10.752611Z",
     "shell.execute_reply": "2023-10-21T09:32:10.751595Z",
     "shell.execute_reply.started": "2023-10-21T09:32:10.743431Z"
    }
   },
   "outputs": [
    {
     "name": "stdout",
     "output_type": "stream",
     "text": [
      "arr.dtype: int32\n",
      "arr.shape: (3, 2)\n",
      "arr.size: 6\n",
      "arr.ndim: 2\n",
      "arr.itemsize: 4\n",
      "arr.reshape: [[1 2 3]\n",
      " [4 5 6]]\n"
     ]
    }
   ],
   "source": [
    "arr = np.array([[1, 2], [3, 4], [5, 6]])\n",
    "\n",
    "# 元素类型\n",
    "print(\"arr.dtype:\", arr.dtype) # int32\n",
    "# 形状【就是矩阵的维度】\n",
    "print('arr.shape:', arr.shape)\n",
    "# 元素个数\n",
    "print(\"arr.size:\", arr.size)\n",
    "# 维度\n",
    "print('arr.ndim:', arr.ndim)\n",
    "# 每个元素大小（字节）\n",
    "print('arr.itemsize:', arr.itemsize)\n",
    "# 重新定义维度\n",
    "print('arr.reshape:', arr.reshape(2, 3))"
   ]
  },
  {
   "cell_type": "code",
   "execution_count": 25,
   "metadata": {
    "execution": {
     "iopub.execute_input": "2023-10-21T09:28:54.262340Z",
     "iopub.status.busy": "2023-10-21T09:28:54.260826Z",
     "iopub.status.idle": "2023-10-21T09:28:54.272056Z",
     "shell.execute_reply": "2023-10-21T09:28:54.270037Z",
     "shell.execute_reply.started": "2023-10-21T09:28:54.262340Z"
    }
   },
   "outputs": [
    {
     "name": "stdout",
     "output_type": "stream",
     "text": [
      "arr.real: [1. 0.]\n",
      "arr.imag: [2. 4.]\n",
      "arr.T: [1.+2.j 0.+4.j]\n"
     ]
    }
   ],
   "source": [
    "# 矩阵的实部虚部\n",
    "arr = np.array([1+2j, 4j])\n",
    "# arr = np.array([[1, 2], [3, 4], [5, 6]])\n",
    "print('arr.real:', arr.real)\n",
    "print('arr.imag:', arr.imag)\n",
    "print('arr.T:', arr.T)"
   ]
  },
  {
   "cell_type": "code",
   "execution_count": null,
   "metadata": {},
   "outputs": [],
   "source": [
    "# arange() 方法\n",
    "myArr01 = np.arange(30)\n",
    "# 变成 2 维数组\n",
    "myArr01.reshape(3, 10)\n",
    "# 变成 3 维数组\n",
    "myArr01.reshape(2, 3, 5)"
   ]
  },
  {
   "cell_type": "code",
   "execution_count": null,
   "metadata": {},
   "outputs": [],
   "source": [
    "# 多维数组取值\n",
    "myArr02 = np.arange(12).reshape(3, 4)\n",
    "myArr02[:1]"
   ]
  },
  {
   "cell_type": "markdown",
   "metadata": {
    "tags": []
   },
   "source": [
    "## 4、视图与副本"
   ]
  },
  {
   "cell_type": "code",
   "execution_count": 7,
   "metadata": {
    "execution": {
     "iopub.execute_input": "2023-11-02T02:03:26.031352Z",
     "iopub.status.busy": "2023-11-02T02:03:26.030348Z",
     "iopub.status.idle": "2023-11-02T02:03:26.532561Z",
     "shell.execute_reply": "2023-11-02T02:03:26.531039Z",
     "shell.execute_reply.started": "2023-11-02T02:03:26.031352Z"
    }
   },
   "outputs": [
    {
     "name": "stdout",
     "output_type": "stream",
     "text": [
      "1540590518512 1540590518608\n"
     ]
    },
    {
     "data": {
      "text/plain": [
       "((3, 4), (4, 3))"
      ]
     },
     "execution_count": 7,
     "metadata": {},
     "output_type": "execute_result"
    }
   ],
   "source": [
    "import numpy as np\n",
    "\n",
    "# 创建视图\n",
    "a = np.arange(12).reshape(3, 4)\n",
    "b = a.view()\n",
    "a[0, 0] = 100\n",
    "print(id(a), id(b))\n",
    "b.shape = 4, 3\n",
    "a.shape, b.shape"
   ]
  },
  {
   "cell_type": "code",
   "execution_count": null,
   "metadata": {},
   "outputs": [],
   "source": [
    "# 创建副本【任然是 shallow copy】\n",
    "c = a.copy()\n",
    "c\n",
    "a[0, 0] = 999"
   ]
  },
  {
   "cell_type": "code",
   "execution_count": null,
   "metadata": {},
   "outputs": [],
   "source": [
    "# test np.copy()\n",
    "\"\"\" arr = [[1, 2], [3, 4, [4, 1]]]\n",
    "arrCopy = arr.copy()\n",
    "# arr[1][2][0] = '==='\n",
    "arrCopy \"\"\"\n",
    "\n",
    "# 测试 json.dunps() 果然是深拷贝\n",
    "\n",
    "import json\n",
    "arr = [[1, 2], [3, 4, [4, 1]]]\n",
    "arrCopy = json.loads(json.dumps(repr(arr)))\n",
    "arr[1][2][0] = '==='\n",
    "arrCopy"
   ]
  },
  {
   "cell_type": "markdown",
   "metadata": {
    "jp-MarkdownHeadingCollapsed": true,
    "tags": []
   },
   "source": [
    "## 5、多维数组的切片"
   ]
  },
  {
   "cell_type": "code",
   "execution_count": null,
   "metadata": {},
   "outputs": [],
   "source": [
    "x = np.array([(1, 2, 3), (4, 5, 6), (7, 8, 9)])\n",
    "print('x:', x, '\\n============')\n",
    "x.shape\n",
    "# 选择 第 1 和 2 行\n",
    "x[0:2]\n",
    "# 选择 第 2 行\n",
    "x[1]\n",
    "# 第 2 列\n",
    "x[:, 1]\n",
    "# 第 1 2 列\n",
    "x[:, [0, 1]]\n",
    "\n",
    "x[1, 0]\n",
    "\n",
    "x[0, [1, 2]]\n",
    "\n",
    "# 打印所有行\n",
    "# for row in x:\n",
    "#     print(row)\n",
    "\n",
    "# 第 2 3 行\n",
    "x[[1, 2], :]\n",
    "\n",
    "# 行倒序\n",
    "x[::-1]\n",
    "# 列倒序\n",
    "x[:, ::-1]\n",
    "\n",
    "x.shape\n",
    "\n",
    "# 不改变原数组 x\n",
    "y = x.reshape(1, 9)\n",
    "# -1 就表示数组第 1 轴的长度\n",
    "y = y.reshape(3, -1)\n",
    "\n",
    "z = x\n",
    "# resize 会改变原数组形状【并且里面不能写 -1】\n",
    "# z.resize(2, 4.5) # error"
   ]
  },
  {
   "cell_type": "markdown",
   "metadata": {},
   "source": [
    "## 数组的拼接 vstack"
   ]
  },
  {
   "cell_type": "code",
   "execution_count": null,
   "metadata": {},
   "outputs": [],
   "source": [
    "arr01 = [1, 2]\n",
    "arr02 = [3, 4]\n",
    "np.vstack((arr01, arr02))\n",
    "np.hstack((arr01, arr02))"
   ]
  },
  {
   "cell_type": "markdown",
   "metadata": {},
   "source": [
    "## 数组的运算"
   ]
  },
  {
   "cell_type": "code",
   "execution_count": null,
   "metadata": {},
   "outputs": [],
   "source": [
    "# 数组的相加【如果两个数组维数不等，则会触发广播机制】\n",
    "a0 = np.array([1, 2])\n",
    "b0 = np.array([3, 4])\n",
    "a0 += b0\n",
    "\n",
    "# 数组求和\n",
    "s = np.array([(1, 2, 3), (4, 5, 6)])\n",
    "s.sum(axis = 0)\n",
    "s.sum(axis = 1)\n",
    "s.min()\n",
    "s.max()\n",
    "\n",
    "# 最小值索引\n",
    "s.argmin()\n",
    "# 最大值索引\n",
    "s.argmax()\n",
    "s.mean()\n",
    "# 方差\n",
    "s.var()\n",
    "# 标准差\n",
    "s.std()"
   ]
  },
  {
   "cell_type": "markdown",
   "metadata": {},
   "source": [
    "# 练习"
   ]
  },
  {
   "cell_type": "code",
   "execution_count": null,
   "metadata": {
    "tags": []
   },
   "outputs": [],
   "source": [
    "\"\"\"\n",
    "在屏幕上显示跑马灯文字\n",
    "\"\"\"\n",
    "import os\n",
    "import time\n",
    "\n",
    "content = '北京欢迎你为你开天辟地…………'\n",
    "\n",
    "while True:\n",
    "  os.system('cls') # os.system('clear')\n",
    "  print(content)\n",
    "  time.sleep(0.2)\n",
    "  content = content[1:] + content[0]"
   ]
  },
  {
   "cell_type": "code",
   "execution_count": null,
   "metadata": {
    "tags": []
   },
   "outputs": [],
   "source": [
    "# 测试 os.system\n",
    "import os\n",
    "import time\n",
    "print('+++++++')\n",
    "time.sleep(1)\n",
    "# os.system('clear')"
   ]
  },
  {
   "cell_type": "code",
   "execution_count": null,
   "metadata": {
    "tags": []
   },
   "outputs": [],
   "source": [
    "\"\"\"\n",
    "设计一个函数产生指定长度的验证码，验证码由大小写字母和数字构成\n",
    "\"\"\"\n",
    "import random\n",
    "def generate_code(code_len=4):\n",
    "  all_chars = '0123456789abcdefghijklmnopqrstuvwxyzABCDEFGHIJKLMNOPQRSTUVWXYZ'\n",
    "  last_pos = len(all_chars) - 1\n",
    "  code = ''\n",
    "  for _ in range(code_len):\n",
    "\t  index = random.randint(0, last_pos)\n",
    "\t  code += all_chars[index]\n",
    "  return code\n",
    "\n",
    "generate_code()"
   ]
  },
  {
   "cell_type": "code",
   "execution_count": null,
   "metadata": {
    "tags": []
   },
   "outputs": [],
   "source": [
    "\"\"\"\n",
    "设计一个函数返回传入的列表中最大和第二大的元素的值\n",
    "\"\"\"\n",
    "def max2(list):\n",
    "  # 保证 m1 > m2\n",
    "  m1, m2 = (list[0], list[1]) if list[0] > list[1] else (list[1], list[0])\n",
    "  for index in range(2, len(list)):\n",
    "\t  if list[index] > m1:\n",
    "\t\t  m1, m2 = list[index], m1\n",
    "\t  elif list[index] > m2:\n",
    "\t\t  m2 = list[index]\n",
    "  return m1, m2\n",
    "# max2([3, 5, 6, 8, 9, 3, 4])\n",
    "max2(range(100))"
   ]
  },
  {
   "attachments": {
    "3df3200c-9b69-4e27-922b-7e6c89b90f27.png": {
     "image/png": "[encoded data removed]"
    },
    "5ef64ce8-c39f-4810-bcd9-47a2ce3c53ff.png": {
     "image/png": "[encoded data removed]"
    },
    "9dcbcd5d-48b8-4055-b73c-df491183b7bf.png": {
     "image/png": "[encoded data removed]"
    }
   },
   "cell_type": "markdown",
   "metadata": {},
   "source": [
    "# 集合\n",
    "\n",
    "Python 中的集合跟数学上的集合是一致的，不允许有重复元素，而且可以进行交集、并集、差集等运算\n",
    "![python-set.png](attachment:3df3200c-9b69-4e27-922b-7e6c89b90f27.png)![download.png](attachment:9dcbcd5d-48b8-4055-b73c-df491183b7bf.png)![download.png](attachment:5ef64ce8-c39f-4810-bcd9-47a2ce3c53ff.png)"
   ]
  },
  {
   "cell_type": "markdown",
   "metadata": {},
   "source": [
    "## 1.创建集合"
   ]
  },
  {
   "cell_type": "code",
   "execution_count": null,
   "metadata": {
    "tags": []
   },
   "outputs": [],
   "source": [
    "# 1.字面量创建集合\n",
    "bra = {1, 2, 3}\n",
    "print(bra, type(bra), 1 in bra, 4 in bra) # {1, 2, 3} <class 'set'> True False\n",
    "len(bra)\n",
    "\n",
    "# 2.创建集合的构造器语法\n",
    "# set() 创建集合 () 里必须放可迭代\n",
    "# s = set(['a', 'b', 'c', 'a', 'b'])\n",
    "s = set(range(4))\n",
    "print(s, len(s), type(s)) # {0, 1, 2, 3} 4 <class 'set'>\n",
    "\n",
    "# 3.创建集合的推导式语法【推导式也可以用于推导集合】\n",
    "set = {num for num in range(1, 100) if num % 3 == 0 or num % 5 == 0}\n",
    "set\n"
   ]
  },
  {
   "cell_type": "markdown",
   "metadata": {
    "execution": {
     "iopub.execute_input": "2022-09-09T06:35:13.101801Z",
     "iopub.status.busy": "2022-09-09T06:35:13.101538Z",
     "iopub.status.idle": "2022-09-09T06:35:13.157783Z",
     "shell.execute_reply": "2022-09-09T06:35:13.155821Z",
     "shell.execute_reply.started": "2022-09-09T06:35:13.101764Z"
    },
    "tags": []
   },
   "source": [
    "## 2.操作集合\n",
    "\n",
    "增删改查"
   ]
  },
  {
   "cell_type": "code",
   "execution_count": null,
   "metadata": {
    "tags": []
   },
   "outputs": [],
   "source": [
    "a = {num for num in range(20) if num % 3 == 0}\n",
    "print('a: ', a)\n",
    "# 向集合添加一个元素\n",
    "# a.add(30)\n",
    "a\n",
    "\n",
    "# 添加多个元素\n",
    "a.update([3, 6])\n",
    "a\n",
    "\n",
    "# 移除一个指定元素，不存在不会报错\n",
    "a.discard(5)\n",
    "a\n",
    "\n",
    "# remove 方法也是移除一个指定元素，如果不存在会报错\n",
    "a.remove(100)\n",
    "a # error"
   ]
  },
  {
   "cell_type": "code",
   "execution_count": null,
   "metadata": {},
   "outputs": [],
   "source": [
    "# 集合的操作,不会改变集合\n",
    "a = set('abcde')\n",
    "b = set('abcf')\n",
    "a - b\n",
    "b - a\n",
    "a | b\n",
    "a & b\n",
    "a ^ b # letters in a or b but not both\n",
    "{x for x in a if x in b}"
   ]
  },
  {
   "cell_type": "code",
   "execution_count": null,
   "metadata": {},
   "outputs": [],
   "source": [
    "# 利用 set 实现数组去重【js 也可以实现】\n",
    "arr = [1, 2, 4, 2, 6, 100, 2, 100, 'a', 'a', 'sss']\n",
    "mySet = set(arr)\n",
    "arr = list(mySet)\n",
    "arr, type(arr)"
   ]
  },
  {
   "cell_type": "code",
   "execution_count": null,
   "metadata": {
    "tags": []
   },
   "outputs": [],
   "source": [
    "\"\"\"\n",
    "[] 里面包可迭代序列 \n",
    "用列表的生成表达式语法创建列表容器\n",
    "用这种语法创建列表之后元素已经准备就绪所以需要耗费较多的内存空间\n",
    "\"\"\"\n",
    "import sys\n",
    "squares = [y**2 for y in range(10)]\n",
    "squares\n",
    "\n",
    "f = [x + y for x in 'ABCDE' for y in '1234567']\n",
    "sys.getsizeof(f)\n",
    "# [(x, y) for x in [1, 2, 3] for y in [3, 1, 4] if x != y] # 双列表组合"
   ]
  },
  {
   "cell_type": "code",
   "execution_count": null,
   "metadata": {
    "tags": []
   },
   "outputs": [],
   "source": []
  },
  {
   "cell_type": "code",
   "execution_count": null,
   "metadata": {
    "tags": []
   },
   "outputs": [],
   "source": [
    "\"\"\"\n",
    "通过生成器可以获取到数据但它不占用额外的空间存储数据\n",
    "每次需要数据的时候就通过内部的运算得到数据(需要花费额外的时间)\n",
    "相比生成式生成器不占用存储数据的空间\n",
    "\"\"\"\n",
    "f = (x ** 2 for x in range(1, 1000))\n",
    "f # <generator object <genexpr> at 0x7f87e43a0620>\n",
    "# print(f)\n",
    "# for val in f:\n",
    "#     print(val)\n",
    "\n",
    "\n",
    "# 看对象占用内存的字节数\n",
    "# sys.getsizeof(f)"
   ]
  },
  {
   "cell_type": "code",
   "execution_count": null,
   "metadata": {
    "tags": []
   },
   "outputs": [],
   "source": [
    "# 通过 yield 关键字将一个普通函数改造成生成器函数\n",
    "def fib(n):\n",
    "  a, b = 0, 1\n",
    "  for _ in range(n):\n",
    "    a, b = b, a+b\n",
    "    yield a\n",
    "\n",
    "\n",
    "def main():\n",
    "  for val in fib(20):\n",
    "    print(val)\n",
    "\n",
    "if __name__ == '__main__':\n",
    "  main()"
   ]
  },
  {
   "cell_type": "markdown",
   "metadata": {},
   "source": [
    "# 元组\n",
    "\n",
    "- Python 中的元组与列表类似也是一种容器数据类型，可以用一个变量（对象）来存储多个数据\n",
    "- 不同之处在于元组的元素**不能修改**\n",
    "- 顾名思义，我们把多个元素组合到一起就形成了一个元组，所以它和列表一样可以保存多条数据\n",
    "\n",
    "> 为什么需要元组 ?\n",
    "\n",
    "    1.有时候需要用到不变对象【易于维护，多线程时线程安全】\n",
    "    2.元组在创建时间和占用的空间上面都优于列表"
   ]
  },
  {
   "cell_type": "markdown",
   "metadata": {},
   "source": [
    "## 定义\n",
    "\n",
    "> 元组由多个用逗号隔开的值组成[也是一种序列]"
   ]
  },
  {
   "cell_type": "code",
   "execution_count": null,
   "metadata": {},
   "outputs": [],
   "source": [
    "t = 1, 2, 3\n",
    "print(t[0])\n",
    "print(type(t))"
   ]
  },
  {
   "cell_type": "code",
   "execution_count": null,
   "metadata": {},
   "outputs": [],
   "source": [
    "# 元组内的元素无法修改\n",
    "t[0] = 'a' # error"
   ]
  },
  {
   "cell_type": "markdown",
   "metadata": {},
   "source": [
    "## 嵌套元组"
   ]
  },
  {
   "cell_type": "code",
   "execution_count": null,
   "metadata": {},
   "outputs": [],
   "source": [
    "u = t, (1, 2, 3, 4, 5)\n",
    "print(u)\n",
    "print(u[0][1])\n",
    "\n",
    "# 这种不可修改性是深度的【和 ts 元组不一样】\n",
    "u[0][0] = 10"
   ]
  },
  {
   "cell_type": "markdown",
   "metadata": {
    "execution": {
     "iopub.execute_input": "2023-10-21T07:45:22.786739Z",
     "iopub.status.busy": "2023-10-21T07:45:22.785740Z",
     "iopub.status.idle": "2023-10-21T07:45:22.791606Z",
     "shell.execute_reply": "2023-10-21T07:45:22.790595Z",
     "shell.execute_reply.started": "2023-10-21T07:45:22.786739Z"
    }
   },
   "source": [
    "## 改变元组的引用"
   ]
  },
  {
   "cell_type": "code",
   "execution_count": null,
   "metadata": {},
   "outputs": [],
   "source": [
    "u = 1\n",
    "print(u)\n",
    "print(type(u))"
   ]
  },
  {
   "cell_type": "markdown",
   "metadata": {
    "execution": {
     "iopub.execute_input": "2023-10-21T07:46:47.981635Z",
     "iopub.status.busy": "2023-10-21T07:46:47.980638Z",
     "iopub.status.idle": "2023-10-21T07:46:47.989220Z",
     "shell.execute_reply": "2023-10-21T07:46:47.988209Z",
     "shell.execute_reply.started": "2023-10-21T07:46:47.981635Z"
    }
   },
   "source": [
    "## 元组和列表的转换"
   ]
  },
  {
   "cell_type": "markdown",
   "metadata": {},
   "source": [
    "### 元组转化为列表\n",
    "\n",
    "> 【列表是可以修改它的元素的】"
   ]
  },
  {
   "cell_type": "code",
   "execution_count": null,
   "metadata": {},
   "outputs": [],
   "source": [
    "u = t, (1, 2, 3, 4, 5)\n",
    "li = list(u)\n",
    "print(li, type(li)) # [(1, 2, 3), (1, 2, 3, 4, 5)] <class 'list'>"
   ]
  },
  {
   "cell_type": "markdown",
   "metadata": {},
   "source": [
    "## 将列表转换成元组"
   ]
  },
  {
   "cell_type": "code",
   "execution_count": null,
   "metadata": {},
   "outputs": [],
   "source": [
    "x = tuple(li)\n",
    "print(x, type(x)) # ((1, 2, 3), (1, 2, 3, 4, 5)) <class 'tuple'>"
   ]
  },
  {
   "cell_type": "markdown",
   "metadata": {},
   "source": [
    "## 元素是元组的列表"
   ]
  },
  {
   "cell_type": "code",
   "execution_count": null,
   "metadata": {},
   "outputs": [],
   "source": [
    "a = [(1, 2), (3, 4)]\n",
    "print(a) # [(1, 2), (3, 4)] <class 'list'>\n",
    "print(type(a))"
   ]
  },
  {
   "cell_type": "markdown",
   "metadata": {},
   "source": [
    "## 多维列表"
   ]
  },
  {
   "cell_type": "code",
   "execution_count": null,
   "metadata": {},
   "outputs": [],
   "source": [
    "c = [[1, 2], [3, 4]]\n",
    "print(c) # [(1, 2), (3, 4)] <class 'list'>\n",
    "print(type(c))\n",
    "# a[0][0] = 'a' # error"
   ]
  },
  {
   "cell_type": "markdown",
   "metadata": {},
   "source": [
    "## 创建只有 0 或 1 个元素的元组"
   ]
  },
  {
   "cell_type": "code",
   "execution_count": null,
   "metadata": {},
   "outputs": [],
   "source": [
    "a = 5,\n",
    "print(a)\n",
    "b = ()\n",
    "print(b)"
   ]
  },
  {
   "cell_type": "markdown",
   "metadata": {},
   "source": [
    "## 检查元组空间的占用【与列表的对比】"
   ]
  },
  {
   "cell_type": "code",
   "execution_count": null,
   "metadata": {},
   "outputs": [],
   "source": [
    "arr01 =  [i for i in range(100)]\n",
    "arr02 = tuple(arr01)\n",
    "print(arr02)\n",
    "print(\"=====================================================\")\n",
    "print(sys.getsizeof(arr01)) # 912\n",
    "print(sys.getsizeof(arr02)) # 838\n",
    "print(\"=====================================================\")\n",
    "# 也可以采用 %timeit 来分析\n",
    "%timeit arr01\n",
    "%timeit arr02"
   ]
  },
  {
   "cell_type": "markdown",
   "metadata": {},
   "source": [
    "## 序列解包\n",
    "\n",
    "> 序列解包时，左侧变量与右侧序列元素的数量应相等。注意，多重赋值其实只是元组打包和序列解包的组合"
   ]
  },
  {
   "cell_type": "code",
   "execution_count": null,
   "metadata": {},
   "outputs": [],
   "source": [
    "# 序列解包对所有序列对适用\n",
    "arr = ['a', 'b', 'c']\n",
    "i, j, k = arr\n",
    "print(i, j, k)\n",
    "print(type(i))"
   ]
  },
  {
   "cell_type": "markdown",
   "metadata": {
    "execution": {
     "iopub.execute_input": "2022-09-08T20:19:10.228865Z",
     "iopub.status.busy": "2022-09-08T20:19:10.228591Z",
     "iopub.status.idle": "2022-09-08T20:19:10.233508Z",
     "shell.execute_reply": "2022-09-08T20:19:10.232237Z",
     "shell.execute_reply.started": "2022-09-08T20:19:10.228828Z"
    },
    "tags": []
   },
   "source": [
    "# 练习"
   ]
  },
  {
   "cell_type": "markdown",
   "metadata": {
    "execution": {
     "iopub.execute_input": "2022-09-08T20:19:25.504633Z",
     "iopub.status.busy": "2022-09-08T20:19:25.504325Z",
     "iopub.status.idle": "2022-09-08T20:19:25.511641Z",
     "shell.execute_reply": "2022-09-08T20:19:25.510392Z",
     "shell.execute_reply.started": "2022-09-08T20:19:25.504595Z"
    },
    "tags": []
   },
   "source": [
    "## 1.计算阶乘"
   ]
  },
  {
   "cell_type": "code",
   "execution_count": null,
   "metadata": {},
   "outputs": [],
   "source": [
    "# 算阶乘【for 循环来求阶乘】\n",
    "def facto(n):\n",
    "  a = range(1, n + 1)\n",
    "  x = 1\n",
    "  for i in a:\n",
    "    x*=i\n",
    "  return x\n",
    "facto(5)"
   ]
  },
  {
   "cell_type": "code",
   "execution_count": null,
   "metadata": {},
   "outputs": [],
   "source": [
    "# 递归求阶乘\n",
    "def facto02(n):\n",
    "  if n <= 1: return 1\n",
    "  return n*facto02(n-1)\n",
    "\n",
    "facto02(5)"
   ]
  },
  {
   "cell_type": "code",
   "execution_count": null,
   "metadata": {},
   "outputs": [],
   "source": [
    "# test01\n",
    "a = range(6, 10)\n",
    "[x for x in a]\n",
    "a[1]"
   ]
  },
  {
   "cell_type": "code",
   "execution_count": null,
   "metadata": {},
   "outputs": [],
   "source": [
    "# test02\n",
    "def Facto(n):\n",
    "    list = range(1, n + 1)\n",
    "    result = 1\n",
    "    for i in list:\n",
    "        result *= i\n",
    "    return result\n",
    "Facto(3)\n",
    "\n",
    "def FactoRecursion(n):\n",
    "    if n > 0: return n*FactoRecursion(n-1)\n",
    "    return 1\n",
    "FactoRecursion(3)"
   ]
  },
  {
   "cell_type": "code",
   "execution_count": null,
   "metadata": {},
   "outputs": [],
   "source": [
    "# 列表过滤\n",
    "vec = [-4, -2, 0, 2, 4]\n",
    "[x*2 for x in vec]\n",
    "[abs(x) for x in vec if x % 2 == 0]\n",
    "[(x, abs(x)) for x in vec]\n"
   ]
  },
  {
   "cell_type": "code",
   "execution_count": null,
   "metadata": {},
   "outputs": [],
   "source": [
    "# 矩阵\n",
    "matrix = [\n",
    "  [1, 2, 3, 4],\n",
    "  [5, 6, 7, 8],\n",
    "  [9, 10, 11, 12],\n",
    "]\n",
    "matrix\n",
    "\n",
    "# 对矩阵进行转置\n",
    "[[row[i] for row in matrix] for i in range(4)]\n",
    "\n"
   ]
  },
  {
   "cell_type": "code",
   "execution_count": null,
   "metadata": {},
   "outputs": [],
   "source": [
    "# 内置转置函数\n",
    "import numpy as np\n",
    "\n",
    "matrix = [\n",
    "  [1, 2, 3, 4],\n",
    "  [5, 6, 7, 8],\n",
    "  [9, 10, 11, 12],\n",
    "]\n",
    "np.transpose(matrix)"
   ]
  },
  {
   "cell_type": "code",
   "execution_count": null,
   "metadata": {},
   "outputs": [],
   "source": [
    "# for 循环实现转置\n",
    "matrix = [\n",
    "  [1, 2, 3, 4],\n",
    "  [5, 6, 7, 8],\n",
    "  [9, 10, 11, 12],\n",
    "]\n",
    "transposed = []\n",
    "for i in range(4):\n",
    "  transposed.append([row[i] for row in matrix])\n",
    "transposed"
   ]
  },
  {
   "cell_type": "code",
   "execution_count": null,
   "metadata": {},
   "outputs": [],
   "source": [
    "# zip 函数实现转置\n",
    "matrix = [\n",
    "  [1, 2, 3, 4],\n",
    "  [5, 6, 7, 8],\n",
    "  [9, 10, 11, 12],\n",
    "]\n",
    "# 需要解包\n",
    "# list(zip(*matrix))\n",
    "list(zip([1, 2, 3, 4],\n",
    "  [5, 6, 7, 8],\n",
    "  [9, 10, 11, 12]))"
   ]
  },
  {
   "cell_type": "code",
   "execution_count": null,
   "metadata": {
    "tags": []
   },
   "outputs": [],
   "source": [
    "# * 解包\n",
    "# bb = range(3, 6)\n",
    "# list(bb)\n",
    "\n",
    "args = [3, 6]\n",
    "bb = range(*args)\n",
    "bb"
   ]
  }
 ],
 "metadata": {
  "kernelspec": {
   "display_name": "Python 3 (ipykernel)",
   "language": "python",
   "name": "python3"
  },
  "language_info": {
   "codemirror_mode": {
    "name": "ipython",
    "version": 3
   },
   "file_extension": ".py",
   "mimetype": "text/x-python",
   "name": "python",
   "nbconvert_exporter": "python",
   "pygments_lexer": "ipython3",
   "version": "3.9.6"
  },
  "vscode": {
   "interpreter": {
    "hash": "96b71d9b0255b05b2be31cfcb5ea5500d86eab633fcfd6b803722470524a431e"
   }
  },
  "widgets": {
   "application/vnd.jupyter.widget-state+json": {
    "state": {},
    "version_major": 2,
    "version_minor": 0
   }
  }
 },
 "nbformat": 4,
 "nbformat_minor": 4
}
