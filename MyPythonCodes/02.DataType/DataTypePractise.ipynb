{
 "cells": [
  {
   "cell_type": "code",
   "execution_count": 23,
   "id": "37870105-c70f-4f87-9e69-741bfdf879f3",
   "metadata": {
    "execution": {
     "iopub.execute_input": "2024-12-10T14:25:34.903094Z",
     "iopub.status.busy": "2024-12-10T14:25:34.902536Z",
     "iopub.status.idle": "2024-12-10T14:25:34.972623Z",
     "shell.execute_reply": "2024-12-10T14:25:34.972077Z",
     "shell.execute_reply.started": "2024-12-10T14:25:34.903040Z"
    }
   },
   "outputs": [],
   "source": [
    "import numpy as np"
   ]
  },
  {
   "cell_type": "markdown",
   "id": "80cbde6a-090e-457c-a42b-fc56509463fb",
   "metadata": {
    "execution": {
     "iopub.execute_input": "2022-09-08T20:19:10.228865Z",
     "iopub.status.busy": "2022-09-08T20:19:10.228591Z",
     "iopub.status.idle": "2022-09-08T20:19:10.233508Z",
     "shell.execute_reply": "2022-09-08T20:19:10.232237Z",
     "shell.execute_reply.started": "2022-09-08T20:19:10.228828Z"
    },
    "tags": []
   },
   "source": [
    "# 练习"
   ]
  },
  {
   "cell_type": "markdown",
   "id": "00d110a9-fec1-460b-850f-1db841ad94c1",
   "metadata": {
    "execution": {
     "iopub.execute_input": "2022-09-08T20:19:25.504633Z",
     "iopub.status.busy": "2022-09-08T20:19:25.504325Z",
     "iopub.status.idle": "2022-09-08T20:19:25.511641Z",
     "shell.execute_reply": "2022-09-08T20:19:25.510392Z",
     "shell.execute_reply.started": "2022-09-08T20:19:25.504595Z"
    },
    "tags": []
   },
   "source": [
    "## 1.计算阶乘"
   ]
  },
  {
   "cell_type": "code",
   "execution_count": null,
   "id": "03b383e8-8117-4d75-915d-4c961524bdf2",
   "metadata": {},
   "outputs": [],
   "source": [
    "# 算阶乘【for 循环来求阶乘】\n",
    "def facto(n):\n",
    "  a = range(1, n + 1)\n",
    "  x = 1\n",
    "  for i in a:\n",
    "    x*=i\n",
    "  return x\n",
    "facto(5)"
   ]
  },
  {
   "cell_type": "code",
   "execution_count": null,
   "id": "53521bd1-1473-487d-b79e-37f85f62623e",
   "metadata": {},
   "outputs": [],
   "source": [
    "# 递归求阶乘\n",
    "def facto02(n):\n",
    "  if n <= 1: return 1\n",
    "  return n*facto02(n-1)\n",
    "\n",
    "facto02(5)"
   ]
  },
  {
   "cell_type": "code",
   "execution_count": null,
   "id": "c051d16a-dab3-4bc7-a2f5-d1d58d58e27e",
   "metadata": {},
   "outputs": [],
   "source": [
    "# test02\n",
    "def Facto(n):\n",
    "    list = range(1, n + 1)\n",
    "    result = 1\n",
    "    for i in list:\n",
    "        result *= i\n",
    "    return result\n",
    "Facto(3)\n",
    "\n",
    "def FactoRecursion(n):\n",
    "    if n > 0: return n*FactoRecursion(n-1)\n",
    "    return 1\n",
    "FactoRecursion(3)"
   ]
  },
  {
   "cell_type": "code",
   "execution_count": null,
   "id": "bd9088dc-0c7d-4a7b-8122-e0dc03da5beb",
   "metadata": {},
   "outputs": [],
   "source": [
    "# 列表过滤\n",
    "vec = [-4, -2, 0, 2, 4]\n",
    "[x*2 for x in vec]\n",
    "[abs(x) for x in vec if x % 2 == 0]\n",
    "[(x, abs(x)) for x in vec]\n"
   ]
  },
  {
   "cell_type": "code",
   "execution_count": 22,
   "id": "566a7072-3910-4cea-a658-f26ffa4f8be6",
   "metadata": {
    "execution": {
     "iopub.execute_input": "2024-12-10T14:25:22.991547Z",
     "iopub.status.busy": "2024-12-10T14:25:22.989731Z",
     "iopub.status.idle": "2024-12-10T14:25:23.002018Z",
     "shell.execute_reply": "2024-12-10T14:25:23.000757Z",
     "shell.execute_reply.started": "2024-12-10T14:25:22.991492Z"
    }
   },
   "outputs": [
    {
     "name": "stdout",
     "output_type": "stream",
     "text": [
      "[[1, 5, 9], [2, 6, 10], [3, 7, 11], [4, 8, 12]]\n"
     ]
    }
   ],
   "source": [
    "# 矩阵\n",
    "matrix = [\n",
    "  [1, 2, 3, 4],\n",
    "  [5, 6, 7, 8],\n",
    "  [9, 10, 11, 12],\n",
    "]\n",
    "matrix\n",
    "\n",
    "# 对矩阵进行转置\n",
    "x = [[row[i] for row in matrix] for i in range(4)]\n",
    "print(x)\n",
    "# y = matrix.T\n",
    "# print(y)\n"
   ]
  },
  {
   "cell_type": "code",
   "execution_count": 24,
   "id": "19622937-e7b7-45d0-8d61-3af3415e179f",
   "metadata": {
    "execution": {
     "iopub.execute_input": "2024-12-10T14:25:38.986220Z",
     "iopub.status.busy": "2024-12-10T14:25:38.985422Z",
     "iopub.status.idle": "2024-12-10T14:25:38.999052Z",
     "shell.execute_reply": "2024-12-10T14:25:38.998429Z",
     "shell.execute_reply.started": "2024-12-10T14:25:38.986171Z"
    }
   },
   "outputs": [
    {
     "data": {
      "text/plain": [
       "array([[ 1,  5,  9],\n",
       "       [ 2,  6, 10],\n",
       "       [ 3,  7, 11],\n",
       "       [ 4,  8, 12]])"
      ]
     },
     "execution_count": 24,
     "metadata": {},
     "output_type": "execute_result"
    }
   ],
   "source": [
    "# 内置转置函数\n",
    "\n",
    "matrix = [\n",
    "  [1, 2, 3, 4],\n",
    "  [5, 6, 7, 8],\n",
    "  [9, 10, 11, 12],\n",
    "]\n",
    "np.transpose(matrix)"
   ]
  },
  {
   "cell_type": "code",
   "execution_count": null,
   "id": "aea01c93-2441-4437-bcf4-6d8ad1d0bd0f",
   "metadata": {},
   "outputs": [],
   "source": [
    "# for 循环实现转置\n",
    "matrix = [\n",
    "  [1, 2, 3, 4],\n",
    "  [5, 6, 7, 8],\n",
    "  [9, 10, 11, 12],\n",
    "]\n",
    "transposed = []\n",
    "for i in range(4):\n",
    "  transposed.append([row[i] for row in matrix])\n",
    "transposed"
   ]
  },
  {
   "cell_type": "code",
   "execution_count": null,
   "id": "17663a0f-4447-4d8b-b76e-453fa916282d",
   "metadata": {},
   "outputs": [],
   "source": [
    "# zip 函数实现转置\n",
    "matrix = [\n",
    "  [1, 2, 3, 4],\n",
    "  [5, 6, 7, 8],\n",
    "  [9, 10, 11, 12],\n",
    "]\n",
    "# 需要解包\n",
    "# list(zip(*matrix))\n",
    "list(zip([1, 2, 3, 4],\n",
    "  [5, 6, 7, 8],\n",
    "  [9, 10, 11, 12]))"
   ]
  },
  {
   "cell_type": "code",
   "execution_count": null,
   "id": "4d917471-4fb9-4d87-8f6e-bf1dd6bc3f72",
   "metadata": {
    "tags": []
   },
   "outputs": [],
   "source": [
    "# * 解包\n",
    "# bb = range(3, 6)\n",
    "# list(bb)\n",
    "\n",
    "args = [3, 6]\n",
    "bb = range(*args)\n",
    "bb"
   ]
  },
  {
   "cell_type": "markdown",
   "id": "4017664d-f15e-4b9c-8371-c0b72de17a15",
   "metadata": {},
   "source": [
    "# geometric progression"
   ]
  },
  {
   "cell_type": "code",
   "execution_count": 36,
   "id": "3ee9963f-be48-4560-94b7-91c9eb16afa9",
   "metadata": {
    "execution": {
     "iopub.execute_input": "2023-10-30T09:34:21.166770Z",
     "iopub.status.busy": "2023-10-30T09:34:21.166770Z",
     "iopub.status.idle": "2023-10-30T09:34:21.180302Z",
     "shell.execute_reply": "2023-10-30T09:34:21.177934Z",
     "shell.execute_reply.started": "2023-10-30T09:34:21.166770Z"
    }
   },
   "outputs": [
    {
     "name": "stdout",
     "output_type": "stream",
     "text": [
      "2\n",
      "4\n"
     ]
    },
    {
     "data": {
      "text/plain": [
       "4"
      ]
     },
     "execution_count": 36,
     "metadata": {},
     "output_type": "execute_result"
    }
   ],
   "source": [
    "def geometricProgression(a, n, q):\n",
    "    result = a\n",
    "    for i in np.arange(1, n + 1):\n",
    "        result += a*q**(i - 1)\n",
    "        print(result)\n",
    "    return result\n",
    "geometricProgression(1, 2, 2)"
   ]
  },
  {
   "cell_type": "code",
   "execution_count": null,
   "id": "2c6eca01-fc96-4382-bc96-f3203650148e",
   "metadata": {},
   "outputs": [],
   "source": [
    "def geometricProgression2(a, n, q):\n",
    "    if n = 1: return a\n",
    "    return geometricProgression2(a, n - 1, q) + "
   ]
  },
  {
   "cell_type": "code",
   "execution_count": 25,
   "id": "b02111cf-a652-45d4-b0e8-8613a1325623",
   "metadata": {
    "execution": {
     "iopub.execute_input": "2023-10-30T09:32:03.427754Z",
     "iopub.status.busy": "2023-10-30T09:32:03.426750Z",
     "iopub.status.idle": "2023-10-30T09:32:03.436821Z",
     "shell.execute_reply": "2023-10-30T09:32:03.434799Z",
     "shell.execute_reply.started": "2023-10-30T09:32:03.427754Z"
    }
   },
   "outputs": [
    {
     "name": "stdout",
     "output_type": "stream",
     "text": [
      "1\n",
      "2\n"
     ]
    }
   ],
   "source": [
    "for i in np.arange(1, 3): print(i)"
   ]
  },
  {
   "cell_type": "code",
   "execution_count": 41,
   "id": "1f5e2d2f-cfc2-42fa-83bd-1d6e2b4dcd61",
   "metadata": {
    "execution": {
     "iopub.execute_input": "2023-10-30T13:26:19.790814Z",
     "iopub.status.busy": "2023-10-30T13:26:19.789817Z",
     "iopub.status.idle": "2023-10-30T13:26:19.800118Z",
     "shell.execute_reply": "2023-10-30T13:26:19.798097Z",
     "shell.execute_reply.started": "2023-10-30T13:26:19.790814Z"
    }
   },
   "outputs": [
    {
     "name": "stdout",
     "output_type": "stream",
     "text": [
      "9.857068529740472\n",
      "2.464267132435118\n"
     ]
    }
   ],
   "source": [
    "d = 44.5/2 - 15.28\n",
    "x  = d/np.sin(np.pi/4)\n",
    "print(x)\n",
    "x_water = x/4\n",
    "print(x_water)"
   ]
  },
  {
   "cell_type": "code",
   "execution_count": 44,
   "id": "c63925a7-c432-408b-aba5-e364cbf9b9a8",
   "metadata": {
    "execution": {
     "iopub.execute_input": "2023-11-02T02:04:56.227169Z",
     "iopub.status.busy": "2023-11-02T02:04:56.226168Z",
     "iopub.status.idle": "2023-11-02T02:04:56.250682Z",
     "shell.execute_reply": "2023-11-02T02:04:56.246667Z",
     "shell.execute_reply.started": "2023-11-02T02:04:56.227169Z"
    }
   },
   "outputs": [
    {
     "data": {
      "text/plain": [
       "True"
      ]
     },
     "execution_count": 44,
     "metadata": {},
     "output_type": "execute_result"
    }
   ],
   "source": [
    "li = [1, 2, 3]\n",
    "a = li\n",
    "a[1] = 'a'\n",
    "li[1]\n",
    "id(a) == id(li)"
   ]
  },
  {
   "cell_type": "markdown",
   "id": "342ae0e6-6953-49d2-bce2-415f2b624225",
   "metadata": {},
   "source": [
    "# 四舍五入"
   ]
  },
  {
   "cell_type": "code",
   "execution_count": null,
   "id": "9139dff0-7a6c-4d81-95b4-34efd9af0b38",
   "metadata": {},
   "outputs": [],
   "source": [
    "from decimal import Decimal \n",
    "a = \"1.347\"\n",
    "#保留几位小数由像第二个括号中的几位小数决定，即保留两位小数，精确到0.01\n",
    "#如果想要四舍五入保留整数，那么第二个括号中就应该为\"1.\"\n",
    "a_t = Decimal(a).quantize(Decimal(\"0.01\"), rounding = \"ROUND_HALF_UP\")\n",
    "print(a_t)"
   ]
  },
  {
   "cell_type": "markdown",
   "id": "6814b63e-b182-499e-b7a7-06bd940551f9",
   "metadata": {},
   "source": [
    "# 动态添加对象"
   ]
  },
  {
   "cell_type": "code",
   "execution_count": 1,
   "id": "f21b0c5f-fefc-4be1-8cc4-a67d067ac335",
   "metadata": {
    "execution": {
     "iopub.execute_input": "2024-12-04T16:05:24.901930Z",
     "iopub.status.busy": "2024-12-04T16:05:24.901222Z",
     "iopub.status.idle": "2024-12-04T16:05:24.920255Z",
     "shell.execute_reply": "2024-12-04T16:05:24.919055Z",
     "shell.execute_reply.started": "2024-12-04T16:05:24.901878Z"
    }
   },
   "outputs": [
    {
     "data": {
      "text/plain": [
       "[{'0': 0},\n",
       " {'1': 1},\n",
       " {'2': 4},\n",
       " {'3': 9},\n",
       " {'4': 16},\n",
       " {'5': 25},\n",
       " {'6': 36},\n",
       " {'7': 49},\n",
       " {'8': 64},\n",
       " {'9': 81}]"
      ]
     },
     "execution_count": 1,
     "metadata": {},
     "output_type": "execute_result"
    }
   ],
   "source": [
    "a = []\n",
    "for i in range(10):\n",
    "    a.append({})\n",
    "    a[-1][str(i)] = i**2\n",
    "\n",
    "a"
   ]
  },
  {
   "cell_type": "code",
   "execution_count": 11,
   "id": "19e59116-19bb-4df5-b12f-4f17e7bbeb0f",
   "metadata": {
    "execution": {
     "iopub.execute_input": "2024-12-10T13:53:52.340366Z",
     "iopub.status.busy": "2024-12-10T13:53:52.339745Z",
     "iopub.status.idle": "2024-12-10T13:53:52.347048Z",
     "shell.execute_reply": "2024-12-10T13:53:52.346108Z",
     "shell.execute_reply.started": "2024-12-10T13:53:52.340318Z"
    }
   },
   "outputs": [
    {
     "name": "stdout",
     "output_type": "stream",
     "text": [
      "{'0': 0, '1': 1, '2': 4, '3': 9, '4': 16, '5': 25, '6': 36, '7': 49, '8': 64, '9': 81}\n"
     ]
    }
   ],
   "source": [
    "# 列表推导式\n",
    "a = {str(i): i**2 for i in range(10)}\n",
    "print(a)"
   ]
  },
  {
   "cell_type": "code",
   "execution_count": 16,
   "id": "9b0cc67c-c281-480c-b223-0b2fe44b3a14",
   "metadata": {
    "execution": {
     "iopub.execute_input": "2024-12-10T13:55:47.831438Z",
     "iopub.status.busy": "2024-12-10T13:55:47.830728Z",
     "iopub.status.idle": "2024-12-10T13:55:47.843931Z",
     "shell.execute_reply": "2024-12-10T13:55:47.842222Z",
     "shell.execute_reply.started": "2024-12-10T13:55:47.831390Z"
    }
   },
   "outputs": [
    {
     "data": {
      "text/plain": [
       "10"
      ]
     },
     "execution_count": 16,
     "metadata": {},
     "output_type": "execute_result"
    }
   ],
   "source": [
    "# 元祖\n",
    "class A:\n",
    "    def __init__(self):\n",
    "        self.a, self.b = (3, 4)\n",
    "\n",
    "a = A()\n",
    "a.b = 10\n",
    "a.b"
   ]
  },
  {
   "cell_type": "code",
   "execution_count": 12,
   "id": "a8b33480-26d6-4046-af92-a4c6f1d9e9c8",
   "metadata": {
    "execution": {
     "iopub.execute_input": "2024-12-12T16:20:49.222579Z",
     "iopub.status.busy": "2024-12-12T16:20:49.221974Z",
     "iopub.status.idle": "2024-12-12T16:20:49.251655Z",
     "shell.execute_reply": "2024-12-12T16:20:49.251233Z",
     "shell.execute_reply.started": "2024-12-12T16:20:49.222539Z"
    }
   },
   "outputs": [
    {
     "data": {
      "text/plain": [
       "500000500000"
      ]
     },
     "execution_count": 12,
     "metadata": {},
     "output_type": "execute_result"
    }
   ],
   "source": [
    "sum(range(1, 1000001))"
   ]
  },
  {
   "cell_type": "code",
   "execution_count": 14,
   "id": "68da3450-3fcf-4d8f-9508-070100b0457f",
   "metadata": {
    "execution": {
     "iopub.execute_input": "2024-12-12T16:21:53.518617Z",
     "iopub.status.busy": "2024-12-12T16:21:53.517668Z",
     "iopub.status.idle": "2024-12-12T16:21:53.524953Z",
     "shell.execute_reply": "2024-12-12T16:21:53.523899Z",
     "shell.execute_reply.started": "2024-12-12T16:21:53.518542Z"
    }
   },
   "outputs": [
    {
     "name": "stdout",
     "output_type": "stream",
     "text": [
      "1\n",
      "3\n",
      "5\n",
      "7\n",
      "9\n",
      "11\n",
      "13\n",
      "15\n",
      "17\n",
      "19\n"
     ]
    }
   ],
   "source": [
    "for i in range(1, 21, 2): print(i)"
   ]
  },
  {
   "cell_type": "code",
   "execution_count": 16,
   "id": "999e991a-b05f-43da-874b-c9f2a41634ed",
   "metadata": {
    "execution": {
     "iopub.execute_input": "2024-12-12T16:22:44.569577Z",
     "iopub.status.busy": "2024-12-12T16:22:44.569010Z",
     "iopub.status.idle": "2024-12-12T16:22:44.576873Z",
     "shell.execute_reply": "2024-12-12T16:22:44.574856Z",
     "shell.execute_reply.started": "2024-12-12T16:22:44.569538Z"
    }
   },
   "outputs": [
    {
     "name": "stdout",
     "output_type": "stream",
     "text": [
      "3\n",
      "6\n",
      "9\n",
      "12\n",
      "15\n",
      "18\n",
      "21\n",
      "24\n",
      "27\n",
      "30\n"
     ]
    }
   ],
   "source": [
    "for i in range(3, 31, 3): print(i)"
   ]
  },
  {
   "cell_type": "code",
   "execution_count": 23,
   "id": "d70fc148-b5ac-41d9-a799-97691648efb8",
   "metadata": {
    "execution": {
     "iopub.execute_input": "2024-12-12T16:26:39.045019Z",
     "iopub.status.busy": "2024-12-12T16:26:39.044342Z",
     "iopub.status.idle": "2024-12-12T16:26:39.053247Z",
     "shell.execute_reply": "2024-12-12T16:26:39.052144Z",
     "shell.execute_reply.started": "2024-12-12T16:26:39.044974Z"
    }
   },
   "outputs": [
    {
     "data": {
      "text/plain": [
       "(({'a': 10}, [1, 2, 3]), tuple)"
      ]
     },
     "execution_count": 23,
     "metadata": {},
     "output_type": "execute_result"
    }
   ],
   "source": [
    "a = {'a':1}, [1, 2, 3]\n",
    "a[0]['a'] = 10\n",
    "a, type(a)"
   ]
  },
  {
   "cell_type": "code",
   "execution_count": 39,
   "id": "129bc820-9326-4d54-868e-faf0e45029bc",
   "metadata": {
    "execution": {
     "iopub.execute_input": "2024-12-12T16:47:31.181902Z",
     "iopub.status.busy": "2024-12-12T16:47:31.181153Z",
     "iopub.status.idle": "2024-12-12T16:47:31.191384Z",
     "shell.execute_reply": "2024-12-12T16:47:31.190492Z",
     "shell.execute_reply.started": "2024-12-12T16:47:31.181866Z"
    }
   },
   "outputs": [
    {
     "data": {
      "text/plain": [
       "9"
      ]
     },
     "execution_count": 39,
     "metadata": {},
     "output_type": "execute_result"
    }
   ],
   "source": [
    "# fun = \n",
    "dic = {\n",
    "    'a': lambda x: x**2,\n",
    "    'b': 3\n",
    "}\n",
    "# x = dic.keys()\n",
    "# print(x)\n",
    "# print(dic.keys(), type(dic.keys()))\n",
    "\n",
    "dic['a'](3)"
   ]
  },
  {
   "cell_type": "code",
   "execution_count": 3,
   "id": "4ad2de44-955e-4c8e-b2a6-4fdc96cdeca8",
   "metadata": {
    "execution": {
     "iopub.execute_input": "2024-12-14T11:26:45.788240Z",
     "iopub.status.busy": "2024-12-14T11:26:45.786968Z",
     "iopub.status.idle": "2024-12-14T11:26:45.795947Z",
     "shell.execute_reply": "2024-12-14T11:26:45.794945Z",
     "shell.execute_reply.started": "2024-12-14T11:26:45.788180Z"
    }
   },
   "outputs": [
    {
     "data": {
      "text/plain": [
       "[0, 15, 30, 45, 60, 75, 90, 105, 120]"
      ]
     },
     "execution_count": 3,
     "metadata": {},
     "output_type": "execute_result"
    }
   ],
   "source": [
    "length = 135\n",
    "li = range(0, length, 15)\n",
    "list(li)"
   ]
  },
  {
   "cell_type": "code",
   "execution_count": 5,
   "id": "8409b02e-8050-4022-a187-7879f8cc3a8b",
   "metadata": {
    "execution": {
     "iopub.execute_input": "2024-12-14T16:11:52.254771Z",
     "iopub.status.busy": "2024-12-14T16:11:52.253653Z",
     "iopub.status.idle": "2024-12-14T16:11:56.451475Z",
     "shell.execute_reply": "2024-12-14T16:11:56.450336Z",
     "shell.execute_reply.started": "2024-12-14T16:11:52.254712Z"
    }
   },
   "outputs": [
    {
     "name": "stdin",
     "output_type": "stream",
     "text": [
      " 3.6\n"
     ]
    }
   ],
   "source": [
    "x = float(input())"
   ]
  }
 ],
 "metadata": {
  "kernelspec": {
   "display_name": "Python 3 (ipykernel)",
   "language": "python",
   "name": "python3"
  },
  "language_info": {
   "codemirror_mode": {
    "name": "ipython",
    "version": 3
   },
   "file_extension": ".py",
   "mimetype": "text/x-python",
   "name": "python",
   "nbconvert_exporter": "python",
   "pygments_lexer": "ipython3",
   "version": "3.9.6"
  }
 },
 "nbformat": 4,
 "nbformat_minor": 5
}
