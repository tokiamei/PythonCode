{
 "cells": [
  {
   "cell_type": "code",
   "execution_count": 3,
   "id": "37870105-c70f-4f87-9e69-741bfdf879f3",
   "metadata": {
    "execution": {
     "iopub.execute_input": "2023-10-30T09:14:21.996852Z",
     "iopub.status.busy": "2023-10-30T09:14:21.994855Z",
     "iopub.status.idle": "2023-10-30T09:14:22.241237Z",
     "shell.execute_reply": "2023-10-30T09:14:22.240116Z",
     "shell.execute_reply.started": "2023-10-30T09:14:21.995851Z"
    }
   },
   "outputs": [],
   "source": [
    "import numpy as np"
   ]
  },
  {
   "cell_type": "markdown",
   "id": "4017664d-f15e-4b9c-8371-c0b72de17a15",
   "metadata": {},
   "source": [
    "# geometric progression"
   ]
  },
  {
   "cell_type": "code",
   "execution_count": 36,
   "id": "3ee9963f-be48-4560-94b7-91c9eb16afa9",
   "metadata": {
    "execution": {
     "iopub.execute_input": "2023-10-30T09:34:21.166770Z",
     "iopub.status.busy": "2023-10-30T09:34:21.166770Z",
     "iopub.status.idle": "2023-10-30T09:34:21.180302Z",
     "shell.execute_reply": "2023-10-30T09:34:21.177934Z",
     "shell.execute_reply.started": "2023-10-30T09:34:21.166770Z"
    }
   },
   "outputs": [
    {
     "name": "stdout",
     "output_type": "stream",
     "text": [
      "2\n",
      "4\n"
     ]
    },
    {
     "data": {
      "text/plain": [
       "4"
      ]
     },
     "execution_count": 36,
     "metadata": {},
     "output_type": "execute_result"
    }
   ],
   "source": [
    "def geometricProgression(a, n, q):\n",
    "    result = a\n",
    "    for i in np.arange(1, n + 1):\n",
    "        result += a*q**(i - 1)\n",
    "        print(result)\n",
    "    return result\n",
    "geometricProgression(1, 2, 2)"
   ]
  },
  {
   "cell_type": "code",
   "execution_count": null,
   "id": "2c6eca01-fc96-4382-bc96-f3203650148e",
   "metadata": {},
   "outputs": [],
   "source": [
    "def geometricProgression2(a, n, q):\n",
    "    if n = 1: return a\n",
    "    return geometricProgression2(a, n - 1, q) + "
   ]
  },
  {
   "cell_type": "code",
   "execution_count": 25,
   "id": "b02111cf-a652-45d4-b0e8-8613a1325623",
   "metadata": {
    "execution": {
     "iopub.execute_input": "2023-10-30T09:32:03.427754Z",
     "iopub.status.busy": "2023-10-30T09:32:03.426750Z",
     "iopub.status.idle": "2023-10-30T09:32:03.436821Z",
     "shell.execute_reply": "2023-10-30T09:32:03.434799Z",
     "shell.execute_reply.started": "2023-10-30T09:32:03.427754Z"
    }
   },
   "outputs": [
    {
     "name": "stdout",
     "output_type": "stream",
     "text": [
      "1\n",
      "2\n"
     ]
    }
   ],
   "source": [
    "for i in np.arange(1, 3): print(i)"
   ]
  },
  {
   "cell_type": "code",
   "execution_count": 41,
   "id": "1f5e2d2f-cfc2-42fa-83bd-1d6e2b4dcd61",
   "metadata": {
    "execution": {
     "iopub.execute_input": "2023-10-30T13:26:19.790814Z",
     "iopub.status.busy": "2023-10-30T13:26:19.789817Z",
     "iopub.status.idle": "2023-10-30T13:26:19.800118Z",
     "shell.execute_reply": "2023-10-30T13:26:19.798097Z",
     "shell.execute_reply.started": "2023-10-30T13:26:19.790814Z"
    }
   },
   "outputs": [
    {
     "name": "stdout",
     "output_type": "stream",
     "text": [
      "9.857068529740472\n",
      "2.464267132435118\n"
     ]
    }
   ],
   "source": [
    "d = 44.5/2 - 15.28\n",
    "x  = d/np.sin(np.pi/4)\n",
    "print(x)\n",
    "x_water = x/4\n",
    "print(x_water)"
   ]
  },
  {
   "cell_type": "code",
   "execution_count": 44,
   "id": "c63925a7-c432-408b-aba5-e364cbf9b9a8",
   "metadata": {
    "execution": {
     "iopub.execute_input": "2023-11-02T02:04:56.227169Z",
     "iopub.status.busy": "2023-11-02T02:04:56.226168Z",
     "iopub.status.idle": "2023-11-02T02:04:56.250682Z",
     "shell.execute_reply": "2023-11-02T02:04:56.246667Z",
     "shell.execute_reply.started": "2023-11-02T02:04:56.227169Z"
    }
   },
   "outputs": [
    {
     "data": {
      "text/plain": [
       "True"
      ]
     },
     "execution_count": 44,
     "metadata": {},
     "output_type": "execute_result"
    }
   ],
   "source": [
    "li = [1, 2, 3]\n",
    "a = li\n",
    "a[1] = 'a'\n",
    "li[1]\n",
    "id(a) == id(li)"
   ]
  },
  {
   "cell_type": "markdown",
   "id": "342ae0e6-6953-49d2-bce2-415f2b624225",
   "metadata": {},
   "source": [
    "# 四舍五入"
   ]
  },
  {
   "cell_type": "code",
   "execution_count": null,
   "id": "9139dff0-7a6c-4d81-95b4-34efd9af0b38",
   "metadata": {},
   "outputs": [],
   "source": [
    "from decimal import Decimal \n",
    "a = \"1.347\"\n",
    "#保留几位小数由像第二个括号中的几位小数决定，即保留两位小数，精确到0.01\n",
    "#如果想要四舍五入保留整数，那么第二个括号中就应该为\"1.\"\n",
    "a_t = Decimal(a).quantize(Decimal(\"0.01\"), rounding = \"ROUND_HALF_UP\")\n",
    "print(a_t)"
   ]
  }
 ],
 "metadata": {
  "kernelspec": {
   "display_name": "Python 3 (ipykernel)",
   "language": "python",
   "name": "python3"
  },
  "language_info": {
   "codemirror_mode": {
    "name": "ipython",
    "version": 3
   },
   "file_extension": ".py",
   "mimetype": "text/x-python",
   "name": "python",
   "nbconvert_exporter": "python",
   "pygments_lexer": "ipython3",
   "version": "3.9.6"
  }
 },
 "nbformat": 4,
 "nbformat_minor": 5
}
