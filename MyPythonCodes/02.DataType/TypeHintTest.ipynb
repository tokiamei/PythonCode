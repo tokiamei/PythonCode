{
 "cells": [
  {
   "cell_type": "code",
   "execution_count": 3,
   "id": "83e258a4-c8d0-4b5a-b37a-ded334e5e9c1",
   "metadata": {
    "execution": {
     "iopub.execute_input": "2024-12-13T13:53:38.274589Z",
     "iopub.status.busy": "2024-12-13T13:53:38.273662Z",
     "iopub.status.idle": "2024-12-13T13:53:38.281568Z",
     "shell.execute_reply": "2024-12-13T13:53:38.280605Z",
     "shell.execute_reply.started": "2024-12-13T13:53:38.274538Z"
    }
   },
   "outputs": [],
   "source": [
    "def f(a: int, b: int) -> int:\n",
    "    return a + b\n",
    "\n",
    "# f(1, 'a')"
   ]
  },
  {
   "cell_type": "code",
   "execution_count": 8,
   "id": "e4cf1b37-3601-4752-8516-1ffdb304d9e1",
   "metadata": {
    "execution": {
     "iopub.execute_input": "2024-12-13T13:54:14.714342Z",
     "iopub.status.busy": "2024-12-13T13:54:14.713842Z",
     "iopub.status.idle": "2024-12-13T13:54:14.726000Z",
     "shell.execute_reply": "2024-12-13T13:54:14.724930Z",
     "shell.execute_reply.started": "2024-12-13T13:54:14.714301Z"
    }
   },
   "outputs": [
    {
     "data": {
      "text/plain": [
       "range(0, 10)"
      ]
     },
     "execution_count": 8,
     "metadata": {},
     "output_type": "execute_result"
    }
   ],
   "source": [
    "def fun1(a: int, b: int) -> int:\n",
    "    return b\n",
    "fun1(True, range(10))"
   ]
  },
  {
   "cell_type": "code",
   "execution_count": 12,
   "id": "76111bcc-11f4-476d-a2db-527ae8e5532e",
   "metadata": {
    "execution": {
     "iopub.execute_input": "2024-12-13T14:26:12.686006Z",
     "iopub.status.busy": "2024-12-13T14:26:12.685223Z",
     "iopub.status.idle": "2024-12-13T14:26:12.695464Z",
     "shell.execute_reply": "2024-12-13T14:26:12.693954Z",
     "shell.execute_reply.started": "2024-12-13T14:26:12.685950Z"
    }
   },
   "outputs": [
    {
     "data": {
      "text/plain": [
       "'s'"
      ]
     },
     "execution_count": 12,
     "metadata": {},
     "output_type": "execute_result"
    }
   ],
   "source": [
    "a :int = 's'\n"
   ]
  },
  {
   "cell_type": "code",
   "execution_count": 16,
   "id": "58fe5e74-a5d8-4021-9826-d46e815c97cb",
   "metadata": {
    "execution": {
     "iopub.execute_input": "2024-12-13T14:37:37.272719Z",
     "iopub.status.busy": "2024-12-13T14:37:37.272036Z",
     "iopub.status.idle": "2024-12-13T14:37:37.281098Z",
     "shell.execute_reply": "2024-12-13T14:37:37.279472Z",
     "shell.execute_reply.started": "2024-12-13T14:37:37.272663Z"
    }
   },
   "outputs": [
    {
     "data": {
      "text/plain": [
       "[1, 2, 1, 2]"
      ]
     },
     "execution_count": 16,
     "metadata": {},
     "output_type": "execute_result"
    }
   ],
   "source": [
    "[1, 2]*2"
   ]
  },
  {
   "cell_type": "code",
   "execution_count": 19,
   "id": "81ccf61e-c959-4fc3-aaa8-c2b6dfe033ec",
   "metadata": {
    "execution": {
     "iopub.execute_input": "2024-12-13T14:38:41.391419Z",
     "iopub.status.busy": "2024-12-13T14:38:41.390705Z",
     "iopub.status.idle": "2024-12-13T14:38:41.400463Z",
     "shell.execute_reply": "2024-12-13T14:38:41.399761Z",
     "shell.execute_reply.started": "2024-12-13T14:38:41.391367Z"
    }
   },
   "outputs": [
    {
     "data": {
      "text/plain": [
       "True"
      ]
     },
     "execution_count": 19,
     "metadata": {},
     "output_type": "execute_result"
    }
   ],
   "source": [
    "a = True\n",
    "b = 1\n",
    "a == b"
   ]
  }
 ],
 "metadata": {
  "kernelspec": {
   "display_name": "Python 3 (ipykernel)",
   "language": "python",
   "name": "python3"
  },
  "language_info": {
   "codemirror_mode": {
    "name": "ipython",
    "version": 3
   },
   "file_extension": ".py",
   "mimetype": "text/x-python",
   "name": "python",
   "nbconvert_exporter": "python",
   "pygments_lexer": "ipython3",
   "version": "3.9.6"
  }
 },
 "nbformat": 4,
 "nbformat_minor": 5
}
