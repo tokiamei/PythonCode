{
 "cells": [
  {
   "cell_type": "code",
   "execution_count": 24,
   "id": "83e258a4-c8d0-4b5a-b37a-ded334e5e9c1",
   "metadata": {
    "execution": {
     "iopub.execute_input": "2024-12-13T13:53:02.929571Z",
     "iopub.status.busy": "2024-12-13T13:53:02.928955Z",
     "iopub.status.idle": "2024-12-13T13:53:02.934679Z",
     "shell.execute_reply": "2024-12-13T13:53:02.933632Z",
     "shell.execute_reply.started": "2024-12-13T13:53:02.929524Z"
    }
   },
   "outputs": [],
   "source": [
    "def f(a: int, b: int) -> int:\n",
    "    return a + b\n",
    "\n",
    "# f(1, 'a')"
   ]
  },
  {
   "cell_type": "code",
   "execution_count": 25,
   "id": "e4cf1b37-3601-4752-8516-1ffdb304d9e1",
   "metadata": {
    "execution": {
     "iopub.execute_input": "2024-12-13T13:53:04.238200Z",
     "iopub.status.busy": "2024-12-13T13:53:04.237457Z",
     "iopub.status.idle": "2024-12-13T13:53:04.247819Z",
     "shell.execute_reply": "2024-12-13T13:53:04.246652Z",
     "shell.execute_reply.started": "2024-12-13T13:53:04.238149Z"
    }
   },
   "outputs": [
    {
     "data": {
      "text/plain": [
       "True"
      ]
     },
     "execution_count": 25,
     "metadata": {},
     "output_type": "execute_result"
    }
   ],
   "source": [
    "def fun1(a: int, b: int):\n",
    "    return a\n",
    "fun1(True, range(10))"
   ]
  }
 ],
 "metadata": {
  "kernelspec": {
   "display_name": "Python 3 (ipykernel)",
   "language": "python",
   "name": "python3"
  },
  "language_info": {
   "codemirror_mode": {
    "name": "ipython",
    "version": 3
   },
   "file_extension": ".py",
   "mimetype": "text/x-python",
   "name": "python",
   "nbconvert_exporter": "python",
   "pygments_lexer": "ipython3",
   "version": "3.9.6"
  }
 },
 "nbformat": 4,
 "nbformat_minor": 5
}
