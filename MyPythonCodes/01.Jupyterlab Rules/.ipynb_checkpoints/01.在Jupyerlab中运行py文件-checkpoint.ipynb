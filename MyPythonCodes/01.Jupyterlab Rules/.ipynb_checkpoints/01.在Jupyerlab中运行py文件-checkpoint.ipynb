{
 "cells": [
  {
   "cell_type": "markdown",
   "id": "37e0a5a2-9d97-440f-b9fd-740c16e3a1b1",
   "metadata": {},
   "source": [
    "# 把当前目录下的 `.py` 文件的代码加载到 cell 中"
   ]
  },
  {
   "cell_type": "code",
   "execution_count": 12,
   "id": "d213e50a-e2f4-4145-aeba-d77c938e86cd",
   "metadata": {
    "execution": {
     "iopub.execute_input": "2024-11-16T18:00:23.173759Z",
     "iopub.status.busy": "2024-11-16T18:00:23.173174Z",
     "iopub.status.idle": "2024-11-16T18:00:23.181240Z",
     "shell.execute_reply": "2024-11-16T18:00:23.180081Z",
     "shell.execute_reply.started": "2024-11-16T18:00:23.173667Z"
    }
   },
   "outputs": [],
   "source": [
    "# %load test.py\n",
    "print(\"+++++\")\n",
    "a = 1"
   ]
  },
  {
   "cell_type": "markdown",
   "id": "04453605-cad2-46ba-a5a5-58ec736c63f0",
   "metadata": {},
   "source": [
    "# 直接运行当前目录下的 .py 文件"
   ]
  },
  {
   "cell_type": "code",
   "execution_count": 9,
   "id": "15425d6b-d0ec-4cfa-ab51-b34a06491e61",
   "metadata": {
    "execution": {
     "iopub.execute_input": "2024-11-16T18:00:07.724189Z",
     "iopub.status.busy": "2024-11-16T18:00:07.723541Z",
     "iopub.status.idle": "2024-11-16T18:00:07.731296Z",
     "shell.execute_reply": "2024-11-16T18:00:07.730541Z",
     "shell.execute_reply.started": "2024-11-16T18:00:07.724144Z"
    }
   },
   "outputs": [
    {
     "name": "stdout",
     "output_type": "stream",
     "text": [
      "+++++\n"
     ]
    }
   ],
   "source": [
    "%run test.py"
   ]
  },
  {
   "cell_type": "code",
   "execution_count": null,
   "id": "9f7928a5-240d-4dce-9291-314fe63e763b",
   "metadata": {},
   "outputs": [],
   "source": []
  },
  {
   "cell_type": "code",
   "execution_count": null,
   "id": "3cec5fa0-0d03-4cf2-b864-98e99fdcc3fe",
   "metadata": {},
   "outputs": [],
   "source": []
  }
 ],
 "metadata": {
  "kernelspec": {
   "display_name": "Python 3 (ipykernel)",
   "language": "python",
   "name": "python3"
  },
  "language_info": {
   "codemirror_mode": {
    "name": "ipython",
    "version": 3
   },
   "file_extension": ".py",
   "mimetype": "text/x-python",
   "name": "python",
   "nbconvert_exporter": "python",
   "pygments_lexer": "ipython3",
   "version": "3.9.6"
  },
  "widgets": {
   "application/vnd.jupyter.widget-state+json": {
    "state": {},
    "version_major": 2,
    "version_minor": 0
   }
  }
 },
 "nbformat": 4,
 "nbformat_minor": 5
}
