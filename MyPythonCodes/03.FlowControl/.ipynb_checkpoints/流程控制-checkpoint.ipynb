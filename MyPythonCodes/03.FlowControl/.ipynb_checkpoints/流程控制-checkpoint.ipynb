{
 "cells": [
  {
   "cell_type": "code",
   "execution_count": null,
   "id": "ab9b5a03-8098-4c34-89d5-d690ed9725d9",
   "metadata": {},
   "outputs": [],
   "source": [
    "from tqdm.notebook import tqdm, trange"
   ]
  },
  {
   "cell_type": "markdown",
   "id": "31fb303f-1bbd-443d-b69c-a85879b7099e",
   "metadata": {
    "tags": []
   },
   "source": [
    "# 1、if判断"
   ]
  },
  {
   "cell_type": "code",
   "execution_count": null,
   "id": "7c061080-a76c-4bcc-8907-8d0d8dc651fa",
   "metadata": {},
   "outputs": [],
   "source": [
    "\"\"\"\n",
    "判断输入的边长能否构成三角形，如果能则计算出三角形的周长和面积\n",
    "\"\"\"\n",
    "a = float(input('a = '))\n",
    "b = float(input('b = '))\n",
    "c = float(input('c = '))\n",
    "\n",
    "if a + b > c and a + c > b and b + c > a:\n",
    "  p = a + b + c\n",
    "  print('周长: %f' % p)\n",
    "  area = (p * (p - a) * (p - b) * (p - c)) ** 0.5\n",
    "  print('面积: %f' % area)\n",
    "else:\n",
    "  print('不能构成三角形')"
   ]
  },
  {
   "cell_type": "code",
   "execution_count": null,
   "id": "98f29e93-a76a-40b9-ad1b-484b63b2f088",
   "metadata": {},
   "outputs": [],
   "source": []
  },
  {
   "cell_type": "code",
   "execution_count": null,
   "id": "40b2ef8c-c219-40ca-b489-64d72c8723c5",
   "metadata": {},
   "outputs": [],
   "source": []
  },
  {
   "cell_type": "markdown",
   "id": "571cc3f9-922c-47fc-8cd0-396c1466698e",
   "metadata": {
    "tags": []
   },
   "source": [
    "# 2、循环结构\n",
    "\n"
   ]
  },
  {
   "cell_type": "markdown",
   "id": "bb00a24b-258e-4b98-a89a-9f9219b24adc",
   "metadata": {},
   "source": [
    "## for 循环"
   ]
  },
  {
   "cell_type": "code",
   "execution_count": null,
   "id": "7d136ca5-ef83-49d0-a4f6-9d1c7fb45bf5",
   "metadata": {
    "tags": []
   },
   "outputs": [],
   "source": [
    "\"\"\"\n",
    "用 for 循环实现 1~100 求和\n",
    "\"\"\"\n",
    "sum = 0\n",
    "for i in range(101):\n",
    "  sum += i\n",
    "print(sum)"
   ]
  },
  {
   "cell_type": "code",
   "execution_count": null,
   "id": "9a8d8f6e-b819-4c12-bdc9-76cc6f75a78f",
   "metadata": {},
   "outputs": [],
   "source": [
    "for i in trange(10000):\n",
    "    for j in range(1000):\n",
    "        print(i * j, end='\\r')"
   ]
  },
  {
   "cell_type": "markdown",
   "id": "d8a172de-8b76-41d8-9ab3-0b94b34799c7",
   "metadata": {},
   "source": [
    "## while 循环"
   ]
  },
  {
   "cell_type": "code",
   "execution_count": null,
   "id": "6221e262-3bff-4446-b8f0-39209ce42137",
   "metadata": {},
   "outputs": [],
   "source": [
    "\"\"\"\n",
    "“猜数字”的小游戏\n",
    "\"\"\"\n",
    "import random\n",
    "answer = random.randint(1, 100)\n",
    "counter = 0\n",
    "while True:\n",
    "\tcounter += 1\n",
    "\tnumber = int(input('请输入: '))\n",
    "\tif number < answer: \n",
    "\t\tprint('大一点')\n",
    "\telif number > answer: \n",
    "\t\tprint('小一点')\n",
    "\telse: \n",
    "\t\tprint('你猜对了')\n",
    "\t\tbreak\n",
    "\t\n",
    "print('你总共猜了 %d 次' % counter)\n",
    "# if counter > 7: print('你的智商不足')\n",
    "  "
   ]
  },
  {
   "cell_type": "code",
   "execution_count": null,
   "id": "4b5af383-3c4c-4cab-a2b8-3dfdefb58a74",
   "metadata": {},
   "outputs": [],
   "source": [
    "# 计算 1~100 之间所有偶数\n",
    "a = 1\n",
    "s = 0\n",
    "while a < 100 :\n",
    "    if a % 2 == 0:\n",
    "        s += a\n",
    "    a += 1\n",
    "print(s)"
   ]
  },
  {
   "cell_type": "code",
   "execution_count": null,
   "id": "f277dc86-4e41-41ce-b21e-09af4b4fdb1b",
   "metadata": {
    "editable": true,
    "slideshow": {
     "slide_type": ""
    },
    "tags": []
   },
   "outputs": [],
   "source": [
    "# 斐波拉契数列\n",
    "a, b = 0, 1\n",
    "while a < 10:\n",
    "  print(a, end=', ')\n",
    "  a, b = b, a + b"
   ]
  },
  {
   "cell_type": "markdown",
   "id": "9d0ee825-e31b-423d-a4b5-03b7ab1af825",
   "metadata": {},
   "source": [
    "## 嵌套循环"
   ]
  },
  {
   "cell_type": "code",
   "execution_count": null,
   "id": "20e4efd8-0cea-4536-a09a-a44a5fa57143",
   "metadata": {
    "tags": []
   },
   "outputs": [],
   "source": [
    "\"\"\"\n",
    "九九乘法口诀\n",
    "\"\"\"\n",
    "for i in range(1, 10):\n",
    "    for j in range(1, i + 1):\n",
    "        print('%d*%d=%d' % (i, j, i * j), end='\\t')\n",
    "    print()"
   ]
  },
  {
   "cell_type": "markdown",
   "id": "0fc6a3be-6c7e-4a27-b386-427eb45f6e15",
   "metadata": {},
   "source": [
    "# 练习"
   ]
  },
  {
   "cell_type": "code",
   "execution_count": null,
   "id": "5f62d9d7-1252-4bb3-b129-368bf6a62584",
   "metadata": {
    "tags": []
   },
   "outputs": [],
   "source": [
    "\"\"\"\n",
    "判断一个正整数是不是素数\n",
    "【素数】:只能被 1 和本身整除的大于 1 的整数\n",
    "\"\"\"\n",
    "import random \n",
    "num = random.randint(2, 100)\n",
    "flag = 0\n",
    "for i in range(2, num):\n",
    "\tif num % i == 0:\n",
    "\t\tflag = 1\n",
    "\t\tbreak\n",
    "if flag == 1: print('%d 不是素数' % num)\n",
    "else: print('%d 是素数' % num)"
   ]
  },
  {
   "cell_type": "code",
   "execution_count": null,
   "id": "d8bc3804-50aa-4ca1-b290-3b1aa72657b9",
   "metadata": {},
   "outputs": [],
   "source": [
    "\"\"\"\n",
    "输入两个正整数，计算它们的最大公约数和最小公倍数\n",
    "1.最大公约数算法\n",
    "\t两个数公因数中最大的那个\n",
    "2.最小公倍数\n",
    "\t两个数的乘积/最大公约数\n",
    "\"\"\"\n",
    "import random \n",
    "num1 = random.randint(1, 100)\n",
    "num2 = random.randint(1, 100)\n",
    "print(num1, num2)\n",
    "arr = []\n",
    "for i in range(1, min(num1, num2) + 1):\n",
    "\tif (num1 % i == 0 and num2 % i ==0):\n",
    "\t\tarr.append(i)\n",
    "\n",
    "print('最大公约数: %d' % max(arr))\n",
    "print('最小公倍数: %d' % (num1 * num2 / max(arr)))"
   ]
  },
  {
   "cell_type": "code",
   "execution_count": null,
   "id": "b197e6db-d877-41d2-9552-29dab5b629b6",
   "metadata": {},
   "outputs": [],
   "source": [
    "\"\"\"\n",
    "打印三角形图案\n",
    "\"\"\"\n",
    "sum = ''\n",
    "for i in range(1,  6):\n",
    "\tsum += '*'\n",
    "\tprint(sum, end = '\\n')\n"
   ]
  }
 ],
 "metadata": {
  "kernelspec": {
   "display_name": "Python 3 (ipykernel)",
   "language": "python",
   "name": "python3"
  },
  "language_info": {
   "codemirror_mode": {
    "name": "ipython",
    "version": 3
   },
   "file_extension": ".py",
   "mimetype": "text/x-python",
   "name": "python",
   "nbconvert_exporter": "python",
   "pygments_lexer": "ipython3",
   "version": "3.9.6"
  },
  "widgets": {
   "application/vnd.jupyter.widget-state+json": {
    "state": {},
    "version_major": 2,
    "version_minor": 0
   }
  }
 },
 "nbformat": 4,
 "nbformat_minor": 5
}
